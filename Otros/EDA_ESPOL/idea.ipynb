{
 "cells": [
  {
   "cell_type": "code",
   "execution_count": null,
   "metadata": {},
   "outputs": [],
   "source": [
    "import pandas as pd\n",
    "import numpy as np\n",
    "import seaborn as sns\n",
    "import matplotlib.pyplot as plt\n",
    "import datetime as dt\n",
    "import os\n",
    "import plotly.express as px\n",
    "import cufflinks as cf\n",
    "from IPython.display import display,HTML\n",
    "\n",
    "cf.set_config_file(sharing=\"public\",theme=\"ggplot\", offline=True)"
   ]
  },
  {
   "cell_type": "code",
   "execution_count": null,
   "metadata": {},
   "outputs": [],
   "source": [
    "#df_H Horario_aula_20230302 is about classroom timetable  PAE\n",
    "#df-PE Rpt PlanifHorarioExam_20230120  SEMESTRE\n",
    "\"\"\"data_folder = '/content/drive/MyDrive/EDA_ Group_Slytherin /EDA_ESPOL'\n",
    "df_H_p = pd.read_csv(os.path.join(data_folder,'data.csv'))\n",
    "df_PE_s = pd.read_excel(os.path.join(data_folder,'Rpt PlanifHorarioExam_20230120.xlsx'),sheet_name='Sheet1')\"\"\"\n",
    "df_H_p = pd.read_csv('data.csv')\n",
    "df_PE_s = pd.read_excel('Rpt PlanifHorarioExam_20230120.xlsx',sheet_name='Sheet1')"
   ]
  }
 ],
 "metadata": {
  "language_info": {
   "name": "python"
  },
  "orig_nbformat": 4
 },
 "nbformat": 4,
 "nbformat_minor": 2
}
