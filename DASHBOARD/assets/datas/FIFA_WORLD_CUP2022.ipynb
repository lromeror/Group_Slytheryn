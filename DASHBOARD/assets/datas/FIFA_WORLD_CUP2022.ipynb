{
 "cells": [
  {
   "attachments": {},
   "cell_type": "markdown",
   "metadata": {},
   "source": [
    "<h1 style=\"text-align:center\">\n",
    "    <span style=\"color:lightgreen\">EXPLORATORY DATA ANALYSIS</span> \n",
    "</h1>\n",
    "<h1 style=\"text-align:justify\">\n",
    "    <span style=\"color:lightgreen\">FIFA_WORLD_CUP2022</span>\n",
    "</h1>\n"
   ]
  },
  {
   "cell_type": "code",
   "execution_count": 52,
   "metadata": {},
   "outputs": [],
   "source": [
    "import numpy as np\n",
    "import pandas as pd\n",
    "import plotly.express as px\n",
    "import os\n",
    "import requests\n",
    "import plotly.graph_objects as go"
   ]
  },
  {
   "cell_type": "code",
<<<<<<< HEAD
   "execution_count": 2,
=======
   "execution_count": 53,
>>>>>>> d20e0f0c979d08449127054dcb41934fa686c483
   "metadata": {},
   "outputs": [],
   "source": [
    "pd.set_option('display.max_columns', 100)"
   ]
  },
  {
   "cell_type": "code",
<<<<<<< HEAD
   "execution_count": 3,
=======
   "execution_count": 54,
>>>>>>> d20e0f0c979d08449127054dcb41934fa686c483
   "metadata": {},
   "outputs": [
    {
     "data": {
      "text/html": [
       "<div>\n",
       "<style scoped>\n",
       "    .dataframe tbody tr th:only-of-type {\n",
       "        vertical-align: middle;\n",
       "    }\n",
       "\n",
       "    .dataframe tbody tr th {\n",
       "        vertical-align: top;\n",
       "    }\n",
       "\n",
       "    .dataframe thead th {\n",
       "        text-align: right;\n",
       "    }\n",
       "</style>\n",
       "<table border=\"1\" class=\"dataframe\">\n",
       "  <thead>\n",
       "    <tr style=\"text-align: right;\">\n",
       "      <th></th>\n",
       "      <th>player</th>\n",
       "      <th>position</th>\n",
       "      <th>team</th>\n",
       "      <th>age</th>\n",
       "      <th>age2</th>\n",
       "      <th>club</th>\n",
       "      <th>birth_year</th>\n",
       "      <th>games</th>\n",
       "      <th>games_starts</th>\n",
       "      <th>minutes</th>\n",
       "      <th>minutes_90s</th>\n",
       "      <th>goals</th>\n",
       "      <th>assists</th>\n",
       "      <th>goals_pens</th>\n",
       "      <th>pens_made</th>\n",
       "      <th>pens_att</th>\n",
       "      <th>cards_yellow</th>\n",
       "      <th>cards_red</th>\n",
       "      <th>goals_per90</th>\n",
       "      <th>assists_per90</th>\n",
       "      <th>goals_assists_per90</th>\n",
       "      <th>goals_pens_per90</th>\n",
       "      <th>goals_assists_pens_per90</th>\n",
       "      <th>xg</th>\n",
       "      <th>npxg</th>\n",
       "      <th>xg_assist</th>\n",
       "      <th>npxg_xg_assist</th>\n",
       "      <th>xg_per90</th>\n",
       "      <th>xg_assist_per90</th>\n",
       "      <th>xg_xg_assist_per90</th>\n",
       "      <th>npxg_per90</th>\n",
       "      <th>npxg_xg_assist_per90</th>\n",
       "    </tr>\n",
       "  </thead>\n",
       "  <tbody>\n",
       "    <tr>\n",
       "      <th>330</th>\n",
       "      <td>Julián Álvarez</td>\n",
       "      <td>FW</td>\n",
       "      <td>Argentina</td>\n",
       "      <td>22-321</td>\n",
       "      <td>22</td>\n",
       "      <td>Manchester City</td>\n",
       "      <td>2000</td>\n",
       "      <td>7</td>\n",
       "      <td>5</td>\n",
       "      <td>464</td>\n",
       "      <td>52</td>\n",
       "      <td>4</td>\n",
       "      <td>0</td>\n",
       "      <td>4</td>\n",
       "      <td>0</td>\n",
       "      <td>0</td>\n",
       "      <td>0</td>\n",
       "      <td>0</td>\n",
       "      <td>78</td>\n",
       "      <td>0</td>\n",
       "      <td>78</td>\n",
       "      <td>78</td>\n",
       "      <td>78</td>\n",
       "      <td>26.0</td>\n",
       "      <td>26.0</td>\n",
       "      <td>1.0</td>\n",
       "      <td>27.0</td>\n",
       "      <td>51.0</td>\n",
       "      <td>2.0</td>\n",
       "      <td>53.0</td>\n",
       "      <td>51.0</td>\n",
       "      <td>53.0</td>\n",
       "    </tr>\n",
       "  </tbody>\n",
       "</table>\n",
       "</div>"
      ],
      "text/plain": [
       "             player position       team     age  age2             club   \n",
       "330  Julián Álvarez       FW  Argentina  22-321    22  Manchester City  \\\n",
       "\n",
       "     birth_year  games  games_starts  minutes  minutes_90s  goals  assists   \n",
       "330        2000      7             5      464           52      4        0  \\\n",
       "\n",
       "     goals_pens  pens_made  pens_att  cards_yellow  cards_red  goals_per90   \n",
       "330           4          0         0             0          0           78  \\\n",
       "\n",
       "     assists_per90  goals_assists_per90  goals_pens_per90   \n",
       "330              0                   78                78  \\\n",
       "\n",
       "     goals_assists_pens_per90    xg  npxg  xg_assist  npxg_xg_assist   \n",
       "330                        78  26.0  26.0        1.0            27.0  \\\n",
       "\n",
       "     xg_per90  xg_assist_per90  xg_xg_assist_per90  npxg_per90   \n",
       "330      51.0              2.0                53.0        51.0  \\\n",
       "\n",
       "     npxg_xg_assist_per90  \n",
       "330                  53.0  "
      ]
     },
<<<<<<< HEAD
     "execution_count": 3,
=======
     "execution_count": 54,
>>>>>>> d20e0f0c979d08449127054dcb41934fa686c483
     "metadata": {},
     "output_type": "execute_result"
    }
   ],
   "source": [
    "players_fifa_wc2022= pd.read_excel('../datas/Players.xlsx',sheet_name='player_stats')\n",
    "players_fifa_wc2022.replace('Angel Di Mar�a','Angel Di María',inplace=True)\n",
    "players_fifa_wc2022.replace('A�ssa La�douni','Aissa Laidouni',inplace=True)\n",
    "players_fifa_wc2022.query(\" team =='Argentina' & age2<25 & goals >1\")\n"
   ]
  },
  {
   "cell_type": "code",
<<<<<<< HEAD
   "execution_count": 4,
=======
   "execution_count": 55,
>>>>>>> d20e0f0c979d08449127054dcb41934fa686c483
   "metadata": {},
   "outputs": [
    {
     "data": {
      "text/plain": [
       "array(['Adrien Rabiot', 'Antoine Griezmann', 'Aurélien Tchouaméni',\n",
       "       'Axel Disasi', 'Benjamin Pavard', 'Dayot Upamecano',\n",
       "       'Eduardo Camavinga', 'Hugo Lloris', 'Ibrahima Konaté',\n",
       "       'Jordan Veretout', 'Jules Koundé', 'Kingsley Coman',\n",
       "       'Kylian Mbappe', 'Lucas Hernández', 'Marcus Thuram',\n",
       "       'Mattéo Guendouzi', 'Olivier Giroud', 'Ousmane Dembélé',\n",
       "       'Randal Kolo Muani', 'Raphaël Varane', 'Steve Mandanda',\n",
       "       'Theo Hernández', 'William Saliba', 'Youssouf Fofana'],\n",
       "      dtype=object)"
      ]
     },
<<<<<<< HEAD
     "execution_count": 4,
=======
     "execution_count": 55,
>>>>>>> d20e0f0c979d08449127054dcb41934fa686c483
     "metadata": {},
     "output_type": "execute_result"
    }
   ],
   "source": [
    "players_fifa_wc2022[players_fifa_wc2022.team=='France']['player'].unique()"
   ]
  },
  {
   "cell_type": "code",
<<<<<<< HEAD
   "execution_count": 5,
=======
   "execution_count": 56,
>>>>>>> d20e0f0c979d08449127054dcb41934fa686c483
   "metadata": {},
   "outputs": [
    {
     "ename": "OSError",
     "evalue": "Cannot save file into a non-existent directory: '\\Users\\angelozurita\\Repositorios_GitHub\\Group_Slytheryn\\DASHBOARD\\assets\\datas'",
     "output_type": "error",
     "traceback": [
      "\u001b[1;31m---------------------------------------------------------------------------\u001b[0m",
      "\u001b[1;31mOSError\u001b[0m                                   Traceback (most recent call last)",
      "Cell \u001b[1;32mIn[5], line 6\u001b[0m\n\u001b[0;32m      4\u001b[0m \u001b[39mfor\u001b[39;00m x \u001b[39min\u001b[39;00m [\u001b[39m'\u001b[39m\u001b[39m1\u001b[39m\u001b[39m'\u001b[39m,\u001b[39m'\u001b[39m\u001b[39m2\u001b[39m\u001b[39m'\u001b[39m]:\n\u001b[0;32m      5\u001b[0m     matches_fifa_wc2022[x] \u001b[39m=\u001b[39m  matches_fifa_wc2022[x]\u001b[39m.\u001b[39mstr\u001b[39m.\u001b[39mtitle()\n\u001b[1;32m----> 6\u001b[0m matches_fifa_wc2022\u001b[39m.\u001b[39;49mto_csv(\u001b[39m\"\u001b[39;49m\u001b[39m/Users/angelozurita/Repositorios_GitHub/Group_Slytheryn/DASHBOARD/assets/datas/Matches.csv\u001b[39;49m\u001b[39m\"\u001b[39;49m,index\u001b[39m=\u001b[39;49m\u001b[39mFalse\u001b[39;49;00m)\n",
      "File \u001b[1;32mc:\\Users\\USUARIO_PC\\espol_w_env\\Lib\\site-packages\\pandas\\core\\generic.py:3772\u001b[0m, in \u001b[0;36mNDFrame.to_csv\u001b[1;34m(self, path_or_buf, sep, na_rep, float_format, columns, header, index, index_label, mode, encoding, compression, quoting, quotechar, lineterminator, chunksize, date_format, doublequote, escapechar, decimal, errors, storage_options)\u001b[0m\n\u001b[0;32m   3761\u001b[0m df \u001b[39m=\u001b[39m \u001b[39mself\u001b[39m \u001b[39mif\u001b[39;00m \u001b[39misinstance\u001b[39m(\u001b[39mself\u001b[39m, ABCDataFrame) \u001b[39melse\u001b[39;00m \u001b[39mself\u001b[39m\u001b[39m.\u001b[39mto_frame()\n\u001b[0;32m   3763\u001b[0m formatter \u001b[39m=\u001b[39m DataFrameFormatter(\n\u001b[0;32m   3764\u001b[0m     frame\u001b[39m=\u001b[39mdf,\n\u001b[0;32m   3765\u001b[0m     header\u001b[39m=\u001b[39mheader,\n\u001b[1;32m   (...)\u001b[0m\n\u001b[0;32m   3769\u001b[0m     decimal\u001b[39m=\u001b[39mdecimal,\n\u001b[0;32m   3770\u001b[0m )\n\u001b[1;32m-> 3772\u001b[0m \u001b[39mreturn\u001b[39;00m DataFrameRenderer(formatter)\u001b[39m.\u001b[39;49mto_csv(\n\u001b[0;32m   3773\u001b[0m     path_or_buf,\n\u001b[0;32m   3774\u001b[0m     lineterminator\u001b[39m=\u001b[39;49mlineterminator,\n\u001b[0;32m   3775\u001b[0m     sep\u001b[39m=\u001b[39;49msep,\n\u001b[0;32m   3776\u001b[0m     encoding\u001b[39m=\u001b[39;49mencoding,\n\u001b[0;32m   3777\u001b[0m     errors\u001b[39m=\u001b[39;49merrors,\n\u001b[0;32m   3778\u001b[0m     compression\u001b[39m=\u001b[39;49mcompression,\n\u001b[0;32m   3779\u001b[0m     quoting\u001b[39m=\u001b[39;49mquoting,\n\u001b[0;32m   3780\u001b[0m     columns\u001b[39m=\u001b[39;49mcolumns,\n\u001b[0;32m   3781\u001b[0m     index_label\u001b[39m=\u001b[39;49mindex_label,\n\u001b[0;32m   3782\u001b[0m     mode\u001b[39m=\u001b[39;49mmode,\n\u001b[0;32m   3783\u001b[0m     chunksize\u001b[39m=\u001b[39;49mchunksize,\n\u001b[0;32m   3784\u001b[0m     quotechar\u001b[39m=\u001b[39;49mquotechar,\n\u001b[0;32m   3785\u001b[0m     date_format\u001b[39m=\u001b[39;49mdate_format,\n\u001b[0;32m   3786\u001b[0m     doublequote\u001b[39m=\u001b[39;49mdoublequote,\n\u001b[0;32m   3787\u001b[0m     escapechar\u001b[39m=\u001b[39;49mescapechar,\n\u001b[0;32m   3788\u001b[0m     storage_options\u001b[39m=\u001b[39;49mstorage_options,\n\u001b[0;32m   3789\u001b[0m )\n",
      "File \u001b[1;32mc:\\Users\\USUARIO_PC\\espol_w_env\\Lib\\site-packages\\pandas\\io\\formats\\format.py:1186\u001b[0m, in \u001b[0;36mDataFrameRenderer.to_csv\u001b[1;34m(self, path_or_buf, encoding, sep, columns, index_label, mode, compression, quoting, quotechar, lineterminator, chunksize, date_format, doublequote, escapechar, errors, storage_options)\u001b[0m\n\u001b[0;32m   1165\u001b[0m     created_buffer \u001b[39m=\u001b[39m \u001b[39mFalse\u001b[39;00m\n\u001b[0;32m   1167\u001b[0m csv_formatter \u001b[39m=\u001b[39m CSVFormatter(\n\u001b[0;32m   1168\u001b[0m     path_or_buf\u001b[39m=\u001b[39mpath_or_buf,\n\u001b[0;32m   1169\u001b[0m     lineterminator\u001b[39m=\u001b[39mlineterminator,\n\u001b[1;32m   (...)\u001b[0m\n\u001b[0;32m   1184\u001b[0m     formatter\u001b[39m=\u001b[39m\u001b[39mself\u001b[39m\u001b[39m.\u001b[39mfmt,\n\u001b[0;32m   1185\u001b[0m )\n\u001b[1;32m-> 1186\u001b[0m csv_formatter\u001b[39m.\u001b[39;49msave()\n\u001b[0;32m   1188\u001b[0m \u001b[39mif\u001b[39;00m created_buffer:\n\u001b[0;32m   1189\u001b[0m     \u001b[39massert\u001b[39;00m \u001b[39misinstance\u001b[39m(path_or_buf, StringIO)\n",
      "File \u001b[1;32mc:\\Users\\USUARIO_PC\\espol_w_env\\Lib\\site-packages\\pandas\\io\\formats\\csvs.py:240\u001b[0m, in \u001b[0;36mCSVFormatter.save\u001b[1;34m(self)\u001b[0m\n\u001b[0;32m    236\u001b[0m \u001b[39m\u001b[39m\u001b[39m\"\"\"\u001b[39;00m\n\u001b[0;32m    237\u001b[0m \u001b[39mCreate the writer & save.\u001b[39;00m\n\u001b[0;32m    238\u001b[0m \u001b[39m\"\"\"\u001b[39;00m\n\u001b[0;32m    239\u001b[0m \u001b[39m# apply compression and byte/text conversion\u001b[39;00m\n\u001b[1;32m--> 240\u001b[0m \u001b[39mwith\u001b[39;00m get_handle(\n\u001b[0;32m    241\u001b[0m     \u001b[39mself\u001b[39;49m\u001b[39m.\u001b[39;49mfilepath_or_buffer,\n\u001b[0;32m    242\u001b[0m     \u001b[39mself\u001b[39;49m\u001b[39m.\u001b[39;49mmode,\n\u001b[0;32m    243\u001b[0m     encoding\u001b[39m=\u001b[39;49m\u001b[39mself\u001b[39;49m\u001b[39m.\u001b[39;49mencoding,\n\u001b[0;32m    244\u001b[0m     errors\u001b[39m=\u001b[39;49m\u001b[39mself\u001b[39;49m\u001b[39m.\u001b[39;49merrors,\n\u001b[0;32m    245\u001b[0m     compression\u001b[39m=\u001b[39;49m\u001b[39mself\u001b[39;49m\u001b[39m.\u001b[39;49mcompression,\n\u001b[0;32m    246\u001b[0m     storage_options\u001b[39m=\u001b[39;49m\u001b[39mself\u001b[39;49m\u001b[39m.\u001b[39;49mstorage_options,\n\u001b[0;32m    247\u001b[0m ) \u001b[39mas\u001b[39;00m handles:\n\u001b[0;32m    248\u001b[0m     \u001b[39m# Note: self.encoding is irrelevant here\u001b[39;00m\n\u001b[0;32m    249\u001b[0m     \u001b[39mself\u001b[39m\u001b[39m.\u001b[39mwriter \u001b[39m=\u001b[39m csvlib\u001b[39m.\u001b[39mwriter(\n\u001b[0;32m    250\u001b[0m         handles\u001b[39m.\u001b[39mhandle,\n\u001b[0;32m    251\u001b[0m         lineterminator\u001b[39m=\u001b[39m\u001b[39mself\u001b[39m\u001b[39m.\u001b[39mlineterminator,\n\u001b[1;32m   (...)\u001b[0m\n\u001b[0;32m    256\u001b[0m         quotechar\u001b[39m=\u001b[39m\u001b[39mself\u001b[39m\u001b[39m.\u001b[39mquotechar,\n\u001b[0;32m    257\u001b[0m     )\n\u001b[0;32m    259\u001b[0m     \u001b[39mself\u001b[39m\u001b[39m.\u001b[39m_save()\n",
      "File \u001b[1;32mc:\\Users\\USUARIO_PC\\espol_w_env\\Lib\\site-packages\\pandas\\io\\common.py:737\u001b[0m, in \u001b[0;36mget_handle\u001b[1;34m(path_or_buf, mode, encoding, compression, memory_map, is_text, errors, storage_options)\u001b[0m\n\u001b[0;32m    735\u001b[0m \u001b[39m# Only for write methods\u001b[39;00m\n\u001b[0;32m    736\u001b[0m \u001b[39mif\u001b[39;00m \u001b[39m\"\u001b[39m\u001b[39mr\u001b[39m\u001b[39m\"\u001b[39m \u001b[39mnot\u001b[39;00m \u001b[39min\u001b[39;00m mode \u001b[39mand\u001b[39;00m is_path:\n\u001b[1;32m--> 737\u001b[0m     check_parent_directory(\u001b[39mstr\u001b[39;49m(handle))\n\u001b[0;32m    739\u001b[0m \u001b[39mif\u001b[39;00m compression:\n\u001b[0;32m    740\u001b[0m     \u001b[39mif\u001b[39;00m compression \u001b[39m!=\u001b[39m \u001b[39m\"\u001b[39m\u001b[39mzstd\u001b[39m\u001b[39m\"\u001b[39m:\n\u001b[0;32m    741\u001b[0m         \u001b[39m# compression libraries do not like an explicit text-mode\u001b[39;00m\n",
      "File \u001b[1;32mc:\\Users\\USUARIO_PC\\espol_w_env\\Lib\\site-packages\\pandas\\io\\common.py:600\u001b[0m, in \u001b[0;36mcheck_parent_directory\u001b[1;34m(path)\u001b[0m\n\u001b[0;32m    598\u001b[0m parent \u001b[39m=\u001b[39m Path(path)\u001b[39m.\u001b[39mparent\n\u001b[0;32m    599\u001b[0m \u001b[39mif\u001b[39;00m \u001b[39mnot\u001b[39;00m parent\u001b[39m.\u001b[39mis_dir():\n\u001b[1;32m--> 600\u001b[0m     \u001b[39mraise\u001b[39;00m \u001b[39mOSError\u001b[39;00m(\u001b[39mrf\u001b[39m\u001b[39m\"\u001b[39m\u001b[39mCannot save file into a non-existent directory: \u001b[39m\u001b[39m'\u001b[39m\u001b[39m{\u001b[39;00mparent\u001b[39m}\u001b[39;00m\u001b[39m'\u001b[39m\u001b[39m\"\u001b[39m)\n",
      "\u001b[1;31mOSError\u001b[0m: Cannot save file into a non-existent directory: '\\Users\\angelozurita\\Repositorios_GitHub\\Group_Slytheryn\\DASHBOARD\\assets\\datas'"
     ]
    }
   ],
   "source": [
    "matches_fifa_wc2022 = pd.read_excel('../datas/Matches.xlsx',sheet_name='Fifa_WC_2022_Match_data')\n",
    "matches_fifa_wc2022.columns=matches_fifa_wc2022.loc[0]\n",
    "matches_fifa_wc2022.drop(0,axis=0,inplace=True)\n",
    "for x in ['1','2']:\n",
    "    matches_fifa_wc2022[x] =  matches_fifa_wc2022[x].str.title()\n",
<<<<<<< HEAD
    "matches_fifa_wc2022.to_csv(\"ryn/DASHBOARD/assets/datas//Users/angelozurita/Repositorios_GitHub/Group_SlytheMatches.csv\",index=False)"
=======
    "#matches_fifa_wc2022.to_csv(\"/Users/angelozurita/Repositorios_GitHub/Group_Slytheryn/DASHBOARD/assets/datas/Matches.csv\",index=False)"
>>>>>>> d20e0f0c979d08449127054dcb41934fa686c483
   ]
  },
  {
   "cell_type": "code",
   "execution_count": null,
   "metadata": {},
   "outputs": [],
   "source": []
  },
  {
   "cell_type": "code",
<<<<<<< HEAD
   "execution_count": null,
=======
   "execution_count": 57,
>>>>>>> d20e0f0c979d08449127054dcb41934fa686c483
   "metadata": {},
   "outputs": [
    {
     "data": {
      "text/plain": [
       "(array(['Qatar', 'England', 'Senegal', 'United States', 'Argentina',\n",
       "        'Denmark', 'Mexico', 'France', 'Morocco', 'Germany', 'Spain',\n",
       "        'Belgium', 'Switzerland', 'Uruguay', 'Portugal', 'Brazil', 'Wales',\n",
       "        'Netherlands', 'Tunisia', 'Poland', 'Japan', 'Croatia', 'Cameroon',\n",
       "        'Korea Republic', 'Ecuador', 'Iran', 'Australia', 'Saudi Arabia',\n",
       "        'Canada', 'Costa Rica', 'Ghana', 'Serbia'], dtype=object),\n",
       " array(['Ecuador', 'Iran', 'Netherlands', 'Wales', 'Saudi Arabia',\n",
       "        'Tunisia', 'Poland', 'Australia', 'Croatia', 'Japan', 'Costa Rica',\n",
       "        'Canada', 'Cameroon', 'Korea Republic', 'Ghana', 'Serbia',\n",
       "        'Senegal', 'United States', 'Denmark', 'Mexico', 'Morocco',\n",
       "        'Germany', 'Switzerland', 'Uruguay', 'Qatar', 'England', 'France',\n",
       "        'Argentina', 'Belgium', 'Spain', 'Portugal', 'Brazil'],\n",
       "       dtype=object))"
      ]
     },
     "execution_count": 57,
     "metadata": {},
     "output_type": "execute_result"
    }
   ],
   "source": [
    "(matches_fifa_wc2022['1'].unique(),matches_fifa_wc2022['2'].unique())"
   ]
  },
  {
   "attachments": {},
   "cell_type": "markdown",
   "metadata": {},
   "source": [
    "## Group Stage\n",
    "\n",
    "\n",
    "\n"
   ]
  },
  {
   "cell_type": "code",
<<<<<<< HEAD
   "execution_count": null,
=======
   "execution_count": 58,
>>>>>>> d20e0f0c979d08449127054dcb41934fa686c483
   "metadata": {},
   "outputs": [
    {
     "data": {
      "text/html": [
       "<div>\n",
       "<style scoped>\n",
       "    .dataframe tbody tr th:only-of-type {\n",
       "        vertical-align: middle;\n",
       "    }\n",
       "\n",
       "    .dataframe tbody tr th {\n",
       "        vertical-align: top;\n",
       "    }\n",
       "\n",
       "    .dataframe thead th {\n",
       "        text-align: right;\n",
       "    }\n",
       "</style>\n",
       "<table border=\"1\" class=\"dataframe\">\n",
       "  <thead>\n",
       "    <tr style=\"text-align: right;\">\n",
       "      <th></th>\n",
       "      <th>match_no</th>\n",
       "      <th>day_of_week</th>\n",
       "      <th>date</th>\n",
       "      <th>hour</th>\n",
       "      <th>venue</th>\n",
       "      <th>referee</th>\n",
       "      <th>group</th>\n",
       "      <th>1</th>\n",
       "      <th>2</th>\n",
       "      <th>attendance</th>\n",
       "      <th>1_xg</th>\n",
       "      <th>2_xg</th>\n",
       "      <th>1_poss</th>\n",
       "      <th>2_poss</th>\n",
       "      <th>1_goals</th>\n",
       "      <th>2_goals</th>\n",
       "      <th>score</th>\n",
       "      <th>1_attempts</th>\n",
       "      <th>2_attempts</th>\n",
       "      <th>1_conceded</th>\n",
       "      <th>2_conceded</th>\n",
       "      <th>1_goal_inside_penalty_area</th>\n",
       "      <th>2_goal_inside_penalty_area</th>\n",
       "      <th>1_goal_outside_penalty_area</th>\n",
       "      <th>2_goal_outside_penalty_area</th>\n",
       "      <th>1_ontarget</th>\n",
       "      <th>2_ontarget</th>\n",
       "      <th>1_offtarget</th>\n",
       "      <th>2_offtarget</th>\n",
       "      <th>1_attempts_inside_penalty_area</th>\n",
       "      <th>2_attempts_inside_penalty_area</th>\n",
       "      <th>1_attempts_outside_penalty_area</th>\n",
       "      <th>2_attempts_outside_penalty_area</th>\n",
       "      <th>1_yellow_cards</th>\n",
       "      <th>2_yellow_cards</th>\n",
       "      <th>1_red_cards</th>\n",
       "      <th>2_red_cards</th>\n",
       "      <th>faul_against_1</th>\n",
       "      <th>faul_against_2</th>\n",
       "      <th>1_offsides</th>\n",
       "      <th>2_offsides</th>\n",
       "      <th>1_passes</th>\n",
       "      <th>2_passes</th>\n",
       "      <th>1_passes_compeletd</th>\n",
       "      <th>2_passes_compeletd</th>\n",
       "      <th>1_corners</th>\n",
       "      <th>2_corners</th>\n",
       "      <th>1_free_kicks</th>\n",
       "      <th>2_free_kicks</th>\n",
       "      <th>1_panelties_scored</th>\n",
       "      <th>2_panelties_scored</th>\n",
       "      <th>1_goal_prevented</th>\n",
       "      <th>2_goal_prevented</th>\n",
       "      <th>1_own_goal</th>\n",
       "      <th>2_own_goal</th>\n",
       "      <th>1_forced_turnovers</th>\n",
       "      <th>2_forced_turnovers</th>\n",
       "      <th>1_defensive_pressure_applied</th>\n",
       "      <th>2_defensive_pressure_applied</th>\n",
       "    </tr>\n",
       "  </thead>\n",
       "  <tbody>\n",
       "    <tr>\n",
       "      <th>1</th>\n",
       "      <td>1</td>\n",
       "      <td>Sun</td>\n",
       "      <td>20-Nov-22</td>\n",
       "      <td>17:00</td>\n",
       "      <td>Al Bayt Stadium</td>\n",
       "      <td>Daniele Orsato</td>\n",
       "      <td>Group A</td>\n",
       "      <td>Qatar</td>\n",
       "      <td>Ecuador</td>\n",
       "      <td>67372</td>\n",
       "      <td>0.3</td>\n",
       "      <td>1.2</td>\n",
       "      <td>47</td>\n",
       "      <td>53</td>\n",
       "      <td>0</td>\n",
       "      <td>2</td>\n",
       "      <td>0,2</td>\n",
       "      <td>5</td>\n",
       "      <td>6</td>\n",
       "      <td>2</td>\n",
       "      <td>0</td>\n",
       "      <td>0</td>\n",
       "      <td>2</td>\n",
       "      <td>0</td>\n",
       "      <td>0</td>\n",
       "      <td>0</td>\n",
       "      <td>3</td>\n",
       "      <td>5</td>\n",
       "      <td>3</td>\n",
       "      <td>2</td>\n",
       "      <td>4</td>\n",
       "      <td>3</td>\n",
       "      <td>2</td>\n",
       "      <td>4</td>\n",
       "      <td>2</td>\n",
       "      <td>0</td>\n",
       "      <td>0</td>\n",
       "      <td>15</td>\n",
       "      <td>15</td>\n",
       "      <td>3</td>\n",
       "      <td>4</td>\n",
       "      <td>450</td>\n",
       "      <td>480</td>\n",
       "      <td>381</td>\n",
       "      <td>409</td>\n",
       "      <td>1</td>\n",
       "      <td>3</td>\n",
       "      <td>19</td>\n",
       "      <td>17</td>\n",
       "      <td>0</td>\n",
       "      <td>1</td>\n",
       "      <td>6</td>\n",
       "      <td>5</td>\n",
       "      <td>0</td>\n",
       "      <td>0</td>\n",
       "      <td>52</td>\n",
       "      <td>72</td>\n",
       "      <td>256</td>\n",
       "      <td>279</td>\n",
       "    </tr>\n",
       "    <tr>\n",
       "      <th>2</th>\n",
       "      <td>2</td>\n",
       "      <td>Mon</td>\n",
       "      <td>21-Nov-22</td>\n",
       "      <td>14:00</td>\n",
       "      <td>Khalifa International Stadium</td>\n",
       "      <td>Raphael Claus</td>\n",
       "      <td>Group B</td>\n",
       "      <td>England</td>\n",
       "      <td>Iran</td>\n",
       "      <td>45334</td>\n",
       "      <td>2.1</td>\n",
       "      <td>1.4</td>\n",
       "      <td>77</td>\n",
       "      <td>23</td>\n",
       "      <td>6</td>\n",
       "      <td>2</td>\n",
       "      <td>6,2</td>\n",
       "      <td>13</td>\n",
       "      <td>8</td>\n",
       "      <td>2</td>\n",
       "      <td>6</td>\n",
       "      <td>6</td>\n",
       "      <td>2</td>\n",
       "      <td>0</td>\n",
       "      <td>0</td>\n",
       "      <td>7</td>\n",
       "      <td>3</td>\n",
       "      <td>3</td>\n",
       "      <td>4</td>\n",
       "      <td>10</td>\n",
       "      <td>6</td>\n",
       "      <td>3</td>\n",
       "      <td>2</td>\n",
       "      <td>0</td>\n",
       "      <td>2</td>\n",
       "      <td>0</td>\n",
       "      <td>0</td>\n",
       "      <td>9</td>\n",
       "      <td>14</td>\n",
       "      <td>2</td>\n",
       "      <td>2</td>\n",
       "      <td>809</td>\n",
       "      <td>224</td>\n",
       "      <td>730</td>\n",
       "      <td>154</td>\n",
       "      <td>8</td>\n",
       "      <td>0</td>\n",
       "      <td>16</td>\n",
       "      <td>10</td>\n",
       "      <td>0</td>\n",
       "      <td>1</td>\n",
       "      <td>8</td>\n",
       "      <td>13</td>\n",
       "      <td>0</td>\n",
       "      <td>0</td>\n",
       "      <td>63</td>\n",
       "      <td>72</td>\n",
       "      <td>139</td>\n",
       "      <td>416</td>\n",
       "    </tr>\n",
       "    <tr>\n",
       "      <th>3</th>\n",
       "      <td>3</td>\n",
       "      <td>Mon</td>\n",
       "      <td>21-Nov-22</td>\n",
       "      <td>17:00</td>\n",
       "      <td>Al Thumama Stadium</td>\n",
       "      <td>Wilton Sampaio</td>\n",
       "      <td>Group A</td>\n",
       "      <td>Senegal</td>\n",
       "      <td>Netherlands</td>\n",
       "      <td>41721</td>\n",
       "      <td>0.9</td>\n",
       "      <td>0.7</td>\n",
       "      <td>46</td>\n",
       "      <td>54</td>\n",
       "      <td>0</td>\n",
       "      <td>2</td>\n",
       "      <td>0,2</td>\n",
       "      <td>14</td>\n",
       "      <td>9</td>\n",
       "      <td>2</td>\n",
       "      <td>0</td>\n",
       "      <td>0</td>\n",
       "      <td>2</td>\n",
       "      <td>0</td>\n",
       "      <td>0</td>\n",
       "      <td>3</td>\n",
       "      <td>3</td>\n",
       "      <td>8</td>\n",
       "      <td>5</td>\n",
       "      <td>7</td>\n",
       "      <td>5</td>\n",
       "      <td>7</td>\n",
       "      <td>4</td>\n",
       "      <td>2</td>\n",
       "      <td>1</td>\n",
       "      <td>0</td>\n",
       "      <td>0</td>\n",
       "      <td>13</td>\n",
       "      <td>13</td>\n",
       "      <td>2</td>\n",
       "      <td>1</td>\n",
       "      <td>383</td>\n",
       "      <td>438</td>\n",
       "      <td>313</td>\n",
       "      <td>374</td>\n",
       "      <td>6</td>\n",
       "      <td>7</td>\n",
       "      <td>14</td>\n",
       "      <td>14</td>\n",
       "      <td>0</td>\n",
       "      <td>0</td>\n",
       "      <td>9</td>\n",
       "      <td>15</td>\n",
       "      <td>0</td>\n",
       "      <td>0</td>\n",
       "      <td>63</td>\n",
       "      <td>73</td>\n",
       "      <td>263</td>\n",
       "      <td>251</td>\n",
       "    </tr>\n",
       "    <tr>\n",
       "      <th>4</th>\n",
       "      <td>4</td>\n",
       "      <td>Mon</td>\n",
       "      <td>21-Nov-22</td>\n",
       "      <td>20:00</td>\n",
       "      <td>Ahmed bin Ali Stadium</td>\n",
       "      <td>Abdulrahman Ibrahim Al Jassim</td>\n",
       "      <td>Group B</td>\n",
       "      <td>United States</td>\n",
       "      <td>Wales</td>\n",
       "      <td>43418</td>\n",
       "      <td>0.8</td>\n",
       "      <td>1.5</td>\n",
       "      <td>58</td>\n",
       "      <td>42</td>\n",
       "      <td>1</td>\n",
       "      <td>1</td>\n",
       "      <td>1,1</td>\n",
       "      <td>6</td>\n",
       "      <td>7</td>\n",
       "      <td>1</td>\n",
       "      <td>1</td>\n",
       "      <td>1</td>\n",
       "      <td>1</td>\n",
       "      <td>0</td>\n",
       "      <td>0</td>\n",
       "      <td>1</td>\n",
       "      <td>3</td>\n",
       "      <td>4</td>\n",
       "      <td>3</td>\n",
       "      <td>4</td>\n",
       "      <td>5</td>\n",
       "      <td>2</td>\n",
       "      <td>2</td>\n",
       "      <td>4</td>\n",
       "      <td>2</td>\n",
       "      <td>0</td>\n",
       "      <td>0</td>\n",
       "      <td>15</td>\n",
       "      <td>10</td>\n",
       "      <td>1</td>\n",
       "      <td>1</td>\n",
       "      <td>569</td>\n",
       "      <td>409</td>\n",
       "      <td>509</td>\n",
       "      <td>321</td>\n",
       "      <td>5</td>\n",
       "      <td>3</td>\n",
       "      <td>11</td>\n",
       "      <td>15</td>\n",
       "      <td>0</td>\n",
       "      <td>1</td>\n",
       "      <td>7</td>\n",
       "      <td>7</td>\n",
       "      <td>0</td>\n",
       "      <td>0</td>\n",
       "      <td>81</td>\n",
       "      <td>72</td>\n",
       "      <td>242</td>\n",
       "      <td>292</td>\n",
       "    </tr>\n",
       "    <tr>\n",
       "      <th>5</th>\n",
       "      <td>5</td>\n",
       "      <td>Tue</td>\n",
       "      <td>22-Nov-22</td>\n",
       "      <td>11:00</td>\n",
       "      <td>Lusail Iconic Stadium</td>\n",
       "      <td>Slavko Vincic</td>\n",
       "      <td>Group C</td>\n",
       "      <td>Argentina</td>\n",
       "      <td>Saudi Arabia</td>\n",
       "      <td>88012</td>\n",
       "      <td>2.2</td>\n",
       "      <td>0.1</td>\n",
       "      <td>69</td>\n",
       "      <td>31</td>\n",
       "      <td>1</td>\n",
       "      <td>2</td>\n",
       "      <td>1,2</td>\n",
       "      <td>14</td>\n",
       "      <td>3</td>\n",
       "      <td>2</td>\n",
       "      <td>1</td>\n",
       "      <td>1</td>\n",
       "      <td>2</td>\n",
       "      <td>0</td>\n",
       "      <td>0</td>\n",
       "      <td>6</td>\n",
       "      <td>2</td>\n",
       "      <td>5</td>\n",
       "      <td>0</td>\n",
       "      <td>10</td>\n",
       "      <td>3</td>\n",
       "      <td>4</td>\n",
       "      <td>0</td>\n",
       "      <td>0</td>\n",
       "      <td>6</td>\n",
       "      <td>0</td>\n",
       "      <td>0</td>\n",
       "      <td>7</td>\n",
       "      <td>21</td>\n",
       "      <td>10</td>\n",
       "      <td>1</td>\n",
       "      <td>610</td>\n",
       "      <td>267</td>\n",
       "      <td>529</td>\n",
       "      <td>190</td>\n",
       "      <td>9</td>\n",
       "      <td>2</td>\n",
       "      <td>22</td>\n",
       "      <td>16</td>\n",
       "      <td>1</td>\n",
       "      <td>0</td>\n",
       "      <td>4</td>\n",
       "      <td>14</td>\n",
       "      <td>0</td>\n",
       "      <td>0</td>\n",
       "      <td>65</td>\n",
       "      <td>80</td>\n",
       "      <td>163</td>\n",
       "      <td>361</td>\n",
       "    </tr>\n",
       "    <tr>\n",
       "      <th>6</th>\n",
       "      <td>6</td>\n",
       "      <td>Tue</td>\n",
       "      <td>22-Nov-22</td>\n",
       "      <td>14:00</td>\n",
       "      <td>Education City Stadium</td>\n",
       "      <td>Cesar Ramos</td>\n",
       "      <td>Group D</td>\n",
       "      <td>Denmark</td>\n",
       "      <td>Tunisia</td>\n",
       "      <td>42925</td>\n",
       "      <td>1.4</td>\n",
       "      <td>0.9</td>\n",
       "      <td>61</td>\n",
       "      <td>39</td>\n",
       "      <td>0</td>\n",
       "      <td>0</td>\n",
       "      <td>0,0</td>\n",
       "      <td>11</td>\n",
       "      <td>11</td>\n",
       "      <td>0</td>\n",
       "      <td>0</td>\n",
       "      <td>0</td>\n",
       "      <td>0</td>\n",
       "      <td>0</td>\n",
       "      <td>0</td>\n",
       "      <td>4</td>\n",
       "      <td>1</td>\n",
       "      <td>4</td>\n",
       "      <td>7</td>\n",
       "      <td>7</td>\n",
       "      <td>6</td>\n",
       "      <td>4</td>\n",
       "      <td>5</td>\n",
       "      <td>2</td>\n",
       "      <td>1</td>\n",
       "      <td>0</td>\n",
       "      <td>0</td>\n",
       "      <td>9</td>\n",
       "      <td>10</td>\n",
       "      <td>1</td>\n",
       "      <td>1</td>\n",
       "      <td>594</td>\n",
       "      <td>387</td>\n",
       "      <td>523</td>\n",
       "      <td>302</td>\n",
       "      <td>11</td>\n",
       "      <td>9</td>\n",
       "      <td>11</td>\n",
       "      <td>10</td>\n",
       "      <td>0</td>\n",
       "      <td>0</td>\n",
       "      <td>11</td>\n",
       "      <td>11</td>\n",
       "      <td>0</td>\n",
       "      <td>0</td>\n",
       "      <td>76</td>\n",
       "      <td>73</td>\n",
       "      <td>226</td>\n",
       "      <td>287</td>\n",
       "    </tr>\n",
       "    <tr>\n",
       "      <th>7</th>\n",
       "      <td>7</td>\n",
       "      <td>Tue</td>\n",
       "      <td>22-Nov-22</td>\n",
       "      <td>17:00</td>\n",
       "      <td>Stadium 974</td>\n",
       "      <td>Chris Beath</td>\n",
       "      <td>Group C</td>\n",
       "      <td>Mexico</td>\n",
       "      <td>Poland</td>\n",
       "      <td>39369</td>\n",
       "      <td>0.7</td>\n",
       "      <td>0.9</td>\n",
       "      <td>60</td>\n",
       "      <td>40</td>\n",
       "      <td>0</td>\n",
       "      <td>0</td>\n",
       "      <td>0,0</td>\n",
       "      <td>13</td>\n",
       "      <td>8</td>\n",
       "      <td>0</td>\n",
       "      <td>0</td>\n",
       "      <td>0</td>\n",
       "      <td>0</td>\n",
       "      <td>0</td>\n",
       "      <td>0</td>\n",
       "      <td>4</td>\n",
       "      <td>1</td>\n",
       "      <td>5</td>\n",
       "      <td>4</td>\n",
       "      <td>10</td>\n",
       "      <td>7</td>\n",
       "      <td>3</td>\n",
       "      <td>1</td>\n",
       "      <td>2</td>\n",
       "      <td>1</td>\n",
       "      <td>0</td>\n",
       "      <td>0</td>\n",
       "      <td>14</td>\n",
       "      <td>16</td>\n",
       "      <td>3</td>\n",
       "      <td>0</td>\n",
       "      <td>485</td>\n",
       "      <td>322</td>\n",
       "      <td>422</td>\n",
       "      <td>241</td>\n",
       "      <td>6</td>\n",
       "      <td>5</td>\n",
       "      <td>16</td>\n",
       "      <td>16</td>\n",
       "      <td>0</td>\n",
       "      <td>0</td>\n",
       "      <td>8</td>\n",
       "      <td>15</td>\n",
       "      <td>0</td>\n",
       "      <td>0</td>\n",
       "      <td>61</td>\n",
       "      <td>70</td>\n",
       "      <td>193</td>\n",
       "      <td>290</td>\n",
       "    </tr>\n",
       "    <tr>\n",
       "      <th>8</th>\n",
       "      <td>8</td>\n",
       "      <td>Tue</td>\n",
       "      <td>22-Nov-22</td>\n",
       "      <td>20:00</td>\n",
       "      <td>Al Janoub Stadium</td>\n",
       "      <td>Victor Gomes</td>\n",
       "      <td>Group D</td>\n",
       "      <td>France</td>\n",
       "      <td>Australia</td>\n",
       "      <td>40875</td>\n",
       "      <td>4</td>\n",
       "      <td>0.5</td>\n",
       "      <td>62</td>\n",
       "      <td>38</td>\n",
       "      <td>4</td>\n",
       "      <td>1</td>\n",
       "      <td>4,1</td>\n",
       "      <td>22</td>\n",
       "      <td>4</td>\n",
       "      <td>1</td>\n",
       "      <td>4</td>\n",
       "      <td>4</td>\n",
       "      <td>1</td>\n",
       "      <td>0</td>\n",
       "      <td>0</td>\n",
       "      <td>7</td>\n",
       "      <td>1</td>\n",
       "      <td>9</td>\n",
       "      <td>3</td>\n",
       "      <td>18</td>\n",
       "      <td>2</td>\n",
       "      <td>4</td>\n",
       "      <td>2</td>\n",
       "      <td>0</td>\n",
       "      <td>3</td>\n",
       "      <td>0</td>\n",
       "      <td>0</td>\n",
       "      <td>5</td>\n",
       "      <td>11</td>\n",
       "      <td>0</td>\n",
       "      <td>0</td>\n",
       "      <td>734</td>\n",
       "      <td>466</td>\n",
       "      <td>672</td>\n",
       "      <td>399</td>\n",
       "      <td>8</td>\n",
       "      <td>1</td>\n",
       "      <td>11</td>\n",
       "      <td>5</td>\n",
       "      <td>0</td>\n",
       "      <td>0</td>\n",
       "      <td>4</td>\n",
       "      <td>22</td>\n",
       "      <td>0</td>\n",
       "      <td>0</td>\n",
       "      <td>64</td>\n",
       "      <td>56</td>\n",
       "      <td>250</td>\n",
       "      <td>316</td>\n",
       "    </tr>\n",
       "    <tr>\n",
       "      <th>9</th>\n",
       "      <td>9</td>\n",
       "      <td>Wed</td>\n",
       "      <td>23-Nov-22</td>\n",
       "      <td>11:00</td>\n",
       "      <td>Al Bayt Stadium</td>\n",
       "      <td>Fernando Rapallini</td>\n",
       "      <td>Group F</td>\n",
       "      <td>Morocco</td>\n",
       "      <td>Croatia</td>\n",
       "      <td>59407</td>\n",
       "      <td>0.4</td>\n",
       "      <td>0.5</td>\n",
       "      <td>36</td>\n",
       "      <td>64</td>\n",
       "      <td>0</td>\n",
       "      <td>0</td>\n",
       "      <td>0,0</td>\n",
       "      <td>8</td>\n",
       "      <td>6</td>\n",
       "      <td>0</td>\n",
       "      <td>0</td>\n",
       "      <td>0</td>\n",
       "      <td>0</td>\n",
       "      <td>0</td>\n",
       "      <td>0</td>\n",
       "      <td>2</td>\n",
       "      <td>2</td>\n",
       "      <td>0</td>\n",
       "      <td>2</td>\n",
       "      <td>3</td>\n",
       "      <td>4</td>\n",
       "      <td>5</td>\n",
       "      <td>2</td>\n",
       "      <td>1</td>\n",
       "      <td>0</td>\n",
       "      <td>0</td>\n",
       "      <td>0</td>\n",
       "      <td>17</td>\n",
       "      <td>11</td>\n",
       "      <td>0</td>\n",
       "      <td>1</td>\n",
       "      <td>360</td>\n",
       "      <td>667</td>\n",
       "      <td>290</td>\n",
       "      <td>592</td>\n",
       "      <td>0</td>\n",
       "      <td>5</td>\n",
       "      <td>12</td>\n",
       "      <td>17</td>\n",
       "      <td>0</td>\n",
       "      <td>0</td>\n",
       "      <td>7</td>\n",
       "      <td>8</td>\n",
       "      <td>0</td>\n",
       "      <td>0</td>\n",
       "      <td>87</td>\n",
       "      <td>58</td>\n",
       "      <td>391</td>\n",
       "      <td>217</td>\n",
       "    </tr>\n",
       "    <tr>\n",
       "      <th>10</th>\n",
       "      <td>10</td>\n",
       "      <td>Wed</td>\n",
       "      <td>23-Nov-22</td>\n",
       "      <td>14:00</td>\n",
       "      <td>Khalifa International Stadium</td>\n",
       "      <td>Ivan Barton</td>\n",
       "      <td>Group E</td>\n",
       "      <td>Germany</td>\n",
       "      <td>Japan</td>\n",
       "      <td>42608</td>\n",
       "      <td>3.1</td>\n",
       "      <td>1.5</td>\n",
       "      <td>74</td>\n",
       "      <td>26</td>\n",
       "      <td>1</td>\n",
       "      <td>2</td>\n",
       "      <td>1,2</td>\n",
       "      <td>25</td>\n",
       "      <td>10</td>\n",
       "      <td>2</td>\n",
       "      <td>1</td>\n",
       "      <td>1</td>\n",
       "      <td>2</td>\n",
       "      <td>0</td>\n",
       "      <td>0</td>\n",
       "      <td>9</td>\n",
       "      <td>3</td>\n",
       "      <td>11</td>\n",
       "      <td>6</td>\n",
       "      <td>15</td>\n",
       "      <td>10</td>\n",
       "      <td>10</td>\n",
       "      <td>0</td>\n",
       "      <td>0</td>\n",
       "      <td>0</td>\n",
       "      <td>0</td>\n",
       "      <td>0</td>\n",
       "      <td>6</td>\n",
       "      <td>14</td>\n",
       "      <td>4</td>\n",
       "      <td>4</td>\n",
       "      <td>820</td>\n",
       "      <td>261</td>\n",
       "      <td>743</td>\n",
       "      <td>207</td>\n",
       "      <td>6</td>\n",
       "      <td>6</td>\n",
       "      <td>17</td>\n",
       "      <td>10</td>\n",
       "      <td>1</td>\n",
       "      <td>0</td>\n",
       "      <td>12</td>\n",
       "      <td>26</td>\n",
       "      <td>0</td>\n",
       "      <td>0</td>\n",
       "      <td>55</td>\n",
       "      <td>87</td>\n",
       "      <td>164</td>\n",
       "      <td>487</td>\n",
       "    </tr>\n",
       "    <tr>\n",
       "      <th>11</th>\n",
       "      <td>11</td>\n",
       "      <td>Wed</td>\n",
       "      <td>23-Nov-22</td>\n",
       "      <td>17:00</td>\n",
       "      <td>Al Thumama Stadium</td>\n",
       "      <td>Mohammed Abdulla Hassan</td>\n",
       "      <td>Group E</td>\n",
       "      <td>Spain</td>\n",
       "      <td>Costa Rica</td>\n",
       "      <td>40013</td>\n",
       "      <td>3.5</td>\n",
       "      <td>0</td>\n",
       "      <td>81</td>\n",
       "      <td>19</td>\n",
       "      <td>7</td>\n",
       "      <td>0</td>\n",
       "      <td>7,0</td>\n",
       "      <td>17</td>\n",
       "      <td>0</td>\n",
       "      <td>0</td>\n",
       "      <td>7</td>\n",
       "      <td>7</td>\n",
       "      <td>0</td>\n",
       "      <td>0</td>\n",
       "      <td>0</td>\n",
       "      <td>7</td>\n",
       "      <td>0</td>\n",
       "      <td>8</td>\n",
       "      <td>0</td>\n",
       "      <td>12</td>\n",
       "      <td>0</td>\n",
       "      <td>5</td>\n",
       "      <td>0</td>\n",
       "      <td>0</td>\n",
       "      <td>2</td>\n",
       "      <td>0</td>\n",
       "      <td>0</td>\n",
       "      <td>8</td>\n",
       "      <td>12</td>\n",
       "      <td>3</td>\n",
       "      <td>7</td>\n",
       "      <td>1061</td>\n",
       "      <td>231</td>\n",
       "      <td>1003</td>\n",
       "      <td>170</td>\n",
       "      <td>5</td>\n",
       "      <td>0</td>\n",
       "      <td>18</td>\n",
       "      <td>11</td>\n",
       "      <td>1</td>\n",
       "      <td>0</td>\n",
       "      <td>0</td>\n",
       "      <td>17</td>\n",
       "      <td>0</td>\n",
       "      <td>0</td>\n",
       "      <td>46</td>\n",
       "      <td>76</td>\n",
       "      <td>185</td>\n",
       "      <td>585</td>\n",
       "    </tr>\n",
       "    <tr>\n",
       "      <th>12</th>\n",
       "      <td>12</td>\n",
       "      <td>Wed</td>\n",
       "      <td>23-Nov-22</td>\n",
       "      <td>20:00</td>\n",
       "      <td>Ahmed bin Ali Stadium</td>\n",
       "      <td>Janny Sikazwe</td>\n",
       "      <td>Group F</td>\n",
       "      <td>Belgium</td>\n",
       "      <td>Canada</td>\n",
       "      <td>40432</td>\n",
       "      <td>0.8</td>\n",
       "      <td>2.4</td>\n",
       "      <td>53</td>\n",
       "      <td>47</td>\n",
       "      <td>1</td>\n",
       "      <td>0</td>\n",
       "      <td>1,0</td>\n",
       "      <td>9</td>\n",
       "      <td>21</td>\n",
       "      <td>0</td>\n",
       "      <td>1</td>\n",
       "      <td>1</td>\n",
       "      <td>0</td>\n",
       "      <td>0</td>\n",
       "      <td>0</td>\n",
       "      <td>3</td>\n",
       "      <td>4</td>\n",
       "      <td>6</td>\n",
       "      <td>12</td>\n",
       "      <td>6</td>\n",
       "      <td>16</td>\n",
       "      <td>3</td>\n",
       "      <td>5</td>\n",
       "      <td>3</td>\n",
       "      <td>2</td>\n",
       "      <td>0</td>\n",
       "      <td>0</td>\n",
       "      <td>11</td>\n",
       "      <td>14</td>\n",
       "      <td>0</td>\n",
       "      <td>1</td>\n",
       "      <td>512</td>\n",
       "      <td>448</td>\n",
       "      <td>439</td>\n",
       "      <td>382</td>\n",
       "      <td>4</td>\n",
       "      <td>4</td>\n",
       "      <td>15</td>\n",
       "      <td>10</td>\n",
       "      <td>0</td>\n",
       "      <td>0</td>\n",
       "      <td>21</td>\n",
       "      <td>9</td>\n",
       "      <td>0</td>\n",
       "      <td>0</td>\n",
       "      <td>74</td>\n",
       "      <td>47</td>\n",
       "      <td>284</td>\n",
       "      <td>320</td>\n",
       "    </tr>\n",
       "    <tr>\n",
       "      <th>13</th>\n",
       "      <td>13</td>\n",
       "      <td>Thu</td>\n",
       "      <td>24-Nov-22</td>\n",
       "      <td>11:00</td>\n",
       "      <td>Al Janoub Stadium</td>\n",
       "      <td>Facundo Tello</td>\n",
       "      <td>Group G</td>\n",
       "      <td>Switzerland</td>\n",
       "      <td>Cameroon</td>\n",
       "      <td>39089</td>\n",
       "      <td>1.4</td>\n",
       "      <td>0.7</td>\n",
       "      <td>51</td>\n",
       "      <td>49</td>\n",
       "      <td>1</td>\n",
       "      <td>0</td>\n",
       "      <td>1,0</td>\n",
       "      <td>8</td>\n",
       "      <td>7</td>\n",
       "      <td>0</td>\n",
       "      <td>1</td>\n",
       "      <td>1</td>\n",
       "      <td>0</td>\n",
       "      <td>0</td>\n",
       "      <td>0</td>\n",
       "      <td>3</td>\n",
       "      <td>3</td>\n",
       "      <td>4</td>\n",
       "      <td>2</td>\n",
       "      <td>6</td>\n",
       "      <td>6</td>\n",
       "      <td>2</td>\n",
       "      <td>1</td>\n",
       "      <td>2</td>\n",
       "      <td>1</td>\n",
       "      <td>0</td>\n",
       "      <td>0</td>\n",
       "      <td>12</td>\n",
       "      <td>10</td>\n",
       "      <td>2</td>\n",
       "      <td>2</td>\n",
       "      <td>497</td>\n",
       "      <td>500</td>\n",
       "      <td>437</td>\n",
       "      <td>424</td>\n",
       "      <td>11</td>\n",
       "      <td>5</td>\n",
       "      <td>11</td>\n",
       "      <td>14</td>\n",
       "      <td>0</td>\n",
       "      <td>0</td>\n",
       "      <td>7</td>\n",
       "      <td>8</td>\n",
       "      <td>0</td>\n",
       "      <td>0</td>\n",
       "      <td>64</td>\n",
       "      <td>79</td>\n",
       "      <td>313</td>\n",
       "      <td>316</td>\n",
       "    </tr>\n",
       "    <tr>\n",
       "      <th>14</th>\n",
       "      <td>14</td>\n",
       "      <td>Thu</td>\n",
       "      <td>24-Nov-22</td>\n",
       "      <td>14:00</td>\n",
       "      <td>Education City Stadium</td>\n",
       "      <td>Clement Turpin</td>\n",
       "      <td>Group H</td>\n",
       "      <td>Uruguay</td>\n",
       "      <td>Korea Republic</td>\n",
       "      <td>41663</td>\n",
       "      <td>0.6</td>\n",
       "      <td>0.6</td>\n",
       "      <td>56</td>\n",
       "      <td>44</td>\n",
       "      <td>0</td>\n",
       "      <td>0</td>\n",
       "      <td>0,0</td>\n",
       "      <td>10</td>\n",
       "      <td>6</td>\n",
       "      <td>0</td>\n",
       "      <td>0</td>\n",
       "      <td>0</td>\n",
       "      <td>0</td>\n",
       "      <td>0</td>\n",
       "      <td>0</td>\n",
       "      <td>0</td>\n",
       "      <td>0</td>\n",
       "      <td>6</td>\n",
       "      <td>5</td>\n",
       "      <td>7</td>\n",
       "      <td>1</td>\n",
       "      <td>3</td>\n",
       "      <td>5</td>\n",
       "      <td>1</td>\n",
       "      <td>1</td>\n",
       "      <td>0</td>\n",
       "      <td>0</td>\n",
       "      <td>7</td>\n",
       "      <td>10</td>\n",
       "      <td>1</td>\n",
       "      <td>0</td>\n",
       "      <td>528</td>\n",
       "      <td>419</td>\n",
       "      <td>459</td>\n",
       "      <td>340</td>\n",
       "      <td>4</td>\n",
       "      <td>3</td>\n",
       "      <td>10</td>\n",
       "      <td>8</td>\n",
       "      <td>0</td>\n",
       "      <td>0</td>\n",
       "      <td>6</td>\n",
       "      <td>10</td>\n",
       "      <td>0</td>\n",
       "      <td>0</td>\n",
       "      <td>65</td>\n",
       "      <td>54</td>\n",
       "      <td>240</td>\n",
       "      <td>231</td>\n",
       "    </tr>\n",
       "    <tr>\n",
       "      <th>15</th>\n",
       "      <td>15</td>\n",
       "      <td>Thu</td>\n",
       "      <td>24-Nov-22</td>\n",
       "      <td>17:00</td>\n",
       "      <td>Stadium 974</td>\n",
       "      <td>Ismail Elfath</td>\n",
       "      <td>Group H</td>\n",
       "      <td>Portugal</td>\n",
       "      <td>Ghana</td>\n",
       "      <td>42662</td>\n",
       "      <td>2</td>\n",
       "      <td>0.9</td>\n",
       "      <td>62</td>\n",
       "      <td>38</td>\n",
       "      <td>3</td>\n",
       "      <td>2</td>\n",
       "      <td>3,2</td>\n",
       "      <td>11</td>\n",
       "      <td>8</td>\n",
       "      <td>2</td>\n",
       "      <td>3</td>\n",
       "      <td>3</td>\n",
       "      <td>2</td>\n",
       "      <td>0</td>\n",
       "      <td>0</td>\n",
       "      <td>5</td>\n",
       "      <td>3</td>\n",
       "      <td>3</td>\n",
       "      <td>5</td>\n",
       "      <td>7</td>\n",
       "      <td>2</td>\n",
       "      <td>4</td>\n",
       "      <td>6</td>\n",
       "      <td>2</td>\n",
       "      <td>4</td>\n",
       "      <td>0</td>\n",
       "      <td>0</td>\n",
       "      <td>14</td>\n",
       "      <td>19</td>\n",
       "      <td>1</td>\n",
       "      <td>1</td>\n",
       "      <td>636</td>\n",
       "      <td>394</td>\n",
       "      <td>573</td>\n",
       "      <td>326</td>\n",
       "      <td>3</td>\n",
       "      <td>3</td>\n",
       "      <td>19</td>\n",
       "      <td>15</td>\n",
       "      <td>1</td>\n",
       "      <td>0</td>\n",
       "      <td>8</td>\n",
       "      <td>11</td>\n",
       "      <td>0</td>\n",
       "      <td>0</td>\n",
       "      <td>70</td>\n",
       "      <td>82</td>\n",
       "      <td>286</td>\n",
       "      <td>326</td>\n",
       "    </tr>\n",
       "    <tr>\n",
       "      <th>16</th>\n",
       "      <td>16</td>\n",
       "      <td>Thu</td>\n",
       "      <td>24-Nov-22</td>\n",
       "      <td>20:00</td>\n",
       "      <td>Lusail Iconic Stadium</td>\n",
       "      <td>Alireza Faghani</td>\n",
       "      <td>Group G</td>\n",
       "      <td>Brazil</td>\n",
       "      <td>Serbia</td>\n",
       "      <td>88103</td>\n",
       "      <td>2.4</td>\n",
       "      <td>0.2</td>\n",
       "      <td>59</td>\n",
       "      <td>41</td>\n",
       "      <td>2</td>\n",
       "      <td>0</td>\n",
       "      <td>2,0</td>\n",
       "      <td>24</td>\n",
       "      <td>4</td>\n",
       "      <td>0</td>\n",
       "      <td>2</td>\n",
       "      <td>2</td>\n",
       "      <td>0</td>\n",
       "      <td>0</td>\n",
       "      <td>0</td>\n",
       "      <td>10</td>\n",
       "      <td>0</td>\n",
       "      <td>9</td>\n",
       "      <td>3</td>\n",
       "      <td>11</td>\n",
       "      <td>1</td>\n",
       "      <td>13</td>\n",
       "      <td>3</td>\n",
       "      <td>0</td>\n",
       "      <td>3</td>\n",
       "      <td>0</td>\n",
       "      <td>0</td>\n",
       "      <td>7</td>\n",
       "      <td>12</td>\n",
       "      <td>1</td>\n",
       "      <td>0</td>\n",
       "      <td>585</td>\n",
       "      <td>403</td>\n",
       "      <td>526</td>\n",
       "      <td>341</td>\n",
       "      <td>6</td>\n",
       "      <td>4</td>\n",
       "      <td>12</td>\n",
       "      <td>8</td>\n",
       "      <td>0</td>\n",
       "      <td>0</td>\n",
       "      <td>4</td>\n",
       "      <td>24</td>\n",
       "      <td>0</td>\n",
       "      <td>0</td>\n",
       "      <td>72</td>\n",
       "      <td>71</td>\n",
       "      <td>236</td>\n",
       "      <td>338</td>\n",
       "    </tr>\n",
       "    <tr>\n",
       "      <th>17</th>\n",
       "      <td>17</td>\n",
       "      <td>Fri</td>\n",
       "      <td>25-Nov-22</td>\n",
       "      <td>11:00</td>\n",
       "      <td>Ahmed bin Ali Stadium</td>\n",
       "      <td>Mario Escobar</td>\n",
       "      <td>Group B</td>\n",
       "      <td>Wales</td>\n",
       "      <td>Iran</td>\n",
       "      <td>40875</td>\n",
       "      <td>0.9</td>\n",
       "      <td>1.4</td>\n",
       "      <td>62</td>\n",
       "      <td>38</td>\n",
       "      <td>0</td>\n",
       "      <td>2</td>\n",
       "      <td>0,2</td>\n",
       "      <td>10</td>\n",
       "      <td>21</td>\n",
       "      <td>2</td>\n",
       "      <td>0</td>\n",
       "      <td>0</td>\n",
       "      <td>1</td>\n",
       "      <td>0</td>\n",
       "      <td>1</td>\n",
       "      <td>3</td>\n",
       "      <td>6</td>\n",
       "      <td>4</td>\n",
       "      <td>6</td>\n",
       "      <td>5</td>\n",
       "      <td>7</td>\n",
       "      <td>5</td>\n",
       "      <td>14</td>\n",
       "      <td>1</td>\n",
       "      <td>2</td>\n",
       "      <td>1</td>\n",
       "      <td>0</td>\n",
       "      <td>9</td>\n",
       "      <td>10</td>\n",
       "      <td>2</td>\n",
       "      <td>2</td>\n",
       "      <td>508</td>\n",
       "      <td>295</td>\n",
       "      <td>413</td>\n",
       "      <td>202</td>\n",
       "      <td>2</td>\n",
       "      <td>7</td>\n",
       "      <td>12</td>\n",
       "      <td>11</td>\n",
       "      <td>0</td>\n",
       "      <td>0</td>\n",
       "      <td>21</td>\n",
       "      <td>9</td>\n",
       "      <td>0</td>\n",
       "      <td>0</td>\n",
       "      <td>89</td>\n",
       "      <td>84</td>\n",
       "      <td>161</td>\n",
       "      <td>276</td>\n",
       "    </tr>\n",
       "    <tr>\n",
       "      <th>18</th>\n",
       "      <td>18</td>\n",
       "      <td>Fri</td>\n",
       "      <td>25-Nov-22</td>\n",
       "      <td>14:00</td>\n",
       "      <td>Al Thumama Stadium</td>\n",
       "      <td>Antonio Mateu Lahoz</td>\n",
       "      <td>Group A</td>\n",
       "      <td>Qatar</td>\n",
       "      <td>Senegal</td>\n",
       "      <td>41797</td>\n",
       "      <td>1</td>\n",
       "      <td>0.8</td>\n",
       "      <td>45</td>\n",
       "      <td>55</td>\n",
       "      <td>1</td>\n",
       "      <td>3</td>\n",
       "      <td>1,3</td>\n",
       "      <td>10</td>\n",
       "      <td>12</td>\n",
       "      <td>3</td>\n",
       "      <td>1</td>\n",
       "      <td>1</td>\n",
       "      <td>3</td>\n",
       "      <td>0</td>\n",
       "      <td>0</td>\n",
       "      <td>2</td>\n",
       "      <td>4</td>\n",
       "      <td>7</td>\n",
       "      <td>6</td>\n",
       "      <td>4</td>\n",
       "      <td>10</td>\n",
       "      <td>6</td>\n",
       "      <td>2</td>\n",
       "      <td>3</td>\n",
       "      <td>3</td>\n",
       "      <td>0</td>\n",
       "      <td>0</td>\n",
       "      <td>7</td>\n",
       "      <td>12</td>\n",
       "      <td>4</td>\n",
       "      <td>3</td>\n",
       "      <td>424</td>\n",
       "      <td>511</td>\n",
       "      <td>353</td>\n",
       "      <td>445</td>\n",
       "      <td>6</td>\n",
       "      <td>7</td>\n",
       "      <td>15</td>\n",
       "      <td>11</td>\n",
       "      <td>0</td>\n",
       "      <td>0</td>\n",
       "      <td>12</td>\n",
       "      <td>11</td>\n",
       "      <td>0</td>\n",
       "      <td>0</td>\n",
       "      <td>67</td>\n",
       "      <td>67</td>\n",
       "      <td>308</td>\n",
       "      <td>232</td>\n",
       "    </tr>\n",
       "    <tr>\n",
       "      <th>19</th>\n",
       "      <td>19</td>\n",
       "      <td>Fri</td>\n",
       "      <td>25-Nov-22</td>\n",
       "      <td>17:00</td>\n",
       "      <td>Khalifa International Stadium</td>\n",
       "      <td>Mustapha Ghorbal</td>\n",
       "      <td>Group A</td>\n",
       "      <td>Netherlands</td>\n",
       "      <td>Ecuador</td>\n",
       "      <td>44833</td>\n",
       "      <td>0.1</td>\n",
       "      <td>1.7</td>\n",
       "      <td>54</td>\n",
       "      <td>46</td>\n",
       "      <td>1</td>\n",
       "      <td>1</td>\n",
       "      <td>1,1</td>\n",
       "      <td>2</td>\n",
       "      <td>13</td>\n",
       "      <td>1</td>\n",
       "      <td>1</td>\n",
       "      <td>0</td>\n",
       "      <td>1</td>\n",
       "      <td>1</td>\n",
       "      <td>0</td>\n",
       "      <td>1</td>\n",
       "      <td>5</td>\n",
       "      <td>1</td>\n",
       "      <td>3</td>\n",
       "      <td>0</td>\n",
       "      <td>8</td>\n",
       "      <td>2</td>\n",
       "      <td>5</td>\n",
       "      <td>0</td>\n",
       "      <td>1</td>\n",
       "      <td>0</td>\n",
       "      <td>0</td>\n",
       "      <td>15</td>\n",
       "      <td>12</td>\n",
       "      <td>1</td>\n",
       "      <td>4</td>\n",
       "      <td>524</td>\n",
       "      <td>425</td>\n",
       "      <td>451</td>\n",
       "      <td>345</td>\n",
       "      <td>2</td>\n",
       "      <td>5</td>\n",
       "      <td>16</td>\n",
       "      <td>16</td>\n",
       "      <td>0</td>\n",
       "      <td>0</td>\n",
       "      <td>14</td>\n",
       "      <td>2</td>\n",
       "      <td>0</td>\n",
       "      <td>0</td>\n",
       "      <td>85</td>\n",
       "      <td>52</td>\n",
       "      <td>254</td>\n",
       "      <td>279</td>\n",
       "    </tr>\n",
       "    <tr>\n",
       "      <th>20</th>\n",
       "      <td>20</td>\n",
       "      <td>Fri</td>\n",
       "      <td>25-Nov-22</td>\n",
       "      <td>20:00</td>\n",
       "      <td>Al Bayt Stadium</td>\n",
       "      <td>Jesús Valenzuela Sáez</td>\n",
       "      <td>Group B</td>\n",
       "      <td>England</td>\n",
       "      <td>United States</td>\n",
       "      <td>68463</td>\n",
       "      <td>0.8</td>\n",
       "      <td>0.6</td>\n",
       "      <td>55</td>\n",
       "      <td>45</td>\n",
       "      <td>0</td>\n",
       "      <td>0</td>\n",
       "      <td>0,0</td>\n",
       "      <td>8</td>\n",
       "      <td>10</td>\n",
       "      <td>0</td>\n",
       "      <td>0</td>\n",
       "      <td>0</td>\n",
       "      <td>0</td>\n",
       "      <td>0</td>\n",
       "      <td>0</td>\n",
       "      <td>3</td>\n",
       "      <td>2</td>\n",
       "      <td>4</td>\n",
       "      <td>7</td>\n",
       "      <td>6</td>\n",
       "      <td>6</td>\n",
       "      <td>2</td>\n",
       "      <td>4</td>\n",
       "      <td>0</td>\n",
       "      <td>0</td>\n",
       "      <td>0</td>\n",
       "      <td>0</td>\n",
       "      <td>9</td>\n",
       "      <td>15</td>\n",
       "      <td>1</td>\n",
       "      <td>0</td>\n",
       "      <td>550</td>\n",
       "      <td>427</td>\n",
       "      <td>488</td>\n",
       "      <td>368</td>\n",
       "      <td>3</td>\n",
       "      <td>7</td>\n",
       "      <td>15</td>\n",
       "      <td>10</td>\n",
       "      <td>0</td>\n",
       "      <td>0</td>\n",
       "      <td>10</td>\n",
       "      <td>8</td>\n",
       "      <td>0</td>\n",
       "      <td>0</td>\n",
       "      <td>52</td>\n",
       "      <td>61</td>\n",
       "      <td>266</td>\n",
       "      <td>350</td>\n",
       "    </tr>\n",
       "    <tr>\n",
       "      <th>21</th>\n",
       "      <td>21</td>\n",
       "      <td>Sat</td>\n",
       "      <td>26-Nov-22</td>\n",
       "      <td>11:00</td>\n",
       "      <td>Al Janoub Stadium</td>\n",
       "      <td>Daniel Siebert</td>\n",
       "      <td>Group D</td>\n",
       "      <td>Tunisia</td>\n",
       "      <td>Australia</td>\n",
       "      <td>41823</td>\n",
       "      <td>0.9</td>\n",
       "      <td>0.6</td>\n",
       "      <td>59</td>\n",
       "      <td>41</td>\n",
       "      <td>0</td>\n",
       "      <td>1</td>\n",
       "      <td>0,1</td>\n",
       "      <td>13</td>\n",
       "      <td>8</td>\n",
       "      <td>1</td>\n",
       "      <td>0</td>\n",
       "      <td>0</td>\n",
       "      <td>1</td>\n",
       "      <td>0</td>\n",
       "      <td>0</td>\n",
       "      <td>4</td>\n",
       "      <td>2</td>\n",
       "      <td>5</td>\n",
       "      <td>3</td>\n",
       "      <td>9</td>\n",
       "      <td>5</td>\n",
       "      <td>4</td>\n",
       "      <td>3</td>\n",
       "      <td>3</td>\n",
       "      <td>0</td>\n",
       "      <td>0</td>\n",
       "      <td>0</td>\n",
       "      <td>16</td>\n",
       "      <td>15</td>\n",
       "      <td>3</td>\n",
       "      <td>0</td>\n",
       "      <td>501</td>\n",
       "      <td>334</td>\n",
       "      <td>396</td>\n",
       "      <td>239</td>\n",
       "      <td>5</td>\n",
       "      <td>2</td>\n",
       "      <td>15</td>\n",
       "      <td>19</td>\n",
       "      <td>0</td>\n",
       "      <td>0</td>\n",
       "      <td>9</td>\n",
       "      <td>13</td>\n",
       "      <td>0</td>\n",
       "      <td>0</td>\n",
       "      <td>81</td>\n",
       "      <td>88</td>\n",
       "      <td>217</td>\n",
       "      <td>273</td>\n",
       "    </tr>\n",
       "    <tr>\n",
       "      <th>22</th>\n",
       "      <td>22</td>\n",
       "      <td>Sat</td>\n",
       "      <td>26-Nov-22</td>\n",
       "      <td>14:00</td>\n",
       "      <td>Education City Stadium</td>\n",
       "      <td>Wilton Sampaio</td>\n",
       "      <td>Group C</td>\n",
       "      <td>Poland</td>\n",
       "      <td>Saudi Arabia</td>\n",
       "      <td>44259</td>\n",
       "      <td>1.6</td>\n",
       "      <td>1.7</td>\n",
       "      <td>37</td>\n",
       "      <td>63</td>\n",
       "      <td>2</td>\n",
       "      <td>0</td>\n",
       "      <td>2,0</td>\n",
       "      <td>8</td>\n",
       "      <td>16</td>\n",
       "      <td>0</td>\n",
       "      <td>2</td>\n",
       "      <td>2</td>\n",
       "      <td>0</td>\n",
       "      <td>0</td>\n",
       "      <td>0</td>\n",
       "      <td>3</td>\n",
       "      <td>5</td>\n",
       "      <td>3</td>\n",
       "      <td>9</td>\n",
       "      <td>8</td>\n",
       "      <td>9</td>\n",
       "      <td>0</td>\n",
       "      <td>7</td>\n",
       "      <td>3</td>\n",
       "      <td>2</td>\n",
       "      <td>0</td>\n",
       "      <td>0</td>\n",
       "      <td>18</td>\n",
       "      <td>15</td>\n",
       "      <td>0</td>\n",
       "      <td>0</td>\n",
       "      <td>303</td>\n",
       "      <td>560</td>\n",
       "      <td>236</td>\n",
       "      <td>494</td>\n",
       "      <td>4</td>\n",
       "      <td>5</td>\n",
       "      <td>15</td>\n",
       "      <td>17</td>\n",
       "      <td>0</td>\n",
       "      <td>0</td>\n",
       "      <td>16</td>\n",
       "      <td>9</td>\n",
       "      <td>0</td>\n",
       "      <td>0</td>\n",
       "      <td>69</td>\n",
       "      <td>53</td>\n",
       "      <td>329</td>\n",
       "      <td>173</td>\n",
       "    </tr>\n",
       "    <tr>\n",
       "      <th>23</th>\n",
       "      <td>23</td>\n",
       "      <td>Sat</td>\n",
       "      <td>26-Nov-22</td>\n",
       "      <td>17:00</td>\n",
       "      <td>Stadium 974</td>\n",
       "      <td>Szymon Marciniak</td>\n",
       "      <td>Group D</td>\n",
       "      <td>France</td>\n",
       "      <td>Denmark</td>\n",
       "      <td>42860</td>\n",
       "      <td>2.4</td>\n",
       "      <td>0.6</td>\n",
       "      <td>49</td>\n",
       "      <td>51</td>\n",
       "      <td>2</td>\n",
       "      <td>1</td>\n",
       "      <td>2,1</td>\n",
       "      <td>21</td>\n",
       "      <td>10</td>\n",
       "      <td>1</td>\n",
       "      <td>2</td>\n",
       "      <td>2</td>\n",
       "      <td>1</td>\n",
       "      <td>0</td>\n",
       "      <td>0</td>\n",
       "      <td>6</td>\n",
       "      <td>2</td>\n",
       "      <td>8</td>\n",
       "      <td>6</td>\n",
       "      <td>16</td>\n",
       "      <td>5</td>\n",
       "      <td>5</td>\n",
       "      <td>5</td>\n",
       "      <td>1</td>\n",
       "      <td>2</td>\n",
       "      <td>0</td>\n",
       "      <td>0</td>\n",
       "      <td>4</td>\n",
       "      <td>9</td>\n",
       "      <td>1</td>\n",
       "      <td>1</td>\n",
       "      <td>503</td>\n",
       "      <td>537</td>\n",
       "      <td>437</td>\n",
       "      <td>473</td>\n",
       "      <td>6</td>\n",
       "      <td>4</td>\n",
       "      <td>10</td>\n",
       "      <td>5</td>\n",
       "      <td>0</td>\n",
       "      <td>0</td>\n",
       "      <td>10</td>\n",
       "      <td>21</td>\n",
       "      <td>0</td>\n",
       "      <td>0</td>\n",
       "      <td>79</td>\n",
       "      <td>61</td>\n",
       "      <td>269</td>\n",
       "      <td>282</td>\n",
       "    </tr>\n",
       "    <tr>\n",
       "      <th>24</th>\n",
       "      <td>24</td>\n",
       "      <td>Sat</td>\n",
       "      <td>26-Nov-22</td>\n",
       "      <td>20:00</td>\n",
       "      <td>Lusail Iconic Stadium</td>\n",
       "      <td>Daniele Orsato</td>\n",
       "      <td>Group C</td>\n",
       "      <td>Argentina</td>\n",
       "      <td>Mexico</td>\n",
       "      <td>88966</td>\n",
       "      <td>0.3</td>\n",
       "      <td>0.3</td>\n",
       "      <td>58</td>\n",
       "      <td>42</td>\n",
       "      <td>2</td>\n",
       "      <td>0</td>\n",
       "      <td>2,0</td>\n",
       "      <td>5</td>\n",
       "      <td>4</td>\n",
       "      <td>0</td>\n",
       "      <td>2</td>\n",
       "      <td>1</td>\n",
       "      <td>0</td>\n",
       "      <td>1</td>\n",
       "      <td>0</td>\n",
       "      <td>2</td>\n",
       "      <td>1</td>\n",
       "      <td>3</td>\n",
       "      <td>2</td>\n",
       "      <td>2</td>\n",
       "      <td>1</td>\n",
       "      <td>3</td>\n",
       "      <td>3</td>\n",
       "      <td>1</td>\n",
       "      <td>4</td>\n",
       "      <td>0</td>\n",
       "      <td>0</td>\n",
       "      <td>15</td>\n",
       "      <td>19</td>\n",
       "      <td>2</td>\n",
       "      <td>4</td>\n",
       "      <td>533</td>\n",
       "      <td>356</td>\n",
       "      <td>464</td>\n",
       "      <td>287</td>\n",
       "      <td>4</td>\n",
       "      <td>2</td>\n",
       "      <td>23</td>\n",
       "      <td>17</td>\n",
       "      <td>0</td>\n",
       "      <td>0</td>\n",
       "      <td>4</td>\n",
       "      <td>5</td>\n",
       "      <td>0</td>\n",
       "      <td>0</td>\n",
       "      <td>63</td>\n",
       "      <td>79</td>\n",
       "      <td>220</td>\n",
       "      <td>327</td>\n",
       "    </tr>\n",
       "    <tr>\n",
       "      <th>25</th>\n",
       "      <td>25</td>\n",
       "      <td>Sun</td>\n",
       "      <td>27-Nov-22</td>\n",
       "      <td>11:00</td>\n",
       "      <td>Ahmed bin Ali Stadium</td>\n",
       "      <td>Michael Oliver</td>\n",
       "      <td>Group E</td>\n",
       "      <td>Japan</td>\n",
       "      <td>Costa Rica</td>\n",
       "      <td>41479</td>\n",
       "      <td>0.9</td>\n",
       "      <td>0.1</td>\n",
       "      <td>57</td>\n",
       "      <td>43</td>\n",
       "      <td>0</td>\n",
       "      <td>1</td>\n",
       "      <td>0,1</td>\n",
       "      <td>14</td>\n",
       "      <td>4</td>\n",
       "      <td>1</td>\n",
       "      <td>0</td>\n",
       "      <td>0</td>\n",
       "      <td>1</td>\n",
       "      <td>0</td>\n",
       "      <td>0</td>\n",
       "      <td>3</td>\n",
       "      <td>1</td>\n",
       "      <td>4</td>\n",
       "      <td>1</td>\n",
       "      <td>7</td>\n",
       "      <td>1</td>\n",
       "      <td>7</td>\n",
       "      <td>3</td>\n",
       "      <td>3</td>\n",
       "      <td>3</td>\n",
       "      <td>0</td>\n",
       "      <td>0</td>\n",
       "      <td>22</td>\n",
       "      <td>9</td>\n",
       "      <td>0</td>\n",
       "      <td>2</td>\n",
       "      <td>575</td>\n",
       "      <td>444</td>\n",
       "      <td>510</td>\n",
       "      <td>371</td>\n",
       "      <td>5</td>\n",
       "      <td>0</td>\n",
       "      <td>11</td>\n",
       "      <td>22</td>\n",
       "      <td>0</td>\n",
       "      <td>0</td>\n",
       "      <td>4</td>\n",
       "      <td>14</td>\n",
       "      <td>0</td>\n",
       "      <td>0</td>\n",
       "      <td>47</td>\n",
       "      <td>66</td>\n",
       "      <td>300</td>\n",
       "      <td>294</td>\n",
       "    </tr>\n",
       "    <tr>\n",
       "      <th>26</th>\n",
       "      <td>26</td>\n",
       "      <td>Sun</td>\n",
       "      <td>27-Nov-22</td>\n",
       "      <td>14:00</td>\n",
       "      <td>Al Thumama Stadium</td>\n",
       "      <td>Cesar Ramos</td>\n",
       "      <td>Group F</td>\n",
       "      <td>Belgium</td>\n",
       "      <td>Morocco</td>\n",
       "      <td>43738</td>\n",
       "      <td>1</td>\n",
       "      <td>1.5</td>\n",
       "      <td>67</td>\n",
       "      <td>33</td>\n",
       "      <td>0</td>\n",
       "      <td>2</td>\n",
       "      <td>0,2</td>\n",
       "      <td>10</td>\n",
       "      <td>11</td>\n",
       "      <td>2</td>\n",
       "      <td>0</td>\n",
       "      <td>0</td>\n",
       "      <td>2</td>\n",
       "      <td>0</td>\n",
       "      <td>0</td>\n",
       "      <td>4</td>\n",
       "      <td>4</td>\n",
       "      <td>6</td>\n",
       "      <td>6</td>\n",
       "      <td>5</td>\n",
       "      <td>6</td>\n",
       "      <td>5</td>\n",
       "      <td>5</td>\n",
       "      <td>1</td>\n",
       "      <td>1</td>\n",
       "      <td>0</td>\n",
       "      <td>0</td>\n",
       "      <td>10</td>\n",
       "      <td>14</td>\n",
       "      <td>3</td>\n",
       "      <td>3</td>\n",
       "      <td>671</td>\n",
       "      <td>317</td>\n",
       "      <td>598</td>\n",
       "      <td>275</td>\n",
       "      <td>9</td>\n",
       "      <td>1</td>\n",
       "      <td>17</td>\n",
       "      <td>13</td>\n",
       "      <td>0</td>\n",
       "      <td>0</td>\n",
       "      <td>11</td>\n",
       "      <td>10</td>\n",
       "      <td>0</td>\n",
       "      <td>0</td>\n",
       "      <td>38</td>\n",
       "      <td>78</td>\n",
       "      <td>194</td>\n",
       "      <td>360</td>\n",
       "    </tr>\n",
       "    <tr>\n",
       "      <th>27</th>\n",
       "      <td>27</td>\n",
       "      <td>Sun</td>\n",
       "      <td>27-Nov-22</td>\n",
       "      <td>17:00</td>\n",
       "      <td>Khalifa International Stadium</td>\n",
       "      <td>Andrés Matonte</td>\n",
       "      <td>Group F</td>\n",
       "      <td>Croatia</td>\n",
       "      <td>Canada</td>\n",
       "      <td>44374</td>\n",
       "      <td>2.6</td>\n",
       "      <td>0.4</td>\n",
       "      <td>49</td>\n",
       "      <td>51</td>\n",
       "      <td>4</td>\n",
       "      <td>1</td>\n",
       "      <td>4,1</td>\n",
       "      <td>13</td>\n",
       "      <td>9</td>\n",
       "      <td>1</td>\n",
       "      <td>4</td>\n",
       "      <td>3</td>\n",
       "      <td>1</td>\n",
       "      <td>1</td>\n",
       "      <td>0</td>\n",
       "      <td>10</td>\n",
       "      <td>2</td>\n",
       "      <td>2</td>\n",
       "      <td>3</td>\n",
       "      <td>9</td>\n",
       "      <td>2</td>\n",
       "      <td>4</td>\n",
       "      <td>7</td>\n",
       "      <td>2</td>\n",
       "      <td>2</td>\n",
       "      <td>0</td>\n",
       "      <td>0</td>\n",
       "      <td>13</td>\n",
       "      <td>5</td>\n",
       "      <td>1</td>\n",
       "      <td>3</td>\n",
       "      <td>462</td>\n",
       "      <td>511</td>\n",
       "      <td>391</td>\n",
       "      <td>434</td>\n",
       "      <td>5</td>\n",
       "      <td>2</td>\n",
       "      <td>8</td>\n",
       "      <td>14</td>\n",
       "      <td>0</td>\n",
       "      <td>0</td>\n",
       "      <td>9</td>\n",
       "      <td>13</td>\n",
       "      <td>0</td>\n",
       "      <td>0</td>\n",
       "      <td>87</td>\n",
       "      <td>72</td>\n",
       "      <td>347</td>\n",
       "      <td>316</td>\n",
       "    </tr>\n",
       "    <tr>\n",
       "      <th>28</th>\n",
       "      <td>28</td>\n",
       "      <td>Sun</td>\n",
       "      <td>27-Nov-22</td>\n",
       "      <td>20:00</td>\n",
       "      <td>Al Bayt Stadium</td>\n",
       "      <td>Danny Makkelie</td>\n",
       "      <td>Group E</td>\n",
       "      <td>Spain</td>\n",
       "      <td>Germany</td>\n",
       "      <td>68895</td>\n",
       "      <td>0.6</td>\n",
       "      <td>1.3</td>\n",
       "      <td>64</td>\n",
       "      <td>36</td>\n",
       "      <td>1</td>\n",
       "      <td>1</td>\n",
       "      <td>1,1</td>\n",
       "      <td>7</td>\n",
       "      <td>10</td>\n",
       "      <td>1</td>\n",
       "      <td>1</td>\n",
       "      <td>1</td>\n",
       "      <td>1</td>\n",
       "      <td>0</td>\n",
       "      <td>0</td>\n",
       "      <td>3</td>\n",
       "      <td>4</td>\n",
       "      <td>4</td>\n",
       "      <td>5</td>\n",
       "      <td>3</td>\n",
       "      <td>7</td>\n",
       "      <td>4</td>\n",
       "      <td>3</td>\n",
       "      <td>1</td>\n",
       "      <td>3</td>\n",
       "      <td>0</td>\n",
       "      <td>0</td>\n",
       "      <td>13</td>\n",
       "      <td>11</td>\n",
       "      <td>2</td>\n",
       "      <td>5</td>\n",
       "      <td>647</td>\n",
       "      <td>352</td>\n",
       "      <td>565</td>\n",
       "      <td>281</td>\n",
       "      <td>6</td>\n",
       "      <td>5</td>\n",
       "      <td>16</td>\n",
       "      <td>15</td>\n",
       "      <td>0</td>\n",
       "      <td>0</td>\n",
       "      <td>11</td>\n",
       "      <td>7</td>\n",
       "      <td>0</td>\n",
       "      <td>0</td>\n",
       "      <td>79</td>\n",
       "      <td>101</td>\n",
       "      <td>275</td>\n",
       "      <td>387</td>\n",
       "    </tr>\n",
       "    <tr>\n",
       "      <th>29</th>\n",
       "      <td>29</td>\n",
       "      <td>Mon</td>\n",
       "      <td>28-Nov-22</td>\n",
       "      <td>11:00</td>\n",
       "      <td>Al Janoub Stadium</td>\n",
       "      <td>Mohammed Abdulla Hassan</td>\n",
       "      <td>Group G</td>\n",
       "      <td>Cameroon</td>\n",
       "      <td>Serbia</td>\n",
       "      <td>39789</td>\n",
       "      <td>2.2</td>\n",
       "      <td>1.9</td>\n",
       "      <td>41</td>\n",
       "      <td>59</td>\n",
       "      <td>3</td>\n",
       "      <td>3</td>\n",
       "      <td>3,3</td>\n",
       "      <td>13</td>\n",
       "      <td>16</td>\n",
       "      <td>3</td>\n",
       "      <td>3</td>\n",
       "      <td>3</td>\n",
       "      <td>2</td>\n",
       "      <td>0</td>\n",
       "      <td>1</td>\n",
       "      <td>8</td>\n",
       "      <td>6</td>\n",
       "      <td>3</td>\n",
       "      <td>8</td>\n",
       "      <td>9</td>\n",
       "      <td>11</td>\n",
       "      <td>4</td>\n",
       "      <td>5</td>\n",
       "      <td>2</td>\n",
       "      <td>2</td>\n",
       "      <td>0</td>\n",
       "      <td>0</td>\n",
       "      <td>8</td>\n",
       "      <td>13</td>\n",
       "      <td>0</td>\n",
       "      <td>4</td>\n",
       "      <td>364</td>\n",
       "      <td>513</td>\n",
       "      <td>271</td>\n",
       "      <td>433</td>\n",
       "      <td>4</td>\n",
       "      <td>3</td>\n",
       "      <td>17</td>\n",
       "      <td>8</td>\n",
       "      <td>0</td>\n",
       "      <td>0</td>\n",
       "      <td>16</td>\n",
       "      <td>13</td>\n",
       "      <td>0</td>\n",
       "      <td>0</td>\n",
       "      <td>83</td>\n",
       "      <td>81</td>\n",
       "      <td>285</td>\n",
       "      <td>234</td>\n",
       "    </tr>\n",
       "    <tr>\n",
       "      <th>30</th>\n",
       "      <td>30</td>\n",
       "      <td>Mon</td>\n",
       "      <td>28-Nov-22</td>\n",
       "      <td>14:00</td>\n",
       "      <td>Education City Stadium</td>\n",
       "      <td>Anthony Taylor</td>\n",
       "      <td>Group H</td>\n",
       "      <td>Korea Republic</td>\n",
       "      <td>Ghana</td>\n",
       "      <td>43983</td>\n",
       "      <td>1.8</td>\n",
       "      <td>1.6</td>\n",
       "      <td>63</td>\n",
       "      <td>37</td>\n",
       "      <td>2</td>\n",
       "      <td>3</td>\n",
       "      <td>2,3</td>\n",
       "      <td>21</td>\n",
       "      <td>8</td>\n",
       "      <td>3</td>\n",
       "      <td>2</td>\n",
       "      <td>2</td>\n",
       "      <td>3</td>\n",
       "      <td>0</td>\n",
       "      <td>0</td>\n",
       "      <td>6</td>\n",
       "      <td>3</td>\n",
       "      <td>8</td>\n",
       "      <td>3</td>\n",
       "      <td>15</td>\n",
       "      <td>7</td>\n",
       "      <td>6</td>\n",
       "      <td>1</td>\n",
       "      <td>2</td>\n",
       "      <td>2</td>\n",
       "      <td>0</td>\n",
       "      <td>0</td>\n",
       "      <td>13</td>\n",
       "      <td>9</td>\n",
       "      <td>1</td>\n",
       "      <td>1</td>\n",
       "      <td>540</td>\n",
       "      <td>319</td>\n",
       "      <td>477</td>\n",
       "      <td>260</td>\n",
       "      <td>12</td>\n",
       "      <td>5</td>\n",
       "      <td>10</td>\n",
       "      <td>14</td>\n",
       "      <td>0</td>\n",
       "      <td>0</td>\n",
       "      <td>8</td>\n",
       "      <td>21</td>\n",
       "      <td>0</td>\n",
       "      <td>0</td>\n",
       "      <td>53</td>\n",
       "      <td>75</td>\n",
       "      <td>220</td>\n",
       "      <td>324</td>\n",
       "    </tr>\n",
       "    <tr>\n",
       "      <th>31</th>\n",
       "      <td>31</td>\n",
       "      <td>Mon</td>\n",
       "      <td>28-Nov-22</td>\n",
       "      <td>17:00</td>\n",
       "      <td>Stadium 974</td>\n",
       "      <td>Ivan Barton</td>\n",
       "      <td>Group G</td>\n",
       "      <td>Brazil</td>\n",
       "      <td>Switzerland</td>\n",
       "      <td>43649</td>\n",
       "      <td>1</td>\n",
       "      <td>0.3</td>\n",
       "      <td>54</td>\n",
       "      <td>46</td>\n",
       "      <td>1</td>\n",
       "      <td>0</td>\n",
       "      <td>1,0</td>\n",
       "      <td>9</td>\n",
       "      <td>4</td>\n",
       "      <td>0</td>\n",
       "      <td>1</td>\n",
       "      <td>1</td>\n",
       "      <td>0</td>\n",
       "      <td>0</td>\n",
       "      <td>0</td>\n",
       "      <td>5</td>\n",
       "      <td>0</td>\n",
       "      <td>2</td>\n",
       "      <td>1</td>\n",
       "      <td>6</td>\n",
       "      <td>2</td>\n",
       "      <td>3</td>\n",
       "      <td>2</td>\n",
       "      <td>1</td>\n",
       "      <td>1</td>\n",
       "      <td>0</td>\n",
       "      <td>0</td>\n",
       "      <td>10</td>\n",
       "      <td>17</td>\n",
       "      <td>3</td>\n",
       "      <td>1</td>\n",
       "      <td>565</td>\n",
       "      <td>488</td>\n",
       "      <td>498</td>\n",
       "      <td>415</td>\n",
       "      <td>8</td>\n",
       "      <td>3</td>\n",
       "      <td>18</td>\n",
       "      <td>13</td>\n",
       "      <td>0</td>\n",
       "      <td>0</td>\n",
       "      <td>4</td>\n",
       "      <td>9</td>\n",
       "      <td>0</td>\n",
       "      <td>0</td>\n",
       "      <td>85</td>\n",
       "      <td>80</td>\n",
       "      <td>282</td>\n",
       "      <td>344</td>\n",
       "    </tr>\n",
       "    <tr>\n",
       "      <th>32</th>\n",
       "      <td>32</td>\n",
       "      <td>Mon</td>\n",
       "      <td>28-Nov-22</td>\n",
       "      <td>20:00</td>\n",
       "      <td>Lusail Iconic Stadium</td>\n",
       "      <td>Alireza Faghani</td>\n",
       "      <td>Group H</td>\n",
       "      <td>Portugal</td>\n",
       "      <td>Uruguay</td>\n",
       "      <td>88668</td>\n",
       "      <td>1.3</td>\n",
       "      <td>1.3</td>\n",
       "      <td>59</td>\n",
       "      <td>41</td>\n",
       "      <td>2</td>\n",
       "      <td>0</td>\n",
       "      <td>2,0</td>\n",
       "      <td>14</td>\n",
       "      <td>10</td>\n",
       "      <td>0</td>\n",
       "      <td>2</td>\n",
       "      <td>1</td>\n",
       "      <td>0</td>\n",
       "      <td>1</td>\n",
       "      <td>0</td>\n",
       "      <td>4</td>\n",
       "      <td>3</td>\n",
       "      <td>7</td>\n",
       "      <td>6</td>\n",
       "      <td>4</td>\n",
       "      <td>6</td>\n",
       "      <td>10</td>\n",
       "      <td>4</td>\n",
       "      <td>3</td>\n",
       "      <td>2</td>\n",
       "      <td>0</td>\n",
       "      <td>0</td>\n",
       "      <td>10</td>\n",
       "      <td>16</td>\n",
       "      <td>2</td>\n",
       "      <td>0</td>\n",
       "      <td>596</td>\n",
       "      <td>390</td>\n",
       "      <td>517</td>\n",
       "      <td>306</td>\n",
       "      <td>6</td>\n",
       "      <td>2</td>\n",
       "      <td>15</td>\n",
       "      <td>13</td>\n",
       "      <td>1</td>\n",
       "      <td>0</td>\n",
       "      <td>11</td>\n",
       "      <td>14</td>\n",
       "      <td>0</td>\n",
       "      <td>0</td>\n",
       "      <td>68</td>\n",
       "      <td>81</td>\n",
       "      <td>226</td>\n",
       "      <td>362</td>\n",
       "    </tr>\n",
       "    <tr>\n",
       "      <th>33</th>\n",
       "      <td>33</td>\n",
       "      <td>Tue</td>\n",
       "      <td>29-Nov-22</td>\n",
       "      <td>16:00</td>\n",
       "      <td>Khalifa International Stadium</td>\n",
       "      <td>Clement Turpin</td>\n",
       "      <td>Group A</td>\n",
       "      <td>Netherlands</td>\n",
       "      <td>Qatar</td>\n",
       "      <td>44569</td>\n",
       "      <td>0.9</td>\n",
       "      <td>2.1</td>\n",
       "      <td>61</td>\n",
       "      <td>39</td>\n",
       "      <td>2</td>\n",
       "      <td>0</td>\n",
       "      <td>1,2</td>\n",
       "      <td>13</td>\n",
       "      <td>6</td>\n",
       "      <td>0</td>\n",
       "      <td>2</td>\n",
       "      <td>2</td>\n",
       "      <td>0</td>\n",
       "      <td>0</td>\n",
       "      <td>0</td>\n",
       "      <td>4</td>\n",
       "      <td>4</td>\n",
       "      <td>5</td>\n",
       "      <td>2</td>\n",
       "      <td>10</td>\n",
       "      <td>2</td>\n",
       "      <td>3</td>\n",
       "      <td>4</td>\n",
       "      <td>1</td>\n",
       "      <td>0</td>\n",
       "      <td>0</td>\n",
       "      <td>0</td>\n",
       "      <td>19</td>\n",
       "      <td>9</td>\n",
       "      <td>4</td>\n",
       "      <td>0</td>\n",
       "      <td>795</td>\n",
       "      <td>459</td>\n",
       "      <td>740</td>\n",
       "      <td>394</td>\n",
       "      <td>4</td>\n",
       "      <td>2</td>\n",
       "      <td>9</td>\n",
       "      <td>24</td>\n",
       "      <td>0</td>\n",
       "      <td>0</td>\n",
       "      <td>5</td>\n",
       "      <td>14</td>\n",
       "      <td>0</td>\n",
       "      <td>0</td>\n",
       "      <td>62</td>\n",
       "      <td>52</td>\n",
       "      <td>319</td>\n",
       "      <td>322</td>\n",
       "    </tr>\n",
       "    <tr>\n",
       "      <th>34</th>\n",
       "      <td>34</td>\n",
       "      <td>Tue</td>\n",
       "      <td>29-Nov-22</td>\n",
       "      <td>16:00</td>\n",
       "      <td>Al Bayt Stadium</td>\n",
       "      <td>Bakary Papa Gassama</td>\n",
       "      <td>Group A</td>\n",
       "      <td>Ecuador</td>\n",
       "      <td>Senegal</td>\n",
       "      <td>66784</td>\n",
       "      <td>1.6</td>\n",
       "      <td>0.1</td>\n",
       "      <td>63</td>\n",
       "      <td>37</td>\n",
       "      <td>1</td>\n",
       "      <td>2</td>\n",
       "      <td>2,0</td>\n",
       "      <td>8</td>\n",
       "      <td>15</td>\n",
       "      <td>2</td>\n",
       "      <td>1</td>\n",
       "      <td>1</td>\n",
       "      <td>2</td>\n",
       "      <td>0</td>\n",
       "      <td>0</td>\n",
       "      <td>4</td>\n",
       "      <td>5</td>\n",
       "      <td>3</td>\n",
       "      <td>8</td>\n",
       "      <td>5</td>\n",
       "      <td>11</td>\n",
       "      <td>3</td>\n",
       "      <td>4</td>\n",
       "      <td>0</td>\n",
       "      <td>1</td>\n",
       "      <td>0</td>\n",
       "      <td>0</td>\n",
       "      <td>23</td>\n",
       "      <td>11</td>\n",
       "      <td>0</td>\n",
       "      <td>3</td>\n",
       "      <td>432</td>\n",
       "      <td>269</td>\n",
       "      <td>353</td>\n",
       "      <td>198</td>\n",
       "      <td>3</td>\n",
       "      <td>6</td>\n",
       "      <td>14</td>\n",
       "      <td>22</td>\n",
       "      <td>0</td>\n",
       "      <td>1</td>\n",
       "      <td>15</td>\n",
       "      <td>8</td>\n",
       "      <td>0</td>\n",
       "      <td>0</td>\n",
       "      <td>59</td>\n",
       "      <td>62</td>\n",
       "      <td>190</td>\n",
       "      <td>243</td>\n",
       "    </tr>\n",
       "    <tr>\n",
       "      <th>35</th>\n",
       "      <td>35</td>\n",
       "      <td>Tue</td>\n",
       "      <td>29-Nov-22</td>\n",
       "      <td>20:00</td>\n",
       "      <td>Ahmed bin Ali Stadium</td>\n",
       "      <td>Slavko Vincic</td>\n",
       "      <td>Group B</td>\n",
       "      <td>Wales</td>\n",
       "      <td>England</td>\n",
       "      <td>44297</td>\n",
       "      <td>0.3</td>\n",
       "      <td>2.4</td>\n",
       "      <td>36</td>\n",
       "      <td>64</td>\n",
       "      <td>0</td>\n",
       "      <td>3</td>\n",
       "      <td>0,3</td>\n",
       "      <td>7</td>\n",
       "      <td>17</td>\n",
       "      <td>3</td>\n",
       "      <td>0</td>\n",
       "      <td>0</td>\n",
       "      <td>2</td>\n",
       "      <td>0</td>\n",
       "      <td>1</td>\n",
       "      <td>1</td>\n",
       "      <td>7</td>\n",
       "      <td>3</td>\n",
       "      <td>6</td>\n",
       "      <td>1</td>\n",
       "      <td>13</td>\n",
       "      <td>6</td>\n",
       "      <td>4</td>\n",
       "      <td>2</td>\n",
       "      <td>0</td>\n",
       "      <td>0</td>\n",
       "      <td>0</td>\n",
       "      <td>16</td>\n",
       "      <td>9</td>\n",
       "      <td>1</td>\n",
       "      <td>1</td>\n",
       "      <td>325</td>\n",
       "      <td>588</td>\n",
       "      <td>261</td>\n",
       "      <td>529</td>\n",
       "      <td>1</td>\n",
       "      <td>6</td>\n",
       "      <td>10</td>\n",
       "      <td>17</td>\n",
       "      <td>0</td>\n",
       "      <td>0</td>\n",
       "      <td>17</td>\n",
       "      <td>8</td>\n",
       "      <td>0</td>\n",
       "      <td>0</td>\n",
       "      <td>49</td>\n",
       "      <td>56</td>\n",
       "      <td>328</td>\n",
       "      <td>167</td>\n",
       "    </tr>\n",
       "    <tr>\n",
       "      <th>36</th>\n",
       "      <td>36</td>\n",
       "      <td>Tue</td>\n",
       "      <td>29-Nov-22</td>\n",
       "      <td>20:00</td>\n",
       "      <td>Al Thumama Stadium</td>\n",
       "      <td>Antonio Mateu Lahoz</td>\n",
       "      <td>Group B</td>\n",
       "      <td>Iran</td>\n",
       "      <td>United States</td>\n",
       "      <td>42127</td>\n",
       "      <td>0.4</td>\n",
       "      <td>1.2</td>\n",
       "      <td>49</td>\n",
       "      <td>51</td>\n",
       "      <td>0</td>\n",
       "      <td>1</td>\n",
       "      <td>0,1</td>\n",
       "      <td>6</td>\n",
       "      <td>12</td>\n",
       "      <td>1</td>\n",
       "      <td>0</td>\n",
       "      <td>0</td>\n",
       "      <td>1</td>\n",
       "      <td>0</td>\n",
       "      <td>0</td>\n",
       "      <td>2</td>\n",
       "      <td>5</td>\n",
       "      <td>4</td>\n",
       "      <td>4</td>\n",
       "      <td>5</td>\n",
       "      <td>8</td>\n",
       "      <td>1</td>\n",
       "      <td>4</td>\n",
       "      <td>3</td>\n",
       "      <td>1</td>\n",
       "      <td>0</td>\n",
       "      <td>0</td>\n",
       "      <td>13</td>\n",
       "      <td>10</td>\n",
       "      <td>2</td>\n",
       "      <td>1</td>\n",
       "      <td>463</td>\n",
       "      <td>470</td>\n",
       "      <td>379</td>\n",
       "      <td>413</td>\n",
       "      <td>1</td>\n",
       "      <td>5</td>\n",
       "      <td>11</td>\n",
       "      <td>15</td>\n",
       "      <td>0</td>\n",
       "      <td>0</td>\n",
       "      <td>13</td>\n",
       "      <td>6</td>\n",
       "      <td>0</td>\n",
       "      <td>0</td>\n",
       "      <td>63</td>\n",
       "      <td>74</td>\n",
       "      <td>295</td>\n",
       "      <td>302</td>\n",
       "    </tr>\n",
       "    <tr>\n",
       "      <th>37</th>\n",
       "      <td>37</td>\n",
       "      <td>Wed</td>\n",
       "      <td>30-Nov-22</td>\n",
       "      <td>16:00</td>\n",
       "      <td>Al Janoub Stadium</td>\n",
       "      <td>Mustapha Ghorbal</td>\n",
       "      <td>Group D</td>\n",
       "      <td>Australia</td>\n",
       "      <td>Denmark</td>\n",
       "      <td>41232</td>\n",
       "      <td>0.6</td>\n",
       "      <td>0.6</td>\n",
       "      <td>32</td>\n",
       "      <td>68</td>\n",
       "      <td>1</td>\n",
       "      <td>0</td>\n",
       "      <td>1,0</td>\n",
       "      <td>8</td>\n",
       "      <td>14</td>\n",
       "      <td>0</td>\n",
       "      <td>1</td>\n",
       "      <td>1</td>\n",
       "      <td>0</td>\n",
       "      <td>0</td>\n",
       "      <td>0</td>\n",
       "      <td>4</td>\n",
       "      <td>3</td>\n",
       "      <td>2</td>\n",
       "      <td>7</td>\n",
       "      <td>3</td>\n",
       "      <td>11</td>\n",
       "      <td>5</td>\n",
       "      <td>3</td>\n",
       "      <td>2</td>\n",
       "      <td>1</td>\n",
       "      <td>0</td>\n",
       "      <td>0</td>\n",
       "      <td>11</td>\n",
       "      <td>10</td>\n",
       "      <td>1</td>\n",
       "      <td>3</td>\n",
       "      <td>286</td>\n",
       "      <td>650</td>\n",
       "      <td>187</td>\n",
       "      <td>567</td>\n",
       "      <td>2</td>\n",
       "      <td>6</td>\n",
       "      <td>13</td>\n",
       "      <td>12</td>\n",
       "      <td>0</td>\n",
       "      <td>0</td>\n",
       "      <td>14</td>\n",
       "      <td>8</td>\n",
       "      <td>0</td>\n",
       "      <td>0</td>\n",
       "      <td>90</td>\n",
       "      <td>74</td>\n",
       "      <td>341</td>\n",
       "      <td>161</td>\n",
       "    </tr>\n",
       "    <tr>\n",
       "      <th>38</th>\n",
       "      <td>38</td>\n",
       "      <td>Wed</td>\n",
       "      <td>30-Nov-22</td>\n",
       "      <td>16:00</td>\n",
       "      <td>Education City Stadium</td>\n",
       "      <td>Matt Conger</td>\n",
       "      <td>Group D</td>\n",
       "      <td>Tunisia</td>\n",
       "      <td>France</td>\n",
       "      <td>43627</td>\n",
       "      <td>0.5</td>\n",
       "      <td>0.8</td>\n",
       "      <td>35</td>\n",
       "      <td>65</td>\n",
       "      <td>1</td>\n",
       "      <td>0</td>\n",
       "      <td>1,0</td>\n",
       "      <td>5</td>\n",
       "      <td>9</td>\n",
       "      <td>0</td>\n",
       "      <td>1</td>\n",
       "      <td>0</td>\n",
       "      <td>0</td>\n",
       "      <td>1</td>\n",
       "      <td>0</td>\n",
       "      <td>3</td>\n",
       "      <td>3</td>\n",
       "      <td>2</td>\n",
       "      <td>4</td>\n",
       "      <td>2</td>\n",
       "      <td>4</td>\n",
       "      <td>3</td>\n",
       "      <td>5</td>\n",
       "      <td>1</td>\n",
       "      <td>0</td>\n",
       "      <td>0</td>\n",
       "      <td>0</td>\n",
       "      <td>14</td>\n",
       "      <td>6</td>\n",
       "      <td>3</td>\n",
       "      <td>2</td>\n",
       "      <td>328</td>\n",
       "      <td>636</td>\n",
       "      <td>266</td>\n",
       "      <td>566</td>\n",
       "      <td>7</td>\n",
       "      <td>8</td>\n",
       "      <td>8</td>\n",
       "      <td>17</td>\n",
       "      <td>0</td>\n",
       "      <td>0</td>\n",
       "      <td>11</td>\n",
       "      <td>6</td>\n",
       "      <td>0</td>\n",
       "      <td>0</td>\n",
       "      <td>68</td>\n",
       "      <td>80</td>\n",
       "      <td>400</td>\n",
       "      <td>202</td>\n",
       "    </tr>\n",
       "    <tr>\n",
       "      <th>39</th>\n",
       "      <td>39</td>\n",
       "      <td>Wed</td>\n",
       "      <td>30-Nov-22</td>\n",
       "      <td>20:00</td>\n",
       "      <td>Lusail Iconic Stadium</td>\n",
       "      <td>Michael Oliver</td>\n",
       "      <td>Group C</td>\n",
       "      <td>Poland</td>\n",
       "      <td>Argentina</td>\n",
       "      <td>84985</td>\n",
       "      <td>1.1</td>\n",
       "      <td>2.3</td>\n",
       "      <td>40</td>\n",
       "      <td>60</td>\n",
       "      <td>0</td>\n",
       "      <td>2</td>\n",
       "      <td>1,2</td>\n",
       "      <td>4</td>\n",
       "      <td>25</td>\n",
       "      <td>2</td>\n",
       "      <td>0</td>\n",
       "      <td>0</td>\n",
       "      <td>2</td>\n",
       "      <td>0</td>\n",
       "      <td>0</td>\n",
       "      <td>0</td>\n",
       "      <td>13</td>\n",
       "      <td>2</td>\n",
       "      <td>8</td>\n",
       "      <td>2</td>\n",
       "      <td>21</td>\n",
       "      <td>2</td>\n",
       "      <td>4</td>\n",
       "      <td>1</td>\n",
       "      <td>1</td>\n",
       "      <td>0</td>\n",
       "      <td>0</td>\n",
       "      <td>6</td>\n",
       "      <td>11</td>\n",
       "      <td>0</td>\n",
       "      <td>0</td>\n",
       "      <td>321</td>\n",
       "      <td>862</td>\n",
       "      <td>261</td>\n",
       "      <td>814</td>\n",
       "      <td>1</td>\n",
       "      <td>9</td>\n",
       "      <td>12</td>\n",
       "      <td>5</td>\n",
       "      <td>0</td>\n",
       "      <td>0</td>\n",
       "      <td>25</td>\n",
       "      <td>4</td>\n",
       "      <td>0</td>\n",
       "      <td>0</td>\n",
       "      <td>67</td>\n",
       "      <td>48</td>\n",
       "      <td>438</td>\n",
       "      <td>141</td>\n",
       "    </tr>\n",
       "    <tr>\n",
       "      <th>40</th>\n",
       "      <td>40</td>\n",
       "      <td>Wed</td>\n",
       "      <td>30-Nov-22</td>\n",
       "      <td>20:00</td>\n",
       "      <td>Stadium 974</td>\n",
       "      <td>Danny Makkelie</td>\n",
       "      <td>Group C</td>\n",
       "      <td>Saudi Arabia</td>\n",
       "      <td>Mexico</td>\n",
       "      <td>44089</td>\n",
       "      <td>0.3</td>\n",
       "      <td>3.5</td>\n",
       "      <td>27</td>\n",
       "      <td>73</td>\n",
       "      <td>1</td>\n",
       "      <td>2</td>\n",
       "      <td>0,2</td>\n",
       "      <td>10</td>\n",
       "      <td>25</td>\n",
       "      <td>2</td>\n",
       "      <td>1</td>\n",
       "      <td>1</td>\n",
       "      <td>1</td>\n",
       "      <td>0</td>\n",
       "      <td>1</td>\n",
       "      <td>2</td>\n",
       "      <td>10</td>\n",
       "      <td>8</td>\n",
       "      <td>8</td>\n",
       "      <td>6</td>\n",
       "      <td>10</td>\n",
       "      <td>4</td>\n",
       "      <td>15</td>\n",
       "      <td>6</td>\n",
       "      <td>1</td>\n",
       "      <td>0</td>\n",
       "      <td>0</td>\n",
       "      <td>20</td>\n",
       "      <td>18</td>\n",
       "      <td>2</td>\n",
       "      <td>6</td>\n",
       "      <td>297</td>\n",
       "      <td>412</td>\n",
       "      <td>197</td>\n",
       "      <td>336</td>\n",
       "      <td>1</td>\n",
       "      <td>8</td>\n",
       "      <td>23</td>\n",
       "      <td>22</td>\n",
       "      <td>0</td>\n",
       "      <td>0</td>\n",
       "      <td>26</td>\n",
       "      <td>10</td>\n",
       "      <td>0</td>\n",
       "      <td>0</td>\n",
       "      <td>82</td>\n",
       "      <td>76</td>\n",
       "      <td>269</td>\n",
       "      <td>229</td>\n",
       "    </tr>\n",
       "    <tr>\n",
       "      <th>41</th>\n",
       "      <td>41</td>\n",
       "      <td>Thu</td>\n",
       "      <td>1-Dec-22</td>\n",
       "      <td>16:00</td>\n",
       "      <td>Al Thumama Stadium</td>\n",
       "      <td>Raphael Claus</td>\n",
       "      <td>Group F</td>\n",
       "      <td>Croatia</td>\n",
       "      <td>Belgium</td>\n",
       "      <td>43102</td>\n",
       "      <td>1.4</td>\n",
       "      <td>0.5</td>\n",
       "      <td>58</td>\n",
       "      <td>42</td>\n",
       "      <td>0</td>\n",
       "      <td>0</td>\n",
       "      <td>1,2</td>\n",
       "      <td>11</td>\n",
       "      <td>15</td>\n",
       "      <td>0</td>\n",
       "      <td>0</td>\n",
       "      <td>0</td>\n",
       "      <td>0</td>\n",
       "      <td>0</td>\n",
       "      <td>0</td>\n",
       "      <td>4</td>\n",
       "      <td>4</td>\n",
       "      <td>5</td>\n",
       "      <td>7</td>\n",
       "      <td>7</td>\n",
       "      <td>12</td>\n",
       "      <td>4</td>\n",
       "      <td>3</td>\n",
       "      <td>0</td>\n",
       "      <td>1</td>\n",
       "      <td>0</td>\n",
       "      <td>0</td>\n",
       "      <td>7</td>\n",
       "      <td>9</td>\n",
       "      <td>4</td>\n",
       "      <td>0</td>\n",
       "      <td>578</td>\n",
       "      <td>596</td>\n",
       "      <td>504</td>\n",
       "      <td>531</td>\n",
       "      <td>2</td>\n",
       "      <td>4</td>\n",
       "      <td>9</td>\n",
       "      <td>11</td>\n",
       "      <td>0</td>\n",
       "      <td>0</td>\n",
       "      <td>16</td>\n",
       "      <td>11</td>\n",
       "      <td>0</td>\n",
       "      <td>0</td>\n",
       "      <td>70</td>\n",
       "      <td>68</td>\n",
       "      <td>328</td>\n",
       "      <td>346</td>\n",
       "    </tr>\n",
       "    <tr>\n",
       "      <th>42</th>\n",
       "      <td>42</td>\n",
       "      <td>Thu</td>\n",
       "      <td>1-Dec-22</td>\n",
       "      <td>16:00</td>\n",
       "      <td>Ahmed bin Ali Stadium</td>\n",
       "      <td>Anthony Taylor</td>\n",
       "      <td>Group F</td>\n",
       "      <td>Canada</td>\n",
       "      <td>Morocco</td>\n",
       "      <td>43984</td>\n",
       "      <td>0.7</td>\n",
       "      <td>3</td>\n",
       "      <td>49</td>\n",
       "      <td>51</td>\n",
       "      <td>1</td>\n",
       "      <td>2</td>\n",
       "      <td>0,0</td>\n",
       "      <td>5</td>\n",
       "      <td>7</td>\n",
       "      <td>2</td>\n",
       "      <td>1</td>\n",
       "      <td>0</td>\n",
       "      <td>1</td>\n",
       "      <td>0</td>\n",
       "      <td>1</td>\n",
       "      <td>0</td>\n",
       "      <td>2</td>\n",
       "      <td>4</td>\n",
       "      <td>2</td>\n",
       "      <td>4</td>\n",
       "      <td>4</td>\n",
       "      <td>1</td>\n",
       "      <td>3</td>\n",
       "      <td>4</td>\n",
       "      <td>0</td>\n",
       "      <td>0</td>\n",
       "      <td>0</td>\n",
       "      <td>14</td>\n",
       "      <td>14</td>\n",
       "      <td>4</td>\n",
       "      <td>4</td>\n",
       "      <td>539</td>\n",
       "      <td>384</td>\n",
       "      <td>472</td>\n",
       "      <td>308</td>\n",
       "      <td>6</td>\n",
       "      <td>2</td>\n",
       "      <td>18</td>\n",
       "      <td>18</td>\n",
       "      <td>0</td>\n",
       "      <td>0</td>\n",
       "      <td>7</td>\n",
       "      <td>7</td>\n",
       "      <td>0</td>\n",
       "      <td>1</td>\n",
       "      <td>66</td>\n",
       "      <td>72</td>\n",
       "      <td>224</td>\n",
       "      <td>324</td>\n",
       "    </tr>\n",
       "    <tr>\n",
       "      <th>43</th>\n",
       "      <td>43</td>\n",
       "      <td>Thu</td>\n",
       "      <td>1-Dec-22</td>\n",
       "      <td>20:00</td>\n",
       "      <td>Khalifa International Stadium</td>\n",
       "      <td>Victor Gomes</td>\n",
       "      <td>Group E</td>\n",
       "      <td>Japan</td>\n",
       "      <td>Spain</td>\n",
       "      <td>44851</td>\n",
       "      <td>1.4</td>\n",
       "      <td>1</td>\n",
       "      <td>18</td>\n",
       "      <td>82</td>\n",
       "      <td>2</td>\n",
       "      <td>1</td>\n",
       "      <td>2,1</td>\n",
       "      <td>6</td>\n",
       "      <td>14</td>\n",
       "      <td>1</td>\n",
       "      <td>2</td>\n",
       "      <td>1</td>\n",
       "      <td>1</td>\n",
       "      <td>1</td>\n",
       "      <td>0</td>\n",
       "      <td>3</td>\n",
       "      <td>5</td>\n",
       "      <td>2</td>\n",
       "      <td>3</td>\n",
       "      <td>4</td>\n",
       "      <td>7</td>\n",
       "      <td>2</td>\n",
       "      <td>7</td>\n",
       "      <td>3</td>\n",
       "      <td>0</td>\n",
       "      <td>0</td>\n",
       "      <td>0</td>\n",
       "      <td>9</td>\n",
       "      <td>6</td>\n",
       "      <td>2</td>\n",
       "      <td>2</td>\n",
       "      <td>225</td>\n",
       "      <td>1070</td>\n",
       "      <td>167</td>\n",
       "      <td>992</td>\n",
       "      <td>0</td>\n",
       "      <td>2</td>\n",
       "      <td>8</td>\n",
       "      <td>11</td>\n",
       "      <td>0</td>\n",
       "      <td>0</td>\n",
       "      <td>14</td>\n",
       "      <td>6</td>\n",
       "      <td>0</td>\n",
       "      <td>0</td>\n",
       "      <td>85</td>\n",
       "      <td>49</td>\n",
       "      <td>637</td>\n",
       "      <td>150</td>\n",
       "    </tr>\n",
       "    <tr>\n",
       "      <th>44</th>\n",
       "      <td>44</td>\n",
       "      <td>Thu</td>\n",
       "      <td>1-Dec-22</td>\n",
       "      <td>20:00</td>\n",
       "      <td>Al Bayt Stadium</td>\n",
       "      <td>Stephanie Frappart</td>\n",
       "      <td>Group E</td>\n",
       "      <td>Costa Rica</td>\n",
       "      <td>Germany</td>\n",
       "      <td>67054</td>\n",
       "      <td>1.3</td>\n",
       "      <td>5.7</td>\n",
       "      <td>32</td>\n",
       "      <td>68</td>\n",
       "      <td>2</td>\n",
       "      <td>4</td>\n",
       "      <td>2,4</td>\n",
       "      <td>8</td>\n",
       "      <td>32</td>\n",
       "      <td>4</td>\n",
       "      <td>2</td>\n",
       "      <td>2</td>\n",
       "      <td>4</td>\n",
       "      <td>0</td>\n",
       "      <td>0</td>\n",
       "      <td>6</td>\n",
       "      <td>11</td>\n",
       "      <td>1</td>\n",
       "      <td>17</td>\n",
       "      <td>6</td>\n",
       "      <td>24</td>\n",
       "      <td>2</td>\n",
       "      <td>8</td>\n",
       "      <td>1</td>\n",
       "      <td>0</td>\n",
       "      <td>0</td>\n",
       "      <td>0</td>\n",
       "      <td>3</td>\n",
       "      <td>9</td>\n",
       "      <td>4</td>\n",
       "      <td>3</td>\n",
       "      <td>347</td>\n",
       "      <td>727</td>\n",
       "      <td>269</td>\n",
       "      <td>661</td>\n",
       "      <td>1</td>\n",
       "      <td>14</td>\n",
       "      <td>12</td>\n",
       "      <td>7</td>\n",
       "      <td>0</td>\n",
       "      <td>0</td>\n",
       "      <td>32</td>\n",
       "      <td>8</td>\n",
       "      <td>0</td>\n",
       "      <td>0</td>\n",
       "      <td>79</td>\n",
       "      <td>77</td>\n",
       "      <td>378</td>\n",
       "      <td>230</td>\n",
       "    </tr>\n",
       "    <tr>\n",
       "      <th>45</th>\n",
       "      <td>45</td>\n",
       "      <td>Fri</td>\n",
       "      <td>2-Dec-22</td>\n",
       "      <td>16:00</td>\n",
       "      <td>Al Janoub Stadium</td>\n",
       "      <td>Daniel Siebert</td>\n",
       "      <td>Group H</td>\n",
       "      <td>Ghana</td>\n",
       "      <td>Uruguay</td>\n",
       "      <td>43443</td>\n",
       "      <td>1.6</td>\n",
       "      <td>1.8</td>\n",
       "      <td>51</td>\n",
       "      <td>49</td>\n",
       "      <td>0</td>\n",
       "      <td>2</td>\n",
       "      <td>0,2</td>\n",
       "      <td>9</td>\n",
       "      <td>12</td>\n",
       "      <td>2</td>\n",
       "      <td>0</td>\n",
       "      <td>0</td>\n",
       "      <td>2</td>\n",
       "      <td>0</td>\n",
       "      <td>0</td>\n",
       "      <td>4</td>\n",
       "      <td>7</td>\n",
       "      <td>4</td>\n",
       "      <td>5</td>\n",
       "      <td>4</td>\n",
       "      <td>7</td>\n",
       "      <td>5</td>\n",
       "      <td>5</td>\n",
       "      <td>2</td>\n",
       "      <td>3</td>\n",
       "      <td>0</td>\n",
       "      <td>0</td>\n",
       "      <td>18</td>\n",
       "      <td>11</td>\n",
       "      <td>2</td>\n",
       "      <td>2</td>\n",
       "      <td>460</td>\n",
       "      <td>446</td>\n",
       "      <td>377</td>\n",
       "      <td>361</td>\n",
       "      <td>5</td>\n",
       "      <td>2</td>\n",
       "      <td>12</td>\n",
       "      <td>20</td>\n",
       "      <td>0</td>\n",
       "      <td>0</td>\n",
       "      <td>12</td>\n",
       "      <td>9</td>\n",
       "      <td>0</td>\n",
       "      <td>0</td>\n",
       "      <td>92</td>\n",
       "      <td>84</td>\n",
       "      <td>248</td>\n",
       "      <td>293</td>\n",
       "    </tr>\n",
       "    <tr>\n",
       "      <th>46</th>\n",
       "      <td>46</td>\n",
       "      <td>Fri</td>\n",
       "      <td>2-Dec-22</td>\n",
       "      <td>16:00</td>\n",
       "      <td>Education City Stadium</td>\n",
       "      <td>Facundo Tello</td>\n",
       "      <td>Group H</td>\n",
       "      <td>Korea Republic</td>\n",
       "      <td>Portugal</td>\n",
       "      <td>44097</td>\n",
       "      <td>1.7</td>\n",
       "      <td>1.3</td>\n",
       "      <td>39</td>\n",
       "      <td>61</td>\n",
       "      <td>2</td>\n",
       "      <td>1</td>\n",
       "      <td>2,1</td>\n",
       "      <td>12</td>\n",
       "      <td>12</td>\n",
       "      <td>1</td>\n",
       "      <td>2</td>\n",
       "      <td>2</td>\n",
       "      <td>1</td>\n",
       "      <td>0</td>\n",
       "      <td>0</td>\n",
       "      <td>6</td>\n",
       "      <td>4</td>\n",
       "      <td>4</td>\n",
       "      <td>6</td>\n",
       "      <td>6</td>\n",
       "      <td>5</td>\n",
       "      <td>6</td>\n",
       "      <td>7</td>\n",
       "      <td>2</td>\n",
       "      <td>0</td>\n",
       "      <td>0</td>\n",
       "      <td>0</td>\n",
       "      <td>9</td>\n",
       "      <td>11</td>\n",
       "      <td>1</td>\n",
       "      <td>5</td>\n",
       "      <td>359</td>\n",
       "      <td>606</td>\n",
       "      <td>304</td>\n",
       "      <td>541</td>\n",
       "      <td>5</td>\n",
       "      <td>4</td>\n",
       "      <td>15</td>\n",
       "      <td>10</td>\n",
       "      <td>0</td>\n",
       "      <td>0</td>\n",
       "      <td>14</td>\n",
       "      <td>12</td>\n",
       "      <td>0</td>\n",
       "      <td>0</td>\n",
       "      <td>54</td>\n",
       "      <td>50</td>\n",
       "      <td>359</td>\n",
       "      <td>233</td>\n",
       "    </tr>\n",
       "    <tr>\n",
       "      <th>47</th>\n",
       "      <td>47</td>\n",
       "      <td>Fri</td>\n",
       "      <td>2-Dec-22</td>\n",
       "      <td>20:00</td>\n",
       "      <td>Stadium 974</td>\n",
       "      <td>Fernando Rapallini</td>\n",
       "      <td>Group G</td>\n",
       "      <td>Serbia</td>\n",
       "      <td>Switzerland</td>\n",
       "      <td>41378</td>\n",
       "      <td>1.3</td>\n",
       "      <td>2.7</td>\n",
       "      <td>54</td>\n",
       "      <td>46</td>\n",
       "      <td>2</td>\n",
       "      <td>3</td>\n",
       "      <td>2,3</td>\n",
       "      <td>11</td>\n",
       "      <td>14</td>\n",
       "      <td>3</td>\n",
       "      <td>2</td>\n",
       "      <td>2</td>\n",
       "      <td>3</td>\n",
       "      <td>0</td>\n",
       "      <td>0</td>\n",
       "      <td>4</td>\n",
       "      <td>7</td>\n",
       "      <td>6</td>\n",
       "      <td>3</td>\n",
       "      <td>10</td>\n",
       "      <td>10</td>\n",
       "      <td>1</td>\n",
       "      <td>4</td>\n",
       "      <td>7</td>\n",
       "      <td>4</td>\n",
       "      <td>0</td>\n",
       "      <td>0</td>\n",
       "      <td>18</td>\n",
       "      <td>13</td>\n",
       "      <td>0</td>\n",
       "      <td>0</td>\n",
       "      <td>476</td>\n",
       "      <td>403</td>\n",
       "      <td>390</td>\n",
       "      <td>325</td>\n",
       "      <td>2</td>\n",
       "      <td>0</td>\n",
       "      <td>14</td>\n",
       "      <td>18</td>\n",
       "      <td>0</td>\n",
       "      <td>0</td>\n",
       "      <td>14</td>\n",
       "      <td>10</td>\n",
       "      <td>0</td>\n",
       "      <td>0</td>\n",
       "      <td>74</td>\n",
       "      <td>82</td>\n",
       "      <td>276</td>\n",
       "      <td>253</td>\n",
       "    </tr>\n",
       "    <tr>\n",
       "      <th>48</th>\n",
       "      <td>48</td>\n",
       "      <td>Fri</td>\n",
       "      <td>2-Dec-22</td>\n",
       "      <td>20:00</td>\n",
       "      <td>Lusail Iconic Stadium</td>\n",
       "      <td>Ismail Elfath</td>\n",
       "      <td>Group G</td>\n",
       "      <td>Cameroon</td>\n",
       "      <td>Brazil</td>\n",
       "      <td>85986</td>\n",
       "      <td>0.5</td>\n",
       "      <td>2.5</td>\n",
       "      <td>35</td>\n",
       "      <td>65</td>\n",
       "      <td>1</td>\n",
       "      <td>0</td>\n",
       "      <td>1,0</td>\n",
       "      <td>7</td>\n",
       "      <td>19</td>\n",
       "      <td>0</td>\n",
       "      <td>1</td>\n",
       "      <td>1</td>\n",
       "      <td>0</td>\n",
       "      <td>0</td>\n",
       "      <td>0</td>\n",
       "      <td>3</td>\n",
       "      <td>6</td>\n",
       "      <td>3</td>\n",
       "      <td>11</td>\n",
       "      <td>5</td>\n",
       "      <td>14</td>\n",
       "      <td>2</td>\n",
       "      <td>5</td>\n",
       "      <td>5</td>\n",
       "      <td>2</td>\n",
       "      <td>1</td>\n",
       "      <td>0</td>\n",
       "      <td>14</td>\n",
       "      <td>14</td>\n",
       "      <td>0</td>\n",
       "      <td>1</td>\n",
       "      <td>295</td>\n",
       "      <td>548</td>\n",
       "      <td>239</td>\n",
       "      <td>491</td>\n",
       "      <td>3</td>\n",
       "      <td>11</td>\n",
       "      <td>15</td>\n",
       "      <td>14</td>\n",
       "      <td>0</td>\n",
       "      <td>0</td>\n",
       "      <td>20</td>\n",
       "      <td>7</td>\n",
       "      <td>0</td>\n",
       "      <td>0</td>\n",
       "      <td>78</td>\n",
       "      <td>54</td>\n",
       "      <td>321</td>\n",
       "      <td>226</td>\n",
       "    </tr>\n",
       "  </tbody>\n",
       "</table>\n",
       "</div>"
      ],
      "text/plain": [
       "0  match_no day_of_week       date   hour                          venue   \n",
       "1         1         Sun  20-Nov-22  17:00                Al Bayt Stadium  \\\n",
       "2         2         Mon  21-Nov-22  14:00  Khalifa International Stadium   \n",
       "3         3         Mon  21-Nov-22  17:00             Al Thumama Stadium   \n",
       "4         4         Mon  21-Nov-22  20:00          Ahmed bin Ali Stadium   \n",
       "5         5         Tue  22-Nov-22  11:00          Lusail Iconic Stadium   \n",
       "6         6         Tue  22-Nov-22  14:00         Education City Stadium   \n",
       "7         7         Tue  22-Nov-22  17:00                    Stadium 974   \n",
       "8         8         Tue  22-Nov-22  20:00              Al Janoub Stadium   \n",
       "9         9         Wed  23-Nov-22  11:00                Al Bayt Stadium   \n",
       "10       10         Wed  23-Nov-22  14:00  Khalifa International Stadium   \n",
       "11       11         Wed  23-Nov-22  17:00             Al Thumama Stadium   \n",
       "12       12         Wed  23-Nov-22  20:00          Ahmed bin Ali Stadium   \n",
       "13       13         Thu  24-Nov-22  11:00              Al Janoub Stadium   \n",
       "14       14         Thu  24-Nov-22  14:00         Education City Stadium   \n",
       "15       15         Thu  24-Nov-22  17:00                    Stadium 974   \n",
       "16       16         Thu  24-Nov-22  20:00          Lusail Iconic Stadium   \n",
       "17       17         Fri  25-Nov-22  11:00          Ahmed bin Ali Stadium   \n",
       "18       18         Fri  25-Nov-22  14:00             Al Thumama Stadium   \n",
       "19       19         Fri  25-Nov-22  17:00  Khalifa International Stadium   \n",
       "20       20         Fri  25-Nov-22  20:00                Al Bayt Stadium   \n",
       "21       21         Sat  26-Nov-22  11:00              Al Janoub Stadium   \n",
       "22       22         Sat  26-Nov-22  14:00         Education City Stadium   \n",
       "23       23         Sat  26-Nov-22  17:00                    Stadium 974   \n",
       "24       24         Sat  26-Nov-22  20:00          Lusail Iconic Stadium   \n",
       "25       25         Sun  27-Nov-22  11:00          Ahmed bin Ali Stadium   \n",
       "26       26         Sun  27-Nov-22  14:00             Al Thumama Stadium   \n",
       "27       27         Sun  27-Nov-22  17:00  Khalifa International Stadium   \n",
       "28       28         Sun  27-Nov-22  20:00                Al Bayt Stadium   \n",
       "29       29         Mon  28-Nov-22  11:00              Al Janoub Stadium   \n",
       "30       30         Mon  28-Nov-22  14:00         Education City Stadium   \n",
       "31       31         Mon  28-Nov-22  17:00                    Stadium 974   \n",
       "32       32         Mon  28-Nov-22  20:00          Lusail Iconic Stadium   \n",
       "33       33         Tue  29-Nov-22  16:00  Khalifa International Stadium   \n",
       "34       34         Tue  29-Nov-22  16:00                Al Bayt Stadium   \n",
       "35       35         Tue  29-Nov-22  20:00          Ahmed bin Ali Stadium   \n",
       "36       36         Tue  29-Nov-22  20:00             Al Thumama Stadium   \n",
       "37       37         Wed  30-Nov-22  16:00              Al Janoub Stadium   \n",
       "38       38         Wed  30-Nov-22  16:00         Education City Stadium   \n",
       "39       39         Wed  30-Nov-22  20:00          Lusail Iconic Stadium   \n",
       "40       40         Wed  30-Nov-22  20:00                    Stadium 974   \n",
       "41       41         Thu   1-Dec-22  16:00             Al Thumama Stadium   \n",
       "42       42         Thu   1-Dec-22  16:00          Ahmed bin Ali Stadium   \n",
       "43       43         Thu   1-Dec-22  20:00  Khalifa International Stadium   \n",
       "44       44         Thu   1-Dec-22  20:00                Al Bayt Stadium   \n",
       "45       45         Fri   2-Dec-22  16:00              Al Janoub Stadium   \n",
       "46       46         Fri   2-Dec-22  16:00         Education City Stadium   \n",
       "47       47         Fri   2-Dec-22  20:00                    Stadium 974   \n",
       "48       48         Fri   2-Dec-22  20:00          Lusail Iconic Stadium   \n",
       "\n",
       "0                         referee    group               1               2   \n",
       "1                  Daniele Orsato  Group A           Qatar         Ecuador  \\\n",
       "2                   Raphael Claus  Group B         England            Iran   \n",
       "3                  Wilton Sampaio  Group A         Senegal     Netherlands   \n",
       "4   Abdulrahman Ibrahim Al Jassim  Group B   United States           Wales   \n",
       "5                   Slavko Vincic  Group C       Argentina    Saudi Arabia   \n",
       "6                     Cesar Ramos  Group D         Denmark         Tunisia   \n",
       "7                     Chris Beath  Group C          Mexico          Poland   \n",
       "8                    Victor Gomes  Group D          France       Australia   \n",
       "9              Fernando Rapallini  Group F         Morocco         Croatia   \n",
       "10                    Ivan Barton  Group E         Germany           Japan   \n",
       "11        Mohammed Abdulla Hassan  Group E           Spain      Costa Rica   \n",
       "12                  Janny Sikazwe  Group F         Belgium          Canada   \n",
       "13                  Facundo Tello  Group G     Switzerland        Cameroon   \n",
       "14                 Clement Turpin  Group H         Uruguay  Korea Republic   \n",
       "15                  Ismail Elfath  Group H        Portugal           Ghana   \n",
       "16                Alireza Faghani  Group G          Brazil          Serbia   \n",
       "17                  Mario Escobar  Group B           Wales            Iran   \n",
       "18            Antonio Mateu Lahoz  Group A           Qatar         Senegal   \n",
       "19               Mustapha Ghorbal  Group A     Netherlands         Ecuador   \n",
       "20          Jesús Valenzuela Sáez  Group B         England   United States   \n",
       "21                 Daniel Siebert  Group D         Tunisia       Australia   \n",
       "22                 Wilton Sampaio  Group C          Poland    Saudi Arabia   \n",
       "23               Szymon Marciniak  Group D          France         Denmark   \n",
       "24                 Daniele Orsato  Group C       Argentina          Mexico   \n",
       "25                 Michael Oliver  Group E           Japan      Costa Rica   \n",
       "26                    Cesar Ramos  Group F         Belgium         Morocco   \n",
       "27                 Andrés Matonte  Group F         Croatia          Canada   \n",
       "28                 Danny Makkelie  Group E           Spain         Germany   \n",
       "29        Mohammed Abdulla Hassan  Group G        Cameroon          Serbia   \n",
       "30                 Anthony Taylor  Group H  Korea Republic           Ghana   \n",
       "31                    Ivan Barton  Group G          Brazil     Switzerland   \n",
       "32                Alireza Faghani  Group H        Portugal         Uruguay   \n",
       "33                 Clement Turpin  Group A     Netherlands           Qatar   \n",
       "34            Bakary Papa Gassama  Group A         Ecuador         Senegal   \n",
       "35                  Slavko Vincic  Group B           Wales         England   \n",
       "36            Antonio Mateu Lahoz  Group B            Iran   United States   \n",
       "37               Mustapha Ghorbal  Group D       Australia         Denmark   \n",
       "38                    Matt Conger  Group D         Tunisia          France   \n",
       "39                 Michael Oliver  Group C          Poland       Argentina   \n",
       "40                 Danny Makkelie  Group C    Saudi Arabia          Mexico   \n",
       "41                  Raphael Claus  Group F         Croatia         Belgium   \n",
       "42                 Anthony Taylor  Group F          Canada         Morocco   \n",
       "43                   Victor Gomes  Group E           Japan           Spain   \n",
       "44             Stephanie Frappart  Group E      Costa Rica         Germany   \n",
       "45                 Daniel Siebert  Group H           Ghana         Uruguay   \n",
       "46                  Facundo Tello  Group H  Korea Republic        Portugal   \n",
       "47             Fernando Rapallini  Group G          Serbia     Switzerland   \n",
       "48                  Ismail Elfath  Group G        Cameroon          Brazil   \n",
       "\n",
       "0  attendance 1_xg 2_xg 1_poss 2_poss 1_goals 2_goals score 1_attempts   \n",
       "1       67372  0.3  1.2     47     53       0       2   0,2          5  \\\n",
       "2       45334  2.1  1.4     77     23       6       2   6,2         13   \n",
       "3       41721  0.9  0.7     46     54       0       2   0,2         14   \n",
       "4       43418  0.8  1.5     58     42       1       1   1,1          6   \n",
       "5       88012  2.2  0.1     69     31       1       2   1,2         14   \n",
       "6       42925  1.4  0.9     61     39       0       0   0,0         11   \n",
       "7       39369  0.7  0.9     60     40       0       0   0,0         13   \n",
       "8       40875    4  0.5     62     38       4       1   4,1         22   \n",
       "9       59407  0.4  0.5     36     64       0       0   0,0          8   \n",
       "10      42608  3.1  1.5     74     26       1       2   1,2         25   \n",
       "11      40013  3.5    0     81     19       7       0   7,0         17   \n",
       "12      40432  0.8  2.4     53     47       1       0   1,0          9   \n",
       "13      39089  1.4  0.7     51     49       1       0   1,0          8   \n",
       "14      41663  0.6  0.6     56     44       0       0   0,0         10   \n",
       "15      42662    2  0.9     62     38       3       2   3,2         11   \n",
       "16      88103  2.4  0.2     59     41       2       0   2,0         24   \n",
       "17      40875  0.9  1.4     62     38       0       2   0,2         10   \n",
       "18      41797    1  0.8     45     55       1       3   1,3         10   \n",
       "19      44833  0.1  1.7     54     46       1       1   1,1          2   \n",
       "20      68463  0.8  0.6     55     45       0       0   0,0          8   \n",
       "21      41823  0.9  0.6     59     41       0       1   0,1         13   \n",
       "22      44259  1.6  1.7     37     63       2       0   2,0          8   \n",
       "23      42860  2.4  0.6     49     51       2       1   2,1         21   \n",
       "24      88966  0.3  0.3     58     42       2       0   2,0          5   \n",
       "25      41479  0.9  0.1     57     43       0       1   0,1         14   \n",
       "26      43738    1  1.5     67     33       0       2   0,2         10   \n",
       "27      44374  2.6  0.4     49     51       4       1   4,1         13   \n",
       "28      68895  0.6  1.3     64     36       1       1   1,1          7   \n",
       "29      39789  2.2  1.9     41     59       3       3   3,3         13   \n",
       "30      43983  1.8  1.6     63     37       2       3   2,3         21   \n",
       "31      43649    1  0.3     54     46       1       0   1,0          9   \n",
       "32      88668  1.3  1.3     59     41       2       0   2,0         14   \n",
       "33      44569  0.9  2.1     61     39       2       0   1,2         13   \n",
       "34      66784  1.6  0.1     63     37       1       2   2,0          8   \n",
       "35      44297  0.3  2.4     36     64       0       3   0,3          7   \n",
       "36      42127  0.4  1.2     49     51       0       1   0,1          6   \n",
       "37      41232  0.6  0.6     32     68       1       0   1,0          8   \n",
       "38      43627  0.5  0.8     35     65       1       0   1,0          5   \n",
       "39      84985  1.1  2.3     40     60       0       2   1,2          4   \n",
       "40      44089  0.3  3.5     27     73       1       2   0,2         10   \n",
       "41      43102  1.4  0.5     58     42       0       0   1,2         11   \n",
       "42      43984  0.7    3     49     51       1       2   0,0          5   \n",
       "43      44851  1.4    1     18     82       2       1   2,1          6   \n",
       "44      67054  1.3  5.7     32     68       2       4   2,4          8   \n",
       "45      43443  1.6  1.8     51     49       0       2   0,2          9   \n",
       "46      44097  1.7  1.3     39     61       2       1   2,1         12   \n",
       "47      41378  1.3  2.7     54     46       2       3   2,3         11   \n",
       "48      85986  0.5  2.5     35     65       1       0   1,0          7   \n",
       "\n",
       "0  2_attempts 1_conceded 2_conceded 1_goal_inside_penalty_area   \n",
       "1           6          2          0                          0  \\\n",
       "2           8          2          6                          6   \n",
       "3           9          2          0                          0   \n",
       "4           7          1          1                          1   \n",
       "5           3          2          1                          1   \n",
       "6          11          0          0                          0   \n",
       "7           8          0          0                          0   \n",
       "8           4          1          4                          4   \n",
       "9           6          0          0                          0   \n",
       "10         10          2          1                          1   \n",
       "11          0          0          7                          7   \n",
       "12         21          0          1                          1   \n",
       "13          7          0          1                          1   \n",
       "14          6          0          0                          0   \n",
       "15          8          2          3                          3   \n",
       "16          4          0          2                          2   \n",
       "17         21          2          0                          0   \n",
       "18         12          3          1                          1   \n",
       "19         13          1          1                          0   \n",
       "20         10          0          0                          0   \n",
       "21          8          1          0                          0   \n",
       "22         16          0          2                          2   \n",
       "23         10          1          2                          2   \n",
       "24          4          0          2                          1   \n",
       "25          4          1          0                          0   \n",
       "26         11          2          0                          0   \n",
       "27          9          1          4                          3   \n",
       "28         10          1          1                          1   \n",
       "29         16          3          3                          3   \n",
       "30          8          3          2                          2   \n",
       "31          4          0          1                          1   \n",
       "32         10          0          2                          1   \n",
       "33          6          0          2                          2   \n",
       "34         15          2          1                          1   \n",
       "35         17          3          0                          0   \n",
       "36         12          1          0                          0   \n",
       "37         14          0          1                          1   \n",
       "38          9          0          1                          0   \n",
       "39         25          2          0                          0   \n",
       "40         25          2          1                          1   \n",
       "41         15          0          0                          0   \n",
       "42          7          2          1                          0   \n",
       "43         14          1          2                          1   \n",
       "44         32          4          2                          2   \n",
       "45         12          2          0                          0   \n",
       "46         12          1          2                          2   \n",
       "47         14          3          2                          2   \n",
       "48         19          0          1                          1   \n",
       "\n",
       "0  2_goal_inside_penalty_area 1_goal_outside_penalty_area   \n",
       "1                           2                           0  \\\n",
       "2                           2                           0   \n",
       "3                           2                           0   \n",
       "4                           1                           0   \n",
       "5                           2                           0   \n",
       "6                           0                           0   \n",
       "7                           0                           0   \n",
       "8                           1                           0   \n",
       "9                           0                           0   \n",
       "10                          2                           0   \n",
       "11                          0                           0   \n",
       "12                          0                           0   \n",
       "13                          0                           0   \n",
       "14                          0                           0   \n",
       "15                          2                           0   \n",
       "16                          0                           0   \n",
       "17                          1                           0   \n",
       "18                          3                           0   \n",
       "19                          1                           1   \n",
       "20                          0                           0   \n",
       "21                          1                           0   \n",
       "22                          0                           0   \n",
       "23                          1                           0   \n",
       "24                          0                           1   \n",
       "25                          1                           0   \n",
       "26                          2                           0   \n",
       "27                          1                           1   \n",
       "28                          1                           0   \n",
       "29                          2                           0   \n",
       "30                          3                           0   \n",
       "31                          0                           0   \n",
       "32                          0                           1   \n",
       "33                          0                           0   \n",
       "34                          2                           0   \n",
       "35                          2                           0   \n",
       "36                          1                           0   \n",
       "37                          0                           0   \n",
       "38                          0                           1   \n",
       "39                          2                           0   \n",
       "40                          1                           0   \n",
       "41                          0                           0   \n",
       "42                          1                           0   \n",
       "43                          1                           1   \n",
       "44                          4                           0   \n",
       "45                          2                           0   \n",
       "46                          1                           0   \n",
       "47                          3                           0   \n",
       "48                          0                           0   \n",
       "\n",
       "0  2_goal_outside_penalty_area 1_ontarget 2_ontarget 1_offtarget 2_offtarget   \n",
       "1                            0          0          3           5           3  \\\n",
       "2                            0          7          3           3           4   \n",
       "3                            0          3          3           8           5   \n",
       "4                            0          1          3           4           3   \n",
       "5                            0          6          2           5           0   \n",
       "6                            0          4          1           4           7   \n",
       "7                            0          4          1           5           4   \n",
       "8                            0          7          1           9           3   \n",
       "9                            0          2          2           0           2   \n",
       "10                           0          9          3          11           6   \n",
       "11                           0          7          0           8           0   \n",
       "12                           0          3          4           6          12   \n",
       "13                           0          3          3           4           2   \n",
       "14                           0          0          0           6           5   \n",
       "15                           0          5          3           3           5   \n",
       "16                           0         10          0           9           3   \n",
       "17                           1          3          6           4           6   \n",
       "18                           0          2          4           7           6   \n",
       "19                           0          1          5           1           3   \n",
       "20                           0          3          2           4           7   \n",
       "21                           0          4          2           5           3   \n",
       "22                           0          3          5           3           9   \n",
       "23                           0          6          2           8           6   \n",
       "24                           0          2          1           3           2   \n",
       "25                           0          3          1           4           1   \n",
       "26                           0          4          4           6           6   \n",
       "27                           0         10          2           2           3   \n",
       "28                           0          3          4           4           5   \n",
       "29                           1          8          6           3           8   \n",
       "30                           0          6          3           8           3   \n",
       "31                           0          5          0           2           1   \n",
       "32                           0          4          3           7           6   \n",
       "33                           0          4          4           5           2   \n",
       "34                           0          4          5           3           8   \n",
       "35                           1          1          7           3           6   \n",
       "36                           0          2          5           4           4   \n",
       "37                           0          4          3           2           7   \n",
       "38                           0          3          3           2           4   \n",
       "39                           0          0         13           2           8   \n",
       "40                           1          2         10           8           8   \n",
       "41                           0          4          4           5           7   \n",
       "42                           1          0          2           4           2   \n",
       "43                           0          3          5           2           3   \n",
       "44                           0          6         11           1          17   \n",
       "45                           0          4          7           4           5   \n",
       "46                           0          6          4           4           6   \n",
       "47                           0          4          7           6           3   \n",
       "48                           0          3          6           3          11   \n",
       "\n",
       "0  1_attempts_inside_penalty_area 2_attempts_inside_penalty_area   \n",
       "1                               2                              4  \\\n",
       "2                              10                              6   \n",
       "3                               7                              5   \n",
       "4                               4                              5   \n",
       "5                              10                              3   \n",
       "6                               7                              6   \n",
       "7                              10                              7   \n",
       "8                              18                              2   \n",
       "9                               3                              4   \n",
       "10                             15                             10   \n",
       "11                             12                              0   \n",
       "12                              6                             16   \n",
       "13                              6                              6   \n",
       "14                              7                              1   \n",
       "15                              7                              2   \n",
       "16                             11                              1   \n",
       "17                              5                              7   \n",
       "18                              4                             10   \n",
       "19                              0                              8   \n",
       "20                              6                              6   \n",
       "21                              9                              5   \n",
       "22                              8                              9   \n",
       "23                             16                              5   \n",
       "24                              2                              1   \n",
       "25                              7                              1   \n",
       "26                              5                              6   \n",
       "27                              9                              2   \n",
       "28                              3                              7   \n",
       "29                              9                             11   \n",
       "30                             15                              7   \n",
       "31                              6                              2   \n",
       "32                              4                              6   \n",
       "33                             10                              2   \n",
       "34                              5                             11   \n",
       "35                              1                             13   \n",
       "36                              5                              8   \n",
       "37                              3                             11   \n",
       "38                              2                              4   \n",
       "39                              2                             21   \n",
       "40                              6                             10   \n",
       "41                              7                             12   \n",
       "42                              4                              4   \n",
       "43                              4                              7   \n",
       "44                              6                             24   \n",
       "45                              4                              7   \n",
       "46                              6                              5   \n",
       "47                             10                             10   \n",
       "48                              5                             14   \n",
       "\n",
       "0  1_attempts_outside_penalty_area 2_attempts_outside_penalty_area   \n",
       "1                                3                               2  \\\n",
       "2                                3                               2   \n",
       "3                                7                               4   \n",
       "4                                2                               2   \n",
       "5                                4                               0   \n",
       "6                                4                               5   \n",
       "7                                3                               1   \n",
       "8                                4                               2   \n",
       "9                                5                               2   \n",
       "10                              10                               0   \n",
       "11                               5                               0   \n",
       "12                               3                               5   \n",
       "13                               2                               1   \n",
       "14                               3                               5   \n",
       "15                               4                               6   \n",
       "16                              13                               3   \n",
       "17                               5                              14   \n",
       "18                               6                               2   \n",
       "19                               2                               5   \n",
       "20                               2                               4   \n",
       "21                               4                               3   \n",
       "22                               0                               7   \n",
       "23                               5                               5   \n",
       "24                               3                               3   \n",
       "25                               7                               3   \n",
       "26                               5                               5   \n",
       "27                               4                               7   \n",
       "28                               4                               3   \n",
       "29                               4                               5   \n",
       "30                               6                               1   \n",
       "31                               3                               2   \n",
       "32                              10                               4   \n",
       "33                               3                               4   \n",
       "34                               3                               4   \n",
       "35                               6                               4   \n",
       "36                               1                               4   \n",
       "37                               5                               3   \n",
       "38                               3                               5   \n",
       "39                               2                               4   \n",
       "40                               4                              15   \n",
       "41                               4                               3   \n",
       "42                               1                               3   \n",
       "43                               2                               7   \n",
       "44                               2                               8   \n",
       "45                               5                               5   \n",
       "46                               6                               7   \n",
       "47                               1                               4   \n",
       "48                               2                               5   \n",
       "\n",
       "0  1_yellow_cards 2_yellow_cards 1_red_cards 2_red_cards faul_against_1   \n",
       "1               4              2           0           0             15  \\\n",
       "2               0              2           0           0              9   \n",
       "3               2              1           0           0             13   \n",
       "4               4              2           0           0             15   \n",
       "5               0              6           0           0              7   \n",
       "6               2              1           0           0              9   \n",
       "7               2              1           0           0             14   \n",
       "8               0              3           0           0              5   \n",
       "9               1              0           0           0             17   \n",
       "10              0              0           0           0              6   \n",
       "11              0              2           0           0              8   \n",
       "12              3              2           0           0             11   \n",
       "13              2              1           0           0             12   \n",
       "14              1              1           0           0              7   \n",
       "15              2              4           0           0             14   \n",
       "16              0              3           0           0              7   \n",
       "17              1              2           1           0              9   \n",
       "18              3              3           0           0              7   \n",
       "19              0              1           0           0             15   \n",
       "20              0              0           0           0              9   \n",
       "21              3              0           0           0             16   \n",
       "22              3              2           0           0             18   \n",
       "23              1              2           0           0              4   \n",
       "24              1              4           0           0             15   \n",
       "25              3              3           0           0             22   \n",
       "26              1              1           0           0             10   \n",
       "27              2              2           0           0             13   \n",
       "28              1              3           0           0             13   \n",
       "29              2              2           0           0              8   \n",
       "30              2              2           0           0             13   \n",
       "31              1              1           0           0             10   \n",
       "32              3              2           0           0             10   \n",
       "33              1              0           0           0             19   \n",
       "34              0              1           0           0             23   \n",
       "35              2              0           0           0             16   \n",
       "36              3              1           0           0             13   \n",
       "37              2              1           0           0             11   \n",
       "38              1              0           0           0             14   \n",
       "39              1              1           0           0              6   \n",
       "40              6              1           0           0             20   \n",
       "41              0              1           0           0              7   \n",
       "42              4              0           0           0             14   \n",
       "43              3              0           0           0              9   \n",
       "44              1              0           0           0              3   \n",
       "45              2              3           0           0             18   \n",
       "46              2              0           0           0              9   \n",
       "47              7              4           0           0             18   \n",
       "48              5              2           1           0             14   \n",
       "\n",
       "0  faul_against_2 1_offsides 2_offsides 1_passes 2_passes 1_passes_compeletd   \n",
       "1              15          3          4      450      480                381  \\\n",
       "2              14          2          2      809      224                730   \n",
       "3              13          2          1      383      438                313   \n",
       "4              10          1          1      569      409                509   \n",
       "5              21         10          1      610      267                529   \n",
       "6              10          1          1      594      387                523   \n",
       "7              16          3          0      485      322                422   \n",
       "8              11          0          0      734      466                672   \n",
       "9              11          0          1      360      667                290   \n",
       "10             14          4          4      820      261                743   \n",
       "11             12          3          7     1061      231               1003   \n",
       "12             14          0          1      512      448                439   \n",
       "13             10          2          2      497      500                437   \n",
       "14             10          1          0      528      419                459   \n",
       "15             19          1          1      636      394                573   \n",
       "16             12          1          0      585      403                526   \n",
       "17             10          2          2      508      295                413   \n",
       "18             12          4          3      424      511                353   \n",
       "19             12          1          4      524      425                451   \n",
       "20             15          1          0      550      427                488   \n",
       "21             15          3          0      501      334                396   \n",
       "22             15          0          0      303      560                236   \n",
       "23              9          1          1      503      537                437   \n",
       "24             19          2          4      533      356                464   \n",
       "25              9          0          2      575      444                510   \n",
       "26             14          3          3      671      317                598   \n",
       "27              5          1          3      462      511                391   \n",
       "28             11          2          5      647      352                565   \n",
       "29             13          0          4      364      513                271   \n",
       "30              9          1          1      540      319                477   \n",
       "31             17          3          1      565      488                498   \n",
       "32             16          2          0      596      390                517   \n",
       "33              9          4          0      795      459                740   \n",
       "34             11          0          3      432      269                353   \n",
       "35              9          1          1      325      588                261   \n",
       "36             10          2          1      463      470                379   \n",
       "37             10          1          3      286      650                187   \n",
       "38              6          3          2      328      636                266   \n",
       "39             11          0          0      321      862                261   \n",
       "40             18          2          6      297      412                197   \n",
       "41              9          4          0      578      596                504   \n",
       "42             14          4          4      539      384                472   \n",
       "43              6          2          2      225     1070                167   \n",
       "44              9          4          3      347      727                269   \n",
       "45             11          2          2      460      446                377   \n",
       "46             11          1          5      359      606                304   \n",
       "47             13          0          0      476      403                390   \n",
       "48             14          0          1      295      548                239   \n",
       "\n",
       "0  2_passes_compeletd 1_corners 2_corners 1_free_kicks 2_free_kicks   \n",
       "1                 409         1         3           19           17  \\\n",
       "2                 154         8         0           16           10   \n",
       "3                 374         6         7           14           14   \n",
       "4                 321         5         3           11           15   \n",
       "5                 190         9         2           22           16   \n",
       "6                 302        11         9           11           10   \n",
       "7                 241         6         5           16           16   \n",
       "8                 399         8         1           11            5   \n",
       "9                 592         0         5           12           17   \n",
       "10                207         6         6           17           10   \n",
       "11                170         5         0           18           11   \n",
       "12                382         4         4           15           10   \n",
       "13                424        11         5           11           14   \n",
       "14                340         4         3           10            8   \n",
       "15                326         3         3           19           15   \n",
       "16                341         6         4           12            8   \n",
       "17                202         2         7           12           11   \n",
       "18                445         6         7           15           11   \n",
       "19                345         2         5           16           16   \n",
       "20                368         3         7           15           10   \n",
       "21                239         5         2           15           19   \n",
       "22                494         4         5           15           17   \n",
       "23                473         6         4           10            5   \n",
       "24                287         4         2           23           17   \n",
       "25                371         5         0           11           22   \n",
       "26                275         9         1           17           13   \n",
       "27                434         5         2            8           14   \n",
       "28                281         6         5           16           15   \n",
       "29                433         4         3           17            8   \n",
       "30                260        12         5           10           14   \n",
       "31                415         8         3           18           13   \n",
       "32                306         6         2           15           13   \n",
       "33                394         4         2            9           24   \n",
       "34                198         3         6           14           22   \n",
       "35                529         1         6           10           17   \n",
       "36                413         1         5           11           15   \n",
       "37                567         2         6           13           12   \n",
       "38                566         7         8            8           17   \n",
       "39                814         1         9           12            5   \n",
       "40                336         1         8           23           22   \n",
       "41                531         2         4            9           11   \n",
       "42                308         6         2           18           18   \n",
       "43                992         0         2            8           11   \n",
       "44                661         1        14           12            7   \n",
       "45                361         5         2           12           20   \n",
       "46                541         5         4           15           10   \n",
       "47                325         2         0           14           18   \n",
       "48                491         3        11           15           14   \n",
       "\n",
       "0  1_panelties_scored 2_panelties_scored 1_goal_prevented 2_goal_prevented   \n",
       "1                   0                  1                6                5  \\\n",
       "2                   0                  1                8               13   \n",
       "3                   0                  0                9               15   \n",
       "4                   0                  1                7                7   \n",
       "5                   1                  0                4               14   \n",
       "6                   0                  0               11               11   \n",
       "7                   0                  0                8               15   \n",
       "8                   0                  0                4               22   \n",
       "9                   0                  0                7                8   \n",
       "10                  1                  0               12               26   \n",
       "11                  1                  0                0               17   \n",
       "12                  0                  0               21                9   \n",
       "13                  0                  0                7                8   \n",
       "14                  0                  0                6               10   \n",
       "15                  1                  0                8               11   \n",
       "16                  0                  0                4               24   \n",
       "17                  0                  0               21                9   \n",
       "18                  0                  0               12               11   \n",
       "19                  0                  0               14                2   \n",
       "20                  0                  0               10                8   \n",
       "21                  0                  0                9               13   \n",
       "22                  0                  0               16                9   \n",
       "23                  0                  0               10               21   \n",
       "24                  0                  0                4                5   \n",
       "25                  0                  0                4               14   \n",
       "26                  0                  0               11               10   \n",
       "27                  0                  0                9               13   \n",
       "28                  0                  0               11                7   \n",
       "29                  0                  0               16               13   \n",
       "30                  0                  0                8               21   \n",
       "31                  0                  0                4                9   \n",
       "32                  1                  0               11               14   \n",
       "33                  0                  0                5               14   \n",
       "34                  0                  1               15                8   \n",
       "35                  0                  0               17                8   \n",
       "36                  0                  0               13                6   \n",
       "37                  0                  0               14                8   \n",
       "38                  0                  0               11                6   \n",
       "39                  0                  0               25                4   \n",
       "40                  0                  0               26               10   \n",
       "41                  0                  0               16               11   \n",
       "42                  0                  0                7                7   \n",
       "43                  0                  0               14                6   \n",
       "44                  0                  0               32                8   \n",
       "45                  0                  0               12                9   \n",
       "46                  0                  0               14               12   \n",
       "47                  0                  0               14               10   \n",
       "48                  0                  0               20                7   \n",
       "\n",
       "0  1_own_goal 2_own_goal 1_forced_turnovers 2_forced_turnovers   \n",
       "1           0          0                 52                 72  \\\n",
       "2           0          0                 63                 72   \n",
       "3           0          0                 63                 73   \n",
       "4           0          0                 81                 72   \n",
       "5           0          0                 65                 80   \n",
       "6           0          0                 76                 73   \n",
       "7           0          0                 61                 70   \n",
       "8           0          0                 64                 56   \n",
       "9           0          0                 87                 58   \n",
       "10          0          0                 55                 87   \n",
       "11          0          0                 46                 76   \n",
       "12          0          0                 74                 47   \n",
       "13          0          0                 64                 79   \n",
       "14          0          0                 65                 54   \n",
       "15          0          0                 70                 82   \n",
       "16          0          0                 72                 71   \n",
       "17          0          0                 89                 84   \n",
       "18          0          0                 67                 67   \n",
       "19          0          0                 85                 52   \n",
       "20          0          0                 52                 61   \n",
       "21          0          0                 81                 88   \n",
       "22          0          0                 69                 53   \n",
       "23          0          0                 79                 61   \n",
       "24          0          0                 63                 79   \n",
       "25          0          0                 47                 66   \n",
       "26          0          0                 38                 78   \n",
       "27          0          0                 87                 72   \n",
       "28          0          0                 79                101   \n",
       "29          0          0                 83                 81   \n",
       "30          0          0                 53                 75   \n",
       "31          0          0                 85                 80   \n",
       "32          0          0                 68                 81   \n",
       "33          0          0                 62                 52   \n",
       "34          0          0                 59                 62   \n",
       "35          0          0                 49                 56   \n",
       "36          0          0                 63                 74   \n",
       "37          0          0                 90                 74   \n",
       "38          0          0                 68                 80   \n",
       "39          0          0                 67                 48   \n",
       "40          0          0                 82                 76   \n",
       "41          0          0                 70                 68   \n",
       "42          0          1                 66                 72   \n",
       "43          0          0                 85                 49   \n",
       "44          0          0                 79                 77   \n",
       "45          0          0                 92                 84   \n",
       "46          0          0                 54                 50   \n",
       "47          0          0                 74                 82   \n",
       "48          0          0                 78                 54   \n",
       "\n",
       "0  1_defensive_pressure_applied 2_defensive_pressure_applied  \n",
       "1                           256                          279  \n",
       "2                           139                          416  \n",
       "3                           263                          251  \n",
       "4                           242                          292  \n",
       "5                           163                          361  \n",
       "6                           226                          287  \n",
       "7                           193                          290  \n",
       "8                           250                          316  \n",
       "9                           391                          217  \n",
       "10                          164                          487  \n",
       "11                          185                          585  \n",
       "12                          284                          320  \n",
       "13                          313                          316  \n",
       "14                          240                          231  \n",
       "15                          286                          326  \n",
       "16                          236                          338  \n",
       "17                          161                          276  \n",
       "18                          308                          232  \n",
       "19                          254                          279  \n",
       "20                          266                          350  \n",
       "21                          217                          273  \n",
       "22                          329                          173  \n",
       "23                          269                          282  \n",
       "24                          220                          327  \n",
       "25                          300                          294  \n",
       "26                          194                          360  \n",
       "27                          347                          316  \n",
       "28                          275                          387  \n",
       "29                          285                          234  \n",
       "30                          220                          324  \n",
       "31                          282                          344  \n",
       "32                          226                          362  \n",
       "33                          319                          322  \n",
       "34                          190                          243  \n",
       "35                          328                          167  \n",
       "36                          295                          302  \n",
       "37                          341                          161  \n",
       "38                          400                          202  \n",
       "39                          438                          141  \n",
       "40                          269                          229  \n",
       "41                          328                          346  \n",
       "42                          224                          324  \n",
       "43                          637                          150  \n",
       "44                          378                          230  \n",
       "45                          248                          293  \n",
       "46                          359                          233  \n",
       "47                          276                          253  \n",
       "48                          321                          226  "
      ]
     },
     "execution_count": 58,
     "metadata": {},
     "output_type": "execute_result"
    }
   ],
   "source": [
    "matches_fifa_wc2022.query('group in [\"Group A\",\"Group B\",\"Group C\",\"Group D\",\"Group E\",\"Group F\",\"Group G\",\"Group H\"]')"
   ]
  },
  {
   "cell_type": "code",
<<<<<<< HEAD
   "execution_count": null,
=======
   "execution_count": 59,
>>>>>>> d20e0f0c979d08449127054dcb41934fa686c483
   "metadata": {},
   "outputs": [
    {
     "data": {
      "text/html": [
       "<div>\n",
       "<style scoped>\n",
       "    .dataframe tbody tr th:only-of-type {\n",
       "        vertical-align: middle;\n",
       "    }\n",
       "\n",
       "    .dataframe tbody tr th {\n",
       "        vertical-align: top;\n",
       "    }\n",
       "\n",
       "    .dataframe thead th {\n",
       "        text-align: right;\n",
       "    }\n",
       "</style>\n",
       "<table border=\"1\" class=\"dataframe\">\n",
       "  <thead>\n",
       "    <tr style=\"text-align: right;\">\n",
       "      <th></th>\n",
       "      <th>Teams</th>\n",
       "      <th>Group</th>\n",
       "      <th>PJ</th>\n",
       "    </tr>\n",
       "  </thead>\n",
       "  <tbody>\n",
       "    <tr>\n",
       "      <th>0</th>\n",
       "      <td>Argentina</td>\n",
       "      <td>C</td>\n",
       "      <td>5</td>\n",
       "    </tr>\n",
       "    <tr>\n",
       "      <th>1</th>\n",
       "      <td>Australia</td>\n",
       "      <td>D</td>\n",
       "      <td>5</td>\n",
       "    </tr>\n",
       "    <tr>\n",
       "      <th>2</th>\n",
       "      <td>Belgium</td>\n",
       "      <td>F</td>\n",
       "      <td>5</td>\n",
       "    </tr>\n",
       "    <tr>\n",
       "      <th>3</th>\n",
       "      <td>Brazil</td>\n",
       "      <td>G</td>\n",
       "      <td>5</td>\n",
       "    </tr>\n",
       "    <tr>\n",
       "      <th>4</th>\n",
       "      <td>Canada</td>\n",
       "      <td>F</td>\n",
       "      <td>5</td>\n",
       "    </tr>\n",
       "    <tr>\n",
       "      <th>5</th>\n",
       "      <td>Cameroon</td>\n",
       "      <td>G</td>\n",
       "      <td>5</td>\n",
       "    </tr>\n",
       "    <tr>\n",
       "      <th>6</th>\n",
       "      <td>Costa Rica</td>\n",
       "      <td>E</td>\n",
       "      <td>5</td>\n",
       "    </tr>\n",
       "    <tr>\n",
       "      <th>7</th>\n",
       "      <td>Croatia</td>\n",
       "      <td>F</td>\n",
       "      <td>5</td>\n",
       "    </tr>\n",
       "    <tr>\n",
       "      <th>8</th>\n",
       "      <td>Denmark</td>\n",
       "      <td>D</td>\n",
       "      <td>5</td>\n",
       "    </tr>\n",
       "    <tr>\n",
       "      <th>9</th>\n",
       "      <td>Ecuador</td>\n",
       "      <td>A</td>\n",
       "      <td>5</td>\n",
       "    </tr>\n",
       "    <tr>\n",
       "      <th>10</th>\n",
       "      <td>England</td>\n",
       "      <td>B</td>\n",
       "      <td>5</td>\n",
       "    </tr>\n",
       "    <tr>\n",
       "      <th>11</th>\n",
       "      <td>Spain</td>\n",
       "      <td>E</td>\n",
       "      <td>5</td>\n",
       "    </tr>\n",
       "    <tr>\n",
       "      <th>12</th>\n",
       "      <td>France</td>\n",
       "      <td>D</td>\n",
       "      <td>5</td>\n",
       "    </tr>\n",
       "    <tr>\n",
       "      <th>13</th>\n",
       "      <td>Germany</td>\n",
       "      <td>E</td>\n",
       "      <td>5</td>\n",
       "    </tr>\n",
       "    <tr>\n",
       "      <th>14</th>\n",
       "      <td>Ghana</td>\n",
       "      <td>H</td>\n",
       "      <td>5</td>\n",
       "    </tr>\n",
       "    <tr>\n",
       "      <th>15</th>\n",
       "      <td>Iran</td>\n",
       "      <td>B</td>\n",
       "      <td>5</td>\n",
       "    </tr>\n",
       "    <tr>\n",
       "      <th>16</th>\n",
       "      <td>Japan</td>\n",
       "      <td>E</td>\n",
       "      <td>5</td>\n",
       "    </tr>\n",
       "    <tr>\n",
       "      <th>17</th>\n",
       "      <td>Korea Republic</td>\n",
       "      <td>H</td>\n",
       "      <td>5</td>\n",
       "    </tr>\n",
       "    <tr>\n",
       "      <th>18</th>\n",
       "      <td>Saudi_Arabia</td>\n",
       "      <td>C</td>\n",
       "      <td>5</td>\n",
       "    </tr>\n",
       "    <tr>\n",
       "      <th>19</th>\n",
       "      <td>Morocco</td>\n",
       "      <td>F</td>\n",
       "      <td>5</td>\n",
       "    </tr>\n",
       "    <tr>\n",
       "      <th>20</th>\n",
       "      <td>Mexico</td>\n",
       "      <td>C</td>\n",
       "      <td>5</td>\n",
       "    </tr>\n",
       "    <tr>\n",
       "      <th>21</th>\n",
       "      <td>Netherlands</td>\n",
       "      <td>A</td>\n",
       "      <td>5</td>\n",
       "    </tr>\n",
       "    <tr>\n",
       "      <th>22</th>\n",
       "      <td>Poland</td>\n",
       "      <td>C</td>\n",
       "      <td>5</td>\n",
       "    </tr>\n",
       "    <tr>\n",
       "      <th>23</th>\n",
       "      <td>Portugal</td>\n",
       "      <td>H</td>\n",
       "      <td>5</td>\n",
       "    </tr>\n",
       "    <tr>\n",
       "      <th>24</th>\n",
       "      <td>Qatar</td>\n",
       "      <td>A</td>\n",
       "      <td>5</td>\n",
       "    </tr>\n",
       "    <tr>\n",
       "      <th>25</th>\n",
       "      <td>Senegal</td>\n",
       "      <td>A</td>\n",
       "      <td>5</td>\n",
       "    </tr>\n",
       "    <tr>\n",
       "      <th>26</th>\n",
       "      <td>Serbia</td>\n",
       "      <td>G</td>\n",
       "      <td>5</td>\n",
       "    </tr>\n",
       "    <tr>\n",
       "      <th>27</th>\n",
       "      <td>Switzerland</td>\n",
       "      <td>G</td>\n",
       "      <td>5</td>\n",
       "    </tr>\n",
       "    <tr>\n",
       "      <th>28</th>\n",
       "      <td>Tunisia</td>\n",
       "      <td>D</td>\n",
       "      <td>5</td>\n",
       "    </tr>\n",
       "    <tr>\n",
       "      <th>29</th>\n",
       "      <td>Uruguay</td>\n",
       "      <td>H</td>\n",
       "      <td>5</td>\n",
       "    </tr>\n",
       "    <tr>\n",
       "      <th>30</th>\n",
       "      <td>United States</td>\n",
       "      <td>B</td>\n",
       "      <td>5</td>\n",
       "    </tr>\n",
       "    <tr>\n",
       "      <th>31</th>\n",
       "      <td>Wales</td>\n",
       "      <td>B</td>\n",
       "      <td>5</td>\n",
       "    </tr>\n",
       "  </tbody>\n",
       "</table>\n",
       "</div>"
      ],
      "text/plain": [
       "             Teams Group  PJ\n",
       "0        Argentina     C   5\n",
       "1        Australia     D   5\n",
       "2          Belgium     F   5\n",
       "3           Brazil     G   5\n",
       "4           Canada     F   5\n",
       "5         Cameroon     G   5\n",
       "6       Costa Rica     E   5\n",
       "7          Croatia     F   5\n",
       "8          Denmark     D   5\n",
       "9          Ecuador     A   5\n",
       "10         England     B   5\n",
       "11           Spain     E   5\n",
       "12          France     D   5\n",
       "13         Germany     E   5\n",
       "14           Ghana     H   5\n",
       "15            Iran     B   5\n",
       "16           Japan     E   5\n",
       "17  Korea Republic     H   5\n",
       "18    Saudi_Arabia     C   5\n",
       "19         Morocco     F   5\n",
       "20          Mexico     C   5\n",
       "21     Netherlands     A   5\n",
       "22          Poland     C   5\n",
       "23        Portugal     H   5\n",
       "24           Qatar     A   5\n",
       "25         Senegal     A   5\n",
       "26          Serbia     G   5\n",
       "27     Switzerland     G   5\n",
       "28         Tunisia     D   5\n",
       "29         Uruguay     H   5\n",
       "30   United States     B   5\n",
       "31           Wales     B   5"
      ]
     },
     "execution_count": 59,
     "metadata": {},
     "output_type": "execute_result"
    }
   ],
   "source": [
    "teams = pd.read_csv(\"selecciones.csv\",sep=\",\").seleccion.tolist()\n",
    "df_groupstage = pd.DataFrame(columns=[\"Teams\",\"Group\"])\n",
    "df_groupstage[\"Teams\"] =teams\n",
    "x  = df_groupstage[\"Teams\"] \n",
    "dic_grupo = {\"A\":[\"Qatar\",\"Ecuador\",\"Senegal\",\"Netherlands\"],\"B\":[\"England\",\"United States\",\"Wales\",\"Iran\"],\"C\":[\"Argentina\",\"Poland\",\"Mexico\",\"Saudi_Arabia\"],\"D\":[\"Tunisia\",\"Denmark\",\"France\",\"Australia\"],\"E\":[\"Japan\",\"Germany\",\"Costa Rica\",\"Spain\"],\"F\":[\"Morocco\",\"Croatia\",\"Belgium\",\"Canada\"],\"G\":[\"Brazil\",\"Switzerland\",\"Cameroon\",\"Serbia\"],\"H\":[\"Portugal\",\"Korea Republic\",\"Ghana\",\"Uruguay\"]}\n",
    "list_groups = []\n",
    "for country in df_groupstage[\"Teams\"]:\n",
    "    for key,value in dic_grupo.items():\n",
    "        if country in value:\n",
    "            list_groups.append(key)\n",
    "df_groupstage[\"Group\"]=list_groups\n",
    "df_groupstage['PJ'] = 5\n",
    "df_groupstage\n"
   ]
  },
  {
   "cell_type": "code",
<<<<<<< HEAD
   "execution_count": null,
=======
   "execution_count": 60,
>>>>>>> d20e0f0c979d08449127054dcb41934fa686c483
   "metadata": {},
   "outputs": [
    {
     "data": {
      "text/html": [
       "<div>\n",
       "<style scoped>\n",
       "    .dataframe tbody tr th:only-of-type {\n",
       "        vertical-align: middle;\n",
       "    }\n",
       "\n",
       "    .dataframe tbody tr th {\n",
       "        vertical-align: top;\n",
       "    }\n",
       "\n",
       "    .dataframe thead th {\n",
       "        text-align: right;\n",
       "    }\n",
       "</style>\n",
       "<table border=\"1\" class=\"dataframe\">\n",
       "  <thead>\n",
       "    <tr style=\"text-align: right;\">\n",
       "      <th></th>\n",
       "      <th>players_used</th>\n",
       "      <th>avg_age</th>\n",
       "      <th>possession</th>\n",
       "      <th>games</th>\n",
       "      <th>games_starts</th>\n",
       "      <th>minutes</th>\n",
       "      <th>minutes_90s</th>\n",
       "      <th>goals</th>\n",
       "      <th>assists</th>\n",
       "      <th>goals_pens</th>\n",
       "      <th>pens_made</th>\n",
       "      <th>pens_att</th>\n",
       "      <th>cards_yellow</th>\n",
       "      <th>cards_red</th>\n",
       "      <th>goals_per90</th>\n",
       "      <th>assists_per90</th>\n",
       "      <th>goals_assists_per90</th>\n",
       "      <th>goals_pens_per90</th>\n",
       "      <th>goals_assists_pens_per90</th>\n",
       "      <th>xg</th>\n",
       "      <th>npxg</th>\n",
       "      <th>xg_assist</th>\n",
       "      <th>npxg_xg_assist</th>\n",
       "      <th>xg_per90</th>\n",
       "      <th>xg_assist_per90</th>\n",
       "      <th>xg_xg_assist_per90</th>\n",
       "      <th>npxg_per90</th>\n",
       "      <th>npxg_xg_assist_per90</th>\n",
       "      <th>gk_games</th>\n",
       "      <th>gk_games_starts</th>\n",
       "      <th>gk_minutes</th>\n",
       "      <th>gk_goals_against</th>\n",
       "      <th>gk_goals_against_per90</th>\n",
       "      <th>gk_shots_on_target_against</th>\n",
       "      <th>gk_saves</th>\n",
       "      <th>gk_save_pct</th>\n",
       "      <th>gk_wins</th>\n",
       "      <th>gk_ties</th>\n",
       "      <th>gk_losses</th>\n",
       "      <th>gk_clean_sheets</th>\n",
       "      <th>gk_clean_sheets_pct</th>\n",
       "      <th>gk_pens_att</th>\n",
       "      <th>gk_pens_allowed</th>\n",
       "      <th>gk_pens_saved</th>\n",
       "      <th>gk_pens_missed</th>\n",
       "      <th>gk_pens_save_pct</th>\n",
       "      <th>gk_free_kick_goals_against</th>\n",
       "      <th>gk_corner_kick_goals_against</th>\n",
       "      <th>gk_own_goals_against</th>\n",
       "      <th>gk_psxg</th>\n",
       "      <th>...</th>\n",
       "      <th>dribble_tackles_pct</th>\n",
       "      <th>dribbled_past</th>\n",
       "      <th>blocks</th>\n",
       "      <th>blocked_shots</th>\n",
       "      <th>blocked_passes</th>\n",
       "      <th>interceptions</th>\n",
       "      <th>tackles_interceptions</th>\n",
       "      <th>clearances</th>\n",
       "      <th>errors</th>\n",
       "      <th>touches</th>\n",
       "      <th>touches_def_pen_area</th>\n",
       "      <th>touches_def_3rd</th>\n",
       "      <th>touches_mid_3rd</th>\n",
       "      <th>touches_att_3rd</th>\n",
       "      <th>touches_att_pen_area</th>\n",
       "      <th>touches_live_ball</th>\n",
       "      <th>dribbles_completed</th>\n",
       "      <th>dribbles</th>\n",
       "      <th>dribbles_completed_pct</th>\n",
       "      <th>miscontrols</th>\n",
       "      <th>dispossessed</th>\n",
       "      <th>passes_received</th>\n",
       "      <th>progressive_passes_received</th>\n",
       "      <th>minutes_per_game</th>\n",
       "      <th>minutes_pct</th>\n",
       "      <th>minutes_per_start</th>\n",
       "      <th>games_complete</th>\n",
       "      <th>games_subs</th>\n",
       "      <th>minutes_per_sub</th>\n",
       "      <th>unused_subs</th>\n",
       "      <th>points_per_game</th>\n",
       "      <th>on_goals_for</th>\n",
       "      <th>on_goals_against</th>\n",
       "      <th>plus_minus</th>\n",
       "      <th>plus_minus_per90</th>\n",
       "      <th>on_xg_for</th>\n",
       "      <th>on_xg_against</th>\n",
       "      <th>xg_plus_minus</th>\n",
       "      <th>xg_plus_minus_per90</th>\n",
       "      <th>cards_yellow_red</th>\n",
       "      <th>fouls</th>\n",
       "      <th>fouled</th>\n",
       "      <th>offsides</th>\n",
       "      <th>pens_won</th>\n",
       "      <th>pens_conceded</th>\n",
       "      <th>own_goals</th>\n",
       "      <th>ball_recoveries</th>\n",
       "      <th>aerials_won</th>\n",
       "      <th>aerials_lost</th>\n",
       "      <th>aerials_won_pct</th>\n",
       "    </tr>\n",
       "  </thead>\n",
       "  <tbody>\n",
       "    <tr>\n",
       "      <th>count</th>\n",
       "      <td>1.0</td>\n",
       "      <td>1.0</td>\n",
       "      <td>1.0</td>\n",
       "      <td>1.0</td>\n",
       "      <td>1.0</td>\n",
       "      <td>1.0</td>\n",
       "      <td>1.0</td>\n",
       "      <td>1.0</td>\n",
       "      <td>1.0</td>\n",
       "      <td>1.0</td>\n",
       "      <td>1.0</td>\n",
       "      <td>1.0</td>\n",
       "      <td>1.0</td>\n",
       "      <td>1.0</td>\n",
       "      <td>1.00</td>\n",
       "      <td>1.00</td>\n",
       "      <td>1.0</td>\n",
       "      <td>1.00</td>\n",
       "      <td>1.00</td>\n",
       "      <td>1.0</td>\n",
       "      <td>1.0</td>\n",
       "      <td>1.0</td>\n",
       "      <td>1.0</td>\n",
       "      <td>1.00</td>\n",
       "      <td>1.00</td>\n",
       "      <td>1.0</td>\n",
       "      <td>1.00</td>\n",
       "      <td>1.00</td>\n",
       "      <td>1.0</td>\n",
       "      <td>1.0</td>\n",
       "      <td>1.0</td>\n",
       "      <td>1.0</td>\n",
       "      <td>1.00</td>\n",
       "      <td>1.0</td>\n",
       "      <td>1.0</td>\n",
       "      <td>1.0</td>\n",
       "      <td>1.0</td>\n",
       "      <td>1.0</td>\n",
       "      <td>1.0</td>\n",
       "      <td>1.0</td>\n",
       "      <td>1.0</td>\n",
       "      <td>1.0</td>\n",
       "      <td>1.0</td>\n",
       "      <td>1.0</td>\n",
       "      <td>1.0</td>\n",
       "      <td>1.0</td>\n",
       "      <td>1.0</td>\n",
       "      <td>1.0</td>\n",
       "      <td>1.0</td>\n",
       "      <td>1.0</td>\n",
       "      <td>...</td>\n",
       "      <td>1.0</td>\n",
       "      <td>1.0</td>\n",
       "      <td>1.0</td>\n",
       "      <td>1.0</td>\n",
       "      <td>1.0</td>\n",
       "      <td>1.0</td>\n",
       "      <td>1.0</td>\n",
       "      <td>1.0</td>\n",
       "      <td>1.0</td>\n",
       "      <td>1.0</td>\n",
       "      <td>1.0</td>\n",
       "      <td>1.0</td>\n",
       "      <td>1.0</td>\n",
       "      <td>1.0</td>\n",
       "      <td>1.0</td>\n",
       "      <td>1.0</td>\n",
       "      <td>1.0</td>\n",
       "      <td>1.0</td>\n",
       "      <td>1.0</td>\n",
       "      <td>1.0</td>\n",
       "      <td>1.0</td>\n",
       "      <td>1.0</td>\n",
       "      <td>1.0</td>\n",
       "      <td>1.0</td>\n",
       "      <td>1.0</td>\n",
       "      <td>1.0</td>\n",
       "      <td>1.0</td>\n",
       "      <td>1.0</td>\n",
       "      <td>1.0</td>\n",
       "      <td>1.0</td>\n",
       "      <td>1.0</td>\n",
       "      <td>1.0</td>\n",
       "      <td>1.0</td>\n",
       "      <td>1.0</td>\n",
       "      <td>1.00</td>\n",
       "      <td>1.0</td>\n",
       "      <td>1.0</td>\n",
       "      <td>1.0</td>\n",
       "      <td>1.00</td>\n",
       "      <td>1.0</td>\n",
       "      <td>1.0</td>\n",
       "      <td>1.0</td>\n",
       "      <td>1.0</td>\n",
       "      <td>1.0</td>\n",
       "      <td>1.0</td>\n",
       "      <td>1.0</td>\n",
       "      <td>1.0</td>\n",
       "      <td>1.0</td>\n",
       "      <td>1.0</td>\n",
       "      <td>1.0</td>\n",
       "    </tr>\n",
       "    <tr>\n",
       "      <th>mean</th>\n",
       "      <td>24.0</td>\n",
       "      <td>28.4</td>\n",
       "      <td>57.4</td>\n",
       "      <td>7.0</td>\n",
       "      <td>77.0</td>\n",
       "      <td>690.0</td>\n",
       "      <td>7.7</td>\n",
       "      <td>15.0</td>\n",
       "      <td>8.0</td>\n",
       "      <td>11.0</td>\n",
       "      <td>4.0</td>\n",
       "      <td>5.0</td>\n",
       "      <td>17.0</td>\n",
       "      <td>0.0</td>\n",
       "      <td>1.96</td>\n",
       "      <td>1.04</td>\n",
       "      <td>3.0</td>\n",
       "      <td>1.43</td>\n",
       "      <td>2.48</td>\n",
       "      <td>15.2</td>\n",
       "      <td>11.4</td>\n",
       "      <td>7.8</td>\n",
       "      <td>19.3</td>\n",
       "      <td>1.98</td>\n",
       "      <td>1.02</td>\n",
       "      <td>3.0</td>\n",
       "      <td>1.49</td>\n",
       "      <td>2.51</td>\n",
       "      <td>7.0</td>\n",
       "      <td>7.0</td>\n",
       "      <td>690.0</td>\n",
       "      <td>8.0</td>\n",
       "      <td>1.04</td>\n",
       "      <td>13.0</td>\n",
       "      <td>6.0</td>\n",
       "      <td>53.8</td>\n",
       "      <td>4.0</td>\n",
       "      <td>2.0</td>\n",
       "      <td>1.0</td>\n",
       "      <td>3.0</td>\n",
       "      <td>42.9</td>\n",
       "      <td>2.0</td>\n",
       "      <td>2.0</td>\n",
       "      <td>0.0</td>\n",
       "      <td>0.0</td>\n",
       "      <td>0.0</td>\n",
       "      <td>0.0</td>\n",
       "      <td>0.0</td>\n",
       "      <td>1.0</td>\n",
       "      <td>5.4</td>\n",
       "      <td>...</td>\n",
       "      <td>59.0</td>\n",
       "      <td>41.0</td>\n",
       "      <td>84.0</td>\n",
       "      <td>14.0</td>\n",
       "      <td>70.0</td>\n",
       "      <td>52.0</td>\n",
       "      <td>175.0</td>\n",
       "      <td>124.0</td>\n",
       "      <td>0.0</td>\n",
       "      <td>5388.0</td>\n",
       "      <td>352.0</td>\n",
       "      <td>1424.0</td>\n",
       "      <td>2716.0</td>\n",
       "      <td>1293.0</td>\n",
       "      <td>157.0</td>\n",
       "      <td>5383.0</td>\n",
       "      <td>45.0</td>\n",
       "      <td>112.0</td>\n",
       "      <td>40.2</td>\n",
       "      <td>99.0</td>\n",
       "      <td>81.0</td>\n",
       "      <td>3868.0</td>\n",
       "      <td>210.0</td>\n",
       "      <td>99.0</td>\n",
       "      <td>100.0</td>\n",
       "      <td>87.0</td>\n",
       "      <td>41.0</td>\n",
       "      <td>36.0</td>\n",
       "      <td>24.0</td>\n",
       "      <td>66.0</td>\n",
       "      <td>2.0</td>\n",
       "      <td>15.0</td>\n",
       "      <td>8.0</td>\n",
       "      <td>7.0</td>\n",
       "      <td>0.91</td>\n",
       "      <td>15.2</td>\n",
       "      <td>4.6</td>\n",
       "      <td>10.6</td>\n",
       "      <td>1.38</td>\n",
       "      <td>0.0</td>\n",
       "      <td>100.0</td>\n",
       "      <td>115.0</td>\n",
       "      <td>23.0</td>\n",
       "      <td>5.0</td>\n",
       "      <td>2.0</td>\n",
       "      <td>1.0</td>\n",
       "      <td>357.0</td>\n",
       "      <td>83.0</td>\n",
       "      <td>90.0</td>\n",
       "      <td>48.0</td>\n",
       "    </tr>\n",
       "    <tr>\n",
       "      <th>std</th>\n",
       "      <td>NaN</td>\n",
       "      <td>NaN</td>\n",
       "      <td>NaN</td>\n",
       "      <td>NaN</td>\n",
       "      <td>NaN</td>\n",
       "      <td>NaN</td>\n",
       "      <td>NaN</td>\n",
       "      <td>NaN</td>\n",
       "      <td>NaN</td>\n",
       "      <td>NaN</td>\n",
       "      <td>NaN</td>\n",
       "      <td>NaN</td>\n",
       "      <td>NaN</td>\n",
       "      <td>NaN</td>\n",
       "      <td>NaN</td>\n",
       "      <td>NaN</td>\n",
       "      <td>NaN</td>\n",
       "      <td>NaN</td>\n",
       "      <td>NaN</td>\n",
       "      <td>NaN</td>\n",
       "      <td>NaN</td>\n",
       "      <td>NaN</td>\n",
       "      <td>NaN</td>\n",
       "      <td>NaN</td>\n",
       "      <td>NaN</td>\n",
       "      <td>NaN</td>\n",
       "      <td>NaN</td>\n",
       "      <td>NaN</td>\n",
       "      <td>NaN</td>\n",
       "      <td>NaN</td>\n",
       "      <td>NaN</td>\n",
       "      <td>NaN</td>\n",
       "      <td>NaN</td>\n",
       "      <td>NaN</td>\n",
       "      <td>NaN</td>\n",
       "      <td>NaN</td>\n",
       "      <td>NaN</td>\n",
       "      <td>NaN</td>\n",
       "      <td>NaN</td>\n",
       "      <td>NaN</td>\n",
       "      <td>NaN</td>\n",
       "      <td>NaN</td>\n",
       "      <td>NaN</td>\n",
       "      <td>NaN</td>\n",
       "      <td>NaN</td>\n",
       "      <td>NaN</td>\n",
       "      <td>NaN</td>\n",
       "      <td>NaN</td>\n",
       "      <td>NaN</td>\n",
       "      <td>NaN</td>\n",
       "      <td>...</td>\n",
       "      <td>NaN</td>\n",
       "      <td>NaN</td>\n",
       "      <td>NaN</td>\n",
       "      <td>NaN</td>\n",
       "      <td>NaN</td>\n",
       "      <td>NaN</td>\n",
       "      <td>NaN</td>\n",
       "      <td>NaN</td>\n",
       "      <td>NaN</td>\n",
       "      <td>NaN</td>\n",
       "      <td>NaN</td>\n",
       "      <td>NaN</td>\n",
       "      <td>NaN</td>\n",
       "      <td>NaN</td>\n",
       "      <td>NaN</td>\n",
       "      <td>NaN</td>\n",
       "      <td>NaN</td>\n",
       "      <td>NaN</td>\n",
       "      <td>NaN</td>\n",
       "      <td>NaN</td>\n",
       "      <td>NaN</td>\n",
       "      <td>NaN</td>\n",
       "      <td>NaN</td>\n",
       "      <td>NaN</td>\n",
       "      <td>NaN</td>\n",
       "      <td>NaN</td>\n",
       "      <td>NaN</td>\n",
       "      <td>NaN</td>\n",
       "      <td>NaN</td>\n",
       "      <td>NaN</td>\n",
       "      <td>NaN</td>\n",
       "      <td>NaN</td>\n",
       "      <td>NaN</td>\n",
       "      <td>NaN</td>\n",
       "      <td>NaN</td>\n",
       "      <td>NaN</td>\n",
       "      <td>NaN</td>\n",
       "      <td>NaN</td>\n",
       "      <td>NaN</td>\n",
       "      <td>NaN</td>\n",
       "      <td>NaN</td>\n",
       "      <td>NaN</td>\n",
       "      <td>NaN</td>\n",
       "      <td>NaN</td>\n",
       "      <td>NaN</td>\n",
       "      <td>NaN</td>\n",
       "      <td>NaN</td>\n",
       "      <td>NaN</td>\n",
       "      <td>NaN</td>\n",
       "      <td>NaN</td>\n",
       "    </tr>\n",
       "    <tr>\n",
       "      <th>min</th>\n",
       "      <td>24.0</td>\n",
       "      <td>28.4</td>\n",
       "      <td>57.4</td>\n",
       "      <td>7.0</td>\n",
       "      <td>77.0</td>\n",
       "      <td>690.0</td>\n",
       "      <td>7.7</td>\n",
       "      <td>15.0</td>\n",
       "      <td>8.0</td>\n",
       "      <td>11.0</td>\n",
       "      <td>4.0</td>\n",
       "      <td>5.0</td>\n",
       "      <td>17.0</td>\n",
       "      <td>0.0</td>\n",
       "      <td>1.96</td>\n",
       "      <td>1.04</td>\n",
       "      <td>3.0</td>\n",
       "      <td>1.43</td>\n",
       "      <td>2.48</td>\n",
       "      <td>15.2</td>\n",
       "      <td>11.4</td>\n",
       "      <td>7.8</td>\n",
       "      <td>19.3</td>\n",
       "      <td>1.98</td>\n",
       "      <td>1.02</td>\n",
       "      <td>3.0</td>\n",
       "      <td>1.49</td>\n",
       "      <td>2.51</td>\n",
       "      <td>7.0</td>\n",
       "      <td>7.0</td>\n",
       "      <td>690.0</td>\n",
       "      <td>8.0</td>\n",
       "      <td>1.04</td>\n",
       "      <td>13.0</td>\n",
       "      <td>6.0</td>\n",
       "      <td>53.8</td>\n",
       "      <td>4.0</td>\n",
       "      <td>2.0</td>\n",
       "      <td>1.0</td>\n",
       "      <td>3.0</td>\n",
       "      <td>42.9</td>\n",
       "      <td>2.0</td>\n",
       "      <td>2.0</td>\n",
       "      <td>0.0</td>\n",
       "      <td>0.0</td>\n",
       "      <td>0.0</td>\n",
       "      <td>0.0</td>\n",
       "      <td>0.0</td>\n",
       "      <td>1.0</td>\n",
       "      <td>5.4</td>\n",
       "      <td>...</td>\n",
       "      <td>59.0</td>\n",
       "      <td>41.0</td>\n",
       "      <td>84.0</td>\n",
       "      <td>14.0</td>\n",
       "      <td>70.0</td>\n",
       "      <td>52.0</td>\n",
       "      <td>175.0</td>\n",
       "      <td>124.0</td>\n",
       "      <td>0.0</td>\n",
       "      <td>5388.0</td>\n",
       "      <td>352.0</td>\n",
       "      <td>1424.0</td>\n",
       "      <td>2716.0</td>\n",
       "      <td>1293.0</td>\n",
       "      <td>157.0</td>\n",
       "      <td>5383.0</td>\n",
       "      <td>45.0</td>\n",
       "      <td>112.0</td>\n",
       "      <td>40.2</td>\n",
       "      <td>99.0</td>\n",
       "      <td>81.0</td>\n",
       "      <td>3868.0</td>\n",
       "      <td>210.0</td>\n",
       "      <td>99.0</td>\n",
       "      <td>100.0</td>\n",
       "      <td>87.0</td>\n",
       "      <td>41.0</td>\n",
       "      <td>36.0</td>\n",
       "      <td>24.0</td>\n",
       "      <td>66.0</td>\n",
       "      <td>2.0</td>\n",
       "      <td>15.0</td>\n",
       "      <td>8.0</td>\n",
       "      <td>7.0</td>\n",
       "      <td>0.91</td>\n",
       "      <td>15.2</td>\n",
       "      <td>4.6</td>\n",
       "      <td>10.6</td>\n",
       "      <td>1.38</td>\n",
       "      <td>0.0</td>\n",
       "      <td>100.0</td>\n",
       "      <td>115.0</td>\n",
       "      <td>23.0</td>\n",
       "      <td>5.0</td>\n",
       "      <td>2.0</td>\n",
       "      <td>1.0</td>\n",
       "      <td>357.0</td>\n",
       "      <td>83.0</td>\n",
       "      <td>90.0</td>\n",
       "      <td>48.0</td>\n",
       "    </tr>\n",
       "    <tr>\n",
       "      <th>25%</th>\n",
       "      <td>24.0</td>\n",
       "      <td>28.4</td>\n",
       "      <td>57.4</td>\n",
       "      <td>7.0</td>\n",
       "      <td>77.0</td>\n",
       "      <td>690.0</td>\n",
       "      <td>7.7</td>\n",
       "      <td>15.0</td>\n",
       "      <td>8.0</td>\n",
       "      <td>11.0</td>\n",
       "      <td>4.0</td>\n",
       "      <td>5.0</td>\n",
       "      <td>17.0</td>\n",
       "      <td>0.0</td>\n",
       "      <td>1.96</td>\n",
       "      <td>1.04</td>\n",
       "      <td>3.0</td>\n",
       "      <td>1.43</td>\n",
       "      <td>2.48</td>\n",
       "      <td>15.2</td>\n",
       "      <td>11.4</td>\n",
       "      <td>7.8</td>\n",
       "      <td>19.3</td>\n",
       "      <td>1.98</td>\n",
       "      <td>1.02</td>\n",
       "      <td>3.0</td>\n",
       "      <td>1.49</td>\n",
       "      <td>2.51</td>\n",
       "      <td>7.0</td>\n",
       "      <td>7.0</td>\n",
       "      <td>690.0</td>\n",
       "      <td>8.0</td>\n",
       "      <td>1.04</td>\n",
       "      <td>13.0</td>\n",
       "      <td>6.0</td>\n",
       "      <td>53.8</td>\n",
       "      <td>4.0</td>\n",
       "      <td>2.0</td>\n",
       "      <td>1.0</td>\n",
       "      <td>3.0</td>\n",
       "      <td>42.9</td>\n",
       "      <td>2.0</td>\n",
       "      <td>2.0</td>\n",
       "      <td>0.0</td>\n",
       "      <td>0.0</td>\n",
       "      <td>0.0</td>\n",
       "      <td>0.0</td>\n",
       "      <td>0.0</td>\n",
       "      <td>1.0</td>\n",
       "      <td>5.4</td>\n",
       "      <td>...</td>\n",
       "      <td>59.0</td>\n",
       "      <td>41.0</td>\n",
       "      <td>84.0</td>\n",
       "      <td>14.0</td>\n",
       "      <td>70.0</td>\n",
       "      <td>52.0</td>\n",
       "      <td>175.0</td>\n",
       "      <td>124.0</td>\n",
       "      <td>0.0</td>\n",
       "      <td>5388.0</td>\n",
       "      <td>352.0</td>\n",
       "      <td>1424.0</td>\n",
       "      <td>2716.0</td>\n",
       "      <td>1293.0</td>\n",
       "      <td>157.0</td>\n",
       "      <td>5383.0</td>\n",
       "      <td>45.0</td>\n",
       "      <td>112.0</td>\n",
       "      <td>40.2</td>\n",
       "      <td>99.0</td>\n",
       "      <td>81.0</td>\n",
       "      <td>3868.0</td>\n",
       "      <td>210.0</td>\n",
       "      <td>99.0</td>\n",
       "      <td>100.0</td>\n",
       "      <td>87.0</td>\n",
       "      <td>41.0</td>\n",
       "      <td>36.0</td>\n",
       "      <td>24.0</td>\n",
       "      <td>66.0</td>\n",
       "      <td>2.0</td>\n",
       "      <td>15.0</td>\n",
       "      <td>8.0</td>\n",
       "      <td>7.0</td>\n",
       "      <td>0.91</td>\n",
       "      <td>15.2</td>\n",
       "      <td>4.6</td>\n",
       "      <td>10.6</td>\n",
       "      <td>1.38</td>\n",
       "      <td>0.0</td>\n",
       "      <td>100.0</td>\n",
       "      <td>115.0</td>\n",
       "      <td>23.0</td>\n",
       "      <td>5.0</td>\n",
       "      <td>2.0</td>\n",
       "      <td>1.0</td>\n",
       "      <td>357.0</td>\n",
       "      <td>83.0</td>\n",
       "      <td>90.0</td>\n",
       "      <td>48.0</td>\n",
       "    </tr>\n",
       "    <tr>\n",
       "      <th>50%</th>\n",
       "      <td>24.0</td>\n",
       "      <td>28.4</td>\n",
       "      <td>57.4</td>\n",
       "      <td>7.0</td>\n",
       "      <td>77.0</td>\n",
       "      <td>690.0</td>\n",
       "      <td>7.7</td>\n",
       "      <td>15.0</td>\n",
       "      <td>8.0</td>\n",
       "      <td>11.0</td>\n",
       "      <td>4.0</td>\n",
       "      <td>5.0</td>\n",
       "      <td>17.0</td>\n",
       "      <td>0.0</td>\n",
       "      <td>1.96</td>\n",
       "      <td>1.04</td>\n",
       "      <td>3.0</td>\n",
       "      <td>1.43</td>\n",
       "      <td>2.48</td>\n",
       "      <td>15.2</td>\n",
       "      <td>11.4</td>\n",
       "      <td>7.8</td>\n",
       "      <td>19.3</td>\n",
       "      <td>1.98</td>\n",
       "      <td>1.02</td>\n",
       "      <td>3.0</td>\n",
       "      <td>1.49</td>\n",
       "      <td>2.51</td>\n",
       "      <td>7.0</td>\n",
       "      <td>7.0</td>\n",
       "      <td>690.0</td>\n",
       "      <td>8.0</td>\n",
       "      <td>1.04</td>\n",
       "      <td>13.0</td>\n",
       "      <td>6.0</td>\n",
       "      <td>53.8</td>\n",
       "      <td>4.0</td>\n",
       "      <td>2.0</td>\n",
       "      <td>1.0</td>\n",
       "      <td>3.0</td>\n",
       "      <td>42.9</td>\n",
       "      <td>2.0</td>\n",
       "      <td>2.0</td>\n",
       "      <td>0.0</td>\n",
       "      <td>0.0</td>\n",
       "      <td>0.0</td>\n",
       "      <td>0.0</td>\n",
       "      <td>0.0</td>\n",
       "      <td>1.0</td>\n",
       "      <td>5.4</td>\n",
       "      <td>...</td>\n",
       "      <td>59.0</td>\n",
       "      <td>41.0</td>\n",
       "      <td>84.0</td>\n",
       "      <td>14.0</td>\n",
       "      <td>70.0</td>\n",
       "      <td>52.0</td>\n",
       "      <td>175.0</td>\n",
       "      <td>124.0</td>\n",
       "      <td>0.0</td>\n",
       "      <td>5388.0</td>\n",
       "      <td>352.0</td>\n",
       "      <td>1424.0</td>\n",
       "      <td>2716.0</td>\n",
       "      <td>1293.0</td>\n",
       "      <td>157.0</td>\n",
       "      <td>5383.0</td>\n",
       "      <td>45.0</td>\n",
       "      <td>112.0</td>\n",
       "      <td>40.2</td>\n",
       "      <td>99.0</td>\n",
       "      <td>81.0</td>\n",
       "      <td>3868.0</td>\n",
       "      <td>210.0</td>\n",
       "      <td>99.0</td>\n",
       "      <td>100.0</td>\n",
       "      <td>87.0</td>\n",
       "      <td>41.0</td>\n",
       "      <td>36.0</td>\n",
       "      <td>24.0</td>\n",
       "      <td>66.0</td>\n",
       "      <td>2.0</td>\n",
       "      <td>15.0</td>\n",
       "      <td>8.0</td>\n",
       "      <td>7.0</td>\n",
       "      <td>0.91</td>\n",
       "      <td>15.2</td>\n",
       "      <td>4.6</td>\n",
       "      <td>10.6</td>\n",
       "      <td>1.38</td>\n",
       "      <td>0.0</td>\n",
       "      <td>100.0</td>\n",
       "      <td>115.0</td>\n",
       "      <td>23.0</td>\n",
       "      <td>5.0</td>\n",
       "      <td>2.0</td>\n",
       "      <td>1.0</td>\n",
       "      <td>357.0</td>\n",
       "      <td>83.0</td>\n",
       "      <td>90.0</td>\n",
       "      <td>48.0</td>\n",
       "    </tr>\n",
       "    <tr>\n",
       "      <th>75%</th>\n",
       "      <td>24.0</td>\n",
       "      <td>28.4</td>\n",
       "      <td>57.4</td>\n",
       "      <td>7.0</td>\n",
       "      <td>77.0</td>\n",
       "      <td>690.0</td>\n",
       "      <td>7.7</td>\n",
       "      <td>15.0</td>\n",
       "      <td>8.0</td>\n",
       "      <td>11.0</td>\n",
       "      <td>4.0</td>\n",
       "      <td>5.0</td>\n",
       "      <td>17.0</td>\n",
       "      <td>0.0</td>\n",
       "      <td>1.96</td>\n",
       "      <td>1.04</td>\n",
       "      <td>3.0</td>\n",
       "      <td>1.43</td>\n",
       "      <td>2.48</td>\n",
       "      <td>15.2</td>\n",
       "      <td>11.4</td>\n",
       "      <td>7.8</td>\n",
       "      <td>19.3</td>\n",
       "      <td>1.98</td>\n",
       "      <td>1.02</td>\n",
       "      <td>3.0</td>\n",
       "      <td>1.49</td>\n",
       "      <td>2.51</td>\n",
       "      <td>7.0</td>\n",
       "      <td>7.0</td>\n",
       "      <td>690.0</td>\n",
       "      <td>8.0</td>\n",
       "      <td>1.04</td>\n",
       "      <td>13.0</td>\n",
       "      <td>6.0</td>\n",
       "      <td>53.8</td>\n",
       "      <td>4.0</td>\n",
       "      <td>2.0</td>\n",
       "      <td>1.0</td>\n",
       "      <td>3.0</td>\n",
       "      <td>42.9</td>\n",
       "      <td>2.0</td>\n",
       "      <td>2.0</td>\n",
       "      <td>0.0</td>\n",
       "      <td>0.0</td>\n",
       "      <td>0.0</td>\n",
       "      <td>0.0</td>\n",
       "      <td>0.0</td>\n",
       "      <td>1.0</td>\n",
       "      <td>5.4</td>\n",
       "      <td>...</td>\n",
       "      <td>59.0</td>\n",
       "      <td>41.0</td>\n",
       "      <td>84.0</td>\n",
       "      <td>14.0</td>\n",
       "      <td>70.0</td>\n",
       "      <td>52.0</td>\n",
       "      <td>175.0</td>\n",
       "      <td>124.0</td>\n",
       "      <td>0.0</td>\n",
       "      <td>5388.0</td>\n",
       "      <td>352.0</td>\n",
       "      <td>1424.0</td>\n",
       "      <td>2716.0</td>\n",
       "      <td>1293.0</td>\n",
       "      <td>157.0</td>\n",
       "      <td>5383.0</td>\n",
       "      <td>45.0</td>\n",
       "      <td>112.0</td>\n",
       "      <td>40.2</td>\n",
       "      <td>99.0</td>\n",
       "      <td>81.0</td>\n",
       "      <td>3868.0</td>\n",
       "      <td>210.0</td>\n",
       "      <td>99.0</td>\n",
       "      <td>100.0</td>\n",
       "      <td>87.0</td>\n",
       "      <td>41.0</td>\n",
       "      <td>36.0</td>\n",
       "      <td>24.0</td>\n",
       "      <td>66.0</td>\n",
       "      <td>2.0</td>\n",
       "      <td>15.0</td>\n",
       "      <td>8.0</td>\n",
       "      <td>7.0</td>\n",
       "      <td>0.91</td>\n",
       "      <td>15.2</td>\n",
       "      <td>4.6</td>\n",
       "      <td>10.6</td>\n",
       "      <td>1.38</td>\n",
       "      <td>0.0</td>\n",
       "      <td>100.0</td>\n",
       "      <td>115.0</td>\n",
       "      <td>23.0</td>\n",
       "      <td>5.0</td>\n",
       "      <td>2.0</td>\n",
       "      <td>1.0</td>\n",
       "      <td>357.0</td>\n",
       "      <td>83.0</td>\n",
       "      <td>90.0</td>\n",
       "      <td>48.0</td>\n",
       "    </tr>\n",
       "    <tr>\n",
       "      <th>max</th>\n",
       "      <td>24.0</td>\n",
       "      <td>28.4</td>\n",
       "      <td>57.4</td>\n",
       "      <td>7.0</td>\n",
       "      <td>77.0</td>\n",
       "      <td>690.0</td>\n",
       "      <td>7.7</td>\n",
       "      <td>15.0</td>\n",
       "      <td>8.0</td>\n",
       "      <td>11.0</td>\n",
       "      <td>4.0</td>\n",
       "      <td>5.0</td>\n",
       "      <td>17.0</td>\n",
       "      <td>0.0</td>\n",
       "      <td>1.96</td>\n",
       "      <td>1.04</td>\n",
       "      <td>3.0</td>\n",
       "      <td>1.43</td>\n",
       "      <td>2.48</td>\n",
       "      <td>15.2</td>\n",
       "      <td>11.4</td>\n",
       "      <td>7.8</td>\n",
       "      <td>19.3</td>\n",
       "      <td>1.98</td>\n",
       "      <td>1.02</td>\n",
       "      <td>3.0</td>\n",
       "      <td>1.49</td>\n",
       "      <td>2.51</td>\n",
       "      <td>7.0</td>\n",
       "      <td>7.0</td>\n",
       "      <td>690.0</td>\n",
       "      <td>8.0</td>\n",
       "      <td>1.04</td>\n",
       "      <td>13.0</td>\n",
       "      <td>6.0</td>\n",
       "      <td>53.8</td>\n",
       "      <td>4.0</td>\n",
       "      <td>2.0</td>\n",
       "      <td>1.0</td>\n",
       "      <td>3.0</td>\n",
       "      <td>42.9</td>\n",
       "      <td>2.0</td>\n",
       "      <td>2.0</td>\n",
       "      <td>0.0</td>\n",
       "      <td>0.0</td>\n",
       "      <td>0.0</td>\n",
       "      <td>0.0</td>\n",
       "      <td>0.0</td>\n",
       "      <td>1.0</td>\n",
       "      <td>5.4</td>\n",
       "      <td>...</td>\n",
       "      <td>59.0</td>\n",
       "      <td>41.0</td>\n",
       "      <td>84.0</td>\n",
       "      <td>14.0</td>\n",
       "      <td>70.0</td>\n",
       "      <td>52.0</td>\n",
       "      <td>175.0</td>\n",
       "      <td>124.0</td>\n",
       "      <td>0.0</td>\n",
       "      <td>5388.0</td>\n",
       "      <td>352.0</td>\n",
       "      <td>1424.0</td>\n",
       "      <td>2716.0</td>\n",
       "      <td>1293.0</td>\n",
       "      <td>157.0</td>\n",
       "      <td>5383.0</td>\n",
       "      <td>45.0</td>\n",
       "      <td>112.0</td>\n",
       "      <td>40.2</td>\n",
       "      <td>99.0</td>\n",
       "      <td>81.0</td>\n",
       "      <td>3868.0</td>\n",
       "      <td>210.0</td>\n",
       "      <td>99.0</td>\n",
       "      <td>100.0</td>\n",
       "      <td>87.0</td>\n",
       "      <td>41.0</td>\n",
       "      <td>36.0</td>\n",
       "      <td>24.0</td>\n",
       "      <td>66.0</td>\n",
       "      <td>2.0</td>\n",
       "      <td>15.0</td>\n",
       "      <td>8.0</td>\n",
       "      <td>7.0</td>\n",
       "      <td>0.91</td>\n",
       "      <td>15.2</td>\n",
       "      <td>4.6</td>\n",
       "      <td>10.6</td>\n",
       "      <td>1.38</td>\n",
       "      <td>0.0</td>\n",
       "      <td>100.0</td>\n",
       "      <td>115.0</td>\n",
       "      <td>23.0</td>\n",
       "      <td>5.0</td>\n",
       "      <td>2.0</td>\n",
       "      <td>1.0</td>\n",
       "      <td>357.0</td>\n",
       "      <td>83.0</td>\n",
       "      <td>90.0</td>\n",
       "      <td>48.0</td>\n",
       "    </tr>\n",
       "  </tbody>\n",
       "</table>\n",
       "<p>8 rows × 188 columns</p>\n",
       "</div>"
      ],
      "text/plain": [
       "       players_used  avg_age  possession  games  games_starts  minutes   \n",
       "count           1.0      1.0         1.0    1.0           1.0      1.0  \\\n",
       "mean           24.0     28.4        57.4    7.0          77.0    690.0   \n",
       "std             NaN      NaN         NaN    NaN           NaN      NaN   \n",
       "min            24.0     28.4        57.4    7.0          77.0    690.0   \n",
       "25%            24.0     28.4        57.4    7.0          77.0    690.0   \n",
       "50%            24.0     28.4        57.4    7.0          77.0    690.0   \n",
       "75%            24.0     28.4        57.4    7.0          77.0    690.0   \n",
       "max            24.0     28.4        57.4    7.0          77.0    690.0   \n",
       "\n",
       "       minutes_90s  goals  assists  goals_pens  pens_made  pens_att   \n",
       "count          1.0    1.0      1.0         1.0        1.0       1.0  \\\n",
       "mean           7.7   15.0      8.0        11.0        4.0       5.0   \n",
       "std            NaN    NaN      NaN         NaN        NaN       NaN   \n",
       "min            7.7   15.0      8.0        11.0        4.0       5.0   \n",
       "25%            7.7   15.0      8.0        11.0        4.0       5.0   \n",
       "50%            7.7   15.0      8.0        11.0        4.0       5.0   \n",
       "75%            7.7   15.0      8.0        11.0        4.0       5.0   \n",
       "max            7.7   15.0      8.0        11.0        4.0       5.0   \n",
       "\n",
       "       cards_yellow  cards_red  goals_per90  assists_per90   \n",
       "count           1.0        1.0         1.00           1.00  \\\n",
       "mean           17.0        0.0         1.96           1.04   \n",
       "std             NaN        NaN          NaN            NaN   \n",
       "min            17.0        0.0         1.96           1.04   \n",
       "25%            17.0        0.0         1.96           1.04   \n",
       "50%            17.0        0.0         1.96           1.04   \n",
       "75%            17.0        0.0         1.96           1.04   \n",
       "max            17.0        0.0         1.96           1.04   \n",
       "\n",
       "       goals_assists_per90  goals_pens_per90  goals_assists_pens_per90    xg   \n",
       "count                  1.0              1.00                      1.00   1.0  \\\n",
       "mean                   3.0              1.43                      2.48  15.2   \n",
       "std                    NaN               NaN                       NaN   NaN   \n",
       "min                    3.0              1.43                      2.48  15.2   \n",
       "25%                    3.0              1.43                      2.48  15.2   \n",
       "50%                    3.0              1.43                      2.48  15.2   \n",
       "75%                    3.0              1.43                      2.48  15.2   \n",
       "max                    3.0              1.43                      2.48  15.2   \n",
       "\n",
       "       npxg  xg_assist  npxg_xg_assist  xg_per90  xg_assist_per90   \n",
       "count   1.0        1.0             1.0      1.00             1.00  \\\n",
       "mean   11.4        7.8            19.3      1.98             1.02   \n",
       "std     NaN        NaN             NaN       NaN              NaN   \n",
       "min    11.4        7.8            19.3      1.98             1.02   \n",
       "25%    11.4        7.8            19.3      1.98             1.02   \n",
       "50%    11.4        7.8            19.3      1.98             1.02   \n",
       "75%    11.4        7.8            19.3      1.98             1.02   \n",
       "max    11.4        7.8            19.3      1.98             1.02   \n",
       "\n",
       "       xg_xg_assist_per90  npxg_per90  npxg_xg_assist_per90  gk_games   \n",
       "count                 1.0        1.00                  1.00       1.0  \\\n",
       "mean                  3.0        1.49                  2.51       7.0   \n",
       "std                   NaN         NaN                   NaN       NaN   \n",
       "min                   3.0        1.49                  2.51       7.0   \n",
       "25%                   3.0        1.49                  2.51       7.0   \n",
       "50%                   3.0        1.49                  2.51       7.0   \n",
       "75%                   3.0        1.49                  2.51       7.0   \n",
       "max                   3.0        1.49                  2.51       7.0   \n",
       "\n",
       "       gk_games_starts  gk_minutes  gk_goals_against  gk_goals_against_per90   \n",
       "count              1.0         1.0               1.0                    1.00  \\\n",
       "mean               7.0       690.0               8.0                    1.04   \n",
       "std                NaN         NaN               NaN                     NaN   \n",
       "min                7.0       690.0               8.0                    1.04   \n",
       "25%                7.0       690.0               8.0                    1.04   \n",
       "50%                7.0       690.0               8.0                    1.04   \n",
       "75%                7.0       690.0               8.0                    1.04   \n",
       "max                7.0       690.0               8.0                    1.04   \n",
       "\n",
       "       gk_shots_on_target_against  gk_saves  gk_save_pct  gk_wins  gk_ties   \n",
       "count                         1.0       1.0          1.0      1.0      1.0  \\\n",
       "mean                         13.0       6.0         53.8      4.0      2.0   \n",
       "std                           NaN       NaN          NaN      NaN      NaN   \n",
       "min                          13.0       6.0         53.8      4.0      2.0   \n",
       "25%                          13.0       6.0         53.8      4.0      2.0   \n",
       "50%                          13.0       6.0         53.8      4.0      2.0   \n",
       "75%                          13.0       6.0         53.8      4.0      2.0   \n",
       "max                          13.0       6.0         53.8      4.0      2.0   \n",
       "\n",
       "       gk_losses  gk_clean_sheets  gk_clean_sheets_pct  gk_pens_att   \n",
       "count        1.0              1.0                  1.0          1.0  \\\n",
       "mean         1.0              3.0                 42.9          2.0   \n",
       "std          NaN              NaN                  NaN          NaN   \n",
       "min          1.0              3.0                 42.9          2.0   \n",
       "25%          1.0              3.0                 42.9          2.0   \n",
       "50%          1.0              3.0                 42.9          2.0   \n",
       "75%          1.0              3.0                 42.9          2.0   \n",
       "max          1.0              3.0                 42.9          2.0   \n",
       "\n",
       "       gk_pens_allowed  gk_pens_saved  gk_pens_missed  gk_pens_save_pct   \n",
       "count              1.0            1.0             1.0               1.0  \\\n",
       "mean               2.0            0.0             0.0               0.0   \n",
       "std                NaN            NaN             NaN               NaN   \n",
       "min                2.0            0.0             0.0               0.0   \n",
       "25%                2.0            0.0             0.0               0.0   \n",
       "50%                2.0            0.0             0.0               0.0   \n",
       "75%                2.0            0.0             0.0               0.0   \n",
       "max                2.0            0.0             0.0               0.0   \n",
       "\n",
       "       gk_free_kick_goals_against  gk_corner_kick_goals_against   \n",
       "count                         1.0                           1.0  \\\n",
       "mean                          0.0                           0.0   \n",
       "std                           NaN                           NaN   \n",
       "min                           0.0                           0.0   \n",
       "25%                           0.0                           0.0   \n",
       "50%                           0.0                           0.0   \n",
       "75%                           0.0                           0.0   \n",
       "max                           0.0                           0.0   \n",
       "\n",
       "       gk_own_goals_against  gk_psxg  ...  dribble_tackles_pct  dribbled_past   \n",
       "count                   1.0      1.0  ...                  1.0            1.0  \\\n",
       "mean                    1.0      5.4  ...                 59.0           41.0   \n",
       "std                     NaN      NaN  ...                  NaN            NaN   \n",
       "min                     1.0      5.4  ...                 59.0           41.0   \n",
       "25%                     1.0      5.4  ...                 59.0           41.0   \n",
       "50%                     1.0      5.4  ...                 59.0           41.0   \n",
       "75%                     1.0      5.4  ...                 59.0           41.0   \n",
       "max                     1.0      5.4  ...                 59.0           41.0   \n",
       "\n",
       "       blocks  blocked_shots  blocked_passes  interceptions   \n",
       "count     1.0            1.0             1.0            1.0  \\\n",
       "mean     84.0           14.0            70.0           52.0   \n",
       "std       NaN            NaN             NaN            NaN   \n",
       "min      84.0           14.0            70.0           52.0   \n",
       "25%      84.0           14.0            70.0           52.0   \n",
       "50%      84.0           14.0            70.0           52.0   \n",
       "75%      84.0           14.0            70.0           52.0   \n",
       "max      84.0           14.0            70.0           52.0   \n",
       "\n",
       "       tackles_interceptions  clearances  errors  touches   \n",
       "count                    1.0         1.0     1.0      1.0  \\\n",
       "mean                   175.0       124.0     0.0   5388.0   \n",
       "std                      NaN         NaN     NaN      NaN   \n",
       "min                    175.0       124.0     0.0   5388.0   \n",
       "25%                    175.0       124.0     0.0   5388.0   \n",
       "50%                    175.0       124.0     0.0   5388.0   \n",
       "75%                    175.0       124.0     0.0   5388.0   \n",
       "max                    175.0       124.0     0.0   5388.0   \n",
       "\n",
       "       touches_def_pen_area  touches_def_3rd  touches_mid_3rd   \n",
       "count                   1.0              1.0              1.0  \\\n",
       "mean                  352.0           1424.0           2716.0   \n",
       "std                     NaN              NaN              NaN   \n",
       "min                   352.0           1424.0           2716.0   \n",
       "25%                   352.0           1424.0           2716.0   \n",
       "50%                   352.0           1424.0           2716.0   \n",
       "75%                   352.0           1424.0           2716.0   \n",
       "max                   352.0           1424.0           2716.0   \n",
       "\n",
       "       touches_att_3rd  touches_att_pen_area  touches_live_ball   \n",
       "count              1.0                   1.0                1.0  \\\n",
       "mean            1293.0                 157.0             5383.0   \n",
       "std                NaN                   NaN                NaN   \n",
       "min             1293.0                 157.0             5383.0   \n",
       "25%             1293.0                 157.0             5383.0   \n",
       "50%             1293.0                 157.0             5383.0   \n",
       "75%             1293.0                 157.0             5383.0   \n",
       "max             1293.0                 157.0             5383.0   \n",
       "\n",
       "       dribbles_completed  dribbles  dribbles_completed_pct  miscontrols   \n",
       "count                 1.0       1.0                     1.0          1.0  \\\n",
       "mean                 45.0     112.0                    40.2         99.0   \n",
       "std                   NaN       NaN                     NaN          NaN   \n",
       "min                  45.0     112.0                    40.2         99.0   \n",
       "25%                  45.0     112.0                    40.2         99.0   \n",
       "50%                  45.0     112.0                    40.2         99.0   \n",
       "75%                  45.0     112.0                    40.2         99.0   \n",
       "max                  45.0     112.0                    40.2         99.0   \n",
       "\n",
       "       dispossessed  passes_received  progressive_passes_received   \n",
       "count           1.0              1.0                          1.0  \\\n",
       "mean           81.0           3868.0                        210.0   \n",
       "std             NaN              NaN                          NaN   \n",
       "min            81.0           3868.0                        210.0   \n",
       "25%            81.0           3868.0                        210.0   \n",
       "50%            81.0           3868.0                        210.0   \n",
       "75%            81.0           3868.0                        210.0   \n",
       "max            81.0           3868.0                        210.0   \n",
       "\n",
       "       minutes_per_game  minutes_pct  minutes_per_start  games_complete   \n",
       "count               1.0          1.0                1.0             1.0  \\\n",
       "mean               99.0        100.0               87.0            41.0   \n",
       "std                 NaN          NaN                NaN             NaN   \n",
       "min                99.0        100.0               87.0            41.0   \n",
       "25%                99.0        100.0               87.0            41.0   \n",
       "50%                99.0        100.0               87.0            41.0   \n",
       "75%                99.0        100.0               87.0            41.0   \n",
       "max                99.0        100.0               87.0            41.0   \n",
       "\n",
       "       games_subs  minutes_per_sub  unused_subs  points_per_game   \n",
       "count         1.0              1.0          1.0              1.0  \\\n",
       "mean         36.0             24.0         66.0              2.0   \n",
       "std           NaN              NaN          NaN              NaN   \n",
       "min          36.0             24.0         66.0              2.0   \n",
       "25%          36.0             24.0         66.0              2.0   \n",
       "50%          36.0             24.0         66.0              2.0   \n",
       "75%          36.0             24.0         66.0              2.0   \n",
       "max          36.0             24.0         66.0              2.0   \n",
       "\n",
       "       on_goals_for  on_goals_against  plus_minus  plus_minus_per90   \n",
       "count           1.0               1.0         1.0              1.00  \\\n",
       "mean           15.0               8.0         7.0              0.91   \n",
       "std             NaN               NaN         NaN               NaN   \n",
       "min            15.0               8.0         7.0              0.91   \n",
       "25%            15.0               8.0         7.0              0.91   \n",
       "50%            15.0               8.0         7.0              0.91   \n",
       "75%            15.0               8.0         7.0              0.91   \n",
       "max            15.0               8.0         7.0              0.91   \n",
       "\n",
       "       on_xg_for  on_xg_against  xg_plus_minus  xg_plus_minus_per90   \n",
       "count        1.0            1.0            1.0                 1.00  \\\n",
       "mean        15.2            4.6           10.6                 1.38   \n",
       "std          NaN            NaN            NaN                  NaN   \n",
       "min         15.2            4.6           10.6                 1.38   \n",
       "25%         15.2            4.6           10.6                 1.38   \n",
       "50%         15.2            4.6           10.6                 1.38   \n",
       "75%         15.2            4.6           10.6                 1.38   \n",
       "max         15.2            4.6           10.6                 1.38   \n",
       "\n",
       "       cards_yellow_red  fouls  fouled  offsides  pens_won  pens_conceded   \n",
       "count               1.0    1.0     1.0       1.0       1.0            1.0  \\\n",
       "mean                0.0  100.0   115.0      23.0       5.0            2.0   \n",
       "std                 NaN    NaN     NaN       NaN       NaN            NaN   \n",
       "min                 0.0  100.0   115.0      23.0       5.0            2.0   \n",
       "25%                 0.0  100.0   115.0      23.0       5.0            2.0   \n",
       "50%                 0.0  100.0   115.0      23.0       5.0            2.0   \n",
       "75%                 0.0  100.0   115.0      23.0       5.0            2.0   \n",
       "max                 0.0  100.0   115.0      23.0       5.0            2.0   \n",
       "\n",
       "       own_goals  ball_recoveries  aerials_won  aerials_lost  aerials_won_pct  \n",
       "count        1.0              1.0          1.0           1.0              1.0  \n",
       "mean         1.0            357.0         83.0          90.0             48.0  \n",
       "std          NaN              NaN          NaN           NaN              NaN  \n",
       "min          1.0            357.0         83.0          90.0             48.0  \n",
       "25%          1.0            357.0         83.0          90.0             48.0  \n",
       "50%          1.0            357.0         83.0          90.0             48.0  \n",
       "75%          1.0            357.0         83.0          90.0             48.0  \n",
       "max          1.0            357.0         83.0          90.0             48.0  \n",
       "\n",
       "[8 rows x 188 columns]"
      ]
     },
     "execution_count": 60,
     "metadata": {},
     "output_type": "execute_result"
    }
   ],
   "source": [
    "df_teams = pd.read_csv(\"data_teamsCup.csv\",sep=\",\")\n",
    "df_teams = df_teams[df_teams.team==\"Argentina\"]\n",
    "df_teams['games'].values[0]\n",
    "df_teams.describe()"
   ]
  },
  {
   "attachments": {},
   "cell_type": "markdown",
   "metadata": {},
   "source": [
    "\n",
    "# Relleno"
   ]
  },
  {
   "cell_type": "code",
<<<<<<< HEAD
   "execution_count": null,
=======
   "execution_count": 61,
>>>>>>> d20e0f0c979d08449127054dcb41934fa686c483
   "metadata": {},
   "outputs": [
    {
     "data": {
      "text/html": [
       "<div>\n",
       "<style scoped>\n",
       "    .dataframe tbody tr th:only-of-type {\n",
       "        vertical-align: middle;\n",
       "    }\n",
       "\n",
       "    .dataframe tbody tr th {\n",
       "        vertical-align: top;\n",
       "    }\n",
       "\n",
       "    .dataframe thead th {\n",
       "        text-align: right;\n",
       "    }\n",
       "</style>\n",
       "<table border=\"1\" class=\"dataframe\">\n",
       "  <thead>\n",
       "    <tr style=\"text-align: right;\">\n",
       "      <th></th>\n",
       "      <th>,ACTUAL,Jugador,Posición,G,NUEVO,PAIS,MI ACTUAL</th>\n",
       "    </tr>\n",
       "  </thead>\n",
       "  <tbody>\n",
       "    <tr>\n",
       "      <th>0</th>\n",
       "      <td>0,Australia-Portraits-FIFA-World-Cup-Qatar-202...</td>\n",
       "    </tr>\n",
       "    <tr>\n",
       "      <th>1</th>\n",
       "      <td>1,Australia-Portraits-FIFA-World-Cup-Qatar-202...</td>\n",
       "    </tr>\n",
       "    <tr>\n",
       "      <th>2</th>\n",
       "      <td>2,Australia-Portraits-FIFA-World-Cup-Qatar-202...</td>\n",
       "    </tr>\n",
       "    <tr>\n",
       "      <th>3</th>\n",
       "      <td>3,Australia-Portraits-FIFA-World-Cup-Qatar-202...</td>\n",
       "    </tr>\n",
       "    <tr>\n",
       "      <th>4</th>\n",
       "      <td>4,Australia-Portraits-FIFA-World-Cup-Qatar-202...</td>\n",
       "    </tr>\n",
       "    <tr>\n",
       "      <th>...</th>\n",
       "      <td>...</td>\n",
       "    </tr>\n",
       "    <tr>\n",
       "      <th>858</th>\n",
       "      <td>858,1443095027.png,Osman Bukari,Delantero,.png...</td>\n",
       "    </tr>\n",
       "    <tr>\n",
       "      <th>859</th>\n",
       "      <td>859,1443098435.png,Daniel Afriyie Barnieh,Dela...</td>\n",
       "    </tr>\n",
       "    <tr>\n",
       "      <th>860</th>\n",
       "      <td>860,1443098509.png,Iñaki Williams,Delantero,.p...</td>\n",
       "    </tr>\n",
       "    <tr>\n",
       "      <th>861</th>\n",
       "      <td>861,1443097162.png,Jordan Ayew,Delantero,.png,...</td>\n",
       "    </tr>\n",
       "    <tr>\n",
       "      <th>862</th>\n",
       "      <td>862,1443094117.png,DT Otto Addo,DT,.png,DT Ott...</td>\n",
       "    </tr>\n",
       "  </tbody>\n",
       "</table>\n",
       "<p>863 rows × 1 columns</p>\n",
       "</div>"
      ],
      "text/plain": [
       "      ,ACTUAL,Jugador,Posición,G,NUEVO,PAIS,MI ACTUAL \n",
       "0    0,Australia-Portraits-FIFA-World-Cup-Qatar-202...\n",
       "1    1,Australia-Portraits-FIFA-World-Cup-Qatar-202...\n",
       "2    2,Australia-Portraits-FIFA-World-Cup-Qatar-202...\n",
       "3    3,Australia-Portraits-FIFA-World-Cup-Qatar-202...\n",
       "4    4,Australia-Portraits-FIFA-World-Cup-Qatar-202...\n",
       "..                                                 ...\n",
       "858  858,1443095027.png,Osman Bukari,Delantero,.png...\n",
       "859  859,1443098435.png,Daniel Afriyie Barnieh,Dela...\n",
       "860  860,1443098509.png,Iñaki Williams,Delantero,.p...\n",
       "861  861,1443097162.png,Jordan Ayew,Delantero,.png,...\n",
       "862  862,1443094117.png,DT Otto Addo,DT,.png,DT Ott...\n",
       "\n",
       "[863 rows x 1 columns]"
      ]
     },
     "execution_count": 61,
     "metadata": {},
     "output_type": "execute_result"
    }
   ],
   "source": [
    "selecc22 = pd.read_csv(\"../datas/Selecciones_22.csv\", sep=\";\")\n",
    "selecc22"
   ]
  },
  {
   "cell_type": "code",
<<<<<<< HEAD
   "execution_count": null,
=======
   "execution_count": 62,
>>>>>>> d20e0f0c979d08449127054dcb41934fa686c483
   "metadata": {},
   "outputs": [
    {
     "data": {
      "text/html": [
       "<div>\n",
       "<style scoped>\n",
       "    .dataframe tbody tr th:only-of-type {\n",
       "        vertical-align: middle;\n",
       "    }\n",
       "\n",
       "    .dataframe tbody tr th {\n",
       "        vertical-align: top;\n",
       "    }\n",
       "\n",
       "    .dataframe thead th {\n",
       "        text-align: right;\n",
       "    }\n",
       "</style>\n",
       "<table border=\"1\" class=\"dataframe\">\n",
       "  <thead>\n",
       "    <tr style=\"text-align: right;\">\n",
       "      <th></th>\n",
       "      <th>player</th>\n",
       "      <th>position</th>\n",
       "      <th>team</th>\n",
       "      <th>age</th>\n",
       "      <th>age2</th>\n",
       "      <th>club</th>\n",
       "      <th>birth_year</th>\n",
       "      <th>games</th>\n",
       "      <th>games_starts</th>\n",
       "      <th>minutes</th>\n",
       "      <th>minutes_90s</th>\n",
       "      <th>goals</th>\n",
       "      <th>assists</th>\n",
       "      <th>goals_pens</th>\n",
       "      <th>pens_made</th>\n",
       "      <th>pens_att</th>\n",
       "      <th>cards_yellow</th>\n",
       "      <th>cards_red</th>\n",
       "      <th>goals_per90</th>\n",
       "      <th>assists_per90</th>\n",
       "      <th>goals_assists_per90</th>\n",
       "      <th>goals_pens_per90</th>\n",
       "      <th>goals_assists_pens_per90</th>\n",
       "      <th>xg</th>\n",
       "      <th>npxg</th>\n",
       "      <th>xg_assist</th>\n",
       "      <th>npxg_xg_assist</th>\n",
       "      <th>xg_per90</th>\n",
       "      <th>xg_assist_per90</th>\n",
       "      <th>xg_xg_assist_per90</th>\n",
       "      <th>npxg_per90</th>\n",
       "      <th>npxg_xg_assist_per90</th>\n",
       "    </tr>\n",
       "  </thead>\n",
       "  <tbody>\n",
       "    <tr>\n",
       "      <th>30</th>\n",
       "      <td>Alexis Mac Allister</td>\n",
       "      <td>MF</td>\n",
       "      <td>Argentina</td>\n",
       "      <td>23-359</td>\n",
       "      <td>23</td>\n",
       "      <td>Brighton</td>\n",
       "      <td>1998</td>\n",
       "      <td>6</td>\n",
       "      <td>6</td>\n",
       "      <td>550</td>\n",
       "      <td>61</td>\n",
       "      <td>1</td>\n",
       "      <td>1</td>\n",
       "      <td>1</td>\n",
       "      <td>0</td>\n",
       "      <td>0</td>\n",
       "      <td>0</td>\n",
       "      <td>0</td>\n",
       "      <td>16</td>\n",
       "      <td>16</td>\n",
       "      <td>33</td>\n",
       "      <td>16</td>\n",
       "      <td>33</td>\n",
       "      <td>7.0</td>\n",
       "      <td>7.0</td>\n",
       "      <td>1.0</td>\n",
       "      <td>17.0</td>\n",
       "      <td>12.0</td>\n",
       "      <td>18.0</td>\n",
       "      <td>3.0</td>\n",
       "      <td>12.0</td>\n",
       "      <td>3.0</td>\n",
       "    </tr>\n",
       "    <tr>\n",
       "      <th>674</th>\n",
       "      <td>Angel Correa</td>\n",
       "      <td>MF</td>\n",
       "      <td>Argentina</td>\n",
       "      <td>27-284</td>\n",
       "      <td>27</td>\n",
       "      <td>Atlético Madrid</td>\n",
       "      <td>1995</td>\n",
       "      <td>1</td>\n",
       "      <td>0</td>\n",
       "      <td>5</td>\n",
       "      <td>1</td>\n",
       "      <td>0</td>\n",
       "      <td>0</td>\n",
       "      <td>0</td>\n",
       "      <td>0</td>\n",
       "      <td>0</td>\n",
       "      <td>0</td>\n",
       "      <td>0</td>\n",
       "      <td>0</td>\n",
       "      <td>0</td>\n",
       "      <td>0</td>\n",
       "      <td>0</td>\n",
       "      <td>0</td>\n",
       "      <td>0.0</td>\n",
       "      <td>0.0</td>\n",
       "      <td>0.0</td>\n",
       "      <td>0.0</td>\n",
       "      <td>0.0</td>\n",
       "      <td>0.0</td>\n",
       "      <td>0.0</td>\n",
       "      <td>0.0</td>\n",
       "      <td>0.0</td>\n",
       "    </tr>\n",
       "    <tr>\n",
       "      <th>675</th>\n",
       "      <td>Angel Di María</td>\n",
       "      <td>MF</td>\n",
       "      <td>Argentina</td>\n",
       "      <td>34-307</td>\n",
       "      <td>34</td>\n",
       "      <td>Juventus</td>\n",
       "      <td>1988</td>\n",
       "      <td>5</td>\n",
       "      <td>4</td>\n",
       "      <td>288</td>\n",
       "      <td>32</td>\n",
       "      <td>1</td>\n",
       "      <td>1</td>\n",
       "      <td>1</td>\n",
       "      <td>0</td>\n",
       "      <td>0</td>\n",
       "      <td>0</td>\n",
       "      <td>0</td>\n",
       "      <td>31</td>\n",
       "      <td>31</td>\n",
       "      <td>62</td>\n",
       "      <td>31</td>\n",
       "      <td>62</td>\n",
       "      <td>8.0</td>\n",
       "      <td>8.0</td>\n",
       "      <td>6.0</td>\n",
       "      <td>14.0</td>\n",
       "      <td>27.0</td>\n",
       "      <td>2.0</td>\n",
       "      <td>46.0</td>\n",
       "      <td>27.0</td>\n",
       "      <td>46.0</td>\n",
       "    </tr>\n",
       "    <tr>\n",
       "      <th>133</th>\n",
       "      <td>Cristian Romero</td>\n",
       "      <td>DF</td>\n",
       "      <td>Argentina</td>\n",
       "      <td>24-235</td>\n",
       "      <td>24</td>\n",
       "      <td>Tottenham</td>\n",
       "      <td>1998</td>\n",
       "      <td>7</td>\n",
       "      <td>6</td>\n",
       "      <td>547</td>\n",
       "      <td>61</td>\n",
       "      <td>0</td>\n",
       "      <td>0</td>\n",
       "      <td>0</td>\n",
       "      <td>0</td>\n",
       "      <td>0</td>\n",
       "      <td>2</td>\n",
       "      <td>0</td>\n",
       "      <td>0</td>\n",
       "      <td>0</td>\n",
       "      <td>0</td>\n",
       "      <td>0</td>\n",
       "      <td>0</td>\n",
       "      <td>0.0</td>\n",
       "      <td>0.0</td>\n",
       "      <td>0.0</td>\n",
       "      <td>0.0</td>\n",
       "      <td>0.0</td>\n",
       "      <td>0.0</td>\n",
       "      <td>0.0</td>\n",
       "      <td>0.0</td>\n",
       "      <td>0.0</td>\n",
       "    </tr>\n",
       "    <tr>\n",
       "      <th>184</th>\n",
       "      <td>Emiliano Martínez</td>\n",
       "      <td>GK</td>\n",
       "      <td>Argentina</td>\n",
       "      <td>30-107</td>\n",
       "      <td>30</td>\n",
       "      <td>Aston Villa</td>\n",
       "      <td>1992</td>\n",
       "      <td>7</td>\n",
       "      <td>7</td>\n",
       "      <td>690</td>\n",
       "      <td>77</td>\n",
       "      <td>0</td>\n",
       "      <td>0</td>\n",
       "      <td>0</td>\n",
       "      <td>0</td>\n",
       "      <td>0</td>\n",
       "      <td>1</td>\n",
       "      <td>0</td>\n",
       "      <td>0</td>\n",
       "      <td>0</td>\n",
       "      <td>0</td>\n",
       "      <td>0</td>\n",
       "      <td>0</td>\n",
       "      <td>0.0</td>\n",
       "      <td>0.0</td>\n",
       "      <td>0.0</td>\n",
       "      <td>0.0</td>\n",
       "      <td>0.0</td>\n",
       "      <td>0.0</td>\n",
       "      <td>0.0</td>\n",
       "      <td>0.0</td>\n",
       "      <td>0.0</td>\n",
       "    </tr>\n",
       "    <tr>\n",
       "      <th>187</th>\n",
       "      <td>Enzo Fernández</td>\n",
       "      <td>MF</td>\n",
       "      <td>Argentina</td>\n",
       "      <td>21-335</td>\n",
       "      <td>21</td>\n",
       "      <td>Benfica</td>\n",
       "      <td>2001</td>\n",
       "      <td>7</td>\n",
       "      <td>5</td>\n",
       "      <td>564</td>\n",
       "      <td>63</td>\n",
       "      <td>1</td>\n",
       "      <td>1</td>\n",
       "      <td>1</td>\n",
       "      <td>0</td>\n",
       "      <td>0</td>\n",
       "      <td>1</td>\n",
       "      <td>0</td>\n",
       "      <td>16</td>\n",
       "      <td>16</td>\n",
       "      <td>32</td>\n",
       "      <td>16</td>\n",
       "      <td>32</td>\n",
       "      <td>3.0</td>\n",
       "      <td>3.0</td>\n",
       "      <td>9.0</td>\n",
       "      <td>12.0</td>\n",
       "      <td>5.0</td>\n",
       "      <td>16.0</td>\n",
       "      <td>21.0</td>\n",
       "      <td>5.0</td>\n",
       "      <td>21.0</td>\n",
       "    </tr>\n",
       "    <tr>\n",
       "      <th>194</th>\n",
       "      <td>Exequiel Palacios</td>\n",
       "      <td>MF</td>\n",
       "      <td>Argentina</td>\n",
       "      <td>24-074</td>\n",
       "      <td>24</td>\n",
       "      <td>Leverkusen</td>\n",
       "      <td>1998</td>\n",
       "      <td>3</td>\n",
       "      <td>0</td>\n",
       "      <td>50</td>\n",
       "      <td>6</td>\n",
       "      <td>0</td>\n",
       "      <td>0</td>\n",
       "      <td>0</td>\n",
       "      <td>0</td>\n",
       "      <td>0</td>\n",
       "      <td>0</td>\n",
       "      <td>0</td>\n",
       "      <td>0</td>\n",
       "      <td>0</td>\n",
       "      <td>0</td>\n",
       "      <td>0</td>\n",
       "      <td>0</td>\n",
       "      <td>1.0</td>\n",
       "      <td>1.0</td>\n",
       "      <td>1.0</td>\n",
       "      <td>1.0</td>\n",
       "      <td>12.0</td>\n",
       "      <td>12.0</td>\n",
       "      <td>24.0</td>\n",
       "      <td>12.0</td>\n",
       "      <td>24.0</td>\n",
       "    </tr>\n",
       "    <tr>\n",
       "      <th>220</th>\n",
       "      <td>Germán Pezzella</td>\n",
       "      <td>DF</td>\n",
       "      <td>Argentina</td>\n",
       "      <td>31-174</td>\n",
       "      <td>31</td>\n",
       "      <td>Betis</td>\n",
       "      <td>1991</td>\n",
       "      <td>3</td>\n",
       "      <td>0</td>\n",
       "      <td>60</td>\n",
       "      <td>7</td>\n",
       "      <td>0</td>\n",
       "      <td>0</td>\n",
       "      <td>0</td>\n",
       "      <td>0</td>\n",
       "      <td>0</td>\n",
       "      <td>1</td>\n",
       "      <td>0</td>\n",
       "      <td>0</td>\n",
       "      <td>0</td>\n",
       "      <td>0</td>\n",
       "      <td>0</td>\n",
       "      <td>0</td>\n",
       "      <td>1.0</td>\n",
       "      <td>1.0</td>\n",
       "      <td>0.0</td>\n",
       "      <td>1.0</td>\n",
       "      <td>24.0</td>\n",
       "      <td>0.0</td>\n",
       "      <td>24.0</td>\n",
       "      <td>24.0</td>\n",
       "      <td>24.0</td>\n",
       "    </tr>\n",
       "    <tr>\n",
       "      <th>227</th>\n",
       "      <td>Gonzalo Montiel</td>\n",
       "      <td>DF</td>\n",
       "      <td>Argentina</td>\n",
       "      <td>25-351</td>\n",
       "      <td>25</td>\n",
       "      <td>Sevilla</td>\n",
       "      <td>1997</td>\n",
       "      <td>4</td>\n",
       "      <td>1</td>\n",
       "      <td>118</td>\n",
       "      <td>13</td>\n",
       "      <td>0</td>\n",
       "      <td>0</td>\n",
       "      <td>0</td>\n",
       "      <td>0</td>\n",
       "      <td>0</td>\n",
       "      <td>3</td>\n",
       "      <td>0</td>\n",
       "      <td>0</td>\n",
       "      <td>0</td>\n",
       "      <td>0</td>\n",
       "      <td>0</td>\n",
       "      <td>0</td>\n",
       "      <td>0.0</td>\n",
       "      <td>0.0</td>\n",
       "      <td>3.0</td>\n",
       "      <td>4.0</td>\n",
       "      <td>2.0</td>\n",
       "      <td>42.0</td>\n",
       "      <td>44.0</td>\n",
       "      <td>2.0</td>\n",
       "      <td>44.0</td>\n",
       "    </tr>\n",
       "    <tr>\n",
       "      <th>233</th>\n",
       "      <td>Guido Rodríguez</td>\n",
       "      <td>MF</td>\n",
       "      <td>Argentina</td>\n",
       "      <td>28-250</td>\n",
       "      <td>28</td>\n",
       "      <td>Betis</td>\n",
       "      <td>1994</td>\n",
       "      <td>1</td>\n",
       "      <td>1</td>\n",
       "      <td>56</td>\n",
       "      <td>6</td>\n",
       "      <td>0</td>\n",
       "      <td>0</td>\n",
       "      <td>0</td>\n",
       "      <td>0</td>\n",
       "      <td>0</td>\n",
       "      <td>0</td>\n",
       "      <td>0</td>\n",
       "      <td>0</td>\n",
       "      <td>0</td>\n",
       "      <td>0</td>\n",
       "      <td>0</td>\n",
       "      <td>0</td>\n",
       "      <td>0.0</td>\n",
       "      <td>0.0</td>\n",
       "      <td>0.0</td>\n",
       "      <td>0.0</td>\n",
       "      <td>0.0</td>\n",
       "      <td>0.0</td>\n",
       "      <td>0.0</td>\n",
       "      <td>0.0</td>\n",
       "      <td>0.0</td>\n",
       "    </tr>\n",
       "    <tr>\n",
       "      <th>326</th>\n",
       "      <td>Juan Foyth</td>\n",
       "      <td>DF</td>\n",
       "      <td>Argentina</td>\n",
       "      <td>24-340</td>\n",
       "      <td>24</td>\n",
       "      <td>Villarreal</td>\n",
       "      <td>1998</td>\n",
       "      <td>1</td>\n",
       "      <td>0</td>\n",
       "      <td>5</td>\n",
       "      <td>1</td>\n",
       "      <td>0</td>\n",
       "      <td>0</td>\n",
       "      <td>0</td>\n",
       "      <td>0</td>\n",
       "      <td>0</td>\n",
       "      <td>0</td>\n",
       "      <td>0</td>\n",
       "      <td>0</td>\n",
       "      <td>0</td>\n",
       "      <td>0</td>\n",
       "      <td>0</td>\n",
       "      <td>0</td>\n",
       "      <td>0.0</td>\n",
       "      <td>0.0</td>\n",
       "      <td>0.0</td>\n",
       "      <td>0.0</td>\n",
       "      <td>0.0</td>\n",
       "      <td>0.0</td>\n",
       "      <td>0.0</td>\n",
       "      <td>0.0</td>\n",
       "      <td>0.0</td>\n",
       "    </tr>\n",
       "    <tr>\n",
       "      <th>330</th>\n",
       "      <td>Julián Álvarez</td>\n",
       "      <td>FW</td>\n",
       "      <td>Argentina</td>\n",
       "      <td>22-321</td>\n",
       "      <td>22</td>\n",
       "      <td>Manchester City</td>\n",
       "      <td>2000</td>\n",
       "      <td>7</td>\n",
       "      <td>5</td>\n",
       "      <td>464</td>\n",
       "      <td>52</td>\n",
       "      <td>4</td>\n",
       "      <td>0</td>\n",
       "      <td>4</td>\n",
       "      <td>0</td>\n",
       "      <td>0</td>\n",
       "      <td>0</td>\n",
       "      <td>0</td>\n",
       "      <td>78</td>\n",
       "      <td>0</td>\n",
       "      <td>78</td>\n",
       "      <td>78</td>\n",
       "      <td>78</td>\n",
       "      <td>26.0</td>\n",
       "      <td>26.0</td>\n",
       "      <td>1.0</td>\n",
       "      <td>27.0</td>\n",
       "      <td>51.0</td>\n",
       "      <td>2.0</td>\n",
       "      <td>53.0</td>\n",
       "      <td>51.0</td>\n",
       "      <td>53.0</td>\n",
       "    </tr>\n",
       "    <tr>\n",
       "      <th>378</th>\n",
       "      <td>Lautaro Martínez</td>\n",
       "      <td>FW</td>\n",
       "      <td>Argentina</td>\n",
       "      <td>25-118</td>\n",
       "      <td>25</td>\n",
       "      <td>Inter</td>\n",
       "      <td>1997</td>\n",
       "      <td>6</td>\n",
       "      <td>2</td>\n",
       "      <td>241</td>\n",
       "      <td>27</td>\n",
       "      <td>0</td>\n",
       "      <td>0</td>\n",
       "      <td>0</td>\n",
       "      <td>0</td>\n",
       "      <td>0</td>\n",
       "      <td>0</td>\n",
       "      <td>0</td>\n",
       "      <td>0</td>\n",
       "      <td>0</td>\n",
       "      <td>0</td>\n",
       "      <td>0</td>\n",
       "      <td>0</td>\n",
       "      <td>18.0</td>\n",
       "      <td>18.0</td>\n",
       "      <td>0.0</td>\n",
       "      <td>19.0</td>\n",
       "      <td>86.0</td>\n",
       "      <td>2.0</td>\n",
       "      <td>87.0</td>\n",
       "      <td>86.0</td>\n",
       "      <td>87.0</td>\n",
       "    </tr>\n",
       "    <tr>\n",
       "      <th>381</th>\n",
       "      <td>Leandro Paredes</td>\n",
       "      <td>MF</td>\n",
       "      <td>Argentina</td>\n",
       "      <td>28-172</td>\n",
       "      <td>28</td>\n",
       "      <td>Juventus</td>\n",
       "      <td>1994</td>\n",
       "      <td>5</td>\n",
       "      <td>2</td>\n",
       "      <td>225</td>\n",
       "      <td>25</td>\n",
       "      <td>0</td>\n",
       "      <td>0</td>\n",
       "      <td>0</td>\n",
       "      <td>0</td>\n",
       "      <td>0</td>\n",
       "      <td>2</td>\n",
       "      <td>0</td>\n",
       "      <td>0</td>\n",
       "      <td>0</td>\n",
       "      <td>0</td>\n",
       "      <td>0</td>\n",
       "      <td>0</td>\n",
       "      <td>0.0</td>\n",
       "      <td>0.0</td>\n",
       "      <td>0.0</td>\n",
       "      <td>1.0</td>\n",
       "      <td>1.0</td>\n",
       "      <td>2.0</td>\n",
       "      <td>3.0</td>\n",
       "      <td>1.0</td>\n",
       "      <td>3.0</td>\n",
       "    </tr>\n",
       "    <tr>\n",
       "      <th>388</th>\n",
       "      <td>Lionel Messi</td>\n",
       "      <td>FW</td>\n",
       "      <td>Argentina</td>\n",
       "      <td>35-177</td>\n",
       "      <td>35</td>\n",
       "      <td>Paris S-G</td>\n",
       "      <td>1987</td>\n",
       "      <td>7</td>\n",
       "      <td>7</td>\n",
       "      <td>690</td>\n",
       "      <td>77</td>\n",
       "      <td>7</td>\n",
       "      <td>3</td>\n",
       "      <td>3</td>\n",
       "      <td>4</td>\n",
       "      <td>5</td>\n",
       "      <td>1</td>\n",
       "      <td>0</td>\n",
       "      <td>91</td>\n",
       "      <td>39</td>\n",
       "      <td>13</td>\n",
       "      <td>39</td>\n",
       "      <td>78</td>\n",
       "      <td>66.0</td>\n",
       "      <td>26.0</td>\n",
       "      <td>25.0</td>\n",
       "      <td>51.0</td>\n",
       "      <td>94.0</td>\n",
       "      <td>36.0</td>\n",
       "      <td>13.0</td>\n",
       "      <td>38.0</td>\n",
       "      <td>74.0</td>\n",
       "    </tr>\n",
       "    <tr>\n",
       "      <th>389</th>\n",
       "      <td>Lisandro Martínez</td>\n",
       "      <td>DF</td>\n",
       "      <td>Argentina</td>\n",
       "      <td>24-334</td>\n",
       "      <td>24</td>\n",
       "      <td>Manchester Utd</td>\n",
       "      <td>1998</td>\n",
       "      <td>5</td>\n",
       "      <td>2</td>\n",
       "      <td>303</td>\n",
       "      <td>34</td>\n",
       "      <td>0</td>\n",
       "      <td>0</td>\n",
       "      <td>0</td>\n",
       "      <td>0</td>\n",
       "      <td>0</td>\n",
       "      <td>1</td>\n",
       "      <td>0</td>\n",
       "      <td>0</td>\n",
       "      <td>0</td>\n",
       "      <td>0</td>\n",
       "      <td>0</td>\n",
       "      <td>0</td>\n",
       "      <td>1.0</td>\n",
       "      <td>1.0</td>\n",
       "      <td>7.0</td>\n",
       "      <td>8.0</td>\n",
       "      <td>4.0</td>\n",
       "      <td>21.0</td>\n",
       "      <td>25.0</td>\n",
       "      <td>4.0</td>\n",
       "      <td>25.0</td>\n",
       "    </tr>\n",
       "    <tr>\n",
       "      <th>407</th>\n",
       "      <td>Marcos Acuña</td>\n",
       "      <td>DF</td>\n",
       "      <td>Argentina</td>\n",
       "      <td>31-051</td>\n",
       "      <td>31</td>\n",
       "      <td>Sevilla</td>\n",
       "      <td>1991</td>\n",
       "      <td>6</td>\n",
       "      <td>4</td>\n",
       "      <td>373</td>\n",
       "      <td>41</td>\n",
       "      <td>0</td>\n",
       "      <td>0</td>\n",
       "      <td>0</td>\n",
       "      <td>0</td>\n",
       "      <td>0</td>\n",
       "      <td>3</td>\n",
       "      <td>0</td>\n",
       "      <td>0</td>\n",
       "      <td>0</td>\n",
       "      <td>0</td>\n",
       "      <td>0</td>\n",
       "      <td>0</td>\n",
       "      <td>1.0</td>\n",
       "      <td>1.0</td>\n",
       "      <td>3.0</td>\n",
       "      <td>4.0</td>\n",
       "      <td>2.0</td>\n",
       "      <td>7.0</td>\n",
       "      <td>1.0</td>\n",
       "      <td>2.0</td>\n",
       "      <td>1.0</td>\n",
       "    </tr>\n",
       "    <tr>\n",
       "      <th>470</th>\n",
       "      <td>Nahuel Molina</td>\n",
       "      <td>DF</td>\n",
       "      <td>Argentina</td>\n",
       "      <td>24-256</td>\n",
       "      <td>24</td>\n",
       "      <td>Atlético Madrid</td>\n",
       "      <td>1998</td>\n",
       "      <td>7</td>\n",
       "      <td>6</td>\n",
       "      <td>567</td>\n",
       "      <td>63</td>\n",
       "      <td>1</td>\n",
       "      <td>1</td>\n",
       "      <td>1</td>\n",
       "      <td>0</td>\n",
       "      <td>0</td>\n",
       "      <td>0</td>\n",
       "      <td>0</td>\n",
       "      <td>16</td>\n",
       "      <td>16</td>\n",
       "      <td>32</td>\n",
       "      <td>16</td>\n",
       "      <td>32</td>\n",
       "      <td>5.0</td>\n",
       "      <td>5.0</td>\n",
       "      <td>3.0</td>\n",
       "      <td>8.0</td>\n",
       "      <td>7.0</td>\n",
       "      <td>5.0</td>\n",
       "      <td>12.0</td>\n",
       "      <td>7.0</td>\n",
       "      <td>12.0</td>\n",
       "    </tr>\n",
       "    <tr>\n",
       "      <th>491</th>\n",
       "      <td>Nicolás Otamendi</td>\n",
       "      <td>DF</td>\n",
       "      <td>Argentina</td>\n",
       "      <td>34-309</td>\n",
       "      <td>34</td>\n",
       "      <td>Benfica</td>\n",
       "      <td>1988</td>\n",
       "      <td>7</td>\n",
       "      <td>7</td>\n",
       "      <td>690</td>\n",
       "      <td>77</td>\n",
       "      <td>0</td>\n",
       "      <td>1</td>\n",
       "      <td>0</td>\n",
       "      <td>0</td>\n",
       "      <td>0</td>\n",
       "      <td>2</td>\n",
       "      <td>0</td>\n",
       "      <td>0</td>\n",
       "      <td>13</td>\n",
       "      <td>13</td>\n",
       "      <td>0</td>\n",
       "      <td>13</td>\n",
       "      <td>0.0</td>\n",
       "      <td>0.0</td>\n",
       "      <td>2.0</td>\n",
       "      <td>2.0</td>\n",
       "      <td>0.0</td>\n",
       "      <td>2.0</td>\n",
       "      <td>3.0</td>\n",
       "      <td>0.0</td>\n",
       "      <td>3.0</td>\n",
       "    </tr>\n",
       "    <tr>\n",
       "      <th>492</th>\n",
       "      <td>Nicolás Tagliafico</td>\n",
       "      <td>DF</td>\n",
       "      <td>Argentina</td>\n",
       "      <td>30-109</td>\n",
       "      <td>30</td>\n",
       "      <td>Lyon</td>\n",
       "      <td>1992</td>\n",
       "      <td>6</td>\n",
       "      <td>3</td>\n",
       "      <td>373</td>\n",
       "      <td>41</td>\n",
       "      <td>0</td>\n",
       "      <td>0</td>\n",
       "      <td>0</td>\n",
       "      <td>0</td>\n",
       "      <td>0</td>\n",
       "      <td>0</td>\n",
       "      <td>0</td>\n",
       "      <td>0</td>\n",
       "      <td>0</td>\n",
       "      <td>0</td>\n",
       "      <td>0</td>\n",
       "      <td>0</td>\n",
       "      <td>1.0</td>\n",
       "      <td>1.0</td>\n",
       "      <td>2.0</td>\n",
       "      <td>12.0</td>\n",
       "      <td>26.0</td>\n",
       "      <td>5.0</td>\n",
       "      <td>31.0</td>\n",
       "      <td>26.0</td>\n",
       "      <td>31.0</td>\n",
       "    </tr>\n",
       "    <tr>\n",
       "      <th>513</th>\n",
       "      <td>Papu Gómez</td>\n",
       "      <td>MF</td>\n",
       "      <td>Argentina</td>\n",
       "      <td>34-306</td>\n",
       "      <td>34</td>\n",
       "      <td>Sevilla</td>\n",
       "      <td>1988</td>\n",
       "      <td>2</td>\n",
       "      <td>2</td>\n",
       "      <td>107</td>\n",
       "      <td>12</td>\n",
       "      <td>0</td>\n",
       "      <td>0</td>\n",
       "      <td>0</td>\n",
       "      <td>0</td>\n",
       "      <td>0</td>\n",
       "      <td>0</td>\n",
       "      <td>0</td>\n",
       "      <td>0</td>\n",
       "      <td>0</td>\n",
       "      <td>0</td>\n",
       "      <td>0</td>\n",
       "      <td>0</td>\n",
       "      <td>0.0</td>\n",
       "      <td>0.0</td>\n",
       "      <td>0.0</td>\n",
       "      <td>0.0</td>\n",
       "      <td>3.0</td>\n",
       "      <td>0.0</td>\n",
       "      <td>3.0</td>\n",
       "      <td>3.0</td>\n",
       "      <td>3.0</td>\n",
       "    </tr>\n",
       "    <tr>\n",
       "      <th>516</th>\n",
       "      <td>Paulo Dybala</td>\n",
       "      <td>FW</td>\n",
       "      <td>Argentina</td>\n",
       "      <td>29-033</td>\n",
       "      <td>29</td>\n",
       "      <td>Roma</td>\n",
       "      <td>1993</td>\n",
       "      <td>2</td>\n",
       "      <td>0</td>\n",
       "      <td>18</td>\n",
       "      <td>2</td>\n",
       "      <td>0</td>\n",
       "      <td>0</td>\n",
       "      <td>0</td>\n",
       "      <td>0</td>\n",
       "      <td>0</td>\n",
       "      <td>0</td>\n",
       "      <td>0</td>\n",
       "      <td>0</td>\n",
       "      <td>0</td>\n",
       "      <td>0</td>\n",
       "      <td>0</td>\n",
       "      <td>0</td>\n",
       "      <td>0.0</td>\n",
       "      <td>0.0</td>\n",
       "      <td>2.0</td>\n",
       "      <td>2.0</td>\n",
       "      <td>0.0</td>\n",
       "      <td>103.0</td>\n",
       "      <td>103.0</td>\n",
       "      <td>0.0</td>\n",
       "      <td>103.0</td>\n",
       "    </tr>\n",
       "    <tr>\n",
       "      <th>551</th>\n",
       "      <td>Rodrigo De Paul</td>\n",
       "      <td>MF</td>\n",
       "      <td>Argentina</td>\n",
       "      <td>28-208</td>\n",
       "      <td>28</td>\n",
       "      <td>Atlético Madrid</td>\n",
       "      <td>1994</td>\n",
       "      <td>7</td>\n",
       "      <td>7</td>\n",
       "      <td>599</td>\n",
       "      <td>67</td>\n",
       "      <td>0</td>\n",
       "      <td>0</td>\n",
       "      <td>0</td>\n",
       "      <td>0</td>\n",
       "      <td>0</td>\n",
       "      <td>0</td>\n",
       "      <td>0</td>\n",
       "      <td>0</td>\n",
       "      <td>0</td>\n",
       "      <td>0</td>\n",
       "      <td>0</td>\n",
       "      <td>0</td>\n",
       "      <td>9.0</td>\n",
       "      <td>9.0</td>\n",
       "      <td>3.0</td>\n",
       "      <td>12.0</td>\n",
       "      <td>13.0</td>\n",
       "      <td>5.0</td>\n",
       "      <td>18.0</td>\n",
       "      <td>13.0</td>\n",
       "      <td>18.0</td>\n",
       "    </tr>\n",
       "    <tr>\n",
       "      <th>615</th>\n",
       "      <td>Thiago Almada</td>\n",
       "      <td>MF</td>\n",
       "      <td>Argentina</td>\n",
       "      <td>21-236</td>\n",
       "      <td>21</td>\n",
       "      <td>Atlanta Utd</td>\n",
       "      <td>2001</td>\n",
       "      <td>1</td>\n",
       "      <td>0</td>\n",
       "      <td>7</td>\n",
       "      <td>1</td>\n",
       "      <td>0</td>\n",
       "      <td>0</td>\n",
       "      <td>0</td>\n",
       "      <td>0</td>\n",
       "      <td>0</td>\n",
       "      <td>0</td>\n",
       "      <td>0</td>\n",
       "      <td>0</td>\n",
       "      <td>0</td>\n",
       "      <td>0</td>\n",
       "      <td>0</td>\n",
       "      <td>0</td>\n",
       "      <td>0.0</td>\n",
       "      <td>0.0</td>\n",
       "      <td>2.0</td>\n",
       "      <td>2.0</td>\n",
       "      <td>0.0</td>\n",
       "      <td>316.0</td>\n",
       "      <td>316.0</td>\n",
       "      <td>0.0</td>\n",
       "      <td>316.0</td>\n",
       "    </tr>\n",
       "  </tbody>\n",
       "</table>\n",
       "</div>"
      ],
      "text/plain": [
       "                  player position       team     age  age2             club   \n",
       "30   Alexis Mac Allister       MF  Argentina  23-359    23         Brighton  \\\n",
       "674         Angel Correa       MF  Argentina  27-284    27  Atlético Madrid   \n",
       "675       Angel Di María       MF  Argentina  34-307    34         Juventus   \n",
       "133      Cristian Romero       DF  Argentina  24-235    24        Tottenham   \n",
       "184    Emiliano Martínez       GK  Argentina  30-107    30      Aston Villa   \n",
       "187       Enzo Fernández       MF  Argentina  21-335    21          Benfica   \n",
       "194    Exequiel Palacios       MF  Argentina  24-074    24       Leverkusen   \n",
       "220      Germán Pezzella       DF  Argentina  31-174    31            Betis   \n",
       "227      Gonzalo Montiel       DF  Argentina  25-351    25          Sevilla   \n",
       "233      Guido Rodríguez       MF  Argentina  28-250    28            Betis   \n",
       "326           Juan Foyth       DF  Argentina  24-340    24       Villarreal   \n",
       "330       Julián Álvarez       FW  Argentina  22-321    22  Manchester City   \n",
       "378     Lautaro Martínez       FW  Argentina  25-118    25            Inter   \n",
       "381      Leandro Paredes       MF  Argentina  28-172    28         Juventus   \n",
       "388         Lionel Messi       FW  Argentina  35-177    35        Paris S-G   \n",
       "389    Lisandro Martínez       DF  Argentina  24-334    24   Manchester Utd   \n",
       "407         Marcos Acuña       DF  Argentina  31-051    31          Sevilla   \n",
       "470        Nahuel Molina       DF  Argentina  24-256    24  Atlético Madrid   \n",
       "491     Nicolás Otamendi       DF  Argentina  34-309    34          Benfica   \n",
       "492   Nicolás Tagliafico       DF  Argentina  30-109    30             Lyon   \n",
       "513           Papu Gómez       MF  Argentina  34-306    34          Sevilla   \n",
       "516         Paulo Dybala       FW  Argentina  29-033    29             Roma   \n",
       "551      Rodrigo De Paul       MF  Argentina  28-208    28  Atlético Madrid   \n",
       "615        Thiago Almada       MF  Argentina  21-236    21      Atlanta Utd   \n",
       "\n",
       "     birth_year  games  games_starts  minutes  minutes_90s  goals  assists   \n",
       "30         1998      6             6      550           61      1        1  \\\n",
       "674        1995      1             0        5            1      0        0   \n",
       "675        1988      5             4      288           32      1        1   \n",
       "133        1998      7             6      547           61      0        0   \n",
       "184        1992      7             7      690           77      0        0   \n",
       "187        2001      7             5      564           63      1        1   \n",
       "194        1998      3             0       50            6      0        0   \n",
       "220        1991      3             0       60            7      0        0   \n",
       "227        1997      4             1      118           13      0        0   \n",
       "233        1994      1             1       56            6      0        0   \n",
       "326        1998      1             0        5            1      0        0   \n",
       "330        2000      7             5      464           52      4        0   \n",
       "378        1997      6             2      241           27      0        0   \n",
       "381        1994      5             2      225           25      0        0   \n",
       "388        1987      7             7      690           77      7        3   \n",
       "389        1998      5             2      303           34      0        0   \n",
       "407        1991      6             4      373           41      0        0   \n",
       "470        1998      7             6      567           63      1        1   \n",
       "491        1988      7             7      690           77      0        1   \n",
       "492        1992      6             3      373           41      0        0   \n",
       "513        1988      2             2      107           12      0        0   \n",
       "516        1993      2             0       18            2      0        0   \n",
       "551        1994      7             7      599           67      0        0   \n",
       "615        2001      1             0        7            1      0        0   \n",
       "\n",
       "     goals_pens  pens_made  pens_att  cards_yellow  cards_red  goals_per90   \n",
       "30            1          0         0             0          0           16  \\\n",
       "674           0          0         0             0          0            0   \n",
       "675           1          0         0             0          0           31   \n",
       "133           0          0         0             2          0            0   \n",
       "184           0          0         0             1          0            0   \n",
       "187           1          0         0             1          0           16   \n",
       "194           0          0         0             0          0            0   \n",
       "220           0          0         0             1          0            0   \n",
       "227           0          0         0             3          0            0   \n",
       "233           0          0         0             0          0            0   \n",
       "326           0          0         0             0          0            0   \n",
       "330           4          0         0             0          0           78   \n",
       "378           0          0         0             0          0            0   \n",
       "381           0          0         0             2          0            0   \n",
       "388           3          4         5             1          0           91   \n",
       "389           0          0         0             1          0            0   \n",
       "407           0          0         0             3          0            0   \n",
       "470           1          0         0             0          0           16   \n",
       "491           0          0         0             2          0            0   \n",
       "492           0          0         0             0          0            0   \n",
       "513           0          0         0             0          0            0   \n",
       "516           0          0         0             0          0            0   \n",
       "551           0          0         0             0          0            0   \n",
       "615           0          0         0             0          0            0   \n",
       "\n",
       "     assists_per90  goals_assists_per90  goals_pens_per90   \n",
       "30              16                   33                16  \\\n",
       "674              0                    0                 0   \n",
       "675             31                   62                31   \n",
       "133              0                    0                 0   \n",
       "184              0                    0                 0   \n",
       "187             16                   32                16   \n",
       "194              0                    0                 0   \n",
       "220              0                    0                 0   \n",
       "227              0                    0                 0   \n",
       "233              0                    0                 0   \n",
       "326              0                    0                 0   \n",
       "330              0                   78                78   \n",
       "378              0                    0                 0   \n",
       "381              0                    0                 0   \n",
       "388             39                   13                39   \n",
       "389              0                    0                 0   \n",
       "407              0                    0                 0   \n",
       "470             16                   32                16   \n",
       "491             13                   13                 0   \n",
       "492              0                    0                 0   \n",
       "513              0                    0                 0   \n",
       "516              0                    0                 0   \n",
       "551              0                    0                 0   \n",
       "615              0                    0                 0   \n",
       "\n",
       "     goals_assists_pens_per90    xg  npxg  xg_assist  npxg_xg_assist   \n",
       "30                         33   7.0   7.0        1.0            17.0  \\\n",
       "674                         0   0.0   0.0        0.0             0.0   \n",
       "675                        62   8.0   8.0        6.0            14.0   \n",
       "133                         0   0.0   0.0        0.0             0.0   \n",
       "184                         0   0.0   0.0        0.0             0.0   \n",
       "187                        32   3.0   3.0        9.0            12.0   \n",
       "194                         0   1.0   1.0        1.0             1.0   \n",
       "220                         0   1.0   1.0        0.0             1.0   \n",
       "227                         0   0.0   0.0        3.0             4.0   \n",
       "233                         0   0.0   0.0        0.0             0.0   \n",
       "326                         0   0.0   0.0        0.0             0.0   \n",
       "330                        78  26.0  26.0        1.0            27.0   \n",
       "378                         0  18.0  18.0        0.0            19.0   \n",
       "381                         0   0.0   0.0        0.0             1.0   \n",
       "388                        78  66.0  26.0       25.0            51.0   \n",
       "389                         0   1.0   1.0        7.0             8.0   \n",
       "407                         0   1.0   1.0        3.0             4.0   \n",
       "470                        32   5.0   5.0        3.0             8.0   \n",
       "491                        13   0.0   0.0        2.0             2.0   \n",
       "492                         0   1.0   1.0        2.0            12.0   \n",
       "513                         0   0.0   0.0        0.0             0.0   \n",
       "516                         0   0.0   0.0        2.0             2.0   \n",
       "551                         0   9.0   9.0        3.0            12.0   \n",
       "615                         0   0.0   0.0        2.0             2.0   \n",
       "\n",
       "     xg_per90  xg_assist_per90  xg_xg_assist_per90  npxg_per90   \n",
       "30       12.0             18.0                 3.0        12.0  \\\n",
       "674       0.0              0.0                 0.0         0.0   \n",
       "675      27.0              2.0                46.0        27.0   \n",
       "133       0.0              0.0                 0.0         0.0   \n",
       "184       0.0              0.0                 0.0         0.0   \n",
       "187       5.0             16.0                21.0         5.0   \n",
       "194      12.0             12.0                24.0        12.0   \n",
       "220      24.0              0.0                24.0        24.0   \n",
       "227       2.0             42.0                44.0         2.0   \n",
       "233       0.0              0.0                 0.0         0.0   \n",
       "326       0.0              0.0                 0.0         0.0   \n",
       "330      51.0              2.0                53.0        51.0   \n",
       "378      86.0              2.0                87.0        86.0   \n",
       "381       1.0              2.0                 3.0         1.0   \n",
       "388      94.0             36.0                13.0        38.0   \n",
       "389       4.0             21.0                25.0         4.0   \n",
       "407       2.0              7.0                 1.0         2.0   \n",
       "470       7.0              5.0                12.0         7.0   \n",
       "491       0.0              2.0                 3.0         0.0   \n",
       "492      26.0              5.0                31.0        26.0   \n",
       "513       3.0              0.0                 3.0         3.0   \n",
       "516       0.0            103.0               103.0         0.0   \n",
       "551      13.0              5.0                18.0        13.0   \n",
       "615       0.0            316.0               316.0         0.0   \n",
       "\n",
       "     npxg_xg_assist_per90  \n",
       "30                    3.0  \n",
       "674                   0.0  \n",
       "675                  46.0  \n",
       "133                   0.0  \n",
       "184                   0.0  \n",
       "187                  21.0  \n",
       "194                  24.0  \n",
       "220                  24.0  \n",
       "227                  44.0  \n",
       "233                   0.0  \n",
       "326                   0.0  \n",
       "330                  53.0  \n",
       "378                  87.0  \n",
       "381                   3.0  \n",
       "388                  74.0  \n",
       "389                  25.0  \n",
       "407                   1.0  \n",
       "470                  12.0  \n",
       "491                   3.0  \n",
       "492                  31.0  \n",
       "513                   3.0  \n",
       "516                 103.0  \n",
       "551                  18.0  \n",
       "615                 316.0  "
      ]
     },
     "execution_count": 62,
     "metadata": {},
     "output_type": "execute_result"
    }
   ],
   "source": [
    "players_fifa_wc2022[players_fifa_wc2022[\"team\"] == \"Argentina\"].sort_values(by=\"player\")"
   ]
  },
  {
   "attachments": {},
   "cell_type": "markdown",
   "metadata": {},
   "source": [
    "# TEAMS\n"
   ]
  },
  {
   "cell_type": "code",
<<<<<<< HEAD
   "execution_count": null,
=======
   "execution_count": 63,
>>>>>>> d20e0f0c979d08449127054dcb41934fa686c483
   "metadata": {},
   "outputs": [
    {
     "name": "stdout",
     "output_type": "stream",
     "text": [
      "0\n",
      "match_no                                         1\n",
      "day_of_week                                    Sun\n",
      "date                                     20-Nov-22\n",
      "hour                                         17:00\n",
      "venue                              Al Bayt Stadium\n",
      "referee                             Daniele Orsato\n",
      "group                                      Group A\n",
      "1                                            Qatar\n",
      "2                                          Ecuador\n",
      "attendance                                   67372\n",
      "1_xg                                           0.3\n",
      "2_xg                                           1.2\n",
      "1_poss                                          47\n",
      "2_poss                                          53\n",
      "1_goals                                          0\n",
      "2_goals                                          2\n",
      "score                                          0,2\n",
      "1_attempts                                       5\n",
      "2_attempts                                       6\n",
      "1_conceded                                       2\n",
      "2_conceded                                       0\n",
      "1_goal_inside_penalty_area                       0\n",
      "2_goal_inside_penalty_area                       2\n",
      "1_goal_outside_penalty_area                      0\n",
      "2_goal_outside_penalty_area                      0\n",
      "1_ontarget                                       0\n",
      "2_ontarget                                       3\n",
      "1_offtarget                                      5\n",
      "2_offtarget                                      3\n",
      "1_attempts_inside_penalty_area                   2\n",
      "2_attempts_inside_penalty_area                   4\n",
      "1_attempts_outside_penalty_area                  3\n",
      "2_attempts_outside_penalty_area                  2\n",
      "1_yellow_cards                                   4\n",
      "2_yellow_cards                                   2\n",
      "1_red_cards                                      0\n",
      "2_red_cards                                      0\n",
      "faul_against_1                                  15\n",
      "faul_against_2                                  15\n",
      "1_offsides                                       3\n",
      "2_offsides                                       4\n",
      "1_passes                                       450\n",
      "2_passes                                       480\n",
      "1_passes_compeletd                             381\n",
      "2_passes_compeletd                             409\n",
      "1_corners                                        1\n",
      "2_corners                                        3\n",
      "1_free_kicks                                    19\n",
      "2_free_kicks                                    17\n",
      "1_panelties_scored                               0\n",
      "2_panelties_scored                               1\n",
      "1_goal_prevented                                 6\n",
      "2_goal_prevented                                 5\n",
      "1_own_goal                                       0\n",
      "2_own_goal                                       0\n",
      "1_forced_turnovers                              52\n",
      "2_forced_turnovers                              72\n",
      "1_defensive_pressure_applied                   256\n",
      "2_defensive_pressure_applied                   279\n",
      "Name: 1, dtype: object\n",
      "0\n",
      "match_no                                                       2\n",
      "day_of_week                                                  Mon\n",
      "date                                                   21-Nov-22\n",
      "hour                                                       14:00\n",
      "venue                              Khalifa International Stadium\n",
      "referee                                            Raphael Claus\n",
      "group                                                    Group B\n",
      "1                                                        England\n",
      "2                                                           Iran\n",
      "attendance                                                 45334\n",
      "1_xg                                                         2.1\n",
      "2_xg                                                         1.4\n",
      "1_poss                                                        77\n",
      "2_poss                                                        23\n",
      "1_goals                                                        6\n",
      "2_goals                                                        2\n",
      "score                                                        6,2\n",
      "1_attempts                                                    13\n",
      "2_attempts                                                     8\n",
      "1_conceded                                                     2\n",
      "2_conceded                                                     6\n",
      "1_goal_inside_penalty_area                                     6\n",
      "2_goal_inside_penalty_area                                     2\n",
      "1_goal_outside_penalty_area                                    0\n",
      "2_goal_outside_penalty_area                                    0\n",
      "1_ontarget                                                     7\n",
      "2_ontarget                                                     3\n",
      "1_offtarget                                                    3\n",
      "2_offtarget                                                    4\n",
      "1_attempts_inside_penalty_area                                10\n",
      "2_attempts_inside_penalty_area                                 6\n",
      "1_attempts_outside_penalty_area                                3\n",
      "2_attempts_outside_penalty_area                                2\n",
      "1_yellow_cards                                                 0\n",
      "2_yellow_cards                                                 2\n",
      "1_red_cards                                                    0\n",
      "2_red_cards                                                    0\n",
      "faul_against_1                                                 9\n",
      "faul_against_2                                                14\n",
      "1_offsides                                                     2\n",
      "2_offsides                                                     2\n",
      "1_passes                                                     809\n",
      "2_passes                                                     224\n",
      "1_passes_compeletd                                           730\n",
      "2_passes_compeletd                                           154\n",
      "1_corners                                                      8\n",
      "2_corners                                                      0\n",
      "1_free_kicks                                                  16\n",
      "2_free_kicks                                                  10\n",
      "1_panelties_scored                                             0\n",
      "2_panelties_scored                                             1\n",
      "1_goal_prevented                                               8\n",
      "2_goal_prevented                                              13\n",
      "1_own_goal                                                     0\n",
      "2_own_goal                                                     0\n",
      "1_forced_turnovers                                            63\n",
      "2_forced_turnovers                                            72\n",
      "1_defensive_pressure_applied                                 139\n",
      "2_defensive_pressure_applied                                 416\n",
      "Name: 2, dtype: object\n",
      "0\n",
      "match_no                                            3\n",
      "day_of_week                                       Mon\n",
      "date                                        21-Nov-22\n",
      "hour                                            17:00\n",
      "venue                              Al Thumama Stadium\n",
      "referee                                Wilton Sampaio\n",
      "group                                         Group A\n",
      "1                                             Senegal\n",
      "2                                         Netherlands\n",
      "attendance                                      41721\n",
      "1_xg                                              0.9\n",
      "2_xg                                              0.7\n",
      "1_poss                                             46\n",
      "2_poss                                             54\n",
      "1_goals                                             0\n",
      "2_goals                                             2\n",
      "score                                             0,2\n",
      "1_attempts                                         14\n",
      "2_attempts                                          9\n",
      "1_conceded                                          2\n",
      "2_conceded                                          0\n",
      "1_goal_inside_penalty_area                          0\n",
      "2_goal_inside_penalty_area                          2\n",
      "1_goal_outside_penalty_area                         0\n",
      "2_goal_outside_penalty_area                         0\n",
      "1_ontarget                                          3\n",
      "2_ontarget                                          3\n",
      "1_offtarget                                         8\n",
      "2_offtarget                                         5\n",
      "1_attempts_inside_penalty_area                      7\n",
      "2_attempts_inside_penalty_area                      5\n",
      "1_attempts_outside_penalty_area                     7\n",
      "2_attempts_outside_penalty_area                     4\n",
      "1_yellow_cards                                      2\n",
      "2_yellow_cards                                      1\n",
      "1_red_cards                                         0\n",
      "2_red_cards                                         0\n",
      "faul_against_1                                     13\n",
      "faul_against_2                                     13\n",
      "1_offsides                                          2\n",
      "2_offsides                                          1\n",
      "1_passes                                          383\n",
      "2_passes                                          438\n",
      "1_passes_compeletd                                313\n",
      "2_passes_compeletd                                374\n",
      "1_corners                                           6\n",
      "2_corners                                           7\n",
      "1_free_kicks                                       14\n",
      "2_free_kicks                                       14\n",
      "1_panelties_scored                                  0\n",
      "2_panelties_scored                                  0\n",
      "1_goal_prevented                                    9\n",
      "2_goal_prevented                                   15\n",
      "1_own_goal                                          0\n",
      "2_own_goal                                          0\n",
      "1_forced_turnovers                                 63\n",
      "2_forced_turnovers                                 73\n",
      "1_defensive_pressure_applied                      263\n",
      "2_defensive_pressure_applied                      251\n",
      "Name: 3, dtype: object\n",
      "0\n",
      "match_no                                                       4\n",
      "day_of_week                                                  Mon\n",
      "date                                                   21-Nov-22\n",
      "hour                                                       20:00\n",
      "venue                                      Ahmed bin Ali Stadium\n",
      "referee                            Abdulrahman Ibrahim Al Jassim\n",
      "group                                                    Group B\n",
      "1                                                  United States\n",
      "2                                                          Wales\n",
      "attendance                                                 43418\n",
      "1_xg                                                         0.8\n",
      "2_xg                                                         1.5\n",
      "1_poss                                                        58\n",
      "2_poss                                                        42\n",
      "1_goals                                                        1\n",
      "2_goals                                                        1\n",
      "score                                                        1,1\n",
      "1_attempts                                                     6\n",
      "2_attempts                                                     7\n",
      "1_conceded                                                     1\n",
      "2_conceded                                                     1\n",
      "1_goal_inside_penalty_area                                     1\n",
      "2_goal_inside_penalty_area                                     1\n",
      "1_goal_outside_penalty_area                                    0\n",
      "2_goal_outside_penalty_area                                    0\n",
      "1_ontarget                                                     1\n",
      "2_ontarget                                                     3\n",
      "1_offtarget                                                    4\n",
      "2_offtarget                                                    3\n",
      "1_attempts_inside_penalty_area                                 4\n",
      "2_attempts_inside_penalty_area                                 5\n",
      "1_attempts_outside_penalty_area                                2\n",
      "2_attempts_outside_penalty_area                                2\n",
      "1_yellow_cards                                                 4\n",
      "2_yellow_cards                                                 2\n",
      "1_red_cards                                                    0\n",
      "2_red_cards                                                    0\n",
      "faul_against_1                                                15\n",
      "faul_against_2                                                10\n",
      "1_offsides                                                     1\n",
      "2_offsides                                                     1\n",
      "1_passes                                                     569\n",
      "2_passes                                                     409\n",
      "1_passes_compeletd                                           509\n",
      "2_passes_compeletd                                           321\n",
      "1_corners                                                      5\n",
      "2_corners                                                      3\n",
      "1_free_kicks                                                  11\n",
      "2_free_kicks                                                  15\n",
      "1_panelties_scored                                             0\n",
      "2_panelties_scored                                             1\n",
      "1_goal_prevented                                               7\n",
      "2_goal_prevented                                               7\n",
      "1_own_goal                                                     0\n",
      "2_own_goal                                                     0\n",
      "1_forced_turnovers                                            81\n",
      "2_forced_turnovers                                            72\n",
      "1_defensive_pressure_applied                                 242\n",
      "2_defensive_pressure_applied                                 292\n",
      "Name: 4, dtype: object\n",
      "0\n",
      "match_no                                               5\n",
      "day_of_week                                          Tue\n",
      "date                                           22-Nov-22\n",
      "hour                                               11:00\n",
      "venue                              Lusail Iconic Stadium\n",
      "referee                                    Slavko Vincic\n",
      "group                                            Group C\n",
      "1                                              Argentina\n",
      "2                                           Saudi Arabia\n",
      "attendance                                         88012\n",
      "1_xg                                                 2.2\n",
      "2_xg                                                 0.1\n",
      "1_poss                                                69\n",
      "2_poss                                                31\n",
      "1_goals                                                1\n",
      "2_goals                                                2\n",
      "score                                                1,2\n",
      "1_attempts                                            14\n",
      "2_attempts                                             3\n",
      "1_conceded                                             2\n",
      "2_conceded                                             1\n",
      "1_goal_inside_penalty_area                             1\n",
      "2_goal_inside_penalty_area                             2\n",
      "1_goal_outside_penalty_area                            0\n",
      "2_goal_outside_penalty_area                            0\n",
      "1_ontarget                                             6\n",
      "2_ontarget                                             2\n",
      "1_offtarget                                            5\n",
      "2_offtarget                                            0\n",
      "1_attempts_inside_penalty_area                        10\n",
      "2_attempts_inside_penalty_area                         3\n",
      "1_attempts_outside_penalty_area                        4\n",
      "2_attempts_outside_penalty_area                        0\n",
      "1_yellow_cards                                         0\n",
      "2_yellow_cards                                         6\n",
      "1_red_cards                                            0\n",
      "2_red_cards                                            0\n",
      "faul_against_1                                         7\n",
      "faul_against_2                                        21\n",
      "1_offsides                                            10\n",
      "2_offsides                                             1\n",
      "1_passes                                             610\n",
      "2_passes                                             267\n",
      "1_passes_compeletd                                   529\n",
      "2_passes_compeletd                                   190\n",
      "1_corners                                              9\n",
      "2_corners                                              2\n",
      "1_free_kicks                                          22\n",
      "2_free_kicks                                          16\n",
      "1_panelties_scored                                     1\n",
      "2_panelties_scored                                     0\n",
      "1_goal_prevented                                       4\n",
      "2_goal_prevented                                      14\n",
      "1_own_goal                                             0\n",
      "2_own_goal                                             0\n",
      "1_forced_turnovers                                    65\n",
      "2_forced_turnovers                                    80\n",
      "1_defensive_pressure_applied                         163\n",
      "2_defensive_pressure_applied                         361\n",
      "Name: 5, dtype: object\n",
      "0\n",
      "match_no                                                6\n",
      "day_of_week                                           Tue\n",
      "date                                            22-Nov-22\n",
      "hour                                                14:00\n",
      "venue                              Education City Stadium\n",
      "referee                                       Cesar Ramos\n",
      "group                                             Group D\n",
      "1                                                 Denmark\n",
      "2                                                 Tunisia\n",
      "attendance                                          42925\n",
      "1_xg                                                  1.4\n",
      "2_xg                                                  0.9\n",
      "1_poss                                                 61\n",
      "2_poss                                                 39\n",
      "1_goals                                                 0\n",
      "2_goals                                                 0\n",
      "score                                                 0,0\n",
      "1_attempts                                             11\n",
      "2_attempts                                             11\n",
      "1_conceded                                              0\n",
      "2_conceded                                              0\n",
      "1_goal_inside_penalty_area                              0\n",
      "2_goal_inside_penalty_area                              0\n",
      "1_goal_outside_penalty_area                             0\n",
      "2_goal_outside_penalty_area                             0\n",
      "1_ontarget                                              4\n",
      "2_ontarget                                              1\n",
      "1_offtarget                                             4\n",
      "2_offtarget                                             7\n",
      "1_attempts_inside_penalty_area                          7\n",
      "2_attempts_inside_penalty_area                          6\n",
      "1_attempts_outside_penalty_area                         4\n",
      "2_attempts_outside_penalty_area                         5\n",
      "1_yellow_cards                                          2\n",
      "2_yellow_cards                                          1\n",
      "1_red_cards                                             0\n",
      "2_red_cards                                             0\n",
      "faul_against_1                                          9\n",
      "faul_against_2                                         10\n",
      "1_offsides                                              1\n",
      "2_offsides                                              1\n",
      "1_passes                                              594\n",
      "2_passes                                              387\n",
      "1_passes_compeletd                                    523\n",
      "2_passes_compeletd                                    302\n",
      "1_corners                                              11\n",
      "2_corners                                               9\n",
      "1_free_kicks                                           11\n",
      "2_free_kicks                                           10\n",
      "1_panelties_scored                                      0\n",
      "2_panelties_scored                                      0\n",
      "1_goal_prevented                                       11\n",
      "2_goal_prevented                                       11\n",
      "1_own_goal                                              0\n",
      "2_own_goal                                              0\n",
      "1_forced_turnovers                                     76\n",
      "2_forced_turnovers                                     73\n",
      "1_defensive_pressure_applied                          226\n",
      "2_defensive_pressure_applied                          287\n",
      "Name: 6, dtype: object\n",
      "0\n",
      "match_no                                     7\n",
      "day_of_week                                Tue\n",
      "date                                 22-Nov-22\n",
      "hour                                     17:00\n",
      "venue                              Stadium 974\n",
      "referee                            Chris Beath\n",
      "group                                  Group C\n",
      "1                                       Mexico\n",
      "2                                       Poland\n",
      "attendance                               39369\n",
      "1_xg                                       0.7\n",
      "2_xg                                       0.9\n",
      "1_poss                                      60\n",
      "2_poss                                      40\n",
      "1_goals                                      0\n",
      "2_goals                                      0\n",
      "score                                      0,0\n",
      "1_attempts                                  13\n",
      "2_attempts                                   8\n",
      "1_conceded                                   0\n",
      "2_conceded                                   0\n",
      "1_goal_inside_penalty_area                   0\n",
      "2_goal_inside_penalty_area                   0\n",
      "1_goal_outside_penalty_area                  0\n",
      "2_goal_outside_penalty_area                  0\n",
      "1_ontarget                                   4\n",
      "2_ontarget                                   1\n",
      "1_offtarget                                  5\n",
      "2_offtarget                                  4\n",
      "1_attempts_inside_penalty_area              10\n",
      "2_attempts_inside_penalty_area               7\n",
      "1_attempts_outside_penalty_area              3\n",
      "2_attempts_outside_penalty_area              1\n",
      "1_yellow_cards                               2\n",
      "2_yellow_cards                               1\n",
      "1_red_cards                                  0\n",
      "2_red_cards                                  0\n",
      "faul_against_1                              14\n",
      "faul_against_2                              16\n",
      "1_offsides                                   3\n",
      "2_offsides                                   0\n",
      "1_passes                                   485\n",
      "2_passes                                   322\n",
      "1_passes_compeletd                         422\n",
      "2_passes_compeletd                         241\n",
      "1_corners                                    6\n",
      "2_corners                                    5\n",
      "1_free_kicks                                16\n",
      "2_free_kicks                                16\n",
      "1_panelties_scored                           0\n",
      "2_panelties_scored                           0\n",
      "1_goal_prevented                             8\n",
      "2_goal_prevented                            15\n",
      "1_own_goal                                   0\n",
      "2_own_goal                                   0\n",
      "1_forced_turnovers                          61\n",
      "2_forced_turnovers                          70\n",
      "1_defensive_pressure_applied               193\n",
      "2_defensive_pressure_applied               290\n",
      "Name: 7, dtype: object\n",
      "0\n",
      "match_no                                           8\n",
      "day_of_week                                      Tue\n",
      "date                                       22-Nov-22\n",
      "hour                                           20:00\n",
      "venue                              Al Janoub Stadium\n",
      "referee                                 Victor Gomes\n",
      "group                                        Group D\n",
      "1                                             France\n",
      "2                                          Australia\n",
      "attendance                                     40875\n",
      "1_xg                                               4\n",
      "2_xg                                             0.5\n",
      "1_poss                                            62\n",
      "2_poss                                            38\n",
      "1_goals                                            4\n",
      "2_goals                                            1\n",
      "score                                            4,1\n",
      "1_attempts                                        22\n",
      "2_attempts                                         4\n",
      "1_conceded                                         1\n",
      "2_conceded                                         4\n",
      "1_goal_inside_penalty_area                         4\n",
      "2_goal_inside_penalty_area                         1\n",
      "1_goal_outside_penalty_area                        0\n",
      "2_goal_outside_penalty_area                        0\n",
      "1_ontarget                                         7\n",
      "2_ontarget                                         1\n",
      "1_offtarget                                        9\n",
      "2_offtarget                                        3\n",
      "1_attempts_inside_penalty_area                    18\n",
      "2_attempts_inside_penalty_area                     2\n",
      "1_attempts_outside_penalty_area                    4\n",
      "2_attempts_outside_penalty_area                    2\n",
      "1_yellow_cards                                     0\n",
      "2_yellow_cards                                     3\n",
      "1_red_cards                                        0\n",
      "2_red_cards                                        0\n",
      "faul_against_1                                     5\n",
      "faul_against_2                                    11\n",
      "1_offsides                                         0\n",
      "2_offsides                                         0\n",
      "1_passes                                         734\n",
      "2_passes                                         466\n",
      "1_passes_compeletd                               672\n",
      "2_passes_compeletd                               399\n",
      "1_corners                                          8\n",
      "2_corners                                          1\n",
      "1_free_kicks                                      11\n",
      "2_free_kicks                                       5\n",
      "1_panelties_scored                                 0\n",
      "2_panelties_scored                                 0\n",
      "1_goal_prevented                                   4\n",
      "2_goal_prevented                                  22\n",
      "1_own_goal                                         0\n",
      "2_own_goal                                         0\n",
      "1_forced_turnovers                                64\n",
      "2_forced_turnovers                                56\n",
      "1_defensive_pressure_applied                     250\n",
      "2_defensive_pressure_applied                     316\n",
      "Name: 8, dtype: object\n",
      "0\n",
      "match_no                                            9\n",
      "day_of_week                                       Wed\n",
      "date                                        23-Nov-22\n",
      "hour                                            11:00\n",
      "venue                                 Al Bayt Stadium\n",
      "referee                            Fernando Rapallini\n",
      "group                                         Group F\n",
      "1                                             Morocco\n",
      "2                                             Croatia\n",
      "attendance                                      59407\n",
      "1_xg                                              0.4\n",
      "2_xg                                              0.5\n",
      "1_poss                                             36\n",
      "2_poss                                             64\n",
      "1_goals                                             0\n",
      "2_goals                                             0\n",
      "score                                             0,0\n",
      "1_attempts                                          8\n",
      "2_attempts                                          6\n",
      "1_conceded                                          0\n",
      "2_conceded                                          0\n",
      "1_goal_inside_penalty_area                          0\n",
      "2_goal_inside_penalty_area                          0\n",
      "1_goal_outside_penalty_area                         0\n",
      "2_goal_outside_penalty_area                         0\n",
      "1_ontarget                                          2\n",
      "2_ontarget                                          2\n",
      "1_offtarget                                         0\n",
      "2_offtarget                                         2\n",
      "1_attempts_inside_penalty_area                      3\n",
      "2_attempts_inside_penalty_area                      4\n",
      "1_attempts_outside_penalty_area                     5\n",
      "2_attempts_outside_penalty_area                     2\n",
      "1_yellow_cards                                      1\n",
      "2_yellow_cards                                      0\n",
      "1_red_cards                                         0\n",
      "2_red_cards                                         0\n",
      "faul_against_1                                     17\n",
      "faul_against_2                                     11\n",
      "1_offsides                                          0\n",
      "2_offsides                                          1\n",
      "1_passes                                          360\n",
      "2_passes                                          667\n",
      "1_passes_compeletd                                290\n",
      "2_passes_compeletd                                592\n",
      "1_corners                                           0\n",
      "2_corners                                           5\n",
      "1_free_kicks                                       12\n",
      "2_free_kicks                                       17\n",
      "1_panelties_scored                                  0\n",
      "2_panelties_scored                                  0\n",
      "1_goal_prevented                                    7\n",
      "2_goal_prevented                                    8\n",
      "1_own_goal                                          0\n",
      "2_own_goal                                          0\n",
      "1_forced_turnovers                                 87\n",
      "2_forced_turnovers                                 58\n",
      "1_defensive_pressure_applied                      391\n",
      "2_defensive_pressure_applied                      217\n",
      "Name: 9, dtype: object\n",
      "0\n",
      "match_no                                                      10\n",
      "day_of_week                                                  Wed\n",
      "date                                                   23-Nov-22\n",
      "hour                                                       14:00\n",
      "venue                              Khalifa International Stadium\n",
      "referee                                              Ivan Barton\n",
      "group                                                    Group E\n",
      "1                                                        Germany\n",
      "2                                                          Japan\n",
      "attendance                                                 42608\n",
      "1_xg                                                         3.1\n",
      "2_xg                                                         1.5\n",
      "1_poss                                                        74\n",
      "2_poss                                                        26\n",
      "1_goals                                                        1\n",
      "2_goals                                                        2\n",
      "score                                                        1,2\n",
      "1_attempts                                                    25\n",
      "2_attempts                                                    10\n",
      "1_conceded                                                     2\n",
      "2_conceded                                                     1\n",
      "1_goal_inside_penalty_area                                     1\n",
      "2_goal_inside_penalty_area                                     2\n",
      "1_goal_outside_penalty_area                                    0\n",
      "2_goal_outside_penalty_area                                    0\n",
      "1_ontarget                                                     9\n",
      "2_ontarget                                                     3\n",
      "1_offtarget                                                   11\n",
      "2_offtarget                                                    6\n",
      "1_attempts_inside_penalty_area                                15\n",
      "2_attempts_inside_penalty_area                                10\n",
      "1_attempts_outside_penalty_area                               10\n",
      "2_attempts_outside_penalty_area                                0\n",
      "1_yellow_cards                                                 0\n",
      "2_yellow_cards                                                 0\n",
      "1_red_cards                                                    0\n",
      "2_red_cards                                                    0\n",
      "faul_against_1                                                 6\n",
      "faul_against_2                                                14\n",
      "1_offsides                                                     4\n",
      "2_offsides                                                     4\n",
      "1_passes                                                     820\n",
      "2_passes                                                     261\n",
      "1_passes_compeletd                                           743\n",
      "2_passes_compeletd                                           207\n",
      "1_corners                                                      6\n",
      "2_corners                                                      6\n",
      "1_free_kicks                                                  17\n",
      "2_free_kicks                                                  10\n",
      "1_panelties_scored                                             1\n",
      "2_panelties_scored                                             0\n",
      "1_goal_prevented                                              12\n",
      "2_goal_prevented                                              26\n",
      "1_own_goal                                                     0\n",
      "2_own_goal                                                     0\n",
      "1_forced_turnovers                                            55\n",
      "2_forced_turnovers                                            87\n",
      "1_defensive_pressure_applied                                 164\n",
      "2_defensive_pressure_applied                                 487\n",
      "Name: 10, dtype: object\n",
      "0\n",
      "match_no                                                11\n",
      "day_of_week                                            Wed\n",
      "date                                             23-Nov-22\n",
      "hour                                                 17:00\n",
      "venue                                   Al Thumama Stadium\n",
      "referee                            Mohammed Abdulla Hassan\n",
      "group                                              Group E\n",
      "1                                                    Spain\n",
      "2                                               Costa Rica\n",
      "attendance                                           40013\n",
      "1_xg                                                   3.5\n",
      "2_xg                                                     0\n",
      "1_poss                                                  81\n",
      "2_poss                                                  19\n",
      "1_goals                                                  7\n",
      "2_goals                                                  0\n",
      "score                                                  7,0\n",
      "1_attempts                                              17\n",
      "2_attempts                                               0\n",
      "1_conceded                                               0\n",
      "2_conceded                                               7\n",
      "1_goal_inside_penalty_area                               7\n",
      "2_goal_inside_penalty_area                               0\n",
      "1_goal_outside_penalty_area                              0\n",
      "2_goal_outside_penalty_area                              0\n",
      "1_ontarget                                               7\n",
      "2_ontarget                                               0\n",
      "1_offtarget                                              8\n",
      "2_offtarget                                              0\n",
      "1_attempts_inside_penalty_area                          12\n",
      "2_attempts_inside_penalty_area                           0\n",
      "1_attempts_outside_penalty_area                          5\n",
      "2_attempts_outside_penalty_area                          0\n",
      "1_yellow_cards                                           0\n",
      "2_yellow_cards                                           2\n",
      "1_red_cards                                              0\n",
      "2_red_cards                                              0\n",
      "faul_against_1                                           8\n",
      "faul_against_2                                          12\n",
      "1_offsides                                               3\n",
      "2_offsides                                               7\n",
      "1_passes                                              1061\n",
      "2_passes                                               231\n",
      "1_passes_compeletd                                    1003\n",
      "2_passes_compeletd                                     170\n",
      "1_corners                                                5\n",
      "2_corners                                                0\n",
      "1_free_kicks                                            18\n",
      "2_free_kicks                                            11\n",
      "1_panelties_scored                                       1\n",
      "2_panelties_scored                                       0\n",
      "1_goal_prevented                                         0\n",
      "2_goal_prevented                                        17\n",
      "1_own_goal                                               0\n",
      "2_own_goal                                               0\n",
      "1_forced_turnovers                                      46\n",
      "2_forced_turnovers                                      76\n",
      "1_defensive_pressure_applied                           185\n",
      "2_defensive_pressure_applied                           585\n",
      "Name: 11, dtype: object\n",
      "0\n",
      "match_no                                              12\n",
      "day_of_week                                          Wed\n",
      "date                                           23-Nov-22\n",
      "hour                                               20:00\n",
      "venue                              Ahmed bin Ali Stadium\n",
      "referee                                    Janny Sikazwe\n",
      "group                                            Group F\n",
      "1                                                Belgium\n",
      "2                                                 Canada\n",
      "attendance                                         40432\n",
      "1_xg                                                 0.8\n",
      "2_xg                                                 2.4\n",
      "1_poss                                                53\n",
      "2_poss                                                47\n",
      "1_goals                                                1\n",
      "2_goals                                                0\n",
      "score                                                1,0\n",
      "1_attempts                                             9\n",
      "2_attempts                                            21\n",
      "1_conceded                                             0\n",
      "2_conceded                                             1\n",
      "1_goal_inside_penalty_area                             1\n",
      "2_goal_inside_penalty_area                             0\n",
      "1_goal_outside_penalty_area                            0\n",
      "2_goal_outside_penalty_area                            0\n",
      "1_ontarget                                             3\n",
      "2_ontarget                                             4\n",
      "1_offtarget                                            6\n",
      "2_offtarget                                           12\n",
      "1_attempts_inside_penalty_area                         6\n",
      "2_attempts_inside_penalty_area                        16\n",
      "1_attempts_outside_penalty_area                        3\n",
      "2_attempts_outside_penalty_area                        5\n",
      "1_yellow_cards                                         3\n",
      "2_yellow_cards                                         2\n",
      "1_red_cards                                            0\n",
      "2_red_cards                                            0\n",
      "faul_against_1                                        11\n",
      "faul_against_2                                        14\n",
      "1_offsides                                             0\n",
      "2_offsides                                             1\n",
      "1_passes                                             512\n",
      "2_passes                                             448\n",
      "1_passes_compeletd                                   439\n",
      "2_passes_compeletd                                   382\n",
      "1_corners                                              4\n",
      "2_corners                                              4\n",
      "1_free_kicks                                          15\n",
      "2_free_kicks                                          10\n",
      "1_panelties_scored                                     0\n",
      "2_panelties_scored                                     0\n",
      "1_goal_prevented                                      21\n",
      "2_goal_prevented                                       9\n",
      "1_own_goal                                             0\n",
      "2_own_goal                                             0\n",
      "1_forced_turnovers                                    74\n",
      "2_forced_turnovers                                    47\n",
      "1_defensive_pressure_applied                         284\n",
      "2_defensive_pressure_applied                         320\n",
      "Name: 12, dtype: object\n",
      "0\n",
      "match_no                                          13\n",
      "day_of_week                                      Thu\n",
      "date                                       24-Nov-22\n",
      "hour                                           11:00\n",
      "venue                              Al Janoub Stadium\n",
      "referee                                Facundo Tello\n",
      "group                                        Group G\n",
      "1                                        Switzerland\n",
      "2                                           Cameroon\n",
      "attendance                                     39089\n",
      "1_xg                                             1.4\n",
      "2_xg                                             0.7\n",
      "1_poss                                            51\n",
      "2_poss                                            49\n",
      "1_goals                                            1\n",
      "2_goals                                            0\n",
      "score                                            1,0\n",
      "1_attempts                                         8\n",
      "2_attempts                                         7\n",
      "1_conceded                                         0\n",
      "2_conceded                                         1\n",
      "1_goal_inside_penalty_area                         1\n",
      "2_goal_inside_penalty_area                         0\n",
      "1_goal_outside_penalty_area                        0\n",
      "2_goal_outside_penalty_area                        0\n",
      "1_ontarget                                         3\n",
      "2_ontarget                                         3\n",
      "1_offtarget                                        4\n",
      "2_offtarget                                        2\n",
      "1_attempts_inside_penalty_area                     6\n",
      "2_attempts_inside_penalty_area                     6\n",
      "1_attempts_outside_penalty_area                    2\n",
      "2_attempts_outside_penalty_area                    1\n",
      "1_yellow_cards                                     2\n",
      "2_yellow_cards                                     1\n",
      "1_red_cards                                        0\n",
      "2_red_cards                                        0\n",
      "faul_against_1                                    12\n",
      "faul_against_2                                    10\n",
      "1_offsides                                         2\n",
      "2_offsides                                         2\n",
      "1_passes                                         497\n",
      "2_passes                                         500\n",
      "1_passes_compeletd                               437\n",
      "2_passes_compeletd                               424\n",
      "1_corners                                         11\n",
      "2_corners                                          5\n",
      "1_free_kicks                                      11\n",
      "2_free_kicks                                      14\n",
      "1_panelties_scored                                 0\n",
      "2_panelties_scored                                 0\n",
      "1_goal_prevented                                   7\n",
      "2_goal_prevented                                   8\n",
      "1_own_goal                                         0\n",
      "2_own_goal                                         0\n",
      "1_forced_turnovers                                64\n",
      "2_forced_turnovers                                79\n",
      "1_defensive_pressure_applied                     313\n",
      "2_defensive_pressure_applied                     316\n",
      "Name: 13, dtype: object\n",
      "0\n",
      "match_no                                               14\n",
      "day_of_week                                           Thu\n",
      "date                                            24-Nov-22\n",
      "hour                                                14:00\n",
      "venue                              Education City Stadium\n",
      "referee                                    Clement Turpin\n",
      "group                                             Group H\n",
      "1                                                 Uruguay\n",
      "2                                          Korea Republic\n",
      "attendance                                          41663\n",
      "1_xg                                                  0.6\n",
      "2_xg                                                  0.6\n",
      "1_poss                                                 56\n",
      "2_poss                                                 44\n",
      "1_goals                                                 0\n",
      "2_goals                                                 0\n",
      "score                                                 0,0\n",
      "1_attempts                                             10\n",
      "2_attempts                                              6\n",
      "1_conceded                                              0\n",
      "2_conceded                                              0\n",
      "1_goal_inside_penalty_area                              0\n",
      "2_goal_inside_penalty_area                              0\n",
      "1_goal_outside_penalty_area                             0\n",
      "2_goal_outside_penalty_area                             0\n",
      "1_ontarget                                              0\n",
      "2_ontarget                                              0\n",
      "1_offtarget                                             6\n",
      "2_offtarget                                             5\n",
      "1_attempts_inside_penalty_area                          7\n",
      "2_attempts_inside_penalty_area                          1\n",
      "1_attempts_outside_penalty_area                         3\n",
      "2_attempts_outside_penalty_area                         5\n",
      "1_yellow_cards                                          1\n",
      "2_yellow_cards                                          1\n",
      "1_red_cards                                             0\n",
      "2_red_cards                                             0\n",
      "faul_against_1                                          7\n",
      "faul_against_2                                         10\n",
      "1_offsides                                              1\n",
      "2_offsides                                              0\n",
      "1_passes                                              528\n",
      "2_passes                                              419\n",
      "1_passes_compeletd                                    459\n",
      "2_passes_compeletd                                    340\n",
      "1_corners                                               4\n",
      "2_corners                                               3\n",
      "1_free_kicks                                           10\n",
      "2_free_kicks                                            8\n",
      "1_panelties_scored                                      0\n",
      "2_panelties_scored                                      0\n",
      "1_goal_prevented                                        6\n",
      "2_goal_prevented                                       10\n",
      "1_own_goal                                              0\n",
      "2_own_goal                                              0\n",
      "1_forced_turnovers                                     65\n",
      "2_forced_turnovers                                     54\n",
      "1_defensive_pressure_applied                          240\n",
      "2_defensive_pressure_applied                          231\n",
      "Name: 14, dtype: object\n",
      "0\n",
      "match_no                                      15\n",
      "day_of_week                                  Thu\n",
      "date                                   24-Nov-22\n",
      "hour                                       17:00\n",
      "venue                                Stadium 974\n",
      "referee                            Ismail Elfath\n",
      "group                                    Group H\n",
      "1                                       Portugal\n",
      "2                                          Ghana\n",
      "attendance                                 42662\n",
      "1_xg                                           2\n",
      "2_xg                                         0.9\n",
      "1_poss                                        62\n",
      "2_poss                                        38\n",
      "1_goals                                        3\n",
      "2_goals                                        2\n",
      "score                                        3,2\n",
      "1_attempts                                    11\n",
      "2_attempts                                     8\n",
      "1_conceded                                     2\n",
      "2_conceded                                     3\n",
      "1_goal_inside_penalty_area                     3\n",
      "2_goal_inside_penalty_area                     2\n",
      "1_goal_outside_penalty_area                    0\n",
      "2_goal_outside_penalty_area                    0\n",
      "1_ontarget                                     5\n",
      "2_ontarget                                     3\n",
      "1_offtarget                                    3\n",
      "2_offtarget                                    5\n",
      "1_attempts_inside_penalty_area                 7\n",
      "2_attempts_inside_penalty_area                 2\n",
      "1_attempts_outside_penalty_area                4\n",
      "2_attempts_outside_penalty_area                6\n",
      "1_yellow_cards                                 2\n",
      "2_yellow_cards                                 4\n",
      "1_red_cards                                    0\n",
      "2_red_cards                                    0\n",
      "faul_against_1                                14\n",
      "faul_against_2                                19\n",
      "1_offsides                                     1\n",
      "2_offsides                                     1\n",
      "1_passes                                     636\n",
      "2_passes                                     394\n",
      "1_passes_compeletd                           573\n",
      "2_passes_compeletd                           326\n",
      "1_corners                                      3\n",
      "2_corners                                      3\n",
      "1_free_kicks                                  19\n",
      "2_free_kicks                                  15\n",
      "1_panelties_scored                             1\n",
      "2_panelties_scored                             0\n",
      "1_goal_prevented                               8\n",
      "2_goal_prevented                              11\n",
      "1_own_goal                                     0\n",
      "2_own_goal                                     0\n",
      "1_forced_turnovers                            70\n",
      "2_forced_turnovers                            82\n",
      "1_defensive_pressure_applied                 286\n",
      "2_defensive_pressure_applied                 326\n",
      "Name: 15, dtype: object\n",
      "0\n",
      "match_no                                              16\n",
      "day_of_week                                          Thu\n",
      "date                                           24-Nov-22\n",
      "hour                                               20:00\n",
      "venue                              Lusail Iconic Stadium\n",
      "referee                                  Alireza Faghani\n",
      "group                                            Group G\n",
      "1                                                 Brazil\n",
      "2                                                 Serbia\n",
      "attendance                                         88103\n",
      "1_xg                                                 2.4\n",
      "2_xg                                                 0.2\n",
      "1_poss                                                59\n",
      "2_poss                                                41\n",
      "1_goals                                                2\n",
      "2_goals                                                0\n",
      "score                                                2,0\n",
      "1_attempts                                            24\n",
      "2_attempts                                             4\n",
      "1_conceded                                             0\n",
      "2_conceded                                             2\n",
      "1_goal_inside_penalty_area                             2\n",
      "2_goal_inside_penalty_area                             0\n",
      "1_goal_outside_penalty_area                            0\n",
      "2_goal_outside_penalty_area                            0\n",
      "1_ontarget                                            10\n",
      "2_ontarget                                             0\n",
      "1_offtarget                                            9\n",
      "2_offtarget                                            3\n",
      "1_attempts_inside_penalty_area                        11\n",
      "2_attempts_inside_penalty_area                         1\n",
      "1_attempts_outside_penalty_area                       13\n",
      "2_attempts_outside_penalty_area                        3\n",
      "1_yellow_cards                                         0\n",
      "2_yellow_cards                                         3\n",
      "1_red_cards                                            0\n",
      "2_red_cards                                            0\n",
      "faul_against_1                                         7\n",
      "faul_against_2                                        12\n",
      "1_offsides                                             1\n",
      "2_offsides                                             0\n",
      "1_passes                                             585\n",
      "2_passes                                             403\n",
      "1_passes_compeletd                                   526\n",
      "2_passes_compeletd                                   341\n",
      "1_corners                                              6\n",
      "2_corners                                              4\n",
      "1_free_kicks                                          12\n",
      "2_free_kicks                                           8\n",
      "1_panelties_scored                                     0\n",
      "2_panelties_scored                                     0\n",
      "1_goal_prevented                                       4\n",
      "2_goal_prevented                                      24\n",
      "1_own_goal                                             0\n",
      "2_own_goal                                             0\n",
      "1_forced_turnovers                                    72\n",
      "2_forced_turnovers                                    71\n",
      "1_defensive_pressure_applied                         236\n",
      "2_defensive_pressure_applied                         338\n",
      "Name: 16, dtype: object\n",
      "0\n",
      "match_no                                              17\n",
      "day_of_week                                          Fri\n",
      "date                                           25-Nov-22\n",
      "hour                                               11:00\n",
      "venue                              Ahmed bin Ali Stadium\n",
      "referee                                    Mario Escobar\n",
      "group                                            Group B\n",
      "1                                                  Wales\n",
      "2                                                   Iran\n",
      "attendance                                         40875\n",
      "1_xg                                                 0.9\n",
      "2_xg                                                 1.4\n",
      "1_poss                                                62\n",
      "2_poss                                                38\n",
      "1_goals                                                0\n",
      "2_goals                                                2\n",
      "score                                                0,2\n",
      "1_attempts                                            10\n",
      "2_attempts                                            21\n",
      "1_conceded                                             2\n",
      "2_conceded                                             0\n",
      "1_goal_inside_penalty_area                             0\n",
      "2_goal_inside_penalty_area                             1\n",
      "1_goal_outside_penalty_area                            0\n",
      "2_goal_outside_penalty_area                            1\n",
      "1_ontarget                                             3\n",
      "2_ontarget                                             6\n",
      "1_offtarget                                            4\n",
      "2_offtarget                                            6\n",
      "1_attempts_inside_penalty_area                         5\n",
      "2_attempts_inside_penalty_area                         7\n",
      "1_attempts_outside_penalty_area                        5\n",
      "2_attempts_outside_penalty_area                       14\n",
      "1_yellow_cards                                         1\n",
      "2_yellow_cards                                         2\n",
      "1_red_cards                                            1\n",
      "2_red_cards                                            0\n",
      "faul_against_1                                         9\n",
      "faul_against_2                                        10\n",
      "1_offsides                                             2\n",
      "2_offsides                                             2\n",
      "1_passes                                             508\n",
      "2_passes                                             295\n",
      "1_passes_compeletd                                   413\n",
      "2_passes_compeletd                                   202\n",
      "1_corners                                              2\n",
      "2_corners                                              7\n",
      "1_free_kicks                                          12\n",
      "2_free_kicks                                          11\n",
      "1_panelties_scored                                     0\n",
      "2_panelties_scored                                     0\n",
      "1_goal_prevented                                      21\n",
      "2_goal_prevented                                       9\n",
      "1_own_goal                                             0\n",
      "2_own_goal                                             0\n",
      "1_forced_turnovers                                    89\n",
      "2_forced_turnovers                                    84\n",
      "1_defensive_pressure_applied                         161\n",
      "2_defensive_pressure_applied                         276\n",
      "Name: 17, dtype: object\n",
      "0\n",
      "match_no                                            18\n",
      "day_of_week                                        Fri\n",
      "date                                         25-Nov-22\n",
      "hour                                             14:00\n",
      "venue                               Al Thumama Stadium\n",
      "referee                            Antonio Mateu Lahoz\n",
      "group                                          Group A\n",
      "1                                                Qatar\n",
      "2                                              Senegal\n",
      "attendance                                       41797\n",
      "1_xg                                                 1\n",
      "2_xg                                               0.8\n",
      "1_poss                                              45\n",
      "2_poss                                              55\n",
      "1_goals                                              1\n",
      "2_goals                                              3\n",
      "score                                              1,3\n",
      "1_attempts                                          10\n",
      "2_attempts                                          12\n",
      "1_conceded                                           3\n",
      "2_conceded                                           1\n",
      "1_goal_inside_penalty_area                           1\n",
      "2_goal_inside_penalty_area                           3\n",
      "1_goal_outside_penalty_area                          0\n",
      "2_goal_outside_penalty_area                          0\n",
      "1_ontarget                                           2\n",
      "2_ontarget                                           4\n",
      "1_offtarget                                          7\n",
      "2_offtarget                                          6\n",
      "1_attempts_inside_penalty_area                       4\n",
      "2_attempts_inside_penalty_area                      10\n",
      "1_attempts_outside_penalty_area                      6\n",
      "2_attempts_outside_penalty_area                      2\n",
      "1_yellow_cards                                       3\n",
      "2_yellow_cards                                       3\n",
      "1_red_cards                                          0\n",
      "2_red_cards                                          0\n",
      "faul_against_1                                       7\n",
      "faul_against_2                                      12\n",
      "1_offsides                                           4\n",
      "2_offsides                                           3\n",
      "1_passes                                           424\n",
      "2_passes                                           511\n",
      "1_passes_compeletd                                 353\n",
      "2_passes_compeletd                                 445\n",
      "1_corners                                            6\n",
      "2_corners                                            7\n",
      "1_free_kicks                                        15\n",
      "2_free_kicks                                        11\n",
      "1_panelties_scored                                   0\n",
      "2_panelties_scored                                   0\n",
      "1_goal_prevented                                    12\n",
      "2_goal_prevented                                    11\n",
      "1_own_goal                                           0\n",
      "2_own_goal                                           0\n",
      "1_forced_turnovers                                  67\n",
      "2_forced_turnovers                                  67\n",
      "1_defensive_pressure_applied                       308\n",
      "2_defensive_pressure_applied                       232\n",
      "Name: 18, dtype: object\n",
      "0\n",
      "match_no                                                      19\n",
      "day_of_week                                                  Fri\n",
      "date                                                   25-Nov-22\n",
      "hour                                                       17:00\n",
      "venue                              Khalifa International Stadium\n",
      "referee                                         Mustapha Ghorbal\n",
      "group                                                    Group A\n",
      "1                                                    Netherlands\n",
      "2                                                        Ecuador\n",
      "attendance                                                 44833\n",
      "1_xg                                                         0.1\n",
      "2_xg                                                         1.7\n",
      "1_poss                                                        54\n",
      "2_poss                                                        46\n",
      "1_goals                                                        1\n",
      "2_goals                                                        1\n",
      "score                                                        1,1\n",
      "1_attempts                                                     2\n",
      "2_attempts                                                    13\n",
      "1_conceded                                                     1\n",
      "2_conceded                                                     1\n",
      "1_goal_inside_penalty_area                                     0\n",
      "2_goal_inside_penalty_area                                     1\n",
      "1_goal_outside_penalty_area                                    1\n",
      "2_goal_outside_penalty_area                                    0\n",
      "1_ontarget                                                     1\n",
      "2_ontarget                                                     5\n",
      "1_offtarget                                                    1\n",
      "2_offtarget                                                    3\n",
      "1_attempts_inside_penalty_area                                 0\n",
      "2_attempts_inside_penalty_area                                 8\n",
      "1_attempts_outside_penalty_area                                2\n",
      "2_attempts_outside_penalty_area                                5\n",
      "1_yellow_cards                                                 0\n",
      "2_yellow_cards                                                 1\n",
      "1_red_cards                                                    0\n",
      "2_red_cards                                                    0\n",
      "faul_against_1                                                15\n",
      "faul_against_2                                                12\n",
      "1_offsides                                                     1\n",
      "2_offsides                                                     4\n",
      "1_passes                                                     524\n",
      "2_passes                                                     425\n",
      "1_passes_compeletd                                           451\n",
      "2_passes_compeletd                                           345\n",
      "1_corners                                                      2\n",
      "2_corners                                                      5\n",
      "1_free_kicks                                                  16\n",
      "2_free_kicks                                                  16\n",
      "1_panelties_scored                                             0\n",
      "2_panelties_scored                                             0\n",
      "1_goal_prevented                                              14\n",
      "2_goal_prevented                                               2\n",
      "1_own_goal                                                     0\n",
      "2_own_goal                                                     0\n",
      "1_forced_turnovers                                            85\n",
      "2_forced_turnovers                                            52\n",
      "1_defensive_pressure_applied                                 254\n",
      "2_defensive_pressure_applied                                 279\n",
      "Name: 19, dtype: object\n",
      "0\n",
      "match_no                                              20\n",
      "day_of_week                                          Fri\n",
      "date                                           25-Nov-22\n",
      "hour                                               20:00\n",
      "venue                                    Al Bayt Stadium\n",
      "referee                            Jesús Valenzuela Sáez\n",
      "group                                            Group B\n",
      "1                                                England\n",
      "2                                          United States\n",
      "attendance                                         68463\n",
      "1_xg                                                 0.8\n",
      "2_xg                                                 0.6\n",
      "1_poss                                                55\n",
      "2_poss                                                45\n",
      "1_goals                                                0\n",
      "2_goals                                                0\n",
      "score                                                0,0\n",
      "1_attempts                                             8\n",
      "2_attempts                                            10\n",
      "1_conceded                                             0\n",
      "2_conceded                                             0\n",
      "1_goal_inside_penalty_area                             0\n",
      "2_goal_inside_penalty_area                             0\n",
      "1_goal_outside_penalty_area                            0\n",
      "2_goal_outside_penalty_area                            0\n",
      "1_ontarget                                             3\n",
      "2_ontarget                                             2\n",
      "1_offtarget                                            4\n",
      "2_offtarget                                            7\n",
      "1_attempts_inside_penalty_area                         6\n",
      "2_attempts_inside_penalty_area                         6\n",
      "1_attempts_outside_penalty_area                        2\n",
      "2_attempts_outside_penalty_area                        4\n",
      "1_yellow_cards                                         0\n",
      "2_yellow_cards                                         0\n",
      "1_red_cards                                            0\n",
      "2_red_cards                                            0\n",
      "faul_against_1                                         9\n",
      "faul_against_2                                        15\n",
      "1_offsides                                             1\n",
      "2_offsides                                             0\n",
      "1_passes                                             550\n",
      "2_passes                                             427\n",
      "1_passes_compeletd                                   488\n",
      "2_passes_compeletd                                   368\n",
      "1_corners                                              3\n",
      "2_corners                                              7\n",
      "1_free_kicks                                          15\n",
      "2_free_kicks                                          10\n",
      "1_panelties_scored                                     0\n",
      "2_panelties_scored                                     0\n",
      "1_goal_prevented                                      10\n",
      "2_goal_prevented                                       8\n",
      "1_own_goal                                             0\n",
      "2_own_goal                                             0\n",
      "1_forced_turnovers                                    52\n",
      "2_forced_turnovers                                    61\n",
      "1_defensive_pressure_applied                         266\n",
      "2_defensive_pressure_applied                         350\n",
      "Name: 20, dtype: object\n",
      "0\n",
      "match_no                                          21\n",
      "day_of_week                                      Sat\n",
      "date                                       26-Nov-22\n",
      "hour                                           11:00\n",
      "venue                              Al Janoub Stadium\n",
      "referee                               Daniel Siebert\n",
      "group                                        Group D\n",
      "1                                            Tunisia\n",
      "2                                          Australia\n",
      "attendance                                     41823\n",
      "1_xg                                             0.9\n",
      "2_xg                                             0.6\n",
      "1_poss                                            59\n",
      "2_poss                                            41\n",
      "1_goals                                            0\n",
      "2_goals                                            1\n",
      "score                                            0,1\n",
      "1_attempts                                        13\n",
      "2_attempts                                         8\n",
      "1_conceded                                         1\n",
      "2_conceded                                         0\n",
      "1_goal_inside_penalty_area                         0\n",
      "2_goal_inside_penalty_area                         1\n",
      "1_goal_outside_penalty_area                        0\n",
      "2_goal_outside_penalty_area                        0\n",
      "1_ontarget                                         4\n",
      "2_ontarget                                         2\n",
      "1_offtarget                                        5\n",
      "2_offtarget                                        3\n",
      "1_attempts_inside_penalty_area                     9\n",
      "2_attempts_inside_penalty_area                     5\n",
      "1_attempts_outside_penalty_area                    4\n",
      "2_attempts_outside_penalty_area                    3\n",
      "1_yellow_cards                                     3\n",
      "2_yellow_cards                                     0\n",
      "1_red_cards                                        0\n",
      "2_red_cards                                        0\n",
      "faul_against_1                                    16\n",
      "faul_against_2                                    15\n",
      "1_offsides                                         3\n",
      "2_offsides                                         0\n",
      "1_passes                                         501\n",
      "2_passes                                         334\n",
      "1_passes_compeletd                               396\n",
      "2_passes_compeletd                               239\n",
      "1_corners                                          5\n",
      "2_corners                                          2\n",
      "1_free_kicks                                      15\n",
      "2_free_kicks                                      19\n",
      "1_panelties_scored                                 0\n",
      "2_panelties_scored                                 0\n",
      "1_goal_prevented                                   9\n",
      "2_goal_prevented                                  13\n",
      "1_own_goal                                         0\n",
      "2_own_goal                                         0\n",
      "1_forced_turnovers                                81\n",
      "2_forced_turnovers                                88\n",
      "1_defensive_pressure_applied                     217\n",
      "2_defensive_pressure_applied                     273\n",
      "Name: 21, dtype: object\n",
      "0\n",
      "match_no                                               22\n",
      "day_of_week                                           Sat\n",
      "date                                            26-Nov-22\n",
      "hour                                                14:00\n",
      "venue                              Education City Stadium\n",
      "referee                                    Wilton Sampaio\n",
      "group                                             Group C\n",
      "1                                                  Poland\n",
      "2                                            Saudi Arabia\n",
      "attendance                                          44259\n",
      "1_xg                                                  1.6\n",
      "2_xg                                                  1.7\n",
      "1_poss                                                 37\n",
      "2_poss                                                 63\n",
      "1_goals                                                 2\n",
      "2_goals                                                 0\n",
      "score                                                 2,0\n",
      "1_attempts                                              8\n",
      "2_attempts                                             16\n",
      "1_conceded                                              0\n",
      "2_conceded                                              2\n",
      "1_goal_inside_penalty_area                              2\n",
      "2_goal_inside_penalty_area                              0\n",
      "1_goal_outside_penalty_area                             0\n",
      "2_goal_outside_penalty_area                             0\n",
      "1_ontarget                                              3\n",
      "2_ontarget                                              5\n",
      "1_offtarget                                             3\n",
      "2_offtarget                                             9\n",
      "1_attempts_inside_penalty_area                          8\n",
      "2_attempts_inside_penalty_area                          9\n",
      "1_attempts_outside_penalty_area                         0\n",
      "2_attempts_outside_penalty_area                         7\n",
      "1_yellow_cards                                          3\n",
      "2_yellow_cards                                          2\n",
      "1_red_cards                                             0\n",
      "2_red_cards                                             0\n",
      "faul_against_1                                         18\n",
      "faul_against_2                                         15\n",
      "1_offsides                                              0\n",
      "2_offsides                                              0\n",
      "1_passes                                              303\n",
      "2_passes                                              560\n",
      "1_passes_compeletd                                    236\n",
      "2_passes_compeletd                                    494\n",
      "1_corners                                               4\n",
      "2_corners                                               5\n",
      "1_free_kicks                                           15\n",
      "2_free_kicks                                           17\n",
      "1_panelties_scored                                      0\n",
      "2_panelties_scored                                      0\n",
      "1_goal_prevented                                       16\n",
      "2_goal_prevented                                        9\n",
      "1_own_goal                                              0\n",
      "2_own_goal                                              0\n",
      "1_forced_turnovers                                     69\n",
      "2_forced_turnovers                                     53\n",
      "1_defensive_pressure_applied                          329\n",
      "2_defensive_pressure_applied                          173\n",
      "Name: 22, dtype: object\n",
      "0\n",
      "match_no                                         23\n",
      "day_of_week                                     Sat\n",
      "date                                      26-Nov-22\n",
      "hour                                          17:00\n",
      "venue                                   Stadium 974\n",
      "referee                            Szymon Marciniak\n",
      "group                                       Group D\n",
      "1                                            France\n",
      "2                                           Denmark\n",
      "attendance                                    42860\n",
      "1_xg                                            2.4\n",
      "2_xg                                            0.6\n",
      "1_poss                                           49\n",
      "2_poss                                           51\n",
      "1_goals                                           2\n",
      "2_goals                                           1\n",
      "score                                           2,1\n",
      "1_attempts                                       21\n",
      "2_attempts                                       10\n",
      "1_conceded                                        1\n",
      "2_conceded                                        2\n",
      "1_goal_inside_penalty_area                        2\n",
      "2_goal_inside_penalty_area                        1\n",
      "1_goal_outside_penalty_area                       0\n",
      "2_goal_outside_penalty_area                       0\n",
      "1_ontarget                                        6\n",
      "2_ontarget                                        2\n",
      "1_offtarget                                       8\n",
      "2_offtarget                                       6\n",
      "1_attempts_inside_penalty_area                   16\n",
      "2_attempts_inside_penalty_area                    5\n",
      "1_attempts_outside_penalty_area                   5\n",
      "2_attempts_outside_penalty_area                   5\n",
      "1_yellow_cards                                    1\n",
      "2_yellow_cards                                    2\n",
      "1_red_cards                                       0\n",
      "2_red_cards                                       0\n",
      "faul_against_1                                    4\n",
      "faul_against_2                                    9\n",
      "1_offsides                                        1\n",
      "2_offsides                                        1\n",
      "1_passes                                        503\n",
      "2_passes                                        537\n",
      "1_passes_compeletd                              437\n",
      "2_passes_compeletd                              473\n",
      "1_corners                                         6\n",
      "2_corners                                         4\n",
      "1_free_kicks                                     10\n",
      "2_free_kicks                                      5\n",
      "1_panelties_scored                                0\n",
      "2_panelties_scored                                0\n",
      "1_goal_prevented                                 10\n",
      "2_goal_prevented                                 21\n",
      "1_own_goal                                        0\n",
      "2_own_goal                                        0\n",
      "1_forced_turnovers                               79\n",
      "2_forced_turnovers                               61\n",
      "1_defensive_pressure_applied                    269\n",
      "2_defensive_pressure_applied                    282\n",
      "Name: 23, dtype: object\n",
      "0\n",
      "match_no                                              24\n",
      "day_of_week                                          Sat\n",
      "date                                           26-Nov-22\n",
      "hour                                               20:00\n",
      "venue                              Lusail Iconic Stadium\n",
      "referee                                   Daniele Orsato\n",
      "group                                            Group C\n",
      "1                                              Argentina\n",
      "2                                                 Mexico\n",
      "attendance                                         88966\n",
      "1_xg                                                 0.3\n",
      "2_xg                                                 0.3\n",
      "1_poss                                                58\n",
      "2_poss                                                42\n",
      "1_goals                                                2\n",
      "2_goals                                                0\n",
      "score                                                2,0\n",
      "1_attempts                                             5\n",
      "2_attempts                                             4\n",
      "1_conceded                                             0\n",
      "2_conceded                                             2\n",
      "1_goal_inside_penalty_area                             1\n",
      "2_goal_inside_penalty_area                             0\n",
      "1_goal_outside_penalty_area                            1\n",
      "2_goal_outside_penalty_area                            0\n",
      "1_ontarget                                             2\n",
      "2_ontarget                                             1\n",
      "1_offtarget                                            3\n",
      "2_offtarget                                            2\n",
      "1_attempts_inside_penalty_area                         2\n",
      "2_attempts_inside_penalty_area                         1\n",
      "1_attempts_outside_penalty_area                        3\n",
      "2_attempts_outside_penalty_area                        3\n",
      "1_yellow_cards                                         1\n",
      "2_yellow_cards                                         4\n",
      "1_red_cards                                            0\n",
      "2_red_cards                                            0\n",
      "faul_against_1                                        15\n",
      "faul_against_2                                        19\n",
      "1_offsides                                             2\n",
      "2_offsides                                             4\n",
      "1_passes                                             533\n",
      "2_passes                                             356\n",
      "1_passes_compeletd                                   464\n",
      "2_passes_compeletd                                   287\n",
      "1_corners                                              4\n",
      "2_corners                                              2\n",
      "1_free_kicks                                          23\n",
      "2_free_kicks                                          17\n",
      "1_panelties_scored                                     0\n",
      "2_panelties_scored                                     0\n",
      "1_goal_prevented                                       4\n",
      "2_goal_prevented                                       5\n",
      "1_own_goal                                             0\n",
      "2_own_goal                                             0\n",
      "1_forced_turnovers                                    63\n",
      "2_forced_turnovers                                    79\n",
      "1_defensive_pressure_applied                         220\n",
      "2_defensive_pressure_applied                         327\n",
      "Name: 24, dtype: object\n",
      "0\n",
      "match_no                                              25\n",
      "day_of_week                                          Sun\n",
      "date                                           27-Nov-22\n",
      "hour                                               11:00\n",
      "venue                              Ahmed bin Ali Stadium\n",
      "referee                                   Michael Oliver\n",
      "group                                            Group E\n",
      "1                                                  Japan\n",
      "2                                             Costa Rica\n",
      "attendance                                         41479\n",
      "1_xg                                                 0.9\n",
      "2_xg                                                 0.1\n",
      "1_poss                                                57\n",
      "2_poss                                                43\n",
      "1_goals                                                0\n",
      "2_goals                                                1\n",
      "score                                                0,1\n",
      "1_attempts                                            14\n",
      "2_attempts                                             4\n",
      "1_conceded                                             1\n",
      "2_conceded                                             0\n",
      "1_goal_inside_penalty_area                             0\n",
      "2_goal_inside_penalty_area                             1\n",
      "1_goal_outside_penalty_area                            0\n",
      "2_goal_outside_penalty_area                            0\n",
      "1_ontarget                                             3\n",
      "2_ontarget                                             1\n",
      "1_offtarget                                            4\n",
      "2_offtarget                                            1\n",
      "1_attempts_inside_penalty_area                         7\n",
      "2_attempts_inside_penalty_area                         1\n",
      "1_attempts_outside_penalty_area                        7\n",
      "2_attempts_outside_penalty_area                        3\n",
      "1_yellow_cards                                         3\n",
      "2_yellow_cards                                         3\n",
      "1_red_cards                                            0\n",
      "2_red_cards                                            0\n",
      "faul_against_1                                        22\n",
      "faul_against_2                                         9\n",
      "1_offsides                                             0\n",
      "2_offsides                                             2\n",
      "1_passes                                             575\n",
      "2_passes                                             444\n",
      "1_passes_compeletd                                   510\n",
      "2_passes_compeletd                                   371\n",
      "1_corners                                              5\n",
      "2_corners                                              0\n",
      "1_free_kicks                                          11\n",
      "2_free_kicks                                          22\n",
      "1_panelties_scored                                     0\n",
      "2_panelties_scored                                     0\n",
      "1_goal_prevented                                       4\n",
      "2_goal_prevented                                      14\n",
      "1_own_goal                                             0\n",
      "2_own_goal                                             0\n",
      "1_forced_turnovers                                    47\n",
      "2_forced_turnovers                                    66\n",
      "1_defensive_pressure_applied                         300\n",
      "2_defensive_pressure_applied                         294\n",
      "Name: 25, dtype: object\n",
      "0\n",
      "match_no                                           26\n",
      "day_of_week                                       Sun\n",
      "date                                        27-Nov-22\n",
      "hour                                            14:00\n",
      "venue                              Al Thumama Stadium\n",
      "referee                                   Cesar Ramos\n",
      "group                                         Group F\n",
      "1                                             Belgium\n",
      "2                                             Morocco\n",
      "attendance                                      43738\n",
      "1_xg                                                1\n",
      "2_xg                                              1.5\n",
      "1_poss                                             67\n",
      "2_poss                                             33\n",
      "1_goals                                             0\n",
      "2_goals                                             2\n",
      "score                                             0,2\n",
      "1_attempts                                         10\n",
      "2_attempts                                         11\n",
      "1_conceded                                          2\n",
      "2_conceded                                          0\n",
      "1_goal_inside_penalty_area                          0\n",
      "2_goal_inside_penalty_area                          2\n",
      "1_goal_outside_penalty_area                         0\n",
      "2_goal_outside_penalty_area                         0\n",
      "1_ontarget                                          4\n",
      "2_ontarget                                          4\n",
      "1_offtarget                                         6\n",
      "2_offtarget                                         6\n",
      "1_attempts_inside_penalty_area                      5\n",
      "2_attempts_inside_penalty_area                      6\n",
      "1_attempts_outside_penalty_area                     5\n",
      "2_attempts_outside_penalty_area                     5\n",
      "1_yellow_cards                                      1\n",
      "2_yellow_cards                                      1\n",
      "1_red_cards                                         0\n",
      "2_red_cards                                         0\n",
      "faul_against_1                                     10\n",
      "faul_against_2                                     14\n",
      "1_offsides                                          3\n",
      "2_offsides                                          3\n",
      "1_passes                                          671\n",
      "2_passes                                          317\n",
      "1_passes_compeletd                                598\n",
      "2_passes_compeletd                                275\n",
      "1_corners                                           9\n",
      "2_corners                                           1\n",
      "1_free_kicks                                       17\n",
      "2_free_kicks                                       13\n",
      "1_panelties_scored                                  0\n",
      "2_panelties_scored                                  0\n",
      "1_goal_prevented                                   11\n",
      "2_goal_prevented                                   10\n",
      "1_own_goal                                          0\n",
      "2_own_goal                                          0\n",
      "1_forced_turnovers                                 38\n",
      "2_forced_turnovers                                 78\n",
      "1_defensive_pressure_applied                      194\n",
      "2_defensive_pressure_applied                      360\n",
      "Name: 26, dtype: object\n",
      "0\n",
      "match_no                                                      27\n",
      "day_of_week                                                  Sun\n",
      "date                                                   27-Nov-22\n",
      "hour                                                       17:00\n",
      "venue                              Khalifa International Stadium\n",
      "referee                                           Andrés Matonte\n",
      "group                                                    Group F\n",
      "1                                                        Croatia\n",
      "2                                                         Canada\n",
      "attendance                                                 44374\n",
      "1_xg                                                         2.6\n",
      "2_xg                                                         0.4\n",
      "1_poss                                                        49\n",
      "2_poss                                                        51\n",
      "1_goals                                                        4\n",
      "2_goals                                                        1\n",
      "score                                                        4,1\n",
      "1_attempts                                                    13\n",
      "2_attempts                                                     9\n",
      "1_conceded                                                     1\n",
      "2_conceded                                                     4\n",
      "1_goal_inside_penalty_area                                     3\n",
      "2_goal_inside_penalty_area                                     1\n",
      "1_goal_outside_penalty_area                                    1\n",
      "2_goal_outside_penalty_area                                    0\n",
      "1_ontarget                                                    10\n",
      "2_ontarget                                                     2\n",
      "1_offtarget                                                    2\n",
      "2_offtarget                                                    3\n",
      "1_attempts_inside_penalty_area                                 9\n",
      "2_attempts_inside_penalty_area                                 2\n",
      "1_attempts_outside_penalty_area                                4\n",
      "2_attempts_outside_penalty_area                                7\n",
      "1_yellow_cards                                                 2\n",
      "2_yellow_cards                                                 2\n",
      "1_red_cards                                                    0\n",
      "2_red_cards                                                    0\n",
      "faul_against_1                                                13\n",
      "faul_against_2                                                 5\n",
      "1_offsides                                                     1\n",
      "2_offsides                                                     3\n",
      "1_passes                                                     462\n",
      "2_passes                                                     511\n",
      "1_passes_compeletd                                           391\n",
      "2_passes_compeletd                                           434\n",
      "1_corners                                                      5\n",
      "2_corners                                                      2\n",
      "1_free_kicks                                                   8\n",
      "2_free_kicks                                                  14\n",
      "1_panelties_scored                                             0\n",
      "2_panelties_scored                                             0\n",
      "1_goal_prevented                                               9\n",
      "2_goal_prevented                                              13\n",
      "1_own_goal                                                     0\n",
      "2_own_goal                                                     0\n",
      "1_forced_turnovers                                            87\n",
      "2_forced_turnovers                                            72\n",
      "1_defensive_pressure_applied                                 347\n",
      "2_defensive_pressure_applied                                 316\n",
      "Name: 27, dtype: object\n",
      "0\n",
      "match_no                                        28\n",
      "day_of_week                                    Sun\n",
      "date                                     27-Nov-22\n",
      "hour                                         20:00\n",
      "venue                              Al Bayt Stadium\n",
      "referee                             Danny Makkelie\n",
      "group                                      Group E\n",
      "1                                            Spain\n",
      "2                                          Germany\n",
      "attendance                                   68895\n",
      "1_xg                                           0.6\n",
      "2_xg                                           1.3\n",
      "1_poss                                          64\n",
      "2_poss                                          36\n",
      "1_goals                                          1\n",
      "2_goals                                          1\n",
      "score                                          1,1\n",
      "1_attempts                                       7\n",
      "2_attempts                                      10\n",
      "1_conceded                                       1\n",
      "2_conceded                                       1\n",
      "1_goal_inside_penalty_area                       1\n",
      "2_goal_inside_penalty_area                       1\n",
      "1_goal_outside_penalty_area                      0\n",
      "2_goal_outside_penalty_area                      0\n",
      "1_ontarget                                       3\n",
      "2_ontarget                                       4\n",
      "1_offtarget                                      4\n",
      "2_offtarget                                      5\n",
      "1_attempts_inside_penalty_area                   3\n",
      "2_attempts_inside_penalty_area                   7\n",
      "1_attempts_outside_penalty_area                  4\n",
      "2_attempts_outside_penalty_area                  3\n",
      "1_yellow_cards                                   1\n",
      "2_yellow_cards                                   3\n",
      "1_red_cards                                      0\n",
      "2_red_cards                                      0\n",
      "faul_against_1                                  13\n",
      "faul_against_2                                  11\n",
      "1_offsides                                       2\n",
      "2_offsides                                       5\n",
      "1_passes                                       647\n",
      "2_passes                                       352\n",
      "1_passes_compeletd                             565\n",
      "2_passes_compeletd                             281\n",
      "1_corners                                        6\n",
      "2_corners                                        5\n",
      "1_free_kicks                                    16\n",
      "2_free_kicks                                    15\n",
      "1_panelties_scored                               0\n",
      "2_panelties_scored                               0\n",
      "1_goal_prevented                                11\n",
      "2_goal_prevented                                 7\n",
      "1_own_goal                                       0\n",
      "2_own_goal                                       0\n",
      "1_forced_turnovers                              79\n",
      "2_forced_turnovers                             101\n",
      "1_defensive_pressure_applied                   275\n",
      "2_defensive_pressure_applied                   387\n",
      "Name: 28, dtype: object\n",
      "0\n",
      "match_no                                                29\n",
      "day_of_week                                            Mon\n",
      "date                                             28-Nov-22\n",
      "hour                                                 11:00\n",
      "venue                                    Al Janoub Stadium\n",
      "referee                            Mohammed Abdulla Hassan\n",
      "group                                              Group G\n",
      "1                                                 Cameroon\n",
      "2                                                   Serbia\n",
      "attendance                                           39789\n",
      "1_xg                                                   2.2\n",
      "2_xg                                                   1.9\n",
      "1_poss                                                  41\n",
      "2_poss                                                  59\n",
      "1_goals                                                  3\n",
      "2_goals                                                  3\n",
      "score                                                  3,3\n",
      "1_attempts                                              13\n",
      "2_attempts                                              16\n",
      "1_conceded                                               3\n",
      "2_conceded                                               3\n",
      "1_goal_inside_penalty_area                               3\n",
      "2_goal_inside_penalty_area                               2\n",
      "1_goal_outside_penalty_area                              0\n",
      "2_goal_outside_penalty_area                              1\n",
      "1_ontarget                                               8\n",
      "2_ontarget                                               6\n",
      "1_offtarget                                              3\n",
      "2_offtarget                                              8\n",
      "1_attempts_inside_penalty_area                           9\n",
      "2_attempts_inside_penalty_area                          11\n",
      "1_attempts_outside_penalty_area                          4\n",
      "2_attempts_outside_penalty_area                          5\n",
      "1_yellow_cards                                           2\n",
      "2_yellow_cards                                           2\n",
      "1_red_cards                                              0\n",
      "2_red_cards                                              0\n",
      "faul_against_1                                           8\n",
      "faul_against_2                                          13\n",
      "1_offsides                                               0\n",
      "2_offsides                                               4\n",
      "1_passes                                               364\n",
      "2_passes                                               513\n",
      "1_passes_compeletd                                     271\n",
      "2_passes_compeletd                                     433\n",
      "1_corners                                                4\n",
      "2_corners                                                3\n",
      "1_free_kicks                                            17\n",
      "2_free_kicks                                             8\n",
      "1_panelties_scored                                       0\n",
      "2_panelties_scored                                       0\n",
      "1_goal_prevented                                        16\n",
      "2_goal_prevented                                        13\n",
      "1_own_goal                                               0\n",
      "2_own_goal                                               0\n",
      "1_forced_turnovers                                      83\n",
      "2_forced_turnovers                                      81\n",
      "1_defensive_pressure_applied                           285\n",
      "2_defensive_pressure_applied                           234\n",
      "Name: 29, dtype: object\n",
      "0\n",
      "match_no                                               30\n",
      "day_of_week                                           Mon\n",
      "date                                            28-Nov-22\n",
      "hour                                                14:00\n",
      "venue                              Education City Stadium\n",
      "referee                                    Anthony Taylor\n",
      "group                                             Group H\n",
      "1                                          Korea Republic\n",
      "2                                                   Ghana\n",
      "attendance                                          43983\n",
      "1_xg                                                  1.8\n",
      "2_xg                                                  1.6\n",
      "1_poss                                                 63\n",
      "2_poss                                                 37\n",
      "1_goals                                                 2\n",
      "2_goals                                                 3\n",
      "score                                                 2,3\n",
      "1_attempts                                             21\n",
      "2_attempts                                              8\n",
      "1_conceded                                              3\n",
      "2_conceded                                              2\n",
      "1_goal_inside_penalty_area                              2\n",
      "2_goal_inside_penalty_area                              3\n",
      "1_goal_outside_penalty_area                             0\n",
      "2_goal_outside_penalty_area                             0\n",
      "1_ontarget                                              6\n",
      "2_ontarget                                              3\n",
      "1_offtarget                                             8\n",
      "2_offtarget                                             3\n",
      "1_attempts_inside_penalty_area                         15\n",
      "2_attempts_inside_penalty_area                          7\n",
      "1_attempts_outside_penalty_area                         6\n",
      "2_attempts_outside_penalty_area                         1\n",
      "1_yellow_cards                                          2\n",
      "2_yellow_cards                                          2\n",
      "1_red_cards                                             0\n",
      "2_red_cards                                             0\n",
      "faul_against_1                                         13\n",
      "faul_against_2                                          9\n",
      "1_offsides                                              1\n",
      "2_offsides                                              1\n",
      "1_passes                                              540\n",
      "2_passes                                              319\n",
      "1_passes_compeletd                                    477\n",
      "2_passes_compeletd                                    260\n",
      "1_corners                                              12\n",
      "2_corners                                               5\n",
      "1_free_kicks                                           10\n",
      "2_free_kicks                                           14\n",
      "1_panelties_scored                                      0\n",
      "2_panelties_scored                                      0\n",
      "1_goal_prevented                                        8\n",
      "2_goal_prevented                                       21\n",
      "1_own_goal                                              0\n",
      "2_own_goal                                              0\n",
      "1_forced_turnovers                                     53\n",
      "2_forced_turnovers                                     75\n",
      "1_defensive_pressure_applied                          220\n",
      "2_defensive_pressure_applied                          324\n",
      "Name: 30, dtype: object\n",
      "0\n",
      "match_no                                    31\n",
      "day_of_week                                Mon\n",
      "date                                 28-Nov-22\n",
      "hour                                     17:00\n",
      "venue                              Stadium 974\n",
      "referee                            Ivan Barton\n",
      "group                                  Group G\n",
      "1                                       Brazil\n",
      "2                                  Switzerland\n",
      "attendance                               43649\n",
      "1_xg                                         1\n",
      "2_xg                                       0.3\n",
      "1_poss                                      54\n",
      "2_poss                                      46\n",
      "1_goals                                      1\n",
      "2_goals                                      0\n",
      "score                                      1,0\n",
      "1_attempts                                   9\n",
      "2_attempts                                   4\n",
      "1_conceded                                   0\n",
      "2_conceded                                   1\n",
      "1_goal_inside_penalty_area                   1\n",
      "2_goal_inside_penalty_area                   0\n",
      "1_goal_outside_penalty_area                  0\n",
      "2_goal_outside_penalty_area                  0\n",
      "1_ontarget                                   5\n",
      "2_ontarget                                   0\n",
      "1_offtarget                                  2\n",
      "2_offtarget                                  1\n",
      "1_attempts_inside_penalty_area               6\n",
      "2_attempts_inside_penalty_area               2\n",
      "1_attempts_outside_penalty_area              3\n",
      "2_attempts_outside_penalty_area              2\n",
      "1_yellow_cards                               1\n",
      "2_yellow_cards                               1\n",
      "1_red_cards                                  0\n",
      "2_red_cards                                  0\n",
      "faul_against_1                              10\n",
      "faul_against_2                              17\n",
      "1_offsides                                   3\n",
      "2_offsides                                   1\n",
      "1_passes                                   565\n",
      "2_passes                                   488\n",
      "1_passes_compeletd                         498\n",
      "2_passes_compeletd                         415\n",
      "1_corners                                    8\n",
      "2_corners                                    3\n",
      "1_free_kicks                                18\n",
      "2_free_kicks                                13\n",
      "1_panelties_scored                           0\n",
      "2_panelties_scored                           0\n",
      "1_goal_prevented                             4\n",
      "2_goal_prevented                             9\n",
      "1_own_goal                                   0\n",
      "2_own_goal                                   0\n",
      "1_forced_turnovers                          85\n",
      "2_forced_turnovers                          80\n",
      "1_defensive_pressure_applied               282\n",
      "2_defensive_pressure_applied               344\n",
      "Name: 31, dtype: object\n",
      "0\n",
      "match_no                                              32\n",
      "day_of_week                                          Mon\n",
      "date                                           28-Nov-22\n",
      "hour                                               20:00\n",
      "venue                              Lusail Iconic Stadium\n",
      "referee                                  Alireza Faghani\n",
      "group                                            Group H\n",
      "1                                               Portugal\n",
      "2                                                Uruguay\n",
      "attendance                                         88668\n",
      "1_xg                                                 1.3\n",
      "2_xg                                                 1.3\n",
      "1_poss                                                59\n",
      "2_poss                                                41\n",
      "1_goals                                                2\n",
      "2_goals                                                0\n",
      "score                                                2,0\n",
      "1_attempts                                            14\n",
      "2_attempts                                            10\n",
      "1_conceded                                             0\n",
      "2_conceded                                             2\n",
      "1_goal_inside_penalty_area                             1\n",
      "2_goal_inside_penalty_area                             0\n",
      "1_goal_outside_penalty_area                            1\n",
      "2_goal_outside_penalty_area                            0\n",
      "1_ontarget                                             4\n",
      "2_ontarget                                             3\n",
      "1_offtarget                                            7\n",
      "2_offtarget                                            6\n",
      "1_attempts_inside_penalty_area                         4\n",
      "2_attempts_inside_penalty_area                         6\n",
      "1_attempts_outside_penalty_area                       10\n",
      "2_attempts_outside_penalty_area                        4\n",
      "1_yellow_cards                                         3\n",
      "2_yellow_cards                                         2\n",
      "1_red_cards                                            0\n",
      "2_red_cards                                            0\n",
      "faul_against_1                                        10\n",
      "faul_against_2                                        16\n",
      "1_offsides                                             2\n",
      "2_offsides                                             0\n",
      "1_passes                                             596\n",
      "2_passes                                             390\n",
      "1_passes_compeletd                                   517\n",
      "2_passes_compeletd                                   306\n",
      "1_corners                                              6\n",
      "2_corners                                              2\n",
      "1_free_kicks                                          15\n",
      "2_free_kicks                                          13\n",
      "1_panelties_scored                                     1\n",
      "2_panelties_scored                                     0\n",
      "1_goal_prevented                                      11\n",
      "2_goal_prevented                                      14\n",
      "1_own_goal                                             0\n",
      "2_own_goal                                             0\n",
      "1_forced_turnovers                                    68\n",
      "2_forced_turnovers                                    81\n",
      "1_defensive_pressure_applied                         226\n",
      "2_defensive_pressure_applied                         362\n",
      "Name: 32, dtype: object\n",
      "0\n",
      "match_no                                                      33\n",
      "day_of_week                                                  Tue\n",
      "date                                                   29-Nov-22\n",
      "hour                                                       16:00\n",
      "venue                              Khalifa International Stadium\n",
      "referee                                           Clement Turpin\n",
      "group                                                    Group A\n",
      "1                                                    Netherlands\n",
      "2                                                          Qatar\n",
      "attendance                                                 44569\n",
      "1_xg                                                         0.9\n",
      "2_xg                                                         2.1\n",
      "1_poss                                                        61\n",
      "2_poss                                                        39\n",
      "1_goals                                                        2\n",
      "2_goals                                                        0\n",
      "score                                                        1,2\n",
      "1_attempts                                                    13\n",
      "2_attempts                                                     6\n",
      "1_conceded                                                     0\n",
      "2_conceded                                                     2\n",
      "1_goal_inside_penalty_area                                     2\n",
      "2_goal_inside_penalty_area                                     0\n",
      "1_goal_outside_penalty_area                                    0\n",
      "2_goal_outside_penalty_area                                    0\n",
      "1_ontarget                                                     4\n",
      "2_ontarget                                                     4\n",
      "1_offtarget                                                    5\n",
      "2_offtarget                                                    2\n",
      "1_attempts_inside_penalty_area                                10\n",
      "2_attempts_inside_penalty_area                                 2\n",
      "1_attempts_outside_penalty_area                                3\n",
      "2_attempts_outside_penalty_area                                4\n",
      "1_yellow_cards                                                 1\n",
      "2_yellow_cards                                                 0\n",
      "1_red_cards                                                    0\n",
      "2_red_cards                                                    0\n",
      "faul_against_1                                                19\n",
      "faul_against_2                                                 9\n",
      "1_offsides                                                     4\n",
      "2_offsides                                                     0\n",
      "1_passes                                                     795\n",
      "2_passes                                                     459\n",
      "1_passes_compeletd                                           740\n",
      "2_passes_compeletd                                           394\n",
      "1_corners                                                      4\n",
      "2_corners                                                      2\n",
      "1_free_kicks                                                   9\n",
      "2_free_kicks                                                  24\n",
      "1_panelties_scored                                             0\n",
      "2_panelties_scored                                             0\n",
      "1_goal_prevented                                               5\n",
      "2_goal_prevented                                              14\n",
      "1_own_goal                                                     0\n",
      "2_own_goal                                                     0\n",
      "1_forced_turnovers                                            62\n",
      "2_forced_turnovers                                            52\n",
      "1_defensive_pressure_applied                                 319\n",
      "2_defensive_pressure_applied                                 322\n",
      "Name: 33, dtype: object\n",
      "0\n",
      "match_no                                            34\n",
      "day_of_week                                        Tue\n",
      "date                                         29-Nov-22\n",
      "hour                                             16:00\n",
      "venue                                  Al Bayt Stadium\n",
      "referee                            Bakary Papa Gassama\n",
      "group                                          Group A\n",
      "1                                              Ecuador\n",
      "2                                              Senegal\n",
      "attendance                                       66784\n",
      "1_xg                                               1.6\n",
      "2_xg                                               0.1\n",
      "1_poss                                              63\n",
      "2_poss                                              37\n",
      "1_goals                                              1\n",
      "2_goals                                              2\n",
      "score                                              2,0\n",
      "1_attempts                                           8\n",
      "2_attempts                                          15\n",
      "1_conceded                                           2\n",
      "2_conceded                                           1\n",
      "1_goal_inside_penalty_area                           1\n",
      "2_goal_inside_penalty_area                           2\n",
      "1_goal_outside_penalty_area                          0\n",
      "2_goal_outside_penalty_area                          0\n",
      "1_ontarget                                           4\n",
      "2_ontarget                                           5\n",
      "1_offtarget                                          3\n",
      "2_offtarget                                          8\n",
      "1_attempts_inside_penalty_area                       5\n",
      "2_attempts_inside_penalty_area                      11\n",
      "1_attempts_outside_penalty_area                      3\n",
      "2_attempts_outside_penalty_area                      4\n",
      "1_yellow_cards                                       0\n",
      "2_yellow_cards                                       1\n",
      "1_red_cards                                          0\n",
      "2_red_cards                                          0\n",
      "faul_against_1                                      23\n",
      "faul_against_2                                      11\n",
      "1_offsides                                           0\n",
      "2_offsides                                           3\n",
      "1_passes                                           432\n",
      "2_passes                                           269\n",
      "1_passes_compeletd                                 353\n",
      "2_passes_compeletd                                 198\n",
      "1_corners                                            3\n",
      "2_corners                                            6\n",
      "1_free_kicks                                        14\n",
      "2_free_kicks                                        22\n",
      "1_panelties_scored                                   0\n",
      "2_panelties_scored                                   1\n",
      "1_goal_prevented                                    15\n",
      "2_goal_prevented                                     8\n",
      "1_own_goal                                           0\n",
      "2_own_goal                                           0\n",
      "1_forced_turnovers                                  59\n",
      "2_forced_turnovers                                  62\n",
      "1_defensive_pressure_applied                       190\n",
      "2_defensive_pressure_applied                       243\n",
      "Name: 34, dtype: object\n",
      "0\n",
      "match_no                                              35\n",
      "day_of_week                                          Tue\n",
      "date                                           29-Nov-22\n",
      "hour                                               20:00\n",
      "venue                              Ahmed bin Ali Stadium\n",
      "referee                                    Slavko Vincic\n",
      "group                                            Group B\n",
      "1                                                  Wales\n",
      "2                                                England\n",
      "attendance                                         44297\n",
      "1_xg                                                 0.3\n",
      "2_xg                                                 2.4\n",
      "1_poss                                                36\n",
      "2_poss                                                64\n",
      "1_goals                                                0\n",
      "2_goals                                                3\n",
      "score                                                0,3\n",
      "1_attempts                                             7\n",
      "2_attempts                                            17\n",
      "1_conceded                                             3\n",
      "2_conceded                                             0\n",
      "1_goal_inside_penalty_area                             0\n",
      "2_goal_inside_penalty_area                             2\n",
      "1_goal_outside_penalty_area                            0\n",
      "2_goal_outside_penalty_area                            1\n",
      "1_ontarget                                             1\n",
      "2_ontarget                                             7\n",
      "1_offtarget                                            3\n",
      "2_offtarget                                            6\n",
      "1_attempts_inside_penalty_area                         1\n",
      "2_attempts_inside_penalty_area                        13\n",
      "1_attempts_outside_penalty_area                        6\n",
      "2_attempts_outside_penalty_area                        4\n",
      "1_yellow_cards                                         2\n",
      "2_yellow_cards                                         0\n",
      "1_red_cards                                            0\n",
      "2_red_cards                                            0\n",
      "faul_against_1                                        16\n",
      "faul_against_2                                         9\n",
      "1_offsides                                             1\n",
      "2_offsides                                             1\n",
      "1_passes                                             325\n",
      "2_passes                                             588\n",
      "1_passes_compeletd                                   261\n",
      "2_passes_compeletd                                   529\n",
      "1_corners                                              1\n",
      "2_corners                                              6\n",
      "1_free_kicks                                          10\n",
      "2_free_kicks                                          17\n",
      "1_panelties_scored                                     0\n",
      "2_panelties_scored                                     0\n",
      "1_goal_prevented                                      17\n",
      "2_goal_prevented                                       8\n",
      "1_own_goal                                             0\n",
      "2_own_goal                                             0\n",
      "1_forced_turnovers                                    49\n",
      "2_forced_turnovers                                    56\n",
      "1_defensive_pressure_applied                         328\n",
      "2_defensive_pressure_applied                         167\n",
      "Name: 35, dtype: object\n",
      "0\n",
      "match_no                                            36\n",
      "day_of_week                                        Tue\n",
      "date                                         29-Nov-22\n",
      "hour                                             20:00\n",
      "venue                               Al Thumama Stadium\n",
      "referee                            Antonio Mateu Lahoz\n",
      "group                                          Group B\n",
      "1                                                 Iran\n",
      "2                                        United States\n",
      "attendance                                       42127\n",
      "1_xg                                               0.4\n",
      "2_xg                                               1.2\n",
      "1_poss                                              49\n",
      "2_poss                                              51\n",
      "1_goals                                              0\n",
      "2_goals                                              1\n",
      "score                                              0,1\n",
      "1_attempts                                           6\n",
      "2_attempts                                          12\n",
      "1_conceded                                           1\n",
      "2_conceded                                           0\n",
      "1_goal_inside_penalty_area                           0\n",
      "2_goal_inside_penalty_area                           1\n",
      "1_goal_outside_penalty_area                          0\n",
      "2_goal_outside_penalty_area                          0\n",
      "1_ontarget                                           2\n",
      "2_ontarget                                           5\n",
      "1_offtarget                                          4\n",
      "2_offtarget                                          4\n",
      "1_attempts_inside_penalty_area                       5\n",
      "2_attempts_inside_penalty_area                       8\n",
      "1_attempts_outside_penalty_area                      1\n",
      "2_attempts_outside_penalty_area                      4\n",
      "1_yellow_cards                                       3\n",
      "2_yellow_cards                                       1\n",
      "1_red_cards                                          0\n",
      "2_red_cards                                          0\n",
      "faul_against_1                                      13\n",
      "faul_against_2                                      10\n",
      "1_offsides                                           2\n",
      "2_offsides                                           1\n",
      "1_passes                                           463\n",
      "2_passes                                           470\n",
      "1_passes_compeletd                                 379\n",
      "2_passes_compeletd                                 413\n",
      "1_corners                                            1\n",
      "2_corners                                            5\n",
      "1_free_kicks                                        11\n",
      "2_free_kicks                                        15\n",
      "1_panelties_scored                                   0\n",
      "2_panelties_scored                                   0\n",
      "1_goal_prevented                                    13\n",
      "2_goal_prevented                                     6\n",
      "1_own_goal                                           0\n",
      "2_own_goal                                           0\n",
      "1_forced_turnovers                                  63\n",
      "2_forced_turnovers                                  74\n",
      "1_defensive_pressure_applied                       295\n",
      "2_defensive_pressure_applied                       302\n",
      "Name: 36, dtype: object\n",
      "0\n",
      "match_no                                          37\n",
      "day_of_week                                      Wed\n",
      "date                                       30-Nov-22\n",
      "hour                                           16:00\n",
      "venue                              Al Janoub Stadium\n",
      "referee                             Mustapha Ghorbal\n",
      "group                                        Group D\n",
      "1                                          Australia\n",
      "2                                            Denmark\n",
      "attendance                                     41232\n",
      "1_xg                                             0.6\n",
      "2_xg                                             0.6\n",
      "1_poss                                            32\n",
      "2_poss                                            68\n",
      "1_goals                                            1\n",
      "2_goals                                            0\n",
      "score                                            1,0\n",
      "1_attempts                                         8\n",
      "2_attempts                                        14\n",
      "1_conceded                                         0\n",
      "2_conceded                                         1\n",
      "1_goal_inside_penalty_area                         1\n",
      "2_goal_inside_penalty_area                         0\n",
      "1_goal_outside_penalty_area                        0\n",
      "2_goal_outside_penalty_area                        0\n",
      "1_ontarget                                         4\n",
      "2_ontarget                                         3\n",
      "1_offtarget                                        2\n",
      "2_offtarget                                        7\n",
      "1_attempts_inside_penalty_area                     3\n",
      "2_attempts_inside_penalty_area                    11\n",
      "1_attempts_outside_penalty_area                    5\n",
      "2_attempts_outside_penalty_area                    3\n",
      "1_yellow_cards                                     2\n",
      "2_yellow_cards                                     1\n",
      "1_red_cards                                        0\n",
      "2_red_cards                                        0\n",
      "faul_against_1                                    11\n",
      "faul_against_2                                    10\n",
      "1_offsides                                         1\n",
      "2_offsides                                         3\n",
      "1_passes                                         286\n",
      "2_passes                                         650\n",
      "1_passes_compeletd                               187\n",
      "2_passes_compeletd                               567\n",
      "1_corners                                          2\n",
      "2_corners                                          6\n",
      "1_free_kicks                                      13\n",
      "2_free_kicks                                      12\n",
      "1_panelties_scored                                 0\n",
      "2_panelties_scored                                 0\n",
      "1_goal_prevented                                  14\n",
      "2_goal_prevented                                   8\n",
      "1_own_goal                                         0\n",
      "2_own_goal                                         0\n",
      "1_forced_turnovers                                90\n",
      "2_forced_turnovers                                74\n",
      "1_defensive_pressure_applied                     341\n",
      "2_defensive_pressure_applied                     161\n",
      "Name: 37, dtype: object\n",
      "0\n",
      "match_no                                               38\n",
      "day_of_week                                           Wed\n",
      "date                                            30-Nov-22\n",
      "hour                                                16:00\n",
      "venue                              Education City Stadium\n",
      "referee                                       Matt Conger\n",
      "group                                             Group D\n",
      "1                                                 Tunisia\n",
      "2                                                  France\n",
      "attendance                                          43627\n",
      "1_xg                                                  0.5\n",
      "2_xg                                                  0.8\n",
      "1_poss                                                 35\n",
      "2_poss                                                 65\n",
      "1_goals                                                 1\n",
      "2_goals                                                 0\n",
      "score                                                 1,0\n",
      "1_attempts                                              5\n",
      "2_attempts                                              9\n",
      "1_conceded                                              0\n",
      "2_conceded                                              1\n",
      "1_goal_inside_penalty_area                              0\n",
      "2_goal_inside_penalty_area                              0\n",
      "1_goal_outside_penalty_area                             1\n",
      "2_goal_outside_penalty_area                             0\n",
      "1_ontarget                                              3\n",
      "2_ontarget                                              3\n",
      "1_offtarget                                             2\n",
      "2_offtarget                                             4\n",
      "1_attempts_inside_penalty_area                          2\n",
      "2_attempts_inside_penalty_area                          4\n",
      "1_attempts_outside_penalty_area                         3\n",
      "2_attempts_outside_penalty_area                         5\n",
      "1_yellow_cards                                          1\n",
      "2_yellow_cards                                          0\n",
      "1_red_cards                                             0\n",
      "2_red_cards                                             0\n",
      "faul_against_1                                         14\n",
      "faul_against_2                                          6\n",
      "1_offsides                                              3\n",
      "2_offsides                                              2\n",
      "1_passes                                              328\n",
      "2_passes                                              636\n",
      "1_passes_compeletd                                    266\n",
      "2_passes_compeletd                                    566\n",
      "1_corners                                               7\n",
      "2_corners                                               8\n",
      "1_free_kicks                                            8\n",
      "2_free_kicks                                           17\n",
      "1_panelties_scored                                      0\n",
      "2_panelties_scored                                      0\n",
      "1_goal_prevented                                       11\n",
      "2_goal_prevented                                        6\n",
      "1_own_goal                                              0\n",
      "2_own_goal                                              0\n",
      "1_forced_turnovers                                     68\n",
      "2_forced_turnovers                                     80\n",
      "1_defensive_pressure_applied                          400\n",
      "2_defensive_pressure_applied                          202\n",
      "Name: 38, dtype: object\n",
      "0\n",
      "match_no                                              39\n",
      "day_of_week                                          Wed\n",
      "date                                           30-Nov-22\n",
      "hour                                               20:00\n",
      "venue                              Lusail Iconic Stadium\n",
      "referee                                   Michael Oliver\n",
      "group                                            Group C\n",
      "1                                                 Poland\n",
      "2                                              Argentina\n",
      "attendance                                         84985\n",
      "1_xg                                                 1.1\n",
      "2_xg                                                 2.3\n",
      "1_poss                                                40\n",
      "2_poss                                                60\n",
      "1_goals                                                0\n",
      "2_goals                                                2\n",
      "score                                                1,2\n",
      "1_attempts                                             4\n",
      "2_attempts                                            25\n",
      "1_conceded                                             2\n",
      "2_conceded                                             0\n",
      "1_goal_inside_penalty_area                             0\n",
      "2_goal_inside_penalty_area                             2\n",
      "1_goal_outside_penalty_area                            0\n",
      "2_goal_outside_penalty_area                            0\n",
      "1_ontarget                                             0\n",
      "2_ontarget                                            13\n",
      "1_offtarget                                            2\n",
      "2_offtarget                                            8\n",
      "1_attempts_inside_penalty_area                         2\n",
      "2_attempts_inside_penalty_area                        21\n",
      "1_attempts_outside_penalty_area                        2\n",
      "2_attempts_outside_penalty_area                        4\n",
      "1_yellow_cards                                         1\n",
      "2_yellow_cards                                         1\n",
      "1_red_cards                                            0\n",
      "2_red_cards                                            0\n",
      "faul_against_1                                         6\n",
      "faul_against_2                                        11\n",
      "1_offsides                                             0\n",
      "2_offsides                                             0\n",
      "1_passes                                             321\n",
      "2_passes                                             862\n",
      "1_passes_compeletd                                   261\n",
      "2_passes_compeletd                                   814\n",
      "1_corners                                              1\n",
      "2_corners                                              9\n",
      "1_free_kicks                                          12\n",
      "2_free_kicks                                           5\n",
      "1_panelties_scored                                     0\n",
      "2_panelties_scored                                     0\n",
      "1_goal_prevented                                      25\n",
      "2_goal_prevented                                       4\n",
      "1_own_goal                                             0\n",
      "2_own_goal                                             0\n",
      "1_forced_turnovers                                    67\n",
      "2_forced_turnovers                                    48\n",
      "1_defensive_pressure_applied                         438\n",
      "2_defensive_pressure_applied                         141\n",
      "Name: 39, dtype: object\n",
      "0\n",
      "match_no                                       40\n",
      "day_of_week                                   Wed\n",
      "date                                    30-Nov-22\n",
      "hour                                        20:00\n",
      "venue                                 Stadium 974\n",
      "referee                            Danny Makkelie\n",
      "group                                     Group C\n",
      "1                                    Saudi Arabia\n",
      "2                                          Mexico\n",
      "attendance                                  44089\n",
      "1_xg                                          0.3\n",
      "2_xg                                          3.5\n",
      "1_poss                                         27\n",
      "2_poss                                         73\n",
      "1_goals                                         1\n",
      "2_goals                                         2\n",
      "score                                         0,2\n",
      "1_attempts                                     10\n",
      "2_attempts                                     25\n",
      "1_conceded                                      2\n",
      "2_conceded                                      1\n",
      "1_goal_inside_penalty_area                      1\n",
      "2_goal_inside_penalty_area                      1\n",
      "1_goal_outside_penalty_area                     0\n",
      "2_goal_outside_penalty_area                     1\n",
      "1_ontarget                                      2\n",
      "2_ontarget                                     10\n",
      "1_offtarget                                     8\n",
      "2_offtarget                                     8\n",
      "1_attempts_inside_penalty_area                  6\n",
      "2_attempts_inside_penalty_area                 10\n",
      "1_attempts_outside_penalty_area                 4\n",
      "2_attempts_outside_penalty_area                15\n",
      "1_yellow_cards                                  6\n",
      "2_yellow_cards                                  1\n",
      "1_red_cards                                     0\n",
      "2_red_cards                                     0\n",
      "faul_against_1                                 20\n",
      "faul_against_2                                 18\n",
      "1_offsides                                      2\n",
      "2_offsides                                      6\n",
      "1_passes                                      297\n",
      "2_passes                                      412\n",
      "1_passes_compeletd                            197\n",
      "2_passes_compeletd                            336\n",
      "1_corners                                       1\n",
      "2_corners                                       8\n",
      "1_free_kicks                                   23\n",
      "2_free_kicks                                   22\n",
      "1_panelties_scored                              0\n",
      "2_panelties_scored                              0\n",
      "1_goal_prevented                               26\n",
      "2_goal_prevented                               10\n",
      "1_own_goal                                      0\n",
      "2_own_goal                                      0\n",
      "1_forced_turnovers                             82\n",
      "2_forced_turnovers                             76\n",
      "1_defensive_pressure_applied                  269\n",
      "2_defensive_pressure_applied                  229\n",
      "Name: 40, dtype: object\n",
      "0\n",
      "match_no                                           41\n",
      "day_of_week                                       Thu\n",
      "date                                         1-Dec-22\n",
      "hour                                            16:00\n",
      "venue                              Al Thumama Stadium\n",
      "referee                                 Raphael Claus\n",
      "group                                         Group F\n",
      "1                                             Croatia\n",
      "2                                             Belgium\n",
      "attendance                                      43102\n",
      "1_xg                                              1.4\n",
      "2_xg                                              0.5\n",
      "1_poss                                             58\n",
      "2_poss                                             42\n",
      "1_goals                                             0\n",
      "2_goals                                             0\n",
      "score                                             1,2\n",
      "1_attempts                                         11\n",
      "2_attempts                                         15\n",
      "1_conceded                                          0\n",
      "2_conceded                                          0\n",
      "1_goal_inside_penalty_area                          0\n",
      "2_goal_inside_penalty_area                          0\n",
      "1_goal_outside_penalty_area                         0\n",
      "2_goal_outside_penalty_area                         0\n",
      "1_ontarget                                          4\n",
      "2_ontarget                                          4\n",
      "1_offtarget                                         5\n",
      "2_offtarget                                         7\n",
      "1_attempts_inside_penalty_area                      7\n",
      "2_attempts_inside_penalty_area                     12\n",
      "1_attempts_outside_penalty_area                     4\n",
      "2_attempts_outside_penalty_area                     3\n",
      "1_yellow_cards                                      0\n",
      "2_yellow_cards                                      1\n",
      "1_red_cards                                         0\n",
      "2_red_cards                                         0\n",
      "faul_against_1                                      7\n",
      "faul_against_2                                      9\n",
      "1_offsides                                          4\n",
      "2_offsides                                          0\n",
      "1_passes                                          578\n",
      "2_passes                                          596\n",
      "1_passes_compeletd                                504\n",
      "2_passes_compeletd                                531\n",
      "1_corners                                           2\n",
      "2_corners                                           4\n",
      "1_free_kicks                                        9\n",
      "2_free_kicks                                       11\n",
      "1_panelties_scored                                  0\n",
      "2_panelties_scored                                  0\n",
      "1_goal_prevented                                   16\n",
      "2_goal_prevented                                   11\n",
      "1_own_goal                                          0\n",
      "2_own_goal                                          0\n",
      "1_forced_turnovers                                 70\n",
      "2_forced_turnovers                                 68\n",
      "1_defensive_pressure_applied                      328\n",
      "2_defensive_pressure_applied                      346\n",
      "Name: 41, dtype: object\n",
      "0\n",
      "match_no                                              42\n",
      "day_of_week                                          Thu\n",
      "date                                            1-Dec-22\n",
      "hour                                               16:00\n",
      "venue                              Ahmed bin Ali Stadium\n",
      "referee                                   Anthony Taylor\n",
      "group                                            Group F\n",
      "1                                                 Canada\n",
      "2                                                Morocco\n",
      "attendance                                         43984\n",
      "1_xg                                                 0.7\n",
      "2_xg                                                   3\n",
      "1_poss                                                49\n",
      "2_poss                                                51\n",
      "1_goals                                                1\n",
      "2_goals                                                2\n",
      "score                                                0,0\n",
      "1_attempts                                             5\n",
      "2_attempts                                             7\n",
      "1_conceded                                             2\n",
      "2_conceded                                             1\n",
      "1_goal_inside_penalty_area                             0\n",
      "2_goal_inside_penalty_area                             1\n",
      "1_goal_outside_penalty_area                            0\n",
      "2_goal_outside_penalty_area                            1\n",
      "1_ontarget                                             0\n",
      "2_ontarget                                             2\n",
      "1_offtarget                                            4\n",
      "2_offtarget                                            2\n",
      "1_attempts_inside_penalty_area                         4\n",
      "2_attempts_inside_penalty_area                         4\n",
      "1_attempts_outside_penalty_area                        1\n",
      "2_attempts_outside_penalty_area                        3\n",
      "1_yellow_cards                                         4\n",
      "2_yellow_cards                                         0\n",
      "1_red_cards                                            0\n",
      "2_red_cards                                            0\n",
      "faul_against_1                                        14\n",
      "faul_against_2                                        14\n",
      "1_offsides                                             4\n",
      "2_offsides                                             4\n",
      "1_passes                                             539\n",
      "2_passes                                             384\n",
      "1_passes_compeletd                                   472\n",
      "2_passes_compeletd                                   308\n",
      "1_corners                                              6\n",
      "2_corners                                              2\n",
      "1_free_kicks                                          18\n",
      "2_free_kicks                                          18\n",
      "1_panelties_scored                                     0\n",
      "2_panelties_scored                                     0\n",
      "1_goal_prevented                                       7\n",
      "2_goal_prevented                                       7\n",
      "1_own_goal                                             0\n",
      "2_own_goal                                             1\n",
      "1_forced_turnovers                                    66\n",
      "2_forced_turnovers                                    72\n",
      "1_defensive_pressure_applied                         224\n",
      "2_defensive_pressure_applied                         324\n",
      "Name: 42, dtype: object\n",
      "0\n",
      "match_no                                                      43\n",
      "day_of_week                                                  Thu\n",
      "date                                                    1-Dec-22\n",
      "hour                                                       20:00\n",
      "venue                              Khalifa International Stadium\n",
      "referee                                             Victor Gomes\n",
      "group                                                    Group E\n",
      "1                                                          Japan\n",
      "2                                                          Spain\n",
      "attendance                                                 44851\n",
      "1_xg                                                         1.4\n",
      "2_xg                                                           1\n",
      "1_poss                                                        18\n",
      "2_poss                                                        82\n",
      "1_goals                                                        2\n",
      "2_goals                                                        1\n",
      "score                                                        2,1\n",
      "1_attempts                                                     6\n",
      "2_attempts                                                    14\n",
      "1_conceded                                                     1\n",
      "2_conceded                                                     2\n",
      "1_goal_inside_penalty_area                                     1\n",
      "2_goal_inside_penalty_area                                     1\n",
      "1_goal_outside_penalty_area                                    1\n",
      "2_goal_outside_penalty_area                                    0\n",
      "1_ontarget                                                     3\n",
      "2_ontarget                                                     5\n",
      "1_offtarget                                                    2\n",
      "2_offtarget                                                    3\n",
      "1_attempts_inside_penalty_area                                 4\n",
      "2_attempts_inside_penalty_area                                 7\n",
      "1_attempts_outside_penalty_area                                2\n",
      "2_attempts_outside_penalty_area                                7\n",
      "1_yellow_cards                                                 3\n",
      "2_yellow_cards                                                 0\n",
      "1_red_cards                                                    0\n",
      "2_red_cards                                                    0\n",
      "faul_against_1                                                 9\n",
      "faul_against_2                                                 6\n",
      "1_offsides                                                     2\n",
      "2_offsides                                                     2\n",
      "1_passes                                                     225\n",
      "2_passes                                                    1070\n",
      "1_passes_compeletd                                           167\n",
      "2_passes_compeletd                                           992\n",
      "1_corners                                                      0\n",
      "2_corners                                                      2\n",
      "1_free_kicks                                                   8\n",
      "2_free_kicks                                                  11\n",
      "1_panelties_scored                                             0\n",
      "2_panelties_scored                                             0\n",
      "1_goal_prevented                                              14\n",
      "2_goal_prevented                                               6\n",
      "1_own_goal                                                     0\n",
      "2_own_goal                                                     0\n",
      "1_forced_turnovers                                            85\n",
      "2_forced_turnovers                                            49\n",
      "1_defensive_pressure_applied                                 637\n",
      "2_defensive_pressure_applied                                 150\n",
      "Name: 43, dtype: object\n",
      "0\n",
      "match_no                                           44\n",
      "day_of_week                                       Thu\n",
      "date                                         1-Dec-22\n",
      "hour                                            20:00\n",
      "venue                                 Al Bayt Stadium\n",
      "referee                            Stephanie Frappart\n",
      "group                                         Group E\n",
      "1                                          Costa Rica\n",
      "2                                             Germany\n",
      "attendance                                      67054\n",
      "1_xg                                              1.3\n",
      "2_xg                                              5.7\n",
      "1_poss                                             32\n",
      "2_poss                                             68\n",
      "1_goals                                             2\n",
      "2_goals                                             4\n",
      "score                                             2,4\n",
      "1_attempts                                          8\n",
      "2_attempts                                         32\n",
      "1_conceded                                          4\n",
      "2_conceded                                          2\n",
      "1_goal_inside_penalty_area                          2\n",
      "2_goal_inside_penalty_area                          4\n",
      "1_goal_outside_penalty_area                         0\n",
      "2_goal_outside_penalty_area                         0\n",
      "1_ontarget                                          6\n",
      "2_ontarget                                         11\n",
      "1_offtarget                                         1\n",
      "2_offtarget                                        17\n",
      "1_attempts_inside_penalty_area                      6\n",
      "2_attempts_inside_penalty_area                     24\n",
      "1_attempts_outside_penalty_area                     2\n",
      "2_attempts_outside_penalty_area                     8\n",
      "1_yellow_cards                                      1\n",
      "2_yellow_cards                                      0\n",
      "1_red_cards                                         0\n",
      "2_red_cards                                         0\n",
      "faul_against_1                                      3\n",
      "faul_against_2                                      9\n",
      "1_offsides                                          4\n",
      "2_offsides                                          3\n",
      "1_passes                                          347\n",
      "2_passes                                          727\n",
      "1_passes_compeletd                                269\n",
      "2_passes_compeletd                                661\n",
      "1_corners                                           1\n",
      "2_corners                                          14\n",
      "1_free_kicks                                       12\n",
      "2_free_kicks                                        7\n",
      "1_panelties_scored                                  0\n",
      "2_panelties_scored                                  0\n",
      "1_goal_prevented                                   32\n",
      "2_goal_prevented                                    8\n",
      "1_own_goal                                          0\n",
      "2_own_goal                                          0\n",
      "1_forced_turnovers                                 79\n",
      "2_forced_turnovers                                 77\n",
      "1_defensive_pressure_applied                      378\n",
      "2_defensive_pressure_applied                      230\n",
      "Name: 44, dtype: object\n",
      "0\n",
      "match_no                                          45\n",
      "day_of_week                                      Fri\n",
      "date                                        2-Dec-22\n",
      "hour                                           16:00\n",
      "venue                              Al Janoub Stadium\n",
      "referee                               Daniel Siebert\n",
      "group                                        Group H\n",
      "1                                              Ghana\n",
      "2                                            Uruguay\n",
      "attendance                                     43443\n",
      "1_xg                                             1.6\n",
      "2_xg                                             1.8\n",
      "1_poss                                            51\n",
      "2_poss                                            49\n",
      "1_goals                                            0\n",
      "2_goals                                            2\n",
      "score                                            0,2\n",
      "1_attempts                                         9\n",
      "2_attempts                                        12\n",
      "1_conceded                                         2\n",
      "2_conceded                                         0\n",
      "1_goal_inside_penalty_area                         0\n",
      "2_goal_inside_penalty_area                         2\n",
      "1_goal_outside_penalty_area                        0\n",
      "2_goal_outside_penalty_area                        0\n",
      "1_ontarget                                         4\n",
      "2_ontarget                                         7\n",
      "1_offtarget                                        4\n",
      "2_offtarget                                        5\n",
      "1_attempts_inside_penalty_area                     4\n",
      "2_attempts_inside_penalty_area                     7\n",
      "1_attempts_outside_penalty_area                    5\n",
      "2_attempts_outside_penalty_area                    5\n",
      "1_yellow_cards                                     2\n",
      "2_yellow_cards                                     3\n",
      "1_red_cards                                        0\n",
      "2_red_cards                                        0\n",
      "faul_against_1                                    18\n",
      "faul_against_2                                    11\n",
      "1_offsides                                         2\n",
      "2_offsides                                         2\n",
      "1_passes                                         460\n",
      "2_passes                                         446\n",
      "1_passes_compeletd                               377\n",
      "2_passes_compeletd                               361\n",
      "1_corners                                          5\n",
      "2_corners                                          2\n",
      "1_free_kicks                                      12\n",
      "2_free_kicks                                      20\n",
      "1_panelties_scored                                 0\n",
      "2_panelties_scored                                 0\n",
      "1_goal_prevented                                  12\n",
      "2_goal_prevented                                   9\n",
      "1_own_goal                                         0\n",
      "2_own_goal                                         0\n",
      "1_forced_turnovers                                92\n",
      "2_forced_turnovers                                84\n",
      "1_defensive_pressure_applied                     248\n",
      "2_defensive_pressure_applied                     293\n",
      "Name: 45, dtype: object\n",
      "0\n",
      "match_no                                               46\n",
      "day_of_week                                           Fri\n",
      "date                                             2-Dec-22\n",
      "hour                                                16:00\n",
      "venue                              Education City Stadium\n",
      "referee                                     Facundo Tello\n",
      "group                                             Group H\n",
      "1                                          Korea Republic\n",
      "2                                                Portugal\n",
      "attendance                                          44097\n",
      "1_xg                                                  1.7\n",
      "2_xg                                                  1.3\n",
      "1_poss                                                 39\n",
      "2_poss                                                 61\n",
      "1_goals                                                 2\n",
      "2_goals                                                 1\n",
      "score                                                 2,1\n",
      "1_attempts                                             12\n",
      "2_attempts                                             12\n",
      "1_conceded                                              1\n",
      "2_conceded                                              2\n",
      "1_goal_inside_penalty_area                              2\n",
      "2_goal_inside_penalty_area                              1\n",
      "1_goal_outside_penalty_area                             0\n",
      "2_goal_outside_penalty_area                             0\n",
      "1_ontarget                                              6\n",
      "2_ontarget                                              4\n",
      "1_offtarget                                             4\n",
      "2_offtarget                                             6\n",
      "1_attempts_inside_penalty_area                          6\n",
      "2_attempts_inside_penalty_area                          5\n",
      "1_attempts_outside_penalty_area                         6\n",
      "2_attempts_outside_penalty_area                         7\n",
      "1_yellow_cards                                          2\n",
      "2_yellow_cards                                          0\n",
      "1_red_cards                                             0\n",
      "2_red_cards                                             0\n",
      "faul_against_1                                          9\n",
      "faul_against_2                                         11\n",
      "1_offsides                                              1\n",
      "2_offsides                                              5\n",
      "1_passes                                              359\n",
      "2_passes                                              606\n",
      "1_passes_compeletd                                    304\n",
      "2_passes_compeletd                                    541\n",
      "1_corners                                               5\n",
      "2_corners                                               4\n",
      "1_free_kicks                                           15\n",
      "2_free_kicks                                           10\n",
      "1_panelties_scored                                      0\n",
      "2_panelties_scored                                      0\n",
      "1_goal_prevented                                       14\n",
      "2_goal_prevented                                       12\n",
      "1_own_goal                                              0\n",
      "2_own_goal                                              0\n",
      "1_forced_turnovers                                     54\n",
      "2_forced_turnovers                                     50\n",
      "1_defensive_pressure_applied                          359\n",
      "2_defensive_pressure_applied                          233\n",
      "Name: 46, dtype: object\n",
      "0\n",
      "match_no                                           47\n",
      "day_of_week                                       Fri\n",
      "date                                         2-Dec-22\n",
      "hour                                            20:00\n",
      "venue                                     Stadium 974\n",
      "referee                            Fernando Rapallini\n",
      "group                                         Group G\n",
      "1                                              Serbia\n",
      "2                                         Switzerland\n",
      "attendance                                      41378\n",
      "1_xg                                              1.3\n",
      "2_xg                                              2.7\n",
      "1_poss                                             54\n",
      "2_poss                                             46\n",
      "1_goals                                             2\n",
      "2_goals                                             3\n",
      "score                                             2,3\n",
      "1_attempts                                         11\n",
      "2_attempts                                         14\n",
      "1_conceded                                          3\n",
      "2_conceded                                          2\n",
      "1_goal_inside_penalty_area                          2\n",
      "2_goal_inside_penalty_area                          3\n",
      "1_goal_outside_penalty_area                         0\n",
      "2_goal_outside_penalty_area                         0\n",
      "1_ontarget                                          4\n",
      "2_ontarget                                          7\n",
      "1_offtarget                                         6\n",
      "2_offtarget                                         3\n",
      "1_attempts_inside_penalty_area                     10\n",
      "2_attempts_inside_penalty_area                     10\n",
      "1_attempts_outside_penalty_area                     1\n",
      "2_attempts_outside_penalty_area                     4\n",
      "1_yellow_cards                                      7\n",
      "2_yellow_cards                                      4\n",
      "1_red_cards                                         0\n",
      "2_red_cards                                         0\n",
      "faul_against_1                                     18\n",
      "faul_against_2                                     13\n",
      "1_offsides                                          0\n",
      "2_offsides                                          0\n",
      "1_passes                                          476\n",
      "2_passes                                          403\n",
      "1_passes_compeletd                                390\n",
      "2_passes_compeletd                                325\n",
      "1_corners                                           2\n",
      "2_corners                                           0\n",
      "1_free_kicks                                       14\n",
      "2_free_kicks                                       18\n",
      "1_panelties_scored                                  0\n",
      "2_panelties_scored                                  0\n",
      "1_goal_prevented                                   14\n",
      "2_goal_prevented                                   10\n",
      "1_own_goal                                          0\n",
      "2_own_goal                                          0\n",
      "1_forced_turnovers                                 74\n",
      "2_forced_turnovers                                 82\n",
      "1_defensive_pressure_applied                      276\n",
      "2_defensive_pressure_applied                      253\n",
      "Name: 47, dtype: object\n",
      "0\n",
      "match_no                                              48\n",
      "day_of_week                                          Fri\n",
      "date                                            2-Dec-22\n",
      "hour                                               20:00\n",
      "venue                              Lusail Iconic Stadium\n",
      "referee                                    Ismail Elfath\n",
      "group                                            Group G\n",
      "1                                               Cameroon\n",
      "2                                                 Brazil\n",
      "attendance                                         85986\n",
      "1_xg                                                 0.5\n",
      "2_xg                                                 2.5\n",
      "1_poss                                                35\n",
      "2_poss                                                65\n",
      "1_goals                                                1\n",
      "2_goals                                                0\n",
      "score                                                1,0\n",
      "1_attempts                                             7\n",
      "2_attempts                                            19\n",
      "1_conceded                                             0\n",
      "2_conceded                                             1\n",
      "1_goal_inside_penalty_area                             1\n",
      "2_goal_inside_penalty_area                             0\n",
      "1_goal_outside_penalty_area                            0\n",
      "2_goal_outside_penalty_area                            0\n",
      "1_ontarget                                             3\n",
      "2_ontarget                                             6\n",
      "1_offtarget                                            3\n",
      "2_offtarget                                           11\n",
      "1_attempts_inside_penalty_area                         5\n",
      "2_attempts_inside_penalty_area                        14\n",
      "1_attempts_outside_penalty_area                        2\n",
      "2_attempts_outside_penalty_area                        5\n",
      "1_yellow_cards                                         5\n",
      "2_yellow_cards                                         2\n",
      "1_red_cards                                            1\n",
      "2_red_cards                                            0\n",
      "faul_against_1                                        14\n",
      "faul_against_2                                        14\n",
      "1_offsides                                             0\n",
      "2_offsides                                             1\n",
      "1_passes                                             295\n",
      "2_passes                                             548\n",
      "1_passes_compeletd                                   239\n",
      "2_passes_compeletd                                   491\n",
      "1_corners                                              3\n",
      "2_corners                                             11\n",
      "1_free_kicks                                          15\n",
      "2_free_kicks                                          14\n",
      "1_panelties_scored                                     0\n",
      "2_panelties_scored                                     0\n",
      "1_goal_prevented                                      20\n",
      "2_goal_prevented                                       7\n",
      "1_own_goal                                             0\n",
      "2_own_goal                                             0\n",
      "1_forced_turnovers                                    78\n",
      "2_forced_turnovers                                    54\n",
      "1_defensive_pressure_applied                         321\n",
      "2_defensive_pressure_applied                         226\n",
      "Name: 48, dtype: object\n",
      "0\n",
      "match_no                                                      49\n",
      "day_of_week                                                  Sat\n",
      "date                                                    3-Dec-22\n",
      "hour                                                       16:00\n",
      "venue                              Khalifa International Stadium\n",
      "referee                                           Wilton Sampaio\n",
      "group                                                Round of 16\n",
      "1                                                    Netherlands\n",
      "2                                                  United States\n",
      "attendance                                                 44846\n",
      "1_xg                                                         1.7\n",
      "2_xg                                                         1.5\n",
      "1_poss                                                        42\n",
      "2_poss                                                        58\n",
      "1_goals                                                        3\n",
      "2_goals                                                        1\n",
      "score                                                        3,1\n",
      "1_attempts                                                    11\n",
      "2_attempts                                                    18\n",
      "1_conceded                                                     1\n",
      "2_conceded                                                     3\n",
      "1_goal_inside_penalty_area                                     3\n",
      "2_goal_inside_penalty_area                                     1\n",
      "1_goal_outside_penalty_area                                    0\n",
      "2_goal_outside_penalty_area                                    0\n",
      "1_ontarget                                                     6\n",
      "2_ontarget                                                     7\n",
      "1_offtarget                                                    4\n",
      "2_offtarget                                                    4\n",
      "1_attempts_inside_penalty_area                                 7\n",
      "2_attempts_inside_penalty_area                                11\n",
      "1_attempts_outside_penalty_area                                4\n",
      "2_attempts_outside_penalty_area                                7\n",
      "1_yellow_cards                                                 2\n",
      "2_yellow_cards                                                 0\n",
      "1_red_cards                                                    0\n",
      "2_red_cards                                                    0\n",
      "faul_against_1                                                10\n",
      "faul_against_2                                                 5\n",
      "1_offsides                                                     0\n",
      "2_offsides                                                     3\n",
      "1_passes                                                     396\n",
      "2_passes                                                     567\n",
      "1_passes_compeletd                                           320\n",
      "2_passes_compeletd                                           487\n",
      "1_corners                                                      4\n",
      "2_corners                                                      5\n",
      "1_free_kicks                                                   8\n",
      "2_free_kicks                                                  10\n",
      "1_panelties_scored                                             0\n",
      "2_panelties_scored                                             0\n",
      "1_goal_prevented                                              18\n",
      "2_goal_prevented                                              13\n",
      "1_own_goal                                                     0\n",
      "2_own_goal                                                     0\n",
      "1_forced_turnovers                                           101\n",
      "2_forced_turnovers                                            77\n",
      "1_defensive_pressure_applied                                 325\n",
      "2_defensive_pressure_applied                                 256\n",
      "Name: 49, dtype: object\n",
      "0\n",
      "match_no                                              50\n",
      "day_of_week                                          Sat\n",
      "date                                            3-Dec-22\n",
      "hour                                               20:00\n",
      "venue                              Ahmed bin Ali Stadium\n",
      "referee                                 Szymon Marciniak\n",
      "group                                        Round of 16\n",
      "1                                              Argentina\n",
      "2                                              Australia\n",
      "attendance                                         45032\n",
      "1_xg                                                 1.6\n",
      "2_xg                                                 0.6\n",
      "1_poss                                                60\n",
      "2_poss                                                40\n",
      "1_goals                                                2\n",
      "2_goals                                                1\n",
      "score                                                2,1\n",
      "1_attempts                                            14\n",
      "2_attempts                                             5\n",
      "1_conceded                                             1\n",
      "2_conceded                                             2\n",
      "1_goal_inside_penalty_area                             2\n",
      "2_goal_inside_penalty_area                             0\n",
      "1_goal_outside_penalty_area                            0\n",
      "2_goal_outside_penalty_area                            0\n",
      "1_ontarget                                             5\n",
      "2_ontarget                                             2\n",
      "1_offtarget                                            7\n",
      "2_offtarget                                            2\n",
      "1_attempts_inside_penalty_area                        11\n",
      "2_attempts_inside_penalty_area                         3\n",
      "1_attempts_outside_penalty_area                        3\n",
      "2_attempts_outside_penalty_area                        2\n",
      "1_yellow_cards                                         0\n",
      "2_yellow_cards                                         2\n",
      "1_red_cards                                            0\n",
      "2_red_cards                                            0\n",
      "faul_against_1                                         8\n",
      "faul_against_2                                        15\n",
      "1_offsides                                             4\n",
      "2_offsides                                             0\n",
      "1_passes                                             711\n",
      "2_passes                                             450\n",
      "1_passes_compeletd                                   635\n",
      "2_passes_compeletd                                   381\n",
      "1_corners                                              1\n",
      "2_corners                                              3\n",
      "1_free_kicks                                          15\n",
      "2_free_kicks                                          11\n",
      "1_panelties_scored                                     0\n",
      "2_panelties_scored                                     0\n",
      "1_goal_prevented                                       5\n",
      "2_goal_prevented                                      14\n",
      "1_own_goal                                             1\n",
      "2_own_goal                                             0\n",
      "1_forced_turnovers                                    67\n",
      "2_forced_turnovers                                    73\n",
      "1_defensive_pressure_applied                         240\n",
      "2_defensive_pressure_applied                         453\n",
      "Name: 50, dtype: object\n",
      "0\n",
      "match_no                                              51\n",
      "day_of_week                                          Sun\n",
      "date                                            4-Dec-22\n",
      "hour                                               16:00\n",
      "venue                                 Al Thumama Stadium\n",
      "referee                            Jesús Valenzuela Sáez\n",
      "group                                        Round of 16\n",
      "1                                                 France\n",
      "2                                                 Poland\n",
      "attendance                                         40989\n",
      "1_xg                                                 1.4\n",
      "2_xg                                                 1.7\n",
      "1_poss                                                55\n",
      "2_poss                                                45\n",
      "1_goals                                                3\n",
      "2_goals                                                1\n",
      "score                                                3,1\n",
      "1_attempts                                            16\n",
      "2_attempts                                            11\n",
      "1_conceded                                             1\n",
      "2_conceded                                             3\n",
      "1_goal_inside_penalty_area                             3\n",
      "2_goal_inside_penalty_area                             1\n",
      "1_goal_outside_penalty_area                            0\n",
      "2_goal_outside_penalty_area                            0\n",
      "1_ontarget                                             7\n",
      "2_ontarget                                             3\n",
      "1_offtarget                                            7\n",
      "2_offtarget                                            5\n",
      "1_attempts_inside_penalty_area                        10\n",
      "2_attempts_inside_penalty_area                         8\n",
      "1_attempts_outside_penalty_area                        6\n",
      "2_attempts_outside_penalty_area                        3\n",
      "1_yellow_cards                                         1\n",
      "2_yellow_cards                                         2\n",
      "1_red_cards                                            0\n",
      "2_red_cards                                            0\n",
      "faul_against_1                                        10\n",
      "faul_against_2                                         8\n",
      "1_offsides                                             3\n",
      "2_offsides                                             1\n",
      "1_passes                                             540\n",
      "2_passes                                             466\n",
      "1_passes_compeletd                                   481\n",
      "2_passes_compeletd                                   391\n",
      "1_corners                                              7\n",
      "2_corners                                              1\n",
      "1_free_kicks                                           8\n",
      "2_free_kicks                                          11\n",
      "1_panelties_scored                                     0\n",
      "2_panelties_scored                                     1\n",
      "1_goal_prevented                                      11\n",
      "2_goal_prevented                                      16\n",
      "1_own_goal                                             0\n",
      "2_own_goal                                             0\n",
      "1_forced_turnovers                                    71\n",
      "2_forced_turnovers                                    64\n",
      "1_defensive_pressure_applied                         220\n",
      "2_defensive_pressure_applied                         297\n",
      "Name: 51, dtype: object\n",
      "0\n",
      "match_no                                        52\n",
      "day_of_week                                    Sun\n",
      "date                                      4-Dec-22\n",
      "hour                                         20:00\n",
      "venue                              Al Bayt Stadium\n",
      "referee                                Ivan Barton\n",
      "group                                  Round of 16\n",
      "1                                          England\n",
      "2                                          Senegal\n",
      "attendance                                   65985\n",
      "1_xg                                             1\n",
      "2_xg                                           0.8\n",
      "1_poss                                          61\n",
      "2_poss                                          39\n",
      "1_goals                                          3\n",
      "2_goals                                          0\n",
      "score                                          3,0\n",
      "1_attempts                                       8\n",
      "2_attempts                                      10\n",
      "1_conceded                                       0\n",
      "2_conceded                                       3\n",
      "1_goal_inside_penalty_area                       3\n",
      "2_goal_inside_penalty_area                       0\n",
      "1_goal_outside_penalty_area                      0\n",
      "2_goal_outside_penalty_area                      0\n",
      "1_ontarget                                       4\n",
      "2_ontarget                                       2\n",
      "1_offtarget                                      4\n",
      "2_offtarget                                      6\n",
      "1_attempts_inside_penalty_area                   7\n",
      "2_attempts_inside_penalty_area                   4\n",
      "1_attempts_outside_penalty_area                  1\n",
      "2_attempts_outside_penalty_area                  6\n",
      "1_yellow_cards                                   0\n",
      "2_yellow_cards                                   1\n",
      "1_red_cards                                      0\n",
      "2_red_cards                                      0\n",
      "faul_against_1                                  16\n",
      "faul_against_2                                  12\n",
      "1_offsides                                       0\n",
      "2_offsides                                       0\n",
      "1_passes                                       597\n",
      "2_passes                                       393\n",
      "1_passes_compeletd                             523\n",
      "2_passes_compeletd                             320\n",
      "1_corners                                        3\n",
      "2_corners                                        3\n",
      "1_free_kicks                                    12\n",
      "2_free_kicks                                    16\n",
      "1_panelties_scored                               0\n",
      "2_panelties_scored                               0\n",
      "1_goal_prevented                                10\n",
      "2_goal_prevented                                 8\n",
      "1_own_goal                                       0\n",
      "2_own_goal                                       0\n",
      "1_forced_turnovers                              60\n",
      "2_forced_turnovers                              74\n",
      "1_defensive_pressure_applied                   230\n",
      "2_defensive_pressure_applied                   339\n",
      "Name: 52, dtype: object\n",
      "0\n",
      "match_no                                          53\n",
      "day_of_week                                      Mon\n",
      "date                                        5-Dec-22\n",
      "hour                                           16:00\n",
      "venue                              Al Janoub Stadium\n",
      "referee                                Ismail Elfath\n",
      "group                                    Round of 16\n",
      "1                                              Japan\n",
      "2                                            Croatia\n",
      "attendance                                     42523\n",
      "1_xg                                             1.2\n",
      "2_xg                                             1.4\n",
      "1_poss                                            42\n",
      "2_poss                                            58\n",
      "1_goals                                            1\n",
      "2_goals                                            1\n",
      "score                                    (1) 1,1 (3)\n",
      "1_attempts                                        12\n",
      "2_attempts                                        16\n",
      "1_conceded                                         1\n",
      "2_conceded                                         1\n",
      "1_goal_inside_penalty_area                         1\n",
      "2_goal_inside_penalty_area                         1\n",
      "1_goal_outside_penalty_area                        0\n",
      "2_goal_outside_penalty_area                        0\n",
      "1_ontarget                                         4\n",
      "2_ontarget                                         4\n",
      "1_offtarget                                        4\n",
      "2_offtarget                                        8\n",
      "1_attempts_inside_penalty_area                     5\n",
      "2_attempts_inside_penalty_area                     9\n",
      "1_attempts_outside_penalty_area                    7\n",
      "2_attempts_outside_penalty_area                    7\n",
      "1_yellow_cards                                     0\n",
      "2_yellow_cards                                     2\n",
      "1_red_cards                                        0\n",
      "2_red_cards                                        0\n",
      "faul_against_1                                    13\n",
      "faul_against_2                                    16\n",
      "1_offsides                                         3\n",
      "2_offsides                                         0\n",
      "1_passes                                         532\n",
      "2_passes                                         735\n",
      "1_passes_compeletd                               414\n",
      "2_passes_compeletd                               624\n",
      "1_corners                                          8\n",
      "2_corners                                          5\n",
      "1_free_kicks                                      16\n",
      "2_free_kicks                                      16\n",
      "1_panelties_scored                                 0\n",
      "2_panelties_scored                                 0\n",
      "1_goal_prevented                                  18\n",
      "2_goal_prevented                                  11\n",
      "1_own_goal                                         0\n",
      "2_own_goal                                         0\n",
      "1_forced_turnovers                               100\n",
      "2_forced_turnovers                               100\n",
      "1_defensive_pressure_applied                     405\n",
      "2_defensive_pressure_applied                     308\n",
      "Name: 53, dtype: object\n",
      "0\n",
      "match_no                                       54\n",
      "day_of_week                                   Mon\n",
      "date                                     5-Dec-22\n",
      "hour                                        20:00\n",
      "venue                                 Stadium 974\n",
      "referee                            Clement Turpin\n",
      "group                                 Round of 16\n",
      "1                                          Brazil\n",
      "2                                  Korea Republic\n",
      "attendance                                  43847\n",
      "1_xg                                          3.6\n",
      "2_xg                                          0.5\n",
      "1_poss                                         53\n",
      "2_poss                                         47\n",
      "1_goals                                         4\n",
      "2_goals                                         1\n",
      "score                                         4,1\n",
      "1_attempts                                     18\n",
      "2_attempts                                     10\n",
      "1_conceded                                      1\n",
      "2_conceded                                      4\n",
      "1_goal_inside_penalty_area                      4\n",
      "2_goal_inside_penalty_area                      0\n",
      "1_goal_outside_penalty_area                     0\n",
      "2_goal_outside_penalty_area                     1\n",
      "1_ontarget                                      9\n",
      "2_ontarget                                      6\n",
      "1_offtarget                                     8\n",
      "2_offtarget                                     2\n",
      "1_attempts_inside_penalty_area                 14\n",
      "2_attempts_inside_penalty_area                  6\n",
      "1_attempts_outside_penalty_area                 4\n",
      "2_attempts_outside_penalty_area                 4\n",
      "1_yellow_cards                                  0\n",
      "2_yellow_cards                                  1\n",
      "1_red_cards                                     0\n",
      "2_red_cards                                     0\n",
      "faul_against_1                                  8\n",
      "faul_against_2                                 13\n",
      "1_offsides                                      0\n",
      "2_offsides                                      5\n",
      "1_passes                                      616\n",
      "2_passes                                      548\n",
      "1_passes_compeletd                            556\n",
      "2_passes_compeletd                            486\n",
      "1_corners                                       5\n",
      "2_corners                                       4\n",
      "1_free_kicks                                   16\n",
      "2_free_kicks                                    8\n",
      "1_panelties_scored                              1\n",
      "2_panelties_scored                              0\n",
      "1_goal_prevented                               10\n",
      "2_goal_prevented                               18\n",
      "1_own_goal                                      0\n",
      "2_own_goal                                      0\n",
      "1_forced_turnovers                             73\n",
      "2_forced_turnovers                             81\n",
      "1_defensive_pressure_applied                  310\n",
      "2_defensive_pressure_applied                  329\n",
      "Name: 54, dtype: object\n",
      "0\n",
      "match_no                                               55\n",
      "day_of_week                                           Tue\n",
      "date                                             6-Dec-22\n",
      "hour                                                16:00\n",
      "venue                              Education City Stadium\n",
      "referee                                Fernando Rapallini\n",
      "group                                         Round of 16\n",
      "1                                                 Morocco\n",
      "2                                                   Spain\n",
      "attendance                                          44667\n",
      "1_xg                                                  0.7\n",
      "2_xg                                                    1\n",
      "1_poss                                                 24\n",
      "2_poss                                                 76\n",
      "1_goals                                                 0\n",
      "2_goals                                                 0\n",
      "score                                         (3) 0,0 (0)\n",
      "1_attempts                                              6\n",
      "2_attempts                                             13\n",
      "1_conceded                                              0\n",
      "2_conceded                                              0\n",
      "1_goal_inside_penalty_area                              0\n",
      "2_goal_inside_penalty_area                              0\n",
      "1_goal_outside_penalty_area                             0\n",
      "2_goal_outside_penalty_area                             0\n",
      "1_ontarget                                              3\n",
      "2_ontarget                                              1\n",
      "1_offtarget                                             3\n",
      "2_offtarget                                             6\n",
      "1_attempts_inside_penalty_area                          3\n",
      "2_attempts_inside_penalty_area                          9\n",
      "1_attempts_outside_penalty_area                         3\n",
      "2_attempts_outside_penalty_area                         4\n",
      "1_yellow_cards                                          1\n",
      "2_yellow_cards                                          1\n",
      "1_red_cards                                             0\n",
      "2_red_cards                                             0\n",
      "faul_against_1                                         15\n",
      "faul_against_2                                         14\n",
      "1_offsides                                              5\n",
      "2_offsides                                              4\n",
      "1_passes                                              323\n",
      "2_passes                                             1041\n",
      "1_passes_compeletd                                    229\n",
      "2_passes_compeletd                                    967\n",
      "1_corners                                               0\n",
      "2_corners                                               8\n",
      "1_free_kicks                                           18\n",
      "2_free_kicks                                           20\n",
      "1_panelties_scored                                      0\n",
      "2_panelties_scored                                      0\n",
      "1_goal_prevented                                       14\n",
      "2_goal_prevented                                        6\n",
      "1_own_goal                                              0\n",
      "2_own_goal                                              0\n",
      "1_forced_turnovers                                    100\n",
      "2_forced_turnovers                                     66\n",
      "1_defensive_pressure_applied                          573\n",
      "2_defensive_pressure_applied                          217\n",
      "Name: 55, dtype: object\n",
      "0\n",
      "match_no                                              56\n",
      "day_of_week                                          Tue\n",
      "date                                            6-Dec-22\n",
      "hour                                               20:00\n",
      "venue                              Lusail Iconic Stadium\n",
      "referee                                      Cesar Ramos\n",
      "group                                        Round of 16\n",
      "1                                               Portugal\n",
      "2                                            Switzerland\n",
      "attendance                                         83720\n",
      "1_xg                                                 2.3\n",
      "2_xg                                                 1.2\n",
      "1_poss                                                47\n",
      "2_poss                                                53\n",
      "1_goals                                                6\n",
      "2_goals                                                1\n",
      "score                                                6,1\n",
      "1_attempts                                            14\n",
      "2_attempts                                            10\n",
      "1_conceded                                             1\n",
      "2_conceded                                             6\n",
      "1_goal_inside_penalty_area                             6\n",
      "2_goal_inside_penalty_area                             1\n",
      "1_goal_outside_penalty_area                            0\n",
      "2_goal_outside_penalty_area                            0\n",
      "1_ontarget                                             9\n",
      "2_ontarget                                             1\n",
      "1_offtarget                                            2\n",
      "2_offtarget                                            7\n",
      "1_attempts_inside_penalty_area                         9\n",
      "2_attempts_inside_penalty_area                         5\n",
      "1_attempts_outside_penalty_area                        5\n",
      "2_attempts_outside_penalty_area                        5\n",
      "1_yellow_cards                                         0\n",
      "2_yellow_cards                                         2\n",
      "1_red_cards                                            0\n",
      "2_red_cards                                            0\n",
      "faul_against_1                                        12\n",
      "faul_against_2                                        10\n",
      "1_offsides                                             3\n",
      "2_offsides                                             3\n",
      "1_passes                                             461\n",
      "2_passes                                             512\n",
      "1_passes_compeletd                                   392\n",
      "2_passes_compeletd                                   436\n",
      "1_corners                                              6\n",
      "2_corners                                              6\n",
      "1_free_kicks                                          13\n",
      "2_free_kicks                                          15\n",
      "1_panelties_scored                                     0\n",
      "2_panelties_scored                                     0\n",
      "1_goal_prevented                                      10\n",
      "2_goal_prevented                                      15\n",
      "1_own_goal                                             0\n",
      "2_own_goal                                             0\n",
      "1_forced_turnovers                                    71\n",
      "2_forced_turnovers                                    54\n",
      "1_defensive_pressure_applied                         357\n",
      "2_defensive_pressure_applied                         240\n",
      "Name: 56, dtype: object\n",
      "0\n",
      "match_no                                               57\n",
      "day_of_week                                           Fri\n",
      "date                                             9-Dec-22\n",
      "hour                                                16:00\n",
      "venue                              Education City Stadium\n",
      "referee                                    Michael Oliver\n",
      "group                                       Quarter-final\n",
      "1                                                 Croatia\n",
      "2                                                  Brazil\n",
      "attendance                                          43893\n",
      "1_xg                                                  0.6\n",
      "2_xg                                                  2.5\n",
      "1_poss                                                 50\n",
      "2_poss                                                 50\n",
      "1_goals                                                 1\n",
      "2_goals                                                 1\n",
      "score                                         (4) 1,1 (2)\n",
      "1_attempts                                              9\n",
      "2_attempts                                             20\n",
      "1_conceded                                              1\n",
      "2_conceded                                              1\n",
      "1_goal_inside_penalty_area                              1\n",
      "2_goal_inside_penalty_area                              1\n",
      "1_goal_outside_penalty_area                             0\n",
      "2_goal_outside_penalty_area                             0\n",
      "1_ontarget                                              1\n",
      "2_ontarget                                             11\n",
      "1_offtarget                                             4\n",
      "2_offtarget                                             4\n",
      "1_attempts_inside_penalty_area                          5\n",
      "2_attempts_inside_penalty_area                         12\n",
      "1_attempts_outside_penalty_area                         4\n",
      "2_attempts_outside_penalty_area                         8\n",
      "1_yellow_cards                                          2\n",
      "2_yellow_cards                                          3\n",
      "1_red_cards                                             0\n",
      "2_red_cards                                             0\n",
      "faul_against_1                                         22\n",
      "faul_against_2                                         24\n",
      "1_offsides                                              3\n",
      "2_offsides                                              3\n",
      "1_passes                                              715\n",
      "2_passes                                              695\n",
      "1_passes_compeletd                                    632\n",
      "2_passes_compeletd                                    625\n",
      "1_corners                                               3\n",
      "2_corners                                               7\n",
      "1_free_kicks                                           27\n",
      "2_free_kicks                                           25\n",
      "1_panelties_scored                                      0\n",
      "2_panelties_scored                                      0\n",
      "1_goal_prevented                                       21\n",
      "2_goal_prevented                                        9\n",
      "1_own_goal                                              0\n",
      "2_own_goal                                              0\n",
      "1_forced_turnovers                                     95\n",
      "2_forced_turnovers                                     77\n",
      "1_defensive_pressure_applied                          365\n",
      "2_defensive_pressure_applied                          423\n",
      "Name: 57, dtype: object\n",
      "0\n",
      "match_no                                              58\n",
      "day_of_week                                          Fri\n",
      "date                                            9-Dec-22\n",
      "hour                                               20:00\n",
      "venue                              Lusail Iconic Stadium\n",
      "referee                              Antonio Mateu Lahoz\n",
      "group                                      Quarter-final\n",
      "1                                            Netherlands\n",
      "2                                              Argentina\n",
      "attendance                                         88235\n",
      "1_xg                                                 0.6\n",
      "2_xg                                                 1.9\n",
      "1_poss                                                52\n",
      "2_poss                                                48\n",
      "1_goals                                                2\n",
      "2_goals                                                2\n",
      "score                                        (3) 2,2 (4)\n",
      "1_attempts                                             5\n",
      "2_attempts                                            15\n",
      "1_conceded                                             2\n",
      "2_conceded                                             2\n",
      "1_goal_inside_penalty_area                             2\n",
      "2_goal_inside_penalty_area                             2\n",
      "1_goal_outside_penalty_area                            0\n",
      "2_goal_outside_penalty_area                            0\n",
      "1_ontarget                                             2\n",
      "2_ontarget                                             6\n",
      "1_offtarget                                            2\n",
      "2_offtarget                                            8\n",
      "1_attempts_inside_penalty_area                         3\n",
      "2_attempts_inside_penalty_area                         5\n",
      "1_attempts_outside_penalty_area                        2\n",
      "2_attempts_outside_penalty_area                       10\n",
      "1_yellow_cards                                         4\n",
      "2_yellow_cards                                         8\n",
      "1_red_cards                                            0\n",
      "2_red_cards                                            0\n",
      "faul_against_1                                        30\n",
      "faul_against_2                                        18\n",
      "1_offsides                                             1\n",
      "2_offsides                                             2\n",
      "1_passes                                             651\n",
      "2_passes                                             603\n",
      "1_passes_compeletd                                   557\n",
      "2_passes_compeletd                                   511\n",
      "1_corners                                              2\n",
      "2_corners                                              8\n",
      "1_free_kicks                                          20\n",
      "2_free_kicks                                          30\n",
      "1_panelties_scored                                     0\n",
      "2_panelties_scored                                     1\n",
      "1_goal_prevented                                      15\n",
      "2_goal_prevented                                       5\n",
      "1_own_goal                                             0\n",
      "2_own_goal                                             0\n",
      "1_forced_turnovers                                    91\n",
      "2_forced_turnovers                                    79\n",
      "1_defensive_pressure_applied                         401\n",
      "2_defensive_pressure_applied                         323\n",
      "Name: 58, dtype: object\n",
      "0\n",
      "match_no                                           59\n",
      "day_of_week                                       Sat\n",
      "date                                        10-Dec-22\n",
      "hour                                            16:00\n",
      "venue                              Al Thumama Stadium\n",
      "referee                                 Facundo Tello\n",
      "group                                   Quarter-final\n",
      "1                                             Morocco\n",
      "2                                            Portugal\n",
      "attendance                                      44198\n",
      "1_xg                                              1.4\n",
      "2_xg                                              0.9\n",
      "1_poss                                             27\n",
      "2_poss                                             73\n",
      "1_goals                                             1\n",
      "2_goals                                             0\n",
      "score                                             1,0\n",
      "1_attempts                                          9\n",
      "2_attempts                                         11\n",
      "1_conceded                                          0\n",
      "2_conceded                                          1\n",
      "1_goal_inside_penalty_area                          1\n",
      "2_goal_inside_penalty_area                          0\n",
      "1_goal_outside_penalty_area                         0\n",
      "2_goal_outside_penalty_area                         0\n",
      "1_ontarget                                          3\n",
      "2_ontarget                                          3\n",
      "1_offtarget                                         6\n",
      "2_offtarget                                         6\n",
      "1_attempts_inside_penalty_area                      5\n",
      "2_attempts_inside_penalty_area                      7\n",
      "1_attempts_outside_penalty_area                     4\n",
      "2_attempts_outside_penalty_area                     4\n",
      "1_yellow_cards                                      3\n",
      "2_yellow_cards                                      1\n",
      "1_red_cards                                         1\n",
      "2_red_cards                                         0\n",
      "faul_against_1                                     15\n",
      "faul_against_2                                      9\n",
      "1_offsides                                          2\n",
      "2_offsides                                          2\n",
      "1_passes                                          229\n",
      "2_passes                                          678\n",
      "1_passes_compeletd                                171\n",
      "2_passes_compeletd                                592\n",
      "1_corners                                           3\n",
      "2_corners                                           9\n",
      "1_free_kicks                                       11\n",
      "2_free_kicks                                       17\n",
      "1_panelties_scored                                  0\n",
      "2_panelties_scored                                  0\n",
      "1_goal_prevented                                   11\n",
      "2_goal_prevented                                   10\n",
      "1_own_goal                                          0\n",
      "2_own_goal                                          0\n",
      "1_forced_turnovers                                 88\n",
      "2_forced_turnovers                                 44\n",
      "1_defensive_pressure_applied                      373\n",
      "2_defensive_pressure_applied                      165\n",
      "Name: 59, dtype: object\n",
      "0\n",
      "match_no                                        60\n",
      "day_of_week                                    Sat\n",
      "date                                     10-Dec-22\n",
      "hour                                         20:00\n",
      "venue                              Al Bayt Stadium\n",
      "referee                             Wilton Sampaio\n",
      "group                                Quarter-final\n",
      "1                                          England\n",
      "2                                           France\n",
      "attendance                                   68895\n",
      "1_xg                                           2.4\n",
      "2_xg                                           0.9\n",
      "1_poss                                          57\n",
      "2_poss                                          43\n",
      "1_goals                                          1\n",
      "2_goals                                          2\n",
      "score                                          1,2\n",
      "1_attempts                                      14\n",
      "2_attempts                                       9\n",
      "1_conceded                                       2\n",
      "2_conceded                                       1\n",
      "1_goal_inside_penalty_area                       1\n",
      "2_goal_inside_penalty_area                       1\n",
      "1_goal_outside_penalty_area                      0\n",
      "2_goal_outside_penalty_area                      1\n",
      "1_ontarget                                       6\n",
      "2_ontarget                                       5\n",
      "1_offtarget                                      4\n",
      "2_offtarget                                      3\n",
      "1_attempts_inside_penalty_area                   6\n",
      "2_attempts_inside_penalty_area                   6\n",
      "1_attempts_outside_penalty_area                  8\n",
      "2_attempts_outside_penalty_area                  3\n",
      "1_yellow_cards                                   1\n",
      "2_yellow_cards                                   3\n",
      "1_red_cards                                      0\n",
      "2_red_cards                                      0\n",
      "faul_against_1                                  10\n",
      "faul_against_2                                  14\n",
      "1_offsides                                       1\n",
      "2_offsides                                       2\n",
      "1_passes                                       508\n",
      "2_passes                                       369\n",
      "1_passes_compeletd                             453\n",
      "2_passes_compeletd                             310\n",
      "1_corners                                        5\n",
      "2_corners                                        2\n",
      "1_free_kicks                                    14\n",
      "2_free_kicks                                    11\n",
      "1_panelties_scored                               1\n",
      "2_panelties_scored                               0\n",
      "1_goal_prevented                                 9\n",
      "2_goal_prevented                                15\n",
      "1_own_goal                                       0\n",
      "2_own_goal                                       0\n",
      "1_forced_turnovers                              49\n",
      "2_forced_turnovers                              54\n",
      "1_defensive_pressure_applied                   193\n",
      "2_defensive_pressure_applied                   308\n",
      "Name: 60, dtype: object\n",
      "0\n",
      "match_no                                              61\n",
      "day_of_week                                          Tue\n",
      "date                                           13-Dec-22\n",
      "hour                                               20:00\n",
      "venue                              Lusail Iconic Stadium\n",
      "referee                                   Daniele Orsato\n",
      "group                                         Semi-Final\n",
      "1                                              Argentina\n",
      "2                                                Croatia\n",
      "attendance                                         88966\n",
      "1_xg                                                 2.3\n",
      "2_xg                                                 0.5\n",
      "1_poss                                                40\n",
      "2_poss                                                60\n",
      "1_goals                                                3\n",
      "2_goals                                                0\n",
      "score                                                3,0\n",
      "1_attempts                                            10\n",
      "2_attempts                                            12\n",
      "1_conceded                                             0\n",
      "2_conceded                                             3\n",
      "1_goal_inside_penalty_area                             3\n",
      "2_goal_inside_penalty_area                             0\n",
      "1_goal_outside_penalty_area                            0\n",
      "2_goal_outside_penalty_area                            0\n",
      "1_ontarget                                             7\n",
      "2_ontarget                                             3\n",
      "1_offtarget                                            2\n",
      "2_offtarget                                            7\n",
      "1_attempts_inside_penalty_area                         7\n",
      "2_attempts_inside_penalty_area                         6\n",
      "1_attempts_outside_penalty_area                        3\n",
      "2_attempts_outside_penalty_area                        6\n",
      "1_yellow_cards                                         2\n",
      "2_yellow_cards                                         2\n",
      "1_red_cards                                            0\n",
      "2_red_cards                                            0\n",
      "faul_against_1                                        15\n",
      "faul_against_2                                         8\n",
      "1_offsides                                             1\n",
      "2_offsides                                             0\n",
      "1_passes                                             408\n",
      "2_passes                                             624\n",
      "1_passes_compeletd                                   344\n",
      "2_passes_compeletd                                   551\n",
      "1_corners                                              2\n",
      "2_corners                                              4\n",
      "1_free_kicks                                           6\n",
      "2_free_kicks                                          16\n",
      "1_panelties_scored                                     1\n",
      "2_panelties_scored                                     0\n",
      "1_goal_prevented                                      12\n",
      "2_goal_prevented                                      10\n",
      "1_own_goal                                             0\n",
      "2_own_goal                                             0\n",
      "1_forced_turnovers                                    85\n",
      "2_forced_turnovers                                    63\n",
      "1_defensive_pressure_applied                         321\n",
      "2_defensive_pressure_applied                         260\n",
      "Name: 61, dtype: object\n",
      "0\n",
      "match_no                                        62\n",
      "day_of_week                                    Wed\n",
      "date                                     14-Dec-22\n",
      "hour                                         20:00\n",
      "venue                              Al Bayt Stadium\n",
      "referee                                Cesar Ramos\n",
      "group                                   Semi-Final\n",
      "1                                           France\n",
      "2                                          Morocco\n",
      "attendance                                   68294\n",
      "1_xg                                           1.9\n",
      "2_xg                                           0.9\n",
      "1_poss                                          39\n",
      "2_poss                                          61\n",
      "1_goals                                          2\n",
      "2_goals                                          0\n",
      "score                                          2,0\n",
      "1_attempts                                      14\n",
      "2_attempts                                      13\n",
      "1_conceded                                       0\n",
      "2_conceded                                       2\n",
      "1_goal_inside_penalty_area                       2\n",
      "2_goal_inside_penalty_area                       0\n",
      "1_goal_outside_penalty_area                      0\n",
      "2_goal_outside_penalty_area                      0\n",
      "1_ontarget                                       2\n",
      "2_ontarget                                       1\n",
      "1_offtarget                                      8\n",
      "2_offtarget                                      6\n",
      "1_attempts_inside_penalty_area                  12\n",
      "2_attempts_inside_penalty_area                   8\n",
      "1_attempts_outside_penalty_area                  2\n",
      "2_attempts_outside_penalty_area                  5\n",
      "1_yellow_cards                                   0\n",
      "2_yellow_cards                                   1\n",
      "1_red_cards                                      0\n",
      "2_red_cards                                      0\n",
      "faul_against_1                                  11\n",
      "faul_against_2                                  11\n",
      "1_offsides                                       4\n",
      "2_offsides                                       3\n",
      "1_passes                                       358\n",
      "2_passes                                       583\n",
      "1_passes_compeletd                             307\n",
      "2_passes_compeletd                             518\n",
      "1_corners                                        2\n",
      "2_corners                                        3\n",
      "1_free_kicks                                    13\n",
      "2_free_kicks                                    15\n",
      "1_panelties_scored                               0\n",
      "2_panelties_scored                               0\n",
      "1_goal_prevented                                13\n",
      "2_goal_prevented                                14\n",
      "1_own_goal                                       0\n",
      "2_own_goal                                       0\n",
      "1_forced_turnovers                              72\n",
      "2_forced_turnovers                              47\n",
      "1_defensive_pressure_applied                   328\n",
      "2_defensive_pressure_applied                   218\n",
      "Name: 62, dtype: object\n",
      "0\n",
      "match_no                                                      63\n",
      "day_of_week                                                  Sat\n",
      "date                                                   17-Dec-22\n",
      "hour                                                       16:00\n",
      "venue                              Khalifa International Stadium\n",
      "referee                            Abdulrahman Ibrahim Al Jassim\n",
      "group                                   Play-off for third place\n",
      "1                                                        Croatia\n",
      "2                                                        Morocco\n",
      "attendance                                                 44137\n",
      "1_xg                                                         0.7\n",
      "2_xg                                                         1.2\n",
      "1_poss                                                        50\n",
      "2_poss                                                        50\n",
      "1_goals                                                        2\n",
      "2_goals                                                        1\n",
      "score                                                          3\n",
      "1_attempts                                                    14\n",
      "2_attempts                                                     7\n",
      "1_conceded                                                     1\n",
      "2_conceded                                                     2\n",
      "1_goal_inside_penalty_area                                     2\n",
      "2_goal_inside_penalty_area                                     1\n",
      "1_goal_outside_penalty_area                                    0\n",
      "2_goal_outside_penalty_area                                    0\n",
      "1_ontarget                                                     4\n",
      "2_ontarget                                                     2\n",
      "1_offtarget                                                    8\n",
      "2_offtarget                                                    5\n",
      "1_attempts_inside_penalty_area                                 7\n",
      "2_attempts_inside_penalty_area                                 5\n",
      "1_attempts_outside_penalty_area                                7\n",
      "2_attempts_outside_penalty_area                                2\n",
      "1_yellow_cards                                                 0\n",
      "2_yellow_cards                                                 2\n",
      "1_red_cards                                                    0\n",
      "2_red_cards                                                    0\n",
      "faul_against_1                                                13\n",
      "faul_against_2                                                11\n",
      "1_offsides                                                     2\n",
      "2_offsides                                                     2\n",
      "1_passes                                                     491\n",
      "2_passes                                                     494\n",
      "1_passes_compeletd                                           430\n",
      "2_passes_compeletd                                           428\n",
      "1_corners                                                      6\n",
      "2_corners                                                      3\n",
      "1_free_kicks                                                  13\n",
      "2_free_kicks                                                  15\n",
      "1_panelties_scored                                             0\n",
      "2_panelties_scored                                             0\n",
      "1_goal_prevented                                               7\n",
      "2_goal_prevented                                              14\n",
      "1_own_goal                                                     0\n",
      "2_own_goal                                                     0\n",
      "1_forced_turnovers                                            75\n",
      "2_forced_turnovers                                            72\n",
      "1_defensive_pressure_applied                                 288\n",
      "2_defensive_pressure_applied                                 277\n",
      "Name: 63, dtype: object\n",
      "0\n",
      "match_no                                              64\n",
      "day_of_week                                          Sun\n",
      "date                                           18-Dec-22\n",
      "hour                                               16:00\n",
      "venue                              Lusail Iconic Stadium\n",
      "referee                                 Szymon Marciniak\n",
      "group                                              Final\n",
      "1                                              Argentina\n",
      "2                                                 France\n",
      "attendance                                         88966\n",
      "1_xg                                                 3.3\n",
      "2_xg                                                 2.2\n",
      "1_poss                                                54\n",
      "2_poss                                                46\n",
      "1_goals                                                3\n",
      "2_goals                                                3\n",
      "score                                                  3\n",
      "1_attempts                                            21\n",
      "2_attempts                                            10\n",
      "1_conceded                                             3\n",
      "2_conceded                                             3\n",
      "1_goal_inside_penalty_area                             3\n",
      "2_goal_inside_penalty_area                             3\n",
      "1_goal_outside_penalty_area                            0\n",
      "2_goal_outside_penalty_area                            0\n",
      "1_ontarget                                             9\n",
      "2_ontarget                                             5\n",
      "1_offtarget                                            9\n",
      "2_offtarget                                            3\n",
      "1_attempts_inside_penalty_area                        10\n",
      "2_attempts_inside_penalty_area                         7\n",
      "1_attempts_outside_penalty_area                       11\n",
      "2_attempts_outside_penalty_area                        3\n",
      "1_yellow_cards                                         4\n",
      "2_yellow_cards                                         3\n",
      "1_red_cards                                            0\n",
      "2_red_cards                                            0\n",
      "faul_against_1                                        26\n",
      "faul_against_2                                        19\n",
      "1_offsides                                             4\n",
      "2_offsides                                             4\n",
      "1_passes                                             648\n",
      "2_passes                                             516\n",
      "1_passes_compeletd                                   544\n",
      "2_passes_compeletd                                   419\n",
      "1_corners                                              6\n",
      "2_corners                                              5\n",
      "1_free_kicks                                          22\n",
      "2_free_kicks                                          28\n",
      "1_panelties_scored                                     1\n",
      "2_panelties_scored                                     2\n",
      "1_goal_prevented                                      11\n",
      "2_goal_prevented                                      21\n",
      "1_own_goal                                             0\n",
      "2_own_goal                                             0\n",
      "1_forced_turnovers                                    87\n",
      "2_forced_turnovers                                   104\n",
      "1_defensive_pressure_applied                         280\n",
      "2_defensive_pressure_applied                         409\n",
      "Name: 64, dtype: object\n"
     ]
    }
   ],
   "source": [
    "for x,y in matches_fifa_wc2022.iterrows():\n",
    "    print(y)"
   ]
  },
  {
   "attachments": {},
   "cell_type": "markdown",
   "metadata": {},
   "source": [
    "## PLAYERS"
   ]
  },
  {
   "cell_type": "code",
<<<<<<< HEAD
   "execution_count": null,
=======
   "execution_count": 64,
>>>>>>> d20e0f0c979d08449127054dcb41934fa686c483
   "metadata": {},
   "outputs": [
    {
     "data": {
      "text/html": [
       "<div>\n",
       "<style scoped>\n",
       "    .dataframe tbody tr th:only-of-type {\n",
       "        vertical-align: middle;\n",
       "    }\n",
       "\n",
       "    .dataframe tbody tr th {\n",
       "        vertical-align: top;\n",
       "    }\n",
       "\n",
       "    .dataframe thead th {\n",
       "        text-align: right;\n",
       "    }\n",
       "</style>\n",
       "<table border=\"1\" class=\"dataframe\">\n",
       "  <thead>\n",
       "    <tr style=\"text-align: right;\">\n",
       "      <th></th>\n",
       "      <th>player</th>\n",
       "      <th>position</th>\n",
       "      <th>team</th>\n",
       "      <th>age</th>\n",
       "      <th>age2</th>\n",
       "      <th>club</th>\n",
       "      <th>birth_year</th>\n",
       "      <th>games</th>\n",
       "      <th>games_starts</th>\n",
       "      <th>minutes</th>\n",
       "      <th>minutes_90s</th>\n",
       "      <th>goals</th>\n",
       "      <th>assists</th>\n",
       "      <th>goals_pens</th>\n",
       "      <th>pens_made</th>\n",
       "      <th>pens_att</th>\n",
       "      <th>cards_yellow</th>\n",
       "      <th>cards_red</th>\n",
       "      <th>goals_per90</th>\n",
       "      <th>assists_per90</th>\n",
       "      <th>goals_assists_per90</th>\n",
       "      <th>goals_pens_per90</th>\n",
       "      <th>goals_assists_pens_per90</th>\n",
       "      <th>xg</th>\n",
       "      <th>npxg</th>\n",
       "      <th>xg_assist</th>\n",
       "      <th>npxg_xg_assist</th>\n",
       "      <th>xg_per90</th>\n",
       "      <th>xg_assist_per90</th>\n",
       "      <th>xg_xg_assist_per90</th>\n",
       "      <th>npxg_per90</th>\n",
       "      <th>npxg_xg_assist_per90</th>\n",
       "    </tr>\n",
       "  </thead>\n",
       "  <tbody>\n",
       "    <tr>\n",
       "      <th>0</th>\n",
       "      <td>Aaron Mooy</td>\n",
       "      <td>MF</td>\n",
       "      <td>Australia</td>\n",
       "      <td>32-094</td>\n",
       "      <td>32</td>\n",
       "      <td>Celtic</td>\n",
       "      <td>1990</td>\n",
       "      <td>4</td>\n",
       "      <td>4</td>\n",
       "      <td>360</td>\n",
       "      <td>4</td>\n",
       "      <td>0</td>\n",
       "      <td>0</td>\n",
       "      <td>0</td>\n",
       "      <td>0</td>\n",
       "      <td>0</td>\n",
       "      <td>1</td>\n",
       "      <td>0</td>\n",
       "      <td>0</td>\n",
       "      <td>0</td>\n",
       "      <td>0</td>\n",
       "      <td>0</td>\n",
       "      <td>0</td>\n",
       "      <td>0.0</td>\n",
       "      <td>0.0</td>\n",
       "      <td>1.0</td>\n",
       "      <td>1.0</td>\n",
       "      <td>1.0</td>\n",
       "      <td>2.0</td>\n",
       "      <td>3.0</td>\n",
       "      <td>1.0</td>\n",
       "      <td>3.0</td>\n",
       "    </tr>\n",
       "    <tr>\n",
       "      <th>1</th>\n",
       "      <td>Aaron Ramsey</td>\n",
       "      <td>MF</td>\n",
       "      <td>Wales</td>\n",
       "      <td>31-357</td>\n",
       "      <td>31</td>\n",
       "      <td>Nice</td>\n",
       "      <td>1990</td>\n",
       "      <td>3</td>\n",
       "      <td>3</td>\n",
       "      <td>266</td>\n",
       "      <td>3</td>\n",
       "      <td>0</td>\n",
       "      <td>0</td>\n",
       "      <td>0</td>\n",
       "      <td>0</td>\n",
       "      <td>0</td>\n",
       "      <td>1</td>\n",
       "      <td>0</td>\n",
       "      <td>0</td>\n",
       "      <td>0</td>\n",
       "      <td>0</td>\n",
       "      <td>0</td>\n",
       "      <td>0</td>\n",
       "      <td>0.0</td>\n",
       "      <td>0.0</td>\n",
       "      <td>0.0</td>\n",
       "      <td>1.0</td>\n",
       "      <td>1.0</td>\n",
       "      <td>1.0</td>\n",
       "      <td>2.0</td>\n",
       "      <td>1.0</td>\n",
       "      <td>2.0</td>\n",
       "    </tr>\n",
       "    <tr>\n",
       "      <th>2</th>\n",
       "      <td>Abdelhamid Sabiri</td>\n",
       "      <td>MF</td>\n",
       "      <td>Morocco</td>\n",
       "      <td>26-020</td>\n",
       "      <td>26</td>\n",
       "      <td>Sampdoria</td>\n",
       "      <td>1996</td>\n",
       "      <td>5</td>\n",
       "      <td>2</td>\n",
       "      <td>181</td>\n",
       "      <td>2</td>\n",
       "      <td>0</td>\n",
       "      <td>1</td>\n",
       "      <td>0</td>\n",
       "      <td>0</td>\n",
       "      <td>0</td>\n",
       "      <td>1</td>\n",
       "      <td>0</td>\n",
       "      <td>0</td>\n",
       "      <td>5</td>\n",
       "      <td>5</td>\n",
       "      <td>0</td>\n",
       "      <td>5</td>\n",
       "      <td>1.0</td>\n",
       "      <td>1.0</td>\n",
       "      <td>9.0</td>\n",
       "      <td>1.0</td>\n",
       "      <td>8.0</td>\n",
       "      <td>53.0</td>\n",
       "      <td>6.0</td>\n",
       "      <td>8.0</td>\n",
       "      <td>6.0</td>\n",
       "    </tr>\n",
       "    <tr>\n",
       "      <th>3</th>\n",
       "      <td>Abdelkarim Hassan</td>\n",
       "      <td>DF</td>\n",
       "      <td>Qatar</td>\n",
       "      <td>29-112</td>\n",
       "      <td>29</td>\n",
       "      <td>Al Sadd SC</td>\n",
       "      <td>1993</td>\n",
       "      <td>3</td>\n",
       "      <td>3</td>\n",
       "      <td>270</td>\n",
       "      <td>3</td>\n",
       "      <td>0</td>\n",
       "      <td>0</td>\n",
       "      <td>0</td>\n",
       "      <td>0</td>\n",
       "      <td>0</td>\n",
       "      <td>0</td>\n",
       "      <td>0</td>\n",
       "      <td>0</td>\n",
       "      <td>0</td>\n",
       "      <td>0</td>\n",
       "      <td>0</td>\n",
       "      <td>0</td>\n",
       "      <td>3.0</td>\n",
       "      <td>3.0</td>\n",
       "      <td>0.0</td>\n",
       "      <td>3.0</td>\n",
       "      <td>1.0</td>\n",
       "      <td>1.0</td>\n",
       "      <td>11.0</td>\n",
       "      <td>1.0</td>\n",
       "      <td>11.0</td>\n",
       "    </tr>\n",
       "    <tr>\n",
       "      <th>4</th>\n",
       "      <td>Abderrazak Hamdallah</td>\n",
       "      <td>FW</td>\n",
       "      <td>Morocco</td>\n",
       "      <td>32-001</td>\n",
       "      <td>32</td>\n",
       "      <td>Al-Ittihad</td>\n",
       "      <td>1990</td>\n",
       "      <td>4</td>\n",
       "      <td>0</td>\n",
       "      <td>68</td>\n",
       "      <td>8</td>\n",
       "      <td>0</td>\n",
       "      <td>0</td>\n",
       "      <td>0</td>\n",
       "      <td>0</td>\n",
       "      <td>0</td>\n",
       "      <td>0</td>\n",
       "      <td>0</td>\n",
       "      <td>0</td>\n",
       "      <td>0</td>\n",
       "      <td>0</td>\n",
       "      <td>0</td>\n",
       "      <td>0</td>\n",
       "      <td>4.0</td>\n",
       "      <td>4.0</td>\n",
       "      <td>0.0</td>\n",
       "      <td>4.0</td>\n",
       "      <td>52.0</td>\n",
       "      <td>0.0</td>\n",
       "      <td>52.0</td>\n",
       "      <td>52.0</td>\n",
       "      <td>52.0</td>\n",
       "    </tr>\n",
       "    <tr>\n",
       "      <th>...</th>\n",
       "      <td>...</td>\n",
       "      <td>...</td>\n",
       "      <td>...</td>\n",
       "      <td>...</td>\n",
       "      <td>...</td>\n",
       "      <td>...</td>\n",
       "      <td>...</td>\n",
       "      <td>...</td>\n",
       "      <td>...</td>\n",
       "      <td>...</td>\n",
       "      <td>...</td>\n",
       "      <td>...</td>\n",
       "      <td>...</td>\n",
       "      <td>...</td>\n",
       "      <td>...</td>\n",
       "      <td>...</td>\n",
       "      <td>...</td>\n",
       "      <td>...</td>\n",
       "      <td>...</td>\n",
       "      <td>...</td>\n",
       "      <td>...</td>\n",
       "      <td>...</td>\n",
       "      <td>...</td>\n",
       "      <td>...</td>\n",
       "      <td>...</td>\n",
       "      <td>...</td>\n",
       "      <td>...</td>\n",
       "      <td>...</td>\n",
       "      <td>...</td>\n",
       "      <td>...</td>\n",
       "      <td>...</td>\n",
       "      <td>...</td>\n",
       "    </tr>\n",
       "    <tr>\n",
       "      <th>675</th>\n",
       "      <td>Angel Di María</td>\n",
       "      <td>MF</td>\n",
       "      <td>Argentina</td>\n",
       "      <td>34-307</td>\n",
       "      <td>34</td>\n",
       "      <td>Juventus</td>\n",
       "      <td>1988</td>\n",
       "      <td>5</td>\n",
       "      <td>4</td>\n",
       "      <td>288</td>\n",
       "      <td>32</td>\n",
       "      <td>1</td>\n",
       "      <td>1</td>\n",
       "      <td>1</td>\n",
       "      <td>0</td>\n",
       "      <td>0</td>\n",
       "      <td>0</td>\n",
       "      <td>0</td>\n",
       "      <td>31</td>\n",
       "      <td>31</td>\n",
       "      <td>62</td>\n",
       "      <td>31</td>\n",
       "      <td>62</td>\n",
       "      <td>8.0</td>\n",
       "      <td>8.0</td>\n",
       "      <td>6.0</td>\n",
       "      <td>14.0</td>\n",
       "      <td>27.0</td>\n",
       "      <td>2.0</td>\n",
       "      <td>46.0</td>\n",
       "      <td>27.0</td>\n",
       "      <td>46.0</td>\n",
       "    </tr>\n",
       "    <tr>\n",
       "      <th>676</th>\n",
       "      <td>Ángelo Preciado</td>\n",
       "      <td>DF</td>\n",
       "      <td>Ecuador</td>\n",
       "      <td>24-303</td>\n",
       "      <td>24</td>\n",
       "      <td>Genk</td>\n",
       "      <td>1998</td>\n",
       "      <td>3</td>\n",
       "      <td>3</td>\n",
       "      <td>264</td>\n",
       "      <td>29</td>\n",
       "      <td>0</td>\n",
       "      <td>1</td>\n",
       "      <td>0</td>\n",
       "      <td>0</td>\n",
       "      <td>0</td>\n",
       "      <td>0</td>\n",
       "      <td>0</td>\n",
       "      <td>0</td>\n",
       "      <td>34</td>\n",
       "      <td>34</td>\n",
       "      <td>0</td>\n",
       "      <td>34</td>\n",
       "      <td>1.0</td>\n",
       "      <td>1.0</td>\n",
       "      <td>4.0</td>\n",
       "      <td>5.0</td>\n",
       "      <td>2.0</td>\n",
       "      <td>14.0</td>\n",
       "      <td>17.0</td>\n",
       "      <td>2.0</td>\n",
       "      <td>17.0</td>\n",
       "    </tr>\n",
       "    <tr>\n",
       "      <th>677</th>\n",
       "      <td>Éder Militão</td>\n",
       "      <td>DF</td>\n",
       "      <td>Brazil</td>\n",
       "      <td>24-334</td>\n",
       "      <td>24</td>\n",
       "      <td>Real Madrid</td>\n",
       "      <td>1998</td>\n",
       "      <td>4</td>\n",
       "      <td>4</td>\n",
       "      <td>347</td>\n",
       "      <td>39</td>\n",
       "      <td>0</td>\n",
       "      <td>0</td>\n",
       "      <td>0</td>\n",
       "      <td>0</td>\n",
       "      <td>0</td>\n",
       "      <td>1</td>\n",
       "      <td>0</td>\n",
       "      <td>0</td>\n",
       "      <td>0</td>\n",
       "      <td>0</td>\n",
       "      <td>0</td>\n",
       "      <td>0</td>\n",
       "      <td>2.0</td>\n",
       "      <td>2.0</td>\n",
       "      <td>0.0</td>\n",
       "      <td>2.0</td>\n",
       "      <td>5.0</td>\n",
       "      <td>1.0</td>\n",
       "      <td>5.0</td>\n",
       "      <td>5.0</td>\n",
       "      <td>5.0</td>\n",
       "    </tr>\n",
       "    <tr>\n",
       "      <th>678</th>\n",
       "      <td>Óscar Duarte</td>\n",
       "      <td>DF</td>\n",
       "      <td>Costa Rica</td>\n",
       "      <td>33-198</td>\n",
       "      <td>33</td>\n",
       "      <td>Al-Wehda</td>\n",
       "      <td>1989</td>\n",
       "      <td>3</td>\n",
       "      <td>3</td>\n",
       "      <td>270</td>\n",
       "      <td>3</td>\n",
       "      <td>0</td>\n",
       "      <td>0</td>\n",
       "      <td>0</td>\n",
       "      <td>0</td>\n",
       "      <td>0</td>\n",
       "      <td>1</td>\n",
       "      <td>0</td>\n",
       "      <td>0</td>\n",
       "      <td>0</td>\n",
       "      <td>0</td>\n",
       "      <td>0</td>\n",
       "      <td>0</td>\n",
       "      <td>0.0</td>\n",
       "      <td>0.0</td>\n",
       "      <td>3.0</td>\n",
       "      <td>3.0</td>\n",
       "      <td>0.0</td>\n",
       "      <td>9.0</td>\n",
       "      <td>9.0</td>\n",
       "      <td>0.0</td>\n",
       "      <td>9.0</td>\n",
       "    </tr>\n",
       "    <tr>\n",
       "      <th>679</th>\n",
       "      <td>İlkay Gundogan</td>\n",
       "      <td>MF</td>\n",
       "      <td>Germany</td>\n",
       "      <td>32-055</td>\n",
       "      <td>32</td>\n",
       "      <td>Manchester City</td>\n",
       "      <td>1990</td>\n",
       "      <td>3</td>\n",
       "      <td>3</td>\n",
       "      <td>189</td>\n",
       "      <td>21</td>\n",
       "      <td>1</td>\n",
       "      <td>0</td>\n",
       "      <td>0</td>\n",
       "      <td>1</td>\n",
       "      <td>1</td>\n",
       "      <td>0</td>\n",
       "      <td>0</td>\n",
       "      <td>48</td>\n",
       "      <td>0</td>\n",
       "      <td>48</td>\n",
       "      <td>0</td>\n",
       "      <td>0</td>\n",
       "      <td>11.0</td>\n",
       "      <td>4.0</td>\n",
       "      <td>1.0</td>\n",
       "      <td>5.0</td>\n",
       "      <td>54.0</td>\n",
       "      <td>5.0</td>\n",
       "      <td>6.0</td>\n",
       "      <td>17.0</td>\n",
       "      <td>22.0</td>\n",
       "    </tr>\n",
       "  </tbody>\n",
       "</table>\n",
       "<p>680 rows × 32 columns</p>\n",
       "</div>"
      ],
      "text/plain": [
       "                   player position        team     age  age2             club   \n",
       "0              Aaron Mooy       MF   Australia  32-094    32           Celtic  \\\n",
       "1            Aaron Ramsey       MF       Wales  31-357    31             Nice   \n",
       "2       Abdelhamid Sabiri       MF     Morocco  26-020    26        Sampdoria   \n",
       "3       Abdelkarim Hassan       DF       Qatar  29-112    29       Al Sadd SC   \n",
       "4    Abderrazak Hamdallah       FW     Morocco  32-001    32       Al-Ittihad   \n",
       "..                    ...      ...         ...     ...   ...              ...   \n",
       "675        Angel Di María       MF   Argentina  34-307    34         Juventus   \n",
       "676       Ángelo Preciado       DF     Ecuador  24-303    24             Genk   \n",
       "677          Éder Militão       DF      Brazil  24-334    24      Real Madrid   \n",
       "678          Óscar Duarte       DF  Costa Rica  33-198    33         Al-Wehda   \n",
       "679        İlkay Gundogan       MF     Germany  32-055    32  Manchester City   \n",
       "\n",
       "     birth_year  games  games_starts  minutes  minutes_90s  goals  assists   \n",
       "0          1990      4             4      360            4      0        0  \\\n",
       "1          1990      3             3      266            3      0        0   \n",
       "2          1996      5             2      181            2      0        1   \n",
       "3          1993      3             3      270            3      0        0   \n",
       "4          1990      4             0       68            8      0        0   \n",
       "..          ...    ...           ...      ...          ...    ...      ...   \n",
       "675        1988      5             4      288           32      1        1   \n",
       "676        1998      3             3      264           29      0        1   \n",
       "677        1998      4             4      347           39      0        0   \n",
       "678        1989      3             3      270            3      0        0   \n",
       "679        1990      3             3      189           21      1        0   \n",
       "\n",
       "     goals_pens  pens_made  pens_att  cards_yellow  cards_red  goals_per90   \n",
       "0             0          0         0             1          0            0  \\\n",
       "1             0          0         0             1          0            0   \n",
       "2             0          0         0             1          0            0   \n",
       "3             0          0         0             0          0            0   \n",
       "4             0          0         0             0          0            0   \n",
       "..          ...        ...       ...           ...        ...          ...   \n",
       "675           1          0         0             0          0           31   \n",
       "676           0          0         0             0          0            0   \n",
       "677           0          0         0             1          0            0   \n",
       "678           0          0         0             1          0            0   \n",
       "679           0          1         1             0          0           48   \n",
       "\n",
       "     assists_per90  goals_assists_per90  goals_pens_per90   \n",
       "0                0                    0                 0  \\\n",
       "1                0                    0                 0   \n",
       "2                5                    5                 0   \n",
       "3                0                    0                 0   \n",
       "4                0                    0                 0   \n",
       "..             ...                  ...               ...   \n",
       "675             31                   62                31   \n",
       "676             34                   34                 0   \n",
       "677              0                    0                 0   \n",
       "678              0                    0                 0   \n",
       "679              0                   48                 0   \n",
       "\n",
       "     goals_assists_pens_per90    xg  npxg  xg_assist  npxg_xg_assist   \n",
       "0                           0   0.0   0.0        1.0             1.0  \\\n",
       "1                           0   0.0   0.0        0.0             1.0   \n",
       "2                           5   1.0   1.0        9.0             1.0   \n",
       "3                           0   3.0   3.0        0.0             3.0   \n",
       "4                           0   4.0   4.0        0.0             4.0   \n",
       "..                        ...   ...   ...        ...             ...   \n",
       "675                        62   8.0   8.0        6.0            14.0   \n",
       "676                        34   1.0   1.0        4.0             5.0   \n",
       "677                         0   2.0   2.0        0.0             2.0   \n",
       "678                         0   0.0   0.0        3.0             3.0   \n",
       "679                         0  11.0   4.0        1.0             5.0   \n",
       "\n",
       "     xg_per90  xg_assist_per90  xg_xg_assist_per90  npxg_per90   \n",
       "0         1.0              2.0                 3.0         1.0  \\\n",
       "1         1.0              1.0                 2.0         1.0   \n",
       "2         8.0             53.0                 6.0         8.0   \n",
       "3         1.0              1.0                11.0         1.0   \n",
       "4        52.0              0.0                52.0        52.0   \n",
       "..        ...              ...                 ...         ...   \n",
       "675      27.0              2.0                46.0        27.0   \n",
       "676       2.0             14.0                17.0         2.0   \n",
       "677       5.0              1.0                 5.0         5.0   \n",
       "678       0.0              9.0                 9.0         0.0   \n",
       "679      54.0              5.0                 6.0        17.0   \n",
       "\n",
       "     npxg_xg_assist_per90  \n",
       "0                     3.0  \n",
       "1                     2.0  \n",
       "2                     6.0  \n",
       "3                    11.0  \n",
       "4                    52.0  \n",
       "..                    ...  \n",
       "675                  46.0  \n",
       "676                  17.0  \n",
       "677                   5.0  \n",
       "678                   9.0  \n",
       "679                  22.0  \n",
       "\n",
       "[680 rows x 32 columns]"
      ]
     },
     "execution_count": 64,
     "metadata": {},
     "output_type": "execute_result"
    }
   ],
   "source": [
    "players_fifa_wc2022"
   ]
  },
  {
   "cell_type": "code",
<<<<<<< HEAD
   "execution_count": null,
=======
   "execution_count": 65,
>>>>>>> d20e0f0c979d08449127054dcb41934fa686c483
   "metadata": {},
   "outputs": [
    {
     "data": {
      "text/plain": [
       "[0,\n",
       " 0,\n",
       " 3,\n",
       " 0,\n",
       " 4,\n",
       " 3,\n",
       " 0,\n",
       " 1,\n",
       " 1,\n",
       " 1,\n",
       " 0,\n",
       " 1,\n",
       " 2,\n",
       " 1,\n",
       " 1,\n",
       " 0,\n",
       " 1,\n",
       " 1,\n",
       " 0,\n",
       " 1,\n",
       " 0,\n",
       " 3,\n",
       " 0,\n",
       " 1,\n",
       " 3,\n",
       " 0,\n",
       " 1,\n",
       " 1,\n",
       " 2,\n",
       " 1,\n",
       " 0,\n",
       " 0,\n",
       " 1,\n",
       " 0,\n",
       " 0,\n",
       " 1,\n",
       " 1,\n",
       " 2,\n",
       " 0,\n",
       " 0,\n",
       " 0,\n",
       " 1,\n",
       " 0,\n",
       " 0,\n",
       " 0,\n",
       " 0,\n",
       " 1,\n",
       " 1,\n",
       " 0,\n",
       " 0,\n",
       " 2,\n",
       " 0,\n",
       " 0,\n",
       " 0,\n",
       " 0,\n",
       " 0,\n",
       " 0,\n",
       " 1,\n",
       " 0,\n",
       " 0,\n",
       " 2,\n",
       " 2,\n",
       " 1,\n",
       " 1,\n",
       " 2,\n",
       " 0,\n",
       " 0,\n",
       " 3,\n",
       " 0,\n",
       " 1,\n",
       " 1,\n",
       " 2,\n",
       " 1,\n",
       " 1,\n",
       " 0,\n",
       " 1,\n",
       " 0,\n",
       " 2,\n",
       " 2,\n",
       " 0,\n",
       " 0,\n",
       " 0,\n",
       " 0,\n",
       " 1,\n",
       " 0,\n",
       " 1,\n",
       " 3,\n",
       " 1,\n",
       " 4,\n",
       " 0,\n",
       " 0,\n",
       " 0,\n",
       " 0,\n",
       " 1,\n",
       " 0,\n",
       " 0,\n",
       " 0,\n",
       " 0,\n",
       " 0,\n",
       " 2,\n",
       " 0,\n",
       " 4,\n",
       " 3,\n",
       " 0,\n",
       " 2,\n",
       " 5,\n",
       " 0,\n",
       " 0,\n",
       " 1,\n",
       " 0,\n",
       " 2,\n",
       " 0,\n",
       " 0,\n",
       " 0,\n",
       " 2,\n",
       " 0,\n",
       " 0,\n",
       " 1,\n",
       " 2,\n",
       " 0,\n",
       " 1,\n",
       " 1,\n",
       " 0,\n",
       " 1,\n",
       " 0,\n",
       " 1,\n",
       " 1,\n",
       " 0,\n",
       " 0,\n",
       " 0,\n",
       " 0,\n",
       " 1,\n",
       " 1,\n",
       " 1,\n",
       " 2,\n",
       " 1,\n",
       " 0,\n",
       " 0,\n",
       " 0,\n",
       " 0,\n",
       " 0,\n",
       " 1,\n",
       " 1,\n",
       " 1,\n",
       " 0,\n",
       " 0,\n",
       " 1,\n",
       " 1,\n",
       " 3,\n",
       " 0,\n",
       " 0,\n",
       " 1,\n",
       " 1,\n",
       " 0,\n",
       " 0,\n",
       " 1,\n",
       " 1,\n",
       " 0,\n",
       " 2,\n",
       " 0,\n",
       " 0,\n",
       " 1,\n",
       " 2,\n",
       " 0,\n",
       " 0,\n",
       " 0,\n",
       " 0,\n",
       " 0,\n",
       " 0,\n",
       " 1,\n",
       " 0,\n",
       " 1,\n",
       " 0,\n",
       " 1,\n",
       " 0,\n",
       " 1,\n",
       " 0,\n",
       " 2,\n",
       " 2,\n",
       " 0,\n",
       " 0,\n",
       " 1,\n",
       " 0,\n",
       " 0,\n",
       " 0,\n",
       " 0,\n",
       " 0,\n",
       " 2,\n",
       " 2,\n",
       " 2,\n",
       " 0,\n",
       " 1,\n",
       " 0,\n",
       " 1,\n",
       " 3,\n",
       " 2,\n",
       " 1,\n",
       " 0,\n",
       " 0,\n",
       " 1,\n",
       " 1,\n",
       " 0,\n",
       " 2,\n",
       " 1,\n",
       " 0,\n",
       " 0,\n",
       " 2,\n",
       " 0,\n",
       " 1,\n",
       " 1,\n",
       " 0,\n",
       " 2,\n",
       " 0,\n",
       " 0,\n",
       " 2,\n",
       " 2,\n",
       " 0,\n",
       " 0,\n",
       " 2,\n",
       " 2,\n",
       " 3,\n",
       " 0,\n",
       " 1,\n",
       " 0,\n",
       " 2,\n",
       " 1,\n",
       " 1,\n",
       " 3,\n",
       " 0,\n",
       " 2,\n",
       " 0,\n",
       " 0,\n",
       " 0,\n",
       " 0,\n",
       " 0,\n",
       " 1,\n",
       " 3,\n",
       " 0,\n",
       " 1,\n",
       " 3,\n",
       " 0,\n",
       " 0,\n",
       " 0,\n",
       " 1,\n",
       " 0,\n",
       " 0,\n",
       " 2,\n",
       " 0,\n",
       " 0,\n",
       " 0,\n",
       " 1,\n",
       " 1,\n",
       " 0,\n",
       " 0,\n",
       " 1,\n",
       " 1,\n",
       " 1,\n",
       " 0,\n",
       " 1,\n",
       " 0,\n",
       " 3,\n",
       " 0,\n",
       " 0,\n",
       " 2,\n",
       " 0,\n",
       " 1,\n",
       " 1,\n",
       " 1,\n",
       " 0,\n",
       " 0,\n",
       " 3,\n",
       " 1,\n",
       " 1,\n",
       " 0,\n",
       " 0,\n",
       " 5,\n",
       " 0,\n",
       " 1,\n",
       " 2,\n",
       " 0,\n",
       " 0,\n",
       " 3,\n",
       " 1,\n",
       " 0,\n",
       " 1,\n",
       " 3,\n",
       " 0,\n",
       " 0,\n",
       " 1,\n",
       " 3,\n",
       " 1,\n",
       " 1,\n",
       " 0,\n",
       " 0,\n",
       " 2,\n",
       " 0,\n",
       " 0,\n",
       " 0,\n",
       " 1,\n",
       " 2,\n",
       " 0,\n",
       " 0,\n",
       " 0,\n",
       " 0,\n",
       " 2,\n",
       " 1,\n",
       " 2,\n",
       " 1,\n",
       " 1,\n",
       " 2,\n",
       " 0,\n",
       " 0,\n",
       " 1,\n",
       " 0,\n",
       " 1,\n",
       " 0,\n",
       " 0,\n",
       " 0,\n",
       " 0,\n",
       " 2,\n",
       " 0,\n",
       " 1,\n",
       " 0,\n",
       " 1,\n",
       " 3,\n",
       " 0,\n",
       " 1,\n",
       " 0,\n",
       " 0,\n",
       " 1,\n",
       " 2,\n",
       " 0,\n",
       " 1,\n",
       " 1,\n",
       " 0,\n",
       " 1,\n",
       " 0,\n",
       " 2,\n",
       " 0,\n",
       " 2,\n",
       " 0,\n",
       " 1,\n",
       " 4,\n",
       " 2,\n",
       " 1,\n",
       " 1,\n",
       " 0,\n",
       " 2,\n",
       " 0,\n",
       " 3,\n",
       " 2,\n",
       " 1,\n",
       " 1,\n",
       " 0,\n",
       " 2,\n",
       " 1,\n",
       " 0,\n",
       " 0,\n",
       " 1,\n",
       " 1,\n",
       " 0,\n",
       " 0,\n",
       " 0,\n",
       " 0,\n",
       " 0,\n",
       " 5,\n",
       " 0,\n",
       " 2,\n",
       " 1,\n",
       " 2,\n",
       " 2,\n",
       " 0,\n",
       " 0,\n",
       " 0,\n",
       " 1,\n",
       " 0,\n",
       " 0,\n",
       " 1,\n",
       " 4,\n",
       " 0,\n",
       " 0,\n",
       " 3,\n",
       " 2,\n",
       " 0,\n",
       " 3,\n",
       " 1,\n",
       " 1,\n",
       " 1,\n",
       " 0,\n",
       " 3,\n",
       " 6,\n",
       " 1,\n",
       " 1,\n",
       " 0,\n",
       " 0,\n",
       " 0,\n",
       " 1,\n",
       " 1,\n",
       " 0,\n",
       " 2,\n",
       " 0,\n",
       " 1,\n",
       " 0,\n",
       " 0,\n",
       " 0,\n",
       " 0,\n",
       " 1,\n",
       " 2,\n",
       " 0,\n",
       " 4,\n",
       " 5,\n",
       " 2,\n",
       " 5,\n",
       " 0,\n",
       " 1,\n",
       " 3,\n",
       " 1,\n",
       " 2,\n",
       " 1,\n",
       " 0,\n",
       " 2,\n",
       " 0,\n",
       " 2,\n",
       " 0,\n",
       " 1,\n",
       " 0,\n",
       " 0,\n",
       " 1,\n",
       " 0,\n",
       " 0,\n",
       " 1,\n",
       " 1,\n",
       " 0,\n",
       " 0,\n",
       " 1,\n",
       " 2,\n",
       " 2,\n",
       " 0,\n",
       " 0,\n",
       " 3,\n",
       " 2,\n",
       " 0,\n",
       " 0,\n",
       " 1,\n",
       " 1,\n",
       " 0,\n",
       " 0,\n",
       " 2,\n",
       " 0,\n",
       " 0,\n",
       " 2,\n",
       " 0,\n",
       " 5,\n",
       " 0,\n",
       " 0,\n",
       " 0,\n",
       " 0,\n",
       " 1,\n",
       " 0,\n",
       " 3,\n",
       " 0,\n",
       " 2,\n",
       " 0,\n",
       " 0,\n",
       " 0,\n",
       " 1,\n",
       " 0,\n",
       " 1,\n",
       " 1,\n",
       " 0,\n",
       " 1,\n",
       " 1,\n",
       " 1,\n",
       " 0,\n",
       " 0,\n",
       " 2,\n",
       " 0,\n",
       " 1,\n",
       " 0,\n",
       " 1,\n",
       " 2,\n",
       " 3,\n",
       " 0,\n",
       " 3,\n",
       " 0,\n",
       " 1,\n",
       " 3,\n",
       " 1,\n",
       " 1,\n",
       " 0,\n",
       " 2,\n",
       " 0,\n",
       " 3,\n",
       " 0,\n",
       " 0,\n",
       " 5,\n",
       " 1,\n",
       " 3,\n",
       " 0,\n",
       " 0,\n",
       " 0,\n",
       " 0,\n",
       " 0,\n",
       " 1,\n",
       " 0,\n",
       " 2,\n",
       " 0,\n",
       " 1,\n",
       " 1,\n",
       " 1,\n",
       " 2,\n",
       " 2,\n",
       " 2,\n",
       " 0,\n",
       " 1,\n",
       " 0,\n",
       " 2,\n",
       " 0,\n",
       " 2,\n",
       " 0,\n",
       " 0,\n",
       " 1,\n",
       " 0,\n",
       " 0,\n",
       " 0,\n",
       " 0,\n",
       " 1,\n",
       " 5,\n",
       " 1,\n",
       " 0,\n",
       " 2,\n",
       " 1,\n",
       " 0,\n",
       " 1,\n",
       " 0,\n",
       " 3,\n",
       " 0,\n",
       " 1,\n",
       " 2,\n",
       " 0,\n",
       " 0,\n",
       " 1,\n",
       " 0,\n",
       " 2,\n",
       " 1,\n",
       " 1,\n",
       " 0,\n",
       " 1,\n",
       " 1,\n",
       " 0,\n",
       " 0,\n",
       " 0,\n",
       " 4,\n",
       " 1,\n",
       " 0,\n",
       " 1,\n",
       " 2,\n",
       " 1,\n",
       " 0,\n",
       " 1,\n",
       " 0,\n",
       " 2,\n",
       " 0,\n",
       " 1,\n",
       " 0,\n",
       " 0,\n",
       " 1,\n",
       " 0,\n",
       " 0,\n",
       " 0,\n",
       " 0,\n",
       " 2,\n",
       " 1,\n",
       " 0,\n",
       " 1,\n",
       " 1,\n",
       " 0,\n",
       " 0,\n",
       " 0,\n",
       " 0,\n",
       " 3,\n",
       " 0,\n",
       " 0,\n",
       " 0,\n",
       " 0,\n",
       " 0,\n",
       " 2,\n",
       " 0,\n",
       " 0,\n",
       " 0,\n",
       " 0,\n",
       " 0,\n",
       " 0,\n",
       " 0,\n",
       " 3,\n",
       " 1,\n",
       " 1,\n",
       " 1,\n",
       " 0,\n",
       " 0,\n",
       " 3,\n",
       " 1,\n",
       " 0,\n",
       " 0,\n",
       " 2,\n",
       " 2,\n",
       " 0,\n",
       " 0,\n",
       " 2,\n",
       " 4,\n",
       " 3,\n",
       " 1,\n",
       " 1,\n",
       " 4,\n",
       " 1,\n",
       " 1,\n",
       " 0,\n",
       " 0,\n",
       " 0,\n",
       " 0,\n",
       " 1,\n",
       " 0,\n",
       " 0,\n",
       " 1,\n",
       " 0,\n",
       " 0,\n",
       " 0,\n",
       " 0,\n",
       " 1,\n",
       " 0,\n",
       " 0,\n",
       " 3,\n",
       " 0,\n",
       " 0,\n",
       " 2,\n",
       " 1,\n",
       " 0,\n",
       " 0,\n",
       " 2,\n",
       " 1,\n",
       " 2,\n",
       " 2,\n",
       " 1,\n",
       " 1,\n",
       " 0,\n",
       " 0,\n",
       " 2,\n",
       " 1,\n",
       " 0,\n",
       " 4,\n",
       " 1,\n",
       " 1,\n",
       " 0,\n",
       " 4,\n",
       " 2,\n",
       " 0,\n",
       " 0,\n",
       " 0,\n",
       " 0,\n",
       " 0,\n",
       " 0,\n",
       " 2,\n",
       " 0,\n",
       " 0,\n",
       " 4,\n",
       " 0,\n",
       " 1,\n",
       " 2,\n",
       " 0,\n",
       " 0,\n",
       " 0,\n",
       " 4,\n",
       " 3,\n",
       " 1,\n",
       " 1,\n",
       " 1,\n",
       " 0,\n",
       " 0,\n",
       " 0,\n",
       " 0]"
      ]
     },
     "execution_count": 65,
     "metadata": {},
     "output_type": "execute_result"
    }
   ],
   "source": [
    "new_colum = []\n",
    "for p1, p2 in zip(players_fifa_wc2022.games_starts, players_fifa_wc2022.games):\n",
    "    new_colum.append(p2 - p1) \n",
    "new_colum\n"
   ]
  },
  {
   "cell_type": "code",
<<<<<<< HEAD
   "execution_count": null,
=======
   "execution_count": 66,
>>>>>>> d20e0f0c979d08449127054dcb41934fa686c483
   "metadata": {},
   "outputs": [],
   "source": [
    "\n",
    "players_fifa_wc2022['games_sub'] = new_colum"
   ]
  },
  {
   "cell_type": "code",
<<<<<<< HEAD
   "execution_count": null,
=======
   "execution_count": 67,
>>>>>>> d20e0f0c979d08449127054dcb41934fa686c483
   "metadata": {},
   "outputs": [],
   "source": [
    "player = \"Angel Di María\"\n",
    "indice = players_fifa_wc2022[players_fifa_wc2022[\"player\"]==player].index\n",
    "df_player = players_fifa_wc2022.loc[indice, :]"
   ]
  },
  {
   "cell_type": "code",
<<<<<<< HEAD
   "execution_count": null,
=======
   "execution_count": 68,
>>>>>>> d20e0f0c979d08449127054dcb41934fa686c483
   "metadata": {},
   "outputs": [
    {
     "data": {
      "application/vnd.plotly.v1+json": {
       "config": {
        "plotlyServerURL": "https://plotly.com"
       },
       "data": [
        {
         "alignmentgroup": "True",
         "hovertemplate": "variable=games_starts<br>player=%{x}<br>value=%{y}<extra></extra>",
         "legendgroup": "games_starts",
         "marker": {
          "color": "rgb(102, 197, 204)",
          "pattern": {
           "shape": ""
          }
         },
         "name": "games_starts",
         "offsetgroup": "games_starts",
         "orientation": "v",
         "showlegend": true,
         "textposition": "auto",
         "type": "bar",
         "x": [
          "Angel Di María"
         ],
         "xaxis": "x",
         "y": [
          4
         ],
         "yaxis": "y"
        },
        {
         "alignmentgroup": "True",
         "hovertemplate": "variable=games_sub<br>player=%{x}<br>value=%{y}<extra></extra>",
         "legendgroup": "games_sub",
         "marker": {
          "color": "rgb(246, 207, 113)",
          "pattern": {
           "shape": ""
          }
         },
         "name": "games_sub",
         "offsetgroup": "games_sub",
         "orientation": "v",
         "showlegend": true,
         "textposition": "auto",
         "type": "bar",
         "x": [
          "Angel Di María"
         ],
         "xaxis": "x",
         "y": [
          1
         ],
         "yaxis": "y"
        }
       ],
       "layout": {
        "barmode": "relative",
        "legend": {
         "title": {
          "text": "variable"
         },
         "tracegroupgap": 0
        },
        "margin": {
         "t": 60
        },
        "template": {
         "data": {
          "bar": [
           {
            "error_x": {
             "color": "rgb(36,36,36)"
            },
            "error_y": {
             "color": "rgb(36,36,36)"
            },
            "marker": {
             "line": {
              "color": "white",
              "width": 0.5
             },
             "pattern": {
              "fillmode": "overlay",
              "size": 10,
              "solidity": 0.2
             }
            },
            "type": "bar"
           }
          ],
          "barpolar": [
           {
            "marker": {
             "line": {
              "color": "white",
              "width": 0.5
             },
             "pattern": {
              "fillmode": "overlay",
              "size": 10,
              "solidity": 0.2
             }
            },
            "type": "barpolar"
           }
          ],
          "carpet": [
           {
            "aaxis": {
             "endlinecolor": "rgb(36,36,36)",
             "gridcolor": "white",
             "linecolor": "white",
             "minorgridcolor": "white",
             "startlinecolor": "rgb(36,36,36)"
            },
            "baxis": {
             "endlinecolor": "rgb(36,36,36)",
             "gridcolor": "white",
             "linecolor": "white",
             "minorgridcolor": "white",
             "startlinecolor": "rgb(36,36,36)"
            },
            "type": "carpet"
           }
          ],
          "choropleth": [
           {
            "colorbar": {
             "outlinewidth": 1,
             "tickcolor": "rgb(36,36,36)",
             "ticks": "outside"
            },
            "type": "choropleth"
           }
          ],
          "contour": [
           {
            "colorbar": {
             "outlinewidth": 1,
             "tickcolor": "rgb(36,36,36)",
             "ticks": "outside"
            },
            "colorscale": [
             [
              0,
              "#440154"
             ],
             [
              0.1111111111111111,
              "#482878"
             ],
             [
              0.2222222222222222,
              "#3e4989"
             ],
             [
              0.3333333333333333,
              "#31688e"
             ],
             [
              0.4444444444444444,
              "#26828e"
             ],
             [
              0.5555555555555556,
              "#1f9e89"
             ],
             [
              0.6666666666666666,
              "#35b779"
             ],
             [
              0.7777777777777778,
              "#6ece58"
             ],
             [
              0.8888888888888888,
              "#b5de2b"
             ],
             [
              1,
              "#fde725"
             ]
            ],
            "type": "contour"
           }
          ],
          "contourcarpet": [
           {
            "colorbar": {
             "outlinewidth": 1,
             "tickcolor": "rgb(36,36,36)",
             "ticks": "outside"
            },
            "type": "contourcarpet"
           }
          ],
          "heatmap": [
           {
            "colorbar": {
             "outlinewidth": 1,
             "tickcolor": "rgb(36,36,36)",
             "ticks": "outside"
            },
            "colorscale": [
             [
              0,
              "#440154"
             ],
             [
              0.1111111111111111,
              "#482878"
             ],
             [
              0.2222222222222222,
              "#3e4989"
             ],
             [
              0.3333333333333333,
              "#31688e"
             ],
             [
              0.4444444444444444,
              "#26828e"
             ],
             [
              0.5555555555555556,
              "#1f9e89"
             ],
             [
              0.6666666666666666,
              "#35b779"
             ],
             [
              0.7777777777777778,
              "#6ece58"
             ],
             [
              0.8888888888888888,
              "#b5de2b"
             ],
             [
              1,
              "#fde725"
             ]
            ],
            "type": "heatmap"
           }
          ],
          "heatmapgl": [
           {
            "colorbar": {
             "outlinewidth": 1,
             "tickcolor": "rgb(36,36,36)",
             "ticks": "outside"
            },
            "colorscale": [
             [
              0,
              "#440154"
             ],
             [
              0.1111111111111111,
              "#482878"
             ],
             [
              0.2222222222222222,
              "#3e4989"
             ],
             [
              0.3333333333333333,
              "#31688e"
             ],
             [
              0.4444444444444444,
              "#26828e"
             ],
             [
              0.5555555555555556,
              "#1f9e89"
             ],
             [
              0.6666666666666666,
              "#35b779"
             ],
             [
              0.7777777777777778,
              "#6ece58"
             ],
             [
              0.8888888888888888,
              "#b5de2b"
             ],
             [
              1,
              "#fde725"
             ]
            ],
            "type": "heatmapgl"
           }
          ],
          "histogram": [
           {
            "marker": {
             "line": {
              "color": "white",
              "width": 0.6
             }
            },
            "type": "histogram"
           }
          ],
          "histogram2d": [
           {
            "colorbar": {
             "outlinewidth": 1,
             "tickcolor": "rgb(36,36,36)",
             "ticks": "outside"
            },
            "colorscale": [
             [
              0,
              "#440154"
             ],
             [
              0.1111111111111111,
              "#482878"
             ],
             [
              0.2222222222222222,
              "#3e4989"
             ],
             [
              0.3333333333333333,
              "#31688e"
             ],
             [
              0.4444444444444444,
              "#26828e"
             ],
             [
              0.5555555555555556,
              "#1f9e89"
             ],
             [
              0.6666666666666666,
              "#35b779"
             ],
             [
              0.7777777777777778,
              "#6ece58"
             ],
             [
              0.8888888888888888,
              "#b5de2b"
             ],
             [
              1,
              "#fde725"
             ]
            ],
            "type": "histogram2d"
           }
          ],
          "histogram2dcontour": [
           {
            "colorbar": {
             "outlinewidth": 1,
             "tickcolor": "rgb(36,36,36)",
             "ticks": "outside"
            },
            "colorscale": [
             [
              0,
              "#440154"
             ],
             [
              0.1111111111111111,
              "#482878"
             ],
             [
              0.2222222222222222,
              "#3e4989"
             ],
             [
              0.3333333333333333,
              "#31688e"
             ],
             [
              0.4444444444444444,
              "#26828e"
             ],
             [
              0.5555555555555556,
              "#1f9e89"
             ],
             [
              0.6666666666666666,
              "#35b779"
             ],
             [
              0.7777777777777778,
              "#6ece58"
             ],
             [
              0.8888888888888888,
              "#b5de2b"
             ],
             [
              1,
              "#fde725"
             ]
            ],
            "type": "histogram2dcontour"
           }
          ],
          "mesh3d": [
           {
            "colorbar": {
             "outlinewidth": 1,
             "tickcolor": "rgb(36,36,36)",
             "ticks": "outside"
            },
            "type": "mesh3d"
           }
          ],
          "parcoords": [
           {
            "line": {
             "colorbar": {
              "outlinewidth": 1,
              "tickcolor": "rgb(36,36,36)",
              "ticks": "outside"
             }
            },
            "type": "parcoords"
           }
          ],
          "pie": [
           {
            "automargin": true,
            "type": "pie"
           }
          ],
          "scatter": [
           {
            "fillpattern": {
             "fillmode": "overlay",
             "size": 10,
             "solidity": 0.2
            },
            "type": "scatter"
           }
          ],
          "scatter3d": [
           {
            "line": {
             "colorbar": {
              "outlinewidth": 1,
              "tickcolor": "rgb(36,36,36)",
              "ticks": "outside"
             }
            },
            "marker": {
             "colorbar": {
              "outlinewidth": 1,
              "tickcolor": "rgb(36,36,36)",
              "ticks": "outside"
             }
            },
            "type": "scatter3d"
           }
          ],
          "scattercarpet": [
           {
            "marker": {
             "colorbar": {
              "outlinewidth": 1,
              "tickcolor": "rgb(36,36,36)",
              "ticks": "outside"
             }
            },
            "type": "scattercarpet"
           }
          ],
          "scattergeo": [
           {
            "marker": {
             "colorbar": {
              "outlinewidth": 1,
              "tickcolor": "rgb(36,36,36)",
              "ticks": "outside"
             }
            },
            "type": "scattergeo"
           }
          ],
          "scattergl": [
           {
            "marker": {
             "colorbar": {
              "outlinewidth": 1,
              "tickcolor": "rgb(36,36,36)",
              "ticks": "outside"
             }
            },
            "type": "scattergl"
           }
          ],
          "scattermapbox": [
           {
            "marker": {
             "colorbar": {
              "outlinewidth": 1,
              "tickcolor": "rgb(36,36,36)",
              "ticks": "outside"
             }
            },
            "type": "scattermapbox"
           }
          ],
          "scatterpolar": [
           {
            "marker": {
             "colorbar": {
              "outlinewidth": 1,
              "tickcolor": "rgb(36,36,36)",
              "ticks": "outside"
             }
            },
            "type": "scatterpolar"
           }
          ],
          "scatterpolargl": [
           {
            "marker": {
             "colorbar": {
              "outlinewidth": 1,
              "tickcolor": "rgb(36,36,36)",
              "ticks": "outside"
             }
            },
            "type": "scatterpolargl"
           }
          ],
          "scatterternary": [
           {
            "marker": {
             "colorbar": {
              "outlinewidth": 1,
              "tickcolor": "rgb(36,36,36)",
              "ticks": "outside"
             }
            },
            "type": "scatterternary"
           }
          ],
          "surface": [
           {
            "colorbar": {
             "outlinewidth": 1,
             "tickcolor": "rgb(36,36,36)",
             "ticks": "outside"
            },
            "colorscale": [
             [
              0,
              "#440154"
             ],
             [
              0.1111111111111111,
              "#482878"
             ],
             [
              0.2222222222222222,
              "#3e4989"
             ],
             [
              0.3333333333333333,
              "#31688e"
             ],
             [
              0.4444444444444444,
              "#26828e"
             ],
             [
              0.5555555555555556,
              "#1f9e89"
             ],
             [
              0.6666666666666666,
              "#35b779"
             ],
             [
              0.7777777777777778,
              "#6ece58"
             ],
             [
              0.8888888888888888,
              "#b5de2b"
             ],
             [
              1,
              "#fde725"
             ]
            ],
            "type": "surface"
           }
          ],
          "table": [
           {
            "cells": {
             "fill": {
              "color": "rgb(237,237,237)"
             },
             "line": {
              "color": "white"
             }
            },
            "header": {
             "fill": {
              "color": "rgb(217,217,217)"
             },
             "line": {
              "color": "white"
             }
            },
            "type": "table"
           }
          ]
         },
         "layout": {
          "annotationdefaults": {
           "arrowhead": 0,
           "arrowwidth": 1
          },
          "autotypenumbers": "strict",
          "coloraxis": {
           "colorbar": {
            "outlinewidth": 1,
            "tickcolor": "rgb(36,36,36)",
            "ticks": "outside"
           }
          },
          "colorscale": {
           "diverging": [
            [
             0,
             "rgb(103,0,31)"
            ],
            [
             0.1,
             "rgb(178,24,43)"
            ],
            [
             0.2,
             "rgb(214,96,77)"
            ],
            [
             0.3,
             "rgb(244,165,130)"
            ],
            [
             0.4,
             "rgb(253,219,199)"
            ],
            [
             0.5,
             "rgb(247,247,247)"
            ],
            [
             0.6,
             "rgb(209,229,240)"
            ],
            [
             0.7,
             "rgb(146,197,222)"
            ],
            [
             0.8,
             "rgb(67,147,195)"
            ],
            [
             0.9,
             "rgb(33,102,172)"
            ],
            [
             1,
             "rgb(5,48,97)"
            ]
           ],
           "sequential": [
            [
             0,
             "#440154"
            ],
            [
             0.1111111111111111,
             "#482878"
            ],
            [
             0.2222222222222222,
             "#3e4989"
            ],
            [
             0.3333333333333333,
             "#31688e"
            ],
            [
             0.4444444444444444,
             "#26828e"
            ],
            [
             0.5555555555555556,
             "#1f9e89"
            ],
            [
             0.6666666666666666,
             "#35b779"
            ],
            [
             0.7777777777777778,
             "#6ece58"
            ],
            [
             0.8888888888888888,
             "#b5de2b"
            ],
            [
             1,
             "#fde725"
            ]
           ],
           "sequentialminus": [
            [
             0,
             "#440154"
            ],
            [
             0.1111111111111111,
             "#482878"
            ],
            [
             0.2222222222222222,
             "#3e4989"
            ],
            [
             0.3333333333333333,
             "#31688e"
            ],
            [
             0.4444444444444444,
             "#26828e"
            ],
            [
             0.5555555555555556,
             "#1f9e89"
            ],
            [
             0.6666666666666666,
             "#35b779"
            ],
            [
             0.7777777777777778,
             "#6ece58"
            ],
            [
             0.8888888888888888,
             "#b5de2b"
            ],
            [
             1,
             "#fde725"
            ]
           ]
          },
          "colorway": [
           "#1F77B4",
           "#FF7F0E",
           "#2CA02C",
           "#D62728",
           "#9467BD",
           "#8C564B",
           "#E377C2",
           "#7F7F7F",
           "#BCBD22",
           "#17BECF"
          ],
          "font": {
           "color": "rgb(36,36,36)"
          },
          "geo": {
           "bgcolor": "white",
           "lakecolor": "white",
           "landcolor": "white",
           "showlakes": true,
           "showland": true,
           "subunitcolor": "white"
          },
          "hoverlabel": {
           "align": "left"
          },
          "hovermode": "closest",
          "mapbox": {
           "style": "light"
          },
          "paper_bgcolor": "white",
          "plot_bgcolor": "white",
          "polar": {
           "angularaxis": {
            "gridcolor": "rgb(232,232,232)",
            "linecolor": "rgb(36,36,36)",
            "showgrid": false,
            "showline": true,
            "ticks": "outside"
           },
           "bgcolor": "white",
           "radialaxis": {
            "gridcolor": "rgb(232,232,232)",
            "linecolor": "rgb(36,36,36)",
            "showgrid": false,
            "showline": true,
            "ticks": "outside"
           }
          },
          "scene": {
           "xaxis": {
            "backgroundcolor": "white",
            "gridcolor": "rgb(232,232,232)",
            "gridwidth": 2,
            "linecolor": "rgb(36,36,36)",
            "showbackground": true,
            "showgrid": false,
            "showline": true,
            "ticks": "outside",
            "zeroline": false,
            "zerolinecolor": "rgb(36,36,36)"
           },
           "yaxis": {
            "backgroundcolor": "white",
            "gridcolor": "rgb(232,232,232)",
            "gridwidth": 2,
            "linecolor": "rgb(36,36,36)",
            "showbackground": true,
            "showgrid": false,
            "showline": true,
            "ticks": "outside",
            "zeroline": false,
            "zerolinecolor": "rgb(36,36,36)"
           },
           "zaxis": {
            "backgroundcolor": "white",
            "gridcolor": "rgb(232,232,232)",
            "gridwidth": 2,
            "linecolor": "rgb(36,36,36)",
            "showbackground": true,
            "showgrid": false,
            "showline": true,
            "ticks": "outside",
            "zeroline": false,
            "zerolinecolor": "rgb(36,36,36)"
           }
          },
          "shapedefaults": {
           "fillcolor": "black",
           "line": {
            "width": 0
           },
           "opacity": 0.3
          },
          "ternary": {
           "aaxis": {
            "gridcolor": "rgb(232,232,232)",
            "linecolor": "rgb(36,36,36)",
            "showgrid": false,
            "showline": true,
            "ticks": "outside"
           },
           "baxis": {
            "gridcolor": "rgb(232,232,232)",
            "linecolor": "rgb(36,36,36)",
            "showgrid": false,
            "showline": true,
            "ticks": "outside"
           },
           "bgcolor": "white",
           "caxis": {
            "gridcolor": "rgb(232,232,232)",
            "linecolor": "rgb(36,36,36)",
            "showgrid": false,
            "showline": true,
            "ticks": "outside"
           }
          },
          "title": {
           "x": 0.05
          },
          "xaxis": {
           "automargin": true,
           "gridcolor": "rgb(232,232,232)",
           "linecolor": "rgb(36,36,36)",
           "showgrid": false,
           "showline": true,
           "ticks": "outside",
           "title": {
            "standoff": 15
           },
           "zeroline": false,
           "zerolinecolor": "rgb(36,36,36)"
          },
          "yaxis": {
           "automargin": true,
           "gridcolor": "rgb(232,232,232)",
           "linecolor": "rgb(36,36,36)",
           "showgrid": false,
           "showline": true,
           "ticks": "outside",
           "title": {
            "standoff": 15
           },
           "zeroline": false,
           "zerolinecolor": "rgb(36,36,36)"
          }
         }
        },
        "title": {
         "text": "Total games played by Angel Di María"
        },
        "xaxis": {
         "anchor": "y",
         "domain": [
          0,
          1
         ],
         "title": {
          "text": "Team"
         }
        },
        "yaxis": {
         "anchor": "x",
         "domain": [
          0,
          1
         ],
         "title": {
          "text": "Games"
         }
        }
       }
      }
     },
     "metadata": {},
     "output_type": "display_data"
    }
   ],
   "source": [
    "fig_games_player = px.bar(df_player, x = 'player', y =['games_starts', 'games_sub'],  color_discrete_sequence=px.colors.qualitative.Pastel)\n",
    "fig_games_player.update_layout(template='simple_white', title=f'Total games played by {player}',\n",
    "    xaxis_title='Team',\n",
    "    yaxis_title='Games' )\n",
    "fig_games_player\n",
    "\n"
   ]
  },
  {
   "cell_type": "code",
<<<<<<< HEAD
   "execution_count": null,
=======
   "execution_count": 69,
>>>>>>> d20e0f0c979d08449127054dcb41934fa686c483
   "metadata": {},
   "outputs": [
    {
     "data": {
      "application/vnd.plotly.v1+json": {
       "config": {
        "plotlyServerURL": "https://plotly.com"
       },
       "data": [
        {
         "alignmentgroup": "True",
         "hovertemplate": "variable=minutes<br>player=%{x}<br>value=%{y}<extra></extra>",
         "legendgroup": "minutes",
         "marker": {
          "color": "rgb(102, 197, 204)",
          "pattern": {
           "shape": ""
          }
         },
         "name": "minutes",
         "offsetgroup": "minutes",
         "orientation": "v",
         "showlegend": true,
         "textposition": "auto",
         "type": "bar",
         "x": [
          "Angel Di María"
         ],
         "xaxis": "x",
         "y": [
          288
         ],
         "yaxis": "y"
        },
        {
         "alignmentgroup": "True",
         "hovertemplate": "variable=minutes_90s<br>player=%{x}<br>value=%{y}<extra></extra>",
         "legendgroup": "minutes_90s",
         "marker": {
          "color": "rgb(246, 207, 113)",
          "pattern": {
           "shape": ""
          }
         },
         "name": "minutes_90s",
         "offsetgroup": "minutes_90s",
         "orientation": "v",
         "showlegend": true,
         "textposition": "auto",
         "type": "bar",
         "x": [
          "Angel Di María"
         ],
         "xaxis": "x",
         "y": [
          32
         ],
         "yaxis": "y"
        }
       ],
       "layout": {
        "barmode": "group",
        "legend": {
         "title": {
          "text": "variable"
         },
         "tracegroupgap": 0
        },
        "margin": {
         "t": 60
        },
        "template": {
         "data": {
          "bar": [
           {
            "error_x": {
             "color": "rgb(36,36,36)"
            },
            "error_y": {
             "color": "rgb(36,36,36)"
            },
            "marker": {
             "line": {
              "color": "white",
              "width": 0.5
             },
             "pattern": {
              "fillmode": "overlay",
              "size": 10,
              "solidity": 0.2
             }
            },
            "type": "bar"
           }
          ],
          "barpolar": [
           {
            "marker": {
             "line": {
              "color": "white",
              "width": 0.5
             },
             "pattern": {
              "fillmode": "overlay",
              "size": 10,
              "solidity": 0.2
             }
            },
            "type": "barpolar"
           }
          ],
          "carpet": [
           {
            "aaxis": {
             "endlinecolor": "rgb(36,36,36)",
             "gridcolor": "white",
             "linecolor": "white",
             "minorgridcolor": "white",
             "startlinecolor": "rgb(36,36,36)"
            },
            "baxis": {
             "endlinecolor": "rgb(36,36,36)",
             "gridcolor": "white",
             "linecolor": "white",
             "minorgridcolor": "white",
             "startlinecolor": "rgb(36,36,36)"
            },
            "type": "carpet"
           }
          ],
          "choropleth": [
           {
            "colorbar": {
             "outlinewidth": 1,
             "tickcolor": "rgb(36,36,36)",
             "ticks": "outside"
            },
            "type": "choropleth"
           }
          ],
          "contour": [
           {
            "colorbar": {
             "outlinewidth": 1,
             "tickcolor": "rgb(36,36,36)",
             "ticks": "outside"
            },
            "colorscale": [
             [
              0,
              "#440154"
             ],
             [
              0.1111111111111111,
              "#482878"
             ],
             [
              0.2222222222222222,
              "#3e4989"
             ],
             [
              0.3333333333333333,
              "#31688e"
             ],
             [
              0.4444444444444444,
              "#26828e"
             ],
             [
              0.5555555555555556,
              "#1f9e89"
             ],
             [
              0.6666666666666666,
              "#35b779"
             ],
             [
              0.7777777777777778,
              "#6ece58"
             ],
             [
              0.8888888888888888,
              "#b5de2b"
             ],
             [
              1,
              "#fde725"
             ]
            ],
            "type": "contour"
           }
          ],
          "contourcarpet": [
           {
            "colorbar": {
             "outlinewidth": 1,
             "tickcolor": "rgb(36,36,36)",
             "ticks": "outside"
            },
            "type": "contourcarpet"
           }
          ],
          "heatmap": [
           {
            "colorbar": {
             "outlinewidth": 1,
             "tickcolor": "rgb(36,36,36)",
             "ticks": "outside"
            },
            "colorscale": [
             [
              0,
              "#440154"
             ],
             [
              0.1111111111111111,
              "#482878"
             ],
             [
              0.2222222222222222,
              "#3e4989"
             ],
             [
              0.3333333333333333,
              "#31688e"
             ],
             [
              0.4444444444444444,
              "#26828e"
             ],
             [
              0.5555555555555556,
              "#1f9e89"
             ],
             [
              0.6666666666666666,
              "#35b779"
             ],
             [
              0.7777777777777778,
              "#6ece58"
             ],
             [
              0.8888888888888888,
              "#b5de2b"
             ],
             [
              1,
              "#fde725"
             ]
            ],
            "type": "heatmap"
           }
          ],
          "heatmapgl": [
           {
            "colorbar": {
             "outlinewidth": 1,
             "tickcolor": "rgb(36,36,36)",
             "ticks": "outside"
            },
            "colorscale": [
             [
              0,
              "#440154"
             ],
             [
              0.1111111111111111,
              "#482878"
             ],
             [
              0.2222222222222222,
              "#3e4989"
             ],
             [
              0.3333333333333333,
              "#31688e"
             ],
             [
              0.4444444444444444,
              "#26828e"
             ],
             [
              0.5555555555555556,
              "#1f9e89"
             ],
             [
              0.6666666666666666,
              "#35b779"
             ],
             [
              0.7777777777777778,
              "#6ece58"
             ],
             [
              0.8888888888888888,
              "#b5de2b"
             ],
             [
              1,
              "#fde725"
             ]
            ],
            "type": "heatmapgl"
           }
          ],
          "histogram": [
           {
            "marker": {
             "line": {
              "color": "white",
              "width": 0.6
             }
            },
            "type": "histogram"
           }
          ],
          "histogram2d": [
           {
            "colorbar": {
             "outlinewidth": 1,
             "tickcolor": "rgb(36,36,36)",
             "ticks": "outside"
            },
            "colorscale": [
             [
              0,
              "#440154"
             ],
             [
              0.1111111111111111,
              "#482878"
             ],
             [
              0.2222222222222222,
              "#3e4989"
             ],
             [
              0.3333333333333333,
              "#31688e"
             ],
             [
              0.4444444444444444,
              "#26828e"
             ],
             [
              0.5555555555555556,
              "#1f9e89"
             ],
             [
              0.6666666666666666,
              "#35b779"
             ],
             [
              0.7777777777777778,
              "#6ece58"
             ],
             [
              0.8888888888888888,
              "#b5de2b"
             ],
             [
              1,
              "#fde725"
             ]
            ],
            "type": "histogram2d"
           }
          ],
          "histogram2dcontour": [
           {
            "colorbar": {
             "outlinewidth": 1,
             "tickcolor": "rgb(36,36,36)",
             "ticks": "outside"
            },
            "colorscale": [
             [
              0,
              "#440154"
             ],
             [
              0.1111111111111111,
              "#482878"
             ],
             [
              0.2222222222222222,
              "#3e4989"
             ],
             [
              0.3333333333333333,
              "#31688e"
             ],
             [
              0.4444444444444444,
              "#26828e"
             ],
             [
              0.5555555555555556,
              "#1f9e89"
             ],
             [
              0.6666666666666666,
              "#35b779"
             ],
             [
              0.7777777777777778,
              "#6ece58"
             ],
             [
              0.8888888888888888,
              "#b5de2b"
             ],
             [
              1,
              "#fde725"
             ]
            ],
            "type": "histogram2dcontour"
           }
          ],
          "mesh3d": [
           {
            "colorbar": {
             "outlinewidth": 1,
             "tickcolor": "rgb(36,36,36)",
             "ticks": "outside"
            },
            "type": "mesh3d"
           }
          ],
          "parcoords": [
           {
            "line": {
             "colorbar": {
              "outlinewidth": 1,
              "tickcolor": "rgb(36,36,36)",
              "ticks": "outside"
             }
            },
            "type": "parcoords"
           }
          ],
          "pie": [
           {
            "automargin": true,
            "type": "pie"
           }
          ],
          "scatter": [
           {
            "fillpattern": {
             "fillmode": "overlay",
             "size": 10,
             "solidity": 0.2
            },
            "type": "scatter"
           }
          ],
          "scatter3d": [
           {
            "line": {
             "colorbar": {
              "outlinewidth": 1,
              "tickcolor": "rgb(36,36,36)",
              "ticks": "outside"
             }
            },
            "marker": {
             "colorbar": {
              "outlinewidth": 1,
              "tickcolor": "rgb(36,36,36)",
              "ticks": "outside"
             }
            },
            "type": "scatter3d"
           }
          ],
          "scattercarpet": [
           {
            "marker": {
             "colorbar": {
              "outlinewidth": 1,
              "tickcolor": "rgb(36,36,36)",
              "ticks": "outside"
             }
            },
            "type": "scattercarpet"
           }
          ],
          "scattergeo": [
           {
            "marker": {
             "colorbar": {
              "outlinewidth": 1,
              "tickcolor": "rgb(36,36,36)",
              "ticks": "outside"
             }
            },
            "type": "scattergeo"
           }
          ],
          "scattergl": [
           {
            "marker": {
             "colorbar": {
              "outlinewidth": 1,
              "tickcolor": "rgb(36,36,36)",
              "ticks": "outside"
             }
            },
            "type": "scattergl"
           }
          ],
          "scattermapbox": [
           {
            "marker": {
             "colorbar": {
              "outlinewidth": 1,
              "tickcolor": "rgb(36,36,36)",
              "ticks": "outside"
             }
            },
            "type": "scattermapbox"
           }
          ],
          "scatterpolar": [
           {
            "marker": {
             "colorbar": {
              "outlinewidth": 1,
              "tickcolor": "rgb(36,36,36)",
              "ticks": "outside"
             }
            },
            "type": "scatterpolar"
           }
          ],
          "scatterpolargl": [
           {
            "marker": {
             "colorbar": {
              "outlinewidth": 1,
              "tickcolor": "rgb(36,36,36)",
              "ticks": "outside"
             }
            },
            "type": "scatterpolargl"
           }
          ],
          "scatterternary": [
           {
            "marker": {
             "colorbar": {
              "outlinewidth": 1,
              "tickcolor": "rgb(36,36,36)",
              "ticks": "outside"
             }
            },
            "type": "scatterternary"
           }
          ],
          "surface": [
           {
            "colorbar": {
             "outlinewidth": 1,
             "tickcolor": "rgb(36,36,36)",
             "ticks": "outside"
            },
            "colorscale": [
             [
              0,
              "#440154"
             ],
             [
              0.1111111111111111,
              "#482878"
             ],
             [
              0.2222222222222222,
              "#3e4989"
             ],
             [
              0.3333333333333333,
              "#31688e"
             ],
             [
              0.4444444444444444,
              "#26828e"
             ],
             [
              0.5555555555555556,
              "#1f9e89"
             ],
             [
              0.6666666666666666,
              "#35b779"
             ],
             [
              0.7777777777777778,
              "#6ece58"
             ],
             [
              0.8888888888888888,
              "#b5de2b"
             ],
             [
              1,
              "#fde725"
             ]
            ],
            "type": "surface"
           }
          ],
          "table": [
           {
            "cells": {
             "fill": {
              "color": "rgb(237,237,237)"
             },
             "line": {
              "color": "white"
             }
            },
            "header": {
             "fill": {
              "color": "rgb(217,217,217)"
             },
             "line": {
              "color": "white"
             }
            },
            "type": "table"
           }
          ]
         },
         "layout": {
          "annotationdefaults": {
           "arrowhead": 0,
           "arrowwidth": 1
          },
          "autotypenumbers": "strict",
          "coloraxis": {
           "colorbar": {
            "outlinewidth": 1,
            "tickcolor": "rgb(36,36,36)",
            "ticks": "outside"
           }
          },
          "colorscale": {
           "diverging": [
            [
             0,
             "rgb(103,0,31)"
            ],
            [
             0.1,
             "rgb(178,24,43)"
            ],
            [
             0.2,
             "rgb(214,96,77)"
            ],
            [
             0.3,
             "rgb(244,165,130)"
            ],
            [
             0.4,
             "rgb(253,219,199)"
            ],
            [
             0.5,
             "rgb(247,247,247)"
            ],
            [
             0.6,
             "rgb(209,229,240)"
            ],
            [
             0.7,
             "rgb(146,197,222)"
            ],
            [
             0.8,
             "rgb(67,147,195)"
            ],
            [
             0.9,
             "rgb(33,102,172)"
            ],
            [
             1,
             "rgb(5,48,97)"
            ]
           ],
           "sequential": [
            [
             0,
             "#440154"
            ],
            [
             0.1111111111111111,
             "#482878"
            ],
            [
             0.2222222222222222,
             "#3e4989"
            ],
            [
             0.3333333333333333,
             "#31688e"
            ],
            [
             0.4444444444444444,
             "#26828e"
            ],
            [
             0.5555555555555556,
             "#1f9e89"
            ],
            [
             0.6666666666666666,
             "#35b779"
            ],
            [
             0.7777777777777778,
             "#6ece58"
            ],
            [
             0.8888888888888888,
             "#b5de2b"
            ],
            [
             1,
             "#fde725"
            ]
           ],
           "sequentialminus": [
            [
             0,
             "#440154"
            ],
            [
             0.1111111111111111,
             "#482878"
            ],
            [
             0.2222222222222222,
             "#3e4989"
            ],
            [
             0.3333333333333333,
             "#31688e"
            ],
            [
             0.4444444444444444,
             "#26828e"
            ],
            [
             0.5555555555555556,
             "#1f9e89"
            ],
            [
             0.6666666666666666,
             "#35b779"
            ],
            [
             0.7777777777777778,
             "#6ece58"
            ],
            [
             0.8888888888888888,
             "#b5de2b"
            ],
            [
             1,
             "#fde725"
            ]
           ]
          },
          "colorway": [
           "#1F77B4",
           "#FF7F0E",
           "#2CA02C",
           "#D62728",
           "#9467BD",
           "#8C564B",
           "#E377C2",
           "#7F7F7F",
           "#BCBD22",
           "#17BECF"
          ],
          "font": {
           "color": "rgb(36,36,36)"
          },
          "geo": {
           "bgcolor": "white",
           "lakecolor": "white",
           "landcolor": "white",
           "showlakes": true,
           "showland": true,
           "subunitcolor": "white"
          },
          "hoverlabel": {
           "align": "left"
          },
          "hovermode": "closest",
          "mapbox": {
           "style": "light"
          },
          "paper_bgcolor": "white",
          "plot_bgcolor": "white",
          "polar": {
           "angularaxis": {
            "gridcolor": "rgb(232,232,232)",
            "linecolor": "rgb(36,36,36)",
            "showgrid": false,
            "showline": true,
            "ticks": "outside"
           },
           "bgcolor": "white",
           "radialaxis": {
            "gridcolor": "rgb(232,232,232)",
            "linecolor": "rgb(36,36,36)",
            "showgrid": false,
            "showline": true,
            "ticks": "outside"
           }
          },
          "scene": {
           "xaxis": {
            "backgroundcolor": "white",
            "gridcolor": "rgb(232,232,232)",
            "gridwidth": 2,
            "linecolor": "rgb(36,36,36)",
            "showbackground": true,
            "showgrid": false,
            "showline": true,
            "ticks": "outside",
            "zeroline": false,
            "zerolinecolor": "rgb(36,36,36)"
           },
           "yaxis": {
            "backgroundcolor": "white",
            "gridcolor": "rgb(232,232,232)",
            "gridwidth": 2,
            "linecolor": "rgb(36,36,36)",
            "showbackground": true,
            "showgrid": false,
            "showline": true,
            "ticks": "outside",
            "zeroline": false,
            "zerolinecolor": "rgb(36,36,36)"
           },
           "zaxis": {
            "backgroundcolor": "white",
            "gridcolor": "rgb(232,232,232)",
            "gridwidth": 2,
            "linecolor": "rgb(36,36,36)",
            "showbackground": true,
            "showgrid": false,
            "showline": true,
            "ticks": "outside",
            "zeroline": false,
            "zerolinecolor": "rgb(36,36,36)"
           }
          },
          "shapedefaults": {
           "fillcolor": "black",
           "line": {
            "width": 0
           },
           "opacity": 0.3
          },
          "ternary": {
           "aaxis": {
            "gridcolor": "rgb(232,232,232)",
            "linecolor": "rgb(36,36,36)",
            "showgrid": false,
            "showline": true,
            "ticks": "outside"
           },
           "baxis": {
            "gridcolor": "rgb(232,232,232)",
            "linecolor": "rgb(36,36,36)",
            "showgrid": false,
            "showline": true,
            "ticks": "outside"
           },
           "bgcolor": "white",
           "caxis": {
            "gridcolor": "rgb(232,232,232)",
            "linecolor": "rgb(36,36,36)",
            "showgrid": false,
            "showline": true,
            "ticks": "outside"
           }
          },
          "title": {
           "x": 0.05
          },
          "xaxis": {
           "automargin": true,
           "gridcolor": "rgb(232,232,232)",
           "linecolor": "rgb(36,36,36)",
           "showgrid": false,
           "showline": true,
           "ticks": "outside",
           "title": {
            "standoff": 15
           },
           "zeroline": false,
           "zerolinecolor": "rgb(36,36,36)"
          },
          "yaxis": {
           "automargin": true,
           "gridcolor": "rgb(232,232,232)",
           "linecolor": "rgb(36,36,36)",
           "showgrid": false,
           "showline": true,
           "ticks": "outside",
           "title": {
            "standoff": 15
           },
           "zeroline": false,
           "zerolinecolor": "rgb(36,36,36)"
          }
         }
        },
        "title": {
         "text": "Total minutes played by Angel Di María"
        },
        "xaxis": {
         "anchor": "y",
         "domain": [
          0,
          1
         ],
         "title": {
          "text": "Player"
         }
        },
        "yaxis": {
         "anchor": "x",
         "domain": [
          0,
          1
         ],
         "title": {
          "text": "Minutes"
         }
        }
       }
      }
     },
     "metadata": {},
     "output_type": "display_data"
    }
   ],
   "source": [
    "fig_min = px.bar(df_player, x = 'player', y =['minutes', 'minutes_90s'], barmode='group', color_discrete_sequence=px.colors.qualitative.Pastel)\n",
    "fig_min.update_layout(template='simple_white', title=f'Total minutes played by {player}',\n",
    "    xaxis_title='Player',\n",
    "    yaxis_title='Minutes' )\n",
    "\n",
    "fig_min.show()"
   ]
  },
  {
   "cell_type": "code",
<<<<<<< HEAD
   "execution_count": null,
=======
   "execution_count": 70,
>>>>>>> d20e0f0c979d08449127054dcb41934fa686c483
   "metadata": {},
   "outputs": [
    {
     "data": {
      "text/html": [
       "<div>\n",
       "<style scoped>\n",
       "    .dataframe tbody tr th:only-of-type {\n",
       "        vertical-align: middle;\n",
       "    }\n",
       "\n",
       "    .dataframe tbody tr th {\n",
       "        vertical-align: top;\n",
       "    }\n",
       "\n",
       "    .dataframe thead th {\n",
       "        text-align: right;\n",
       "    }\n",
       "</style>\n",
       "<table border=\"1\" class=\"dataframe\">\n",
       "  <thead>\n",
       "    <tr style=\"text-align: right;\">\n",
       "      <th></th>\n",
       "      <th>match_no</th>\n",
       "      <th>day_of_week</th>\n",
       "      <th>date</th>\n",
       "      <th>hour</th>\n",
       "      <th>venue</th>\n",
       "      <th>referee</th>\n",
       "      <th>group</th>\n",
       "      <th>1</th>\n",
       "      <th>2</th>\n",
       "      <th>attendance</th>\n",
       "      <th>1_xg</th>\n",
       "      <th>2_xg</th>\n",
       "      <th>1_poss</th>\n",
       "      <th>2_poss</th>\n",
       "      <th>1_goals</th>\n",
       "      <th>2_goals</th>\n",
       "      <th>score</th>\n",
       "      <th>1_attempts</th>\n",
       "      <th>2_attempts</th>\n",
       "      <th>1_conceded</th>\n",
       "      <th>2_conceded</th>\n",
       "      <th>1_goal_inside_penalty_area</th>\n",
       "      <th>2_goal_inside_penalty_area</th>\n",
       "      <th>1_goal_outside_penalty_area</th>\n",
       "      <th>2_goal_outside_penalty_area</th>\n",
       "      <th>1_ontarget</th>\n",
       "      <th>2_ontarget</th>\n",
       "      <th>1_offtarget</th>\n",
       "      <th>2_offtarget</th>\n",
       "      <th>1_attempts_inside_penalty_area</th>\n",
       "      <th>2_attempts_inside_penalty_area</th>\n",
       "      <th>1_attempts_outside_penalty_area</th>\n",
       "      <th>2_attempts_outside_penalty_area</th>\n",
       "      <th>1_yellow_cards</th>\n",
       "      <th>2_yellow_cards</th>\n",
       "      <th>1_red_cards</th>\n",
       "      <th>2_red_cards</th>\n",
       "      <th>faul_against_1</th>\n",
       "      <th>faul_against_2</th>\n",
       "      <th>1_offsides</th>\n",
       "      <th>2_offsides</th>\n",
       "      <th>1_passes</th>\n",
       "      <th>2_passes</th>\n",
       "      <th>1_passes_compeletd</th>\n",
       "      <th>2_passes_compeletd</th>\n",
       "      <th>1_corners</th>\n",
       "      <th>2_corners</th>\n",
       "      <th>1_free_kicks</th>\n",
       "      <th>2_free_kicks</th>\n",
       "      <th>1_panelties_scored</th>\n",
       "      <th>2_panelties_scored</th>\n",
       "      <th>1_goal_prevented</th>\n",
       "      <th>2_goal_prevented</th>\n",
       "      <th>1_own_goal</th>\n",
       "      <th>2_own_goal</th>\n",
       "      <th>1_forced_turnovers</th>\n",
       "      <th>2_forced_turnovers</th>\n",
       "      <th>1_defensive_pressure_applied</th>\n",
       "      <th>2_defensive_pressure_applied</th>\n",
       "    </tr>\n",
       "  </thead>\n",
       "  <tbody>\n",
       "    <tr>\n",
       "      <th>5</th>\n",
       "      <td>5</td>\n",
       "      <td>Tue</td>\n",
       "      <td>22-Nov-22</td>\n",
       "      <td>11:00</td>\n",
       "      <td>Lusail Iconic Stadium</td>\n",
       "      <td>Slavko Vincic</td>\n",
       "      <td>Group C</td>\n",
       "      <td>Argentina</td>\n",
       "      <td>Saudi Arabia</td>\n",
       "      <td>88012</td>\n",
       "      <td>2.2</td>\n",
       "      <td>0.1</td>\n",
       "      <td>69</td>\n",
       "      <td>31</td>\n",
       "      <td>1</td>\n",
       "      <td>2</td>\n",
       "      <td>1,2</td>\n",
       "      <td>14</td>\n",
       "      <td>3</td>\n",
       "      <td>2</td>\n",
       "      <td>1</td>\n",
       "      <td>1</td>\n",
       "      <td>2</td>\n",
       "      <td>0</td>\n",
       "      <td>0</td>\n",
       "      <td>6</td>\n",
       "      <td>2</td>\n",
       "      <td>5</td>\n",
       "      <td>0</td>\n",
       "      <td>10</td>\n",
       "      <td>3</td>\n",
       "      <td>4</td>\n",
       "      <td>0</td>\n",
       "      <td>0</td>\n",
       "      <td>6</td>\n",
       "      <td>0</td>\n",
       "      <td>0</td>\n",
       "      <td>7</td>\n",
       "      <td>21</td>\n",
       "      <td>10</td>\n",
       "      <td>1</td>\n",
       "      <td>610</td>\n",
       "      <td>267</td>\n",
       "      <td>529</td>\n",
       "      <td>190</td>\n",
       "      <td>9</td>\n",
       "      <td>2</td>\n",
       "      <td>22</td>\n",
       "      <td>16</td>\n",
       "      <td>1</td>\n",
       "      <td>0</td>\n",
       "      <td>4</td>\n",
       "      <td>14</td>\n",
       "      <td>0</td>\n",
       "      <td>0</td>\n",
       "      <td>65</td>\n",
       "      <td>80</td>\n",
       "      <td>163</td>\n",
       "      <td>361</td>\n",
       "    </tr>\n",
       "    <tr>\n",
       "      <th>7</th>\n",
       "      <td>7</td>\n",
       "      <td>Tue</td>\n",
       "      <td>22-Nov-22</td>\n",
       "      <td>17:00</td>\n",
       "      <td>Stadium 974</td>\n",
       "      <td>Chris Beath</td>\n",
       "      <td>Group C</td>\n",
       "      <td>Mexico</td>\n",
       "      <td>Poland</td>\n",
       "      <td>39369</td>\n",
       "      <td>0.7</td>\n",
       "      <td>0.9</td>\n",
       "      <td>60</td>\n",
       "      <td>40</td>\n",
       "      <td>0</td>\n",
       "      <td>0</td>\n",
       "      <td>0,0</td>\n",
       "      <td>13</td>\n",
       "      <td>8</td>\n",
       "      <td>0</td>\n",
       "      <td>0</td>\n",
       "      <td>0</td>\n",
       "      <td>0</td>\n",
       "      <td>0</td>\n",
       "      <td>0</td>\n",
       "      <td>4</td>\n",
       "      <td>1</td>\n",
       "      <td>5</td>\n",
       "      <td>4</td>\n",
       "      <td>10</td>\n",
       "      <td>7</td>\n",
       "      <td>3</td>\n",
       "      <td>1</td>\n",
       "      <td>2</td>\n",
       "      <td>1</td>\n",
       "      <td>0</td>\n",
       "      <td>0</td>\n",
       "      <td>14</td>\n",
       "      <td>16</td>\n",
       "      <td>3</td>\n",
       "      <td>0</td>\n",
       "      <td>485</td>\n",
       "      <td>322</td>\n",
       "      <td>422</td>\n",
       "      <td>241</td>\n",
       "      <td>6</td>\n",
       "      <td>5</td>\n",
       "      <td>16</td>\n",
       "      <td>16</td>\n",
       "      <td>0</td>\n",
       "      <td>0</td>\n",
       "      <td>8</td>\n",
       "      <td>15</td>\n",
       "      <td>0</td>\n",
       "      <td>0</td>\n",
       "      <td>61</td>\n",
       "      <td>70</td>\n",
       "      <td>193</td>\n",
       "      <td>290</td>\n",
       "    </tr>\n",
       "    <tr>\n",
       "      <th>22</th>\n",
       "      <td>22</td>\n",
       "      <td>Sat</td>\n",
       "      <td>26-Nov-22</td>\n",
       "      <td>14:00</td>\n",
       "      <td>Education City Stadium</td>\n",
       "      <td>Wilton Sampaio</td>\n",
       "      <td>Group C</td>\n",
       "      <td>Poland</td>\n",
       "      <td>Saudi Arabia</td>\n",
       "      <td>44259</td>\n",
       "      <td>1.6</td>\n",
       "      <td>1.7</td>\n",
       "      <td>37</td>\n",
       "      <td>63</td>\n",
       "      <td>2</td>\n",
       "      <td>0</td>\n",
       "      <td>2,0</td>\n",
       "      <td>8</td>\n",
       "      <td>16</td>\n",
       "      <td>0</td>\n",
       "      <td>2</td>\n",
       "      <td>2</td>\n",
       "      <td>0</td>\n",
       "      <td>0</td>\n",
       "      <td>0</td>\n",
       "      <td>3</td>\n",
       "      <td>5</td>\n",
       "      <td>3</td>\n",
       "      <td>9</td>\n",
       "      <td>8</td>\n",
       "      <td>9</td>\n",
       "      <td>0</td>\n",
       "      <td>7</td>\n",
       "      <td>3</td>\n",
       "      <td>2</td>\n",
       "      <td>0</td>\n",
       "      <td>0</td>\n",
       "      <td>18</td>\n",
       "      <td>15</td>\n",
       "      <td>0</td>\n",
       "      <td>0</td>\n",
       "      <td>303</td>\n",
       "      <td>560</td>\n",
       "      <td>236</td>\n",
       "      <td>494</td>\n",
       "      <td>4</td>\n",
       "      <td>5</td>\n",
       "      <td>15</td>\n",
       "      <td>17</td>\n",
       "      <td>0</td>\n",
       "      <td>0</td>\n",
       "      <td>16</td>\n",
       "      <td>9</td>\n",
       "      <td>0</td>\n",
       "      <td>0</td>\n",
       "      <td>69</td>\n",
       "      <td>53</td>\n",
       "      <td>329</td>\n",
       "      <td>173</td>\n",
       "    </tr>\n",
       "    <tr>\n",
       "      <th>24</th>\n",
       "      <td>24</td>\n",
       "      <td>Sat</td>\n",
       "      <td>26-Nov-22</td>\n",
       "      <td>20:00</td>\n",
       "      <td>Lusail Iconic Stadium</td>\n",
       "      <td>Daniele Orsato</td>\n",
       "      <td>Group C</td>\n",
       "      <td>Argentina</td>\n",
       "      <td>Mexico</td>\n",
       "      <td>88966</td>\n",
       "      <td>0.3</td>\n",
       "      <td>0.3</td>\n",
       "      <td>58</td>\n",
       "      <td>42</td>\n",
       "      <td>2</td>\n",
       "      <td>0</td>\n",
       "      <td>2,0</td>\n",
       "      <td>5</td>\n",
       "      <td>4</td>\n",
       "      <td>0</td>\n",
       "      <td>2</td>\n",
       "      <td>1</td>\n",
       "      <td>0</td>\n",
       "      <td>1</td>\n",
       "      <td>0</td>\n",
       "      <td>2</td>\n",
       "      <td>1</td>\n",
       "      <td>3</td>\n",
       "      <td>2</td>\n",
       "      <td>2</td>\n",
       "      <td>1</td>\n",
       "      <td>3</td>\n",
       "      <td>3</td>\n",
       "      <td>1</td>\n",
       "      <td>4</td>\n",
       "      <td>0</td>\n",
       "      <td>0</td>\n",
       "      <td>15</td>\n",
       "      <td>19</td>\n",
       "      <td>2</td>\n",
       "      <td>4</td>\n",
       "      <td>533</td>\n",
       "      <td>356</td>\n",
       "      <td>464</td>\n",
       "      <td>287</td>\n",
       "      <td>4</td>\n",
       "      <td>2</td>\n",
       "      <td>23</td>\n",
       "      <td>17</td>\n",
       "      <td>0</td>\n",
       "      <td>0</td>\n",
       "      <td>4</td>\n",
       "      <td>5</td>\n",
       "      <td>0</td>\n",
       "      <td>0</td>\n",
       "      <td>63</td>\n",
       "      <td>79</td>\n",
       "      <td>220</td>\n",
       "      <td>327</td>\n",
       "    </tr>\n",
       "    <tr>\n",
       "      <th>39</th>\n",
       "      <td>39</td>\n",
       "      <td>Wed</td>\n",
       "      <td>30-Nov-22</td>\n",
       "      <td>20:00</td>\n",
       "      <td>Lusail Iconic Stadium</td>\n",
       "      <td>Michael Oliver</td>\n",
       "      <td>Group C</td>\n",
       "      <td>Poland</td>\n",
       "      <td>Argentina</td>\n",
       "      <td>84985</td>\n",
       "      <td>1.1</td>\n",
       "      <td>2.3</td>\n",
       "      <td>40</td>\n",
       "      <td>60</td>\n",
       "      <td>0</td>\n",
       "      <td>2</td>\n",
       "      <td>1,2</td>\n",
       "      <td>4</td>\n",
       "      <td>25</td>\n",
       "      <td>2</td>\n",
       "      <td>0</td>\n",
       "      <td>0</td>\n",
       "      <td>2</td>\n",
       "      <td>0</td>\n",
       "      <td>0</td>\n",
       "      <td>0</td>\n",
       "      <td>13</td>\n",
       "      <td>2</td>\n",
       "      <td>8</td>\n",
       "      <td>2</td>\n",
       "      <td>21</td>\n",
       "      <td>2</td>\n",
       "      <td>4</td>\n",
       "      <td>1</td>\n",
       "      <td>1</td>\n",
       "      <td>0</td>\n",
       "      <td>0</td>\n",
       "      <td>6</td>\n",
       "      <td>11</td>\n",
       "      <td>0</td>\n",
       "      <td>0</td>\n",
       "      <td>321</td>\n",
       "      <td>862</td>\n",
       "      <td>261</td>\n",
       "      <td>814</td>\n",
       "      <td>1</td>\n",
       "      <td>9</td>\n",
       "      <td>12</td>\n",
       "      <td>5</td>\n",
       "      <td>0</td>\n",
       "      <td>0</td>\n",
       "      <td>25</td>\n",
       "      <td>4</td>\n",
       "      <td>0</td>\n",
       "      <td>0</td>\n",
       "      <td>67</td>\n",
       "      <td>48</td>\n",
       "      <td>438</td>\n",
       "      <td>141</td>\n",
       "    </tr>\n",
       "    <tr>\n",
       "      <th>40</th>\n",
       "      <td>40</td>\n",
       "      <td>Wed</td>\n",
       "      <td>30-Nov-22</td>\n",
       "      <td>20:00</td>\n",
       "      <td>Stadium 974</td>\n",
       "      <td>Danny Makkelie</td>\n",
       "      <td>Group C</td>\n",
       "      <td>Saudi Arabia</td>\n",
       "      <td>Mexico</td>\n",
       "      <td>44089</td>\n",
       "      <td>0.3</td>\n",
       "      <td>3.5</td>\n",
       "      <td>27</td>\n",
       "      <td>73</td>\n",
       "      <td>1</td>\n",
       "      <td>2</td>\n",
       "      <td>0,2</td>\n",
       "      <td>10</td>\n",
       "      <td>25</td>\n",
       "      <td>2</td>\n",
       "      <td>1</td>\n",
       "      <td>1</td>\n",
       "      <td>1</td>\n",
       "      <td>0</td>\n",
       "      <td>1</td>\n",
       "      <td>2</td>\n",
       "      <td>10</td>\n",
       "      <td>8</td>\n",
       "      <td>8</td>\n",
       "      <td>6</td>\n",
       "      <td>10</td>\n",
       "      <td>4</td>\n",
       "      <td>15</td>\n",
       "      <td>6</td>\n",
       "      <td>1</td>\n",
       "      <td>0</td>\n",
       "      <td>0</td>\n",
       "      <td>20</td>\n",
       "      <td>18</td>\n",
       "      <td>2</td>\n",
       "      <td>6</td>\n",
       "      <td>297</td>\n",
       "      <td>412</td>\n",
       "      <td>197</td>\n",
       "      <td>336</td>\n",
       "      <td>1</td>\n",
       "      <td>8</td>\n",
       "      <td>23</td>\n",
       "      <td>22</td>\n",
       "      <td>0</td>\n",
       "      <td>0</td>\n",
       "      <td>26</td>\n",
       "      <td>10</td>\n",
       "      <td>0</td>\n",
       "      <td>0</td>\n",
       "      <td>82</td>\n",
       "      <td>76</td>\n",
       "      <td>269</td>\n",
       "      <td>229</td>\n",
       "    </tr>\n",
       "  </tbody>\n",
       "</table>\n",
       "</div>"
      ],
      "text/plain": [
       "0  match_no day_of_week       date   hour                   venue   \n",
       "5         5         Tue  22-Nov-22  11:00   Lusail Iconic Stadium  \\\n",
       "7         7         Tue  22-Nov-22  17:00             Stadium 974   \n",
       "22       22         Sat  26-Nov-22  14:00  Education City Stadium   \n",
       "24       24         Sat  26-Nov-22  20:00   Lusail Iconic Stadium   \n",
       "39       39         Wed  30-Nov-22  20:00   Lusail Iconic Stadium   \n",
       "40       40         Wed  30-Nov-22  20:00             Stadium 974   \n",
       "\n",
       "0          referee    group             1             2 attendance 1_xg 2_xg   \n",
       "5    Slavko Vincic  Group C     Argentina  Saudi Arabia      88012  2.2  0.1  \\\n",
       "7      Chris Beath  Group C        Mexico        Poland      39369  0.7  0.9   \n",
       "22  Wilton Sampaio  Group C        Poland  Saudi Arabia      44259  1.6  1.7   \n",
       "24  Daniele Orsato  Group C     Argentina        Mexico      88966  0.3  0.3   \n",
       "39  Michael Oliver  Group C        Poland     Argentina      84985  1.1  2.3   \n",
       "40  Danny Makkelie  Group C  Saudi Arabia        Mexico      44089  0.3  3.5   \n",
       "\n",
       "0  1_poss 2_poss 1_goals 2_goals score 1_attempts 2_attempts 1_conceded   \n",
       "5      69     31       1       2   1,2         14          3          2  \\\n",
       "7      60     40       0       0   0,0         13          8          0   \n",
       "22     37     63       2       0   2,0          8         16          0   \n",
       "24     58     42       2       0   2,0          5          4          0   \n",
       "39     40     60       0       2   1,2          4         25          2   \n",
       "40     27     73       1       2   0,2         10         25          2   \n",
       "\n",
       "0  2_conceded 1_goal_inside_penalty_area 2_goal_inside_penalty_area   \n",
       "5           1                          1                          2  \\\n",
       "7           0                          0                          0   \n",
       "22          2                          2                          0   \n",
       "24          2                          1                          0   \n",
       "39          0                          0                          2   \n",
       "40          1                          1                          1   \n",
       "\n",
       "0  1_goal_outside_penalty_area 2_goal_outside_penalty_area 1_ontarget   \n",
       "5                            0                           0          6  \\\n",
       "7                            0                           0          4   \n",
       "22                           0                           0          3   \n",
       "24                           1                           0          2   \n",
       "39                           0                           0          0   \n",
       "40                           0                           1          2   \n",
       "\n",
       "0  2_ontarget 1_offtarget 2_offtarget 1_attempts_inside_penalty_area   \n",
       "5           2           5           0                             10  \\\n",
       "7           1           5           4                             10   \n",
       "22          5           3           9                              8   \n",
       "24          1           3           2                              2   \n",
       "39         13           2           8                              2   \n",
       "40         10           8           8                              6   \n",
       "\n",
       "0  2_attempts_inside_penalty_area 1_attempts_outside_penalty_area   \n",
       "5                               3                               4  \\\n",
       "7                               7                               3   \n",
       "22                              9                               0   \n",
       "24                              1                               3   \n",
       "39                             21                               2   \n",
       "40                             10                               4   \n",
       "\n",
       "0  2_attempts_outside_penalty_area 1_yellow_cards 2_yellow_cards 1_red_cards   \n",
       "5                                0              0              6           0  \\\n",
       "7                                1              2              1           0   \n",
       "22                               7              3              2           0   \n",
       "24                               3              1              4           0   \n",
       "39                               4              1              1           0   \n",
       "40                              15              6              1           0   \n",
       "\n",
       "0  2_red_cards faul_against_1 faul_against_2 1_offsides 2_offsides 1_passes   \n",
       "5            0              7             21         10          1      610  \\\n",
       "7            0             14             16          3          0      485   \n",
       "22           0             18             15          0          0      303   \n",
       "24           0             15             19          2          4      533   \n",
       "39           0              6             11          0          0      321   \n",
       "40           0             20             18          2          6      297   \n",
       "\n",
       "0  2_passes 1_passes_compeletd 2_passes_compeletd 1_corners 2_corners   \n",
       "5       267                529                190         9         2  \\\n",
       "7       322                422                241         6         5   \n",
       "22      560                236                494         4         5   \n",
       "24      356                464                287         4         2   \n",
       "39      862                261                814         1         9   \n",
       "40      412                197                336         1         8   \n",
       "\n",
       "0  1_free_kicks 2_free_kicks 1_panelties_scored 2_panelties_scored   \n",
       "5            22           16                  1                  0  \\\n",
       "7            16           16                  0                  0   \n",
       "22           15           17                  0                  0   \n",
       "24           23           17                  0                  0   \n",
       "39           12            5                  0                  0   \n",
       "40           23           22                  0                  0   \n",
       "\n",
       "0  1_goal_prevented 2_goal_prevented 1_own_goal 2_own_goal 1_forced_turnovers   \n",
       "5                 4               14          0          0                 65  \\\n",
       "7                 8               15          0          0                 61   \n",
       "22               16                9          0          0                 69   \n",
       "24                4                5          0          0                 63   \n",
       "39               25                4          0          0                 67   \n",
       "40               26               10          0          0                 82   \n",
       "\n",
       "0  2_forced_turnovers 1_defensive_pressure_applied   \n",
       "5                  80                          163  \\\n",
       "7                  70                          193   \n",
       "22                 53                          329   \n",
       "24                 79                          220   \n",
       "39                 48                          438   \n",
       "40                 76                          269   \n",
       "\n",
       "0  2_defensive_pressure_applied  \n",
       "5                           361  \n",
       "7                           290  \n",
       "22                          173  \n",
       "24                          327  \n",
       "39                          141  \n",
       "40                          229  "
      ]
     },
     "execution_count": 70,
     "metadata": {},
     "output_type": "execute_result"
    }
   ],
   "source": [
    "matches_fifa_wc2022.query(\"group == 'Group C'\")"
   ]
  },
  {
   "cell_type": "code",
<<<<<<< HEAD
   "execution_count": null,
=======
   "execution_count": 71,
>>>>>>> d20e0f0c979d08449127054dcb41934fa686c483
   "metadata": {},
   "outputs": [
    {
     "data": {
      "text/html": [
       "<div>\n",
       "<style scoped>\n",
       "    .dataframe tbody tr th:only-of-type {\n",
       "        vertical-align: middle;\n",
       "    }\n",
       "\n",
       "    .dataframe tbody tr th {\n",
       "        vertical-align: top;\n",
       "    }\n",
       "\n",
       "    .dataframe thead th {\n",
       "        text-align: right;\n",
       "    }\n",
       "</style>\n",
       "<table border=\"1\" class=\"dataframe\">\n",
       "  <thead>\n",
       "    <tr style=\"text-align: right;\">\n",
       "      <th></th>\n",
       "      <th>player</th>\n",
       "      <th>position</th>\n",
       "      <th>team</th>\n",
       "      <th>age</th>\n",
       "      <th>age2</th>\n",
       "      <th>club</th>\n",
       "      <th>birth_year</th>\n",
       "      <th>games</th>\n",
       "      <th>games_starts</th>\n",
       "      <th>minutes</th>\n",
       "      <th>minutes_90s</th>\n",
       "      <th>goals</th>\n",
       "      <th>assists</th>\n",
       "      <th>goals_pens</th>\n",
       "      <th>pens_made</th>\n",
       "      <th>pens_att</th>\n",
       "      <th>cards_yellow</th>\n",
       "      <th>cards_red</th>\n",
       "      <th>goals_per90</th>\n",
       "      <th>assists_per90</th>\n",
       "      <th>goals_assists_per90</th>\n",
       "      <th>goals_pens_per90</th>\n",
       "      <th>goals_assists_pens_per90</th>\n",
       "      <th>xg</th>\n",
       "      <th>npxg</th>\n",
       "      <th>xg_assist</th>\n",
       "      <th>npxg_xg_assist</th>\n",
       "      <th>xg_per90</th>\n",
       "      <th>xg_assist_per90</th>\n",
       "      <th>xg_xg_assist_per90</th>\n",
       "      <th>npxg_per90</th>\n",
       "      <th>npxg_xg_assist_per90</th>\n",
       "      <th>games_sub</th>\n",
       "    </tr>\n",
       "  </thead>\n",
       "  <tbody>\n",
       "    <tr>\n",
       "      <th>675</th>\n",
       "      <td>Angel Di María</td>\n",
       "      <td>MF</td>\n",
       "      <td>Argentina</td>\n",
       "      <td>34-307</td>\n",
       "      <td>34</td>\n",
       "      <td>Juventus</td>\n",
       "      <td>1988</td>\n",
       "      <td>5</td>\n",
       "      <td>4</td>\n",
       "      <td>288</td>\n",
       "      <td>32</td>\n",
       "      <td>1</td>\n",
       "      <td>1</td>\n",
       "      <td>1</td>\n",
       "      <td>0</td>\n",
       "      <td>0</td>\n",
       "      <td>0</td>\n",
       "      <td>0</td>\n",
       "      <td>31</td>\n",
       "      <td>31</td>\n",
       "      <td>62</td>\n",
       "      <td>31</td>\n",
       "      <td>62</td>\n",
       "      <td>8.0</td>\n",
       "      <td>8.0</td>\n",
       "      <td>6.0</td>\n",
       "      <td>14.0</td>\n",
       "      <td>27.0</td>\n",
       "      <td>2.0</td>\n",
       "      <td>46.0</td>\n",
       "      <td>27.0</td>\n",
       "      <td>46.0</td>\n",
       "      <td>1</td>\n",
       "    </tr>\n",
       "  </tbody>\n",
       "</table>\n",
       "</div>"
      ],
      "text/plain": [
       "             player position       team     age  age2      club  birth_year   \n",
       "675  Angel Di María       MF  Argentina  34-307    34  Juventus        1988  \\\n",
       "\n",
       "     games  games_starts  minutes  minutes_90s  goals  assists  goals_pens   \n",
       "675      5             4      288           32      1        1           1  \\\n",
       "\n",
       "     pens_made  pens_att  cards_yellow  cards_red  goals_per90  assists_per90   \n",
       "675          0         0             0          0           31             31  \\\n",
       "\n",
       "     goals_assists_per90  goals_pens_per90  goals_assists_pens_per90   xg   \n",
       "675                   62                31                        62  8.0  \\\n",
       "\n",
       "     npxg  xg_assist  npxg_xg_assist  xg_per90  xg_assist_per90   \n",
       "675   8.0        6.0            14.0      27.0              2.0  \\\n",
       "\n",
       "     xg_xg_assist_per90  npxg_per90  npxg_xg_assist_per90  games_sub  \n",
       "675                46.0        27.0                  46.0          1  "
      ]
     },
     "execution_count": 71,
     "metadata": {},
     "output_type": "execute_result"
    }
   ],
   "source": [
    "df_player"
   ]
  },
  {
   "cell_type": "code",
<<<<<<< HEAD
   "execution_count": null,
=======
   "execution_count": 72,
>>>>>>> d20e0f0c979d08449127054dcb41934fa686c483
   "metadata": {},
   "outputs": [
    {
     "name": "stderr",
     "output_type": "stream",
     "text": [
      "/var/folders/pf/565wgnj55rl181qjmrmqq69m0000gn/T/ipykernel_91953/3184178851.py:5: FutureWarning:\n",
      "\n",
      "Calling int on a single element Series is deprecated and will raise a TypeError in the future. Use int(ser.iloc[0]) instead\n",
      "\n"
     ]
    },
    {
     "data": {
      "application/vnd.plotly.v1+json": {
       "config": {
        "plotlyServerURL": "https://plotly.com"
       },
       "data": [
        {
         "fill": "toself",
         "r": [
          1,
          1,
          1,
          0,
          0
         ],
         "theta": [
          "goals",
          "assists",
          "goals_pens",
          "pens_made",
          "pens_att"
         ],
         "type": "scatterpolar"
        }
       ],
       "layout": {
        "template": {
         "data": {
          "bar": [
           {
            "error_x": {
             "color": "#2a3f5f"
            },
            "error_y": {
             "color": "#2a3f5f"
            },
            "marker": {
             "line": {
              "color": "#E5ECF6",
              "width": 0.5
             },
             "pattern": {
              "fillmode": "overlay",
              "size": 10,
              "solidity": 0.2
             }
            },
            "type": "bar"
           }
          ],
          "barpolar": [
           {
            "marker": {
             "line": {
              "color": "#E5ECF6",
              "width": 0.5
             },
             "pattern": {
              "fillmode": "overlay",
              "size": 10,
              "solidity": 0.2
             }
            },
            "type": "barpolar"
           }
          ],
          "carpet": [
           {
            "aaxis": {
             "endlinecolor": "#2a3f5f",
             "gridcolor": "white",
             "linecolor": "white",
             "minorgridcolor": "white",
             "startlinecolor": "#2a3f5f"
            },
            "baxis": {
             "endlinecolor": "#2a3f5f",
             "gridcolor": "white",
             "linecolor": "white",
             "minorgridcolor": "white",
             "startlinecolor": "#2a3f5f"
            },
            "type": "carpet"
           }
          ],
          "choropleth": [
           {
            "colorbar": {
             "outlinewidth": 0,
             "ticks": ""
            },
            "type": "choropleth"
           }
          ],
          "contour": [
           {
            "colorbar": {
             "outlinewidth": 0,
             "ticks": ""
            },
            "colorscale": [
             [
              0,
              "#0d0887"
             ],
             [
              0.1111111111111111,
              "#46039f"
             ],
             [
              0.2222222222222222,
              "#7201a8"
             ],
             [
              0.3333333333333333,
              "#9c179e"
             ],
             [
              0.4444444444444444,
              "#bd3786"
             ],
             [
              0.5555555555555556,
              "#d8576b"
             ],
             [
              0.6666666666666666,
              "#ed7953"
             ],
             [
              0.7777777777777778,
              "#fb9f3a"
             ],
             [
              0.8888888888888888,
              "#fdca26"
             ],
             [
              1,
              "#f0f921"
             ]
            ],
            "type": "contour"
           }
          ],
          "contourcarpet": [
           {
            "colorbar": {
             "outlinewidth": 0,
             "ticks": ""
            },
            "type": "contourcarpet"
           }
          ],
          "heatmap": [
           {
            "colorbar": {
             "outlinewidth": 0,
             "ticks": ""
            },
            "colorscale": [
             [
              0,
              "#0d0887"
             ],
             [
              0.1111111111111111,
              "#46039f"
             ],
             [
              0.2222222222222222,
              "#7201a8"
             ],
             [
              0.3333333333333333,
              "#9c179e"
             ],
             [
              0.4444444444444444,
              "#bd3786"
             ],
             [
              0.5555555555555556,
              "#d8576b"
             ],
             [
              0.6666666666666666,
              "#ed7953"
             ],
             [
              0.7777777777777778,
              "#fb9f3a"
             ],
             [
              0.8888888888888888,
              "#fdca26"
             ],
             [
              1,
              "#f0f921"
             ]
            ],
            "type": "heatmap"
           }
          ],
          "heatmapgl": [
           {
            "colorbar": {
             "outlinewidth": 0,
             "ticks": ""
            },
            "colorscale": [
             [
              0,
              "#0d0887"
             ],
             [
              0.1111111111111111,
              "#46039f"
             ],
             [
              0.2222222222222222,
              "#7201a8"
             ],
             [
              0.3333333333333333,
              "#9c179e"
             ],
             [
              0.4444444444444444,
              "#bd3786"
             ],
             [
              0.5555555555555556,
              "#d8576b"
             ],
             [
              0.6666666666666666,
              "#ed7953"
             ],
             [
              0.7777777777777778,
              "#fb9f3a"
             ],
             [
              0.8888888888888888,
              "#fdca26"
             ],
             [
              1,
              "#f0f921"
             ]
            ],
            "type": "heatmapgl"
           }
          ],
          "histogram": [
           {
            "marker": {
             "pattern": {
              "fillmode": "overlay",
              "size": 10,
              "solidity": 0.2
             }
            },
            "type": "histogram"
           }
          ],
          "histogram2d": [
           {
            "colorbar": {
             "outlinewidth": 0,
             "ticks": ""
            },
            "colorscale": [
             [
              0,
              "#0d0887"
             ],
             [
              0.1111111111111111,
              "#46039f"
             ],
             [
              0.2222222222222222,
              "#7201a8"
             ],
             [
              0.3333333333333333,
              "#9c179e"
             ],
             [
              0.4444444444444444,
              "#bd3786"
             ],
             [
              0.5555555555555556,
              "#d8576b"
             ],
             [
              0.6666666666666666,
              "#ed7953"
             ],
             [
              0.7777777777777778,
              "#fb9f3a"
             ],
             [
              0.8888888888888888,
              "#fdca26"
             ],
             [
              1,
              "#f0f921"
             ]
            ],
            "type": "histogram2d"
           }
          ],
          "histogram2dcontour": [
           {
            "colorbar": {
             "outlinewidth": 0,
             "ticks": ""
            },
            "colorscale": [
             [
              0,
              "#0d0887"
             ],
             [
              0.1111111111111111,
              "#46039f"
             ],
             [
              0.2222222222222222,
              "#7201a8"
             ],
             [
              0.3333333333333333,
              "#9c179e"
             ],
             [
              0.4444444444444444,
              "#bd3786"
             ],
             [
              0.5555555555555556,
              "#d8576b"
             ],
             [
              0.6666666666666666,
              "#ed7953"
             ],
             [
              0.7777777777777778,
              "#fb9f3a"
             ],
             [
              0.8888888888888888,
              "#fdca26"
             ],
             [
              1,
              "#f0f921"
             ]
            ],
            "type": "histogram2dcontour"
           }
          ],
          "mesh3d": [
           {
            "colorbar": {
             "outlinewidth": 0,
             "ticks": ""
            },
            "type": "mesh3d"
           }
          ],
          "parcoords": [
           {
            "line": {
             "colorbar": {
              "outlinewidth": 0,
              "ticks": ""
             }
            },
            "type": "parcoords"
           }
          ],
          "pie": [
           {
            "automargin": true,
            "type": "pie"
           }
          ],
          "scatter": [
           {
            "fillpattern": {
             "fillmode": "overlay",
             "size": 10,
             "solidity": 0.2
            },
            "type": "scatter"
           }
          ],
          "scatter3d": [
           {
            "line": {
             "colorbar": {
              "outlinewidth": 0,
              "ticks": ""
             }
            },
            "marker": {
             "colorbar": {
              "outlinewidth": 0,
              "ticks": ""
             }
            },
            "type": "scatter3d"
           }
          ],
          "scattercarpet": [
           {
            "marker": {
             "colorbar": {
              "outlinewidth": 0,
              "ticks": ""
             }
            },
            "type": "scattercarpet"
           }
          ],
          "scattergeo": [
           {
            "marker": {
             "colorbar": {
              "outlinewidth": 0,
              "ticks": ""
             }
            },
            "type": "scattergeo"
           }
          ],
          "scattergl": [
           {
            "marker": {
             "colorbar": {
              "outlinewidth": 0,
              "ticks": ""
             }
            },
            "type": "scattergl"
           }
          ],
          "scattermapbox": [
           {
            "marker": {
             "colorbar": {
              "outlinewidth": 0,
              "ticks": ""
             }
            },
            "type": "scattermapbox"
           }
          ],
          "scatterpolar": [
           {
            "marker": {
             "colorbar": {
              "outlinewidth": 0,
              "ticks": ""
             }
            },
            "type": "scatterpolar"
           }
          ],
          "scatterpolargl": [
           {
            "marker": {
             "colorbar": {
              "outlinewidth": 0,
              "ticks": ""
             }
            },
            "type": "scatterpolargl"
           }
          ],
          "scatterternary": [
           {
            "marker": {
             "colorbar": {
              "outlinewidth": 0,
              "ticks": ""
             }
            },
            "type": "scatterternary"
           }
          ],
          "surface": [
           {
            "colorbar": {
             "outlinewidth": 0,
             "ticks": ""
            },
            "colorscale": [
             [
              0,
              "#0d0887"
             ],
             [
              0.1111111111111111,
              "#46039f"
             ],
             [
              0.2222222222222222,
              "#7201a8"
             ],
             [
              0.3333333333333333,
              "#9c179e"
             ],
             [
              0.4444444444444444,
              "#bd3786"
             ],
             [
              0.5555555555555556,
              "#d8576b"
             ],
             [
              0.6666666666666666,
              "#ed7953"
             ],
             [
              0.7777777777777778,
              "#fb9f3a"
             ],
             [
              0.8888888888888888,
              "#fdca26"
             ],
             [
              1,
              "#f0f921"
             ]
            ],
            "type": "surface"
           }
          ],
          "table": [
           {
            "cells": {
             "fill": {
              "color": "#EBF0F8"
             },
             "line": {
              "color": "white"
             }
            },
            "header": {
             "fill": {
              "color": "#C8D4E3"
             },
             "line": {
              "color": "white"
             }
            },
            "type": "table"
           }
          ]
         },
         "layout": {
          "annotationdefaults": {
           "arrowcolor": "#2a3f5f",
           "arrowhead": 0,
           "arrowwidth": 1
          },
          "autotypenumbers": "strict",
          "coloraxis": {
           "colorbar": {
            "outlinewidth": 0,
            "ticks": ""
           }
          },
          "colorscale": {
           "diverging": [
            [
             0,
             "#8e0152"
            ],
            [
             0.1,
             "#c51b7d"
            ],
            [
             0.2,
             "#de77ae"
            ],
            [
             0.3,
             "#f1b6da"
            ],
            [
             0.4,
             "#fde0ef"
            ],
            [
             0.5,
             "#f7f7f7"
            ],
            [
             0.6,
             "#e6f5d0"
            ],
            [
             0.7,
             "#b8e186"
            ],
            [
             0.8,
             "#7fbc41"
            ],
            [
             0.9,
             "#4d9221"
            ],
            [
             1,
             "#276419"
            ]
           ],
           "sequential": [
            [
             0,
             "#0d0887"
            ],
            [
             0.1111111111111111,
             "#46039f"
            ],
            [
             0.2222222222222222,
             "#7201a8"
            ],
            [
             0.3333333333333333,
             "#9c179e"
            ],
            [
             0.4444444444444444,
             "#bd3786"
            ],
            [
             0.5555555555555556,
             "#d8576b"
            ],
            [
             0.6666666666666666,
             "#ed7953"
            ],
            [
             0.7777777777777778,
             "#fb9f3a"
            ],
            [
             0.8888888888888888,
             "#fdca26"
            ],
            [
             1,
             "#f0f921"
            ]
           ],
           "sequentialminus": [
            [
             0,
             "#0d0887"
            ],
            [
             0.1111111111111111,
             "#46039f"
            ],
            [
             0.2222222222222222,
             "#7201a8"
            ],
            [
             0.3333333333333333,
             "#9c179e"
            ],
            [
             0.4444444444444444,
             "#bd3786"
            ],
            [
             0.5555555555555556,
             "#d8576b"
            ],
            [
             0.6666666666666666,
             "#ed7953"
            ],
            [
             0.7777777777777778,
             "#fb9f3a"
            ],
            [
             0.8888888888888888,
             "#fdca26"
            ],
            [
             1,
             "#f0f921"
            ]
           ]
          },
          "colorway": [
           "#636efa",
           "#EF553B",
           "#00cc96",
           "#ab63fa",
           "#FFA15A",
           "#19d3f3",
           "#FF6692",
           "#B6E880",
           "#FF97FF",
           "#FECB52"
          ],
          "font": {
           "color": "#2a3f5f"
          },
          "geo": {
           "bgcolor": "white",
           "lakecolor": "white",
           "landcolor": "#E5ECF6",
           "showlakes": true,
           "showland": true,
           "subunitcolor": "white"
          },
          "hoverlabel": {
           "align": "left"
          },
          "hovermode": "closest",
          "mapbox": {
           "style": "light"
          },
          "paper_bgcolor": "white",
          "plot_bgcolor": "#E5ECF6",
          "polar": {
           "angularaxis": {
            "gridcolor": "white",
            "linecolor": "white",
            "ticks": ""
           },
           "bgcolor": "#E5ECF6",
           "radialaxis": {
            "gridcolor": "white",
            "linecolor": "white",
            "ticks": ""
           }
          },
          "scene": {
           "xaxis": {
            "backgroundcolor": "#E5ECF6",
            "gridcolor": "white",
            "gridwidth": 2,
            "linecolor": "white",
            "showbackground": true,
            "ticks": "",
            "zerolinecolor": "white"
           },
           "yaxis": {
            "backgroundcolor": "#E5ECF6",
            "gridcolor": "white",
            "gridwidth": 2,
            "linecolor": "white",
            "showbackground": true,
            "ticks": "",
            "zerolinecolor": "white"
           },
           "zaxis": {
            "backgroundcolor": "#E5ECF6",
            "gridcolor": "white",
            "gridwidth": 2,
            "linecolor": "white",
            "showbackground": true,
            "ticks": "",
            "zerolinecolor": "white"
           }
          },
          "shapedefaults": {
           "line": {
            "color": "#2a3f5f"
           }
          },
          "ternary": {
           "aaxis": {
            "gridcolor": "white",
            "linecolor": "white",
            "ticks": ""
           },
           "baxis": {
            "gridcolor": "white",
            "linecolor": "white",
            "ticks": ""
           },
           "bgcolor": "#E5ECF6",
           "caxis": {
            "gridcolor": "white",
            "linecolor": "white",
            "ticks": ""
           }
          },
          "title": {
           "x": 0.05
          },
          "xaxis": {
           "automargin": true,
           "gridcolor": "white",
           "linecolor": "white",
           "ticks": "",
           "title": {
            "standoff": 15
           },
           "zerolinecolor": "white",
           "zerolinewidth": 2
          },
          "yaxis": {
           "automargin": true,
           "gridcolor": "white",
           "linecolor": "white",
           "ticks": "",
           "title": {
            "standoff": 15
           },
           "zerolinecolor": "white",
           "zerolinewidth": 2
          }
         }
        }
       }
      }
     },
     "metadata": {},
     "output_type": "display_data"
    }
   ],
   "source": [
    "#to make the radar chart\n",
    "theta = ['goals', 'assists', 'goals_pens', 'pens_made', 'pens_att']\n",
    "r = []\n",
    "for t in theta:\n",
    "    r.append(int(df_player.loc[indice, t]))\n",
    "\n",
    "#radar chart built\n",
    "layout = go. Layout(\n",
    "polar = dict(\n",
    "radialaxis = dict(\n",
    "visible = True)),\n",
    "showlegend=False)\n",
    "fig = go.Figure(data=go.Scatterpolar(\n",
    "  r=r,\n",
    "  theta=theta,\n",
    "  fill='toself'\n",
    "))\n",
    "fig.show()\n"
   ]
  },
  {
   "cell_type": "code",
<<<<<<< HEAD
   "execution_count": null,
=======
   "execution_count": 73,
>>>>>>> d20e0f0c979d08449127054dcb41934fa686c483
   "metadata": {},
   "outputs": [
    {
     "name": "stderr",
     "output_type": "stream",
     "text": [
      "/var/folders/pf/565wgnj55rl181qjmrmqq69m0000gn/T/ipykernel_91953/2202994796.py:5: FutureWarning:\n",
      "\n",
      "Calling int on a single element Series is deprecated and will raise a TypeError in the future. Use int(ser.iloc[0]) instead\n",
      "\n"
     ]
    },
    {
     "data": {
      "application/vnd.plotly.v1+json": {
       "config": {
        "plotlyServerURL": "https://plotly.com"
       },
       "data": [
        {
         "fill": "toself",
         "r": [
          31,
          31,
          62,
          31,
          62
         ],
         "theta": [
          "goals_per90",
          "assists_per90",
          "goals_assists_per90",
          "goals_pens_per90",
          "goals_assists_pens_per90"
         ],
         "type": "scatterpolar"
        }
       ],
       "layout": {
        "template": {
         "data": {
          "bar": [
           {
            "error_x": {
             "color": "#2a3f5f"
            },
            "error_y": {
             "color": "#2a3f5f"
            },
            "marker": {
             "line": {
              "color": "#E5ECF6",
              "width": 0.5
             },
             "pattern": {
              "fillmode": "overlay",
              "size": 10,
              "solidity": 0.2
             }
            },
            "type": "bar"
           }
          ],
          "barpolar": [
           {
            "marker": {
             "line": {
              "color": "#E5ECF6",
              "width": 0.5
             },
             "pattern": {
              "fillmode": "overlay",
              "size": 10,
              "solidity": 0.2
             }
            },
            "type": "barpolar"
           }
          ],
          "carpet": [
           {
            "aaxis": {
             "endlinecolor": "#2a3f5f",
             "gridcolor": "white",
             "linecolor": "white",
             "minorgridcolor": "white",
             "startlinecolor": "#2a3f5f"
            },
            "baxis": {
             "endlinecolor": "#2a3f5f",
             "gridcolor": "white",
             "linecolor": "white",
             "minorgridcolor": "white",
             "startlinecolor": "#2a3f5f"
            },
            "type": "carpet"
           }
          ],
          "choropleth": [
           {
            "colorbar": {
             "outlinewidth": 0,
             "ticks": ""
            },
            "type": "choropleth"
           }
          ],
          "contour": [
           {
            "colorbar": {
             "outlinewidth": 0,
             "ticks": ""
            },
            "colorscale": [
             [
              0,
              "#0d0887"
             ],
             [
              0.1111111111111111,
              "#46039f"
             ],
             [
              0.2222222222222222,
              "#7201a8"
             ],
             [
              0.3333333333333333,
              "#9c179e"
             ],
             [
              0.4444444444444444,
              "#bd3786"
             ],
             [
              0.5555555555555556,
              "#d8576b"
             ],
             [
              0.6666666666666666,
              "#ed7953"
             ],
             [
              0.7777777777777778,
              "#fb9f3a"
             ],
             [
              0.8888888888888888,
              "#fdca26"
             ],
             [
              1,
              "#f0f921"
             ]
            ],
            "type": "contour"
           }
          ],
          "contourcarpet": [
           {
            "colorbar": {
             "outlinewidth": 0,
             "ticks": ""
            },
            "type": "contourcarpet"
           }
          ],
          "heatmap": [
           {
            "colorbar": {
             "outlinewidth": 0,
             "ticks": ""
            },
            "colorscale": [
             [
              0,
              "#0d0887"
             ],
             [
              0.1111111111111111,
              "#46039f"
             ],
             [
              0.2222222222222222,
              "#7201a8"
             ],
             [
              0.3333333333333333,
              "#9c179e"
             ],
             [
              0.4444444444444444,
              "#bd3786"
             ],
             [
              0.5555555555555556,
              "#d8576b"
             ],
             [
              0.6666666666666666,
              "#ed7953"
             ],
             [
              0.7777777777777778,
              "#fb9f3a"
             ],
             [
              0.8888888888888888,
              "#fdca26"
             ],
             [
              1,
              "#f0f921"
             ]
            ],
            "type": "heatmap"
           }
          ],
          "heatmapgl": [
           {
            "colorbar": {
             "outlinewidth": 0,
             "ticks": ""
            },
            "colorscale": [
             [
              0,
              "#0d0887"
             ],
             [
              0.1111111111111111,
              "#46039f"
             ],
             [
              0.2222222222222222,
              "#7201a8"
             ],
             [
              0.3333333333333333,
              "#9c179e"
             ],
             [
              0.4444444444444444,
              "#bd3786"
             ],
             [
              0.5555555555555556,
              "#d8576b"
             ],
             [
              0.6666666666666666,
              "#ed7953"
             ],
             [
              0.7777777777777778,
              "#fb9f3a"
             ],
             [
              0.8888888888888888,
              "#fdca26"
             ],
             [
              1,
              "#f0f921"
             ]
            ],
            "type": "heatmapgl"
           }
          ],
          "histogram": [
           {
            "marker": {
             "pattern": {
              "fillmode": "overlay",
              "size": 10,
              "solidity": 0.2
             }
            },
            "type": "histogram"
           }
          ],
          "histogram2d": [
           {
            "colorbar": {
             "outlinewidth": 0,
             "ticks": ""
            },
            "colorscale": [
             [
              0,
              "#0d0887"
             ],
             [
              0.1111111111111111,
              "#46039f"
             ],
             [
              0.2222222222222222,
              "#7201a8"
             ],
             [
              0.3333333333333333,
              "#9c179e"
             ],
             [
              0.4444444444444444,
              "#bd3786"
             ],
             [
              0.5555555555555556,
              "#d8576b"
             ],
             [
              0.6666666666666666,
              "#ed7953"
             ],
             [
              0.7777777777777778,
              "#fb9f3a"
             ],
             [
              0.8888888888888888,
              "#fdca26"
             ],
             [
              1,
              "#f0f921"
             ]
            ],
            "type": "histogram2d"
           }
          ],
          "histogram2dcontour": [
           {
            "colorbar": {
             "outlinewidth": 0,
             "ticks": ""
            },
            "colorscale": [
             [
              0,
              "#0d0887"
             ],
             [
              0.1111111111111111,
              "#46039f"
             ],
             [
              0.2222222222222222,
              "#7201a8"
             ],
             [
              0.3333333333333333,
              "#9c179e"
             ],
             [
              0.4444444444444444,
              "#bd3786"
             ],
             [
              0.5555555555555556,
              "#d8576b"
             ],
             [
              0.6666666666666666,
              "#ed7953"
             ],
             [
              0.7777777777777778,
              "#fb9f3a"
             ],
             [
              0.8888888888888888,
              "#fdca26"
             ],
             [
              1,
              "#f0f921"
             ]
            ],
            "type": "histogram2dcontour"
           }
          ],
          "mesh3d": [
           {
            "colorbar": {
             "outlinewidth": 0,
             "ticks": ""
            },
            "type": "mesh3d"
           }
          ],
          "parcoords": [
           {
            "line": {
             "colorbar": {
              "outlinewidth": 0,
              "ticks": ""
             }
            },
            "type": "parcoords"
           }
          ],
          "pie": [
           {
            "automargin": true,
            "type": "pie"
           }
          ],
          "scatter": [
           {
            "fillpattern": {
             "fillmode": "overlay",
             "size": 10,
             "solidity": 0.2
            },
            "type": "scatter"
           }
          ],
          "scatter3d": [
           {
            "line": {
             "colorbar": {
              "outlinewidth": 0,
              "ticks": ""
             }
            },
            "marker": {
             "colorbar": {
              "outlinewidth": 0,
              "ticks": ""
             }
            },
            "type": "scatter3d"
           }
          ],
          "scattercarpet": [
           {
            "marker": {
             "colorbar": {
              "outlinewidth": 0,
              "ticks": ""
             }
            },
            "type": "scattercarpet"
           }
          ],
          "scattergeo": [
           {
            "marker": {
             "colorbar": {
              "outlinewidth": 0,
              "ticks": ""
             }
            },
            "type": "scattergeo"
           }
          ],
          "scattergl": [
           {
            "marker": {
             "colorbar": {
              "outlinewidth": 0,
              "ticks": ""
             }
            },
            "type": "scattergl"
           }
          ],
          "scattermapbox": [
           {
            "marker": {
             "colorbar": {
              "outlinewidth": 0,
              "ticks": ""
             }
            },
            "type": "scattermapbox"
           }
          ],
          "scatterpolar": [
           {
            "marker": {
             "colorbar": {
              "outlinewidth": 0,
              "ticks": ""
             }
            },
            "type": "scatterpolar"
           }
          ],
          "scatterpolargl": [
           {
            "marker": {
             "colorbar": {
              "outlinewidth": 0,
              "ticks": ""
             }
            },
            "type": "scatterpolargl"
           }
          ],
          "scatterternary": [
           {
            "marker": {
             "colorbar": {
              "outlinewidth": 0,
              "ticks": ""
             }
            },
            "type": "scatterternary"
           }
          ],
          "surface": [
           {
            "colorbar": {
             "outlinewidth": 0,
             "ticks": ""
            },
            "colorscale": [
             [
              0,
              "#0d0887"
             ],
             [
              0.1111111111111111,
              "#46039f"
             ],
             [
              0.2222222222222222,
              "#7201a8"
             ],
             [
              0.3333333333333333,
              "#9c179e"
             ],
             [
              0.4444444444444444,
              "#bd3786"
             ],
             [
              0.5555555555555556,
              "#d8576b"
             ],
             [
              0.6666666666666666,
              "#ed7953"
             ],
             [
              0.7777777777777778,
              "#fb9f3a"
             ],
             [
              0.8888888888888888,
              "#fdca26"
             ],
             [
              1,
              "#f0f921"
             ]
            ],
            "type": "surface"
           }
          ],
          "table": [
           {
            "cells": {
             "fill": {
              "color": "#EBF0F8"
             },
             "line": {
              "color": "white"
             }
            },
            "header": {
             "fill": {
              "color": "#C8D4E3"
             },
             "line": {
              "color": "white"
             }
            },
            "type": "table"
           }
          ]
         },
         "layout": {
          "annotationdefaults": {
           "arrowcolor": "#2a3f5f",
           "arrowhead": 0,
           "arrowwidth": 1
          },
          "autotypenumbers": "strict",
          "coloraxis": {
           "colorbar": {
            "outlinewidth": 0,
            "ticks": ""
           }
          },
          "colorscale": {
           "diverging": [
            [
             0,
             "#8e0152"
            ],
            [
             0.1,
             "#c51b7d"
            ],
            [
             0.2,
             "#de77ae"
            ],
            [
             0.3,
             "#f1b6da"
            ],
            [
             0.4,
             "#fde0ef"
            ],
            [
             0.5,
             "#f7f7f7"
            ],
            [
             0.6,
             "#e6f5d0"
            ],
            [
             0.7,
             "#b8e186"
            ],
            [
             0.8,
             "#7fbc41"
            ],
            [
             0.9,
             "#4d9221"
            ],
            [
             1,
             "#276419"
            ]
           ],
           "sequential": [
            [
             0,
             "#0d0887"
            ],
            [
             0.1111111111111111,
             "#46039f"
            ],
            [
             0.2222222222222222,
             "#7201a8"
            ],
            [
             0.3333333333333333,
             "#9c179e"
            ],
            [
             0.4444444444444444,
             "#bd3786"
            ],
            [
             0.5555555555555556,
             "#d8576b"
            ],
            [
             0.6666666666666666,
             "#ed7953"
            ],
            [
             0.7777777777777778,
             "#fb9f3a"
            ],
            [
             0.8888888888888888,
             "#fdca26"
            ],
            [
             1,
             "#f0f921"
            ]
           ],
           "sequentialminus": [
            [
             0,
             "#0d0887"
            ],
            [
             0.1111111111111111,
             "#46039f"
            ],
            [
             0.2222222222222222,
             "#7201a8"
            ],
            [
             0.3333333333333333,
             "#9c179e"
            ],
            [
             0.4444444444444444,
             "#bd3786"
            ],
            [
             0.5555555555555556,
             "#d8576b"
            ],
            [
             0.6666666666666666,
             "#ed7953"
            ],
            [
             0.7777777777777778,
             "#fb9f3a"
            ],
            [
             0.8888888888888888,
             "#fdca26"
            ],
            [
             1,
             "#f0f921"
            ]
           ]
          },
          "colorway": [
           "#636efa",
           "#EF553B",
           "#00cc96",
           "#ab63fa",
           "#FFA15A",
           "#19d3f3",
           "#FF6692",
           "#B6E880",
           "#FF97FF",
           "#FECB52"
          ],
          "font": {
           "color": "#2a3f5f"
          },
          "geo": {
           "bgcolor": "white",
           "lakecolor": "white",
           "landcolor": "#E5ECF6",
           "showlakes": true,
           "showland": true,
           "subunitcolor": "white"
          },
          "hoverlabel": {
           "align": "left"
          },
          "hovermode": "closest",
          "mapbox": {
           "style": "light"
          },
          "paper_bgcolor": "white",
          "plot_bgcolor": "#E5ECF6",
          "polar": {
           "angularaxis": {
            "gridcolor": "white",
            "linecolor": "white",
            "ticks": ""
           },
           "bgcolor": "#E5ECF6",
           "radialaxis": {
            "gridcolor": "white",
            "linecolor": "white",
            "ticks": ""
           }
          },
          "scene": {
           "xaxis": {
            "backgroundcolor": "#E5ECF6",
            "gridcolor": "white",
            "gridwidth": 2,
            "linecolor": "white",
            "showbackground": true,
            "ticks": "",
            "zerolinecolor": "white"
           },
           "yaxis": {
            "backgroundcolor": "#E5ECF6",
            "gridcolor": "white",
            "gridwidth": 2,
            "linecolor": "white",
            "showbackground": true,
            "ticks": "",
            "zerolinecolor": "white"
           },
           "zaxis": {
            "backgroundcolor": "#E5ECF6",
            "gridcolor": "white",
            "gridwidth": 2,
            "linecolor": "white",
            "showbackground": true,
            "ticks": "",
            "zerolinecolor": "white"
           }
          },
          "shapedefaults": {
           "line": {
            "color": "#2a3f5f"
           }
          },
          "ternary": {
           "aaxis": {
            "gridcolor": "white",
            "linecolor": "white",
            "ticks": ""
           },
           "baxis": {
            "gridcolor": "white",
            "linecolor": "white",
            "ticks": ""
           },
           "bgcolor": "#E5ECF6",
           "caxis": {
            "gridcolor": "white",
            "linecolor": "white",
            "ticks": ""
           }
          },
          "title": {
           "x": 0.05
          },
          "xaxis": {
           "automargin": true,
           "gridcolor": "white",
           "linecolor": "white",
           "ticks": "",
           "title": {
            "standoff": 15
           },
           "zerolinecolor": "white",
           "zerolinewidth": 2
          },
          "yaxis": {
           "automargin": true,
           "gridcolor": "white",
           "linecolor": "white",
           "ticks": "",
           "title": {
            "standoff": 15
           },
           "zerolinecolor": "white",
           "zerolinewidth": 2
          }
         }
        }
       }
      }
     },
     "metadata": {},
     "output_type": "display_data"
    }
   ],
   "source": [
    "#to make the radar chart of statistics per 90\n",
    "thetaper90 = ['goals_per90', 'assists_per90', 'goals_assists_per90', 'goals_pens_per90', 'goals_assists_pens_per90']\n",
    "rper90 = []\n",
    "for t in thetaper90:\n",
    "    rper90.append(int(df_player.loc[indice, t]))\n",
    "\n",
    "#radar chart of statistics per 90 built\n",
    "layout = go. Layout(\n",
    "polar = dict(\n",
    "radialaxis = dict(\n",
    "visible = True)),\n",
    "showlegend=False)\n",
    "fig = go.Figure(data=go.Scatterpolar(\n",
    "  r=rper90,\n",
    "  theta=thetaper90,\n",
    "  fill='toself'\n",
    "))\n",
    "fig.show()"
   ]
  },
  {
   "cell_type": "code",
<<<<<<< HEAD
   "execution_count": null,
=======
   "execution_count": 74,
>>>>>>> d20e0f0c979d08449127054dcb41934fa686c483
   "metadata": {},
   "outputs": [
    {
     "name": "stderr",
     "output_type": "stream",
     "text": [
      "/var/folders/pf/565wgnj55rl181qjmrmqq69m0000gn/T/ipykernel_91953/2598336185.py:5: FutureWarning:\n",
      "\n",
      "Calling int on a single element Series is deprecated and will raise a TypeError in the future. Use int(ser.iloc[0]) instead\n",
      "\n"
     ]
    },
    {
     "data": {
      "application/vnd.plotly.v1+json": {
       "config": {
        "plotlyServerURL": "https://plotly.com"
       },
       "data": [
        {
         "fill": "toself",
         "r": [
          8,
          6,
          14,
          27,
          2,
          46,
          27,
          46
         ],
         "theta": [
          "npxg",
          "xg_assist",
          "npxg_xg_assist",
          "xg_per90",
          "xg_assist_per90",
          "xg_xg_assist_per90",
          "npxg_per90",
          "npxg_xg_assist_per90"
         ],
         "type": "scatterpolar"
        }
       ],
       "layout": {
        "template": {
         "data": {
          "bar": [
           {
            "error_x": {
             "color": "#2a3f5f"
            },
            "error_y": {
             "color": "#2a3f5f"
            },
            "marker": {
             "line": {
              "color": "#E5ECF6",
              "width": 0.5
             },
             "pattern": {
              "fillmode": "overlay",
              "size": 10,
              "solidity": 0.2
             }
            },
            "type": "bar"
           }
          ],
          "barpolar": [
           {
            "marker": {
             "line": {
              "color": "#E5ECF6",
              "width": 0.5
             },
             "pattern": {
              "fillmode": "overlay",
              "size": 10,
              "solidity": 0.2
             }
            },
            "type": "barpolar"
           }
          ],
          "carpet": [
           {
            "aaxis": {
             "endlinecolor": "#2a3f5f",
             "gridcolor": "white",
             "linecolor": "white",
             "minorgridcolor": "white",
             "startlinecolor": "#2a3f5f"
            },
            "baxis": {
             "endlinecolor": "#2a3f5f",
             "gridcolor": "white",
             "linecolor": "white",
             "minorgridcolor": "white",
             "startlinecolor": "#2a3f5f"
            },
            "type": "carpet"
           }
          ],
          "choropleth": [
           {
            "colorbar": {
             "outlinewidth": 0,
             "ticks": ""
            },
            "type": "choropleth"
           }
          ],
          "contour": [
           {
            "colorbar": {
             "outlinewidth": 0,
             "ticks": ""
            },
            "colorscale": [
             [
              0,
              "#0d0887"
             ],
             [
              0.1111111111111111,
              "#46039f"
             ],
             [
              0.2222222222222222,
              "#7201a8"
             ],
             [
              0.3333333333333333,
              "#9c179e"
             ],
             [
              0.4444444444444444,
              "#bd3786"
             ],
             [
              0.5555555555555556,
              "#d8576b"
             ],
             [
              0.6666666666666666,
              "#ed7953"
             ],
             [
              0.7777777777777778,
              "#fb9f3a"
             ],
             [
              0.8888888888888888,
              "#fdca26"
             ],
             [
              1,
              "#f0f921"
             ]
            ],
            "type": "contour"
           }
          ],
          "contourcarpet": [
           {
            "colorbar": {
             "outlinewidth": 0,
             "ticks": ""
            },
            "type": "contourcarpet"
           }
          ],
          "heatmap": [
           {
            "colorbar": {
             "outlinewidth": 0,
             "ticks": ""
            },
            "colorscale": [
             [
              0,
              "#0d0887"
             ],
             [
              0.1111111111111111,
              "#46039f"
             ],
             [
              0.2222222222222222,
              "#7201a8"
             ],
             [
              0.3333333333333333,
              "#9c179e"
             ],
             [
              0.4444444444444444,
              "#bd3786"
             ],
             [
              0.5555555555555556,
              "#d8576b"
             ],
             [
              0.6666666666666666,
              "#ed7953"
             ],
             [
              0.7777777777777778,
              "#fb9f3a"
             ],
             [
              0.8888888888888888,
              "#fdca26"
             ],
             [
              1,
              "#f0f921"
             ]
            ],
            "type": "heatmap"
           }
          ],
          "heatmapgl": [
           {
            "colorbar": {
             "outlinewidth": 0,
             "ticks": ""
            },
            "colorscale": [
             [
              0,
              "#0d0887"
             ],
             [
              0.1111111111111111,
              "#46039f"
             ],
             [
              0.2222222222222222,
              "#7201a8"
             ],
             [
              0.3333333333333333,
              "#9c179e"
             ],
             [
              0.4444444444444444,
              "#bd3786"
             ],
             [
              0.5555555555555556,
              "#d8576b"
             ],
             [
              0.6666666666666666,
              "#ed7953"
             ],
             [
              0.7777777777777778,
              "#fb9f3a"
             ],
             [
              0.8888888888888888,
              "#fdca26"
             ],
             [
              1,
              "#f0f921"
             ]
            ],
            "type": "heatmapgl"
           }
          ],
          "histogram": [
           {
            "marker": {
             "pattern": {
              "fillmode": "overlay",
              "size": 10,
              "solidity": 0.2
             }
            },
            "type": "histogram"
           }
          ],
          "histogram2d": [
           {
            "colorbar": {
             "outlinewidth": 0,
             "ticks": ""
            },
            "colorscale": [
             [
              0,
              "#0d0887"
             ],
             [
              0.1111111111111111,
              "#46039f"
             ],
             [
              0.2222222222222222,
              "#7201a8"
             ],
             [
              0.3333333333333333,
              "#9c179e"
             ],
             [
              0.4444444444444444,
              "#bd3786"
             ],
             [
              0.5555555555555556,
              "#d8576b"
             ],
             [
              0.6666666666666666,
              "#ed7953"
             ],
             [
              0.7777777777777778,
              "#fb9f3a"
             ],
             [
              0.8888888888888888,
              "#fdca26"
             ],
             [
              1,
              "#f0f921"
             ]
            ],
            "type": "histogram2d"
           }
          ],
          "histogram2dcontour": [
           {
            "colorbar": {
             "outlinewidth": 0,
             "ticks": ""
            },
            "colorscale": [
             [
              0,
              "#0d0887"
             ],
             [
              0.1111111111111111,
              "#46039f"
             ],
             [
              0.2222222222222222,
              "#7201a8"
             ],
             [
              0.3333333333333333,
              "#9c179e"
             ],
             [
              0.4444444444444444,
              "#bd3786"
             ],
             [
              0.5555555555555556,
              "#d8576b"
             ],
             [
              0.6666666666666666,
              "#ed7953"
             ],
             [
              0.7777777777777778,
              "#fb9f3a"
             ],
             [
              0.8888888888888888,
              "#fdca26"
             ],
             [
              1,
              "#f0f921"
             ]
            ],
            "type": "histogram2dcontour"
           }
          ],
          "mesh3d": [
           {
            "colorbar": {
             "outlinewidth": 0,
             "ticks": ""
            },
            "type": "mesh3d"
           }
          ],
          "parcoords": [
           {
            "line": {
             "colorbar": {
              "outlinewidth": 0,
              "ticks": ""
             }
            },
            "type": "parcoords"
           }
          ],
          "pie": [
           {
            "automargin": true,
            "type": "pie"
           }
          ],
          "scatter": [
           {
            "fillpattern": {
             "fillmode": "overlay",
             "size": 10,
             "solidity": 0.2
            },
            "type": "scatter"
           }
          ],
          "scatter3d": [
           {
            "line": {
             "colorbar": {
              "outlinewidth": 0,
              "ticks": ""
             }
            },
            "marker": {
             "colorbar": {
              "outlinewidth": 0,
              "ticks": ""
             }
            },
            "type": "scatter3d"
           }
          ],
          "scattercarpet": [
           {
            "marker": {
             "colorbar": {
              "outlinewidth": 0,
              "ticks": ""
             }
            },
            "type": "scattercarpet"
           }
          ],
          "scattergeo": [
           {
            "marker": {
             "colorbar": {
              "outlinewidth": 0,
              "ticks": ""
             }
            },
            "type": "scattergeo"
           }
          ],
          "scattergl": [
           {
            "marker": {
             "colorbar": {
              "outlinewidth": 0,
              "ticks": ""
             }
            },
            "type": "scattergl"
           }
          ],
          "scattermapbox": [
           {
            "marker": {
             "colorbar": {
              "outlinewidth": 0,
              "ticks": ""
             }
            },
            "type": "scattermapbox"
           }
          ],
          "scatterpolar": [
           {
            "marker": {
             "colorbar": {
              "outlinewidth": 0,
              "ticks": ""
             }
            },
            "type": "scatterpolar"
           }
          ],
          "scatterpolargl": [
           {
            "marker": {
             "colorbar": {
              "outlinewidth": 0,
              "ticks": ""
             }
            },
            "type": "scatterpolargl"
           }
          ],
          "scatterternary": [
           {
            "marker": {
             "colorbar": {
              "outlinewidth": 0,
              "ticks": ""
             }
            },
            "type": "scatterternary"
           }
          ],
          "surface": [
           {
            "colorbar": {
             "outlinewidth": 0,
             "ticks": ""
            },
            "colorscale": [
             [
              0,
              "#0d0887"
             ],
             [
              0.1111111111111111,
              "#46039f"
             ],
             [
              0.2222222222222222,
              "#7201a8"
             ],
             [
              0.3333333333333333,
              "#9c179e"
             ],
             [
              0.4444444444444444,
              "#bd3786"
             ],
             [
              0.5555555555555556,
              "#d8576b"
             ],
             [
              0.6666666666666666,
              "#ed7953"
             ],
             [
              0.7777777777777778,
              "#fb9f3a"
             ],
             [
              0.8888888888888888,
              "#fdca26"
             ],
             [
              1,
              "#f0f921"
             ]
            ],
            "type": "surface"
           }
          ],
          "table": [
           {
            "cells": {
             "fill": {
              "color": "#EBF0F8"
             },
             "line": {
              "color": "white"
             }
            },
            "header": {
             "fill": {
              "color": "#C8D4E3"
             },
             "line": {
              "color": "white"
             }
            },
            "type": "table"
           }
          ]
         },
         "layout": {
          "annotationdefaults": {
           "arrowcolor": "#2a3f5f",
           "arrowhead": 0,
           "arrowwidth": 1
          },
          "autotypenumbers": "strict",
          "coloraxis": {
           "colorbar": {
            "outlinewidth": 0,
            "ticks": ""
           }
          },
          "colorscale": {
           "diverging": [
            [
             0,
             "#8e0152"
            ],
            [
             0.1,
             "#c51b7d"
            ],
            [
             0.2,
             "#de77ae"
            ],
            [
             0.3,
             "#f1b6da"
            ],
            [
             0.4,
             "#fde0ef"
            ],
            [
             0.5,
             "#f7f7f7"
            ],
            [
             0.6,
             "#e6f5d0"
            ],
            [
             0.7,
             "#b8e186"
            ],
            [
             0.8,
             "#7fbc41"
            ],
            [
             0.9,
             "#4d9221"
            ],
            [
             1,
             "#276419"
            ]
           ],
           "sequential": [
            [
             0,
             "#0d0887"
            ],
            [
             0.1111111111111111,
             "#46039f"
            ],
            [
             0.2222222222222222,
             "#7201a8"
            ],
            [
             0.3333333333333333,
             "#9c179e"
            ],
            [
             0.4444444444444444,
             "#bd3786"
            ],
            [
             0.5555555555555556,
             "#d8576b"
            ],
            [
             0.6666666666666666,
             "#ed7953"
            ],
            [
             0.7777777777777778,
             "#fb9f3a"
            ],
            [
             0.8888888888888888,
             "#fdca26"
            ],
            [
             1,
             "#f0f921"
            ]
           ],
           "sequentialminus": [
            [
             0,
             "#0d0887"
            ],
            [
             0.1111111111111111,
             "#46039f"
            ],
            [
             0.2222222222222222,
             "#7201a8"
            ],
            [
             0.3333333333333333,
             "#9c179e"
            ],
            [
             0.4444444444444444,
             "#bd3786"
            ],
            [
             0.5555555555555556,
             "#d8576b"
            ],
            [
             0.6666666666666666,
             "#ed7953"
            ],
            [
             0.7777777777777778,
             "#fb9f3a"
            ],
            [
             0.8888888888888888,
             "#fdca26"
            ],
            [
             1,
             "#f0f921"
            ]
           ]
          },
          "colorway": [
           "#636efa",
           "#EF553B",
           "#00cc96",
           "#ab63fa",
           "#FFA15A",
           "#19d3f3",
           "#FF6692",
           "#B6E880",
           "#FF97FF",
           "#FECB52"
          ],
          "font": {
           "color": "#2a3f5f"
          },
          "geo": {
           "bgcolor": "white",
           "lakecolor": "white",
           "landcolor": "#E5ECF6",
           "showlakes": true,
           "showland": true,
           "subunitcolor": "white"
          },
          "hoverlabel": {
           "align": "left"
          },
          "hovermode": "closest",
          "mapbox": {
           "style": "light"
          },
          "paper_bgcolor": "white",
          "plot_bgcolor": "#E5ECF6",
          "polar": {
           "angularaxis": {
            "gridcolor": "white",
            "linecolor": "white",
            "ticks": ""
           },
           "bgcolor": "#E5ECF6",
           "radialaxis": {
            "gridcolor": "white",
            "linecolor": "white",
            "ticks": ""
           }
          },
          "scene": {
           "xaxis": {
            "backgroundcolor": "#E5ECF6",
            "gridcolor": "white",
            "gridwidth": 2,
            "linecolor": "white",
            "showbackground": true,
            "ticks": "",
            "zerolinecolor": "white"
           },
           "yaxis": {
            "backgroundcolor": "#E5ECF6",
            "gridcolor": "white",
            "gridwidth": 2,
            "linecolor": "white",
            "showbackground": true,
            "ticks": "",
            "zerolinecolor": "white"
           },
           "zaxis": {
            "backgroundcolor": "#E5ECF6",
            "gridcolor": "white",
            "gridwidth": 2,
            "linecolor": "white",
            "showbackground": true,
            "ticks": "",
            "zerolinecolor": "white"
           }
          },
          "shapedefaults": {
           "line": {
            "color": "#2a3f5f"
           }
          },
          "ternary": {
           "aaxis": {
            "gridcolor": "white",
            "linecolor": "white",
            "ticks": ""
           },
           "baxis": {
            "gridcolor": "white",
            "linecolor": "white",
            "ticks": ""
           },
           "bgcolor": "#E5ECF6",
           "caxis": {
            "gridcolor": "white",
            "linecolor": "white",
            "ticks": ""
           }
          },
          "title": {
           "x": 0.05
          },
          "xaxis": {
           "automargin": true,
           "gridcolor": "white",
           "linecolor": "white",
           "ticks": "",
           "title": {
            "standoff": 15
           },
           "zerolinecolor": "white",
           "zerolinewidth": 2
          },
          "yaxis": {
           "automargin": true,
           "gridcolor": "white",
           "linecolor": "white",
           "ticks": "",
           "title": {
            "standoff": 15
           },
           "zerolinecolor": "white",
           "zerolinewidth": 2
          }
         }
        }
       }
      }
     },
     "metadata": {},
     "output_type": "display_data"
    }
   ],
   "source": [
    "#to make the radar chart of xg statistics\n",
    "thetaxg = ['npxg', 'xg_assist', 'npxg_xg_assist', 'xg_per90', 'xg_assist_per90', 'xg_xg_assist_per90', 'npxg_per90','npxg_xg_assist_per90']\n",
    "rxg = []\n",
    "for t in thetaxg:\n",
    "    rxg.append(int(df_player.loc[indice, t]))\n",
    "\n",
    "#radar chart of xg statistics\n",
    "layout = go. Layout(\n",
    "polar = dict(\n",
    "radialaxis = dict(\n",
    "visible = True)),\n",
    "showlegend=False)\n",
    "fig = go.Figure(data=go.Scatterpolar(\n",
    "  r=rxg,\n",
    "  theta=thetaxg,\n",
    "  fill='toself'\n",
    "))\n",
    "fig.show()"
   ]
  },
  {
   "attachments": {},
   "cell_type": "markdown",
   "metadata": {},
   "source": [
    "### Total Stats per country"
   ]
  },
  {
   "cell_type": "code",
<<<<<<< HEAD
   "execution_count": null,
=======
   "execution_count": 75,
>>>>>>> d20e0f0c979d08449127054dcb41934fa686c483
   "metadata": {},
   "outputs": [
    {
     "data": {
      "text/html": [
       "<div>\n",
       "<style scoped>\n",
       "    .dataframe tbody tr th:only-of-type {\n",
       "        vertical-align: middle;\n",
       "    }\n",
       "\n",
       "    .dataframe tbody tr th {\n",
       "        vertical-align: top;\n",
       "    }\n",
       "\n",
       "    .dataframe thead th {\n",
       "        text-align: right;\n",
       "    }\n",
       "</style>\n",
       "<table border=\"1\" class=\"dataframe\">\n",
       "  <thead>\n",
       "    <tr style=\"text-align: right;\">\n",
       "      <th></th>\n",
       "      <th>player</th>\n",
       "      <th>position</th>\n",
       "      <th>team</th>\n",
       "      <th>age</th>\n",
       "      <th>age2</th>\n",
       "      <th>club</th>\n",
       "      <th>birth_year</th>\n",
       "      <th>games</th>\n",
       "      <th>games_starts</th>\n",
       "      <th>minutes</th>\n",
       "      <th>minutes_90s</th>\n",
       "      <th>goals</th>\n",
       "      <th>assists</th>\n",
       "      <th>goals_pens</th>\n",
       "      <th>pens_made</th>\n",
       "      <th>pens_att</th>\n",
       "      <th>cards_yellow</th>\n",
       "      <th>cards_red</th>\n",
       "      <th>goals_per90</th>\n",
       "      <th>assists_per90</th>\n",
       "      <th>goals_assists_per90</th>\n",
       "      <th>goals_pens_per90</th>\n",
       "      <th>goals_assists_pens_per90</th>\n",
       "      <th>xg</th>\n",
       "      <th>npxg</th>\n",
       "      <th>xg_assist</th>\n",
       "      <th>npxg_xg_assist</th>\n",
       "      <th>xg_per90</th>\n",
       "      <th>xg_assist_per90</th>\n",
       "      <th>xg_xg_assist_per90</th>\n",
       "      <th>npxg_per90</th>\n",
       "      <th>npxg_xg_assist_per90</th>\n",
       "      <th>games_sub</th>\n",
       "    </tr>\n",
       "  </thead>\n",
       "  <tbody>\n",
       "    <tr>\n",
       "      <th>30</th>\n",
       "      <td>Alexis Mac Allister</td>\n",
       "      <td>MF</td>\n",
       "      <td>Argentina</td>\n",
       "      <td>23-359</td>\n",
       "      <td>23</td>\n",
       "      <td>Brighton</td>\n",
       "      <td>1998</td>\n",
       "      <td>6</td>\n",
       "      <td>6</td>\n",
       "      <td>550</td>\n",
       "      <td>61</td>\n",
       "      <td>1</td>\n",
       "      <td>1</td>\n",
       "      <td>1</td>\n",
       "      <td>0</td>\n",
       "      <td>0</td>\n",
       "      <td>0</td>\n",
       "      <td>0</td>\n",
       "      <td>16</td>\n",
       "      <td>16</td>\n",
       "      <td>33</td>\n",
       "      <td>16</td>\n",
       "      <td>33</td>\n",
       "      <td>7.0</td>\n",
       "      <td>7.0</td>\n",
       "      <td>1.0</td>\n",
       "      <td>17.0</td>\n",
       "      <td>12.0</td>\n",
       "      <td>18.0</td>\n",
       "      <td>3.0</td>\n",
       "      <td>12.0</td>\n",
       "      <td>3.0</td>\n",
       "      <td>0</td>\n",
       "    </tr>\n",
       "    <tr>\n",
       "      <th>133</th>\n",
       "      <td>Cristian Romero</td>\n",
       "      <td>DF</td>\n",
       "      <td>Argentina</td>\n",
       "      <td>24-235</td>\n",
       "      <td>24</td>\n",
       "      <td>Tottenham</td>\n",
       "      <td>1998</td>\n",
       "      <td>7</td>\n",
       "      <td>6</td>\n",
       "      <td>547</td>\n",
       "      <td>61</td>\n",
       "      <td>0</td>\n",
       "      <td>0</td>\n",
       "      <td>0</td>\n",
       "      <td>0</td>\n",
       "      <td>0</td>\n",
       "      <td>2</td>\n",
       "      <td>0</td>\n",
       "      <td>0</td>\n",
       "      <td>0</td>\n",
       "      <td>0</td>\n",
       "      <td>0</td>\n",
       "      <td>0</td>\n",
       "      <td>0.0</td>\n",
       "      <td>0.0</td>\n",
       "      <td>0.0</td>\n",
       "      <td>0.0</td>\n",
       "      <td>0.0</td>\n",
       "      <td>0.0</td>\n",
       "      <td>0.0</td>\n",
       "      <td>0.0</td>\n",
       "      <td>0.0</td>\n",
       "      <td>1</td>\n",
       "    </tr>\n",
       "    <tr>\n",
       "      <th>184</th>\n",
       "      <td>Emiliano Martínez</td>\n",
       "      <td>GK</td>\n",
       "      <td>Argentina</td>\n",
       "      <td>30-107</td>\n",
       "      <td>30</td>\n",
       "      <td>Aston Villa</td>\n",
       "      <td>1992</td>\n",
       "      <td>7</td>\n",
       "      <td>7</td>\n",
       "      <td>690</td>\n",
       "      <td>77</td>\n",
       "      <td>0</td>\n",
       "      <td>0</td>\n",
       "      <td>0</td>\n",
       "      <td>0</td>\n",
       "      <td>0</td>\n",
       "      <td>1</td>\n",
       "      <td>0</td>\n",
       "      <td>0</td>\n",
       "      <td>0</td>\n",
       "      <td>0</td>\n",
       "      <td>0</td>\n",
       "      <td>0</td>\n",
       "      <td>0.0</td>\n",
       "      <td>0.0</td>\n",
       "      <td>0.0</td>\n",
       "      <td>0.0</td>\n",
       "      <td>0.0</td>\n",
       "      <td>0.0</td>\n",
       "      <td>0.0</td>\n",
       "      <td>0.0</td>\n",
       "      <td>0.0</td>\n",
       "      <td>0</td>\n",
       "    </tr>\n",
       "    <tr>\n",
       "      <th>187</th>\n",
       "      <td>Enzo Fernández</td>\n",
       "      <td>MF</td>\n",
       "      <td>Argentina</td>\n",
       "      <td>21-335</td>\n",
       "      <td>21</td>\n",
       "      <td>Benfica</td>\n",
       "      <td>2001</td>\n",
       "      <td>7</td>\n",
       "      <td>5</td>\n",
       "      <td>564</td>\n",
       "      <td>63</td>\n",
       "      <td>1</td>\n",
       "      <td>1</td>\n",
       "      <td>1</td>\n",
       "      <td>0</td>\n",
       "      <td>0</td>\n",
       "      <td>1</td>\n",
       "      <td>0</td>\n",
       "      <td>16</td>\n",
       "      <td>16</td>\n",
       "      <td>32</td>\n",
       "      <td>16</td>\n",
       "      <td>32</td>\n",
       "      <td>3.0</td>\n",
       "      <td>3.0</td>\n",
       "      <td>9.0</td>\n",
       "      <td>12.0</td>\n",
       "      <td>5.0</td>\n",
       "      <td>16.0</td>\n",
       "      <td>21.0</td>\n",
       "      <td>5.0</td>\n",
       "      <td>21.0</td>\n",
       "      <td>2</td>\n",
       "    </tr>\n",
       "    <tr>\n",
       "      <th>194</th>\n",
       "      <td>Exequiel Palacios</td>\n",
       "      <td>MF</td>\n",
       "      <td>Argentina</td>\n",
       "      <td>24-074</td>\n",
       "      <td>24</td>\n",
       "      <td>Leverkusen</td>\n",
       "      <td>1998</td>\n",
       "      <td>3</td>\n",
       "      <td>0</td>\n",
       "      <td>50</td>\n",
       "      <td>6</td>\n",
       "      <td>0</td>\n",
       "      <td>0</td>\n",
       "      <td>0</td>\n",
       "      <td>0</td>\n",
       "      <td>0</td>\n",
       "      <td>0</td>\n",
       "      <td>0</td>\n",
       "      <td>0</td>\n",
       "      <td>0</td>\n",
       "      <td>0</td>\n",
       "      <td>0</td>\n",
       "      <td>0</td>\n",
       "      <td>1.0</td>\n",
       "      <td>1.0</td>\n",
       "      <td>1.0</td>\n",
       "      <td>1.0</td>\n",
       "      <td>12.0</td>\n",
       "      <td>12.0</td>\n",
       "      <td>24.0</td>\n",
       "      <td>12.0</td>\n",
       "      <td>24.0</td>\n",
       "      <td>3</td>\n",
       "    </tr>\n",
       "    <tr>\n",
       "      <th>220</th>\n",
       "      <td>Germán Pezzella</td>\n",
       "      <td>DF</td>\n",
       "      <td>Argentina</td>\n",
       "      <td>31-174</td>\n",
       "      <td>31</td>\n",
       "      <td>Betis</td>\n",
       "      <td>1991</td>\n",
       "      <td>3</td>\n",
       "      <td>0</td>\n",
       "      <td>60</td>\n",
       "      <td>7</td>\n",
       "      <td>0</td>\n",
       "      <td>0</td>\n",
       "      <td>0</td>\n",
       "      <td>0</td>\n",
       "      <td>0</td>\n",
       "      <td>1</td>\n",
       "      <td>0</td>\n",
       "      <td>0</td>\n",
       "      <td>0</td>\n",
       "      <td>0</td>\n",
       "      <td>0</td>\n",
       "      <td>0</td>\n",
       "      <td>1.0</td>\n",
       "      <td>1.0</td>\n",
       "      <td>0.0</td>\n",
       "      <td>1.0</td>\n",
       "      <td>24.0</td>\n",
       "      <td>0.0</td>\n",
       "      <td>24.0</td>\n",
       "      <td>24.0</td>\n",
       "      <td>24.0</td>\n",
       "      <td>3</td>\n",
       "    </tr>\n",
       "    <tr>\n",
       "      <th>227</th>\n",
       "      <td>Gonzalo Montiel</td>\n",
       "      <td>DF</td>\n",
       "      <td>Argentina</td>\n",
       "      <td>25-351</td>\n",
       "      <td>25</td>\n",
       "      <td>Sevilla</td>\n",
       "      <td>1997</td>\n",
       "      <td>4</td>\n",
       "      <td>1</td>\n",
       "      <td>118</td>\n",
       "      <td>13</td>\n",
       "      <td>0</td>\n",
       "      <td>0</td>\n",
       "      <td>0</td>\n",
       "      <td>0</td>\n",
       "      <td>0</td>\n",
       "      <td>3</td>\n",
       "      <td>0</td>\n",
       "      <td>0</td>\n",
       "      <td>0</td>\n",
       "      <td>0</td>\n",
       "      <td>0</td>\n",
       "      <td>0</td>\n",
       "      <td>0.0</td>\n",
       "      <td>0.0</td>\n",
       "      <td>3.0</td>\n",
       "      <td>4.0</td>\n",
       "      <td>2.0</td>\n",
       "      <td>42.0</td>\n",
       "      <td>44.0</td>\n",
       "      <td>2.0</td>\n",
       "      <td>44.0</td>\n",
       "      <td>3</td>\n",
       "    </tr>\n",
       "    <tr>\n",
       "      <th>233</th>\n",
       "      <td>Guido Rodríguez</td>\n",
       "      <td>MF</td>\n",
       "      <td>Argentina</td>\n",
       "      <td>28-250</td>\n",
       "      <td>28</td>\n",
       "      <td>Betis</td>\n",
       "      <td>1994</td>\n",
       "      <td>1</td>\n",
       "      <td>1</td>\n",
       "      <td>56</td>\n",
       "      <td>6</td>\n",
       "      <td>0</td>\n",
       "      <td>0</td>\n",
       "      <td>0</td>\n",
       "      <td>0</td>\n",
       "      <td>0</td>\n",
       "      <td>0</td>\n",
       "      <td>0</td>\n",
       "      <td>0</td>\n",
       "      <td>0</td>\n",
       "      <td>0</td>\n",
       "      <td>0</td>\n",
       "      <td>0</td>\n",
       "      <td>0.0</td>\n",
       "      <td>0.0</td>\n",
       "      <td>0.0</td>\n",
       "      <td>0.0</td>\n",
       "      <td>0.0</td>\n",
       "      <td>0.0</td>\n",
       "      <td>0.0</td>\n",
       "      <td>0.0</td>\n",
       "      <td>0.0</td>\n",
       "      <td>0</td>\n",
       "    </tr>\n",
       "    <tr>\n",
       "      <th>326</th>\n",
       "      <td>Juan Foyth</td>\n",
       "      <td>DF</td>\n",
       "      <td>Argentina</td>\n",
       "      <td>24-340</td>\n",
       "      <td>24</td>\n",
       "      <td>Villarreal</td>\n",
       "      <td>1998</td>\n",
       "      <td>1</td>\n",
       "      <td>0</td>\n",
       "      <td>5</td>\n",
       "      <td>1</td>\n",
       "      <td>0</td>\n",
       "      <td>0</td>\n",
       "      <td>0</td>\n",
       "      <td>0</td>\n",
       "      <td>0</td>\n",
       "      <td>0</td>\n",
       "      <td>0</td>\n",
       "      <td>0</td>\n",
       "      <td>0</td>\n",
       "      <td>0</td>\n",
       "      <td>0</td>\n",
       "      <td>0</td>\n",
       "      <td>0.0</td>\n",
       "      <td>0.0</td>\n",
       "      <td>0.0</td>\n",
       "      <td>0.0</td>\n",
       "      <td>0.0</td>\n",
       "      <td>0.0</td>\n",
       "      <td>0.0</td>\n",
       "      <td>0.0</td>\n",
       "      <td>0.0</td>\n",
       "      <td>1</td>\n",
       "    </tr>\n",
       "    <tr>\n",
       "      <th>330</th>\n",
       "      <td>Julián Álvarez</td>\n",
       "      <td>FW</td>\n",
       "      <td>Argentina</td>\n",
       "      <td>22-321</td>\n",
       "      <td>22</td>\n",
       "      <td>Manchester City</td>\n",
       "      <td>2000</td>\n",
       "      <td>7</td>\n",
       "      <td>5</td>\n",
       "      <td>464</td>\n",
       "      <td>52</td>\n",
       "      <td>4</td>\n",
       "      <td>0</td>\n",
       "      <td>4</td>\n",
       "      <td>0</td>\n",
       "      <td>0</td>\n",
       "      <td>0</td>\n",
       "      <td>0</td>\n",
       "      <td>78</td>\n",
       "      <td>0</td>\n",
       "      <td>78</td>\n",
       "      <td>78</td>\n",
       "      <td>78</td>\n",
       "      <td>26.0</td>\n",
       "      <td>26.0</td>\n",
       "      <td>1.0</td>\n",
       "      <td>27.0</td>\n",
       "      <td>51.0</td>\n",
       "      <td>2.0</td>\n",
       "      <td>53.0</td>\n",
       "      <td>51.0</td>\n",
       "      <td>53.0</td>\n",
       "      <td>2</td>\n",
       "    </tr>\n",
       "  </tbody>\n",
       "</table>\n",
       "</div>"
      ],
      "text/plain": [
       "                  player position       team     age  age2             club   \n",
       "30   Alexis Mac Allister       MF  Argentina  23-359    23         Brighton  \\\n",
       "133      Cristian Romero       DF  Argentina  24-235    24        Tottenham   \n",
       "184    Emiliano Martínez       GK  Argentina  30-107    30      Aston Villa   \n",
       "187       Enzo Fernández       MF  Argentina  21-335    21          Benfica   \n",
       "194    Exequiel Palacios       MF  Argentina  24-074    24       Leverkusen   \n",
       "220      Germán Pezzella       DF  Argentina  31-174    31            Betis   \n",
       "227      Gonzalo Montiel       DF  Argentina  25-351    25          Sevilla   \n",
       "233      Guido Rodríguez       MF  Argentina  28-250    28            Betis   \n",
       "326           Juan Foyth       DF  Argentina  24-340    24       Villarreal   \n",
       "330       Julián Álvarez       FW  Argentina  22-321    22  Manchester City   \n",
       "\n",
       "     birth_year  games  games_starts  minutes  minutes_90s  goals  assists   \n",
       "30         1998      6             6      550           61      1        1  \\\n",
       "133        1998      7             6      547           61      0        0   \n",
       "184        1992      7             7      690           77      0        0   \n",
       "187        2001      7             5      564           63      1        1   \n",
       "194        1998      3             0       50            6      0        0   \n",
       "220        1991      3             0       60            7      0        0   \n",
       "227        1997      4             1      118           13      0        0   \n",
       "233        1994      1             1       56            6      0        0   \n",
       "326        1998      1             0        5            1      0        0   \n",
       "330        2000      7             5      464           52      4        0   \n",
       "\n",
       "     goals_pens  pens_made  pens_att  cards_yellow  cards_red  goals_per90   \n",
       "30            1          0         0             0          0           16  \\\n",
       "133           0          0         0             2          0            0   \n",
       "184           0          0         0             1          0            0   \n",
       "187           1          0         0             1          0           16   \n",
       "194           0          0         0             0          0            0   \n",
       "220           0          0         0             1          0            0   \n",
       "227           0          0         0             3          0            0   \n",
       "233           0          0         0             0          0            0   \n",
       "326           0          0         0             0          0            0   \n",
       "330           4          0         0             0          0           78   \n",
       "\n",
       "     assists_per90  goals_assists_per90  goals_pens_per90   \n",
       "30              16                   33                16  \\\n",
       "133              0                    0                 0   \n",
       "184              0                    0                 0   \n",
       "187             16                   32                16   \n",
       "194              0                    0                 0   \n",
       "220              0                    0                 0   \n",
       "227              0                    0                 0   \n",
       "233              0                    0                 0   \n",
       "326              0                    0                 0   \n",
       "330              0                   78                78   \n",
       "\n",
       "     goals_assists_pens_per90    xg  npxg  xg_assist  npxg_xg_assist   \n",
       "30                         33   7.0   7.0        1.0            17.0  \\\n",
       "133                         0   0.0   0.0        0.0             0.0   \n",
       "184                         0   0.0   0.0        0.0             0.0   \n",
       "187                        32   3.0   3.0        9.0            12.0   \n",
       "194                         0   1.0   1.0        1.0             1.0   \n",
       "220                         0   1.0   1.0        0.0             1.0   \n",
       "227                         0   0.0   0.0        3.0             4.0   \n",
       "233                         0   0.0   0.0        0.0             0.0   \n",
       "326                         0   0.0   0.0        0.0             0.0   \n",
       "330                        78  26.0  26.0        1.0            27.0   \n",
       "\n",
       "     xg_per90  xg_assist_per90  xg_xg_assist_per90  npxg_per90   \n",
       "30       12.0             18.0                 3.0        12.0  \\\n",
       "133       0.0              0.0                 0.0         0.0   \n",
       "184       0.0              0.0                 0.0         0.0   \n",
       "187       5.0             16.0                21.0         5.0   \n",
       "194      12.0             12.0                24.0        12.0   \n",
       "220      24.0              0.0                24.0        24.0   \n",
       "227       2.0             42.0                44.0         2.0   \n",
       "233       0.0              0.0                 0.0         0.0   \n",
       "326       0.0              0.0                 0.0         0.0   \n",
       "330      51.0              2.0                53.0        51.0   \n",
       "\n",
       "     npxg_xg_assist_per90  games_sub  \n",
       "30                    3.0          0  \n",
       "133                   0.0          1  \n",
       "184                   0.0          0  \n",
       "187                  21.0          2  \n",
       "194                  24.0          3  \n",
       "220                  24.0          3  \n",
       "227                  44.0          3  \n",
       "233                   0.0          0  \n",
       "326                   0.0          1  \n",
       "330                  53.0          2  "
      ]
     },
     "execution_count": 75,
     "metadata": {},
     "output_type": "execute_result"
    }
   ],
   "source": [
    "country = 'Argentina'\n",
    "df_country = players_fifa_wc2022[players_fifa_wc2022.team==country]\n",
    "df_country.head(10)"
   ]
  },
  {
   "cell_type": "code",
<<<<<<< HEAD
   "execution_count": null,
=======
   "execution_count": 76,
>>>>>>> d20e0f0c979d08449127054dcb41934fa686c483
   "metadata": {},
   "outputs": [
    {
     "data": {
      "application/vnd.plotly.v1+json": {
       "config": {
        "plotlyServerURL": "https://plotly.com"
       },
       "data": [
        {
         "alignmentgroup": "True",
         "hovertemplate": "variable=games_starts<br>team=%{x}<br>value=%{y}<extra></extra>",
         "legendgroup": "games_starts",
         "marker": {
          "color": "rgb(102, 197, 204)",
          "pattern": {
           "shape": ""
          }
         },
         "name": "games_starts",
         "offsetgroup": "games_starts",
         "orientation": "v",
         "showlegend": true,
         "textposition": "auto",
         "type": "bar",
         "x": [
          "Argentina",
          "Argentina",
          "Argentina",
          "Argentina",
          "Argentina",
          "Argentina",
          "Argentina",
          "Argentina",
          "Argentina",
          "Argentina",
          "Argentina",
          "Argentina",
          "Argentina",
          "Argentina",
          "Argentina",
          "Argentina",
          "Argentina",
          "Argentina",
          "Argentina",
          "Argentina",
          "Argentina",
          "Argentina",
          "Argentina",
          "Argentina"
         ],
         "xaxis": "x",
         "y": [
          6,
          6,
          7,
          5,
          0,
          0,
          1,
          1,
          0,
          5,
          2,
          2,
          7,
          2,
          4,
          6,
          7,
          3,
          2,
          0,
          7,
          0,
          0,
          4
         ],
         "yaxis": "y"
        },
        {
         "alignmentgroup": "True",
         "hovertemplate": "variable=games_sub<br>team=%{x}<br>value=%{y}<extra></extra>",
         "legendgroup": "games_sub",
         "marker": {
          "color": "rgb(246, 207, 113)",
          "pattern": {
           "shape": ""
          }
         },
         "name": "games_sub",
         "offsetgroup": "games_sub",
         "orientation": "v",
         "showlegend": true,
         "textposition": "auto",
         "type": "bar",
         "x": [
          "Argentina",
          "Argentina",
          "Argentina",
          "Argentina",
          "Argentina",
          "Argentina",
          "Argentina",
          "Argentina",
          "Argentina",
          "Argentina",
          "Argentina",
          "Argentina",
          "Argentina",
          "Argentina",
          "Argentina",
          "Argentina",
          "Argentina",
          "Argentina",
          "Argentina",
          "Argentina",
          "Argentina",
          "Argentina",
          "Argentina",
          "Argentina"
         ],
         "xaxis": "x",
         "y": [
          0,
          1,
          0,
          2,
          3,
          3,
          3,
          0,
          1,
          2,
          4,
          3,
          0,
          3,
          2,
          1,
          0,
          3,
          0,
          2,
          0,
          1,
          1,
          1
         ],
         "yaxis": "y"
        }
       ],
       "layout": {
        "barmode": "relative",
        "legend": {
         "title": {
          "text": "variable"
         },
         "tracegroupgap": 0
        },
        "margin": {
         "t": 60
        },
        "template": {
         "data": {
          "bar": [
           {
            "error_x": {
             "color": "rgb(36,36,36)"
            },
            "error_y": {
             "color": "rgb(36,36,36)"
            },
            "marker": {
             "line": {
              "color": "white",
              "width": 0.5
             },
             "pattern": {
              "fillmode": "overlay",
              "size": 10,
              "solidity": 0.2
             }
            },
            "type": "bar"
           }
          ],
          "barpolar": [
           {
            "marker": {
             "line": {
              "color": "white",
              "width": 0.5
             },
             "pattern": {
              "fillmode": "overlay",
              "size": 10,
              "solidity": 0.2
             }
            },
            "type": "barpolar"
           }
          ],
          "carpet": [
           {
            "aaxis": {
             "endlinecolor": "rgb(36,36,36)",
             "gridcolor": "white",
             "linecolor": "white",
             "minorgridcolor": "white",
             "startlinecolor": "rgb(36,36,36)"
            },
            "baxis": {
             "endlinecolor": "rgb(36,36,36)",
             "gridcolor": "white",
             "linecolor": "white",
             "minorgridcolor": "white",
             "startlinecolor": "rgb(36,36,36)"
            },
            "type": "carpet"
           }
          ],
          "choropleth": [
           {
            "colorbar": {
             "outlinewidth": 1,
             "tickcolor": "rgb(36,36,36)",
             "ticks": "outside"
            },
            "type": "choropleth"
           }
          ],
          "contour": [
           {
            "colorbar": {
             "outlinewidth": 1,
             "tickcolor": "rgb(36,36,36)",
             "ticks": "outside"
            },
            "colorscale": [
             [
              0,
              "#440154"
             ],
             [
              0.1111111111111111,
              "#482878"
             ],
             [
              0.2222222222222222,
              "#3e4989"
             ],
             [
              0.3333333333333333,
              "#31688e"
             ],
             [
              0.4444444444444444,
              "#26828e"
             ],
             [
              0.5555555555555556,
              "#1f9e89"
             ],
             [
              0.6666666666666666,
              "#35b779"
             ],
             [
              0.7777777777777778,
              "#6ece58"
             ],
             [
              0.8888888888888888,
              "#b5de2b"
             ],
             [
              1,
              "#fde725"
             ]
            ],
            "type": "contour"
           }
          ],
          "contourcarpet": [
           {
            "colorbar": {
             "outlinewidth": 1,
             "tickcolor": "rgb(36,36,36)",
             "ticks": "outside"
            },
            "type": "contourcarpet"
           }
          ],
          "heatmap": [
           {
            "colorbar": {
             "outlinewidth": 1,
             "tickcolor": "rgb(36,36,36)",
             "ticks": "outside"
            },
            "colorscale": [
             [
              0,
              "#440154"
             ],
             [
              0.1111111111111111,
              "#482878"
             ],
             [
              0.2222222222222222,
              "#3e4989"
             ],
             [
              0.3333333333333333,
              "#31688e"
             ],
             [
              0.4444444444444444,
              "#26828e"
             ],
             [
              0.5555555555555556,
              "#1f9e89"
             ],
             [
              0.6666666666666666,
              "#35b779"
             ],
             [
              0.7777777777777778,
              "#6ece58"
             ],
             [
              0.8888888888888888,
              "#b5de2b"
             ],
             [
              1,
              "#fde725"
             ]
            ],
            "type": "heatmap"
           }
          ],
          "heatmapgl": [
           {
            "colorbar": {
             "outlinewidth": 1,
             "tickcolor": "rgb(36,36,36)",
             "ticks": "outside"
            },
            "colorscale": [
             [
              0,
              "#440154"
             ],
             [
              0.1111111111111111,
              "#482878"
             ],
             [
              0.2222222222222222,
              "#3e4989"
             ],
             [
              0.3333333333333333,
              "#31688e"
             ],
             [
              0.4444444444444444,
              "#26828e"
             ],
             [
              0.5555555555555556,
              "#1f9e89"
             ],
             [
              0.6666666666666666,
              "#35b779"
             ],
             [
              0.7777777777777778,
              "#6ece58"
             ],
             [
              0.8888888888888888,
              "#b5de2b"
             ],
             [
              1,
              "#fde725"
             ]
            ],
            "type": "heatmapgl"
           }
          ],
          "histogram": [
           {
            "marker": {
             "line": {
              "color": "white",
              "width": 0.6
             }
            },
            "type": "histogram"
           }
          ],
          "histogram2d": [
           {
            "colorbar": {
             "outlinewidth": 1,
             "tickcolor": "rgb(36,36,36)",
             "ticks": "outside"
            },
            "colorscale": [
             [
              0,
              "#440154"
             ],
             [
              0.1111111111111111,
              "#482878"
             ],
             [
              0.2222222222222222,
              "#3e4989"
             ],
             [
              0.3333333333333333,
              "#31688e"
             ],
             [
              0.4444444444444444,
              "#26828e"
             ],
             [
              0.5555555555555556,
              "#1f9e89"
             ],
             [
              0.6666666666666666,
              "#35b779"
             ],
             [
              0.7777777777777778,
              "#6ece58"
             ],
             [
              0.8888888888888888,
              "#b5de2b"
             ],
             [
              1,
              "#fde725"
             ]
            ],
            "type": "histogram2d"
           }
          ],
          "histogram2dcontour": [
           {
            "colorbar": {
             "outlinewidth": 1,
             "tickcolor": "rgb(36,36,36)",
             "ticks": "outside"
            },
            "colorscale": [
             [
              0,
              "#440154"
             ],
             [
              0.1111111111111111,
              "#482878"
             ],
             [
              0.2222222222222222,
              "#3e4989"
             ],
             [
              0.3333333333333333,
              "#31688e"
             ],
             [
              0.4444444444444444,
              "#26828e"
             ],
             [
              0.5555555555555556,
              "#1f9e89"
             ],
             [
              0.6666666666666666,
              "#35b779"
             ],
             [
              0.7777777777777778,
              "#6ece58"
             ],
             [
              0.8888888888888888,
              "#b5de2b"
             ],
             [
              1,
              "#fde725"
             ]
            ],
            "type": "histogram2dcontour"
           }
          ],
          "mesh3d": [
           {
            "colorbar": {
             "outlinewidth": 1,
             "tickcolor": "rgb(36,36,36)",
             "ticks": "outside"
            },
            "type": "mesh3d"
           }
          ],
          "parcoords": [
           {
            "line": {
             "colorbar": {
              "outlinewidth": 1,
              "tickcolor": "rgb(36,36,36)",
              "ticks": "outside"
             }
            },
            "type": "parcoords"
           }
          ],
          "pie": [
           {
            "automargin": true,
            "type": "pie"
           }
          ],
          "scatter": [
           {
            "fillpattern": {
             "fillmode": "overlay",
             "size": 10,
             "solidity": 0.2
            },
            "type": "scatter"
           }
          ],
          "scatter3d": [
           {
            "line": {
             "colorbar": {
              "outlinewidth": 1,
              "tickcolor": "rgb(36,36,36)",
              "ticks": "outside"
             }
            },
            "marker": {
             "colorbar": {
              "outlinewidth": 1,
              "tickcolor": "rgb(36,36,36)",
              "ticks": "outside"
             }
            },
            "type": "scatter3d"
           }
          ],
          "scattercarpet": [
           {
            "marker": {
             "colorbar": {
              "outlinewidth": 1,
              "tickcolor": "rgb(36,36,36)",
              "ticks": "outside"
             }
            },
            "type": "scattercarpet"
           }
          ],
          "scattergeo": [
           {
            "marker": {
             "colorbar": {
              "outlinewidth": 1,
              "tickcolor": "rgb(36,36,36)",
              "ticks": "outside"
             }
            },
            "type": "scattergeo"
           }
          ],
          "scattergl": [
           {
            "marker": {
             "colorbar": {
              "outlinewidth": 1,
              "tickcolor": "rgb(36,36,36)",
              "ticks": "outside"
             }
            },
            "type": "scattergl"
           }
          ],
          "scattermapbox": [
           {
            "marker": {
             "colorbar": {
              "outlinewidth": 1,
              "tickcolor": "rgb(36,36,36)",
              "ticks": "outside"
             }
            },
            "type": "scattermapbox"
           }
          ],
          "scatterpolar": [
           {
            "marker": {
             "colorbar": {
              "outlinewidth": 1,
              "tickcolor": "rgb(36,36,36)",
              "ticks": "outside"
             }
            },
            "type": "scatterpolar"
           }
          ],
          "scatterpolargl": [
           {
            "marker": {
             "colorbar": {
              "outlinewidth": 1,
              "tickcolor": "rgb(36,36,36)",
              "ticks": "outside"
             }
            },
            "type": "scatterpolargl"
           }
          ],
          "scatterternary": [
           {
            "marker": {
             "colorbar": {
              "outlinewidth": 1,
              "tickcolor": "rgb(36,36,36)",
              "ticks": "outside"
             }
            },
            "type": "scatterternary"
           }
          ],
          "surface": [
           {
            "colorbar": {
             "outlinewidth": 1,
             "tickcolor": "rgb(36,36,36)",
             "ticks": "outside"
            },
            "colorscale": [
             [
              0,
              "#440154"
             ],
             [
              0.1111111111111111,
              "#482878"
             ],
             [
              0.2222222222222222,
              "#3e4989"
             ],
             [
              0.3333333333333333,
              "#31688e"
             ],
             [
              0.4444444444444444,
              "#26828e"
             ],
             [
              0.5555555555555556,
              "#1f9e89"
             ],
             [
              0.6666666666666666,
              "#35b779"
             ],
             [
              0.7777777777777778,
              "#6ece58"
             ],
             [
              0.8888888888888888,
              "#b5de2b"
             ],
             [
              1,
              "#fde725"
             ]
            ],
            "type": "surface"
           }
          ],
          "table": [
           {
            "cells": {
             "fill": {
              "color": "rgb(237,237,237)"
             },
             "line": {
              "color": "white"
             }
            },
            "header": {
             "fill": {
              "color": "rgb(217,217,217)"
             },
             "line": {
              "color": "white"
             }
            },
            "type": "table"
           }
          ]
         },
         "layout": {
          "annotationdefaults": {
           "arrowhead": 0,
           "arrowwidth": 1
          },
          "autotypenumbers": "strict",
          "coloraxis": {
           "colorbar": {
            "outlinewidth": 1,
            "tickcolor": "rgb(36,36,36)",
            "ticks": "outside"
           }
          },
          "colorscale": {
           "diverging": [
            [
             0,
             "rgb(103,0,31)"
            ],
            [
             0.1,
             "rgb(178,24,43)"
            ],
            [
             0.2,
             "rgb(214,96,77)"
            ],
            [
             0.3,
             "rgb(244,165,130)"
            ],
            [
             0.4,
             "rgb(253,219,199)"
            ],
            [
             0.5,
             "rgb(247,247,247)"
            ],
            [
             0.6,
             "rgb(209,229,240)"
            ],
            [
             0.7,
             "rgb(146,197,222)"
            ],
            [
             0.8,
             "rgb(67,147,195)"
            ],
            [
             0.9,
             "rgb(33,102,172)"
            ],
            [
             1,
             "rgb(5,48,97)"
            ]
           ],
           "sequential": [
            [
             0,
             "#440154"
            ],
            [
             0.1111111111111111,
             "#482878"
            ],
            [
             0.2222222222222222,
             "#3e4989"
            ],
            [
             0.3333333333333333,
             "#31688e"
            ],
            [
             0.4444444444444444,
             "#26828e"
            ],
            [
             0.5555555555555556,
             "#1f9e89"
            ],
            [
             0.6666666666666666,
             "#35b779"
            ],
            [
             0.7777777777777778,
             "#6ece58"
            ],
            [
             0.8888888888888888,
             "#b5de2b"
            ],
            [
             1,
             "#fde725"
            ]
           ],
           "sequentialminus": [
            [
             0,
             "#440154"
            ],
            [
             0.1111111111111111,
             "#482878"
            ],
            [
             0.2222222222222222,
             "#3e4989"
            ],
            [
             0.3333333333333333,
             "#31688e"
            ],
            [
             0.4444444444444444,
             "#26828e"
            ],
            [
             0.5555555555555556,
             "#1f9e89"
            ],
            [
             0.6666666666666666,
             "#35b779"
            ],
            [
             0.7777777777777778,
             "#6ece58"
            ],
            [
             0.8888888888888888,
             "#b5de2b"
            ],
            [
             1,
             "#fde725"
            ]
           ]
          },
          "colorway": [
           "#1F77B4",
           "#FF7F0E",
           "#2CA02C",
           "#D62728",
           "#9467BD",
           "#8C564B",
           "#E377C2",
           "#7F7F7F",
           "#BCBD22",
           "#17BECF"
          ],
          "font": {
           "color": "rgb(36,36,36)"
          },
          "geo": {
           "bgcolor": "white",
           "lakecolor": "white",
           "landcolor": "white",
           "showlakes": true,
           "showland": true,
           "subunitcolor": "white"
          },
          "hoverlabel": {
           "align": "left"
          },
          "hovermode": "closest",
          "mapbox": {
           "style": "light"
          },
          "paper_bgcolor": "white",
          "plot_bgcolor": "white",
          "polar": {
           "angularaxis": {
            "gridcolor": "rgb(232,232,232)",
            "linecolor": "rgb(36,36,36)",
            "showgrid": false,
            "showline": true,
            "ticks": "outside"
           },
           "bgcolor": "white",
           "radialaxis": {
            "gridcolor": "rgb(232,232,232)",
            "linecolor": "rgb(36,36,36)",
            "showgrid": false,
            "showline": true,
            "ticks": "outside"
           }
          },
          "scene": {
           "xaxis": {
            "backgroundcolor": "white",
            "gridcolor": "rgb(232,232,232)",
            "gridwidth": 2,
            "linecolor": "rgb(36,36,36)",
            "showbackground": true,
            "showgrid": false,
            "showline": true,
            "ticks": "outside",
            "zeroline": false,
            "zerolinecolor": "rgb(36,36,36)"
           },
           "yaxis": {
            "backgroundcolor": "white",
            "gridcolor": "rgb(232,232,232)",
            "gridwidth": 2,
            "linecolor": "rgb(36,36,36)",
            "showbackground": true,
            "showgrid": false,
            "showline": true,
            "ticks": "outside",
            "zeroline": false,
            "zerolinecolor": "rgb(36,36,36)"
           },
           "zaxis": {
            "backgroundcolor": "white",
            "gridcolor": "rgb(232,232,232)",
            "gridwidth": 2,
            "linecolor": "rgb(36,36,36)",
            "showbackground": true,
            "showgrid": false,
            "showline": true,
            "ticks": "outside",
            "zeroline": false,
            "zerolinecolor": "rgb(36,36,36)"
           }
          },
          "shapedefaults": {
           "fillcolor": "black",
           "line": {
            "width": 0
           },
           "opacity": 0.3
          },
          "ternary": {
           "aaxis": {
            "gridcolor": "rgb(232,232,232)",
            "linecolor": "rgb(36,36,36)",
            "showgrid": false,
            "showline": true,
            "ticks": "outside"
           },
           "baxis": {
            "gridcolor": "rgb(232,232,232)",
            "linecolor": "rgb(36,36,36)",
            "showgrid": false,
            "showline": true,
            "ticks": "outside"
           },
           "bgcolor": "white",
           "caxis": {
            "gridcolor": "rgb(232,232,232)",
            "linecolor": "rgb(36,36,36)",
            "showgrid": false,
            "showline": true,
            "ticks": "outside"
           }
          },
          "title": {
           "x": 0.05
          },
          "xaxis": {
           "automargin": true,
           "gridcolor": "rgb(232,232,232)",
           "linecolor": "rgb(36,36,36)",
           "showgrid": false,
           "showline": true,
           "ticks": "outside",
           "title": {
            "standoff": 15
           },
           "zeroline": false,
           "zerolinecolor": "rgb(36,36,36)"
          },
          "yaxis": {
           "automargin": true,
           "gridcolor": "rgb(232,232,232)",
           "linecolor": "rgb(36,36,36)",
           "showgrid": false,
           "showline": true,
           "ticks": "outside",
           "title": {
            "standoff": 15
           },
           "zeroline": false,
           "zerolinecolor": "rgb(36,36,36)"
          }
         }
        },
        "title": {
         "text": "Total games played by all players of Argentina"
        },
        "xaxis": {
         "anchor": "y",
         "domain": [
          0,
          1
         ],
         "title": {
          "text": "Team"
         }
        },
        "yaxis": {
         "anchor": "x",
         "domain": [
          0,
          1
         ],
         "title": {
          "text": "Games"
         }
        }
       }
      }
     },
     "metadata": {},
     "output_type": "display_data"
    }
   ],
   "source": [
    "#total de partidos por jugadores \n",
    "fig_games_ply = px.bar(df_country, x = 'team', y =['games_starts', 'games_sub'], color_discrete_sequence=px.colors.qualitative.Pastel)\n",
    "fig_games_ply.update_layout(template='simple_white', title=f'Total games played by all players of {country}',\n",
    "    xaxis_title='Team',\n",
    "    yaxis_title='Games' )\n",
    "fig_games_ply.show()"
   ]
  },
  {
   "cell_type": "code",
<<<<<<< HEAD
   "execution_count": null,
=======
   "execution_count": 77,
>>>>>>> d20e0f0c979d08449127054dcb41934fa686c483
   "metadata": {},
   "outputs": [
    {
     "data": {
      "application/vnd.plotly.v1+json": {
       "config": {
        "plotlyServerURL": "https://plotly.com"
       },
       "data": [
        {
         "alignmentgroup": "True",
         "hovertemplate": "variable=minutes<br>team=%{x}<br>value=%{y}<extra></extra>",
         "legendgroup": "minutes",
         "marker": {
          "color": "rgb(102, 197, 204)",
          "pattern": {
           "shape": ""
          }
         },
         "name": "minutes",
         "offsetgroup": "minutes",
         "orientation": "v",
         "showlegend": true,
         "textposition": "auto",
         "type": "bar",
         "x": [
          "Argentina",
          "Argentina",
          "Argentina",
          "Argentina",
          "Argentina",
          "Argentina",
          "Argentina",
          "Argentina",
          "Argentina",
          "Argentina",
          "Argentina",
          "Argentina",
          "Argentina",
          "Argentina",
          "Argentina",
          "Argentina",
          "Argentina",
          "Argentina",
          "Argentina",
          "Argentina",
          "Argentina",
          "Argentina",
          "Argentina",
          "Argentina"
         ],
         "xaxis": "x",
         "y": [
          550,
          547,
          690,
          564,
          50,
          60,
          118,
          56,
          5,
          464,
          241,
          225,
          690,
          303,
          373,
          567,
          690,
          373,
          107,
          18,
          599,
          7,
          5,
          288
         ],
         "yaxis": "y"
        },
        {
         "alignmentgroup": "True",
         "hovertemplate": "variable=minutes_90s<br>team=%{x}<br>value=%{y}<extra></extra>",
         "legendgroup": "minutes_90s",
         "marker": {
          "color": "rgb(246, 207, 113)",
          "pattern": {
           "shape": ""
          }
         },
         "name": "minutes_90s",
         "offsetgroup": "minutes_90s",
         "orientation": "v",
         "showlegend": true,
         "textposition": "auto",
         "type": "bar",
         "x": [
          "Argentina",
          "Argentina",
          "Argentina",
          "Argentina",
          "Argentina",
          "Argentina",
          "Argentina",
          "Argentina",
          "Argentina",
          "Argentina",
          "Argentina",
          "Argentina",
          "Argentina",
          "Argentina",
          "Argentina",
          "Argentina",
          "Argentina",
          "Argentina",
          "Argentina",
          "Argentina",
          "Argentina",
          "Argentina",
          "Argentina",
          "Argentina"
         ],
         "xaxis": "x",
         "y": [
          61,
          61,
          77,
          63,
          6,
          7,
          13,
          6,
          1,
          52,
          27,
          25,
          77,
          34,
          41,
          63,
          77,
          41,
          12,
          2,
          67,
          1,
          1,
          32
         ],
         "yaxis": "y"
        }
       ],
       "layout": {
        "barmode": "group",
        "legend": {
         "title": {
          "text": "variable"
         },
         "tracegroupgap": 0
        },
        "margin": {
         "t": 60
        },
        "template": {
         "data": {
          "bar": [
           {
            "error_x": {
             "color": "rgb(36,36,36)"
            },
            "error_y": {
             "color": "rgb(36,36,36)"
            },
            "marker": {
             "line": {
              "color": "white",
              "width": 0.5
             },
             "pattern": {
              "fillmode": "overlay",
              "size": 10,
              "solidity": 0.2
             }
            },
            "type": "bar"
           }
          ],
          "barpolar": [
           {
            "marker": {
             "line": {
              "color": "white",
              "width": 0.5
             },
             "pattern": {
              "fillmode": "overlay",
              "size": 10,
              "solidity": 0.2
             }
            },
            "type": "barpolar"
           }
          ],
          "carpet": [
           {
            "aaxis": {
             "endlinecolor": "rgb(36,36,36)",
             "gridcolor": "white",
             "linecolor": "white",
             "minorgridcolor": "white",
             "startlinecolor": "rgb(36,36,36)"
            },
            "baxis": {
             "endlinecolor": "rgb(36,36,36)",
             "gridcolor": "white",
             "linecolor": "white",
             "minorgridcolor": "white",
             "startlinecolor": "rgb(36,36,36)"
            },
            "type": "carpet"
           }
          ],
          "choropleth": [
           {
            "colorbar": {
             "outlinewidth": 1,
             "tickcolor": "rgb(36,36,36)",
             "ticks": "outside"
            },
            "type": "choropleth"
           }
          ],
          "contour": [
           {
            "colorbar": {
             "outlinewidth": 1,
             "tickcolor": "rgb(36,36,36)",
             "ticks": "outside"
            },
            "colorscale": [
             [
              0,
              "#440154"
             ],
             [
              0.1111111111111111,
              "#482878"
             ],
             [
              0.2222222222222222,
              "#3e4989"
             ],
             [
              0.3333333333333333,
              "#31688e"
             ],
             [
              0.4444444444444444,
              "#26828e"
             ],
             [
              0.5555555555555556,
              "#1f9e89"
             ],
             [
              0.6666666666666666,
              "#35b779"
             ],
             [
              0.7777777777777778,
              "#6ece58"
             ],
             [
              0.8888888888888888,
              "#b5de2b"
             ],
             [
              1,
              "#fde725"
             ]
            ],
            "type": "contour"
           }
          ],
          "contourcarpet": [
           {
            "colorbar": {
             "outlinewidth": 1,
             "tickcolor": "rgb(36,36,36)",
             "ticks": "outside"
            },
            "type": "contourcarpet"
           }
          ],
          "heatmap": [
           {
            "colorbar": {
             "outlinewidth": 1,
             "tickcolor": "rgb(36,36,36)",
             "ticks": "outside"
            },
            "colorscale": [
             [
              0,
              "#440154"
             ],
             [
              0.1111111111111111,
              "#482878"
             ],
             [
              0.2222222222222222,
              "#3e4989"
             ],
             [
              0.3333333333333333,
              "#31688e"
             ],
             [
              0.4444444444444444,
              "#26828e"
             ],
             [
              0.5555555555555556,
              "#1f9e89"
             ],
             [
              0.6666666666666666,
              "#35b779"
             ],
             [
              0.7777777777777778,
              "#6ece58"
             ],
             [
              0.8888888888888888,
              "#b5de2b"
             ],
             [
              1,
              "#fde725"
             ]
            ],
            "type": "heatmap"
           }
          ],
          "heatmapgl": [
           {
            "colorbar": {
             "outlinewidth": 1,
             "tickcolor": "rgb(36,36,36)",
             "ticks": "outside"
            },
            "colorscale": [
             [
              0,
              "#440154"
             ],
             [
              0.1111111111111111,
              "#482878"
             ],
             [
              0.2222222222222222,
              "#3e4989"
             ],
             [
              0.3333333333333333,
              "#31688e"
             ],
             [
              0.4444444444444444,
              "#26828e"
             ],
             [
              0.5555555555555556,
              "#1f9e89"
             ],
             [
              0.6666666666666666,
              "#35b779"
             ],
             [
              0.7777777777777778,
              "#6ece58"
             ],
             [
              0.8888888888888888,
              "#b5de2b"
             ],
             [
              1,
              "#fde725"
             ]
            ],
            "type": "heatmapgl"
           }
          ],
          "histogram": [
           {
            "marker": {
             "line": {
              "color": "white",
              "width": 0.6
             }
            },
            "type": "histogram"
           }
          ],
          "histogram2d": [
           {
            "colorbar": {
             "outlinewidth": 1,
             "tickcolor": "rgb(36,36,36)",
             "ticks": "outside"
            },
            "colorscale": [
             [
              0,
              "#440154"
             ],
             [
              0.1111111111111111,
              "#482878"
             ],
             [
              0.2222222222222222,
              "#3e4989"
             ],
             [
              0.3333333333333333,
              "#31688e"
             ],
             [
              0.4444444444444444,
              "#26828e"
             ],
             [
              0.5555555555555556,
              "#1f9e89"
             ],
             [
              0.6666666666666666,
              "#35b779"
             ],
             [
              0.7777777777777778,
              "#6ece58"
             ],
             [
              0.8888888888888888,
              "#b5de2b"
             ],
             [
              1,
              "#fde725"
             ]
            ],
            "type": "histogram2d"
           }
          ],
          "histogram2dcontour": [
           {
            "colorbar": {
             "outlinewidth": 1,
             "tickcolor": "rgb(36,36,36)",
             "ticks": "outside"
            },
            "colorscale": [
             [
              0,
              "#440154"
             ],
             [
              0.1111111111111111,
              "#482878"
             ],
             [
              0.2222222222222222,
              "#3e4989"
             ],
             [
              0.3333333333333333,
              "#31688e"
             ],
             [
              0.4444444444444444,
              "#26828e"
             ],
             [
              0.5555555555555556,
              "#1f9e89"
             ],
             [
              0.6666666666666666,
              "#35b779"
             ],
             [
              0.7777777777777778,
              "#6ece58"
             ],
             [
              0.8888888888888888,
              "#b5de2b"
             ],
             [
              1,
              "#fde725"
             ]
            ],
            "type": "histogram2dcontour"
           }
          ],
          "mesh3d": [
           {
            "colorbar": {
             "outlinewidth": 1,
             "tickcolor": "rgb(36,36,36)",
             "ticks": "outside"
            },
            "type": "mesh3d"
           }
          ],
          "parcoords": [
           {
            "line": {
             "colorbar": {
              "outlinewidth": 1,
              "tickcolor": "rgb(36,36,36)",
              "ticks": "outside"
             }
            },
            "type": "parcoords"
           }
          ],
          "pie": [
           {
            "automargin": true,
            "type": "pie"
           }
          ],
          "scatter": [
           {
            "fillpattern": {
             "fillmode": "overlay",
             "size": 10,
             "solidity": 0.2
            },
            "type": "scatter"
           }
          ],
          "scatter3d": [
           {
            "line": {
             "colorbar": {
              "outlinewidth": 1,
              "tickcolor": "rgb(36,36,36)",
              "ticks": "outside"
             }
            },
            "marker": {
             "colorbar": {
              "outlinewidth": 1,
              "tickcolor": "rgb(36,36,36)",
              "ticks": "outside"
             }
            },
            "type": "scatter3d"
           }
          ],
          "scattercarpet": [
           {
            "marker": {
             "colorbar": {
              "outlinewidth": 1,
              "tickcolor": "rgb(36,36,36)",
              "ticks": "outside"
             }
            },
            "type": "scattercarpet"
           }
          ],
          "scattergeo": [
           {
            "marker": {
             "colorbar": {
              "outlinewidth": 1,
              "tickcolor": "rgb(36,36,36)",
              "ticks": "outside"
             }
            },
            "type": "scattergeo"
           }
          ],
          "scattergl": [
           {
            "marker": {
             "colorbar": {
              "outlinewidth": 1,
              "tickcolor": "rgb(36,36,36)",
              "ticks": "outside"
             }
            },
            "type": "scattergl"
           }
          ],
          "scattermapbox": [
           {
            "marker": {
             "colorbar": {
              "outlinewidth": 1,
              "tickcolor": "rgb(36,36,36)",
              "ticks": "outside"
             }
            },
            "type": "scattermapbox"
           }
          ],
          "scatterpolar": [
           {
            "marker": {
             "colorbar": {
              "outlinewidth": 1,
              "tickcolor": "rgb(36,36,36)",
              "ticks": "outside"
             }
            },
            "type": "scatterpolar"
           }
          ],
          "scatterpolargl": [
           {
            "marker": {
             "colorbar": {
              "outlinewidth": 1,
              "tickcolor": "rgb(36,36,36)",
              "ticks": "outside"
             }
            },
            "type": "scatterpolargl"
           }
          ],
          "scatterternary": [
           {
            "marker": {
             "colorbar": {
              "outlinewidth": 1,
              "tickcolor": "rgb(36,36,36)",
              "ticks": "outside"
             }
            },
            "type": "scatterternary"
           }
          ],
          "surface": [
           {
            "colorbar": {
             "outlinewidth": 1,
             "tickcolor": "rgb(36,36,36)",
             "ticks": "outside"
            },
            "colorscale": [
             [
              0,
              "#440154"
             ],
             [
              0.1111111111111111,
              "#482878"
             ],
             [
              0.2222222222222222,
              "#3e4989"
             ],
             [
              0.3333333333333333,
              "#31688e"
             ],
             [
              0.4444444444444444,
              "#26828e"
             ],
             [
              0.5555555555555556,
              "#1f9e89"
             ],
             [
              0.6666666666666666,
              "#35b779"
             ],
             [
              0.7777777777777778,
              "#6ece58"
             ],
             [
              0.8888888888888888,
              "#b5de2b"
             ],
             [
              1,
              "#fde725"
             ]
            ],
            "type": "surface"
           }
          ],
          "table": [
           {
            "cells": {
             "fill": {
              "color": "rgb(237,237,237)"
             },
             "line": {
              "color": "white"
             }
            },
            "header": {
             "fill": {
              "color": "rgb(217,217,217)"
             },
             "line": {
              "color": "white"
             }
            },
            "type": "table"
           }
          ]
         },
         "layout": {
          "annotationdefaults": {
           "arrowhead": 0,
           "arrowwidth": 1
          },
          "autotypenumbers": "strict",
          "coloraxis": {
           "colorbar": {
            "outlinewidth": 1,
            "tickcolor": "rgb(36,36,36)",
            "ticks": "outside"
           }
          },
          "colorscale": {
           "diverging": [
            [
             0,
             "rgb(103,0,31)"
            ],
            [
             0.1,
             "rgb(178,24,43)"
            ],
            [
             0.2,
             "rgb(214,96,77)"
            ],
            [
             0.3,
             "rgb(244,165,130)"
            ],
            [
             0.4,
             "rgb(253,219,199)"
            ],
            [
             0.5,
             "rgb(247,247,247)"
            ],
            [
             0.6,
             "rgb(209,229,240)"
            ],
            [
             0.7,
             "rgb(146,197,222)"
            ],
            [
             0.8,
             "rgb(67,147,195)"
            ],
            [
             0.9,
             "rgb(33,102,172)"
            ],
            [
             1,
             "rgb(5,48,97)"
            ]
           ],
           "sequential": [
            [
             0,
             "#440154"
            ],
            [
             0.1111111111111111,
             "#482878"
            ],
            [
             0.2222222222222222,
             "#3e4989"
            ],
            [
             0.3333333333333333,
             "#31688e"
            ],
            [
             0.4444444444444444,
             "#26828e"
            ],
            [
             0.5555555555555556,
             "#1f9e89"
            ],
            [
             0.6666666666666666,
             "#35b779"
            ],
            [
             0.7777777777777778,
             "#6ece58"
            ],
            [
             0.8888888888888888,
             "#b5de2b"
            ],
            [
             1,
             "#fde725"
            ]
           ],
           "sequentialminus": [
            [
             0,
             "#440154"
            ],
            [
             0.1111111111111111,
             "#482878"
            ],
            [
             0.2222222222222222,
             "#3e4989"
            ],
            [
             0.3333333333333333,
             "#31688e"
            ],
            [
             0.4444444444444444,
             "#26828e"
            ],
            [
             0.5555555555555556,
             "#1f9e89"
            ],
            [
             0.6666666666666666,
             "#35b779"
            ],
            [
             0.7777777777777778,
             "#6ece58"
            ],
            [
             0.8888888888888888,
             "#b5de2b"
            ],
            [
             1,
             "#fde725"
            ]
           ]
          },
          "colorway": [
           "#1F77B4",
           "#FF7F0E",
           "#2CA02C",
           "#D62728",
           "#9467BD",
           "#8C564B",
           "#E377C2",
           "#7F7F7F",
           "#BCBD22",
           "#17BECF"
          ],
          "font": {
           "color": "rgb(36,36,36)"
          },
          "geo": {
           "bgcolor": "white",
           "lakecolor": "white",
           "landcolor": "white",
           "showlakes": true,
           "showland": true,
           "subunitcolor": "white"
          },
          "hoverlabel": {
           "align": "left"
          },
          "hovermode": "closest",
          "mapbox": {
           "style": "light"
          },
          "paper_bgcolor": "white",
          "plot_bgcolor": "white",
          "polar": {
           "angularaxis": {
            "gridcolor": "rgb(232,232,232)",
            "linecolor": "rgb(36,36,36)",
            "showgrid": false,
            "showline": true,
            "ticks": "outside"
           },
           "bgcolor": "white",
           "radialaxis": {
            "gridcolor": "rgb(232,232,232)",
            "linecolor": "rgb(36,36,36)",
            "showgrid": false,
            "showline": true,
            "ticks": "outside"
           }
          },
          "scene": {
           "xaxis": {
            "backgroundcolor": "white",
            "gridcolor": "rgb(232,232,232)",
            "gridwidth": 2,
            "linecolor": "rgb(36,36,36)",
            "showbackground": true,
            "showgrid": false,
            "showline": true,
            "ticks": "outside",
            "zeroline": false,
            "zerolinecolor": "rgb(36,36,36)"
           },
           "yaxis": {
            "backgroundcolor": "white",
            "gridcolor": "rgb(232,232,232)",
            "gridwidth": 2,
            "linecolor": "rgb(36,36,36)",
            "showbackground": true,
            "showgrid": false,
            "showline": true,
            "ticks": "outside",
            "zeroline": false,
            "zerolinecolor": "rgb(36,36,36)"
           },
           "zaxis": {
            "backgroundcolor": "white",
            "gridcolor": "rgb(232,232,232)",
            "gridwidth": 2,
            "linecolor": "rgb(36,36,36)",
            "showbackground": true,
            "showgrid": false,
            "showline": true,
            "ticks": "outside",
            "zeroline": false,
            "zerolinecolor": "rgb(36,36,36)"
           }
          },
          "shapedefaults": {
           "fillcolor": "black",
           "line": {
            "width": 0
           },
           "opacity": 0.3
          },
          "ternary": {
           "aaxis": {
            "gridcolor": "rgb(232,232,232)",
            "linecolor": "rgb(36,36,36)",
            "showgrid": false,
            "showline": true,
            "ticks": "outside"
           },
           "baxis": {
            "gridcolor": "rgb(232,232,232)",
            "linecolor": "rgb(36,36,36)",
            "showgrid": false,
            "showline": true,
            "ticks": "outside"
           },
           "bgcolor": "white",
           "caxis": {
            "gridcolor": "rgb(232,232,232)",
            "linecolor": "rgb(36,36,36)",
            "showgrid": false,
            "showline": true,
            "ticks": "outside"
           }
          },
          "title": {
           "x": 0.05
          },
          "xaxis": {
           "automargin": true,
           "gridcolor": "rgb(232,232,232)",
           "linecolor": "rgb(36,36,36)",
           "showgrid": false,
           "showline": true,
           "ticks": "outside",
           "title": {
            "standoff": 15
           },
           "zeroline": false,
           "zerolinecolor": "rgb(36,36,36)"
          },
          "yaxis": {
           "automargin": true,
           "gridcolor": "rgb(232,232,232)",
           "linecolor": "rgb(36,36,36)",
           "showgrid": false,
           "showline": true,
           "ticks": "outside",
           "title": {
            "standoff": 15
           },
           "zeroline": false,
           "zerolinecolor": "rgb(36,36,36)"
          }
         }
        },
        "title": {
         "text": "Total minutes played by all players of Argentina"
        },
        "xaxis": {
         "anchor": "y",
         "domain": [
          0,
          1
         ],
         "title": {
          "text": "Team"
         }
        },
        "yaxis": {
         "anchor": "x",
         "domain": [
          0,
          1
         ],
         "title": {
          "text": "Minutes"
         }
        }
       }
      }
     },
     "metadata": {},
     "output_type": "display_data"
    }
   ],
   "source": [
    "#total de minutos por jugadores\n",
    "fig_min_ply = px.bar(df_country, x = 'team', y =['minutes', 'minutes_90s'], barmode='group', color_discrete_sequence=px.colors.qualitative.Pastel)\n",
    "fig_min_ply.update_layout(template='simple_white', title=f'Total minutes played by all players of {country}',\n",
    "    xaxis_title='Team',\n",
    "    yaxis_title='Minutes' )\n",
    "fig_min_ply.show()\n"
   ]
  },
  {
   "cell_type": "code",
<<<<<<< HEAD
   "execution_count": null,
=======
   "execution_count": 78,
>>>>>>> d20e0f0c979d08449127054dcb41934fa686c483
   "metadata": {},
   "outputs": [
    {
     "data": {
      "text/plain": [
       "15"
      ]
     },
     "execution_count": 78,
     "metadata": {},
     "output_type": "execute_result"
    }
   ],
   "source": [
    "df_country.goals.sum()"
   ]
  },
  {
   "cell_type": "code",
<<<<<<< HEAD
   "execution_count": null,
=======
   "execution_count": 79,
>>>>>>> d20e0f0c979d08449127054dcb41934fa686c483
   "metadata": {},
   "outputs": [
    {
     "data": {
      "application/vnd.plotly.v1+json": {
       "config": {
        "plotlyServerURL": "https://plotly.com"
       },
       "data": [
        {
         "fill": "toself",
         "r": [
          15,
          8,
          11,
          4,
          5
         ],
         "theta": [
          "goals",
          "assists",
          "goals_pens",
          "pens_made",
          "pens_att"
         ],
         "type": "scatterpolar"
        }
       ],
       "layout": {
        "template": {
         "data": {
          "bar": [
           {
            "error_x": {
             "color": "#2a3f5f"
            },
            "error_y": {
             "color": "#2a3f5f"
            },
            "marker": {
             "line": {
              "color": "#E5ECF6",
              "width": 0.5
             },
             "pattern": {
              "fillmode": "overlay",
              "size": 10,
              "solidity": 0.2
             }
            },
            "type": "bar"
           }
          ],
          "barpolar": [
           {
            "marker": {
             "line": {
              "color": "#E5ECF6",
              "width": 0.5
             },
             "pattern": {
              "fillmode": "overlay",
              "size": 10,
              "solidity": 0.2
             }
            },
            "type": "barpolar"
           }
          ],
          "carpet": [
           {
            "aaxis": {
             "endlinecolor": "#2a3f5f",
             "gridcolor": "white",
             "linecolor": "white",
             "minorgridcolor": "white",
             "startlinecolor": "#2a3f5f"
            },
            "baxis": {
             "endlinecolor": "#2a3f5f",
             "gridcolor": "white",
             "linecolor": "white",
             "minorgridcolor": "white",
             "startlinecolor": "#2a3f5f"
            },
            "type": "carpet"
           }
          ],
          "choropleth": [
           {
            "colorbar": {
             "outlinewidth": 0,
             "ticks": ""
            },
            "type": "choropleth"
           }
          ],
          "contour": [
           {
            "colorbar": {
             "outlinewidth": 0,
             "ticks": ""
            },
            "colorscale": [
             [
              0,
              "#0d0887"
             ],
             [
              0.1111111111111111,
              "#46039f"
             ],
             [
              0.2222222222222222,
              "#7201a8"
             ],
             [
              0.3333333333333333,
              "#9c179e"
             ],
             [
              0.4444444444444444,
              "#bd3786"
             ],
             [
              0.5555555555555556,
              "#d8576b"
             ],
             [
              0.6666666666666666,
              "#ed7953"
             ],
             [
              0.7777777777777778,
              "#fb9f3a"
             ],
             [
              0.8888888888888888,
              "#fdca26"
             ],
             [
              1,
              "#f0f921"
             ]
            ],
            "type": "contour"
           }
          ],
          "contourcarpet": [
           {
            "colorbar": {
             "outlinewidth": 0,
             "ticks": ""
            },
            "type": "contourcarpet"
           }
          ],
          "heatmap": [
           {
            "colorbar": {
             "outlinewidth": 0,
             "ticks": ""
            },
            "colorscale": [
             [
              0,
              "#0d0887"
             ],
             [
              0.1111111111111111,
              "#46039f"
             ],
             [
              0.2222222222222222,
              "#7201a8"
             ],
             [
              0.3333333333333333,
              "#9c179e"
             ],
             [
              0.4444444444444444,
              "#bd3786"
             ],
             [
              0.5555555555555556,
              "#d8576b"
             ],
             [
              0.6666666666666666,
              "#ed7953"
             ],
             [
              0.7777777777777778,
              "#fb9f3a"
             ],
             [
              0.8888888888888888,
              "#fdca26"
             ],
             [
              1,
              "#f0f921"
             ]
            ],
            "type": "heatmap"
           }
          ],
          "heatmapgl": [
           {
            "colorbar": {
             "outlinewidth": 0,
             "ticks": ""
            },
            "colorscale": [
             [
              0,
              "#0d0887"
             ],
             [
              0.1111111111111111,
              "#46039f"
             ],
             [
              0.2222222222222222,
              "#7201a8"
             ],
             [
              0.3333333333333333,
              "#9c179e"
             ],
             [
              0.4444444444444444,
              "#bd3786"
             ],
             [
              0.5555555555555556,
              "#d8576b"
             ],
             [
              0.6666666666666666,
              "#ed7953"
             ],
             [
              0.7777777777777778,
              "#fb9f3a"
             ],
             [
              0.8888888888888888,
              "#fdca26"
             ],
             [
              1,
              "#f0f921"
             ]
            ],
            "type": "heatmapgl"
           }
          ],
          "histogram": [
           {
            "marker": {
             "pattern": {
              "fillmode": "overlay",
              "size": 10,
              "solidity": 0.2
             }
            },
            "type": "histogram"
           }
          ],
          "histogram2d": [
           {
            "colorbar": {
             "outlinewidth": 0,
             "ticks": ""
            },
            "colorscale": [
             [
              0,
              "#0d0887"
             ],
             [
              0.1111111111111111,
              "#46039f"
             ],
             [
              0.2222222222222222,
              "#7201a8"
             ],
             [
              0.3333333333333333,
              "#9c179e"
             ],
             [
              0.4444444444444444,
              "#bd3786"
             ],
             [
              0.5555555555555556,
              "#d8576b"
             ],
             [
              0.6666666666666666,
              "#ed7953"
             ],
             [
              0.7777777777777778,
              "#fb9f3a"
             ],
             [
              0.8888888888888888,
              "#fdca26"
             ],
             [
              1,
              "#f0f921"
             ]
            ],
            "type": "histogram2d"
           }
          ],
          "histogram2dcontour": [
           {
            "colorbar": {
             "outlinewidth": 0,
             "ticks": ""
            },
            "colorscale": [
             [
              0,
              "#0d0887"
             ],
             [
              0.1111111111111111,
              "#46039f"
             ],
             [
              0.2222222222222222,
              "#7201a8"
             ],
             [
              0.3333333333333333,
              "#9c179e"
             ],
             [
              0.4444444444444444,
              "#bd3786"
             ],
             [
              0.5555555555555556,
              "#d8576b"
             ],
             [
              0.6666666666666666,
              "#ed7953"
             ],
             [
              0.7777777777777778,
              "#fb9f3a"
             ],
             [
              0.8888888888888888,
              "#fdca26"
             ],
             [
              1,
              "#f0f921"
             ]
            ],
            "type": "histogram2dcontour"
           }
          ],
          "mesh3d": [
           {
            "colorbar": {
             "outlinewidth": 0,
             "ticks": ""
            },
            "type": "mesh3d"
           }
          ],
          "parcoords": [
           {
            "line": {
             "colorbar": {
              "outlinewidth": 0,
              "ticks": ""
             }
            },
            "type": "parcoords"
           }
          ],
          "pie": [
           {
            "automargin": true,
            "type": "pie"
           }
          ],
          "scatter": [
           {
            "fillpattern": {
             "fillmode": "overlay",
             "size": 10,
             "solidity": 0.2
            },
            "type": "scatter"
           }
          ],
          "scatter3d": [
           {
            "line": {
             "colorbar": {
              "outlinewidth": 0,
              "ticks": ""
             }
            },
            "marker": {
             "colorbar": {
              "outlinewidth": 0,
              "ticks": ""
             }
            },
            "type": "scatter3d"
           }
          ],
          "scattercarpet": [
           {
            "marker": {
             "colorbar": {
              "outlinewidth": 0,
              "ticks": ""
             }
            },
            "type": "scattercarpet"
           }
          ],
          "scattergeo": [
           {
            "marker": {
             "colorbar": {
              "outlinewidth": 0,
              "ticks": ""
             }
            },
            "type": "scattergeo"
           }
          ],
          "scattergl": [
           {
            "marker": {
             "colorbar": {
              "outlinewidth": 0,
              "ticks": ""
             }
            },
            "type": "scattergl"
           }
          ],
          "scattermapbox": [
           {
            "marker": {
             "colorbar": {
              "outlinewidth": 0,
              "ticks": ""
             }
            },
            "type": "scattermapbox"
           }
          ],
          "scatterpolar": [
           {
            "marker": {
             "colorbar": {
              "outlinewidth": 0,
              "ticks": ""
             }
            },
            "type": "scatterpolar"
           }
          ],
          "scatterpolargl": [
           {
            "marker": {
             "colorbar": {
              "outlinewidth": 0,
              "ticks": ""
             }
            },
            "type": "scatterpolargl"
           }
          ],
          "scatterternary": [
           {
            "marker": {
             "colorbar": {
              "outlinewidth": 0,
              "ticks": ""
             }
            },
            "type": "scatterternary"
           }
          ],
          "surface": [
           {
            "colorbar": {
             "outlinewidth": 0,
             "ticks": ""
            },
            "colorscale": [
             [
              0,
              "#0d0887"
             ],
             [
              0.1111111111111111,
              "#46039f"
             ],
             [
              0.2222222222222222,
              "#7201a8"
             ],
             [
              0.3333333333333333,
              "#9c179e"
             ],
             [
              0.4444444444444444,
              "#bd3786"
             ],
             [
              0.5555555555555556,
              "#d8576b"
             ],
             [
              0.6666666666666666,
              "#ed7953"
             ],
             [
              0.7777777777777778,
              "#fb9f3a"
             ],
             [
              0.8888888888888888,
              "#fdca26"
             ],
             [
              1,
              "#f0f921"
             ]
            ],
            "type": "surface"
           }
          ],
          "table": [
           {
            "cells": {
             "fill": {
              "color": "#EBF0F8"
             },
             "line": {
              "color": "white"
             }
            },
            "header": {
             "fill": {
              "color": "#C8D4E3"
             },
             "line": {
              "color": "white"
             }
            },
            "type": "table"
           }
          ]
         },
         "layout": {
          "annotationdefaults": {
           "arrowcolor": "#2a3f5f",
           "arrowhead": 0,
           "arrowwidth": 1
          },
          "autotypenumbers": "strict",
          "coloraxis": {
           "colorbar": {
            "outlinewidth": 0,
            "ticks": ""
           }
          },
          "colorscale": {
           "diverging": [
            [
             0,
             "#8e0152"
            ],
            [
             0.1,
             "#c51b7d"
            ],
            [
             0.2,
             "#de77ae"
            ],
            [
             0.3,
             "#f1b6da"
            ],
            [
             0.4,
             "#fde0ef"
            ],
            [
             0.5,
             "#f7f7f7"
            ],
            [
             0.6,
             "#e6f5d0"
            ],
            [
             0.7,
             "#b8e186"
            ],
            [
             0.8,
             "#7fbc41"
            ],
            [
             0.9,
             "#4d9221"
            ],
            [
             1,
             "#276419"
            ]
           ],
           "sequential": [
            [
             0,
             "#0d0887"
            ],
            [
             0.1111111111111111,
             "#46039f"
            ],
            [
             0.2222222222222222,
             "#7201a8"
            ],
            [
             0.3333333333333333,
             "#9c179e"
            ],
            [
             0.4444444444444444,
             "#bd3786"
            ],
            [
             0.5555555555555556,
             "#d8576b"
            ],
            [
             0.6666666666666666,
             "#ed7953"
            ],
            [
             0.7777777777777778,
             "#fb9f3a"
            ],
            [
             0.8888888888888888,
             "#fdca26"
            ],
            [
             1,
             "#f0f921"
            ]
           ],
           "sequentialminus": [
            [
             0,
             "#0d0887"
            ],
            [
             0.1111111111111111,
             "#46039f"
            ],
            [
             0.2222222222222222,
             "#7201a8"
            ],
            [
             0.3333333333333333,
             "#9c179e"
            ],
            [
             0.4444444444444444,
             "#bd3786"
            ],
            [
             0.5555555555555556,
             "#d8576b"
            ],
            [
             0.6666666666666666,
             "#ed7953"
            ],
            [
             0.7777777777777778,
             "#fb9f3a"
            ],
            [
             0.8888888888888888,
             "#fdca26"
            ],
            [
             1,
             "#f0f921"
            ]
           ]
          },
          "colorway": [
           "#636efa",
           "#EF553B",
           "#00cc96",
           "#ab63fa",
           "#FFA15A",
           "#19d3f3",
           "#FF6692",
           "#B6E880",
           "#FF97FF",
           "#FECB52"
          ],
          "font": {
           "color": "#2a3f5f"
          },
          "geo": {
           "bgcolor": "white",
           "lakecolor": "white",
           "landcolor": "#E5ECF6",
           "showlakes": true,
           "showland": true,
           "subunitcolor": "white"
          },
          "hoverlabel": {
           "align": "left"
          },
          "hovermode": "closest",
          "mapbox": {
           "style": "light"
          },
          "paper_bgcolor": "white",
          "plot_bgcolor": "#E5ECF6",
          "polar": {
           "angularaxis": {
            "gridcolor": "white",
            "linecolor": "white",
            "ticks": ""
           },
           "bgcolor": "#E5ECF6",
           "radialaxis": {
            "gridcolor": "white",
            "linecolor": "white",
            "ticks": ""
           }
          },
          "scene": {
           "xaxis": {
            "backgroundcolor": "#E5ECF6",
            "gridcolor": "white",
            "gridwidth": 2,
            "linecolor": "white",
            "showbackground": true,
            "ticks": "",
            "zerolinecolor": "white"
           },
           "yaxis": {
            "backgroundcolor": "#E5ECF6",
            "gridcolor": "white",
            "gridwidth": 2,
            "linecolor": "white",
            "showbackground": true,
            "ticks": "",
            "zerolinecolor": "white"
           },
           "zaxis": {
            "backgroundcolor": "#E5ECF6",
            "gridcolor": "white",
            "gridwidth": 2,
            "linecolor": "white",
            "showbackground": true,
            "ticks": "",
            "zerolinecolor": "white"
           }
          },
          "shapedefaults": {
           "line": {
            "color": "#2a3f5f"
           }
          },
          "ternary": {
           "aaxis": {
            "gridcolor": "white",
            "linecolor": "white",
            "ticks": ""
           },
           "baxis": {
            "gridcolor": "white",
            "linecolor": "white",
            "ticks": ""
           },
           "bgcolor": "#E5ECF6",
           "caxis": {
            "gridcolor": "white",
            "linecolor": "white",
            "ticks": ""
           }
          },
          "title": {
           "x": 0.05
          },
          "xaxis": {
           "automargin": true,
           "gridcolor": "white",
           "linecolor": "white",
           "ticks": "",
           "title": {
            "standoff": 15
           },
           "zerolinecolor": "white",
           "zerolinewidth": 2
          },
          "yaxis": {
           "automargin": true,
           "gridcolor": "white",
           "linecolor": "white",
           "ticks": "",
           "title": {
            "standoff": 15
           },
           "zerolinecolor": "white",
           "zerolinewidth": 2
          }
         }
        }
       }
      }
     },
     "metadata": {},
     "output_type": "display_data"
    }
   ],
   "source": [
    "#to make the radar chart\n",
    "thetac = ['goals', 'assists', 'goals_pens', 'pens_made', 'pens_att']\n",
    "rc = []\n",
    "for t in thetac:\n",
    "    rc.append(df_country[t].sum())\n",
    "\n",
    "#radar chart built\n",
    "layout = go. Layout(\n",
    "polar = dict(\n",
    "radialaxis = dict(\n",
    "visible = True)),\n",
    "showlegend=False)\n",
    "fig = go.Figure(data=go.Scatterpolar(\n",
    "  r=rc,\n",
    "  theta=thetac,\n",
    "  fill='toself'\n",
    "))\n",
    "fig.show()"
   ]
  },
  {
   "cell_type": "code",
<<<<<<< HEAD
   "execution_count": null,
=======
   "execution_count": 80,
>>>>>>> d20e0f0c979d08449127054dcb41934fa686c483
   "metadata": {},
   "outputs": [],
   "source": [
    "thetaper90c = ['goals_per90', 'assists_per90', 'goals_assists_per90', 'goals_pens_per90', 'goals_assists_pens_per90']\n",
    "rper90c = []\n",
    "for t in thetaper90c:\n",
    "    rper90.append(int(df_country[t].sum()))\n"
   ]
  },
  {
   "cell_type": "code",
<<<<<<< HEAD
   "execution_count": null,
=======
   "execution_count": 81,
>>>>>>> d20e0f0c979d08449127054dcb41934fa686c483
   "metadata": {},
   "outputs": [
    {
     "data": {
      "application/vnd.plotly.v1+json": {
       "config": {
        "plotlyServerURL": "https://plotly.com"
       },
       "data": [
        {
         "fill": "toself",
         "r": [
          248,
          131,
          263,
          196,
          328
         ],
         "theta": [
          "goals_per90",
          "assists_per90",
          "goals_assists_per90",
          "goals_pens_per90",
          "goals_assists_pens_per90"
         ],
         "type": "scatterpolar"
        }
       ],
       "layout": {
        "template": {
         "data": {
          "bar": [
           {
            "error_x": {
             "color": "#2a3f5f"
            },
            "error_y": {
             "color": "#2a3f5f"
            },
            "marker": {
             "line": {
              "color": "#E5ECF6",
              "width": 0.5
             },
             "pattern": {
              "fillmode": "overlay",
              "size": 10,
              "solidity": 0.2
             }
            },
            "type": "bar"
           }
          ],
          "barpolar": [
           {
            "marker": {
             "line": {
              "color": "#E5ECF6",
              "width": 0.5
             },
             "pattern": {
              "fillmode": "overlay",
              "size": 10,
              "solidity": 0.2
             }
            },
            "type": "barpolar"
           }
          ],
          "carpet": [
           {
            "aaxis": {
             "endlinecolor": "#2a3f5f",
             "gridcolor": "white",
             "linecolor": "white",
             "minorgridcolor": "white",
             "startlinecolor": "#2a3f5f"
            },
            "baxis": {
             "endlinecolor": "#2a3f5f",
             "gridcolor": "white",
             "linecolor": "white",
             "minorgridcolor": "white",
             "startlinecolor": "#2a3f5f"
            },
            "type": "carpet"
           }
          ],
          "choropleth": [
           {
            "colorbar": {
             "outlinewidth": 0,
             "ticks": ""
            },
            "type": "choropleth"
           }
          ],
          "contour": [
           {
            "colorbar": {
             "outlinewidth": 0,
             "ticks": ""
            },
            "colorscale": [
             [
              0,
              "#0d0887"
             ],
             [
              0.1111111111111111,
              "#46039f"
             ],
             [
              0.2222222222222222,
              "#7201a8"
             ],
             [
              0.3333333333333333,
              "#9c179e"
             ],
             [
              0.4444444444444444,
              "#bd3786"
             ],
             [
              0.5555555555555556,
              "#d8576b"
             ],
             [
              0.6666666666666666,
              "#ed7953"
             ],
             [
              0.7777777777777778,
              "#fb9f3a"
             ],
             [
              0.8888888888888888,
              "#fdca26"
             ],
             [
              1,
              "#f0f921"
             ]
            ],
            "type": "contour"
           }
          ],
          "contourcarpet": [
           {
            "colorbar": {
             "outlinewidth": 0,
             "ticks": ""
            },
            "type": "contourcarpet"
           }
          ],
          "heatmap": [
           {
            "colorbar": {
             "outlinewidth": 0,
             "ticks": ""
            },
            "colorscale": [
             [
              0,
              "#0d0887"
             ],
             [
              0.1111111111111111,
              "#46039f"
             ],
             [
              0.2222222222222222,
              "#7201a8"
             ],
             [
              0.3333333333333333,
              "#9c179e"
             ],
             [
              0.4444444444444444,
              "#bd3786"
             ],
             [
              0.5555555555555556,
              "#d8576b"
             ],
             [
              0.6666666666666666,
              "#ed7953"
             ],
             [
              0.7777777777777778,
              "#fb9f3a"
             ],
             [
              0.8888888888888888,
              "#fdca26"
             ],
             [
              1,
              "#f0f921"
             ]
            ],
            "type": "heatmap"
           }
          ],
          "heatmapgl": [
           {
            "colorbar": {
             "outlinewidth": 0,
             "ticks": ""
            },
            "colorscale": [
             [
              0,
              "#0d0887"
             ],
             [
              0.1111111111111111,
              "#46039f"
             ],
             [
              0.2222222222222222,
              "#7201a8"
             ],
             [
              0.3333333333333333,
              "#9c179e"
             ],
             [
              0.4444444444444444,
              "#bd3786"
             ],
             [
              0.5555555555555556,
              "#d8576b"
             ],
             [
              0.6666666666666666,
              "#ed7953"
             ],
             [
              0.7777777777777778,
              "#fb9f3a"
             ],
             [
              0.8888888888888888,
              "#fdca26"
             ],
             [
              1,
              "#f0f921"
             ]
            ],
            "type": "heatmapgl"
           }
          ],
          "histogram": [
           {
            "marker": {
             "pattern": {
              "fillmode": "overlay",
              "size": 10,
              "solidity": 0.2
             }
            },
            "type": "histogram"
           }
          ],
          "histogram2d": [
           {
            "colorbar": {
             "outlinewidth": 0,
             "ticks": ""
            },
            "colorscale": [
             [
              0,
              "#0d0887"
             ],
             [
              0.1111111111111111,
              "#46039f"
             ],
             [
              0.2222222222222222,
              "#7201a8"
             ],
             [
              0.3333333333333333,
              "#9c179e"
             ],
             [
              0.4444444444444444,
              "#bd3786"
             ],
             [
              0.5555555555555556,
              "#d8576b"
             ],
             [
              0.6666666666666666,
              "#ed7953"
             ],
             [
              0.7777777777777778,
              "#fb9f3a"
             ],
             [
              0.8888888888888888,
              "#fdca26"
             ],
             [
              1,
              "#f0f921"
             ]
            ],
            "type": "histogram2d"
           }
          ],
          "histogram2dcontour": [
           {
            "colorbar": {
             "outlinewidth": 0,
             "ticks": ""
            },
            "colorscale": [
             [
              0,
              "#0d0887"
             ],
             [
              0.1111111111111111,
              "#46039f"
             ],
             [
              0.2222222222222222,
              "#7201a8"
             ],
             [
              0.3333333333333333,
              "#9c179e"
             ],
             [
              0.4444444444444444,
              "#bd3786"
             ],
             [
              0.5555555555555556,
              "#d8576b"
             ],
             [
              0.6666666666666666,
              "#ed7953"
             ],
             [
              0.7777777777777778,
              "#fb9f3a"
             ],
             [
              0.8888888888888888,
              "#fdca26"
             ],
             [
              1,
              "#f0f921"
             ]
            ],
            "type": "histogram2dcontour"
           }
          ],
          "mesh3d": [
           {
            "colorbar": {
             "outlinewidth": 0,
             "ticks": ""
            },
            "type": "mesh3d"
           }
          ],
          "parcoords": [
           {
            "line": {
             "colorbar": {
              "outlinewidth": 0,
              "ticks": ""
             }
            },
            "type": "parcoords"
           }
          ],
          "pie": [
           {
            "automargin": true,
            "type": "pie"
           }
          ],
          "scatter": [
           {
            "fillpattern": {
             "fillmode": "overlay",
             "size": 10,
             "solidity": 0.2
            },
            "type": "scatter"
           }
          ],
          "scatter3d": [
           {
            "line": {
             "colorbar": {
              "outlinewidth": 0,
              "ticks": ""
             }
            },
            "marker": {
             "colorbar": {
              "outlinewidth": 0,
              "ticks": ""
             }
            },
            "type": "scatter3d"
           }
          ],
          "scattercarpet": [
           {
            "marker": {
             "colorbar": {
              "outlinewidth": 0,
              "ticks": ""
             }
            },
            "type": "scattercarpet"
           }
          ],
          "scattergeo": [
           {
            "marker": {
             "colorbar": {
              "outlinewidth": 0,
              "ticks": ""
             }
            },
            "type": "scattergeo"
           }
          ],
          "scattergl": [
           {
            "marker": {
             "colorbar": {
              "outlinewidth": 0,
              "ticks": ""
             }
            },
            "type": "scattergl"
           }
          ],
          "scattermapbox": [
           {
            "marker": {
             "colorbar": {
              "outlinewidth": 0,
              "ticks": ""
             }
            },
            "type": "scattermapbox"
           }
          ],
          "scatterpolar": [
           {
            "marker": {
             "colorbar": {
              "outlinewidth": 0,
              "ticks": ""
             }
            },
            "type": "scatterpolar"
           }
          ],
          "scatterpolargl": [
           {
            "marker": {
             "colorbar": {
              "outlinewidth": 0,
              "ticks": ""
             }
            },
            "type": "scatterpolargl"
           }
          ],
          "scatterternary": [
           {
            "marker": {
             "colorbar": {
              "outlinewidth": 0,
              "ticks": ""
             }
            },
            "type": "scatterternary"
           }
          ],
          "surface": [
           {
            "colorbar": {
             "outlinewidth": 0,
             "ticks": ""
            },
            "colorscale": [
             [
              0,
              "#0d0887"
             ],
             [
              0.1111111111111111,
              "#46039f"
             ],
             [
              0.2222222222222222,
              "#7201a8"
             ],
             [
              0.3333333333333333,
              "#9c179e"
             ],
             [
              0.4444444444444444,
              "#bd3786"
             ],
             [
              0.5555555555555556,
              "#d8576b"
             ],
             [
              0.6666666666666666,
              "#ed7953"
             ],
             [
              0.7777777777777778,
              "#fb9f3a"
             ],
             [
              0.8888888888888888,
              "#fdca26"
             ],
             [
              1,
              "#f0f921"
             ]
            ],
            "type": "surface"
           }
          ],
          "table": [
           {
            "cells": {
             "fill": {
              "color": "#EBF0F8"
             },
             "line": {
              "color": "white"
             }
            },
            "header": {
             "fill": {
              "color": "#C8D4E3"
             },
             "line": {
              "color": "white"
             }
            },
            "type": "table"
           }
          ]
         },
         "layout": {
          "annotationdefaults": {
           "arrowcolor": "#2a3f5f",
           "arrowhead": 0,
           "arrowwidth": 1
          },
          "autotypenumbers": "strict",
          "coloraxis": {
           "colorbar": {
            "outlinewidth": 0,
            "ticks": ""
           }
          },
          "colorscale": {
           "diverging": [
            [
             0,
             "#8e0152"
            ],
            [
             0.1,
             "#c51b7d"
            ],
            [
             0.2,
             "#de77ae"
            ],
            [
             0.3,
             "#f1b6da"
            ],
            [
             0.4,
             "#fde0ef"
            ],
            [
             0.5,
             "#f7f7f7"
            ],
            [
             0.6,
             "#e6f5d0"
            ],
            [
             0.7,
             "#b8e186"
            ],
            [
             0.8,
             "#7fbc41"
            ],
            [
             0.9,
             "#4d9221"
            ],
            [
             1,
             "#276419"
            ]
           ],
           "sequential": [
            [
             0,
             "#0d0887"
            ],
            [
             0.1111111111111111,
             "#46039f"
            ],
            [
             0.2222222222222222,
             "#7201a8"
            ],
            [
             0.3333333333333333,
             "#9c179e"
            ],
            [
             0.4444444444444444,
             "#bd3786"
            ],
            [
             0.5555555555555556,
             "#d8576b"
            ],
            [
             0.6666666666666666,
             "#ed7953"
            ],
            [
             0.7777777777777778,
             "#fb9f3a"
            ],
            [
             0.8888888888888888,
             "#fdca26"
            ],
            [
             1,
             "#f0f921"
            ]
           ],
           "sequentialminus": [
            [
             0,
             "#0d0887"
            ],
            [
             0.1111111111111111,
             "#46039f"
            ],
            [
             0.2222222222222222,
             "#7201a8"
            ],
            [
             0.3333333333333333,
             "#9c179e"
            ],
            [
             0.4444444444444444,
             "#bd3786"
            ],
            [
             0.5555555555555556,
             "#d8576b"
            ],
            [
             0.6666666666666666,
             "#ed7953"
            ],
            [
             0.7777777777777778,
             "#fb9f3a"
            ],
            [
             0.8888888888888888,
             "#fdca26"
            ],
            [
             1,
             "#f0f921"
            ]
           ]
          },
          "colorway": [
           "#636efa",
           "#EF553B",
           "#00cc96",
           "#ab63fa",
           "#FFA15A",
           "#19d3f3",
           "#FF6692",
           "#B6E880",
           "#FF97FF",
           "#FECB52"
          ],
          "font": {
           "color": "#2a3f5f"
          },
          "geo": {
           "bgcolor": "white",
           "lakecolor": "white",
           "landcolor": "#E5ECF6",
           "showlakes": true,
           "showland": true,
           "subunitcolor": "white"
          },
          "hoverlabel": {
           "align": "left"
          },
          "hovermode": "closest",
          "mapbox": {
           "style": "light"
          },
          "paper_bgcolor": "white",
          "plot_bgcolor": "#E5ECF6",
          "polar": {
           "angularaxis": {
            "gridcolor": "white",
            "linecolor": "white",
            "ticks": ""
           },
           "bgcolor": "#E5ECF6",
           "radialaxis": {
            "gridcolor": "white",
            "linecolor": "white",
            "ticks": ""
           }
          },
          "scene": {
           "xaxis": {
            "backgroundcolor": "#E5ECF6",
            "gridcolor": "white",
            "gridwidth": 2,
            "linecolor": "white",
            "showbackground": true,
            "ticks": "",
            "zerolinecolor": "white"
           },
           "yaxis": {
            "backgroundcolor": "#E5ECF6",
            "gridcolor": "white",
            "gridwidth": 2,
            "linecolor": "white",
            "showbackground": true,
            "ticks": "",
            "zerolinecolor": "white"
           },
           "zaxis": {
            "backgroundcolor": "#E5ECF6",
            "gridcolor": "white",
            "gridwidth": 2,
            "linecolor": "white",
            "showbackground": true,
            "ticks": "",
            "zerolinecolor": "white"
           }
          },
          "shapedefaults": {
           "line": {
            "color": "#2a3f5f"
           }
          },
          "ternary": {
           "aaxis": {
            "gridcolor": "white",
            "linecolor": "white",
            "ticks": ""
           },
           "baxis": {
            "gridcolor": "white",
            "linecolor": "white",
            "ticks": ""
           },
           "bgcolor": "#E5ECF6",
           "caxis": {
            "gridcolor": "white",
            "linecolor": "white",
            "ticks": ""
           }
          },
          "title": {
           "x": 0.05
          },
          "xaxis": {
           "automargin": true,
           "gridcolor": "white",
           "linecolor": "white",
           "ticks": "",
           "title": {
            "standoff": 15
           },
           "zerolinecolor": "white",
           "zerolinewidth": 2
          },
          "yaxis": {
           "automargin": true,
           "gridcolor": "white",
           "linecolor": "white",
           "ticks": "",
           "title": {
            "standoff": 15
           },
           "zerolinecolor": "white",
           "zerolinewidth": 2
          }
         }
        }
       }
      }
     },
     "metadata": {},
     "output_type": "display_data"
    }
   ],
   "source": [
    "#to make the radar chart of statistics per 90\n",
    "thetaper90c = ['goals_per90', 'assists_per90', 'goals_assists_per90', 'goals_pens_per90', 'goals_assists_pens_per90']\n",
    "rper90c = []\n",
    "for t in thetaper90c:\n",
    "    rper90c.append(int(df_country[t].sum()))\n",
    "\n",
    "#radar chart of statistics per 90 built\n",
    "layout = go. Layout(\n",
    "polar = dict(\n",
    "radialaxis = dict(\n",
    "visible = True)),\n",
    "showlegend=False)\n",
    "fig = go.Figure(data=go.Scatterpolar(\n",
    "  r=rper90c,\n",
    "  theta=thetaper90c,\n",
    "  fill='toself'\n",
    "))\n",
    "fig.show()"
   ]
  },
  {
   "cell_type": "code",
<<<<<<< HEAD
   "execution_count": null,
=======
   "execution_count": 82,
>>>>>>> d20e0f0c979d08449127054dcb41934fa686c483
   "metadata": {},
   "outputs": [
    {
     "data": {
      "application/vnd.plotly.v1+json": {
       "config": {
        "plotlyServerURL": "https://plotly.com"
       },
       "data": [
        {
         "fill": "toself",
         "r": [
          107,
          70,
          197,
          369,
          596,
          830,
          313,
          891
         ],
         "theta": [
          "npxg",
          "xg_assist",
          "npxg_xg_assist",
          "xg_per90",
          "xg_assist_per90",
          "xg_xg_assist_per90",
          "npxg_per90",
          "npxg_xg_assist_per90"
         ],
         "type": "scatterpolar"
        }
       ],
       "layout": {
        "template": {
         "data": {
          "bar": [
           {
            "error_x": {
             "color": "#2a3f5f"
            },
            "error_y": {
             "color": "#2a3f5f"
            },
            "marker": {
             "line": {
              "color": "#E5ECF6",
              "width": 0.5
             },
             "pattern": {
              "fillmode": "overlay",
              "size": 10,
              "solidity": 0.2
             }
            },
            "type": "bar"
           }
          ],
          "barpolar": [
           {
            "marker": {
             "line": {
              "color": "#E5ECF6",
              "width": 0.5
             },
             "pattern": {
              "fillmode": "overlay",
              "size": 10,
              "solidity": 0.2
             }
            },
            "type": "barpolar"
           }
          ],
          "carpet": [
           {
            "aaxis": {
             "endlinecolor": "#2a3f5f",
             "gridcolor": "white",
             "linecolor": "white",
             "minorgridcolor": "white",
             "startlinecolor": "#2a3f5f"
            },
            "baxis": {
             "endlinecolor": "#2a3f5f",
             "gridcolor": "white",
             "linecolor": "white",
             "minorgridcolor": "white",
             "startlinecolor": "#2a3f5f"
            },
            "type": "carpet"
           }
          ],
          "choropleth": [
           {
            "colorbar": {
             "outlinewidth": 0,
             "ticks": ""
            },
            "type": "choropleth"
           }
          ],
          "contour": [
           {
            "colorbar": {
             "outlinewidth": 0,
             "ticks": ""
            },
            "colorscale": [
             [
              0,
              "#0d0887"
             ],
             [
              0.1111111111111111,
              "#46039f"
             ],
             [
              0.2222222222222222,
              "#7201a8"
             ],
             [
              0.3333333333333333,
              "#9c179e"
             ],
             [
              0.4444444444444444,
              "#bd3786"
             ],
             [
              0.5555555555555556,
              "#d8576b"
             ],
             [
              0.6666666666666666,
              "#ed7953"
             ],
             [
              0.7777777777777778,
              "#fb9f3a"
             ],
             [
              0.8888888888888888,
              "#fdca26"
             ],
             [
              1,
              "#f0f921"
             ]
            ],
            "type": "contour"
           }
          ],
          "contourcarpet": [
           {
            "colorbar": {
             "outlinewidth": 0,
             "ticks": ""
            },
            "type": "contourcarpet"
           }
          ],
          "heatmap": [
           {
            "colorbar": {
             "outlinewidth": 0,
             "ticks": ""
            },
            "colorscale": [
             [
              0,
              "#0d0887"
             ],
             [
              0.1111111111111111,
              "#46039f"
             ],
             [
              0.2222222222222222,
              "#7201a8"
             ],
             [
              0.3333333333333333,
              "#9c179e"
             ],
             [
              0.4444444444444444,
              "#bd3786"
             ],
             [
              0.5555555555555556,
              "#d8576b"
             ],
             [
              0.6666666666666666,
              "#ed7953"
             ],
             [
              0.7777777777777778,
              "#fb9f3a"
             ],
             [
              0.8888888888888888,
              "#fdca26"
             ],
             [
              1,
              "#f0f921"
             ]
            ],
            "type": "heatmap"
           }
          ],
          "heatmapgl": [
           {
            "colorbar": {
             "outlinewidth": 0,
             "ticks": ""
            },
            "colorscale": [
             [
              0,
              "#0d0887"
             ],
             [
              0.1111111111111111,
              "#46039f"
             ],
             [
              0.2222222222222222,
              "#7201a8"
             ],
             [
              0.3333333333333333,
              "#9c179e"
             ],
             [
              0.4444444444444444,
              "#bd3786"
             ],
             [
              0.5555555555555556,
              "#d8576b"
             ],
             [
              0.6666666666666666,
              "#ed7953"
             ],
             [
              0.7777777777777778,
              "#fb9f3a"
             ],
             [
              0.8888888888888888,
              "#fdca26"
             ],
             [
              1,
              "#f0f921"
             ]
            ],
            "type": "heatmapgl"
           }
          ],
          "histogram": [
           {
            "marker": {
             "pattern": {
              "fillmode": "overlay",
              "size": 10,
              "solidity": 0.2
             }
            },
            "type": "histogram"
           }
          ],
          "histogram2d": [
           {
            "colorbar": {
             "outlinewidth": 0,
             "ticks": ""
            },
            "colorscale": [
             [
              0,
              "#0d0887"
             ],
             [
              0.1111111111111111,
              "#46039f"
             ],
             [
              0.2222222222222222,
              "#7201a8"
             ],
             [
              0.3333333333333333,
              "#9c179e"
             ],
             [
              0.4444444444444444,
              "#bd3786"
             ],
             [
              0.5555555555555556,
              "#d8576b"
             ],
             [
              0.6666666666666666,
              "#ed7953"
             ],
             [
              0.7777777777777778,
              "#fb9f3a"
             ],
             [
              0.8888888888888888,
              "#fdca26"
             ],
             [
              1,
              "#f0f921"
             ]
            ],
            "type": "histogram2d"
           }
          ],
          "histogram2dcontour": [
           {
            "colorbar": {
             "outlinewidth": 0,
             "ticks": ""
            },
            "colorscale": [
             [
              0,
              "#0d0887"
             ],
             [
              0.1111111111111111,
              "#46039f"
             ],
             [
              0.2222222222222222,
              "#7201a8"
             ],
             [
              0.3333333333333333,
              "#9c179e"
             ],
             [
              0.4444444444444444,
              "#bd3786"
             ],
             [
              0.5555555555555556,
              "#d8576b"
             ],
             [
              0.6666666666666666,
              "#ed7953"
             ],
             [
              0.7777777777777778,
              "#fb9f3a"
             ],
             [
              0.8888888888888888,
              "#fdca26"
             ],
             [
              1,
              "#f0f921"
             ]
            ],
            "type": "histogram2dcontour"
           }
          ],
          "mesh3d": [
           {
            "colorbar": {
             "outlinewidth": 0,
             "ticks": ""
            },
            "type": "mesh3d"
           }
          ],
          "parcoords": [
           {
            "line": {
             "colorbar": {
              "outlinewidth": 0,
              "ticks": ""
             }
            },
            "type": "parcoords"
           }
          ],
          "pie": [
           {
            "automargin": true,
            "type": "pie"
           }
          ],
          "scatter": [
           {
            "fillpattern": {
             "fillmode": "overlay",
             "size": 10,
             "solidity": 0.2
            },
            "type": "scatter"
           }
          ],
          "scatter3d": [
           {
            "line": {
             "colorbar": {
              "outlinewidth": 0,
              "ticks": ""
             }
            },
            "marker": {
             "colorbar": {
              "outlinewidth": 0,
              "ticks": ""
             }
            },
            "type": "scatter3d"
           }
          ],
          "scattercarpet": [
           {
            "marker": {
             "colorbar": {
              "outlinewidth": 0,
              "ticks": ""
             }
            },
            "type": "scattercarpet"
           }
          ],
          "scattergeo": [
           {
            "marker": {
             "colorbar": {
              "outlinewidth": 0,
              "ticks": ""
             }
            },
            "type": "scattergeo"
           }
          ],
          "scattergl": [
           {
            "marker": {
             "colorbar": {
              "outlinewidth": 0,
              "ticks": ""
             }
            },
            "type": "scattergl"
           }
          ],
          "scattermapbox": [
           {
            "marker": {
             "colorbar": {
              "outlinewidth": 0,
              "ticks": ""
             }
            },
            "type": "scattermapbox"
           }
          ],
          "scatterpolar": [
           {
            "marker": {
             "colorbar": {
              "outlinewidth": 0,
              "ticks": ""
             }
            },
            "type": "scatterpolar"
           }
          ],
          "scatterpolargl": [
           {
            "marker": {
             "colorbar": {
              "outlinewidth": 0,
              "ticks": ""
             }
            },
            "type": "scatterpolargl"
           }
          ],
          "scatterternary": [
           {
            "marker": {
             "colorbar": {
              "outlinewidth": 0,
              "ticks": ""
             }
            },
            "type": "scatterternary"
           }
          ],
          "surface": [
           {
            "colorbar": {
             "outlinewidth": 0,
             "ticks": ""
            },
            "colorscale": [
             [
              0,
              "#0d0887"
             ],
             [
              0.1111111111111111,
              "#46039f"
             ],
             [
              0.2222222222222222,
              "#7201a8"
             ],
             [
              0.3333333333333333,
              "#9c179e"
             ],
             [
              0.4444444444444444,
              "#bd3786"
             ],
             [
              0.5555555555555556,
              "#d8576b"
             ],
             [
              0.6666666666666666,
              "#ed7953"
             ],
             [
              0.7777777777777778,
              "#fb9f3a"
             ],
             [
              0.8888888888888888,
              "#fdca26"
             ],
             [
              1,
              "#f0f921"
             ]
            ],
            "type": "surface"
           }
          ],
          "table": [
           {
            "cells": {
             "fill": {
              "color": "#EBF0F8"
             },
             "line": {
              "color": "white"
             }
            },
            "header": {
             "fill": {
              "color": "#C8D4E3"
             },
             "line": {
              "color": "white"
             }
            },
            "type": "table"
           }
          ]
         },
         "layout": {
          "annotationdefaults": {
           "arrowcolor": "#2a3f5f",
           "arrowhead": 0,
           "arrowwidth": 1
          },
          "autotypenumbers": "strict",
          "coloraxis": {
           "colorbar": {
            "outlinewidth": 0,
            "ticks": ""
           }
          },
          "colorscale": {
           "diverging": [
            [
             0,
             "#8e0152"
            ],
            [
             0.1,
             "#c51b7d"
            ],
            [
             0.2,
             "#de77ae"
            ],
            [
             0.3,
             "#f1b6da"
            ],
            [
             0.4,
             "#fde0ef"
            ],
            [
             0.5,
             "#f7f7f7"
            ],
            [
             0.6,
             "#e6f5d0"
            ],
            [
             0.7,
             "#b8e186"
            ],
            [
             0.8,
             "#7fbc41"
            ],
            [
             0.9,
             "#4d9221"
            ],
            [
             1,
             "#276419"
            ]
           ],
           "sequential": [
            [
             0,
             "#0d0887"
            ],
            [
             0.1111111111111111,
             "#46039f"
            ],
            [
             0.2222222222222222,
             "#7201a8"
            ],
            [
             0.3333333333333333,
             "#9c179e"
            ],
            [
             0.4444444444444444,
             "#bd3786"
            ],
            [
             0.5555555555555556,
             "#d8576b"
            ],
            [
             0.6666666666666666,
             "#ed7953"
            ],
            [
             0.7777777777777778,
             "#fb9f3a"
            ],
            [
             0.8888888888888888,
             "#fdca26"
            ],
            [
             1,
             "#f0f921"
            ]
           ],
           "sequentialminus": [
            [
             0,
             "#0d0887"
            ],
            [
             0.1111111111111111,
             "#46039f"
            ],
            [
             0.2222222222222222,
             "#7201a8"
            ],
            [
             0.3333333333333333,
             "#9c179e"
            ],
            [
             0.4444444444444444,
             "#bd3786"
            ],
            [
             0.5555555555555556,
             "#d8576b"
            ],
            [
             0.6666666666666666,
             "#ed7953"
            ],
            [
             0.7777777777777778,
             "#fb9f3a"
            ],
            [
             0.8888888888888888,
             "#fdca26"
            ],
            [
             1,
             "#f0f921"
            ]
           ]
          },
          "colorway": [
           "#636efa",
           "#EF553B",
           "#00cc96",
           "#ab63fa",
           "#FFA15A",
           "#19d3f3",
           "#FF6692",
           "#B6E880",
           "#FF97FF",
           "#FECB52"
          ],
          "font": {
           "color": "#2a3f5f"
          },
          "geo": {
           "bgcolor": "white",
           "lakecolor": "white",
           "landcolor": "#E5ECF6",
           "showlakes": true,
           "showland": true,
           "subunitcolor": "white"
          },
          "hoverlabel": {
           "align": "left"
          },
          "hovermode": "closest",
          "mapbox": {
           "style": "light"
          },
          "paper_bgcolor": "white",
          "plot_bgcolor": "#E5ECF6",
          "polar": {
           "angularaxis": {
            "gridcolor": "white",
            "linecolor": "white",
            "ticks": ""
           },
           "bgcolor": "#E5ECF6",
           "radialaxis": {
            "gridcolor": "white",
            "linecolor": "white",
            "ticks": ""
           }
          },
          "scene": {
           "xaxis": {
            "backgroundcolor": "#E5ECF6",
            "gridcolor": "white",
            "gridwidth": 2,
            "linecolor": "white",
            "showbackground": true,
            "ticks": "",
            "zerolinecolor": "white"
           },
           "yaxis": {
            "backgroundcolor": "#E5ECF6",
            "gridcolor": "white",
            "gridwidth": 2,
            "linecolor": "white",
            "showbackground": true,
            "ticks": "",
            "zerolinecolor": "white"
           },
           "zaxis": {
            "backgroundcolor": "#E5ECF6",
            "gridcolor": "white",
            "gridwidth": 2,
            "linecolor": "white",
            "showbackground": true,
            "ticks": "",
            "zerolinecolor": "white"
           }
          },
          "shapedefaults": {
           "line": {
            "color": "#2a3f5f"
           }
          },
          "ternary": {
           "aaxis": {
            "gridcolor": "white",
            "linecolor": "white",
            "ticks": ""
           },
           "baxis": {
            "gridcolor": "white",
            "linecolor": "white",
            "ticks": ""
           },
           "bgcolor": "#E5ECF6",
           "caxis": {
            "gridcolor": "white",
            "linecolor": "white",
            "ticks": ""
           }
          },
          "title": {
           "x": 0.05
          },
          "xaxis": {
           "automargin": true,
           "gridcolor": "white",
           "linecolor": "white",
           "ticks": "",
           "title": {
            "standoff": 15
           },
           "zerolinecolor": "white",
           "zerolinewidth": 2
          },
          "yaxis": {
           "automargin": true,
           "gridcolor": "white",
           "linecolor": "white",
           "ticks": "",
           "title": {
            "standoff": 15
           },
           "zerolinecolor": "white",
           "zerolinewidth": 2
          }
         }
        }
       }
      }
     },
     "metadata": {},
     "output_type": "display_data"
    }
   ],
   "source": [
    "#to make the radar chart of xg statistics\n",
    "thetaxg = ['npxg', 'xg_assist', 'npxg_xg_assist', 'xg_per90', 'xg_assist_per90', 'xg_xg_assist_per90', 'npxg_per90','npxg_xg_assist_per90']\n",
    "rxgc = []\n",
    "for t in thetaxg:\n",
    "    rxgc.append(int(df_country[t].sum()))\n",
    "\n",
    "#radar chart of xg statistics\n",
    "layout = go. Layout(\n",
    "polar = dict(\n",
    "radialaxis = dict(\n",
    "visible = True)),\n",
    "showlegend=False)\n",
    "fig = go.Figure(data=go.Scatterpolar(\n",
    "  r=rxgc,\n",
    "  theta=thetaxg,\n",
    "  fill='toself'\n",
    "))\n",
    "#fig(template='simple_white')\n",
    "fig.show()"
   ]
  },
  {
   "attachments": {},
   "cell_type": "markdown",
   "metadata": {},
   "source": [
    "### Top Players per country"
   ]
  },
  {
   "cell_type": "code",
<<<<<<< HEAD
   "execution_count": null,
=======
   "execution_count": 83,
>>>>>>> d20e0f0c979d08449127054dcb41934fa686c483
   "metadata": {},
   "outputs": [
    {
     "data": {
      "text/html": [
       "<div>\n",
       "<style scoped>\n",
       "    .dataframe tbody tr th:only-of-type {\n",
       "        vertical-align: middle;\n",
       "    }\n",
       "\n",
       "    .dataframe tbody tr th {\n",
       "        vertical-align: top;\n",
       "    }\n",
       "\n",
       "    .dataframe thead th {\n",
       "        text-align: right;\n",
       "    }\n",
       "</style>\n",
       "<table border=\"1\" class=\"dataframe\">\n",
       "  <thead>\n",
       "    <tr style=\"text-align: right;\">\n",
       "      <th></th>\n",
       "      <th>player</th>\n",
       "      <th>position</th>\n",
       "      <th>team</th>\n",
       "      <th>age</th>\n",
       "      <th>age2</th>\n",
       "      <th>club</th>\n",
       "      <th>birth_year</th>\n",
       "      <th>games</th>\n",
       "      <th>games_starts</th>\n",
       "      <th>minutes</th>\n",
       "      <th>minutes_90s</th>\n",
       "      <th>goals</th>\n",
       "      <th>assists</th>\n",
       "      <th>goals_pens</th>\n",
       "      <th>pens_made</th>\n",
       "      <th>pens_att</th>\n",
       "      <th>cards_yellow</th>\n",
       "      <th>cards_red</th>\n",
       "      <th>goals_per90</th>\n",
       "      <th>assists_per90</th>\n",
       "      <th>goals_assists_per90</th>\n",
       "      <th>goals_pens_per90</th>\n",
       "      <th>goals_assists_pens_per90</th>\n",
       "      <th>xg</th>\n",
       "      <th>npxg</th>\n",
       "      <th>xg_assist</th>\n",
       "      <th>npxg_xg_assist</th>\n",
       "      <th>xg_per90</th>\n",
       "      <th>xg_assist_per90</th>\n",
       "      <th>xg_xg_assist_per90</th>\n",
       "      <th>npxg_per90</th>\n",
       "      <th>npxg_xg_assist_per90</th>\n",
       "      <th>games_sub</th>\n",
       "    </tr>\n",
       "  </thead>\n",
       "  <tbody>\n",
       "    <tr>\n",
       "      <th>30</th>\n",
       "      <td>Alexis Mac Allister</td>\n",
       "      <td>MF</td>\n",
       "      <td>Argentina</td>\n",
       "      <td>23-359</td>\n",
       "      <td>23</td>\n",
       "      <td>Brighton</td>\n",
       "      <td>1998</td>\n",
       "      <td>6</td>\n",
       "      <td>6</td>\n",
       "      <td>550</td>\n",
       "      <td>61</td>\n",
       "      <td>1</td>\n",
       "      <td>1</td>\n",
       "      <td>1</td>\n",
       "      <td>0</td>\n",
       "      <td>0</td>\n",
       "      <td>0</td>\n",
       "      <td>0</td>\n",
       "      <td>16</td>\n",
       "      <td>16</td>\n",
       "      <td>33</td>\n",
       "      <td>16</td>\n",
       "      <td>33</td>\n",
       "      <td>7.0</td>\n",
       "      <td>7.0</td>\n",
       "      <td>1.0</td>\n",
       "      <td>17.0</td>\n",
       "      <td>12.0</td>\n",
       "      <td>18.0</td>\n",
       "      <td>3.0</td>\n",
       "      <td>12.0</td>\n",
       "      <td>3.0</td>\n",
       "      <td>0</td>\n",
       "    </tr>\n",
       "    <tr>\n",
       "      <th>133</th>\n",
       "      <td>Cristian Romero</td>\n",
       "      <td>DF</td>\n",
       "      <td>Argentina</td>\n",
       "      <td>24-235</td>\n",
       "      <td>24</td>\n",
       "      <td>Tottenham</td>\n",
       "      <td>1998</td>\n",
       "      <td>7</td>\n",
       "      <td>6</td>\n",
       "      <td>547</td>\n",
       "      <td>61</td>\n",
       "      <td>0</td>\n",
       "      <td>0</td>\n",
       "      <td>0</td>\n",
       "      <td>0</td>\n",
       "      <td>0</td>\n",
       "      <td>2</td>\n",
       "      <td>0</td>\n",
       "      <td>0</td>\n",
       "      <td>0</td>\n",
       "      <td>0</td>\n",
       "      <td>0</td>\n",
       "      <td>0</td>\n",
       "      <td>0.0</td>\n",
       "      <td>0.0</td>\n",
       "      <td>0.0</td>\n",
       "      <td>0.0</td>\n",
       "      <td>0.0</td>\n",
       "      <td>0.0</td>\n",
       "      <td>0.0</td>\n",
       "      <td>0.0</td>\n",
       "      <td>0.0</td>\n",
       "      <td>1</td>\n",
       "    </tr>\n",
       "    <tr>\n",
       "      <th>184</th>\n",
       "      <td>Emiliano Martínez</td>\n",
       "      <td>GK</td>\n",
       "      <td>Argentina</td>\n",
       "      <td>30-107</td>\n",
       "      <td>30</td>\n",
       "      <td>Aston Villa</td>\n",
       "      <td>1992</td>\n",
       "      <td>7</td>\n",
       "      <td>7</td>\n",
       "      <td>690</td>\n",
       "      <td>77</td>\n",
       "      <td>0</td>\n",
       "      <td>0</td>\n",
       "      <td>0</td>\n",
       "      <td>0</td>\n",
       "      <td>0</td>\n",
       "      <td>1</td>\n",
       "      <td>0</td>\n",
       "      <td>0</td>\n",
       "      <td>0</td>\n",
       "      <td>0</td>\n",
       "      <td>0</td>\n",
       "      <td>0</td>\n",
       "      <td>0.0</td>\n",
       "      <td>0.0</td>\n",
       "      <td>0.0</td>\n",
       "      <td>0.0</td>\n",
       "      <td>0.0</td>\n",
       "      <td>0.0</td>\n",
       "      <td>0.0</td>\n",
       "      <td>0.0</td>\n",
       "      <td>0.0</td>\n",
       "      <td>0</td>\n",
       "    </tr>\n",
       "    <tr>\n",
       "      <th>187</th>\n",
       "      <td>Enzo Fernández</td>\n",
       "      <td>MF</td>\n",
       "      <td>Argentina</td>\n",
       "      <td>21-335</td>\n",
       "      <td>21</td>\n",
       "      <td>Benfica</td>\n",
       "      <td>2001</td>\n",
       "      <td>7</td>\n",
       "      <td>5</td>\n",
       "      <td>564</td>\n",
       "      <td>63</td>\n",
       "      <td>1</td>\n",
       "      <td>1</td>\n",
       "      <td>1</td>\n",
       "      <td>0</td>\n",
       "      <td>0</td>\n",
       "      <td>1</td>\n",
       "      <td>0</td>\n",
       "      <td>16</td>\n",
       "      <td>16</td>\n",
       "      <td>32</td>\n",
       "      <td>16</td>\n",
       "      <td>32</td>\n",
       "      <td>3.0</td>\n",
       "      <td>3.0</td>\n",
       "      <td>9.0</td>\n",
       "      <td>12.0</td>\n",
       "      <td>5.0</td>\n",
       "      <td>16.0</td>\n",
       "      <td>21.0</td>\n",
       "      <td>5.0</td>\n",
       "      <td>21.0</td>\n",
       "      <td>2</td>\n",
       "    </tr>\n",
       "    <tr>\n",
       "      <th>194</th>\n",
       "      <td>Exequiel Palacios</td>\n",
       "      <td>MF</td>\n",
       "      <td>Argentina</td>\n",
       "      <td>24-074</td>\n",
       "      <td>24</td>\n",
       "      <td>Leverkusen</td>\n",
       "      <td>1998</td>\n",
       "      <td>3</td>\n",
       "      <td>0</td>\n",
       "      <td>50</td>\n",
       "      <td>6</td>\n",
       "      <td>0</td>\n",
       "      <td>0</td>\n",
       "      <td>0</td>\n",
       "      <td>0</td>\n",
       "      <td>0</td>\n",
       "      <td>0</td>\n",
       "      <td>0</td>\n",
       "      <td>0</td>\n",
       "      <td>0</td>\n",
       "      <td>0</td>\n",
       "      <td>0</td>\n",
       "      <td>0</td>\n",
       "      <td>1.0</td>\n",
       "      <td>1.0</td>\n",
       "      <td>1.0</td>\n",
       "      <td>1.0</td>\n",
       "      <td>12.0</td>\n",
       "      <td>12.0</td>\n",
       "      <td>24.0</td>\n",
       "      <td>12.0</td>\n",
       "      <td>24.0</td>\n",
       "      <td>3</td>\n",
       "    </tr>\n",
       "    <tr>\n",
       "      <th>220</th>\n",
       "      <td>Germán Pezzella</td>\n",
       "      <td>DF</td>\n",
       "      <td>Argentina</td>\n",
       "      <td>31-174</td>\n",
       "      <td>31</td>\n",
       "      <td>Betis</td>\n",
       "      <td>1991</td>\n",
       "      <td>3</td>\n",
       "      <td>0</td>\n",
       "      <td>60</td>\n",
       "      <td>7</td>\n",
       "      <td>0</td>\n",
       "      <td>0</td>\n",
       "      <td>0</td>\n",
       "      <td>0</td>\n",
       "      <td>0</td>\n",
       "      <td>1</td>\n",
       "      <td>0</td>\n",
       "      <td>0</td>\n",
       "      <td>0</td>\n",
       "      <td>0</td>\n",
       "      <td>0</td>\n",
       "      <td>0</td>\n",
       "      <td>1.0</td>\n",
       "      <td>1.0</td>\n",
       "      <td>0.0</td>\n",
       "      <td>1.0</td>\n",
       "      <td>24.0</td>\n",
       "      <td>0.0</td>\n",
       "      <td>24.0</td>\n",
       "      <td>24.0</td>\n",
       "      <td>24.0</td>\n",
       "      <td>3</td>\n",
       "    </tr>\n",
       "    <tr>\n",
       "      <th>227</th>\n",
       "      <td>Gonzalo Montiel</td>\n",
       "      <td>DF</td>\n",
       "      <td>Argentina</td>\n",
       "      <td>25-351</td>\n",
       "      <td>25</td>\n",
       "      <td>Sevilla</td>\n",
       "      <td>1997</td>\n",
       "      <td>4</td>\n",
       "      <td>1</td>\n",
       "      <td>118</td>\n",
       "      <td>13</td>\n",
       "      <td>0</td>\n",
       "      <td>0</td>\n",
       "      <td>0</td>\n",
       "      <td>0</td>\n",
       "      <td>0</td>\n",
       "      <td>3</td>\n",
       "      <td>0</td>\n",
       "      <td>0</td>\n",
       "      <td>0</td>\n",
       "      <td>0</td>\n",
       "      <td>0</td>\n",
       "      <td>0</td>\n",
       "      <td>0.0</td>\n",
       "      <td>0.0</td>\n",
       "      <td>3.0</td>\n",
       "      <td>4.0</td>\n",
       "      <td>2.0</td>\n",
       "      <td>42.0</td>\n",
       "      <td>44.0</td>\n",
       "      <td>2.0</td>\n",
       "      <td>44.0</td>\n",
       "      <td>3</td>\n",
       "    </tr>\n",
       "    <tr>\n",
       "      <th>233</th>\n",
       "      <td>Guido Rodríguez</td>\n",
       "      <td>MF</td>\n",
       "      <td>Argentina</td>\n",
       "      <td>28-250</td>\n",
       "      <td>28</td>\n",
       "      <td>Betis</td>\n",
       "      <td>1994</td>\n",
       "      <td>1</td>\n",
       "      <td>1</td>\n",
       "      <td>56</td>\n",
       "      <td>6</td>\n",
       "      <td>0</td>\n",
       "      <td>0</td>\n",
       "      <td>0</td>\n",
       "      <td>0</td>\n",
       "      <td>0</td>\n",
       "      <td>0</td>\n",
       "      <td>0</td>\n",
       "      <td>0</td>\n",
       "      <td>0</td>\n",
       "      <td>0</td>\n",
       "      <td>0</td>\n",
       "      <td>0</td>\n",
       "      <td>0.0</td>\n",
       "      <td>0.0</td>\n",
       "      <td>0.0</td>\n",
       "      <td>0.0</td>\n",
       "      <td>0.0</td>\n",
       "      <td>0.0</td>\n",
       "      <td>0.0</td>\n",
       "      <td>0.0</td>\n",
       "      <td>0.0</td>\n",
       "      <td>0</td>\n",
       "    </tr>\n",
       "    <tr>\n",
       "      <th>326</th>\n",
       "      <td>Juan Foyth</td>\n",
       "      <td>DF</td>\n",
       "      <td>Argentina</td>\n",
       "      <td>24-340</td>\n",
       "      <td>24</td>\n",
       "      <td>Villarreal</td>\n",
       "      <td>1998</td>\n",
       "      <td>1</td>\n",
       "      <td>0</td>\n",
       "      <td>5</td>\n",
       "      <td>1</td>\n",
       "      <td>0</td>\n",
       "      <td>0</td>\n",
       "      <td>0</td>\n",
       "      <td>0</td>\n",
       "      <td>0</td>\n",
       "      <td>0</td>\n",
       "      <td>0</td>\n",
       "      <td>0</td>\n",
       "      <td>0</td>\n",
       "      <td>0</td>\n",
       "      <td>0</td>\n",
       "      <td>0</td>\n",
       "      <td>0.0</td>\n",
       "      <td>0.0</td>\n",
       "      <td>0.0</td>\n",
       "      <td>0.0</td>\n",
       "      <td>0.0</td>\n",
       "      <td>0.0</td>\n",
       "      <td>0.0</td>\n",
       "      <td>0.0</td>\n",
       "      <td>0.0</td>\n",
       "      <td>1</td>\n",
       "    </tr>\n",
       "    <tr>\n",
       "      <th>330</th>\n",
       "      <td>Julián Álvarez</td>\n",
       "      <td>FW</td>\n",
       "      <td>Argentina</td>\n",
       "      <td>22-321</td>\n",
       "      <td>22</td>\n",
       "      <td>Manchester City</td>\n",
       "      <td>2000</td>\n",
       "      <td>7</td>\n",
       "      <td>5</td>\n",
       "      <td>464</td>\n",
       "      <td>52</td>\n",
       "      <td>4</td>\n",
       "      <td>0</td>\n",
       "      <td>4</td>\n",
       "      <td>0</td>\n",
       "      <td>0</td>\n",
       "      <td>0</td>\n",
       "      <td>0</td>\n",
       "      <td>78</td>\n",
       "      <td>0</td>\n",
       "      <td>78</td>\n",
       "      <td>78</td>\n",
       "      <td>78</td>\n",
       "      <td>26.0</td>\n",
       "      <td>26.0</td>\n",
       "      <td>1.0</td>\n",
       "      <td>27.0</td>\n",
       "      <td>51.0</td>\n",
       "      <td>2.0</td>\n",
       "      <td>53.0</td>\n",
       "      <td>51.0</td>\n",
       "      <td>53.0</td>\n",
       "      <td>2</td>\n",
       "    </tr>\n",
       "  </tbody>\n",
       "</table>\n",
       "</div>"
      ],
      "text/plain": [
       "                  player position       team     age  age2             club   \n",
       "30   Alexis Mac Allister       MF  Argentina  23-359    23         Brighton  \\\n",
       "133      Cristian Romero       DF  Argentina  24-235    24        Tottenham   \n",
       "184    Emiliano Martínez       GK  Argentina  30-107    30      Aston Villa   \n",
       "187       Enzo Fernández       MF  Argentina  21-335    21          Benfica   \n",
       "194    Exequiel Palacios       MF  Argentina  24-074    24       Leverkusen   \n",
       "220      Germán Pezzella       DF  Argentina  31-174    31            Betis   \n",
       "227      Gonzalo Montiel       DF  Argentina  25-351    25          Sevilla   \n",
       "233      Guido Rodríguez       MF  Argentina  28-250    28            Betis   \n",
       "326           Juan Foyth       DF  Argentina  24-340    24       Villarreal   \n",
       "330       Julián Álvarez       FW  Argentina  22-321    22  Manchester City   \n",
       "\n",
       "     birth_year  games  games_starts  minutes  minutes_90s  goals  assists   \n",
       "30         1998      6             6      550           61      1        1  \\\n",
       "133        1998      7             6      547           61      0        0   \n",
       "184        1992      7             7      690           77      0        0   \n",
       "187        2001      7             5      564           63      1        1   \n",
       "194        1998      3             0       50            6      0        0   \n",
       "220        1991      3             0       60            7      0        0   \n",
       "227        1997      4             1      118           13      0        0   \n",
       "233        1994      1             1       56            6      0        0   \n",
       "326        1998      1             0        5            1      0        0   \n",
       "330        2000      7             5      464           52      4        0   \n",
       "\n",
       "     goals_pens  pens_made  pens_att  cards_yellow  cards_red  goals_per90   \n",
       "30            1          0         0             0          0           16  \\\n",
       "133           0          0         0             2          0            0   \n",
       "184           0          0         0             1          0            0   \n",
       "187           1          0         0             1          0           16   \n",
       "194           0          0         0             0          0            0   \n",
       "220           0          0         0             1          0            0   \n",
       "227           0          0         0             3          0            0   \n",
       "233           0          0         0             0          0            0   \n",
       "326           0          0         0             0          0            0   \n",
       "330           4          0         0             0          0           78   \n",
       "\n",
       "     assists_per90  goals_assists_per90  goals_pens_per90   \n",
       "30              16                   33                16  \\\n",
       "133              0                    0                 0   \n",
       "184              0                    0                 0   \n",
       "187             16                   32                16   \n",
       "194              0                    0                 0   \n",
       "220              0                    0                 0   \n",
       "227              0                    0                 0   \n",
       "233              0                    0                 0   \n",
       "326              0                    0                 0   \n",
       "330              0                   78                78   \n",
       "\n",
       "     goals_assists_pens_per90    xg  npxg  xg_assist  npxg_xg_assist   \n",
       "30                         33   7.0   7.0        1.0            17.0  \\\n",
       "133                         0   0.0   0.0        0.0             0.0   \n",
       "184                         0   0.0   0.0        0.0             0.0   \n",
       "187                        32   3.0   3.0        9.0            12.0   \n",
       "194                         0   1.0   1.0        1.0             1.0   \n",
       "220                         0   1.0   1.0        0.0             1.0   \n",
       "227                         0   0.0   0.0        3.0             4.0   \n",
       "233                         0   0.0   0.0        0.0             0.0   \n",
       "326                         0   0.0   0.0        0.0             0.0   \n",
       "330                        78  26.0  26.0        1.0            27.0   \n",
       "\n",
       "     xg_per90  xg_assist_per90  xg_xg_assist_per90  npxg_per90   \n",
       "30       12.0             18.0                 3.0        12.0  \\\n",
       "133       0.0              0.0                 0.0         0.0   \n",
       "184       0.0              0.0                 0.0         0.0   \n",
       "187       5.0             16.0                21.0         5.0   \n",
       "194      12.0             12.0                24.0        12.0   \n",
       "220      24.0              0.0                24.0        24.0   \n",
       "227       2.0             42.0                44.0         2.0   \n",
       "233       0.0              0.0                 0.0         0.0   \n",
       "326       0.0              0.0                 0.0         0.0   \n",
       "330      51.0              2.0                53.0        51.0   \n",
       "\n",
       "     npxg_xg_assist_per90  games_sub  \n",
       "30                    3.0          0  \n",
       "133                   0.0          1  \n",
       "184                   0.0          0  \n",
       "187                  21.0          2  \n",
       "194                  24.0          3  \n",
       "220                  24.0          3  \n",
       "227                  44.0          3  \n",
       "233                   0.0          0  \n",
       "326                   0.0          1  \n",
       "330                  53.0          2  "
      ]
     },
     "execution_count": 83,
     "metadata": {},
     "output_type": "execute_result"
    }
   ],
   "source": [
    "df_country.head(10)"
   ]
  },
  {
   "cell_type": "code",
<<<<<<< HEAD
   "execution_count": null,
=======
   "execution_count": 84,
>>>>>>> d20e0f0c979d08449127054dcb41934fa686c483
   "metadata": {},
   "outputs": [
    {
     "data": {
      "text/html": [
       "<div>\n",
       "<style scoped>\n",
       "    .dataframe tbody tr th:only-of-type {\n",
       "        vertical-align: middle;\n",
       "    }\n",
       "\n",
       "    .dataframe tbody tr th {\n",
       "        vertical-align: top;\n",
       "    }\n",
       "\n",
       "    .dataframe thead th {\n",
       "        text-align: right;\n",
       "    }\n",
       "</style>\n",
       "<table border=\"1\" class=\"dataframe\">\n",
       "  <thead>\n",
       "    <tr style=\"text-align: right;\">\n",
       "      <th></th>\n",
       "      <th>player</th>\n",
       "      <th>position</th>\n",
       "      <th>team</th>\n",
       "      <th>age</th>\n",
       "      <th>age2</th>\n",
       "      <th>club</th>\n",
       "      <th>birth_year</th>\n",
       "      <th>games</th>\n",
       "      <th>games_starts</th>\n",
       "      <th>minutes</th>\n",
       "      <th>minutes_90s</th>\n",
       "      <th>goals</th>\n",
       "      <th>assists</th>\n",
       "      <th>goals_pens</th>\n",
       "      <th>pens_made</th>\n",
       "      <th>pens_att</th>\n",
       "      <th>cards_yellow</th>\n",
       "      <th>cards_red</th>\n",
       "      <th>goals_per90</th>\n",
       "      <th>assists_per90</th>\n",
       "      <th>goals_assists_per90</th>\n",
       "      <th>goals_pens_per90</th>\n",
       "      <th>goals_assists_pens_per90</th>\n",
       "      <th>xg</th>\n",
       "      <th>npxg</th>\n",
       "      <th>xg_assist</th>\n",
       "      <th>npxg_xg_assist</th>\n",
       "      <th>xg_per90</th>\n",
       "      <th>xg_assist_per90</th>\n",
       "      <th>xg_xg_assist_per90</th>\n",
       "      <th>npxg_per90</th>\n",
       "      <th>npxg_xg_assist_per90</th>\n",
       "      <th>games_sub</th>\n",
       "    </tr>\n",
       "  </thead>\n",
       "  <tbody>\n",
       "    <tr>\n",
       "      <th>388</th>\n",
       "      <td>Lionel Messi</td>\n",
       "      <td>FW</td>\n",
       "      <td>Argentina</td>\n",
       "      <td>35-177</td>\n",
       "      <td>35</td>\n",
       "      <td>Paris S-G</td>\n",
       "      <td>1987</td>\n",
       "      <td>7</td>\n",
       "      <td>7</td>\n",
       "      <td>690</td>\n",
       "      <td>77</td>\n",
       "      <td>7</td>\n",
       "      <td>3</td>\n",
       "      <td>3</td>\n",
       "      <td>4</td>\n",
       "      <td>5</td>\n",
       "      <td>1</td>\n",
       "      <td>0</td>\n",
       "      <td>91</td>\n",
       "      <td>39</td>\n",
       "      <td>13</td>\n",
       "      <td>39</td>\n",
       "      <td>78</td>\n",
       "      <td>66.0</td>\n",
       "      <td>26.0</td>\n",
       "      <td>25.0</td>\n",
       "      <td>51.0</td>\n",
       "      <td>94.0</td>\n",
       "      <td>36.0</td>\n",
       "      <td>13.0</td>\n",
       "      <td>38.0</td>\n",
       "      <td>74.0</td>\n",
       "      <td>0</td>\n",
       "    </tr>\n",
       "    <tr>\n",
       "      <th>184</th>\n",
       "      <td>Emiliano Martínez</td>\n",
       "      <td>GK</td>\n",
       "      <td>Argentina</td>\n",
       "      <td>30-107</td>\n",
       "      <td>30</td>\n",
       "      <td>Aston Villa</td>\n",
       "      <td>1992</td>\n",
       "      <td>7</td>\n",
       "      <td>7</td>\n",
       "      <td>690</td>\n",
       "      <td>77</td>\n",
       "      <td>0</td>\n",
       "      <td>0</td>\n",
       "      <td>0</td>\n",
       "      <td>0</td>\n",
       "      <td>0</td>\n",
       "      <td>1</td>\n",
       "      <td>0</td>\n",
       "      <td>0</td>\n",
       "      <td>0</td>\n",
       "      <td>0</td>\n",
       "      <td>0</td>\n",
       "      <td>0</td>\n",
       "      <td>0.0</td>\n",
       "      <td>0.0</td>\n",
       "      <td>0.0</td>\n",
       "      <td>0.0</td>\n",
       "      <td>0.0</td>\n",
       "      <td>0.0</td>\n",
       "      <td>0.0</td>\n",
       "      <td>0.0</td>\n",
       "      <td>0.0</td>\n",
       "      <td>0</td>\n",
       "    </tr>\n",
       "    <tr>\n",
       "      <th>551</th>\n",
       "      <td>Rodrigo De Paul</td>\n",
       "      <td>MF</td>\n",
       "      <td>Argentina</td>\n",
       "      <td>28-208</td>\n",
       "      <td>28</td>\n",
       "      <td>Atlético Madrid</td>\n",
       "      <td>1994</td>\n",
       "      <td>7</td>\n",
       "      <td>7</td>\n",
       "      <td>599</td>\n",
       "      <td>67</td>\n",
       "      <td>0</td>\n",
       "      <td>0</td>\n",
       "      <td>0</td>\n",
       "      <td>0</td>\n",
       "      <td>0</td>\n",
       "      <td>0</td>\n",
       "      <td>0</td>\n",
       "      <td>0</td>\n",
       "      <td>0</td>\n",
       "      <td>0</td>\n",
       "      <td>0</td>\n",
       "      <td>0</td>\n",
       "      <td>9.0</td>\n",
       "      <td>9.0</td>\n",
       "      <td>3.0</td>\n",
       "      <td>12.0</td>\n",
       "      <td>13.0</td>\n",
       "      <td>5.0</td>\n",
       "      <td>18.0</td>\n",
       "      <td>13.0</td>\n",
       "      <td>18.0</td>\n",
       "      <td>0</td>\n",
       "    </tr>\n",
       "    <tr>\n",
       "      <th>491</th>\n",
       "      <td>Nicolás Otamendi</td>\n",
       "      <td>DF</td>\n",
       "      <td>Argentina</td>\n",
       "      <td>34-309</td>\n",
       "      <td>34</td>\n",
       "      <td>Benfica</td>\n",
       "      <td>1988</td>\n",
       "      <td>7</td>\n",
       "      <td>7</td>\n",
       "      <td>690</td>\n",
       "      <td>77</td>\n",
       "      <td>0</td>\n",
       "      <td>1</td>\n",
       "      <td>0</td>\n",
       "      <td>0</td>\n",
       "      <td>0</td>\n",
       "      <td>2</td>\n",
       "      <td>0</td>\n",
       "      <td>0</td>\n",
       "      <td>13</td>\n",
       "      <td>13</td>\n",
       "      <td>0</td>\n",
       "      <td>13</td>\n",
       "      <td>0.0</td>\n",
       "      <td>0.0</td>\n",
       "      <td>2.0</td>\n",
       "      <td>2.0</td>\n",
       "      <td>0.0</td>\n",
       "      <td>2.0</td>\n",
       "      <td>3.0</td>\n",
       "      <td>0.0</td>\n",
       "      <td>3.0</td>\n",
       "      <td>0</td>\n",
       "    </tr>\n",
       "    <tr>\n",
       "      <th>133</th>\n",
       "      <td>Cristian Romero</td>\n",
       "      <td>DF</td>\n",
       "      <td>Argentina</td>\n",
       "      <td>24-235</td>\n",
       "      <td>24</td>\n",
       "      <td>Tottenham</td>\n",
       "      <td>1998</td>\n",
       "      <td>7</td>\n",
       "      <td>6</td>\n",
       "      <td>547</td>\n",
       "      <td>61</td>\n",
       "      <td>0</td>\n",
       "      <td>0</td>\n",
       "      <td>0</td>\n",
       "      <td>0</td>\n",
       "      <td>0</td>\n",
       "      <td>2</td>\n",
       "      <td>0</td>\n",
       "      <td>0</td>\n",
       "      <td>0</td>\n",
       "      <td>0</td>\n",
       "      <td>0</td>\n",
       "      <td>0</td>\n",
       "      <td>0.0</td>\n",
       "      <td>0.0</td>\n",
       "      <td>0.0</td>\n",
       "      <td>0.0</td>\n",
       "      <td>0.0</td>\n",
       "      <td>0.0</td>\n",
       "      <td>0.0</td>\n",
       "      <td>0.0</td>\n",
       "      <td>0.0</td>\n",
       "      <td>1</td>\n",
       "    </tr>\n",
       "    <tr>\n",
       "      <th>470</th>\n",
       "      <td>Nahuel Molina</td>\n",
       "      <td>DF</td>\n",
       "      <td>Argentina</td>\n",
       "      <td>24-256</td>\n",
       "      <td>24</td>\n",
       "      <td>Atlético Madrid</td>\n",
       "      <td>1998</td>\n",
       "      <td>7</td>\n",
       "      <td>6</td>\n",
       "      <td>567</td>\n",
       "      <td>63</td>\n",
       "      <td>1</td>\n",
       "      <td>1</td>\n",
       "      <td>1</td>\n",
       "      <td>0</td>\n",
       "      <td>0</td>\n",
       "      <td>0</td>\n",
       "      <td>0</td>\n",
       "      <td>16</td>\n",
       "      <td>16</td>\n",
       "      <td>32</td>\n",
       "      <td>16</td>\n",
       "      <td>32</td>\n",
       "      <td>5.0</td>\n",
       "      <td>5.0</td>\n",
       "      <td>3.0</td>\n",
       "      <td>8.0</td>\n",
       "      <td>7.0</td>\n",
       "      <td>5.0</td>\n",
       "      <td>12.0</td>\n",
       "      <td>7.0</td>\n",
       "      <td>12.0</td>\n",
       "      <td>1</td>\n",
       "    </tr>\n",
       "    <tr>\n",
       "      <th>30</th>\n",
       "      <td>Alexis Mac Allister</td>\n",
       "      <td>MF</td>\n",
       "      <td>Argentina</td>\n",
       "      <td>23-359</td>\n",
       "      <td>23</td>\n",
       "      <td>Brighton</td>\n",
       "      <td>1998</td>\n",
       "      <td>6</td>\n",
       "      <td>6</td>\n",
       "      <td>550</td>\n",
       "      <td>61</td>\n",
       "      <td>1</td>\n",
       "      <td>1</td>\n",
       "      <td>1</td>\n",
       "      <td>0</td>\n",
       "      <td>0</td>\n",
       "      <td>0</td>\n",
       "      <td>0</td>\n",
       "      <td>16</td>\n",
       "      <td>16</td>\n",
       "      <td>33</td>\n",
       "      <td>16</td>\n",
       "      <td>33</td>\n",
       "      <td>7.0</td>\n",
       "      <td>7.0</td>\n",
       "      <td>1.0</td>\n",
       "      <td>17.0</td>\n",
       "      <td>12.0</td>\n",
       "      <td>18.0</td>\n",
       "      <td>3.0</td>\n",
       "      <td>12.0</td>\n",
       "      <td>3.0</td>\n",
       "      <td>0</td>\n",
       "    </tr>\n",
       "    <tr>\n",
       "      <th>330</th>\n",
       "      <td>Julián Álvarez</td>\n",
       "      <td>FW</td>\n",
       "      <td>Argentina</td>\n",
       "      <td>22-321</td>\n",
       "      <td>22</td>\n",
       "      <td>Manchester City</td>\n",
       "      <td>2000</td>\n",
       "      <td>7</td>\n",
       "      <td>5</td>\n",
       "      <td>464</td>\n",
       "      <td>52</td>\n",
       "      <td>4</td>\n",
       "      <td>0</td>\n",
       "      <td>4</td>\n",
       "      <td>0</td>\n",
       "      <td>0</td>\n",
       "      <td>0</td>\n",
       "      <td>0</td>\n",
       "      <td>78</td>\n",
       "      <td>0</td>\n",
       "      <td>78</td>\n",
       "      <td>78</td>\n",
       "      <td>78</td>\n",
       "      <td>26.0</td>\n",
       "      <td>26.0</td>\n",
       "      <td>1.0</td>\n",
       "      <td>27.0</td>\n",
       "      <td>51.0</td>\n",
       "      <td>2.0</td>\n",
       "      <td>53.0</td>\n",
       "      <td>51.0</td>\n",
       "      <td>53.0</td>\n",
       "      <td>2</td>\n",
       "    </tr>\n",
       "    <tr>\n",
       "      <th>187</th>\n",
       "      <td>Enzo Fernández</td>\n",
       "      <td>MF</td>\n",
       "      <td>Argentina</td>\n",
       "      <td>21-335</td>\n",
       "      <td>21</td>\n",
       "      <td>Benfica</td>\n",
       "      <td>2001</td>\n",
       "      <td>7</td>\n",
       "      <td>5</td>\n",
       "      <td>564</td>\n",
       "      <td>63</td>\n",
       "      <td>1</td>\n",
       "      <td>1</td>\n",
       "      <td>1</td>\n",
       "      <td>0</td>\n",
       "      <td>0</td>\n",
       "      <td>1</td>\n",
       "      <td>0</td>\n",
       "      <td>16</td>\n",
       "      <td>16</td>\n",
       "      <td>32</td>\n",
       "      <td>16</td>\n",
       "      <td>32</td>\n",
       "      <td>3.0</td>\n",
       "      <td>3.0</td>\n",
       "      <td>9.0</td>\n",
       "      <td>12.0</td>\n",
       "      <td>5.0</td>\n",
       "      <td>16.0</td>\n",
       "      <td>21.0</td>\n",
       "      <td>5.0</td>\n",
       "      <td>21.0</td>\n",
       "      <td>2</td>\n",
       "    </tr>\n",
       "    <tr>\n",
       "      <th>675</th>\n",
       "      <td>Angel Di María</td>\n",
       "      <td>MF</td>\n",
       "      <td>Argentina</td>\n",
       "      <td>34-307</td>\n",
       "      <td>34</td>\n",
       "      <td>Juventus</td>\n",
       "      <td>1988</td>\n",
       "      <td>5</td>\n",
       "      <td>4</td>\n",
       "      <td>288</td>\n",
       "      <td>32</td>\n",
       "      <td>1</td>\n",
       "      <td>1</td>\n",
       "      <td>1</td>\n",
       "      <td>0</td>\n",
       "      <td>0</td>\n",
       "      <td>0</td>\n",
       "      <td>0</td>\n",
       "      <td>31</td>\n",
       "      <td>31</td>\n",
       "      <td>62</td>\n",
       "      <td>31</td>\n",
       "      <td>62</td>\n",
       "      <td>8.0</td>\n",
       "      <td>8.0</td>\n",
       "      <td>6.0</td>\n",
       "      <td>14.0</td>\n",
       "      <td>27.0</td>\n",
       "      <td>2.0</td>\n",
       "      <td>46.0</td>\n",
       "      <td>27.0</td>\n",
       "      <td>46.0</td>\n",
       "      <td>1</td>\n",
       "    </tr>\n",
       "  </tbody>\n",
       "</table>\n",
       "</div>"
      ],
      "text/plain": [
       "                  player position       team     age  age2             club   \n",
       "388         Lionel Messi       FW  Argentina  35-177    35        Paris S-G  \\\n",
       "184    Emiliano Martínez       GK  Argentina  30-107    30      Aston Villa   \n",
       "551      Rodrigo De Paul       MF  Argentina  28-208    28  Atlético Madrid   \n",
       "491     Nicolás Otamendi       DF  Argentina  34-309    34          Benfica   \n",
       "133      Cristian Romero       DF  Argentina  24-235    24        Tottenham   \n",
       "470        Nahuel Molina       DF  Argentina  24-256    24  Atlético Madrid   \n",
       "30   Alexis Mac Allister       MF  Argentina  23-359    23         Brighton   \n",
       "330       Julián Álvarez       FW  Argentina  22-321    22  Manchester City   \n",
       "187       Enzo Fernández       MF  Argentina  21-335    21          Benfica   \n",
       "675       Angel Di María       MF  Argentina  34-307    34         Juventus   \n",
       "\n",
       "     birth_year  games  games_starts  minutes  minutes_90s  goals  assists   \n",
       "388        1987      7             7      690           77      7        3  \\\n",
       "184        1992      7             7      690           77      0        0   \n",
       "551        1994      7             7      599           67      0        0   \n",
       "491        1988      7             7      690           77      0        1   \n",
       "133        1998      7             6      547           61      0        0   \n",
       "470        1998      7             6      567           63      1        1   \n",
       "30         1998      6             6      550           61      1        1   \n",
       "330        2000      7             5      464           52      4        0   \n",
       "187        2001      7             5      564           63      1        1   \n",
       "675        1988      5             4      288           32      1        1   \n",
       "\n",
       "     goals_pens  pens_made  pens_att  cards_yellow  cards_red  goals_per90   \n",
       "388           3          4         5             1          0           91  \\\n",
       "184           0          0         0             1          0            0   \n",
       "551           0          0         0             0          0            0   \n",
       "491           0          0         0             2          0            0   \n",
       "133           0          0         0             2          0            0   \n",
       "470           1          0         0             0          0           16   \n",
       "30            1          0         0             0          0           16   \n",
       "330           4          0         0             0          0           78   \n",
       "187           1          0         0             1          0           16   \n",
       "675           1          0         0             0          0           31   \n",
       "\n",
       "     assists_per90  goals_assists_per90  goals_pens_per90   \n",
       "388             39                   13                39  \\\n",
       "184              0                    0                 0   \n",
       "551              0                    0                 0   \n",
       "491             13                   13                 0   \n",
       "133              0                    0                 0   \n",
       "470             16                   32                16   \n",
       "30              16                   33                16   \n",
       "330              0                   78                78   \n",
       "187             16                   32                16   \n",
       "675             31                   62                31   \n",
       "\n",
       "     goals_assists_pens_per90    xg  npxg  xg_assist  npxg_xg_assist   \n",
       "388                        78  66.0  26.0       25.0            51.0  \\\n",
       "184                         0   0.0   0.0        0.0             0.0   \n",
       "551                         0   9.0   9.0        3.0            12.0   \n",
       "491                        13   0.0   0.0        2.0             2.0   \n",
       "133                         0   0.0   0.0        0.0             0.0   \n",
       "470                        32   5.0   5.0        3.0             8.0   \n",
       "30                         33   7.0   7.0        1.0            17.0   \n",
       "330                        78  26.0  26.0        1.0            27.0   \n",
       "187                        32   3.0   3.0        9.0            12.0   \n",
       "675                        62   8.0   8.0        6.0            14.0   \n",
       "\n",
       "     xg_per90  xg_assist_per90  xg_xg_assist_per90  npxg_per90   \n",
       "388      94.0             36.0                13.0        38.0  \\\n",
       "184       0.0              0.0                 0.0         0.0   \n",
       "551      13.0              5.0                18.0        13.0   \n",
       "491       0.0              2.0                 3.0         0.0   \n",
       "133       0.0              0.0                 0.0         0.0   \n",
       "470       7.0              5.0                12.0         7.0   \n",
       "30       12.0             18.0                 3.0        12.0   \n",
       "330      51.0              2.0                53.0        51.0   \n",
       "187       5.0             16.0                21.0         5.0   \n",
       "675      27.0              2.0                46.0        27.0   \n",
       "\n",
       "     npxg_xg_assist_per90  games_sub  \n",
       "388                  74.0          0  \n",
       "184                   0.0          0  \n",
       "551                  18.0          0  \n",
       "491                   3.0          0  \n",
       "133                   0.0          1  \n",
       "470                  12.0          1  \n",
       "30                    3.0          0  \n",
       "330                  53.0          2  \n",
       "187                  21.0          2  \n",
       "675                  46.0          1  "
      ]
     },
     "execution_count": 84,
     "metadata": {},
     "output_type": "execute_result"
    }
   ],
   "source": [
    "df_country.sort_values(by=\"games_starts\", ascending=False).iloc[:10]"
   ]
  },
  {
   "cell_type": "code",
<<<<<<< HEAD
   "execution_count": null,
=======
   "execution_count": 85,
>>>>>>> d20e0f0c979d08449127054dcb41934fa686c483
   "metadata": {},
   "outputs": [
    {
     "data": {
      "application/vnd.plotly.v1+json": {
       "config": {
        "plotlyServerURL": "https://plotly.com"
       },
       "data": [
        {
         "name": "Valores de las barras",
         "type": "bar",
         "x": [
          "Lionel Messi",
          "Cristian Romero",
          "Emiliano Martínez",
          "Enzo Fernández",
          "Rodrigo De Paul",
          "Nicolás Otamendi",
          "Nahuel Molina",
          "Julián Álvarez",
          "Nicolás Tagliafico",
          "Marcos Acuña"
         ],
         "y": [
          7,
          7,
          7,
          7,
          7,
          7,
          7,
          7,
          6,
          6
         ]
        }
       ],
       "layout": {
        "shapes": [
         {
          "line": {
           "color": "red",
           "width": 3
          },
          "type": "line",
          "x0": -0.5,
          "x1": 9.5,
          "y0": 6.8,
          "y1": 6.8
         }
        ],
        "template": {
         "data": {
          "bar": [
           {
            "error_x": {
             "color": "rgb(36,36,36)"
            },
            "error_y": {
             "color": "rgb(36,36,36)"
            },
            "marker": {
             "line": {
              "color": "white",
              "width": 0.5
             },
             "pattern": {
              "fillmode": "overlay",
              "size": 10,
              "solidity": 0.2
             }
            },
            "type": "bar"
           }
          ],
          "barpolar": [
           {
            "marker": {
             "line": {
              "color": "white",
              "width": 0.5
             },
             "pattern": {
              "fillmode": "overlay",
              "size": 10,
              "solidity": 0.2
             }
            },
            "type": "barpolar"
           }
          ],
          "carpet": [
           {
            "aaxis": {
             "endlinecolor": "rgb(36,36,36)",
             "gridcolor": "white",
             "linecolor": "white",
             "minorgridcolor": "white",
             "startlinecolor": "rgb(36,36,36)"
            },
            "baxis": {
             "endlinecolor": "rgb(36,36,36)",
             "gridcolor": "white",
             "linecolor": "white",
             "minorgridcolor": "white",
             "startlinecolor": "rgb(36,36,36)"
            },
            "type": "carpet"
           }
          ],
          "choropleth": [
           {
            "colorbar": {
             "outlinewidth": 1,
             "tickcolor": "rgb(36,36,36)",
             "ticks": "outside"
            },
            "type": "choropleth"
           }
          ],
          "contour": [
           {
            "colorbar": {
             "outlinewidth": 1,
             "tickcolor": "rgb(36,36,36)",
             "ticks": "outside"
            },
            "colorscale": [
             [
              0,
              "#440154"
             ],
             [
              0.1111111111111111,
              "#482878"
             ],
             [
              0.2222222222222222,
              "#3e4989"
             ],
             [
              0.3333333333333333,
              "#31688e"
             ],
             [
              0.4444444444444444,
              "#26828e"
             ],
             [
              0.5555555555555556,
              "#1f9e89"
             ],
             [
              0.6666666666666666,
              "#35b779"
             ],
             [
              0.7777777777777778,
              "#6ece58"
             ],
             [
              0.8888888888888888,
              "#b5de2b"
             ],
             [
              1,
              "#fde725"
             ]
            ],
            "type": "contour"
           }
          ],
          "contourcarpet": [
           {
            "colorbar": {
             "outlinewidth": 1,
             "tickcolor": "rgb(36,36,36)",
             "ticks": "outside"
            },
            "type": "contourcarpet"
           }
          ],
          "heatmap": [
           {
            "colorbar": {
             "outlinewidth": 1,
             "tickcolor": "rgb(36,36,36)",
             "ticks": "outside"
            },
            "colorscale": [
             [
              0,
              "#440154"
             ],
             [
              0.1111111111111111,
              "#482878"
             ],
             [
              0.2222222222222222,
              "#3e4989"
             ],
             [
              0.3333333333333333,
              "#31688e"
             ],
             [
              0.4444444444444444,
              "#26828e"
             ],
             [
              0.5555555555555556,
              "#1f9e89"
             ],
             [
              0.6666666666666666,
              "#35b779"
             ],
             [
              0.7777777777777778,
              "#6ece58"
             ],
             [
              0.8888888888888888,
              "#b5de2b"
             ],
             [
              1,
              "#fde725"
             ]
            ],
            "type": "heatmap"
           }
          ],
          "heatmapgl": [
           {
            "colorbar": {
             "outlinewidth": 1,
             "tickcolor": "rgb(36,36,36)",
             "ticks": "outside"
            },
            "colorscale": [
             [
              0,
              "#440154"
             ],
             [
              0.1111111111111111,
              "#482878"
             ],
             [
              0.2222222222222222,
              "#3e4989"
             ],
             [
              0.3333333333333333,
              "#31688e"
             ],
             [
              0.4444444444444444,
              "#26828e"
             ],
             [
              0.5555555555555556,
              "#1f9e89"
             ],
             [
              0.6666666666666666,
              "#35b779"
             ],
             [
              0.7777777777777778,
              "#6ece58"
             ],
             [
              0.8888888888888888,
              "#b5de2b"
             ],
             [
              1,
              "#fde725"
             ]
            ],
            "type": "heatmapgl"
           }
          ],
          "histogram": [
           {
            "marker": {
             "line": {
              "color": "white",
              "width": 0.6
             }
            },
            "type": "histogram"
           }
          ],
          "histogram2d": [
           {
            "colorbar": {
             "outlinewidth": 1,
             "tickcolor": "rgb(36,36,36)",
             "ticks": "outside"
            },
            "colorscale": [
             [
              0,
              "#440154"
             ],
             [
              0.1111111111111111,
              "#482878"
             ],
             [
              0.2222222222222222,
              "#3e4989"
             ],
             [
              0.3333333333333333,
              "#31688e"
             ],
             [
              0.4444444444444444,
              "#26828e"
             ],
             [
              0.5555555555555556,
              "#1f9e89"
             ],
             [
              0.6666666666666666,
              "#35b779"
             ],
             [
              0.7777777777777778,
              "#6ece58"
             ],
             [
              0.8888888888888888,
              "#b5de2b"
             ],
             [
              1,
              "#fde725"
             ]
            ],
            "type": "histogram2d"
           }
          ],
          "histogram2dcontour": [
           {
            "colorbar": {
             "outlinewidth": 1,
             "tickcolor": "rgb(36,36,36)",
             "ticks": "outside"
            },
            "colorscale": [
             [
              0,
              "#440154"
             ],
             [
              0.1111111111111111,
              "#482878"
             ],
             [
              0.2222222222222222,
              "#3e4989"
             ],
             [
              0.3333333333333333,
              "#31688e"
             ],
             [
              0.4444444444444444,
              "#26828e"
             ],
             [
              0.5555555555555556,
              "#1f9e89"
             ],
             [
              0.6666666666666666,
              "#35b779"
             ],
             [
              0.7777777777777778,
              "#6ece58"
             ],
             [
              0.8888888888888888,
              "#b5de2b"
             ],
             [
              1,
              "#fde725"
             ]
            ],
            "type": "histogram2dcontour"
           }
          ],
          "mesh3d": [
           {
            "colorbar": {
             "outlinewidth": 1,
             "tickcolor": "rgb(36,36,36)",
             "ticks": "outside"
            },
            "type": "mesh3d"
           }
          ],
          "parcoords": [
           {
            "line": {
             "colorbar": {
              "outlinewidth": 1,
              "tickcolor": "rgb(36,36,36)",
              "ticks": "outside"
             }
            },
            "type": "parcoords"
           }
          ],
          "pie": [
           {
            "automargin": true,
            "type": "pie"
           }
          ],
          "scatter": [
           {
            "fillpattern": {
             "fillmode": "overlay",
             "size": 10,
             "solidity": 0.2
            },
            "type": "scatter"
           }
          ],
          "scatter3d": [
           {
            "line": {
             "colorbar": {
              "outlinewidth": 1,
              "tickcolor": "rgb(36,36,36)",
              "ticks": "outside"
             }
            },
            "marker": {
             "colorbar": {
              "outlinewidth": 1,
              "tickcolor": "rgb(36,36,36)",
              "ticks": "outside"
             }
            },
            "type": "scatter3d"
           }
          ],
          "scattercarpet": [
           {
            "marker": {
             "colorbar": {
              "outlinewidth": 1,
              "tickcolor": "rgb(36,36,36)",
              "ticks": "outside"
             }
            },
            "type": "scattercarpet"
           }
          ],
          "scattergeo": [
           {
            "marker": {
             "colorbar": {
              "outlinewidth": 1,
              "tickcolor": "rgb(36,36,36)",
              "ticks": "outside"
             }
            },
            "type": "scattergeo"
           }
          ],
          "scattergl": [
           {
            "marker": {
             "colorbar": {
              "outlinewidth": 1,
              "tickcolor": "rgb(36,36,36)",
              "ticks": "outside"
             }
            },
            "type": "scattergl"
           }
          ],
          "scattermapbox": [
           {
            "marker": {
             "colorbar": {
              "outlinewidth": 1,
              "tickcolor": "rgb(36,36,36)",
              "ticks": "outside"
             }
            },
            "type": "scattermapbox"
           }
          ],
          "scatterpolar": [
           {
            "marker": {
             "colorbar": {
              "outlinewidth": 1,
              "tickcolor": "rgb(36,36,36)",
              "ticks": "outside"
             }
            },
            "type": "scatterpolar"
           }
          ],
          "scatterpolargl": [
           {
            "marker": {
             "colorbar": {
              "outlinewidth": 1,
              "tickcolor": "rgb(36,36,36)",
              "ticks": "outside"
             }
            },
            "type": "scatterpolargl"
           }
          ],
          "scatterternary": [
           {
            "marker": {
             "colorbar": {
              "outlinewidth": 1,
              "tickcolor": "rgb(36,36,36)",
              "ticks": "outside"
             }
            },
            "type": "scatterternary"
           }
          ],
          "surface": [
           {
            "colorbar": {
             "outlinewidth": 1,
             "tickcolor": "rgb(36,36,36)",
             "ticks": "outside"
            },
            "colorscale": [
             [
              0,
              "#440154"
             ],
             [
              0.1111111111111111,
              "#482878"
             ],
             [
              0.2222222222222222,
              "#3e4989"
             ],
             [
              0.3333333333333333,
              "#31688e"
             ],
             [
              0.4444444444444444,
              "#26828e"
             ],
             [
              0.5555555555555556,
              "#1f9e89"
             ],
             [
              0.6666666666666666,
              "#35b779"
             ],
             [
              0.7777777777777778,
              "#6ece58"
             ],
             [
              0.8888888888888888,
              "#b5de2b"
             ],
             [
              1,
              "#fde725"
             ]
            ],
            "type": "surface"
           }
          ],
          "table": [
           {
            "cells": {
             "fill": {
              "color": "rgb(237,237,237)"
             },
             "line": {
              "color": "white"
             }
            },
            "header": {
             "fill": {
              "color": "rgb(217,217,217)"
             },
             "line": {
              "color": "white"
             }
            },
            "type": "table"
           }
          ]
         },
         "layout": {
          "annotationdefaults": {
           "arrowhead": 0,
           "arrowwidth": 1
          },
          "autotypenumbers": "strict",
          "coloraxis": {
           "colorbar": {
            "outlinewidth": 1,
            "tickcolor": "rgb(36,36,36)",
            "ticks": "outside"
           }
          },
          "colorscale": {
           "diverging": [
            [
             0,
             "rgb(103,0,31)"
            ],
            [
             0.1,
             "rgb(178,24,43)"
            ],
            [
             0.2,
             "rgb(214,96,77)"
            ],
            [
             0.3,
             "rgb(244,165,130)"
            ],
            [
             0.4,
             "rgb(253,219,199)"
            ],
            [
             0.5,
             "rgb(247,247,247)"
            ],
            [
             0.6,
             "rgb(209,229,240)"
            ],
            [
             0.7,
             "rgb(146,197,222)"
            ],
            [
             0.8,
             "rgb(67,147,195)"
            ],
            [
             0.9,
             "rgb(33,102,172)"
            ],
            [
             1,
             "rgb(5,48,97)"
            ]
           ],
           "sequential": [
            [
             0,
             "#440154"
            ],
            [
             0.1111111111111111,
             "#482878"
            ],
            [
             0.2222222222222222,
             "#3e4989"
            ],
            [
             0.3333333333333333,
             "#31688e"
            ],
            [
             0.4444444444444444,
             "#26828e"
            ],
            [
             0.5555555555555556,
             "#1f9e89"
            ],
            [
             0.6666666666666666,
             "#35b779"
            ],
            [
             0.7777777777777778,
             "#6ece58"
            ],
            [
             0.8888888888888888,
             "#b5de2b"
            ],
            [
             1,
             "#fde725"
            ]
           ],
           "sequentialminus": [
            [
             0,
             "#440154"
            ],
            [
             0.1111111111111111,
             "#482878"
            ],
            [
             0.2222222222222222,
             "#3e4989"
            ],
            [
             0.3333333333333333,
             "#31688e"
            ],
            [
             0.4444444444444444,
             "#26828e"
            ],
            [
             0.5555555555555556,
             "#1f9e89"
            ],
            [
             0.6666666666666666,
             "#35b779"
            ],
            [
             0.7777777777777778,
             "#6ece58"
            ],
            [
             0.8888888888888888,
             "#b5de2b"
            ],
            [
             1,
             "#fde725"
            ]
           ]
          },
          "colorway": [
           "#1F77B4",
           "#FF7F0E",
           "#2CA02C",
           "#D62728",
           "#9467BD",
           "#8C564B",
           "#E377C2",
           "#7F7F7F",
           "#BCBD22",
           "#17BECF"
          ],
          "font": {
           "color": "rgb(36,36,36)"
          },
          "geo": {
           "bgcolor": "white",
           "lakecolor": "white",
           "landcolor": "white",
           "showlakes": true,
           "showland": true,
           "subunitcolor": "white"
          },
          "hoverlabel": {
           "align": "left"
          },
          "hovermode": "closest",
          "mapbox": {
           "style": "light"
          },
          "paper_bgcolor": "white",
          "plot_bgcolor": "white",
          "polar": {
           "angularaxis": {
            "gridcolor": "rgb(232,232,232)",
            "linecolor": "rgb(36,36,36)",
            "showgrid": false,
            "showline": true,
            "ticks": "outside"
           },
           "bgcolor": "white",
           "radialaxis": {
            "gridcolor": "rgb(232,232,232)",
            "linecolor": "rgb(36,36,36)",
            "showgrid": false,
            "showline": true,
            "ticks": "outside"
           }
          },
          "scene": {
           "xaxis": {
            "backgroundcolor": "white",
            "gridcolor": "rgb(232,232,232)",
            "gridwidth": 2,
            "linecolor": "rgb(36,36,36)",
            "showbackground": true,
            "showgrid": false,
            "showline": true,
            "ticks": "outside",
            "zeroline": false,
            "zerolinecolor": "rgb(36,36,36)"
           },
           "yaxis": {
            "backgroundcolor": "white",
            "gridcolor": "rgb(232,232,232)",
            "gridwidth": 2,
            "linecolor": "rgb(36,36,36)",
            "showbackground": true,
            "showgrid": false,
            "showline": true,
            "ticks": "outside",
            "zeroline": false,
            "zerolinecolor": "rgb(36,36,36)"
           },
           "zaxis": {
            "backgroundcolor": "white",
            "gridcolor": "rgb(232,232,232)",
            "gridwidth": 2,
            "linecolor": "rgb(36,36,36)",
            "showbackground": true,
            "showgrid": false,
            "showline": true,
            "ticks": "outside",
            "zeroline": false,
            "zerolinecolor": "rgb(36,36,36)"
           }
          },
          "shapedefaults": {
           "fillcolor": "black",
           "line": {
            "width": 0
           },
           "opacity": 0.3
          },
          "ternary": {
           "aaxis": {
            "gridcolor": "rgb(232,232,232)",
            "linecolor": "rgb(36,36,36)",
            "showgrid": false,
            "showline": true,
            "ticks": "outside"
           },
           "baxis": {
            "gridcolor": "rgb(232,232,232)",
            "linecolor": "rgb(36,36,36)",
            "showgrid": false,
            "showline": true,
            "ticks": "outside"
           },
           "bgcolor": "white",
           "caxis": {
            "gridcolor": "rgb(232,232,232)",
            "linecolor": "rgb(36,36,36)",
            "showgrid": false,
            "showline": true,
            "ticks": "outside"
           }
          },
          "title": {
           "x": 0.05
          },
          "xaxis": {
           "automargin": true,
           "gridcolor": "rgb(232,232,232)",
           "linecolor": "rgb(36,36,36)",
           "showgrid": false,
           "showline": true,
           "ticks": "outside",
           "title": {
            "standoff": 15
           },
           "zeroline": false,
           "zerolinecolor": "rgb(36,36,36)"
          },
          "yaxis": {
           "automargin": true,
           "gridcolor": "rgb(232,232,232)",
           "linecolor": "rgb(36,36,36)",
           "showgrid": false,
           "showline": true,
           "ticks": "outside",
           "title": {
            "standoff": 15
           },
           "zeroline": false,
           "zerolinecolor": "rgb(36,36,36)"
          }
         }
        },
        "title": {
         "text": "Top 10 players with most games "
        },
        "xaxis": {
         "title": {
          "text": "Players"
         }
        },
        "yaxis": {
         "title": {
          "text": "Games"
         }
        }
       }
      }
     },
     "metadata": {},
     "output_type": "display_data"
    }
   ],
   "source": [
    "fig_games = go.Figure()\n",
    "\n",
    "fig_games.add_trace(go.Bar(\n",
    "    x=df_country.sort_values(by=\"games\", ascending=False).iloc[:10].player,\n",
    "    y=df_country.sort_values(by=\"games\", ascending=False).iloc[:10].games,\n",
    "    name='Valores de las barras'\n",
    "))\n",
    "\n",
    "fig_games.add_shape(type='line',\n",
    "              x0=-0.5, y0=df_country.sort_values(by=\"games\", ascending=False).iloc[:10].games.mean(),\n",
    "              x1=len(df_country.sort_values(by=\"games\", ascending=False).iloc[:10].player)-0.5, y1=df_country.sort_values(by=\"games\", ascending=False).iloc[:10].games.mean(),\n",
    "              line=dict(color='red', width=3))\n",
    "\n",
    "fig_games.update_layout(\n",
    "    title='Top 10 players with most games ',\n",
    "    xaxis_title='Players',\n",
    "    yaxis_title='Games'\n",
    ")\n",
    "fig_games.update_layout(template='simple_white')\n",
    "fig_games.show()"
   ]
  },
  {
   "cell_type": "code",
<<<<<<< HEAD
   "execution_count": null,
=======
   "execution_count": 86,
>>>>>>> d20e0f0c979d08449127054dcb41934fa686c483
   "metadata": {},
   "outputs": [
    {
     "data": {
      "application/vnd.plotly.v1+json": {
       "config": {
        "plotlyServerURL": "https://plotly.com"
       },
       "data": [
        {
         "name": "Valores de las barras",
         "type": "bar",
         "x": [
          "Lionel Messi",
          "Emiliano Martínez",
          "Nicolás Otamendi",
          "Rodrigo De Paul",
          "Nahuel Molina",
          "Enzo Fernández",
          "Alexis Mac Allister",
          "Cristian Romero",
          "Julián Álvarez",
          "Nicolás Tagliafico"
         ],
         "y": [
          690,
          690,
          690,
          599,
          567,
          564,
          550,
          547,
          464,
          373
         ]
        }
       ],
       "layout": {
        "shapes": [
         {
          "line": {
           "color": "red",
           "width": 3
          },
          "type": "line",
          "x0": -0.5,
          "x1": 9.5,
          "y0": 573.4,
          "y1": 573.4
         }
        ],
        "template": {
         "data": {
          "bar": [
           {
            "error_x": {
             "color": "rgb(36,36,36)"
            },
            "error_y": {
             "color": "rgb(36,36,36)"
            },
            "marker": {
             "line": {
              "color": "white",
              "width": 0.5
             },
             "pattern": {
              "fillmode": "overlay",
              "size": 10,
              "solidity": 0.2
             }
            },
            "type": "bar"
           }
          ],
          "barpolar": [
           {
            "marker": {
             "line": {
              "color": "white",
              "width": 0.5
             },
             "pattern": {
              "fillmode": "overlay",
              "size": 10,
              "solidity": 0.2
             }
            },
            "type": "barpolar"
           }
          ],
          "carpet": [
           {
            "aaxis": {
             "endlinecolor": "rgb(36,36,36)",
             "gridcolor": "white",
             "linecolor": "white",
             "minorgridcolor": "white",
             "startlinecolor": "rgb(36,36,36)"
            },
            "baxis": {
             "endlinecolor": "rgb(36,36,36)",
             "gridcolor": "white",
             "linecolor": "white",
             "minorgridcolor": "white",
             "startlinecolor": "rgb(36,36,36)"
            },
            "type": "carpet"
           }
          ],
          "choropleth": [
           {
            "colorbar": {
             "outlinewidth": 1,
             "tickcolor": "rgb(36,36,36)",
             "ticks": "outside"
            },
            "type": "choropleth"
           }
          ],
          "contour": [
           {
            "colorbar": {
             "outlinewidth": 1,
             "tickcolor": "rgb(36,36,36)",
             "ticks": "outside"
            },
            "colorscale": [
             [
              0,
              "#440154"
             ],
             [
              0.1111111111111111,
              "#482878"
             ],
             [
              0.2222222222222222,
              "#3e4989"
             ],
             [
              0.3333333333333333,
              "#31688e"
             ],
             [
              0.4444444444444444,
              "#26828e"
             ],
             [
              0.5555555555555556,
              "#1f9e89"
             ],
             [
              0.6666666666666666,
              "#35b779"
             ],
             [
              0.7777777777777778,
              "#6ece58"
             ],
             [
              0.8888888888888888,
              "#b5de2b"
             ],
             [
              1,
              "#fde725"
             ]
            ],
            "type": "contour"
           }
          ],
          "contourcarpet": [
           {
            "colorbar": {
             "outlinewidth": 1,
             "tickcolor": "rgb(36,36,36)",
             "ticks": "outside"
            },
            "type": "contourcarpet"
           }
          ],
          "heatmap": [
           {
            "colorbar": {
             "outlinewidth": 1,
             "tickcolor": "rgb(36,36,36)",
             "ticks": "outside"
            },
            "colorscale": [
             [
              0,
              "#440154"
             ],
             [
              0.1111111111111111,
              "#482878"
             ],
             [
              0.2222222222222222,
              "#3e4989"
             ],
             [
              0.3333333333333333,
              "#31688e"
             ],
             [
              0.4444444444444444,
              "#26828e"
             ],
             [
              0.5555555555555556,
              "#1f9e89"
             ],
             [
              0.6666666666666666,
              "#35b779"
             ],
             [
              0.7777777777777778,
              "#6ece58"
             ],
             [
              0.8888888888888888,
              "#b5de2b"
             ],
             [
              1,
              "#fde725"
             ]
            ],
            "type": "heatmap"
           }
          ],
          "heatmapgl": [
           {
            "colorbar": {
             "outlinewidth": 1,
             "tickcolor": "rgb(36,36,36)",
             "ticks": "outside"
            },
            "colorscale": [
             [
              0,
              "#440154"
             ],
             [
              0.1111111111111111,
              "#482878"
             ],
             [
              0.2222222222222222,
              "#3e4989"
             ],
             [
              0.3333333333333333,
              "#31688e"
             ],
             [
              0.4444444444444444,
              "#26828e"
             ],
             [
              0.5555555555555556,
              "#1f9e89"
             ],
             [
              0.6666666666666666,
              "#35b779"
             ],
             [
              0.7777777777777778,
              "#6ece58"
             ],
             [
              0.8888888888888888,
              "#b5de2b"
             ],
             [
              1,
              "#fde725"
             ]
            ],
            "type": "heatmapgl"
           }
          ],
          "histogram": [
           {
            "marker": {
             "line": {
              "color": "white",
              "width": 0.6
             }
            },
            "type": "histogram"
           }
          ],
          "histogram2d": [
           {
            "colorbar": {
             "outlinewidth": 1,
             "tickcolor": "rgb(36,36,36)",
             "ticks": "outside"
            },
            "colorscale": [
             [
              0,
              "#440154"
             ],
             [
              0.1111111111111111,
              "#482878"
             ],
             [
              0.2222222222222222,
              "#3e4989"
             ],
             [
              0.3333333333333333,
              "#31688e"
             ],
             [
              0.4444444444444444,
              "#26828e"
             ],
             [
              0.5555555555555556,
              "#1f9e89"
             ],
             [
              0.6666666666666666,
              "#35b779"
             ],
             [
              0.7777777777777778,
              "#6ece58"
             ],
             [
              0.8888888888888888,
              "#b5de2b"
             ],
             [
              1,
              "#fde725"
             ]
            ],
            "type": "histogram2d"
           }
          ],
          "histogram2dcontour": [
           {
            "colorbar": {
             "outlinewidth": 1,
             "tickcolor": "rgb(36,36,36)",
             "ticks": "outside"
            },
            "colorscale": [
             [
              0,
              "#440154"
             ],
             [
              0.1111111111111111,
              "#482878"
             ],
             [
              0.2222222222222222,
              "#3e4989"
             ],
             [
              0.3333333333333333,
              "#31688e"
             ],
             [
              0.4444444444444444,
              "#26828e"
             ],
             [
              0.5555555555555556,
              "#1f9e89"
             ],
             [
              0.6666666666666666,
              "#35b779"
             ],
             [
              0.7777777777777778,
              "#6ece58"
             ],
             [
              0.8888888888888888,
              "#b5de2b"
             ],
             [
              1,
              "#fde725"
             ]
            ],
            "type": "histogram2dcontour"
           }
          ],
          "mesh3d": [
           {
            "colorbar": {
             "outlinewidth": 1,
             "tickcolor": "rgb(36,36,36)",
             "ticks": "outside"
            },
            "type": "mesh3d"
           }
          ],
          "parcoords": [
           {
            "line": {
             "colorbar": {
              "outlinewidth": 1,
              "tickcolor": "rgb(36,36,36)",
              "ticks": "outside"
             }
            },
            "type": "parcoords"
           }
          ],
          "pie": [
           {
            "automargin": true,
            "type": "pie"
           }
          ],
          "scatter": [
           {
            "fillpattern": {
             "fillmode": "overlay",
             "size": 10,
             "solidity": 0.2
            },
            "type": "scatter"
           }
          ],
          "scatter3d": [
           {
            "line": {
             "colorbar": {
              "outlinewidth": 1,
              "tickcolor": "rgb(36,36,36)",
              "ticks": "outside"
             }
            },
            "marker": {
             "colorbar": {
              "outlinewidth": 1,
              "tickcolor": "rgb(36,36,36)",
              "ticks": "outside"
             }
            },
            "type": "scatter3d"
           }
          ],
          "scattercarpet": [
           {
            "marker": {
             "colorbar": {
              "outlinewidth": 1,
              "tickcolor": "rgb(36,36,36)",
              "ticks": "outside"
             }
            },
            "type": "scattercarpet"
           }
          ],
          "scattergeo": [
           {
            "marker": {
             "colorbar": {
              "outlinewidth": 1,
              "tickcolor": "rgb(36,36,36)",
              "ticks": "outside"
             }
            },
            "type": "scattergeo"
           }
          ],
          "scattergl": [
           {
            "marker": {
             "colorbar": {
              "outlinewidth": 1,
              "tickcolor": "rgb(36,36,36)",
              "ticks": "outside"
             }
            },
            "type": "scattergl"
           }
          ],
          "scattermapbox": [
           {
            "marker": {
             "colorbar": {
              "outlinewidth": 1,
              "tickcolor": "rgb(36,36,36)",
              "ticks": "outside"
             }
            },
            "type": "scattermapbox"
           }
          ],
          "scatterpolar": [
           {
            "marker": {
             "colorbar": {
              "outlinewidth": 1,
              "tickcolor": "rgb(36,36,36)",
              "ticks": "outside"
             }
            },
            "type": "scatterpolar"
           }
          ],
          "scatterpolargl": [
           {
            "marker": {
             "colorbar": {
              "outlinewidth": 1,
              "tickcolor": "rgb(36,36,36)",
              "ticks": "outside"
             }
            },
            "type": "scatterpolargl"
           }
          ],
          "scatterternary": [
           {
            "marker": {
             "colorbar": {
              "outlinewidth": 1,
              "tickcolor": "rgb(36,36,36)",
              "ticks": "outside"
             }
            },
            "type": "scatterternary"
           }
          ],
          "surface": [
           {
            "colorbar": {
             "outlinewidth": 1,
             "tickcolor": "rgb(36,36,36)",
             "ticks": "outside"
            },
            "colorscale": [
             [
              0,
              "#440154"
             ],
             [
              0.1111111111111111,
              "#482878"
             ],
             [
              0.2222222222222222,
              "#3e4989"
             ],
             [
              0.3333333333333333,
              "#31688e"
             ],
             [
              0.4444444444444444,
              "#26828e"
             ],
             [
              0.5555555555555556,
              "#1f9e89"
             ],
             [
              0.6666666666666666,
              "#35b779"
             ],
             [
              0.7777777777777778,
              "#6ece58"
             ],
             [
              0.8888888888888888,
              "#b5de2b"
             ],
             [
              1,
              "#fde725"
             ]
            ],
            "type": "surface"
           }
          ],
          "table": [
           {
            "cells": {
             "fill": {
              "color": "rgb(237,237,237)"
             },
             "line": {
              "color": "white"
             }
            },
            "header": {
             "fill": {
              "color": "rgb(217,217,217)"
             },
             "line": {
              "color": "white"
             }
            },
            "type": "table"
           }
          ]
         },
         "layout": {
          "annotationdefaults": {
           "arrowhead": 0,
           "arrowwidth": 1
          },
          "autotypenumbers": "strict",
          "coloraxis": {
           "colorbar": {
            "outlinewidth": 1,
            "tickcolor": "rgb(36,36,36)",
            "ticks": "outside"
           }
          },
          "colorscale": {
           "diverging": [
            [
             0,
             "rgb(103,0,31)"
            ],
            [
             0.1,
             "rgb(178,24,43)"
            ],
            [
             0.2,
             "rgb(214,96,77)"
            ],
            [
             0.3,
             "rgb(244,165,130)"
            ],
            [
             0.4,
             "rgb(253,219,199)"
            ],
            [
             0.5,
             "rgb(247,247,247)"
            ],
            [
             0.6,
             "rgb(209,229,240)"
            ],
            [
             0.7,
             "rgb(146,197,222)"
            ],
            [
             0.8,
             "rgb(67,147,195)"
            ],
            [
             0.9,
             "rgb(33,102,172)"
            ],
            [
             1,
             "rgb(5,48,97)"
            ]
           ],
           "sequential": [
            [
             0,
             "#440154"
            ],
            [
             0.1111111111111111,
             "#482878"
            ],
            [
             0.2222222222222222,
             "#3e4989"
            ],
            [
             0.3333333333333333,
             "#31688e"
            ],
            [
             0.4444444444444444,
             "#26828e"
            ],
            [
             0.5555555555555556,
             "#1f9e89"
            ],
            [
             0.6666666666666666,
             "#35b779"
            ],
            [
             0.7777777777777778,
             "#6ece58"
            ],
            [
             0.8888888888888888,
             "#b5de2b"
            ],
            [
             1,
             "#fde725"
            ]
           ],
           "sequentialminus": [
            [
             0,
             "#440154"
            ],
            [
             0.1111111111111111,
             "#482878"
            ],
            [
             0.2222222222222222,
             "#3e4989"
            ],
            [
             0.3333333333333333,
             "#31688e"
            ],
            [
             0.4444444444444444,
             "#26828e"
            ],
            [
             0.5555555555555556,
             "#1f9e89"
            ],
            [
             0.6666666666666666,
             "#35b779"
            ],
            [
             0.7777777777777778,
             "#6ece58"
            ],
            [
             0.8888888888888888,
             "#b5de2b"
            ],
            [
             1,
             "#fde725"
            ]
           ]
          },
          "colorway": [
           "#1F77B4",
           "#FF7F0E",
           "#2CA02C",
           "#D62728",
           "#9467BD",
           "#8C564B",
           "#E377C2",
           "#7F7F7F",
           "#BCBD22",
           "#17BECF"
          ],
          "font": {
           "color": "rgb(36,36,36)"
          },
          "geo": {
           "bgcolor": "white",
           "lakecolor": "white",
           "landcolor": "white",
           "showlakes": true,
           "showland": true,
           "subunitcolor": "white"
          },
          "hoverlabel": {
           "align": "left"
          },
          "hovermode": "closest",
          "mapbox": {
           "style": "light"
          },
          "paper_bgcolor": "white",
          "plot_bgcolor": "white",
          "polar": {
           "angularaxis": {
            "gridcolor": "rgb(232,232,232)",
            "linecolor": "rgb(36,36,36)",
            "showgrid": false,
            "showline": true,
            "ticks": "outside"
           },
           "bgcolor": "white",
           "radialaxis": {
            "gridcolor": "rgb(232,232,232)",
            "linecolor": "rgb(36,36,36)",
            "showgrid": false,
            "showline": true,
            "ticks": "outside"
           }
          },
          "scene": {
           "xaxis": {
            "backgroundcolor": "white",
            "gridcolor": "rgb(232,232,232)",
            "gridwidth": 2,
            "linecolor": "rgb(36,36,36)",
            "showbackground": true,
            "showgrid": false,
            "showline": true,
            "ticks": "outside",
            "zeroline": false,
            "zerolinecolor": "rgb(36,36,36)"
           },
           "yaxis": {
            "backgroundcolor": "white",
            "gridcolor": "rgb(232,232,232)",
            "gridwidth": 2,
            "linecolor": "rgb(36,36,36)",
            "showbackground": true,
            "showgrid": false,
            "showline": true,
            "ticks": "outside",
            "zeroline": false,
            "zerolinecolor": "rgb(36,36,36)"
           },
           "zaxis": {
            "backgroundcolor": "white",
            "gridcolor": "rgb(232,232,232)",
            "gridwidth": 2,
            "linecolor": "rgb(36,36,36)",
            "showbackground": true,
            "showgrid": false,
            "showline": true,
            "ticks": "outside",
            "zeroline": false,
            "zerolinecolor": "rgb(36,36,36)"
           }
          },
          "shapedefaults": {
           "fillcolor": "black",
           "line": {
            "width": 0
           },
           "opacity": 0.3
          },
          "ternary": {
           "aaxis": {
            "gridcolor": "rgb(232,232,232)",
            "linecolor": "rgb(36,36,36)",
            "showgrid": false,
            "showline": true,
            "ticks": "outside"
           },
           "baxis": {
            "gridcolor": "rgb(232,232,232)",
            "linecolor": "rgb(36,36,36)",
            "showgrid": false,
            "showline": true,
            "ticks": "outside"
           },
           "bgcolor": "white",
           "caxis": {
            "gridcolor": "rgb(232,232,232)",
            "linecolor": "rgb(36,36,36)",
            "showgrid": false,
            "showline": true,
            "ticks": "outside"
           }
          },
          "title": {
           "x": 0.05
          },
          "xaxis": {
           "automargin": true,
           "gridcolor": "rgb(232,232,232)",
           "linecolor": "rgb(36,36,36)",
           "showgrid": false,
           "showline": true,
           "ticks": "outside",
           "title": {
            "standoff": 15
           },
           "zeroline": false,
           "zerolinecolor": "rgb(36,36,36)"
          },
          "yaxis": {
           "automargin": true,
           "gridcolor": "rgb(232,232,232)",
           "linecolor": "rgb(36,36,36)",
           "showgrid": false,
           "showline": true,
           "ticks": "outside",
           "title": {
            "standoff": 15
           },
           "zeroline": false,
           "zerolinecolor": "rgb(36,36,36)"
          }
         }
        },
        "title": {
         "text": "."
        },
        "xaxis": {
         "title": {
          "text": "Players"
         }
        },
        "yaxis": {
         "title": {
          "text": "Minutes"
         }
        }
       }
      }
     },
     "metadata": {},
     "output_type": "display_data"
    }
   ],
   "source": [
    "fig_minutes = go.Figure()\n",
    "\n",
    "fig_minutes.add_trace(go.Bar(\n",
    "    x=df_country.sort_values(by=\"minutes\", ascending=False).iloc[:10].player,\n",
    "    y=df_country.sort_values(by=\"minutes\", ascending=False).iloc[:10].minutes,\n",
    "    name='Valores de las barras'\n",
    "))\n",
    "\n",
    "fig_minutes.add_shape(type='line',\n",
    "              x0=-0.5, y0=df_country.sort_values(by=\"minutes\", ascending=False).iloc[:10].minutes.mean(),\n",
    "              x1=len(df_country.sort_values(by=\"minutes\", ascending=False).iloc[:10].player)-0.5, y1=df_country.sort_values(by=\"minutes\", ascending=False).iloc[:10].minutes.mean(),\n",
    "              line=dict(color='red', width=3))\n",
    "\n",
    "fig_minutes.update_layout(\n",
    "    title='.',\n",
    "    xaxis_title='Players',\n",
    "    yaxis_title='Minutes'\n",
    ")\n",
    "fig_minutes.update_layout(template='simple_white')\n",
    "fig_minutes.show()"
   ]
  },
  {
   "cell_type": "code",
<<<<<<< HEAD
   "execution_count": null,
=======
   "execution_count": 87,
>>>>>>> d20e0f0c979d08449127054dcb41934fa686c483
   "metadata": {},
   "outputs": [
    {
     "data": {
      "application/vnd.plotly.v1+json": {
       "config": {
        "plotlyServerURL": "https://plotly.com"
       },
       "data": [
        {
         "alignmentgroup": "True",
         "hovertemplate": "variable=%{x}<br>value=%{y}<extra></extra>",
         "legendgroup": "",
         "marker": {
          "color": "#636efa"
         },
         "name": "",
         "notched": false,
         "offsetgroup": "",
         "orientation": "v",
         "showlegend": false,
         "type": "box",
         "x": [
          "games",
          "games",
          "games",
          "games",
          "games",
          "games",
          "games",
          "games",
          "games",
          "games",
          "games",
          "games",
          "games",
          "games",
          "games",
          "games",
          "games",
          "games",
          "games",
          "games",
          "games",
          "games",
          "games",
          "games",
          "games_starts",
          "games_starts",
          "games_starts",
          "games_starts",
          "games_starts",
          "games_starts",
          "games_starts",
          "games_starts",
          "games_starts",
          "games_starts",
          "games_starts",
          "games_starts",
          "games_starts",
          "games_starts",
          "games_starts",
          "games_starts",
          "games_starts",
          "games_starts",
          "games_starts",
          "games_starts",
          "games_starts",
          "games_starts",
          "games_starts",
          "games_starts"
         ],
         "x0": " ",
         "xaxis": "x",
         "y": [
          6,
          7,
          7,
          7,
          3,
          3,
          4,
          1,
          1,
          7,
          6,
          5,
          7,
          5,
          6,
          7,
          7,
          6,
          2,
          2,
          7,
          1,
          1,
          5,
          6,
          6,
          7,
          5,
          0,
          0,
          1,
          1,
          0,
          5,
          2,
          2,
          7,
          2,
          4,
          6,
          7,
          3,
          2,
          0,
          7,
          0,
          0,
          4
         ],
         "y0": " ",
         "yaxis": "y"
        }
       ],
       "layout": {
        "boxmode": "group",
        "legend": {
         "tracegroupgap": 0
        },
        "margin": {
         "t": 60
        },
        "template": {
         "data": {
          "bar": [
           {
            "error_x": {
             "color": "#2a3f5f"
            },
            "error_y": {
             "color": "#2a3f5f"
            },
            "marker": {
             "line": {
              "color": "#E5ECF6",
              "width": 0.5
             },
             "pattern": {
              "fillmode": "overlay",
              "size": 10,
              "solidity": 0.2
             }
            },
            "type": "bar"
           }
          ],
          "barpolar": [
           {
            "marker": {
             "line": {
              "color": "#E5ECF6",
              "width": 0.5
             },
             "pattern": {
              "fillmode": "overlay",
              "size": 10,
              "solidity": 0.2
             }
            },
            "type": "barpolar"
           }
          ],
          "carpet": [
           {
            "aaxis": {
             "endlinecolor": "#2a3f5f",
             "gridcolor": "white",
             "linecolor": "white",
             "minorgridcolor": "white",
             "startlinecolor": "#2a3f5f"
            },
            "baxis": {
             "endlinecolor": "#2a3f5f",
             "gridcolor": "white",
             "linecolor": "white",
             "minorgridcolor": "white",
             "startlinecolor": "#2a3f5f"
            },
            "type": "carpet"
           }
          ],
          "choropleth": [
           {
            "colorbar": {
             "outlinewidth": 0,
             "ticks": ""
            },
            "type": "choropleth"
           }
          ],
          "contour": [
           {
            "colorbar": {
             "outlinewidth": 0,
             "ticks": ""
            },
            "colorscale": [
             [
              0,
              "#0d0887"
             ],
             [
              0.1111111111111111,
              "#46039f"
             ],
             [
              0.2222222222222222,
              "#7201a8"
             ],
             [
              0.3333333333333333,
              "#9c179e"
             ],
             [
              0.4444444444444444,
              "#bd3786"
             ],
             [
              0.5555555555555556,
              "#d8576b"
             ],
             [
              0.6666666666666666,
              "#ed7953"
             ],
             [
              0.7777777777777778,
              "#fb9f3a"
             ],
             [
              0.8888888888888888,
              "#fdca26"
             ],
             [
              1,
              "#f0f921"
             ]
            ],
            "type": "contour"
           }
          ],
          "contourcarpet": [
           {
            "colorbar": {
             "outlinewidth": 0,
             "ticks": ""
            },
            "type": "contourcarpet"
           }
          ],
          "heatmap": [
           {
            "colorbar": {
             "outlinewidth": 0,
             "ticks": ""
            },
            "colorscale": [
             [
              0,
              "#0d0887"
             ],
             [
              0.1111111111111111,
              "#46039f"
             ],
             [
              0.2222222222222222,
              "#7201a8"
             ],
             [
              0.3333333333333333,
              "#9c179e"
             ],
             [
              0.4444444444444444,
              "#bd3786"
             ],
             [
              0.5555555555555556,
              "#d8576b"
             ],
             [
              0.6666666666666666,
              "#ed7953"
             ],
             [
              0.7777777777777778,
              "#fb9f3a"
             ],
             [
              0.8888888888888888,
              "#fdca26"
             ],
             [
              1,
              "#f0f921"
             ]
            ],
            "type": "heatmap"
           }
          ],
          "heatmapgl": [
           {
            "colorbar": {
             "outlinewidth": 0,
             "ticks": ""
            },
            "colorscale": [
             [
              0,
              "#0d0887"
             ],
             [
              0.1111111111111111,
              "#46039f"
             ],
             [
              0.2222222222222222,
              "#7201a8"
             ],
             [
              0.3333333333333333,
              "#9c179e"
             ],
             [
              0.4444444444444444,
              "#bd3786"
             ],
             [
              0.5555555555555556,
              "#d8576b"
             ],
             [
              0.6666666666666666,
              "#ed7953"
             ],
             [
              0.7777777777777778,
              "#fb9f3a"
             ],
             [
              0.8888888888888888,
              "#fdca26"
             ],
             [
              1,
              "#f0f921"
             ]
            ],
            "type": "heatmapgl"
           }
          ],
          "histogram": [
           {
            "marker": {
             "pattern": {
              "fillmode": "overlay",
              "size": 10,
              "solidity": 0.2
             }
            },
            "type": "histogram"
           }
          ],
          "histogram2d": [
           {
            "colorbar": {
             "outlinewidth": 0,
             "ticks": ""
            },
            "colorscale": [
             [
              0,
              "#0d0887"
             ],
             [
              0.1111111111111111,
              "#46039f"
             ],
             [
              0.2222222222222222,
              "#7201a8"
             ],
             [
              0.3333333333333333,
              "#9c179e"
             ],
             [
              0.4444444444444444,
              "#bd3786"
             ],
             [
              0.5555555555555556,
              "#d8576b"
             ],
             [
              0.6666666666666666,
              "#ed7953"
             ],
             [
              0.7777777777777778,
              "#fb9f3a"
             ],
             [
              0.8888888888888888,
              "#fdca26"
             ],
             [
              1,
              "#f0f921"
             ]
            ],
            "type": "histogram2d"
           }
          ],
          "histogram2dcontour": [
           {
            "colorbar": {
             "outlinewidth": 0,
             "ticks": ""
            },
            "colorscale": [
             [
              0,
              "#0d0887"
             ],
             [
              0.1111111111111111,
              "#46039f"
             ],
             [
              0.2222222222222222,
              "#7201a8"
             ],
             [
              0.3333333333333333,
              "#9c179e"
             ],
             [
              0.4444444444444444,
              "#bd3786"
             ],
             [
              0.5555555555555556,
              "#d8576b"
             ],
             [
              0.6666666666666666,
              "#ed7953"
             ],
             [
              0.7777777777777778,
              "#fb9f3a"
             ],
             [
              0.8888888888888888,
              "#fdca26"
             ],
             [
              1,
              "#f0f921"
             ]
            ],
            "type": "histogram2dcontour"
           }
          ],
          "mesh3d": [
           {
            "colorbar": {
             "outlinewidth": 0,
             "ticks": ""
            },
            "type": "mesh3d"
           }
          ],
          "parcoords": [
           {
            "line": {
             "colorbar": {
              "outlinewidth": 0,
              "ticks": ""
             }
            },
            "type": "parcoords"
           }
          ],
          "pie": [
           {
            "automargin": true,
            "type": "pie"
           }
          ],
          "scatter": [
           {
            "fillpattern": {
             "fillmode": "overlay",
             "size": 10,
             "solidity": 0.2
            },
            "type": "scatter"
           }
          ],
          "scatter3d": [
           {
            "line": {
             "colorbar": {
              "outlinewidth": 0,
              "ticks": ""
             }
            },
            "marker": {
             "colorbar": {
              "outlinewidth": 0,
              "ticks": ""
             }
            },
            "type": "scatter3d"
           }
          ],
          "scattercarpet": [
           {
            "marker": {
             "colorbar": {
              "outlinewidth": 0,
              "ticks": ""
             }
            },
            "type": "scattercarpet"
           }
          ],
          "scattergeo": [
           {
            "marker": {
             "colorbar": {
              "outlinewidth": 0,
              "ticks": ""
             }
            },
            "type": "scattergeo"
           }
          ],
          "scattergl": [
           {
            "marker": {
             "colorbar": {
              "outlinewidth": 0,
              "ticks": ""
             }
            },
            "type": "scattergl"
           }
          ],
          "scattermapbox": [
           {
            "marker": {
             "colorbar": {
              "outlinewidth": 0,
              "ticks": ""
             }
            },
            "type": "scattermapbox"
           }
          ],
          "scatterpolar": [
           {
            "marker": {
             "colorbar": {
              "outlinewidth": 0,
              "ticks": ""
             }
            },
            "type": "scatterpolar"
           }
          ],
          "scatterpolargl": [
           {
            "marker": {
             "colorbar": {
              "outlinewidth": 0,
              "ticks": ""
             }
            },
            "type": "scatterpolargl"
           }
          ],
          "scatterternary": [
           {
            "marker": {
             "colorbar": {
              "outlinewidth": 0,
              "ticks": ""
             }
            },
            "type": "scatterternary"
           }
          ],
          "surface": [
           {
            "colorbar": {
             "outlinewidth": 0,
             "ticks": ""
            },
            "colorscale": [
             [
              0,
              "#0d0887"
             ],
             [
              0.1111111111111111,
              "#46039f"
             ],
             [
              0.2222222222222222,
              "#7201a8"
             ],
             [
              0.3333333333333333,
              "#9c179e"
             ],
             [
              0.4444444444444444,
              "#bd3786"
             ],
             [
              0.5555555555555556,
              "#d8576b"
             ],
             [
              0.6666666666666666,
              "#ed7953"
             ],
             [
              0.7777777777777778,
              "#fb9f3a"
             ],
             [
              0.8888888888888888,
              "#fdca26"
             ],
             [
              1,
              "#f0f921"
             ]
            ],
            "type": "surface"
           }
          ],
          "table": [
           {
            "cells": {
             "fill": {
              "color": "#EBF0F8"
             },
             "line": {
              "color": "white"
             }
            },
            "header": {
             "fill": {
              "color": "#C8D4E3"
             },
             "line": {
              "color": "white"
             }
            },
            "type": "table"
           }
          ]
         },
         "layout": {
          "annotationdefaults": {
           "arrowcolor": "#2a3f5f",
           "arrowhead": 0,
           "arrowwidth": 1
          },
          "autotypenumbers": "strict",
          "coloraxis": {
           "colorbar": {
            "outlinewidth": 0,
            "ticks": ""
           }
          },
          "colorscale": {
           "diverging": [
            [
             0,
             "#8e0152"
            ],
            [
             0.1,
             "#c51b7d"
            ],
            [
             0.2,
             "#de77ae"
            ],
            [
             0.3,
             "#f1b6da"
            ],
            [
             0.4,
             "#fde0ef"
            ],
            [
             0.5,
             "#f7f7f7"
            ],
            [
             0.6,
             "#e6f5d0"
            ],
            [
             0.7,
             "#b8e186"
            ],
            [
             0.8,
             "#7fbc41"
            ],
            [
             0.9,
             "#4d9221"
            ],
            [
             1,
             "#276419"
            ]
           ],
           "sequential": [
            [
             0,
             "#0d0887"
            ],
            [
             0.1111111111111111,
             "#46039f"
            ],
            [
             0.2222222222222222,
             "#7201a8"
            ],
            [
             0.3333333333333333,
             "#9c179e"
            ],
            [
             0.4444444444444444,
             "#bd3786"
            ],
            [
             0.5555555555555556,
             "#d8576b"
            ],
            [
             0.6666666666666666,
             "#ed7953"
            ],
            [
             0.7777777777777778,
             "#fb9f3a"
            ],
            [
             0.8888888888888888,
             "#fdca26"
            ],
            [
             1,
             "#f0f921"
            ]
           ],
           "sequentialminus": [
            [
             0,
             "#0d0887"
            ],
            [
             0.1111111111111111,
             "#46039f"
            ],
            [
             0.2222222222222222,
             "#7201a8"
            ],
            [
             0.3333333333333333,
             "#9c179e"
            ],
            [
             0.4444444444444444,
             "#bd3786"
            ],
            [
             0.5555555555555556,
             "#d8576b"
            ],
            [
             0.6666666666666666,
             "#ed7953"
            ],
            [
             0.7777777777777778,
             "#fb9f3a"
            ],
            [
             0.8888888888888888,
             "#fdca26"
            ],
            [
             1,
             "#f0f921"
            ]
           ]
          },
          "colorway": [
           "#636efa",
           "#EF553B",
           "#00cc96",
           "#ab63fa",
           "#FFA15A",
           "#19d3f3",
           "#FF6692",
           "#B6E880",
           "#FF97FF",
           "#FECB52"
          ],
          "font": {
           "color": "#2a3f5f"
          },
          "geo": {
           "bgcolor": "white",
           "lakecolor": "white",
           "landcolor": "#E5ECF6",
           "showlakes": true,
           "showland": true,
           "subunitcolor": "white"
          },
          "hoverlabel": {
           "align": "left"
          },
          "hovermode": "closest",
          "mapbox": {
           "style": "light"
          },
          "paper_bgcolor": "white",
          "plot_bgcolor": "#E5ECF6",
          "polar": {
           "angularaxis": {
            "gridcolor": "white",
            "linecolor": "white",
            "ticks": ""
           },
           "bgcolor": "#E5ECF6",
           "radialaxis": {
            "gridcolor": "white",
            "linecolor": "white",
            "ticks": ""
           }
          },
          "scene": {
           "xaxis": {
            "backgroundcolor": "#E5ECF6",
            "gridcolor": "white",
            "gridwidth": 2,
            "linecolor": "white",
            "showbackground": true,
            "ticks": "",
            "zerolinecolor": "white"
           },
           "yaxis": {
            "backgroundcolor": "#E5ECF6",
            "gridcolor": "white",
            "gridwidth": 2,
            "linecolor": "white",
            "showbackground": true,
            "ticks": "",
            "zerolinecolor": "white"
           },
           "zaxis": {
            "backgroundcolor": "#E5ECF6",
            "gridcolor": "white",
            "gridwidth": 2,
            "linecolor": "white",
            "showbackground": true,
            "ticks": "",
            "zerolinecolor": "white"
           }
          },
          "shapedefaults": {
           "line": {
            "color": "#2a3f5f"
           }
          },
          "ternary": {
           "aaxis": {
            "gridcolor": "white",
            "linecolor": "white",
            "ticks": ""
           },
           "baxis": {
            "gridcolor": "white",
            "linecolor": "white",
            "ticks": ""
           },
           "bgcolor": "#E5ECF6",
           "caxis": {
            "gridcolor": "white",
            "linecolor": "white",
            "ticks": ""
           }
          },
          "title": {
           "x": 0.05
          },
          "xaxis": {
           "automargin": true,
           "gridcolor": "white",
           "linecolor": "white",
           "ticks": "",
           "title": {
            "standoff": 15
           },
           "zerolinecolor": "white",
           "zerolinewidth": 2
          },
          "yaxis": {
           "automargin": true,
           "gridcolor": "white",
           "linecolor": "white",
           "ticks": "",
           "title": {
            "standoff": 15
           },
           "zerolinecolor": "white",
           "zerolinewidth": 2
          }
         }
        },
        "xaxis": {
         "anchor": "y",
         "domain": [
          0,
          1
         ],
         "title": {
          "text": "variable"
         }
        },
        "yaxis": {
         "anchor": "x",
         "domain": [
          0,
          1
         ],
         "title": {
          "text": "value"
         }
        }
       }
      }
     },
     "metadata": {},
     "output_type": "display_data"
    }
   ],
   "source": [
    "fig = px.box(df_country, y=['games', 'games_starts'])\n",
    "fig.show()"
   ]
  },
  {
   "cell_type": "code",
<<<<<<< HEAD
   "execution_count": null,
=======
   "execution_count": 88,
>>>>>>> d20e0f0c979d08449127054dcb41934fa686c483
   "metadata": {},
   "outputs": [
    {
     "data": {
      "application/vnd.plotly.v1+json": {
       "config": {
        "plotlyServerURL": "https://plotly.com"
       },
       "data": [
        {
         "alignmentgroup": "True",
         "hovertemplate": "variable=%{x}<br>value=%{y}<extra></extra>",
         "legendgroup": "",
         "marker": {
          "color": "#636efa"
         },
         "name": "",
         "notched": false,
         "offsetgroup": "",
         "orientation": "v",
         "showlegend": false,
         "type": "box",
         "x": [
          "minutes",
          "minutes",
          "minutes",
          "minutes",
          "minutes",
          "minutes",
          "minutes",
          "minutes",
          "minutes",
          "minutes",
          "minutes",
          "minutes",
          "minutes",
          "minutes",
          "minutes",
          "minutes",
          "minutes",
          "minutes",
          "minutes",
          "minutes",
          "minutes",
          "minutes",
          "minutes",
          "minutes"
         ],
         "x0": " ",
         "xaxis": "x",
         "y": [
          550,
          547,
          690,
          564,
          50,
          60,
          118,
          56,
          5,
          464,
          241,
          225,
          690,
          303,
          373,
          567,
          690,
          373,
          107,
          18,
          599,
          7,
          5,
          288
         ],
         "y0": " ",
         "yaxis": "y"
        }
       ],
       "layout": {
        "boxmode": "group",
        "legend": {
         "tracegroupgap": 0
        },
        "margin": {
         "t": 60
        },
        "template": {
         "data": {
          "bar": [
           {
            "error_x": {
             "color": "#2a3f5f"
            },
            "error_y": {
             "color": "#2a3f5f"
            },
            "marker": {
             "line": {
              "color": "#E5ECF6",
              "width": 0.5
             },
             "pattern": {
              "fillmode": "overlay",
              "size": 10,
              "solidity": 0.2
             }
            },
            "type": "bar"
           }
          ],
          "barpolar": [
           {
            "marker": {
             "line": {
              "color": "#E5ECF6",
              "width": 0.5
             },
             "pattern": {
              "fillmode": "overlay",
              "size": 10,
              "solidity": 0.2
             }
            },
            "type": "barpolar"
           }
          ],
          "carpet": [
           {
            "aaxis": {
             "endlinecolor": "#2a3f5f",
             "gridcolor": "white",
             "linecolor": "white",
             "minorgridcolor": "white",
             "startlinecolor": "#2a3f5f"
            },
            "baxis": {
             "endlinecolor": "#2a3f5f",
             "gridcolor": "white",
             "linecolor": "white",
             "minorgridcolor": "white",
             "startlinecolor": "#2a3f5f"
            },
            "type": "carpet"
           }
          ],
          "choropleth": [
           {
            "colorbar": {
             "outlinewidth": 0,
             "ticks": ""
            },
            "type": "choropleth"
           }
          ],
          "contour": [
           {
            "colorbar": {
             "outlinewidth": 0,
             "ticks": ""
            },
            "colorscale": [
             [
              0,
              "#0d0887"
             ],
             [
              0.1111111111111111,
              "#46039f"
             ],
             [
              0.2222222222222222,
              "#7201a8"
             ],
             [
              0.3333333333333333,
              "#9c179e"
             ],
             [
              0.4444444444444444,
              "#bd3786"
             ],
             [
              0.5555555555555556,
              "#d8576b"
             ],
             [
              0.6666666666666666,
              "#ed7953"
             ],
             [
              0.7777777777777778,
              "#fb9f3a"
             ],
             [
              0.8888888888888888,
              "#fdca26"
             ],
             [
              1,
              "#f0f921"
             ]
            ],
            "type": "contour"
           }
          ],
          "contourcarpet": [
           {
            "colorbar": {
             "outlinewidth": 0,
             "ticks": ""
            },
            "type": "contourcarpet"
           }
          ],
          "heatmap": [
           {
            "colorbar": {
             "outlinewidth": 0,
             "ticks": ""
            },
            "colorscale": [
             [
              0,
              "#0d0887"
             ],
             [
              0.1111111111111111,
              "#46039f"
             ],
             [
              0.2222222222222222,
              "#7201a8"
             ],
             [
              0.3333333333333333,
              "#9c179e"
             ],
             [
              0.4444444444444444,
              "#bd3786"
             ],
             [
              0.5555555555555556,
              "#d8576b"
             ],
             [
              0.6666666666666666,
              "#ed7953"
             ],
             [
              0.7777777777777778,
              "#fb9f3a"
             ],
             [
              0.8888888888888888,
              "#fdca26"
             ],
             [
              1,
              "#f0f921"
             ]
            ],
            "type": "heatmap"
           }
          ],
          "heatmapgl": [
           {
            "colorbar": {
             "outlinewidth": 0,
             "ticks": ""
            },
            "colorscale": [
             [
              0,
              "#0d0887"
             ],
             [
              0.1111111111111111,
              "#46039f"
             ],
             [
              0.2222222222222222,
              "#7201a8"
             ],
             [
              0.3333333333333333,
              "#9c179e"
             ],
             [
              0.4444444444444444,
              "#bd3786"
             ],
             [
              0.5555555555555556,
              "#d8576b"
             ],
             [
              0.6666666666666666,
              "#ed7953"
             ],
             [
              0.7777777777777778,
              "#fb9f3a"
             ],
             [
              0.8888888888888888,
              "#fdca26"
             ],
             [
              1,
              "#f0f921"
             ]
            ],
            "type": "heatmapgl"
           }
          ],
          "histogram": [
           {
            "marker": {
             "pattern": {
              "fillmode": "overlay",
              "size": 10,
              "solidity": 0.2
             }
            },
            "type": "histogram"
           }
          ],
          "histogram2d": [
           {
            "colorbar": {
             "outlinewidth": 0,
             "ticks": ""
            },
            "colorscale": [
             [
              0,
              "#0d0887"
             ],
             [
              0.1111111111111111,
              "#46039f"
             ],
             [
              0.2222222222222222,
              "#7201a8"
             ],
             [
              0.3333333333333333,
              "#9c179e"
             ],
             [
              0.4444444444444444,
              "#bd3786"
             ],
             [
              0.5555555555555556,
              "#d8576b"
             ],
             [
              0.6666666666666666,
              "#ed7953"
             ],
             [
              0.7777777777777778,
              "#fb9f3a"
             ],
             [
              0.8888888888888888,
              "#fdca26"
             ],
             [
              1,
              "#f0f921"
             ]
            ],
            "type": "histogram2d"
           }
          ],
          "histogram2dcontour": [
           {
            "colorbar": {
             "outlinewidth": 0,
             "ticks": ""
            },
            "colorscale": [
             [
              0,
              "#0d0887"
             ],
             [
              0.1111111111111111,
              "#46039f"
             ],
             [
              0.2222222222222222,
              "#7201a8"
             ],
             [
              0.3333333333333333,
              "#9c179e"
             ],
             [
              0.4444444444444444,
              "#bd3786"
             ],
             [
              0.5555555555555556,
              "#d8576b"
             ],
             [
              0.6666666666666666,
              "#ed7953"
             ],
             [
              0.7777777777777778,
              "#fb9f3a"
             ],
             [
              0.8888888888888888,
              "#fdca26"
             ],
             [
              1,
              "#f0f921"
             ]
            ],
            "type": "histogram2dcontour"
           }
          ],
          "mesh3d": [
           {
            "colorbar": {
             "outlinewidth": 0,
             "ticks": ""
            },
            "type": "mesh3d"
           }
          ],
          "parcoords": [
           {
            "line": {
             "colorbar": {
              "outlinewidth": 0,
              "ticks": ""
             }
            },
            "type": "parcoords"
           }
          ],
          "pie": [
           {
            "automargin": true,
            "type": "pie"
           }
          ],
          "scatter": [
           {
            "fillpattern": {
             "fillmode": "overlay",
             "size": 10,
             "solidity": 0.2
            },
            "type": "scatter"
           }
          ],
          "scatter3d": [
           {
            "line": {
             "colorbar": {
              "outlinewidth": 0,
              "ticks": ""
             }
            },
            "marker": {
             "colorbar": {
              "outlinewidth": 0,
              "ticks": ""
             }
            },
            "type": "scatter3d"
           }
          ],
          "scattercarpet": [
           {
            "marker": {
             "colorbar": {
              "outlinewidth": 0,
              "ticks": ""
             }
            },
            "type": "scattercarpet"
           }
          ],
          "scattergeo": [
           {
            "marker": {
             "colorbar": {
              "outlinewidth": 0,
              "ticks": ""
             }
            },
            "type": "scattergeo"
           }
          ],
          "scattergl": [
           {
            "marker": {
             "colorbar": {
              "outlinewidth": 0,
              "ticks": ""
             }
            },
            "type": "scattergl"
           }
          ],
          "scattermapbox": [
           {
            "marker": {
             "colorbar": {
              "outlinewidth": 0,
              "ticks": ""
             }
            },
            "type": "scattermapbox"
           }
          ],
          "scatterpolar": [
           {
            "marker": {
             "colorbar": {
              "outlinewidth": 0,
              "ticks": ""
             }
            },
            "type": "scatterpolar"
           }
          ],
          "scatterpolargl": [
           {
            "marker": {
             "colorbar": {
              "outlinewidth": 0,
              "ticks": ""
             }
            },
            "type": "scatterpolargl"
           }
          ],
          "scatterternary": [
           {
            "marker": {
             "colorbar": {
              "outlinewidth": 0,
              "ticks": ""
             }
            },
            "type": "scatterternary"
           }
          ],
          "surface": [
           {
            "colorbar": {
             "outlinewidth": 0,
             "ticks": ""
            },
            "colorscale": [
             [
              0,
              "#0d0887"
             ],
             [
              0.1111111111111111,
              "#46039f"
             ],
             [
              0.2222222222222222,
              "#7201a8"
             ],
             [
              0.3333333333333333,
              "#9c179e"
             ],
             [
              0.4444444444444444,
              "#bd3786"
             ],
             [
              0.5555555555555556,
              "#d8576b"
             ],
             [
              0.6666666666666666,
              "#ed7953"
             ],
             [
              0.7777777777777778,
              "#fb9f3a"
             ],
             [
              0.8888888888888888,
              "#fdca26"
             ],
             [
              1,
              "#f0f921"
             ]
            ],
            "type": "surface"
           }
          ],
          "table": [
           {
            "cells": {
             "fill": {
              "color": "#EBF0F8"
             },
             "line": {
              "color": "white"
             }
            },
            "header": {
             "fill": {
              "color": "#C8D4E3"
             },
             "line": {
              "color": "white"
             }
            },
            "type": "table"
           }
          ]
         },
         "layout": {
          "annotationdefaults": {
           "arrowcolor": "#2a3f5f",
           "arrowhead": 0,
           "arrowwidth": 1
          },
          "autotypenumbers": "strict",
          "coloraxis": {
           "colorbar": {
            "outlinewidth": 0,
            "ticks": ""
           }
          },
          "colorscale": {
           "diverging": [
            [
             0,
             "#8e0152"
            ],
            [
             0.1,
             "#c51b7d"
            ],
            [
             0.2,
             "#de77ae"
            ],
            [
             0.3,
             "#f1b6da"
            ],
            [
             0.4,
             "#fde0ef"
            ],
            [
             0.5,
             "#f7f7f7"
            ],
            [
             0.6,
             "#e6f5d0"
            ],
            [
             0.7,
             "#b8e186"
            ],
            [
             0.8,
             "#7fbc41"
            ],
            [
             0.9,
             "#4d9221"
            ],
            [
             1,
             "#276419"
            ]
           ],
           "sequential": [
            [
             0,
             "#0d0887"
            ],
            [
             0.1111111111111111,
             "#46039f"
            ],
            [
             0.2222222222222222,
             "#7201a8"
            ],
            [
             0.3333333333333333,
             "#9c179e"
            ],
            [
             0.4444444444444444,
             "#bd3786"
            ],
            [
             0.5555555555555556,
             "#d8576b"
            ],
            [
             0.6666666666666666,
             "#ed7953"
            ],
            [
             0.7777777777777778,
             "#fb9f3a"
            ],
            [
             0.8888888888888888,
             "#fdca26"
            ],
            [
             1,
             "#f0f921"
            ]
           ],
           "sequentialminus": [
            [
             0,
             "#0d0887"
            ],
            [
             0.1111111111111111,
             "#46039f"
            ],
            [
             0.2222222222222222,
             "#7201a8"
            ],
            [
             0.3333333333333333,
             "#9c179e"
            ],
            [
             0.4444444444444444,
             "#bd3786"
            ],
            [
             0.5555555555555556,
             "#d8576b"
            ],
            [
             0.6666666666666666,
             "#ed7953"
            ],
            [
             0.7777777777777778,
             "#fb9f3a"
            ],
            [
             0.8888888888888888,
             "#fdca26"
            ],
            [
             1,
             "#f0f921"
            ]
           ]
          },
          "colorway": [
           "#636efa",
           "#EF553B",
           "#00cc96",
           "#ab63fa",
           "#FFA15A",
           "#19d3f3",
           "#FF6692",
           "#B6E880",
           "#FF97FF",
           "#FECB52"
          ],
          "font": {
           "color": "#2a3f5f"
          },
          "geo": {
           "bgcolor": "white",
           "lakecolor": "white",
           "landcolor": "#E5ECF6",
           "showlakes": true,
           "showland": true,
           "subunitcolor": "white"
          },
          "hoverlabel": {
           "align": "left"
          },
          "hovermode": "closest",
          "mapbox": {
           "style": "light"
          },
          "paper_bgcolor": "white",
          "plot_bgcolor": "#E5ECF6",
          "polar": {
           "angularaxis": {
            "gridcolor": "white",
            "linecolor": "white",
            "ticks": ""
           },
           "bgcolor": "#E5ECF6",
           "radialaxis": {
            "gridcolor": "white",
            "linecolor": "white",
            "ticks": ""
           }
          },
          "scene": {
           "xaxis": {
            "backgroundcolor": "#E5ECF6",
            "gridcolor": "white",
            "gridwidth": 2,
            "linecolor": "white",
            "showbackground": true,
            "ticks": "",
            "zerolinecolor": "white"
           },
           "yaxis": {
            "backgroundcolor": "#E5ECF6",
            "gridcolor": "white",
            "gridwidth": 2,
            "linecolor": "white",
            "showbackground": true,
            "ticks": "",
            "zerolinecolor": "white"
           },
           "zaxis": {
            "backgroundcolor": "#E5ECF6",
            "gridcolor": "white",
            "gridwidth": 2,
            "linecolor": "white",
            "showbackground": true,
            "ticks": "",
            "zerolinecolor": "white"
           }
          },
          "shapedefaults": {
           "line": {
            "color": "#2a3f5f"
           }
          },
          "ternary": {
           "aaxis": {
            "gridcolor": "white",
            "linecolor": "white",
            "ticks": ""
           },
           "baxis": {
            "gridcolor": "white",
            "linecolor": "white",
            "ticks": ""
           },
           "bgcolor": "#E5ECF6",
           "caxis": {
            "gridcolor": "white",
            "linecolor": "white",
            "ticks": ""
           }
          },
          "title": {
           "x": 0.05
          },
          "xaxis": {
           "automargin": true,
           "gridcolor": "white",
           "linecolor": "white",
           "ticks": "",
           "title": {
            "standoff": 15
           },
           "zerolinecolor": "white",
           "zerolinewidth": 2
          },
          "yaxis": {
           "automargin": true,
           "gridcolor": "white",
           "linecolor": "white",
           "ticks": "",
           "title": {
            "standoff": 15
           },
           "zerolinecolor": "white",
           "zerolinewidth": 2
          }
         }
        },
        "xaxis": {
         "anchor": "y",
         "domain": [
          0,
          1
         ],
         "title": {
          "text": "variable"
         }
        },
        "yaxis": {
         "anchor": "x",
         "domain": [
          0,
          1
         ],
         "title": {
          "text": "value"
         }
        }
       }
      }
     },
     "metadata": {},
     "output_type": "display_data"
    }
   ],
   "source": [
    "fig = px.box(df_country, y=['minutes'])\n",
    "fig.show()"
   ]
  },
  {
   "cell_type": "code",
<<<<<<< HEAD
   "execution_count": null,
=======
   "execution_count": 89,
>>>>>>> d20e0f0c979d08449127054dcb41934fa686c483
   "metadata": {},
   "outputs": [
    {
     "data": {
      "text/plain": [
       "0.625"
      ]
     },
     "execution_count": 89,
     "metadata": {},
     "output_type": "execute_result"
    }
   ],
   "source": [
    "df_country.goals.mean()"
   ]
  },
  {
   "attachments": {},
   "cell_type": "markdown",
   "metadata": {},
   "source": [
    "## Match "
   ]
  },
  {
   "cell_type": "code",
<<<<<<< HEAD
   "execution_count": null,
=======
   "execution_count": 90,
>>>>>>> d20e0f0c979d08449127054dcb41934fa686c483
   "metadata": {},
   "outputs": [
    {
     "data": {
      "text/plain": [
       "Index(['match_no', 'day_of_week', 'date', 'hour', 'venue', 'referee', 'group',\n",
       "       '1', '2', 'attendance', '1_xg', '2_xg', '1_poss', '2_poss', '1_goals',\n",
       "       '2_goals', 'score', '1_attempts', '2_attempts', '1_conceded',\n",
       "       '2_conceded', '1_goal_inside_penalty_area',\n",
       "       '2_goal_inside_penalty_area', '1_goal_outside_penalty_area',\n",
       "       '2_goal_outside_penalty_area', '1_ontarget', '2_ontarget',\n",
       "       '1_offtarget', '2_offtarget', '1_attempts_inside_penalty_area',\n",
       "       '2_attempts_inside_penalty_area', '1_attempts_outside_penalty_area',\n",
       "       '2_attempts_outside_penalty_area', '1_yellow_cards', '2_yellow_cards',\n",
       "       '1_red_cards', '2_red_cards', 'faul_against_1', 'faul_against_2',\n",
       "       '1_offsides', '2_offsides', '1_passes', '2_passes',\n",
       "       '1_passes_compeletd', '2_passes_compeletd', '1_corners', '2_corners',\n",
       "       '1_free_kicks', '2_free_kicks', '1_panelties_scored',\n",
       "       '2_panelties_scored', '1_goal_prevented', '2_goal_prevented',\n",
       "       '1_own_goal', '2_own_goal', '1_forced_turnovers', '2_forced_turnovers',\n",
       "       '1_defensive_pressure_applied', '2_defensive_pressure_applied'],\n",
       "      dtype='object', name=0)"
      ]
     },
     "execution_count": 90,
     "metadata": {},
     "output_type": "execute_result"
    }
   ],
   "source": [
    "matches_fifa_wc2022.replace(\"Saudi Arabia\",\"Saudi_Arabia\",inplace=True)\n",
    "matches_fifa_wc2022.columns"
   ]
  },
  {
   "cell_type": "code",
<<<<<<< HEAD
   "execution_count": null,
=======
   "execution_count": 91,
>>>>>>> d20e0f0c979d08449127054dcb41934fa686c483
   "metadata": {},
   "outputs": [
    {
     "data": {
      "text/plain": [
       "7"
      ]
     },
     "execution_count": 91,
     "metadata": {},
     "output_type": "execute_result"
    }
   ],
   "source": [
    "df_argentina = matches_fifa_wc2022[(matches_fifa_wc2022['1'] == 'Argentina') | (matches_fifa_wc2022['2'] == 'Argentina')] \n",
    "len(df_argentina)"
   ]
  },
  {
   "cell_type": "code",
<<<<<<< HEAD
   "execution_count": null,
=======
   "execution_count": 92,
>>>>>>> d20e0f0c979d08449127054dcb41934fa686c483
   "metadata": {},
   "outputs": [
    {
     "data": {
      "text/plain": [
       "array(['Group A', 'Group B', 'Group C', 'Group D', 'Group F', 'Group E',\n",
       "       'Group G', 'Group H', 'Round of 16', 'Quarter-final', 'Semi-Final',\n",
       "       'Play-off for third place', 'Final'], dtype=object)"
      ]
     },
     "execution_count": 92,
     "metadata": {},
     "output_type": "execute_result"
    }
   ],
   "source": [
    "matches_fifa_wc2022.group.unique()"
   ]
  }
 ],
 "metadata": {
  "kernelspec": {
   "display_name": "espol_env",
   "language": "python",
   "name": "python3"
  },
  "language_info": {
   "codemirror_mode": {
    "name": "ipython",
    "version": 3
   },
   "file_extension": ".py",
   "mimetype": "text/x-python",
   "name": "python",
   "nbconvert_exporter": "python",
   "pygments_lexer": "ipython3",
   "version": "3.11.3"
  },
  "orig_nbformat": 4
 },
 "nbformat": 4,
 "nbformat_minor": 2
}
