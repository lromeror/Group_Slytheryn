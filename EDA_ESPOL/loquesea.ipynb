{
 "cells": [
  {
   "attachments": {},
   "cell_type": "markdown",
   "metadata": {},
   "source": [
    "### DOCENTES\n",
    "Hay un total de 32 docentes\n",
    "\n",
    "* El docente NAME015 solo tiene CIENCIAS DE LA SOSTENIBILIDAD, con 1 paralelo, solo teórico\n",
    "* El docente NAME003 solo tiene TÉCNICAS DIETÉTICAS, con 3 paralelos: 1 paralelo teorico y 2 paralelos practicos\n",
    "* La mayoria de los docentes (con excepción de NAME 015, NAME031, NAME032), dan clases en el paralelo práctico y teórico. \n",
    "* En las materias PRINCIPIOS DE ELECTRÓNICA\t Y SISTEMAS DIGITALES I\texisten 2 profesores para el paralelo práctico, uno de ellos imparte la clase teórica también."
   ]
  },
  {
   "cell_type": "code",
   "execution_count": null,
   "metadata": {},
   "outputs": [],
   "source": [
    "df_filter2 = df_H_p[['UNIDAD', 'NOMBRE', 'BLOQUE', 'PARALELO', 'DOCENTE', 'CLASE', 'CUPOPLANIFICADO']].groupby(['UNIDAD', 'NOMBRE', 'BLOQUE', 'PARALELO', 'DOCENTE', 'CLASE', 'CUPOPLANIFICADO'], as_index=False).count()\n"
   ]
  },
  {
   "attachments": {},
   "cell_type": "markdown",
   "metadata": {},
   "source": [
    "Carga horaria\n"
   ]
  },
  {
   "cell_type": "code",
   "execution_count": null,
   "metadata": {},
   "outputs": [],
   "source": [
    "df_filter3 =  df_H_p[['UNIDAD', 'NOMBRE', 'BLOQUE', 'PARALELO', 'DOCENTE', 'CLASE', 'CUPOPLANIFICADO','DIA', 'DURACION']].groupby(['UNIDAD', 'NOMBRE', 'BLOQUE', 'PARALELO', 'DOCENTE', 'CLASE', 'CUPOPLANIFICADO', 'DIA', 'DURACION'], as_index=False).count()"
   ]
  },
  {
   "cell_type": "code",
   "execution_count": null,
   "metadata": {},
   "outputs": [],
   "source": [
    "def transform_todeltatime(df, column):\n",
    "    L = []\n",
    "    for i in df[column]:\n",
    "        time_obj = dt.datetime.strptime(i, '%H:%M:%S').time()\n",
    "        delta_obj = dt.timedelta(hours=time_obj.hour, minutes=time_obj.minute, seconds=time_obj.second)\n",
    "        L.append(delta_obj)\n",
    "    return L"
   ]
  },
  {
   "cell_type": "code",
   "execution_count": null,
   "metadata": {},
   "outputs": [],
   "source": [
    "delta_list = transform_todeltatime(df_filter3, 'DURACION')\n",
    "df_filter3['DURACIONDELTA'] = delta_list"
   ]
  },
  {
   "cell_type": "code",
   "execution_count": null,
   "metadata": {},
   "outputs": [],
   "source": [
    "df_filter2['CARGAHORARIA'] = df_filter2.CUPOPLANIFICADO\n",
    "for teacher1 in df_filter3.DOCENTE.unique():\n",
    "    time = df_filter3[df_filter3['DOCENTE'] == teacher1].sum().loc['DURACIONDELTA']\n",
    "    itime = str(time).split(\" \")[2]\n",
    "    for index_ in df_filter2[df_filter2['DOCENTE'] == teacher1].index:\n",
    "        df_filter2.loc[index_, 'CARGAHORARIA'] = itime"
   ]
  },
  {
   "cell_type": "code",
   "execution_count": null,
   "metadata": {},
   "outputs": [],
   "source": [
    "df_filter2"
   ]
  },
  {
   "attachments": {},
   "cell_type": "markdown",
   "metadata": {},
   "source": [
    "Top profesores con más carga horaria\n"
   ]
  },
  {
   "cell_type": "code",
   "execution_count": null,
   "metadata": {},
   "outputs": [],
   "source": [
    "df_filter2.sort_values('CARGAHORARIA', ascending=False).iloc[:10]\n"
   ]
  },
  {
   "attachments": {},
   "cell_type": "markdown",
   "metadata": {},
   "source": [
    "Top profesores con menos carga horaria\n"
   ]
  },
  {
   "cell_type": "code",
   "execution_count": null,
   "metadata": {},
   "outputs": [],
   "source": [
    "df_filter2.sort_values('CARGAHORARIA', ascending=True).iloc[:10]"
   ]
  },
  {
   "attachments": {},
   "cell_type": "markdown",
   "metadata": {},
   "source": [
    "Docentes y paralelos"
   ]
  },
  {
   "cell_type": "code",
   "execution_count": null,
   "metadata": {},
   "outputs": [],
   "source": [
    "#Con esta tabla se puede saber la cantidad de paralelos en los que cada docente imparte clases\n",
    "df_teacher_count = df_filter2[['DOCENTE']].groupby('DOCENTE', as_index=False).value_counts().rename(columns={'count':'PARALELOS'})\n",
    "df_teacher_count"
   ]
  },
  {
   "cell_type": "code",
   "execution_count": null,
   "metadata": {},
   "outputs": [],
   "source": [
    "#media de los paralelos que tiene cada docente\n",
    "df_teacher_count.mean(numeric_only=True)"
   ]
  },
  {
   "attachments": {},
   "cell_type": "markdown",
   "metadata": {},
   "source": [
    "Docentes que salen de la media de paralelos\n"
   ]
  },
  {
   "cell_type": "code",
   "execution_count": null,
   "metadata": {},
   "outputs": [],
   "source": [
    "df_byteacher = df_filter2[['DOCENTE', 'NOMBRE','CLASE','PARALELO']].groupby(['DOCENTE','NOMBRE', 'CLASE','PARALELO'], as_index=False).count()"
   ]
  },
  {
   "cell_type": "code",
   "execution_count": null,
   "metadata": {},
   "outputs": [],
   "source": [
    "name003 = df_byteacher[df_byteacher[\"DOCENTE\"] == 'NAME003']\n",
    "name003"
   ]
  },
  {
   "cell_type": "code",
   "execution_count": null,
   "metadata": {},
   "outputs": [],
   "source": [
    "name015 = df_byteacher[df_byteacher[\"DOCENTE\"] == 'NAME015']\n",
    "name015"
   ]
  },
  {
   "attachments": {},
   "cell_type": "markdown",
   "metadata": {},
   "source": [
    "Distribución de los docentes por el tipo de paralelo en el que imparten clase"
   ]
  },
  {
   "cell_type": "code",
   "execution_count": null,
   "metadata": {},
   "outputs": [],
   "source": [
    "ar_teacher = np.array(df_byteacher.DOCENTE.unique())\n",
    "ar_class = np.array(df_byteacher.CLASE.unique())\n",
    "matrixDOCEN = np.zeros((ar_teacher.size, ar_class.size), dtype='str')"
   ]
  },
  {
   "cell_type": "code",
   "execution_count": null,
   "metadata": {},
   "outputs": [],
   "source": [
    "for x, y in zip(df_filter2.CLASE, df_filter2.DOCENTE):\n",
    "    matrixDOCEN[y==ar_teacher, x==ar_class] = x"
   ]
  },
  {
   "cell_type": "code",
   "execution_count": null,
   "metadata": {},
   "outputs": [],
   "source": [
    "df_teacher_pt = pd.DataFrame(matrixDOCEN, columns=ar_class, index=ar_teacher).reset_index(names='DOCENTE')\n",
    "df_teacher_pt "
   ]
  },
  {
   "attachments": {},
   "cell_type": "markdown",
   "metadata": {},
   "source": [
    "Analisis de los casos especiales de la tabla de distribución (ver en el resumen principal)\n"
   ]
  },
  {
   "cell_type": "code",
   "execution_count": null,
   "metadata": {},
   "outputs": [],
   "source": [
    "name031 = df_byteacher[df_byteacher[\"DOCENTE\"] == 'NAME031']\n",
    "name031"
   ]
  },
  {
   "cell_type": "code",
   "execution_count": null,
   "metadata": {},
   "outputs": [],
   "source": [
    "name032 = df_byteacher[df_byteacher[\"DOCENTE\"] == 'NAME032']\n",
    "name032"
   ]
  },
  {
   "cell_type": "code",
   "execution_count": null,
   "metadata": {},
   "outputs": [],
   "source": [
    "df_filter2.query(\"NOMBRE == 'PRINCIPIOS DE ELECTRÓNICA'\")\n"
   ]
  },
  {
   "cell_type": "code",
   "execution_count": null,
   "metadata": {},
   "outputs": [],
   "source": [
    "df_filter2.query(\"NOMBRE == 'SISTEMAS DIGITALES I'\")\n"
   ]
  }
 ],
 "metadata": {
  "language_info": {
   "name": "python"
  },
  "orig_nbformat": 4
 },
 "nbformat": 4,
 "nbformat_minor": 2
}
