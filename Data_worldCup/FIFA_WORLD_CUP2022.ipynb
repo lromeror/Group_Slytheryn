{
 "cells": [
  {
   "cell_type": "code",
   "execution_count": 56,
   "metadata": {},
   "outputs": [],
   "source": [
    "import numpy as np\n",
    "import pandas as pd\n",
    "import plotly.express as px"
   ]
  },
  {
   "cell_type": "code",
   "execution_count": 57,
   "metadata": {},
   "outputs": [
    {
     "data": {
      "text/html": [
       "<div>\n",
       "<style scoped>\n",
       "    .dataframe tbody tr th:only-of-type {\n",
       "        vertical-align: middle;\n",
       "    }\n",
       "\n",
       "    .dataframe tbody tr th {\n",
       "        vertical-align: top;\n",
       "    }\n",
       "\n",
       "    .dataframe thead th {\n",
       "        text-align: right;\n",
       "    }\n",
       "</style>\n",
       "<table border=\"1\" class=\"dataframe\">\n",
       "  <thead>\n",
       "    <tr style=\"text-align: right;\">\n",
       "      <th></th>\n",
       "      <th>player</th>\n",
       "      <th>position</th>\n",
       "      <th>team</th>\n",
       "      <th>age</th>\n",
       "      <th>age2</th>\n",
       "      <th>club</th>\n",
       "      <th>birth_year</th>\n",
       "      <th>games</th>\n",
       "      <th>games_starts</th>\n",
       "      <th>minutes</th>\n",
       "      <th>...</th>\n",
       "      <th>goals_assists_pens_per90</th>\n",
       "      <th>xg</th>\n",
       "      <th>npxg</th>\n",
       "      <th>xg_assist</th>\n",
       "      <th>npxg_xg_assist</th>\n",
       "      <th>xg_per90</th>\n",
       "      <th>xg_assist_per90</th>\n",
       "      <th>xg_xg_assist_per90</th>\n",
       "      <th>npxg_per90</th>\n",
       "      <th>npxg_xg_assist_per90</th>\n",
       "    </tr>\n",
       "  </thead>\n",
       "  <tbody>\n",
       "    <tr>\n",
       "      <th>30</th>\n",
       "      <td>Alexis Mac Allister</td>\n",
       "      <td>MF</td>\n",
       "      <td>Argentina</td>\n",
       "      <td>23-359</td>\n",
       "      <td>23</td>\n",
       "      <td>Brighton</td>\n",
       "      <td>1998</td>\n",
       "      <td>6</td>\n",
       "      <td>6</td>\n",
       "      <td>550</td>\n",
       "      <td>...</td>\n",
       "      <td>33</td>\n",
       "      <td>7.0</td>\n",
       "      <td>7.0</td>\n",
       "      <td>1.0</td>\n",
       "      <td>17.0</td>\n",
       "      <td>12.0</td>\n",
       "      <td>18.0</td>\n",
       "      <td>3.0</td>\n",
       "      <td>12.0</td>\n",
       "      <td>3.0</td>\n",
       "    </tr>\n",
       "    <tr>\n",
       "      <th>133</th>\n",
       "      <td>Cristian Romero</td>\n",
       "      <td>DF</td>\n",
       "      <td>Argentina</td>\n",
       "      <td>24-235</td>\n",
       "      <td>24</td>\n",
       "      <td>Tottenham</td>\n",
       "      <td>1998</td>\n",
       "      <td>7</td>\n",
       "      <td>6</td>\n",
       "      <td>547</td>\n",
       "      <td>...</td>\n",
       "      <td>0</td>\n",
       "      <td>0.0</td>\n",
       "      <td>0.0</td>\n",
       "      <td>0.0</td>\n",
       "      <td>0.0</td>\n",
       "      <td>0.0</td>\n",
       "      <td>0.0</td>\n",
       "      <td>0.0</td>\n",
       "      <td>0.0</td>\n",
       "      <td>0.0</td>\n",
       "    </tr>\n",
       "    <tr>\n",
       "      <th>184</th>\n",
       "      <td>Emiliano Martínez</td>\n",
       "      <td>GK</td>\n",
       "      <td>Argentina</td>\n",
       "      <td>30-107</td>\n",
       "      <td>30</td>\n",
       "      <td>Aston Villa</td>\n",
       "      <td>1992</td>\n",
       "      <td>7</td>\n",
       "      <td>7</td>\n",
       "      <td>690</td>\n",
       "      <td>...</td>\n",
       "      <td>0</td>\n",
       "      <td>0.0</td>\n",
       "      <td>0.0</td>\n",
       "      <td>0.0</td>\n",
       "      <td>0.0</td>\n",
       "      <td>0.0</td>\n",
       "      <td>0.0</td>\n",
       "      <td>0.0</td>\n",
       "      <td>0.0</td>\n",
       "      <td>0.0</td>\n",
       "    </tr>\n",
       "    <tr>\n",
       "      <th>187</th>\n",
       "      <td>Enzo Fernández</td>\n",
       "      <td>MF</td>\n",
       "      <td>Argentina</td>\n",
       "      <td>21-335</td>\n",
       "      <td>21</td>\n",
       "      <td>Benfica</td>\n",
       "      <td>2001</td>\n",
       "      <td>7</td>\n",
       "      <td>5</td>\n",
       "      <td>564</td>\n",
       "      <td>...</td>\n",
       "      <td>32</td>\n",
       "      <td>3.0</td>\n",
       "      <td>3.0</td>\n",
       "      <td>9.0</td>\n",
       "      <td>12.0</td>\n",
       "      <td>5.0</td>\n",
       "      <td>16.0</td>\n",
       "      <td>21.0</td>\n",
       "      <td>5.0</td>\n",
       "      <td>21.0</td>\n",
       "    </tr>\n",
       "    <tr>\n",
       "      <th>194</th>\n",
       "      <td>Exequiel Palacios</td>\n",
       "      <td>MF</td>\n",
       "      <td>Argentina</td>\n",
       "      <td>24-074</td>\n",
       "      <td>24</td>\n",
       "      <td>Leverkusen</td>\n",
       "      <td>1998</td>\n",
       "      <td>3</td>\n",
       "      <td>0</td>\n",
       "      <td>50</td>\n",
       "      <td>...</td>\n",
       "      <td>0</td>\n",
       "      <td>1.0</td>\n",
       "      <td>1.0</td>\n",
       "      <td>1.0</td>\n",
       "      <td>1.0</td>\n",
       "      <td>12.0</td>\n",
       "      <td>12.0</td>\n",
       "      <td>24.0</td>\n",
       "      <td>12.0</td>\n",
       "      <td>24.0</td>\n",
       "    </tr>\n",
       "    <tr>\n",
       "      <th>220</th>\n",
       "      <td>Germán Pezzella</td>\n",
       "      <td>DF</td>\n",
       "      <td>Argentina</td>\n",
       "      <td>31-174</td>\n",
       "      <td>31</td>\n",
       "      <td>Betis</td>\n",
       "      <td>1991</td>\n",
       "      <td>3</td>\n",
       "      <td>0</td>\n",
       "      <td>60</td>\n",
       "      <td>...</td>\n",
       "      <td>0</td>\n",
       "      <td>1.0</td>\n",
       "      <td>1.0</td>\n",
       "      <td>0.0</td>\n",
       "      <td>1.0</td>\n",
       "      <td>24.0</td>\n",
       "      <td>0.0</td>\n",
       "      <td>24.0</td>\n",
       "      <td>24.0</td>\n",
       "      <td>24.0</td>\n",
       "    </tr>\n",
       "    <tr>\n",
       "      <th>227</th>\n",
       "      <td>Gonzalo Montiel</td>\n",
       "      <td>DF</td>\n",
       "      <td>Argentina</td>\n",
       "      <td>25-351</td>\n",
       "      <td>25</td>\n",
       "      <td>Sevilla</td>\n",
       "      <td>1997</td>\n",
       "      <td>4</td>\n",
       "      <td>1</td>\n",
       "      <td>118</td>\n",
       "      <td>...</td>\n",
       "      <td>0</td>\n",
       "      <td>0.0</td>\n",
       "      <td>0.0</td>\n",
       "      <td>3.0</td>\n",
       "      <td>4.0</td>\n",
       "      <td>2.0</td>\n",
       "      <td>42.0</td>\n",
       "      <td>44.0</td>\n",
       "      <td>2.0</td>\n",
       "      <td>44.0</td>\n",
       "    </tr>\n",
       "    <tr>\n",
       "      <th>233</th>\n",
       "      <td>Guido Rodríguez</td>\n",
       "      <td>MF</td>\n",
       "      <td>Argentina</td>\n",
       "      <td>28-250</td>\n",
       "      <td>28</td>\n",
       "      <td>Betis</td>\n",
       "      <td>1994</td>\n",
       "      <td>1</td>\n",
       "      <td>1</td>\n",
       "      <td>56</td>\n",
       "      <td>...</td>\n",
       "      <td>0</td>\n",
       "      <td>0.0</td>\n",
       "      <td>0.0</td>\n",
       "      <td>0.0</td>\n",
       "      <td>0.0</td>\n",
       "      <td>0.0</td>\n",
       "      <td>0.0</td>\n",
       "      <td>0.0</td>\n",
       "      <td>0.0</td>\n",
       "      <td>0.0</td>\n",
       "    </tr>\n",
       "    <tr>\n",
       "      <th>326</th>\n",
       "      <td>Juan Foyth</td>\n",
       "      <td>DF</td>\n",
       "      <td>Argentina</td>\n",
       "      <td>24-340</td>\n",
       "      <td>24</td>\n",
       "      <td>Villarreal</td>\n",
       "      <td>1998</td>\n",
       "      <td>1</td>\n",
       "      <td>0</td>\n",
       "      <td>5</td>\n",
       "      <td>...</td>\n",
       "      <td>0</td>\n",
       "      <td>0.0</td>\n",
       "      <td>0.0</td>\n",
       "      <td>0.0</td>\n",
       "      <td>0.0</td>\n",
       "      <td>0.0</td>\n",
       "      <td>0.0</td>\n",
       "      <td>0.0</td>\n",
       "      <td>0.0</td>\n",
       "      <td>0.0</td>\n",
       "    </tr>\n",
       "    <tr>\n",
       "      <th>330</th>\n",
       "      <td>Julián Álvarez</td>\n",
       "      <td>FW</td>\n",
       "      <td>Argentina</td>\n",
       "      <td>22-321</td>\n",
       "      <td>22</td>\n",
       "      <td>Manchester City</td>\n",
       "      <td>2000</td>\n",
       "      <td>7</td>\n",
       "      <td>5</td>\n",
       "      <td>464</td>\n",
       "      <td>...</td>\n",
       "      <td>78</td>\n",
       "      <td>26.0</td>\n",
       "      <td>26.0</td>\n",
       "      <td>1.0</td>\n",
       "      <td>27.0</td>\n",
       "      <td>51.0</td>\n",
       "      <td>2.0</td>\n",
       "      <td>53.0</td>\n",
       "      <td>51.0</td>\n",
       "      <td>53.0</td>\n",
       "    </tr>\n",
       "    <tr>\n",
       "      <th>378</th>\n",
       "      <td>Lautaro Martínez</td>\n",
       "      <td>FW</td>\n",
       "      <td>Argentina</td>\n",
       "      <td>25-118</td>\n",
       "      <td>25</td>\n",
       "      <td>Inter</td>\n",
       "      <td>1997</td>\n",
       "      <td>6</td>\n",
       "      <td>2</td>\n",
       "      <td>241</td>\n",
       "      <td>...</td>\n",
       "      <td>0</td>\n",
       "      <td>18.0</td>\n",
       "      <td>18.0</td>\n",
       "      <td>0.0</td>\n",
       "      <td>19.0</td>\n",
       "      <td>86.0</td>\n",
       "      <td>2.0</td>\n",
       "      <td>87.0</td>\n",
       "      <td>86.0</td>\n",
       "      <td>87.0</td>\n",
       "    </tr>\n",
       "    <tr>\n",
       "      <th>381</th>\n",
       "      <td>Leandro Paredes</td>\n",
       "      <td>MF</td>\n",
       "      <td>Argentina</td>\n",
       "      <td>28-172</td>\n",
       "      <td>28</td>\n",
       "      <td>Juventus</td>\n",
       "      <td>1994</td>\n",
       "      <td>5</td>\n",
       "      <td>2</td>\n",
       "      <td>225</td>\n",
       "      <td>...</td>\n",
       "      <td>0</td>\n",
       "      <td>0.0</td>\n",
       "      <td>0.0</td>\n",
       "      <td>0.0</td>\n",
       "      <td>1.0</td>\n",
       "      <td>1.0</td>\n",
       "      <td>2.0</td>\n",
       "      <td>3.0</td>\n",
       "      <td>1.0</td>\n",
       "      <td>3.0</td>\n",
       "    </tr>\n",
       "    <tr>\n",
       "      <th>388</th>\n",
       "      <td>Lionel Messi</td>\n",
       "      <td>FW</td>\n",
       "      <td>Argentina</td>\n",
       "      <td>35-177</td>\n",
       "      <td>35</td>\n",
       "      <td>Paris S-G</td>\n",
       "      <td>1987</td>\n",
       "      <td>7</td>\n",
       "      <td>7</td>\n",
       "      <td>690</td>\n",
       "      <td>...</td>\n",
       "      <td>78</td>\n",
       "      <td>66.0</td>\n",
       "      <td>26.0</td>\n",
       "      <td>25.0</td>\n",
       "      <td>51.0</td>\n",
       "      <td>94.0</td>\n",
       "      <td>36.0</td>\n",
       "      <td>13.0</td>\n",
       "      <td>38.0</td>\n",
       "      <td>74.0</td>\n",
       "    </tr>\n",
       "    <tr>\n",
       "      <th>389</th>\n",
       "      <td>Lisandro Martínez</td>\n",
       "      <td>DF</td>\n",
       "      <td>Argentina</td>\n",
       "      <td>24-334</td>\n",
       "      <td>24</td>\n",
       "      <td>Manchester Utd</td>\n",
       "      <td>1998</td>\n",
       "      <td>5</td>\n",
       "      <td>2</td>\n",
       "      <td>303</td>\n",
       "      <td>...</td>\n",
       "      <td>0</td>\n",
       "      <td>1.0</td>\n",
       "      <td>1.0</td>\n",
       "      <td>7.0</td>\n",
       "      <td>8.0</td>\n",
       "      <td>4.0</td>\n",
       "      <td>21.0</td>\n",
       "      <td>25.0</td>\n",
       "      <td>4.0</td>\n",
       "      <td>25.0</td>\n",
       "    </tr>\n",
       "    <tr>\n",
       "      <th>407</th>\n",
       "      <td>Marcos Acuña</td>\n",
       "      <td>DF</td>\n",
       "      <td>Argentina</td>\n",
       "      <td>31-051</td>\n",
       "      <td>31</td>\n",
       "      <td>Sevilla</td>\n",
       "      <td>1991</td>\n",
       "      <td>6</td>\n",
       "      <td>4</td>\n",
       "      <td>373</td>\n",
       "      <td>...</td>\n",
       "      <td>0</td>\n",
       "      <td>1.0</td>\n",
       "      <td>1.0</td>\n",
       "      <td>3.0</td>\n",
       "      <td>4.0</td>\n",
       "      <td>2.0</td>\n",
       "      <td>7.0</td>\n",
       "      <td>1.0</td>\n",
       "      <td>2.0</td>\n",
       "      <td>1.0</td>\n",
       "    </tr>\n",
       "    <tr>\n",
       "      <th>470</th>\n",
       "      <td>Nahuel Molina</td>\n",
       "      <td>DF</td>\n",
       "      <td>Argentina</td>\n",
       "      <td>24-256</td>\n",
       "      <td>24</td>\n",
       "      <td>Atlético Madrid</td>\n",
       "      <td>1998</td>\n",
       "      <td>7</td>\n",
       "      <td>6</td>\n",
       "      <td>567</td>\n",
       "      <td>...</td>\n",
       "      <td>32</td>\n",
       "      <td>5.0</td>\n",
       "      <td>5.0</td>\n",
       "      <td>3.0</td>\n",
       "      <td>8.0</td>\n",
       "      <td>7.0</td>\n",
       "      <td>5.0</td>\n",
       "      <td>12.0</td>\n",
       "      <td>7.0</td>\n",
       "      <td>12.0</td>\n",
       "    </tr>\n",
       "    <tr>\n",
       "      <th>491</th>\n",
       "      <td>Nicolás Otamendi</td>\n",
       "      <td>DF</td>\n",
       "      <td>Argentina</td>\n",
       "      <td>34-309</td>\n",
       "      <td>34</td>\n",
       "      <td>Benfica</td>\n",
       "      <td>1988</td>\n",
       "      <td>7</td>\n",
       "      <td>7</td>\n",
       "      <td>690</td>\n",
       "      <td>...</td>\n",
       "      <td>13</td>\n",
       "      <td>0.0</td>\n",
       "      <td>0.0</td>\n",
       "      <td>2.0</td>\n",
       "      <td>2.0</td>\n",
       "      <td>0.0</td>\n",
       "      <td>2.0</td>\n",
       "      <td>3.0</td>\n",
       "      <td>0.0</td>\n",
       "      <td>3.0</td>\n",
       "    </tr>\n",
       "    <tr>\n",
       "      <th>492</th>\n",
       "      <td>Nicolás Tagliafico</td>\n",
       "      <td>DF</td>\n",
       "      <td>Argentina</td>\n",
       "      <td>30-109</td>\n",
       "      <td>30</td>\n",
       "      <td>Lyon</td>\n",
       "      <td>1992</td>\n",
       "      <td>6</td>\n",
       "      <td>3</td>\n",
       "      <td>373</td>\n",
       "      <td>...</td>\n",
       "      <td>0</td>\n",
       "      <td>1.0</td>\n",
       "      <td>1.0</td>\n",
       "      <td>2.0</td>\n",
       "      <td>12.0</td>\n",
       "      <td>26.0</td>\n",
       "      <td>5.0</td>\n",
       "      <td>31.0</td>\n",
       "      <td>26.0</td>\n",
       "      <td>31.0</td>\n",
       "    </tr>\n",
       "    <tr>\n",
       "      <th>513</th>\n",
       "      <td>Papu Gómez</td>\n",
       "      <td>MF</td>\n",
       "      <td>Argentina</td>\n",
       "      <td>34-306</td>\n",
       "      <td>34</td>\n",
       "      <td>Sevilla</td>\n",
       "      <td>1988</td>\n",
       "      <td>2</td>\n",
       "      <td>2</td>\n",
       "      <td>107</td>\n",
       "      <td>...</td>\n",
       "      <td>0</td>\n",
       "      <td>0.0</td>\n",
       "      <td>0.0</td>\n",
       "      <td>0.0</td>\n",
       "      <td>0.0</td>\n",
       "      <td>3.0</td>\n",
       "      <td>0.0</td>\n",
       "      <td>3.0</td>\n",
       "      <td>3.0</td>\n",
       "      <td>3.0</td>\n",
       "    </tr>\n",
       "    <tr>\n",
       "      <th>516</th>\n",
       "      <td>Paulo Dybala</td>\n",
       "      <td>FW</td>\n",
       "      <td>Argentina</td>\n",
       "      <td>29-033</td>\n",
       "      <td>29</td>\n",
       "      <td>Roma</td>\n",
       "      <td>1993</td>\n",
       "      <td>2</td>\n",
       "      <td>0</td>\n",
       "      <td>18</td>\n",
       "      <td>...</td>\n",
       "      <td>0</td>\n",
       "      <td>0.0</td>\n",
       "      <td>0.0</td>\n",
       "      <td>2.0</td>\n",
       "      <td>2.0</td>\n",
       "      <td>0.0</td>\n",
       "      <td>103.0</td>\n",
       "      <td>103.0</td>\n",
       "      <td>0.0</td>\n",
       "      <td>103.0</td>\n",
       "    </tr>\n",
       "    <tr>\n",
       "      <th>551</th>\n",
       "      <td>Rodrigo De Paul</td>\n",
       "      <td>MF</td>\n",
       "      <td>Argentina</td>\n",
       "      <td>28-208</td>\n",
       "      <td>28</td>\n",
       "      <td>Atlético Madrid</td>\n",
       "      <td>1994</td>\n",
       "      <td>7</td>\n",
       "      <td>7</td>\n",
       "      <td>599</td>\n",
       "      <td>...</td>\n",
       "      <td>0</td>\n",
       "      <td>9.0</td>\n",
       "      <td>9.0</td>\n",
       "      <td>3.0</td>\n",
       "      <td>12.0</td>\n",
       "      <td>13.0</td>\n",
       "      <td>5.0</td>\n",
       "      <td>18.0</td>\n",
       "      <td>13.0</td>\n",
       "      <td>18.0</td>\n",
       "    </tr>\n",
       "    <tr>\n",
       "      <th>615</th>\n",
       "      <td>Thiago Almada</td>\n",
       "      <td>MF</td>\n",
       "      <td>Argentina</td>\n",
       "      <td>21-236</td>\n",
       "      <td>21</td>\n",
       "      <td>Atlanta Utd</td>\n",
       "      <td>2001</td>\n",
       "      <td>1</td>\n",
       "      <td>0</td>\n",
       "      <td>7</td>\n",
       "      <td>...</td>\n",
       "      <td>0</td>\n",
       "      <td>0.0</td>\n",
       "      <td>0.0</td>\n",
       "      <td>2.0</td>\n",
       "      <td>2.0</td>\n",
       "      <td>0.0</td>\n",
       "      <td>316.0</td>\n",
       "      <td>316.0</td>\n",
       "      <td>0.0</td>\n",
       "      <td>316.0</td>\n",
       "    </tr>\n",
       "    <tr>\n",
       "      <th>674</th>\n",
       "      <td>Angel Correa</td>\n",
       "      <td>MF</td>\n",
       "      <td>Argentina</td>\n",
       "      <td>27-284</td>\n",
       "      <td>27</td>\n",
       "      <td>Atlético Madrid</td>\n",
       "      <td>1995</td>\n",
       "      <td>1</td>\n",
       "      <td>0</td>\n",
       "      <td>5</td>\n",
       "      <td>...</td>\n",
       "      <td>0</td>\n",
       "      <td>0.0</td>\n",
       "      <td>0.0</td>\n",
       "      <td>0.0</td>\n",
       "      <td>0.0</td>\n",
       "      <td>0.0</td>\n",
       "      <td>0.0</td>\n",
       "      <td>0.0</td>\n",
       "      <td>0.0</td>\n",
       "      <td>0.0</td>\n",
       "    </tr>\n",
       "    <tr>\n",
       "      <th>675</th>\n",
       "      <td>Angel Di María</td>\n",
       "      <td>MF</td>\n",
       "      <td>Argentina</td>\n",
       "      <td>34-307</td>\n",
       "      <td>34</td>\n",
       "      <td>Juventus</td>\n",
       "      <td>1988</td>\n",
       "      <td>5</td>\n",
       "      <td>4</td>\n",
       "      <td>288</td>\n",
       "      <td>...</td>\n",
       "      <td>62</td>\n",
       "      <td>8.0</td>\n",
       "      <td>8.0</td>\n",
       "      <td>6.0</td>\n",
       "      <td>14.0</td>\n",
       "      <td>27.0</td>\n",
       "      <td>2.0</td>\n",
       "      <td>46.0</td>\n",
       "      <td>27.0</td>\n",
       "      <td>46.0</td>\n",
       "    </tr>\n",
       "  </tbody>\n",
       "</table>\n",
       "<p>24 rows × 32 columns</p>\n",
       "</div>"
      ],
      "text/plain": [
       "                  player position       team     age  age2             club   \n",
       "30   Alexis Mac Allister       MF  Argentina  23-359    23         Brighton  \\\n",
       "133      Cristian Romero       DF  Argentina  24-235    24        Tottenham   \n",
       "184    Emiliano Martínez       GK  Argentina  30-107    30      Aston Villa   \n",
       "187       Enzo Fernández       MF  Argentina  21-335    21          Benfica   \n",
       "194    Exequiel Palacios       MF  Argentina  24-074    24       Leverkusen   \n",
       "220      Germán Pezzella       DF  Argentina  31-174    31            Betis   \n",
       "227      Gonzalo Montiel       DF  Argentina  25-351    25          Sevilla   \n",
       "233      Guido Rodríguez       MF  Argentina  28-250    28            Betis   \n",
       "326           Juan Foyth       DF  Argentina  24-340    24       Villarreal   \n",
       "330       Julián Álvarez       FW  Argentina  22-321    22  Manchester City   \n",
       "378     Lautaro Martínez       FW  Argentina  25-118    25            Inter   \n",
       "381      Leandro Paredes       MF  Argentina  28-172    28         Juventus   \n",
       "388         Lionel Messi       FW  Argentina  35-177    35        Paris S-G   \n",
       "389    Lisandro Martínez       DF  Argentina  24-334    24   Manchester Utd   \n",
       "407         Marcos Acuña       DF  Argentina  31-051    31          Sevilla   \n",
       "470        Nahuel Molina       DF  Argentina  24-256    24  Atlético Madrid   \n",
       "491     Nicolás Otamendi       DF  Argentina  34-309    34          Benfica   \n",
       "492   Nicolás Tagliafico       DF  Argentina  30-109    30             Lyon   \n",
       "513           Papu Gómez       MF  Argentina  34-306    34          Sevilla   \n",
       "516         Paulo Dybala       FW  Argentina  29-033    29             Roma   \n",
       "551      Rodrigo De Paul       MF  Argentina  28-208    28  Atlético Madrid   \n",
       "615        Thiago Almada       MF  Argentina  21-236    21      Atlanta Utd   \n",
       "674         Angel Correa       MF  Argentina  27-284    27  Atlético Madrid   \n",
       "675       Angel Di María       MF  Argentina  34-307    34         Juventus   \n",
       "\n",
       "     birth_year  games  games_starts  minutes  ...  goals_assists_pens_per90   \n",
       "30         1998      6             6      550  ...                        33  \\\n",
       "133        1998      7             6      547  ...                         0   \n",
       "184        1992      7             7      690  ...                         0   \n",
       "187        2001      7             5      564  ...                        32   \n",
       "194        1998      3             0       50  ...                         0   \n",
       "220        1991      3             0       60  ...                         0   \n",
       "227        1997      4             1      118  ...                         0   \n",
       "233        1994      1             1       56  ...                         0   \n",
       "326        1998      1             0        5  ...                         0   \n",
       "330        2000      7             5      464  ...                        78   \n",
       "378        1997      6             2      241  ...                         0   \n",
       "381        1994      5             2      225  ...                         0   \n",
       "388        1987      7             7      690  ...                        78   \n",
       "389        1998      5             2      303  ...                         0   \n",
       "407        1991      6             4      373  ...                         0   \n",
       "470        1998      7             6      567  ...                        32   \n",
       "491        1988      7             7      690  ...                        13   \n",
       "492        1992      6             3      373  ...                         0   \n",
       "513        1988      2             2      107  ...                         0   \n",
       "516        1993      2             0       18  ...                         0   \n",
       "551        1994      7             7      599  ...                         0   \n",
       "615        2001      1             0        7  ...                         0   \n",
       "674        1995      1             0        5  ...                         0   \n",
       "675        1988      5             4      288  ...                        62   \n",
       "\n",
       "       xg  npxg  xg_assist  npxg_xg_assist  xg_per90  xg_assist_per90   \n",
       "30    7.0   7.0        1.0            17.0      12.0             18.0  \\\n",
       "133   0.0   0.0        0.0             0.0       0.0              0.0   \n",
       "184   0.0   0.0        0.0             0.0       0.0              0.0   \n",
       "187   3.0   3.0        9.0            12.0       5.0             16.0   \n",
       "194   1.0   1.0        1.0             1.0      12.0             12.0   \n",
       "220   1.0   1.0        0.0             1.0      24.0              0.0   \n",
       "227   0.0   0.0        3.0             4.0       2.0             42.0   \n",
       "233   0.0   0.0        0.0             0.0       0.0              0.0   \n",
       "326   0.0   0.0        0.0             0.0       0.0              0.0   \n",
       "330  26.0  26.0        1.0            27.0      51.0              2.0   \n",
       "378  18.0  18.0        0.0            19.0      86.0              2.0   \n",
       "381   0.0   0.0        0.0             1.0       1.0              2.0   \n",
       "388  66.0  26.0       25.0            51.0      94.0             36.0   \n",
       "389   1.0   1.0        7.0             8.0       4.0             21.0   \n",
       "407   1.0   1.0        3.0             4.0       2.0              7.0   \n",
       "470   5.0   5.0        3.0             8.0       7.0              5.0   \n",
       "491   0.0   0.0        2.0             2.0       0.0              2.0   \n",
       "492   1.0   1.0        2.0            12.0      26.0              5.0   \n",
       "513   0.0   0.0        0.0             0.0       3.0              0.0   \n",
       "516   0.0   0.0        2.0             2.0       0.0            103.0   \n",
       "551   9.0   9.0        3.0            12.0      13.0              5.0   \n",
       "615   0.0   0.0        2.0             2.0       0.0            316.0   \n",
       "674   0.0   0.0        0.0             0.0       0.0              0.0   \n",
       "675   8.0   8.0        6.0            14.0      27.0              2.0   \n",
       "\n",
       "     xg_xg_assist_per90  npxg_per90  npxg_xg_assist_per90  \n",
       "30                  3.0        12.0                   3.0  \n",
       "133                 0.0         0.0                   0.0  \n",
       "184                 0.0         0.0                   0.0  \n",
       "187                21.0         5.0                  21.0  \n",
       "194                24.0        12.0                  24.0  \n",
       "220                24.0        24.0                  24.0  \n",
       "227                44.0         2.0                  44.0  \n",
       "233                 0.0         0.0                   0.0  \n",
       "326                 0.0         0.0                   0.0  \n",
       "330                53.0        51.0                  53.0  \n",
       "378                87.0        86.0                  87.0  \n",
       "381                 3.0         1.0                   3.0  \n",
       "388                13.0        38.0                  74.0  \n",
       "389                25.0         4.0                  25.0  \n",
       "407                 1.0         2.0                   1.0  \n",
       "470                12.0         7.0                  12.0  \n",
       "491                 3.0         0.0                   3.0  \n",
       "492                31.0        26.0                  31.0  \n",
       "513                 3.0         3.0                   3.0  \n",
       "516               103.0         0.0                 103.0  \n",
       "551                18.0        13.0                  18.0  \n",
       "615               316.0         0.0                 316.0  \n",
       "674                 0.0         0.0                   0.0  \n",
       "675                46.0        27.0                  46.0  \n",
       "\n",
       "[24 rows x 32 columns]"
      ]
     },
     "execution_count": 57,
     "metadata": {},
     "output_type": "execute_result"
    }
   ],
   "source": [
    "players_fifa_wc2022= pd.read_excel('../Data_worldCup/Players.xlsx',sheet_name='player_stats')\n",
    "players_fifa_wc2022.replace('Angel Di Mar�a','Angel Di María',inplace=True)\n",
    "players_fifa_wc2022.replace('A�ssa La�douni','Aissa Laidouni',inplace=True)\n",
    "players_fifa_wc2022[players_fifa_wc2022.team=='Argentina']\n"
   ]
  },
  {
   "cell_type": "code",
   "execution_count": 58,
   "metadata": {},
   "outputs": [
    {
     "data": {
      "text/html": [
       "<div>\n",
       "<style scoped>\n",
       "    .dataframe tbody tr th:only-of-type {\n",
       "        vertical-align: middle;\n",
       "    }\n",
       "\n",
       "    .dataframe tbody tr th {\n",
       "        vertical-align: top;\n",
       "    }\n",
       "\n",
       "    .dataframe thead th {\n",
       "        text-align: right;\n",
       "    }\n",
       "</style>\n",
       "<table border=\"1\" class=\"dataframe\">\n",
       "  <thead>\n",
       "    <tr style=\"text-align: right;\">\n",
       "      <th></th>\n",
       "      <th>match_no</th>\n",
       "      <th>day_of_week</th>\n",
       "      <th>date</th>\n",
       "      <th>hour</th>\n",
       "      <th>venue</th>\n",
       "      <th>referee</th>\n",
       "      <th>group</th>\n",
       "      <th>1</th>\n",
       "      <th>2</th>\n",
       "      <th>attendance</th>\n",
       "      <th>...</th>\n",
       "      <th>1_panelties_scored</th>\n",
       "      <th>2_panelties_scored</th>\n",
       "      <th>1_goal_prevented</th>\n",
       "      <th>2_goal_prevented</th>\n",
       "      <th>1_own_goal</th>\n",
       "      <th>2_own_goal</th>\n",
       "      <th>1_forced_turnovers</th>\n",
       "      <th>2_forced_turnovers</th>\n",
       "      <th>1_defensive_pressure_applied</th>\n",
       "      <th>2_defensive_pressure_applied</th>\n",
       "    </tr>\n",
       "  </thead>\n",
       "  <tbody>\n",
       "    <tr>\n",
       "      <th>1</th>\n",
       "      <td>1</td>\n",
       "      <td>Sun</td>\n",
       "      <td>20-Nov-22</td>\n",
       "      <td>17:00</td>\n",
       "      <td>Al Bayt Stadium</td>\n",
       "      <td>Daniele Orsato</td>\n",
       "      <td>Group A</td>\n",
       "      <td>Qatar</td>\n",
       "      <td>Ecuador</td>\n",
       "      <td>67372</td>\n",
       "      <td>...</td>\n",
       "      <td>0</td>\n",
       "      <td>1</td>\n",
       "      <td>6</td>\n",
       "      <td>5</td>\n",
       "      <td>0</td>\n",
       "      <td>0</td>\n",
       "      <td>52</td>\n",
       "      <td>72</td>\n",
       "      <td>256</td>\n",
       "      <td>279</td>\n",
       "    </tr>\n",
       "    <tr>\n",
       "      <th>2</th>\n",
       "      <td>2</td>\n",
       "      <td>Mon</td>\n",
       "      <td>21-Nov-22</td>\n",
       "      <td>14:00</td>\n",
       "      <td>Khalifa International Stadium</td>\n",
       "      <td>Raphael Claus</td>\n",
       "      <td>Group B</td>\n",
       "      <td>England</td>\n",
       "      <td>Iran</td>\n",
       "      <td>45334</td>\n",
       "      <td>...</td>\n",
       "      <td>0</td>\n",
       "      <td>1</td>\n",
       "      <td>8</td>\n",
       "      <td>13</td>\n",
       "      <td>0</td>\n",
       "      <td>0</td>\n",
       "      <td>63</td>\n",
       "      <td>72</td>\n",
       "      <td>139</td>\n",
       "      <td>416</td>\n",
       "    </tr>\n",
       "    <tr>\n",
       "      <th>3</th>\n",
       "      <td>3</td>\n",
       "      <td>Mon</td>\n",
       "      <td>21-Nov-22</td>\n",
       "      <td>17:00</td>\n",
       "      <td>Al Thumama Stadium</td>\n",
       "      <td>Wilton Sampaio</td>\n",
       "      <td>Group A</td>\n",
       "      <td>Senegal</td>\n",
       "      <td>Netherlands</td>\n",
       "      <td>41721</td>\n",
       "      <td>...</td>\n",
       "      <td>0</td>\n",
       "      <td>0</td>\n",
       "      <td>9</td>\n",
       "      <td>15</td>\n",
       "      <td>0</td>\n",
       "      <td>0</td>\n",
       "      <td>63</td>\n",
       "      <td>73</td>\n",
       "      <td>263</td>\n",
       "      <td>251</td>\n",
       "    </tr>\n",
       "    <tr>\n",
       "      <th>4</th>\n",
       "      <td>4</td>\n",
       "      <td>Mon</td>\n",
       "      <td>21-Nov-22</td>\n",
       "      <td>20:00</td>\n",
       "      <td>Ahmed bin Ali Stadium</td>\n",
       "      <td>Abdulrahman Ibrahim Al Jassim</td>\n",
       "      <td>Group B</td>\n",
       "      <td>United States</td>\n",
       "      <td>Wales</td>\n",
       "      <td>43418</td>\n",
       "      <td>...</td>\n",
       "      <td>0</td>\n",
       "      <td>1</td>\n",
       "      <td>7</td>\n",
       "      <td>7</td>\n",
       "      <td>0</td>\n",
       "      <td>0</td>\n",
       "      <td>81</td>\n",
       "      <td>72</td>\n",
       "      <td>242</td>\n",
       "      <td>292</td>\n",
       "    </tr>\n",
       "    <tr>\n",
       "      <th>5</th>\n",
       "      <td>5</td>\n",
       "      <td>Tue</td>\n",
       "      <td>22-Nov-22</td>\n",
       "      <td>11:00</td>\n",
       "      <td>Lusail Iconic Stadium</td>\n",
       "      <td>Slavko Vincic</td>\n",
       "      <td>Group C</td>\n",
       "      <td>Argentina</td>\n",
       "      <td>Saudi Arabia</td>\n",
       "      <td>88012</td>\n",
       "      <td>...</td>\n",
       "      <td>1</td>\n",
       "      <td>0</td>\n",
       "      <td>4</td>\n",
       "      <td>14</td>\n",
       "      <td>0</td>\n",
       "      <td>0</td>\n",
       "      <td>65</td>\n",
       "      <td>80</td>\n",
       "      <td>163</td>\n",
       "      <td>361</td>\n",
       "    </tr>\n",
       "    <tr>\n",
       "      <th>...</th>\n",
       "      <td>...</td>\n",
       "      <td>...</td>\n",
       "      <td>...</td>\n",
       "      <td>...</td>\n",
       "      <td>...</td>\n",
       "      <td>...</td>\n",
       "      <td>...</td>\n",
       "      <td>...</td>\n",
       "      <td>...</td>\n",
       "      <td>...</td>\n",
       "      <td>...</td>\n",
       "      <td>...</td>\n",
       "      <td>...</td>\n",
       "      <td>...</td>\n",
       "      <td>...</td>\n",
       "      <td>...</td>\n",
       "      <td>...</td>\n",
       "      <td>...</td>\n",
       "      <td>...</td>\n",
       "      <td>...</td>\n",
       "      <td>...</td>\n",
       "    </tr>\n",
       "    <tr>\n",
       "      <th>60</th>\n",
       "      <td>60</td>\n",
       "      <td>Sat</td>\n",
       "      <td>10-Dec-22</td>\n",
       "      <td>20:00</td>\n",
       "      <td>Al Bayt Stadium</td>\n",
       "      <td>Wilton Sampaio</td>\n",
       "      <td>Quarter-final</td>\n",
       "      <td>England</td>\n",
       "      <td>France</td>\n",
       "      <td>68895</td>\n",
       "      <td>...</td>\n",
       "      <td>1</td>\n",
       "      <td>0</td>\n",
       "      <td>9</td>\n",
       "      <td>15</td>\n",
       "      <td>0</td>\n",
       "      <td>0</td>\n",
       "      <td>49</td>\n",
       "      <td>54</td>\n",
       "      <td>193</td>\n",
       "      <td>308</td>\n",
       "    </tr>\n",
       "    <tr>\n",
       "      <th>61</th>\n",
       "      <td>61</td>\n",
       "      <td>Tue</td>\n",
       "      <td>13-Dec-22</td>\n",
       "      <td>20:00</td>\n",
       "      <td>Lusail Iconic Stadium</td>\n",
       "      <td>Daniele Orsato</td>\n",
       "      <td>Semi-Final</td>\n",
       "      <td>Argentina</td>\n",
       "      <td>Croatia</td>\n",
       "      <td>88966</td>\n",
       "      <td>...</td>\n",
       "      <td>1</td>\n",
       "      <td>0</td>\n",
       "      <td>12</td>\n",
       "      <td>10</td>\n",
       "      <td>0</td>\n",
       "      <td>0</td>\n",
       "      <td>85</td>\n",
       "      <td>63</td>\n",
       "      <td>321</td>\n",
       "      <td>260</td>\n",
       "    </tr>\n",
       "    <tr>\n",
       "      <th>62</th>\n",
       "      <td>62</td>\n",
       "      <td>Wed</td>\n",
       "      <td>14-Dec-22</td>\n",
       "      <td>20:00</td>\n",
       "      <td>Al Bayt Stadium</td>\n",
       "      <td>Cesar Ramos</td>\n",
       "      <td>Semi-Final</td>\n",
       "      <td>France</td>\n",
       "      <td>Morocco</td>\n",
       "      <td>68294</td>\n",
       "      <td>...</td>\n",
       "      <td>0</td>\n",
       "      <td>0</td>\n",
       "      <td>13</td>\n",
       "      <td>14</td>\n",
       "      <td>0</td>\n",
       "      <td>0</td>\n",
       "      <td>72</td>\n",
       "      <td>47</td>\n",
       "      <td>328</td>\n",
       "      <td>218</td>\n",
       "    </tr>\n",
       "    <tr>\n",
       "      <th>63</th>\n",
       "      <td>63</td>\n",
       "      <td>Sat</td>\n",
       "      <td>17-Dec-22</td>\n",
       "      <td>16:00</td>\n",
       "      <td>Khalifa International Stadium</td>\n",
       "      <td>Abdulrahman Ibrahim Al Jassim</td>\n",
       "      <td>Play-off for third place</td>\n",
       "      <td>Croatia</td>\n",
       "      <td>Morocco</td>\n",
       "      <td>44137</td>\n",
       "      <td>...</td>\n",
       "      <td>0</td>\n",
       "      <td>0</td>\n",
       "      <td>7</td>\n",
       "      <td>14</td>\n",
       "      <td>0</td>\n",
       "      <td>0</td>\n",
       "      <td>75</td>\n",
       "      <td>72</td>\n",
       "      <td>288</td>\n",
       "      <td>277</td>\n",
       "    </tr>\n",
       "    <tr>\n",
       "      <th>64</th>\n",
       "      <td>64</td>\n",
       "      <td>Sun</td>\n",
       "      <td>18-Dec-22</td>\n",
       "      <td>16:00</td>\n",
       "      <td>Lusail Iconic Stadium</td>\n",
       "      <td>Szymon Marciniak</td>\n",
       "      <td>Final</td>\n",
       "      <td>Argentina</td>\n",
       "      <td>France</td>\n",
       "      <td>88966</td>\n",
       "      <td>...</td>\n",
       "      <td>1</td>\n",
       "      <td>2</td>\n",
       "      <td>11</td>\n",
       "      <td>21</td>\n",
       "      <td>0</td>\n",
       "      <td>0</td>\n",
       "      <td>87</td>\n",
       "      <td>104</td>\n",
       "      <td>280</td>\n",
       "      <td>409</td>\n",
       "    </tr>\n",
       "  </tbody>\n",
       "</table>\n",
       "<p>64 rows × 59 columns</p>\n",
       "</div>"
      ],
      "text/plain": [
       "0  match_no day_of_week       date   hour                          venue   \n",
       "1         1         Sun  20-Nov-22  17:00                Al Bayt Stadium  \\\n",
       "2         2         Mon  21-Nov-22  14:00  Khalifa International Stadium   \n",
       "3         3         Mon  21-Nov-22  17:00             Al Thumama Stadium   \n",
       "4         4         Mon  21-Nov-22  20:00          Ahmed bin Ali Stadium   \n",
       "5         5         Tue  22-Nov-22  11:00          Lusail Iconic Stadium   \n",
       "..      ...         ...        ...    ...                            ...   \n",
       "60       60         Sat  10-Dec-22  20:00                Al Bayt Stadium   \n",
       "61       61         Tue  13-Dec-22  20:00          Lusail Iconic Stadium   \n",
       "62       62         Wed  14-Dec-22  20:00                Al Bayt Stadium   \n",
       "63       63         Sat  17-Dec-22  16:00  Khalifa International Stadium   \n",
       "64       64         Sun  18-Dec-22  16:00          Lusail Iconic Stadium   \n",
       "\n",
       "0                         referee                     group              1   \n",
       "1                  Daniele Orsato                   Group A          Qatar  \\\n",
       "2                   Raphael Claus                   Group B        England   \n",
       "3                  Wilton Sampaio                   Group A        Senegal   \n",
       "4   Abdulrahman Ibrahim Al Jassim                   Group B  United States   \n",
       "5                   Slavko Vincic                   Group C      Argentina   \n",
       "..                            ...                       ...            ...   \n",
       "60                 Wilton Sampaio             Quarter-final        England   \n",
       "61                 Daniele Orsato                Semi-Final      Argentina   \n",
       "62                    Cesar Ramos                Semi-Final         France   \n",
       "63  Abdulrahman Ibrahim Al Jassim  Play-off for third place        Croatia   \n",
       "64               Szymon Marciniak                     Final      Argentina   \n",
       "\n",
       "0              2 attendance  ... 1_panelties_scored 2_panelties_scored   \n",
       "1        Ecuador      67372  ...                  0                  1  \\\n",
       "2           Iran      45334  ...                  0                  1   \n",
       "3    Netherlands      41721  ...                  0                  0   \n",
       "4          Wales      43418  ...                  0                  1   \n",
       "5   Saudi Arabia      88012  ...                  1                  0   \n",
       "..           ...        ...  ...                ...                ...   \n",
       "60        France      68895  ...                  1                  0   \n",
       "61       Croatia      88966  ...                  1                  0   \n",
       "62       Morocco      68294  ...                  0                  0   \n",
       "63       Morocco      44137  ...                  0                  0   \n",
       "64        France      88966  ...                  1                  2   \n",
       "\n",
       "0  1_goal_prevented 2_goal_prevented 1_own_goal 2_own_goal 1_forced_turnovers   \n",
       "1                 6                5          0          0                 52  \\\n",
       "2                 8               13          0          0                 63   \n",
       "3                 9               15          0          0                 63   \n",
       "4                 7                7          0          0                 81   \n",
       "5                 4               14          0          0                 65   \n",
       "..              ...              ...        ...        ...                ...   \n",
       "60                9               15          0          0                 49   \n",
       "61               12               10          0          0                 85   \n",
       "62               13               14          0          0                 72   \n",
       "63                7               14          0          0                 75   \n",
       "64               11               21          0          0                 87   \n",
       "\n",
       "0  2_forced_turnovers 1_defensive_pressure_applied   \n",
       "1                  72                          256  \\\n",
       "2                  72                          139   \n",
       "3                  73                          263   \n",
       "4                  72                          242   \n",
       "5                  80                          163   \n",
       "..                ...                          ...   \n",
       "60                 54                          193   \n",
       "61                 63                          321   \n",
       "62                 47                          328   \n",
       "63                 72                          288   \n",
       "64                104                          280   \n",
       "\n",
       "0  2_defensive_pressure_applied  \n",
       "1                           279  \n",
       "2                           416  \n",
       "3                           251  \n",
       "4                           292  \n",
       "5                           361  \n",
       "..                          ...  \n",
       "60                          308  \n",
       "61                          260  \n",
       "62                          218  \n",
       "63                          277  \n",
       "64                          409  \n",
       "\n",
       "[64 rows x 59 columns]"
      ]
     },
     "execution_count": 58,
     "metadata": {},
     "output_type": "execute_result"
    }
   ],
   "source": [
    "matches_fifa_wc2022 = pd.read_excel('../Data_worldCup/Matches.xlsx',sheet_name='Fifa_WC_2022_Match_data')\n",
    "matches_fifa_wc2022.columns=matches_fifa_wc2022.loc[0]\n",
    "matches_fifa_wc2022.drop(0,axis=0,inplace=True)\n",
    "for x in ['1','2']:\n",
    "    matches_fifa_wc2022[x] =  matches_fifa_wc2022[x].str.title()\n",
    "matches_fifa_wc2022"
   ]
  },
  {
   "cell_type": "code",
   "execution_count": 59,
   "metadata": {},
   "outputs": [
    {
     "data": {
      "text/plain": [
       "(array(['Qatar', 'England', 'Senegal', 'United States', 'Argentina',\n",
       "        'Denmark', 'Mexico', 'France', 'Morocco', 'Germany', 'Spain',\n",
       "        'Belgium', 'Switzerland', 'Uruguay', 'Portugal', 'Brazil', 'Wales',\n",
       "        'Netherlands', 'Tunisia', 'Poland', 'Japan', 'Croatia', 'Cameroon',\n",
       "        'Korea Republic', 'Ecuador', 'Iran', 'Australia', 'Saudi Arabia',\n",
       "        'Canada', 'Costa Rica', 'Ghana', 'Serbia'], dtype=object),\n",
       " array(['Ecuador', 'Iran', 'Netherlands', 'Wales', 'Saudi Arabia',\n",
       "        'Tunisia', 'Poland', 'Australia', 'Croatia', 'Japan', 'Costa Rica',\n",
       "        'Canada', 'Cameroon', 'Korea Republic', 'Ghana', 'Serbia',\n",
       "        'Senegal', 'United States', 'Denmark', 'Mexico', 'Morocco',\n",
       "        'Germany', 'Switzerland', 'Uruguay', 'Qatar', 'England', 'France',\n",
       "        'Argentina', 'Belgium', 'Spain', 'Portugal', 'Brazil'],\n",
       "       dtype=object))"
      ]
     },
     "execution_count": 59,
     "metadata": {},
     "output_type": "execute_result"
    }
   ],
   "source": [
    "(matches_fifa_wc2022['1'].unique(),matches_fifa_wc2022['2'].unique())"
   ]
  },
  {
   "cell_type": "code",
   "execution_count": 60,
   "metadata": {},
   "outputs": [
    {
     "data": {
      "application/vnd.plotly.v1+json": {
       "config": {
        "plotlyServerURL": "https://plotly.com"
       },
       "data": [
        {
         "colorscale": [
          [
           0,
           "#636efa"
          ],
          [
           1,
           "#636efa"
          ]
         ],
         "geo": "geo",
         "hovertemplate": "year=1952<br>iso_alpha=%{location}<extra></extra>",
         "locations": [
          "AFG",
          "ALB",
          "DZA",
          "AGO",
          "ARG",
          "AUS",
          "AUT",
          "BHR",
          "BGD",
          "BEL",
          "BEN",
          "BOL",
          "BIH",
          "BWA",
          "BRA",
          "BGR",
          "BFA",
          "BDI",
          "KHM",
          "CMR",
          "CAN",
          "CAF",
          "TCD",
          "CHL",
          "CHN",
          "COL",
          "COM",
          "COD",
          "COG",
          "CRI",
          "CIV",
          "HRV",
          "CUB",
          "CZE",
          "DNK",
          "DJI",
          "DOM",
          "ECU",
          "EGY",
          "SLV",
          "GNQ",
          "ERI",
          "ETH",
          "FIN",
          "FRA",
          "GAB",
          "GMB",
          "DEU",
          "GHA",
          "GRC",
          "GTM",
          "GIN",
          "GNB",
          "HTI",
          "HND",
          "HKG",
          "HUN",
          "ISL",
          "IND",
          "IDN",
          "IRN",
          "IRQ",
          "IRL",
          "ISR",
          "ITA",
          "JAM",
          "JPN",
          "JOR",
          "KEN",
          "KOR",
          "KOR",
          "KWT",
          "LBN",
          "LSO",
          "LBR",
          "LBY",
          "MDG",
          "MWI",
          "MYS",
          "MLI",
          "MRT",
          "MUS",
          "MEX",
          "MNG",
          "MNE",
          "MAR",
          "MOZ",
          "MMR",
          "NAM",
          "NPL",
          "NLD",
          "NZL",
          "NIC",
          "NER",
          "NGA",
          "NOR",
          "OMN",
          "PAK",
          "PAN",
          "PRY",
          "PER",
          "PHL",
          "POL",
          "PRT",
          "PRI",
          "REU",
          "ROU",
          "RWA",
          "STP",
          "SAU",
          "SEN",
          "SRB",
          "SLE",
          "SGP",
          "SVK",
          "SVN",
          "SOM",
          "ZAF",
          "ESP",
          "LKA",
          "SDN",
          "SWZ",
          "SWE",
          "CHE",
          "SYR",
          "TWN",
          "TZA",
          "THA",
          "TGO",
          "TTO",
          "TUN",
          "TUR",
          "UGA",
          "GBR",
          "USA",
          "URY",
          "VEN",
          "VNM",
          "PSE",
          "YEM",
          "ZMB",
          "ZWE"
         ],
         "name": "",
         "showlegend": true,
         "showscale": false,
         "type": "choropleth",
         "z": [
          1,
          1,
          1,
          1,
          1,
          1,
          1,
          1,
          1,
          1,
          1,
          1,
          1,
          1,
          1,
          1,
          1,
          1,
          1,
          1,
          1,
          1,
          1,
          1,
          1,
          1,
          1,
          1,
          1,
          1,
          1,
          1,
          1,
          1,
          1,
          1,
          1,
          1,
          1,
          1,
          1,
          1,
          1,
          1,
          1,
          1,
          1,
          1,
          1,
          1,
          1,
          1,
          1,
          1,
          1,
          1,
          1,
          1,
          1,
          1,
          1,
          1,
          1,
          1,
          1,
          1,
          1,
          1,
          1,
          1,
          1,
          1,
          1,
          1,
          1,
          1,
          1,
          1,
          1,
          1,
          1,
          1,
          1,
          1,
          1,
          1,
          1,
          1,
          1,
          1,
          1,
          1,
          1,
          1,
          1,
          1,
          1,
          1,
          1,
          1,
          1,
          1,
          1,
          1,
          1,
          1,
          1,
          1,
          1,
          1,
          1,
          1,
          1,
          1,
          1,
          1,
          1,
          1,
          1,
          1,
          1,
          1,
          1,
          1,
          1,
          1,
          1,
          1,
          1,
          1,
          1,
          1,
          1,
          1,
          1,
          1,
          1,
          1,
          1,
          1,
          1,
          1
         ]
        }
       ],
       "frames": [
        {
         "data": [
          {
           "colorscale": [
            [
             0,
             "#636efa"
            ],
            [
             1,
             "#636efa"
            ]
           ],
           "geo": "geo",
           "hovertemplate": "year=1952<br>iso_alpha=%{location}<extra></extra>",
           "locations": [
            "AFG",
            "ALB",
            "DZA",
            "AGO",
            "ARG",
            "AUS",
            "AUT",
            "BHR",
            "BGD",
            "BEL",
            "BEN",
            "BOL",
            "BIH",
            "BWA",
            "BRA",
            "BGR",
            "BFA",
            "BDI",
            "KHM",
            "CMR",
            "CAN",
            "CAF",
            "TCD",
            "CHL",
            "CHN",
            "COL",
            "COM",
            "COD",
            "COG",
            "CRI",
            "CIV",
            "HRV",
            "CUB",
            "CZE",
            "DNK",
            "DJI",
            "DOM",
            "ECU",
            "EGY",
            "SLV",
            "GNQ",
            "ERI",
            "ETH",
            "FIN",
            "FRA",
            "GAB",
            "GMB",
            "DEU",
            "GHA",
            "GRC",
            "GTM",
            "GIN",
            "GNB",
            "HTI",
            "HND",
            "HKG",
            "HUN",
            "ISL",
            "IND",
            "IDN",
            "IRN",
            "IRQ",
            "IRL",
            "ISR",
            "ITA",
            "JAM",
            "JPN",
            "JOR",
            "KEN",
            "KOR",
            "KOR",
            "KWT",
            "LBN",
            "LSO",
            "LBR",
            "LBY",
            "MDG",
            "MWI",
            "MYS",
            "MLI",
            "MRT",
            "MUS",
            "MEX",
            "MNG",
            "MNE",
            "MAR",
            "MOZ",
            "MMR",
            "NAM",
            "NPL",
            "NLD",
            "NZL",
            "NIC",
            "NER",
            "NGA",
            "NOR",
            "OMN",
            "PAK",
            "PAN",
            "PRY",
            "PER",
            "PHL",
            "POL",
            "PRT",
            "PRI",
            "REU",
            "ROU",
            "RWA",
            "STP",
            "SAU",
            "SEN",
            "SRB",
            "SLE",
            "SGP",
            "SVK",
            "SVN",
            "SOM",
            "ZAF",
            "ESP",
            "LKA",
            "SDN",
            "SWZ",
            "SWE",
            "CHE",
            "SYR",
            "TWN",
            "TZA",
            "THA",
            "TGO",
            "TTO",
            "TUN",
            "TUR",
            "UGA",
            "GBR",
            "USA",
            "URY",
            "VEN",
            "VNM",
            "PSE",
            "YEM",
            "ZMB",
            "ZWE"
           ],
           "name": "",
           "showlegend": true,
           "showscale": false,
           "type": "choropleth",
           "z": [
            1,
            1,
            1,
            1,
            1,
            1,
            1,
            1,
            1,
            1,
            1,
            1,
            1,
            1,
            1,
            1,
            1,
            1,
            1,
            1,
            1,
            1,
            1,
            1,
            1,
            1,
            1,
            1,
            1,
            1,
            1,
            1,
            1,
            1,
            1,
            1,
            1,
            1,
            1,
            1,
            1,
            1,
            1,
            1,
            1,
            1,
            1,
            1,
            1,
            1,
            1,
            1,
            1,
            1,
            1,
            1,
            1,
            1,
            1,
            1,
            1,
            1,
            1,
            1,
            1,
            1,
            1,
            1,
            1,
            1,
            1,
            1,
            1,
            1,
            1,
            1,
            1,
            1,
            1,
            1,
            1,
            1,
            1,
            1,
            1,
            1,
            1,
            1,
            1,
            1,
            1,
            1,
            1,
            1,
            1,
            1,
            1,
            1,
            1,
            1,
            1,
            1,
            1,
            1,
            1,
            1,
            1,
            1,
            1,
            1,
            1,
            1,
            1,
            1,
            1,
            1,
            1,
            1,
            1,
            1,
            1,
            1,
            1,
            1,
            1,
            1,
            1,
            1,
            1,
            1,
            1,
            1,
            1,
            1,
            1,
            1,
            1,
            1,
            1,
            1,
            1,
            1
           ]
          }
         ],
         "name": "1952"
        },
        {
         "data": [
          {
           "colorscale": [
            [
             0,
             "#636efa"
            ],
            [
             1,
             "#636efa"
            ]
           ],
           "geo": "geo",
           "hovertemplate": "year=1957<br>iso_alpha=%{location}<extra></extra>",
           "locations": [
            "AFG",
            "ALB",
            "DZA",
            "AGO",
            "ARG",
            "AUS",
            "AUT",
            "BHR",
            "BGD",
            "BEL",
            "BEN",
            "BOL",
            "BIH",
            "BWA",
            "BRA",
            "BGR",
            "BFA",
            "BDI",
            "KHM",
            "CMR",
            "CAN",
            "CAF",
            "TCD",
            "CHL",
            "CHN",
            "COL",
            "COM",
            "COD",
            "COG",
            "CRI",
            "CIV",
            "HRV",
            "CUB",
            "CZE",
            "DNK",
            "DJI",
            "DOM",
            "ECU",
            "EGY",
            "SLV",
            "GNQ",
            "ERI",
            "ETH",
            "FIN",
            "FRA",
            "GAB",
            "GMB",
            "DEU",
            "GHA",
            "GRC",
            "GTM",
            "GIN",
            "GNB",
            "HTI",
            "HND",
            "HKG",
            "HUN",
            "ISL",
            "IND",
            "IDN",
            "IRN",
            "IRQ",
            "IRL",
            "ISR",
            "ITA",
            "JAM",
            "JPN",
            "JOR",
            "KEN",
            "KOR",
            "KOR",
            "KWT",
            "LBN",
            "LSO",
            "LBR",
            "LBY",
            "MDG",
            "MWI",
            "MYS",
            "MLI",
            "MRT",
            "MUS",
            "MEX",
            "MNG",
            "MNE",
            "MAR",
            "MOZ",
            "MMR",
            "NAM",
            "NPL",
            "NLD",
            "NZL",
            "NIC",
            "NER",
            "NGA",
            "NOR",
            "OMN",
            "PAK",
            "PAN",
            "PRY",
            "PER",
            "PHL",
            "POL",
            "PRT",
            "PRI",
            "REU",
            "ROU",
            "RWA",
            "STP",
            "SAU",
            "SEN",
            "SRB",
            "SLE",
            "SGP",
            "SVK",
            "SVN",
            "SOM",
            "ZAF",
            "ESP",
            "LKA",
            "SDN",
            "SWZ",
            "SWE",
            "CHE",
            "SYR",
            "TWN",
            "TZA",
            "THA",
            "TGO",
            "TTO",
            "TUN",
            "TUR",
            "UGA",
            "GBR",
            "USA",
            "URY",
            "VEN",
            "VNM",
            "PSE",
            "YEM",
            "ZMB",
            "ZWE"
           ],
           "name": "",
           "showlegend": true,
           "showscale": false,
           "type": "choropleth",
           "z": [
            1,
            1,
            1,
            1,
            1,
            1,
            1,
            1,
            1,
            1,
            1,
            1,
            1,
            1,
            1,
            1,
            1,
            1,
            1,
            1,
            1,
            1,
            1,
            1,
            1,
            1,
            1,
            1,
            1,
            1,
            1,
            1,
            1,
            1,
            1,
            1,
            1,
            1,
            1,
            1,
            1,
            1,
            1,
            1,
            1,
            1,
            1,
            1,
            1,
            1,
            1,
            1,
            1,
            1,
            1,
            1,
            1,
            1,
            1,
            1,
            1,
            1,
            1,
            1,
            1,
            1,
            1,
            1,
            1,
            1,
            1,
            1,
            1,
            1,
            1,
            1,
            1,
            1,
            1,
            1,
            1,
            1,
            1,
            1,
            1,
            1,
            1,
            1,
            1,
            1,
            1,
            1,
            1,
            1,
            1,
            1,
            1,
            1,
            1,
            1,
            1,
            1,
            1,
            1,
            1,
            1,
            1,
            1,
            1,
            1,
            1,
            1,
            1,
            1,
            1,
            1,
            1,
            1,
            1,
            1,
            1,
            1,
            1,
            1,
            1,
            1,
            1,
            1,
            1,
            1,
            1,
            1,
            1,
            1,
            1,
            1,
            1,
            1,
            1,
            1,
            1,
            1
           ]
          }
         ],
         "name": "1957"
        },
        {
         "data": [
          {
           "colorscale": [
            [
             0,
             "#636efa"
            ],
            [
             1,
             "#636efa"
            ]
           ],
           "geo": "geo",
           "hovertemplate": "year=1962<br>iso_alpha=%{location}<extra></extra>",
           "locations": [
            "AFG",
            "ALB",
            "DZA",
            "AGO",
            "ARG",
            "AUS",
            "AUT",
            "BHR",
            "BGD",
            "BEL",
            "BEN",
            "BOL",
            "BIH",
            "BWA",
            "BRA",
            "BGR",
            "BFA",
            "BDI",
            "KHM",
            "CMR",
            "CAN",
            "CAF",
            "TCD",
            "CHL",
            "CHN",
            "COL",
            "COM",
            "COD",
            "COG",
            "CRI",
            "CIV",
            "HRV",
            "CUB",
            "CZE",
            "DNK",
            "DJI",
            "DOM",
            "ECU",
            "EGY",
            "SLV",
            "GNQ",
            "ERI",
            "ETH",
            "FIN",
            "FRA",
            "GAB",
            "GMB",
            "DEU",
            "GHA",
            "GRC",
            "GTM",
            "GIN",
            "GNB",
            "HTI",
            "HND",
            "HKG",
            "HUN",
            "ISL",
            "IND",
            "IDN",
            "IRN",
            "IRQ",
            "IRL",
            "ISR",
            "ITA",
            "JAM",
            "JPN",
            "JOR",
            "KEN",
            "KOR",
            "KOR",
            "KWT",
            "LBN",
            "LSO",
            "LBR",
            "LBY",
            "MDG",
            "MWI",
            "MYS",
            "MLI",
            "MRT",
            "MUS",
            "MEX",
            "MNG",
            "MNE",
            "MAR",
            "MOZ",
            "MMR",
            "NAM",
            "NPL",
            "NLD",
            "NZL",
            "NIC",
            "NER",
            "NGA",
            "NOR",
            "OMN",
            "PAK",
            "PAN",
            "PRY",
            "PER",
            "PHL",
            "POL",
            "PRT",
            "PRI",
            "REU",
            "ROU",
            "RWA",
            "STP",
            "SAU",
            "SEN",
            "SRB",
            "SLE",
            "SGP",
            "SVK",
            "SVN",
            "SOM",
            "ZAF",
            "ESP",
            "LKA",
            "SDN",
            "SWZ",
            "SWE",
            "CHE",
            "SYR",
            "TWN",
            "TZA",
            "THA",
            "TGO",
            "TTO",
            "TUN",
            "TUR",
            "UGA",
            "GBR",
            "USA",
            "URY",
            "VEN",
            "VNM",
            "PSE",
            "YEM",
            "ZMB",
            "ZWE"
           ],
           "name": "",
           "showlegend": true,
           "showscale": false,
           "type": "choropleth",
           "z": [
            1,
            1,
            1,
            1,
            1,
            1,
            1,
            1,
            1,
            1,
            1,
            1,
            1,
            1,
            1,
            1,
            1,
            1,
            1,
            1,
            1,
            1,
            1,
            1,
            1,
            1,
            1,
            1,
            1,
            1,
            1,
            1,
            1,
            1,
            1,
            1,
            1,
            1,
            1,
            1,
            1,
            1,
            1,
            1,
            1,
            1,
            1,
            1,
            1,
            1,
            1,
            1,
            1,
            1,
            1,
            1,
            1,
            1,
            1,
            1,
            1,
            1,
            1,
            1,
            1,
            1,
            1,
            1,
            1,
            1,
            1,
            1,
            1,
            1,
            1,
            1,
            1,
            1,
            1,
            1,
            1,
            1,
            1,
            1,
            1,
            1,
            1,
            1,
            1,
            1,
            1,
            1,
            1,
            1,
            1,
            1,
            1,
            1,
            1,
            1,
            1,
            1,
            1,
            1,
            1,
            1,
            1,
            1,
            1,
            1,
            1,
            1,
            1,
            1,
            1,
            1,
            1,
            1,
            1,
            1,
            1,
            1,
            1,
            1,
            1,
            1,
            1,
            1,
            1,
            1,
            1,
            1,
            1,
            1,
            1,
            1,
            1,
            1,
            1,
            1,
            1,
            1
           ]
          }
         ],
         "name": "1962"
        },
        {
         "data": [
          {
           "colorscale": [
            [
             0,
             "#636efa"
            ],
            [
             1,
             "#636efa"
            ]
           ],
           "geo": "geo",
           "hovertemplate": "year=1967<br>iso_alpha=%{location}<extra></extra>",
           "locations": [
            "AFG",
            "ALB",
            "DZA",
            "AGO",
            "ARG",
            "AUS",
            "AUT",
            "BHR",
            "BGD",
            "BEL",
            "BEN",
            "BOL",
            "BIH",
            "BWA",
            "BRA",
            "BGR",
            "BFA",
            "BDI",
            "KHM",
            "CMR",
            "CAN",
            "CAF",
            "TCD",
            "CHL",
            "CHN",
            "COL",
            "COM",
            "COD",
            "COG",
            "CRI",
            "CIV",
            "HRV",
            "CUB",
            "CZE",
            "DNK",
            "DJI",
            "DOM",
            "ECU",
            "EGY",
            "SLV",
            "GNQ",
            "ERI",
            "ETH",
            "FIN",
            "FRA",
            "GAB",
            "GMB",
            "DEU",
            "GHA",
            "GRC",
            "GTM",
            "GIN",
            "GNB",
            "HTI",
            "HND",
            "HKG",
            "HUN",
            "ISL",
            "IND",
            "IDN",
            "IRN",
            "IRQ",
            "IRL",
            "ISR",
            "ITA",
            "JAM",
            "JPN",
            "JOR",
            "KEN",
            "KOR",
            "KOR",
            "KWT",
            "LBN",
            "LSO",
            "LBR",
            "LBY",
            "MDG",
            "MWI",
            "MYS",
            "MLI",
            "MRT",
            "MUS",
            "MEX",
            "MNG",
            "MNE",
            "MAR",
            "MOZ",
            "MMR",
            "NAM",
            "NPL",
            "NLD",
            "NZL",
            "NIC",
            "NER",
            "NGA",
            "NOR",
            "OMN",
            "PAK",
            "PAN",
            "PRY",
            "PER",
            "PHL",
            "POL",
            "PRT",
            "PRI",
            "REU",
            "ROU",
            "RWA",
            "STP",
            "SAU",
            "SEN",
            "SRB",
            "SLE",
            "SGP",
            "SVK",
            "SVN",
            "SOM",
            "ZAF",
            "ESP",
            "LKA",
            "SDN",
            "SWZ",
            "SWE",
            "CHE",
            "SYR",
            "TWN",
            "TZA",
            "THA",
            "TGO",
            "TTO",
            "TUN",
            "TUR",
            "UGA",
            "GBR",
            "USA",
            "URY",
            "VEN",
            "VNM",
            "PSE",
            "YEM",
            "ZMB",
            "ZWE"
           ],
           "name": "",
           "showlegend": true,
           "showscale": false,
           "type": "choropleth",
           "z": [
            1,
            1,
            1,
            1,
            1,
            1,
            1,
            1,
            1,
            1,
            1,
            1,
            1,
            1,
            1,
            1,
            1,
            1,
            1,
            1,
            1,
            1,
            1,
            1,
            1,
            1,
            1,
            1,
            1,
            1,
            1,
            1,
            1,
            1,
            1,
            1,
            1,
            1,
            1,
            1,
            1,
            1,
            1,
            1,
            1,
            1,
            1,
            1,
            1,
            1,
            1,
            1,
            1,
            1,
            1,
            1,
            1,
            1,
            1,
            1,
            1,
            1,
            1,
            1,
            1,
            1,
            1,
            1,
            1,
            1,
            1,
            1,
            1,
            1,
            1,
            1,
            1,
            1,
            1,
            1,
            1,
            1,
            1,
            1,
            1,
            1,
            1,
            1,
            1,
            1,
            1,
            1,
            1,
            1,
            1,
            1,
            1,
            1,
            1,
            1,
            1,
            1,
            1,
            1,
            1,
            1,
            1,
            1,
            1,
            1,
            1,
            1,
            1,
            1,
            1,
            1,
            1,
            1,
            1,
            1,
            1,
            1,
            1,
            1,
            1,
            1,
            1,
            1,
            1,
            1,
            1,
            1,
            1,
            1,
            1,
            1,
            1,
            1,
            1,
            1,
            1,
            1
           ]
          }
         ],
         "name": "1967"
        },
        {
         "data": [
          {
           "colorscale": [
            [
             0,
             "#636efa"
            ],
            [
             1,
             "#636efa"
            ]
           ],
           "geo": "geo",
           "hovertemplate": "year=1972<br>iso_alpha=%{location}<extra></extra>",
           "locations": [
            "AFG",
            "ALB",
            "DZA",
            "AGO",
            "ARG",
            "AUS",
            "AUT",
            "BHR",
            "BGD",
            "BEL",
            "BEN",
            "BOL",
            "BIH",
            "BWA",
            "BRA",
            "BGR",
            "BFA",
            "BDI",
            "KHM",
            "CMR",
            "CAN",
            "CAF",
            "TCD",
            "CHL",
            "CHN",
            "COL",
            "COM",
            "COD",
            "COG",
            "CRI",
            "CIV",
            "HRV",
            "CUB",
            "CZE",
            "DNK",
            "DJI",
            "DOM",
            "ECU",
            "EGY",
            "SLV",
            "GNQ",
            "ERI",
            "ETH",
            "FIN",
            "FRA",
            "GAB",
            "GMB",
            "DEU",
            "GHA",
            "GRC",
            "GTM",
            "GIN",
            "GNB",
            "HTI",
            "HND",
            "HKG",
            "HUN",
            "ISL",
            "IND",
            "IDN",
            "IRN",
            "IRQ",
            "IRL",
            "ISR",
            "ITA",
            "JAM",
            "JPN",
            "JOR",
            "KEN",
            "KOR",
            "KOR",
            "KWT",
            "LBN",
            "LSO",
            "LBR",
            "LBY",
            "MDG",
            "MWI",
            "MYS",
            "MLI",
            "MRT",
            "MUS",
            "MEX",
            "MNG",
            "MNE",
            "MAR",
            "MOZ",
            "MMR",
            "NAM",
            "NPL",
            "NLD",
            "NZL",
            "NIC",
            "NER",
            "NGA",
            "NOR",
            "OMN",
            "PAK",
            "PAN",
            "PRY",
            "PER",
            "PHL",
            "POL",
            "PRT",
            "PRI",
            "REU",
            "ROU",
            "RWA",
            "STP",
            "SAU",
            "SEN",
            "SRB",
            "SLE",
            "SGP",
            "SVK",
            "SVN",
            "SOM",
            "ZAF",
            "ESP",
            "LKA",
            "SDN",
            "SWZ",
            "SWE",
            "CHE",
            "SYR",
            "TWN",
            "TZA",
            "THA",
            "TGO",
            "TTO",
            "TUN",
            "TUR",
            "UGA",
            "GBR",
            "USA",
            "URY",
            "VEN",
            "VNM",
            "PSE",
            "YEM",
            "ZMB",
            "ZWE"
           ],
           "name": "",
           "showlegend": true,
           "showscale": false,
           "type": "choropleth",
           "z": [
            1,
            1,
            1,
            1,
            1,
            1,
            1,
            1,
            1,
            1,
            1,
            1,
            1,
            1,
            1,
            1,
            1,
            1,
            1,
            1,
            1,
            1,
            1,
            1,
            1,
            1,
            1,
            1,
            1,
            1,
            1,
            1,
            1,
            1,
            1,
            1,
            1,
            1,
            1,
            1,
            1,
            1,
            1,
            1,
            1,
            1,
            1,
            1,
            1,
            1,
            1,
            1,
            1,
            1,
            1,
            1,
            1,
            1,
            1,
            1,
            1,
            1,
            1,
            1,
            1,
            1,
            1,
            1,
            1,
            1,
            1,
            1,
            1,
            1,
            1,
            1,
            1,
            1,
            1,
            1,
            1,
            1,
            1,
            1,
            1,
            1,
            1,
            1,
            1,
            1,
            1,
            1,
            1,
            1,
            1,
            1,
            1,
            1,
            1,
            1,
            1,
            1,
            1,
            1,
            1,
            1,
            1,
            1,
            1,
            1,
            1,
            1,
            1,
            1,
            1,
            1,
            1,
            1,
            1,
            1,
            1,
            1,
            1,
            1,
            1,
            1,
            1,
            1,
            1,
            1,
            1,
            1,
            1,
            1,
            1,
            1,
            1,
            1,
            1,
            1,
            1,
            1
           ]
          }
         ],
         "name": "1972"
        },
        {
         "data": [
          {
           "colorscale": [
            [
             0,
             "#636efa"
            ],
            [
             1,
             "#636efa"
            ]
           ],
           "geo": "geo",
           "hovertemplate": "year=1977<br>iso_alpha=%{location}<extra></extra>",
           "locations": [
            "AFG",
            "ALB",
            "DZA",
            "AGO",
            "ARG",
            "AUS",
            "AUT",
            "BHR",
            "BGD",
            "BEL",
            "BEN",
            "BOL",
            "BIH",
            "BWA",
            "BRA",
            "BGR",
            "BFA",
            "BDI",
            "KHM",
            "CMR",
            "CAN",
            "CAF",
            "TCD",
            "CHL",
            "CHN",
            "COL",
            "COM",
            "COD",
            "COG",
            "CRI",
            "CIV",
            "HRV",
            "CUB",
            "CZE",
            "DNK",
            "DJI",
            "DOM",
            "ECU",
            "EGY",
            "SLV",
            "GNQ",
            "ERI",
            "ETH",
            "FIN",
            "FRA",
            "GAB",
            "GMB",
            "DEU",
            "GHA",
            "GRC",
            "GTM",
            "GIN",
            "GNB",
            "HTI",
            "HND",
            "HKG",
            "HUN",
            "ISL",
            "IND",
            "IDN",
            "IRN",
            "IRQ",
            "IRL",
            "ISR",
            "ITA",
            "JAM",
            "JPN",
            "JOR",
            "KEN",
            "KOR",
            "KOR",
            "KWT",
            "LBN",
            "LSO",
            "LBR",
            "LBY",
            "MDG",
            "MWI",
            "MYS",
            "MLI",
            "MRT",
            "MUS",
            "MEX",
            "MNG",
            "MNE",
            "MAR",
            "MOZ",
            "MMR",
            "NAM",
            "NPL",
            "NLD",
            "NZL",
            "NIC",
            "NER",
            "NGA",
            "NOR",
            "OMN",
            "PAK",
            "PAN",
            "PRY",
            "PER",
            "PHL",
            "POL",
            "PRT",
            "PRI",
            "REU",
            "ROU",
            "RWA",
            "STP",
            "SAU",
            "SEN",
            "SRB",
            "SLE",
            "SGP",
            "SVK",
            "SVN",
            "SOM",
            "ZAF",
            "ESP",
            "LKA",
            "SDN",
            "SWZ",
            "SWE",
            "CHE",
            "SYR",
            "TWN",
            "TZA",
            "THA",
            "TGO",
            "TTO",
            "TUN",
            "TUR",
            "UGA",
            "GBR",
            "USA",
            "URY",
            "VEN",
            "VNM",
            "PSE",
            "YEM",
            "ZMB",
            "ZWE"
           ],
           "name": "",
           "showlegend": true,
           "showscale": false,
           "type": "choropleth",
           "z": [
            1,
            1,
            1,
            1,
            1,
            1,
            1,
            1,
            1,
            1,
            1,
            1,
            1,
            1,
            1,
            1,
            1,
            1,
            1,
            1,
            1,
            1,
            1,
            1,
            1,
            1,
            1,
            1,
            1,
            1,
            1,
            1,
            1,
            1,
            1,
            1,
            1,
            1,
            1,
            1,
            1,
            1,
            1,
            1,
            1,
            1,
            1,
            1,
            1,
            1,
            1,
            1,
            1,
            1,
            1,
            1,
            1,
            1,
            1,
            1,
            1,
            1,
            1,
            1,
            1,
            1,
            1,
            1,
            1,
            1,
            1,
            1,
            1,
            1,
            1,
            1,
            1,
            1,
            1,
            1,
            1,
            1,
            1,
            1,
            1,
            1,
            1,
            1,
            1,
            1,
            1,
            1,
            1,
            1,
            1,
            1,
            1,
            1,
            1,
            1,
            1,
            1,
            1,
            1,
            1,
            1,
            1,
            1,
            1,
            1,
            1,
            1,
            1,
            1,
            1,
            1,
            1,
            1,
            1,
            1,
            1,
            1,
            1,
            1,
            1,
            1,
            1,
            1,
            1,
            1,
            1,
            1,
            1,
            1,
            1,
            1,
            1,
            1,
            1,
            1,
            1,
            1
           ]
          }
         ],
         "name": "1977"
        },
        {
         "data": [
          {
           "colorscale": [
            [
             0,
             "#636efa"
            ],
            [
             1,
             "#636efa"
            ]
           ],
           "geo": "geo",
           "hovertemplate": "year=1982<br>iso_alpha=%{location}<extra></extra>",
           "locations": [
            "AFG",
            "ALB",
            "DZA",
            "AGO",
            "ARG",
            "AUS",
            "AUT",
            "BHR",
            "BGD",
            "BEL",
            "BEN",
            "BOL",
            "BIH",
            "BWA",
            "BRA",
            "BGR",
            "BFA",
            "BDI",
            "KHM",
            "CMR",
            "CAN",
            "CAF",
            "TCD",
            "CHL",
            "CHN",
            "COL",
            "COM",
            "COD",
            "COG",
            "CRI",
            "CIV",
            "HRV",
            "CUB",
            "CZE",
            "DNK",
            "DJI",
            "DOM",
            "ECU",
            "EGY",
            "SLV",
            "GNQ",
            "ERI",
            "ETH",
            "FIN",
            "FRA",
            "GAB",
            "GMB",
            "DEU",
            "GHA",
            "GRC",
            "GTM",
            "GIN",
            "GNB",
            "HTI",
            "HND",
            "HKG",
            "HUN",
            "ISL",
            "IND",
            "IDN",
            "IRN",
            "IRQ",
            "IRL",
            "ISR",
            "ITA",
            "JAM",
            "JPN",
            "JOR",
            "KEN",
            "KOR",
            "KOR",
            "KWT",
            "LBN",
            "LSO",
            "LBR",
            "LBY",
            "MDG",
            "MWI",
            "MYS",
            "MLI",
            "MRT",
            "MUS",
            "MEX",
            "MNG",
            "MNE",
            "MAR",
            "MOZ",
            "MMR",
            "NAM",
            "NPL",
            "NLD",
            "NZL",
            "NIC",
            "NER",
            "NGA",
            "NOR",
            "OMN",
            "PAK",
            "PAN",
            "PRY",
            "PER",
            "PHL",
            "POL",
            "PRT",
            "PRI",
            "REU",
            "ROU",
            "RWA",
            "STP",
            "SAU",
            "SEN",
            "SRB",
            "SLE",
            "SGP",
            "SVK",
            "SVN",
            "SOM",
            "ZAF",
            "ESP",
            "LKA",
            "SDN",
            "SWZ",
            "SWE",
            "CHE",
            "SYR",
            "TWN",
            "TZA",
            "THA",
            "TGO",
            "TTO",
            "TUN",
            "TUR",
            "UGA",
            "GBR",
            "USA",
            "URY",
            "VEN",
            "VNM",
            "PSE",
            "YEM",
            "ZMB",
            "ZWE"
           ],
           "name": "",
           "showlegend": true,
           "showscale": false,
           "type": "choropleth",
           "z": [
            1,
            1,
            1,
            1,
            1,
            1,
            1,
            1,
            1,
            1,
            1,
            1,
            1,
            1,
            1,
            1,
            1,
            1,
            1,
            1,
            1,
            1,
            1,
            1,
            1,
            1,
            1,
            1,
            1,
            1,
            1,
            1,
            1,
            1,
            1,
            1,
            1,
            1,
            1,
            1,
            1,
            1,
            1,
            1,
            1,
            1,
            1,
            1,
            1,
            1,
            1,
            1,
            1,
            1,
            1,
            1,
            1,
            1,
            1,
            1,
            1,
            1,
            1,
            1,
            1,
            1,
            1,
            1,
            1,
            1,
            1,
            1,
            1,
            1,
            1,
            1,
            1,
            1,
            1,
            1,
            1,
            1,
            1,
            1,
            1,
            1,
            1,
            1,
            1,
            1,
            1,
            1,
            1,
            1,
            1,
            1,
            1,
            1,
            1,
            1,
            1,
            1,
            1,
            1,
            1,
            1,
            1,
            1,
            1,
            1,
            1,
            1,
            1,
            1,
            1,
            1,
            1,
            1,
            1,
            1,
            1,
            1,
            1,
            1,
            1,
            1,
            1,
            1,
            1,
            1,
            1,
            1,
            1,
            1,
            1,
            1,
            1,
            1,
            1,
            1,
            1,
            1
           ]
          }
         ],
         "name": "1982"
        },
        {
         "data": [
          {
           "colorscale": [
            [
             0,
             "#636efa"
            ],
            [
             1,
             "#636efa"
            ]
           ],
           "geo": "geo",
           "hovertemplate": "year=1987<br>iso_alpha=%{location}<extra></extra>",
           "locations": [
            "AFG",
            "ALB",
            "DZA",
            "AGO",
            "ARG",
            "AUS",
            "AUT",
            "BHR",
            "BGD",
            "BEL",
            "BEN",
            "BOL",
            "BIH",
            "BWA",
            "BRA",
            "BGR",
            "BFA",
            "BDI",
            "KHM",
            "CMR",
            "CAN",
            "CAF",
            "TCD",
            "CHL",
            "CHN",
            "COL",
            "COM",
            "COD",
            "COG",
            "CRI",
            "CIV",
            "HRV",
            "CUB",
            "CZE",
            "DNK",
            "DJI",
            "DOM",
            "ECU",
            "EGY",
            "SLV",
            "GNQ",
            "ERI",
            "ETH",
            "FIN",
            "FRA",
            "GAB",
            "GMB",
            "DEU",
            "GHA",
            "GRC",
            "GTM",
            "GIN",
            "GNB",
            "HTI",
            "HND",
            "HKG",
            "HUN",
            "ISL",
            "IND",
            "IDN",
            "IRN",
            "IRQ",
            "IRL",
            "ISR",
            "ITA",
            "JAM",
            "JPN",
            "JOR",
            "KEN",
            "KOR",
            "KOR",
            "KWT",
            "LBN",
            "LSO",
            "LBR",
            "LBY",
            "MDG",
            "MWI",
            "MYS",
            "MLI",
            "MRT",
            "MUS",
            "MEX",
            "MNG",
            "MNE",
            "MAR",
            "MOZ",
            "MMR",
            "NAM",
            "NPL",
            "NLD",
            "NZL",
            "NIC",
            "NER",
            "NGA",
            "NOR",
            "OMN",
            "PAK",
            "PAN",
            "PRY",
            "PER",
            "PHL",
            "POL",
            "PRT",
            "PRI",
            "REU",
            "ROU",
            "RWA",
            "STP",
            "SAU",
            "SEN",
            "SRB",
            "SLE",
            "SGP",
            "SVK",
            "SVN",
            "SOM",
            "ZAF",
            "ESP",
            "LKA",
            "SDN",
            "SWZ",
            "SWE",
            "CHE",
            "SYR",
            "TWN",
            "TZA",
            "THA",
            "TGO",
            "TTO",
            "TUN",
            "TUR",
            "UGA",
            "GBR",
            "USA",
            "URY",
            "VEN",
            "VNM",
            "PSE",
            "YEM",
            "ZMB",
            "ZWE"
           ],
           "name": "",
           "showlegend": true,
           "showscale": false,
           "type": "choropleth",
           "z": [
            1,
            1,
            1,
            1,
            1,
            1,
            1,
            1,
            1,
            1,
            1,
            1,
            1,
            1,
            1,
            1,
            1,
            1,
            1,
            1,
            1,
            1,
            1,
            1,
            1,
            1,
            1,
            1,
            1,
            1,
            1,
            1,
            1,
            1,
            1,
            1,
            1,
            1,
            1,
            1,
            1,
            1,
            1,
            1,
            1,
            1,
            1,
            1,
            1,
            1,
            1,
            1,
            1,
            1,
            1,
            1,
            1,
            1,
            1,
            1,
            1,
            1,
            1,
            1,
            1,
            1,
            1,
            1,
            1,
            1,
            1,
            1,
            1,
            1,
            1,
            1,
            1,
            1,
            1,
            1,
            1,
            1,
            1,
            1,
            1,
            1,
            1,
            1,
            1,
            1,
            1,
            1,
            1,
            1,
            1,
            1,
            1,
            1,
            1,
            1,
            1,
            1,
            1,
            1,
            1,
            1,
            1,
            1,
            1,
            1,
            1,
            1,
            1,
            1,
            1,
            1,
            1,
            1,
            1,
            1,
            1,
            1,
            1,
            1,
            1,
            1,
            1,
            1,
            1,
            1,
            1,
            1,
            1,
            1,
            1,
            1,
            1,
            1,
            1,
            1,
            1,
            1
           ]
          }
         ],
         "name": "1987"
        },
        {
         "data": [
          {
           "colorscale": [
            [
             0,
             "#636efa"
            ],
            [
             1,
             "#636efa"
            ]
           ],
           "geo": "geo",
           "hovertemplate": "year=1992<br>iso_alpha=%{location}<extra></extra>",
           "locations": [
            "AFG",
            "ALB",
            "DZA",
            "AGO",
            "ARG",
            "AUS",
            "AUT",
            "BHR",
            "BGD",
            "BEL",
            "BEN",
            "BOL",
            "BIH",
            "BWA",
            "BRA",
            "BGR",
            "BFA",
            "BDI",
            "KHM",
            "CMR",
            "CAN",
            "CAF",
            "TCD",
            "CHL",
            "CHN",
            "COL",
            "COM",
            "COD",
            "COG",
            "CRI",
            "CIV",
            "HRV",
            "CUB",
            "CZE",
            "DNK",
            "DJI",
            "DOM",
            "ECU",
            "EGY",
            "SLV",
            "GNQ",
            "ERI",
            "ETH",
            "FIN",
            "FRA",
            "GAB",
            "GMB",
            "DEU",
            "GHA",
            "GRC",
            "GTM",
            "GIN",
            "GNB",
            "HTI",
            "HND",
            "HKG",
            "HUN",
            "ISL",
            "IND",
            "IDN",
            "IRN",
            "IRQ",
            "IRL",
            "ISR",
            "ITA",
            "JAM",
            "JPN",
            "JOR",
            "KEN",
            "KOR",
            "KOR",
            "KWT",
            "LBN",
            "LSO",
            "LBR",
            "LBY",
            "MDG",
            "MWI",
            "MYS",
            "MLI",
            "MRT",
            "MUS",
            "MEX",
            "MNG",
            "MNE",
            "MAR",
            "MOZ",
            "MMR",
            "NAM",
            "NPL",
            "NLD",
            "NZL",
            "NIC",
            "NER",
            "NGA",
            "NOR",
            "OMN",
            "PAK",
            "PAN",
            "PRY",
            "PER",
            "PHL",
            "POL",
            "PRT",
            "PRI",
            "REU",
            "ROU",
            "RWA",
            "STP",
            "SAU",
            "SEN",
            "SRB",
            "SLE",
            "SGP",
            "SVK",
            "SVN",
            "SOM",
            "ZAF",
            "ESP",
            "LKA",
            "SDN",
            "SWZ",
            "SWE",
            "CHE",
            "SYR",
            "TWN",
            "TZA",
            "THA",
            "TGO",
            "TTO",
            "TUN",
            "TUR",
            "UGA",
            "GBR",
            "USA",
            "URY",
            "VEN",
            "VNM",
            "PSE",
            "YEM",
            "ZMB",
            "ZWE"
           ],
           "name": "",
           "showlegend": true,
           "showscale": false,
           "type": "choropleth",
           "z": [
            1,
            1,
            1,
            1,
            1,
            1,
            1,
            1,
            1,
            1,
            1,
            1,
            1,
            1,
            1,
            1,
            1,
            1,
            1,
            1,
            1,
            1,
            1,
            1,
            1,
            1,
            1,
            1,
            1,
            1,
            1,
            1,
            1,
            1,
            1,
            1,
            1,
            1,
            1,
            1,
            1,
            1,
            1,
            1,
            1,
            1,
            1,
            1,
            1,
            1,
            1,
            1,
            1,
            1,
            1,
            1,
            1,
            1,
            1,
            1,
            1,
            1,
            1,
            1,
            1,
            1,
            1,
            1,
            1,
            1,
            1,
            1,
            1,
            1,
            1,
            1,
            1,
            1,
            1,
            1,
            1,
            1,
            1,
            1,
            1,
            1,
            1,
            1,
            1,
            1,
            1,
            1,
            1,
            1,
            1,
            1,
            1,
            1,
            1,
            1,
            1,
            1,
            1,
            1,
            1,
            1,
            1,
            1,
            1,
            1,
            1,
            1,
            1,
            1,
            1,
            1,
            1,
            1,
            1,
            1,
            1,
            1,
            1,
            1,
            1,
            1,
            1,
            1,
            1,
            1,
            1,
            1,
            1,
            1,
            1,
            1,
            1,
            1,
            1,
            1,
            1,
            1
           ]
          }
         ],
         "name": "1992"
        },
        {
         "data": [
          {
           "colorscale": [
            [
             0,
             "#636efa"
            ],
            [
             1,
             "#636efa"
            ]
           ],
           "geo": "geo",
           "hovertemplate": "year=1997<br>iso_alpha=%{location}<extra></extra>",
           "locations": [
            "AFG",
            "ALB",
            "DZA",
            "AGO",
            "ARG",
            "AUS",
            "AUT",
            "BHR",
            "BGD",
            "BEL",
            "BEN",
            "BOL",
            "BIH",
            "BWA",
            "BRA",
            "BGR",
            "BFA",
            "BDI",
            "KHM",
            "CMR",
            "CAN",
            "CAF",
            "TCD",
            "CHL",
            "CHN",
            "COL",
            "COM",
            "COD",
            "COG",
            "CRI",
            "CIV",
            "HRV",
            "CUB",
            "CZE",
            "DNK",
            "DJI",
            "DOM",
            "ECU",
            "EGY",
            "SLV",
            "GNQ",
            "ERI",
            "ETH",
            "FIN",
            "FRA",
            "GAB",
            "GMB",
            "DEU",
            "GHA",
            "GRC",
            "GTM",
            "GIN",
            "GNB",
            "HTI",
            "HND",
            "HKG",
            "HUN",
            "ISL",
            "IND",
            "IDN",
            "IRN",
            "IRQ",
            "IRL",
            "ISR",
            "ITA",
            "JAM",
            "JPN",
            "JOR",
            "KEN",
            "KOR",
            "KOR",
            "KWT",
            "LBN",
            "LSO",
            "LBR",
            "LBY",
            "MDG",
            "MWI",
            "MYS",
            "MLI",
            "MRT",
            "MUS",
            "MEX",
            "MNG",
            "MNE",
            "MAR",
            "MOZ",
            "MMR",
            "NAM",
            "NPL",
            "NLD",
            "NZL",
            "NIC",
            "NER",
            "NGA",
            "NOR",
            "OMN",
            "PAK",
            "PAN",
            "PRY",
            "PER",
            "PHL",
            "POL",
            "PRT",
            "PRI",
            "REU",
            "ROU",
            "RWA",
            "STP",
            "SAU",
            "SEN",
            "SRB",
            "SLE",
            "SGP",
            "SVK",
            "SVN",
            "SOM",
            "ZAF",
            "ESP",
            "LKA",
            "SDN",
            "SWZ",
            "SWE",
            "CHE",
            "SYR",
            "TWN",
            "TZA",
            "THA",
            "TGO",
            "TTO",
            "TUN",
            "TUR",
            "UGA",
            "GBR",
            "USA",
            "URY",
            "VEN",
            "VNM",
            "PSE",
            "YEM",
            "ZMB",
            "ZWE"
           ],
           "name": "",
           "showlegend": true,
           "showscale": false,
           "type": "choropleth",
           "z": [
            1,
            1,
            1,
            1,
            1,
            1,
            1,
            1,
            1,
            1,
            1,
            1,
            1,
            1,
            1,
            1,
            1,
            1,
            1,
            1,
            1,
            1,
            1,
            1,
            1,
            1,
            1,
            1,
            1,
            1,
            1,
            1,
            1,
            1,
            1,
            1,
            1,
            1,
            1,
            1,
            1,
            1,
            1,
            1,
            1,
            1,
            1,
            1,
            1,
            1,
            1,
            1,
            1,
            1,
            1,
            1,
            1,
            1,
            1,
            1,
            1,
            1,
            1,
            1,
            1,
            1,
            1,
            1,
            1,
            1,
            1,
            1,
            1,
            1,
            1,
            1,
            1,
            1,
            1,
            1,
            1,
            1,
            1,
            1,
            1,
            1,
            1,
            1,
            1,
            1,
            1,
            1,
            1,
            1,
            1,
            1,
            1,
            1,
            1,
            1,
            1,
            1,
            1,
            1,
            1,
            1,
            1,
            1,
            1,
            1,
            1,
            1,
            1,
            1,
            1,
            1,
            1,
            1,
            1,
            1,
            1,
            1,
            1,
            1,
            1,
            1,
            1,
            1,
            1,
            1,
            1,
            1,
            1,
            1,
            1,
            1,
            1,
            1,
            1,
            1,
            1,
            1
           ]
          }
         ],
         "name": "1997"
        },
        {
         "data": [
          {
           "colorscale": [
            [
             0,
             "#636efa"
            ],
            [
             1,
             "#636efa"
            ]
           ],
           "geo": "geo",
           "hovertemplate": "year=2002<br>iso_alpha=%{location}<extra></extra>",
           "locations": [
            "AFG",
            "ALB",
            "DZA",
            "AGO",
            "ARG",
            "AUS",
            "AUT",
            "BHR",
            "BGD",
            "BEL",
            "BEN",
            "BOL",
            "BIH",
            "BWA",
            "BRA",
            "BGR",
            "BFA",
            "BDI",
            "KHM",
            "CMR",
            "CAN",
            "CAF",
            "TCD",
            "CHL",
            "CHN",
            "COL",
            "COM",
            "COD",
            "COG",
            "CRI",
            "CIV",
            "HRV",
            "CUB",
            "CZE",
            "DNK",
            "DJI",
            "DOM",
            "ECU",
            "EGY",
            "SLV",
            "GNQ",
            "ERI",
            "ETH",
            "FIN",
            "FRA",
            "GAB",
            "GMB",
            "DEU",
            "GHA",
            "GRC",
            "GTM",
            "GIN",
            "GNB",
            "HTI",
            "HND",
            "HKG",
            "HUN",
            "ISL",
            "IND",
            "IDN",
            "IRN",
            "IRQ",
            "IRL",
            "ISR",
            "ITA",
            "JAM",
            "JPN",
            "JOR",
            "KEN",
            "KOR",
            "KOR",
            "KWT",
            "LBN",
            "LSO",
            "LBR",
            "LBY",
            "MDG",
            "MWI",
            "MYS",
            "MLI",
            "MRT",
            "MUS",
            "MEX",
            "MNG",
            "MNE",
            "MAR",
            "MOZ",
            "MMR",
            "NAM",
            "NPL",
            "NLD",
            "NZL",
            "NIC",
            "NER",
            "NGA",
            "NOR",
            "OMN",
            "PAK",
            "PAN",
            "PRY",
            "PER",
            "PHL",
            "POL",
            "PRT",
            "PRI",
            "REU",
            "ROU",
            "RWA",
            "STP",
            "SAU",
            "SEN",
            "SRB",
            "SLE",
            "SGP",
            "SVK",
            "SVN",
            "SOM",
            "ZAF",
            "ESP",
            "LKA",
            "SDN",
            "SWZ",
            "SWE",
            "CHE",
            "SYR",
            "TWN",
            "TZA",
            "THA",
            "TGO",
            "TTO",
            "TUN",
            "TUR",
            "UGA",
            "GBR",
            "USA",
            "URY",
            "VEN",
            "VNM",
            "PSE",
            "YEM",
            "ZMB",
            "ZWE"
           ],
           "name": "",
           "showlegend": true,
           "showscale": false,
           "type": "choropleth",
           "z": [
            1,
            1,
            1,
            1,
            1,
            1,
            1,
            1,
            1,
            1,
            1,
            1,
            1,
            1,
            1,
            1,
            1,
            1,
            1,
            1,
            1,
            1,
            1,
            1,
            1,
            1,
            1,
            1,
            1,
            1,
            1,
            1,
            1,
            1,
            1,
            1,
            1,
            1,
            1,
            1,
            1,
            1,
            1,
            1,
            1,
            1,
            1,
            1,
            1,
            1,
            1,
            1,
            1,
            1,
            1,
            1,
            1,
            1,
            1,
            1,
            1,
            1,
            1,
            1,
            1,
            1,
            1,
            1,
            1,
            1,
            1,
            1,
            1,
            1,
            1,
            1,
            1,
            1,
            1,
            1,
            1,
            1,
            1,
            1,
            1,
            1,
            1,
            1,
            1,
            1,
            1,
            1,
            1,
            1,
            1,
            1,
            1,
            1,
            1,
            1,
            1,
            1,
            1,
            1,
            1,
            1,
            1,
            1,
            1,
            1,
            1,
            1,
            1,
            1,
            1,
            1,
            1,
            1,
            1,
            1,
            1,
            1,
            1,
            1,
            1,
            1,
            1,
            1,
            1,
            1,
            1,
            1,
            1,
            1,
            1,
            1,
            1,
            1,
            1,
            1,
            1,
            1
           ]
          }
         ],
         "name": "2002"
        },
        {
         "data": [
          {
           "colorscale": [
            [
             0,
             "#636efa"
            ],
            [
             1,
             "#636efa"
            ]
           ],
           "geo": "geo",
           "hovertemplate": "year=2007<br>iso_alpha=%{location}<extra></extra>",
           "locations": [
            "AFG",
            "ALB",
            "DZA",
            "AGO",
            "ARG",
            "AUS",
            "AUT",
            "BHR",
            "BGD",
            "BEL",
            "BEN",
            "BOL",
            "BIH",
            "BWA",
            "BRA",
            "BGR",
            "BFA",
            "BDI",
            "KHM",
            "CMR",
            "CAN",
            "CAF",
            "TCD",
            "CHL",
            "CHN",
            "COL",
            "COM",
            "COD",
            "COG",
            "CRI",
            "CIV",
            "HRV",
            "CUB",
            "CZE",
            "DNK",
            "DJI",
            "DOM",
            "ECU",
            "EGY",
            "SLV",
            "GNQ",
            "ERI",
            "ETH",
            "FIN",
            "FRA",
            "GAB",
            "GMB",
            "DEU",
            "GHA",
            "GRC",
            "GTM",
            "GIN",
            "GNB",
            "HTI",
            "HND",
            "HKG",
            "HUN",
            "ISL",
            "IND",
            "IDN",
            "IRN",
            "IRQ",
            "IRL",
            "ISR",
            "ITA",
            "JAM",
            "JPN",
            "JOR",
            "KEN",
            "KOR",
            "KOR",
            "KWT",
            "LBN",
            "LSO",
            "LBR",
            "LBY",
            "MDG",
            "MWI",
            "MYS",
            "MLI",
            "MRT",
            "MUS",
            "MEX",
            "MNG",
            "MNE",
            "MAR",
            "MOZ",
            "MMR",
            "NAM",
            "NPL",
            "NLD",
            "NZL",
            "NIC",
            "NER",
            "NGA",
            "NOR",
            "OMN",
            "PAK",
            "PAN",
            "PRY",
            "PER",
            "PHL",
            "POL",
            "PRT",
            "PRI",
            "REU",
            "ROU",
            "RWA",
            "STP",
            "SAU",
            "SEN",
            "SRB",
            "SLE",
            "SGP",
            "SVK",
            "SVN",
            "SOM",
            "ZAF",
            "ESP",
            "LKA",
            "SDN",
            "SWZ",
            "SWE",
            "CHE",
            "SYR",
            "TWN",
            "TZA",
            "THA",
            "TGO",
            "TTO",
            "TUN",
            "TUR",
            "UGA",
            "GBR",
            "USA",
            "URY",
            "VEN",
            "VNM",
            "PSE",
            "YEM",
            "ZMB",
            "ZWE"
           ],
           "name": "",
           "showlegend": true,
           "showscale": false,
           "type": "choropleth",
           "z": [
            1,
            1,
            1,
            1,
            1,
            1,
            1,
            1,
            1,
            1,
            1,
            1,
            1,
            1,
            1,
            1,
            1,
            1,
            1,
            1,
            1,
            1,
            1,
            1,
            1,
            1,
            1,
            1,
            1,
            1,
            1,
            1,
            1,
            1,
            1,
            1,
            1,
            1,
            1,
            1,
            1,
            1,
            1,
            1,
            1,
            1,
            1,
            1,
            1,
            1,
            1,
            1,
            1,
            1,
            1,
            1,
            1,
            1,
            1,
            1,
            1,
            1,
            1,
            1,
            1,
            1,
            1,
            1,
            1,
            1,
            1,
            1,
            1,
            1,
            1,
            1,
            1,
            1,
            1,
            1,
            1,
            1,
            1,
            1,
            1,
            1,
            1,
            1,
            1,
            1,
            1,
            1,
            1,
            1,
            1,
            1,
            1,
            1,
            1,
            1,
            1,
            1,
            1,
            1,
            1,
            1,
            1,
            1,
            1,
            1,
            1,
            1,
            1,
            1,
            1,
            1,
            1,
            1,
            1,
            1,
            1,
            1,
            1,
            1,
            1,
            1,
            1,
            1,
            1,
            1,
            1,
            1,
            1,
            1,
            1,
            1,
            1,
            1,
            1,
            1,
            1,
            1
           ]
          }
         ],
         "name": "2007"
        }
       ],
       "layout": {
        "geo": {
         "center": {},
         "domain": {
          "x": [
           0,
           1
          ],
          "y": [
           0,
           1
          ]
         },
         "scope": "world"
        },
        "legend": {
         "tracegroupgap": 0
        },
        "margin": {
         "t": 60
        },
        "sliders": [
         {
          "active": 0,
          "currentvalue": {
           "prefix": "year="
          },
          "len": 0.9,
          "pad": {
           "b": 10,
           "t": 60
          },
          "steps": [
           {
            "args": [
             [
              "1952"
             ],
             {
              "frame": {
               "duration": 0,
               "redraw": true
              },
              "fromcurrent": true,
              "mode": "immediate",
              "transition": {
               "duration": 0,
               "easing": "linear"
              }
             }
            ],
            "label": "1952",
            "method": "animate"
           },
           {
            "args": [
             [
              "1957"
             ],
             {
              "frame": {
               "duration": 0,
               "redraw": true
              },
              "fromcurrent": true,
              "mode": "immediate",
              "transition": {
               "duration": 0,
               "easing": "linear"
              }
             }
            ],
            "label": "1957",
            "method": "animate"
           },
           {
            "args": [
             [
              "1962"
             ],
             {
              "frame": {
               "duration": 0,
               "redraw": true
              },
              "fromcurrent": true,
              "mode": "immediate",
              "transition": {
               "duration": 0,
               "easing": "linear"
              }
             }
            ],
            "label": "1962",
            "method": "animate"
           },
           {
            "args": [
             [
              "1967"
             ],
             {
              "frame": {
               "duration": 0,
               "redraw": true
              },
              "fromcurrent": true,
              "mode": "immediate",
              "transition": {
               "duration": 0,
               "easing": "linear"
              }
             }
            ],
            "label": "1967",
            "method": "animate"
           },
           {
            "args": [
             [
              "1972"
             ],
             {
              "frame": {
               "duration": 0,
               "redraw": true
              },
              "fromcurrent": true,
              "mode": "immediate",
              "transition": {
               "duration": 0,
               "easing": "linear"
              }
             }
            ],
            "label": "1972",
            "method": "animate"
           },
           {
            "args": [
             [
              "1977"
             ],
             {
              "frame": {
               "duration": 0,
               "redraw": true
              },
              "fromcurrent": true,
              "mode": "immediate",
              "transition": {
               "duration": 0,
               "easing": "linear"
              }
             }
            ],
            "label": "1977",
            "method": "animate"
           },
           {
            "args": [
             [
              "1982"
             ],
             {
              "frame": {
               "duration": 0,
               "redraw": true
              },
              "fromcurrent": true,
              "mode": "immediate",
              "transition": {
               "duration": 0,
               "easing": "linear"
              }
             }
            ],
            "label": "1982",
            "method": "animate"
           },
           {
            "args": [
             [
              "1987"
             ],
             {
              "frame": {
               "duration": 0,
               "redraw": true
              },
              "fromcurrent": true,
              "mode": "immediate",
              "transition": {
               "duration": 0,
               "easing": "linear"
              }
             }
            ],
            "label": "1987",
            "method": "animate"
           },
           {
            "args": [
             [
              "1992"
             ],
             {
              "frame": {
               "duration": 0,
               "redraw": true
              },
              "fromcurrent": true,
              "mode": "immediate",
              "transition": {
               "duration": 0,
               "easing": "linear"
              }
             }
            ],
            "label": "1992",
            "method": "animate"
           },
           {
            "args": [
             [
              "1997"
             ],
             {
              "frame": {
               "duration": 0,
               "redraw": true
              },
              "fromcurrent": true,
              "mode": "immediate",
              "transition": {
               "duration": 0,
               "easing": "linear"
              }
             }
            ],
            "label": "1997",
            "method": "animate"
           },
           {
            "args": [
             [
              "2002"
             ],
             {
              "frame": {
               "duration": 0,
               "redraw": true
              },
              "fromcurrent": true,
              "mode": "immediate",
              "transition": {
               "duration": 0,
               "easing": "linear"
              }
             }
            ],
            "label": "2002",
            "method": "animate"
           },
           {
            "args": [
             [
              "2007"
             ],
             {
              "frame": {
               "duration": 0,
               "redraw": true
              },
              "fromcurrent": true,
              "mode": "immediate",
              "transition": {
               "duration": 0,
               "easing": "linear"
              }
             }
            ],
            "label": "2007",
            "method": "animate"
           }
          ],
          "x": 0.1,
          "xanchor": "left",
          "y": 0,
          "yanchor": "top"
         }
        ],
        "template": {
         "data": {
          "bar": [
           {
            "error_x": {
             "color": "#2a3f5f"
            },
            "error_y": {
             "color": "#2a3f5f"
            },
            "marker": {
             "line": {
              "color": "#E5ECF6",
              "width": 0.5
             },
             "pattern": {
              "fillmode": "overlay",
              "size": 10,
              "solidity": 0.2
             }
            },
            "type": "bar"
           }
          ],
          "barpolar": [
           {
            "marker": {
             "line": {
              "color": "#E5ECF6",
              "width": 0.5
             },
             "pattern": {
              "fillmode": "overlay",
              "size": 10,
              "solidity": 0.2
             }
            },
            "type": "barpolar"
           }
          ],
          "carpet": [
           {
            "aaxis": {
             "endlinecolor": "#2a3f5f",
             "gridcolor": "white",
             "linecolor": "white",
             "minorgridcolor": "white",
             "startlinecolor": "#2a3f5f"
            },
            "baxis": {
             "endlinecolor": "#2a3f5f",
             "gridcolor": "white",
             "linecolor": "white",
             "minorgridcolor": "white",
             "startlinecolor": "#2a3f5f"
            },
            "type": "carpet"
           }
          ],
          "choropleth": [
           {
            "colorbar": {
             "outlinewidth": 0,
             "ticks": ""
            },
            "type": "choropleth"
           }
          ],
          "contour": [
           {
            "colorbar": {
             "outlinewidth": 0,
             "ticks": ""
            },
            "colorscale": [
             [
              0,
              "#0d0887"
             ],
             [
              0.1111111111111111,
              "#46039f"
             ],
             [
              0.2222222222222222,
              "#7201a8"
             ],
             [
              0.3333333333333333,
              "#9c179e"
             ],
             [
              0.4444444444444444,
              "#bd3786"
             ],
             [
              0.5555555555555556,
              "#d8576b"
             ],
             [
              0.6666666666666666,
              "#ed7953"
             ],
             [
              0.7777777777777778,
              "#fb9f3a"
             ],
             [
              0.8888888888888888,
              "#fdca26"
             ],
             [
              1,
              "#f0f921"
             ]
            ],
            "type": "contour"
           }
          ],
          "contourcarpet": [
           {
            "colorbar": {
             "outlinewidth": 0,
             "ticks": ""
            },
            "type": "contourcarpet"
           }
          ],
          "heatmap": [
           {
            "colorbar": {
             "outlinewidth": 0,
             "ticks": ""
            },
            "colorscale": [
             [
              0,
              "#0d0887"
             ],
             [
              0.1111111111111111,
              "#46039f"
             ],
             [
              0.2222222222222222,
              "#7201a8"
             ],
             [
              0.3333333333333333,
              "#9c179e"
             ],
             [
              0.4444444444444444,
              "#bd3786"
             ],
             [
              0.5555555555555556,
              "#d8576b"
             ],
             [
              0.6666666666666666,
              "#ed7953"
             ],
             [
              0.7777777777777778,
              "#fb9f3a"
             ],
             [
              0.8888888888888888,
              "#fdca26"
             ],
             [
              1,
              "#f0f921"
             ]
            ],
            "type": "heatmap"
           }
          ],
          "heatmapgl": [
           {
            "colorbar": {
             "outlinewidth": 0,
             "ticks": ""
            },
            "colorscale": [
             [
              0,
              "#0d0887"
             ],
             [
              0.1111111111111111,
              "#46039f"
             ],
             [
              0.2222222222222222,
              "#7201a8"
             ],
             [
              0.3333333333333333,
              "#9c179e"
             ],
             [
              0.4444444444444444,
              "#bd3786"
             ],
             [
              0.5555555555555556,
              "#d8576b"
             ],
             [
              0.6666666666666666,
              "#ed7953"
             ],
             [
              0.7777777777777778,
              "#fb9f3a"
             ],
             [
              0.8888888888888888,
              "#fdca26"
             ],
             [
              1,
              "#f0f921"
             ]
            ],
            "type": "heatmapgl"
           }
          ],
          "histogram": [
           {
            "marker": {
             "pattern": {
              "fillmode": "overlay",
              "size": 10,
              "solidity": 0.2
             }
            },
            "type": "histogram"
           }
          ],
          "histogram2d": [
           {
            "colorbar": {
             "outlinewidth": 0,
             "ticks": ""
            },
            "colorscale": [
             [
              0,
              "#0d0887"
             ],
             [
              0.1111111111111111,
              "#46039f"
             ],
             [
              0.2222222222222222,
              "#7201a8"
             ],
             [
              0.3333333333333333,
              "#9c179e"
             ],
             [
              0.4444444444444444,
              "#bd3786"
             ],
             [
              0.5555555555555556,
              "#d8576b"
             ],
             [
              0.6666666666666666,
              "#ed7953"
             ],
             [
              0.7777777777777778,
              "#fb9f3a"
             ],
             [
              0.8888888888888888,
              "#fdca26"
             ],
             [
              1,
              "#f0f921"
             ]
            ],
            "type": "histogram2d"
           }
          ],
          "histogram2dcontour": [
           {
            "colorbar": {
             "outlinewidth": 0,
             "ticks": ""
            },
            "colorscale": [
             [
              0,
              "#0d0887"
             ],
             [
              0.1111111111111111,
              "#46039f"
             ],
             [
              0.2222222222222222,
              "#7201a8"
             ],
             [
              0.3333333333333333,
              "#9c179e"
             ],
             [
              0.4444444444444444,
              "#bd3786"
             ],
             [
              0.5555555555555556,
              "#d8576b"
             ],
             [
              0.6666666666666666,
              "#ed7953"
             ],
             [
              0.7777777777777778,
              "#fb9f3a"
             ],
             [
              0.8888888888888888,
              "#fdca26"
             ],
             [
              1,
              "#f0f921"
             ]
            ],
            "type": "histogram2dcontour"
           }
          ],
          "mesh3d": [
           {
            "colorbar": {
             "outlinewidth": 0,
             "ticks": ""
            },
            "type": "mesh3d"
           }
          ],
          "parcoords": [
           {
            "line": {
             "colorbar": {
              "outlinewidth": 0,
              "ticks": ""
             }
            },
            "type": "parcoords"
           }
          ],
          "pie": [
           {
            "automargin": true,
            "type": "pie"
           }
          ],
          "scatter": [
           {
            "fillpattern": {
             "fillmode": "overlay",
             "size": 10,
             "solidity": 0.2
            },
            "type": "scatter"
           }
          ],
          "scatter3d": [
           {
            "line": {
             "colorbar": {
              "outlinewidth": 0,
              "ticks": ""
             }
            },
            "marker": {
             "colorbar": {
              "outlinewidth": 0,
              "ticks": ""
             }
            },
            "type": "scatter3d"
           }
          ],
          "scattercarpet": [
           {
            "marker": {
             "colorbar": {
              "outlinewidth": 0,
              "ticks": ""
             }
            },
            "type": "scattercarpet"
           }
          ],
          "scattergeo": [
           {
            "marker": {
             "colorbar": {
              "outlinewidth": 0,
              "ticks": ""
             }
            },
            "type": "scattergeo"
           }
          ],
          "scattergl": [
           {
            "marker": {
             "colorbar": {
              "outlinewidth": 0,
              "ticks": ""
             }
            },
            "type": "scattergl"
           }
          ],
          "scattermapbox": [
           {
            "marker": {
             "colorbar": {
              "outlinewidth": 0,
              "ticks": ""
             }
            },
            "type": "scattermapbox"
           }
          ],
          "scatterpolar": [
           {
            "marker": {
             "colorbar": {
              "outlinewidth": 0,
              "ticks": ""
             }
            },
            "type": "scatterpolar"
           }
          ],
          "scatterpolargl": [
           {
            "marker": {
             "colorbar": {
              "outlinewidth": 0,
              "ticks": ""
             }
            },
            "type": "scatterpolargl"
           }
          ],
          "scatterternary": [
           {
            "marker": {
             "colorbar": {
              "outlinewidth": 0,
              "ticks": ""
             }
            },
            "type": "scatterternary"
           }
          ],
          "surface": [
           {
            "colorbar": {
             "outlinewidth": 0,
             "ticks": ""
            },
            "colorscale": [
             [
              0,
              "#0d0887"
             ],
             [
              0.1111111111111111,
              "#46039f"
             ],
             [
              0.2222222222222222,
              "#7201a8"
             ],
             [
              0.3333333333333333,
              "#9c179e"
             ],
             [
              0.4444444444444444,
              "#bd3786"
             ],
             [
              0.5555555555555556,
              "#d8576b"
             ],
             [
              0.6666666666666666,
              "#ed7953"
             ],
             [
              0.7777777777777778,
              "#fb9f3a"
             ],
             [
              0.8888888888888888,
              "#fdca26"
             ],
             [
              1,
              "#f0f921"
             ]
            ],
            "type": "surface"
           }
          ],
          "table": [
           {
            "cells": {
             "fill": {
              "color": "#EBF0F8"
             },
             "line": {
              "color": "white"
             }
            },
            "header": {
             "fill": {
              "color": "#C8D4E3"
             },
             "line": {
              "color": "white"
             }
            },
            "type": "table"
           }
          ]
         },
         "layout": {
          "annotationdefaults": {
           "arrowcolor": "#2a3f5f",
           "arrowhead": 0,
           "arrowwidth": 1
          },
          "autotypenumbers": "strict",
          "coloraxis": {
           "colorbar": {
            "outlinewidth": 0,
            "ticks": ""
           }
          },
          "colorscale": {
           "diverging": [
            [
             0,
             "#8e0152"
            ],
            [
             0.1,
             "#c51b7d"
            ],
            [
             0.2,
             "#de77ae"
            ],
            [
             0.3,
             "#f1b6da"
            ],
            [
             0.4,
             "#fde0ef"
            ],
            [
             0.5,
             "#f7f7f7"
            ],
            [
             0.6,
             "#e6f5d0"
            ],
            [
             0.7,
             "#b8e186"
            ],
            [
             0.8,
             "#7fbc41"
            ],
            [
             0.9,
             "#4d9221"
            ],
            [
             1,
             "#276419"
            ]
           ],
           "sequential": [
            [
             0,
             "#0d0887"
            ],
            [
             0.1111111111111111,
             "#46039f"
            ],
            [
             0.2222222222222222,
             "#7201a8"
            ],
            [
             0.3333333333333333,
             "#9c179e"
            ],
            [
             0.4444444444444444,
             "#bd3786"
            ],
            [
             0.5555555555555556,
             "#d8576b"
            ],
            [
             0.6666666666666666,
             "#ed7953"
            ],
            [
             0.7777777777777778,
             "#fb9f3a"
            ],
            [
             0.8888888888888888,
             "#fdca26"
            ],
            [
             1,
             "#f0f921"
            ]
           ],
           "sequentialminus": [
            [
             0,
             "#0d0887"
            ],
            [
             0.1111111111111111,
             "#46039f"
            ],
            [
             0.2222222222222222,
             "#7201a8"
            ],
            [
             0.3333333333333333,
             "#9c179e"
            ],
            [
             0.4444444444444444,
             "#bd3786"
            ],
            [
             0.5555555555555556,
             "#d8576b"
            ],
            [
             0.6666666666666666,
             "#ed7953"
            ],
            [
             0.7777777777777778,
             "#fb9f3a"
            ],
            [
             0.8888888888888888,
             "#fdca26"
            ],
            [
             1,
             "#f0f921"
            ]
           ]
          },
          "colorway": [
           "#636efa",
           "#EF553B",
           "#00cc96",
           "#ab63fa",
           "#FFA15A",
           "#19d3f3",
           "#FF6692",
           "#B6E880",
           "#FF97FF",
           "#FECB52"
          ],
          "font": {
           "color": "#2a3f5f"
          },
          "geo": {
           "bgcolor": "white",
           "lakecolor": "white",
           "landcolor": "#E5ECF6",
           "showlakes": true,
           "showland": true,
           "subunitcolor": "white"
          },
          "hoverlabel": {
           "align": "left"
          },
          "hovermode": "closest",
          "mapbox": {
           "style": "light"
          },
          "paper_bgcolor": "white",
          "plot_bgcolor": "#E5ECF6",
          "polar": {
           "angularaxis": {
            "gridcolor": "white",
            "linecolor": "white",
            "ticks": ""
           },
           "bgcolor": "#E5ECF6",
           "radialaxis": {
            "gridcolor": "white",
            "linecolor": "white",
            "ticks": ""
           }
          },
          "scene": {
           "xaxis": {
            "backgroundcolor": "#E5ECF6",
            "gridcolor": "white",
            "gridwidth": 2,
            "linecolor": "white",
            "showbackground": true,
            "ticks": "",
            "zerolinecolor": "white"
           },
           "yaxis": {
            "backgroundcolor": "#E5ECF6",
            "gridcolor": "white",
            "gridwidth": 2,
            "linecolor": "white",
            "showbackground": true,
            "ticks": "",
            "zerolinecolor": "white"
           },
           "zaxis": {
            "backgroundcolor": "#E5ECF6",
            "gridcolor": "white",
            "gridwidth": 2,
            "linecolor": "white",
            "showbackground": true,
            "ticks": "",
            "zerolinecolor": "white"
           }
          },
          "shapedefaults": {
           "line": {
            "color": "#2a3f5f"
           }
          },
          "ternary": {
           "aaxis": {
            "gridcolor": "white",
            "linecolor": "white",
            "ticks": ""
           },
           "baxis": {
            "gridcolor": "white",
            "linecolor": "white",
            "ticks": ""
           },
           "bgcolor": "#E5ECF6",
           "caxis": {
            "gridcolor": "white",
            "linecolor": "white",
            "ticks": ""
           }
          },
          "title": {
           "x": 0.05
          },
          "xaxis": {
           "automargin": true,
           "gridcolor": "white",
           "linecolor": "white",
           "ticks": "",
           "title": {
            "standoff": 15
           },
           "zerolinecolor": "white",
           "zerolinewidth": 2
          },
          "yaxis": {
           "automargin": true,
           "gridcolor": "white",
           "linecolor": "white",
           "ticks": "",
           "title": {
            "standoff": 15
           },
           "zerolinecolor": "white",
           "zerolinewidth": 2
          }
         }
        },
        "updatemenus": [
         {
          "buttons": [
           {
            "args": [
             null,
             {
              "frame": {
               "duration": 500,
               "redraw": true
              },
              "fromcurrent": true,
              "mode": "immediate",
              "transition": {
               "duration": 500,
               "easing": "linear"
              }
             }
            ],
            "label": "&#9654;",
            "method": "animate"
           },
           {
            "args": [
             [
              null
             ],
             {
              "frame": {
               "duration": 0,
               "redraw": true
              },
              "fromcurrent": true,
              "mode": "immediate",
              "transition": {
               "duration": 0,
               "easing": "linear"
              }
             }
            ],
            "label": "&#9724;",
            "method": "animate"
           }
          ],
          "direction": "left",
          "pad": {
           "r": 10,
           "t": 70
          },
          "showactive": false,
          "type": "buttons",
          "x": 0.1,
          "xanchor": "right",
          "y": 0,
          "yanchor": "top"
         }
        ]
       }
      }
     },
     "metadata": {},
     "output_type": "display_data"
    }
   ],
   "source": [
    "\n",
    "gapminder = px.data.gapminder()\n",
    "gapminder.head(15)\n",
    "\n",
    "fig = px. choropleth(gapminder,\n",
    "                    locations = \"iso_alpha\",\n",
    "                    scope = \"world\",\n",
    "                    animation_frame = \"year\")\n",
    "\n",
    "fig.show()"
   ]
  },
  {
   "attachments": {},
   "cell_type": "markdown",
   "metadata": {},
   "source": [
    "Paises unicos\n"
   ]
  },
  {
   "cell_type": "code",
   "execution_count": 61,
   "metadata": {},
   "outputs": [],
   "source": [
    "teams_wc2022=players_fifa_wc2022.team.unique()"
   ]
  },
  {
   "attachments": {},
   "cell_type": "markdown",
   "metadata": {},
   "source": [
    "Posiciones de los paises en el mapa"
   ]
  },
  {
   "cell_type": "code",
   "execution_count": 62,
   "metadata": {},
   "outputs": [
    {
     "data": {
      "text/plain": [
       "{'Afghanistan': 4,\n",
       " 'Albania': 8,\n",
       " 'Algeria': 12,\n",
       " 'Angola': 24,\n",
       " 'Argentina': 32,\n",
       " 'Australia': 36,\n",
       " 'Austria': 40,\n",
       " 'Bahrain': 48,\n",
       " 'Bangladesh': 50,\n",
       " 'Belgium': 56,\n",
       " 'Benin': 204,\n",
       " 'Bolivia': 68,\n",
       " 'Bosnia and Herzegovina': 70,\n",
       " 'Botswana': 72,\n",
       " 'Brazil': 76,\n",
       " 'Bulgaria': 100,\n",
       " 'Burkina Faso': 854,\n",
       " 'Burundi': 108,\n",
       " 'Cambodia': 116,\n",
       " 'Cameroon': 120,\n",
       " 'Canada': 124,\n",
       " 'Central African Republic': 140,\n",
       " 'Chad': 148,\n",
       " 'Chile': 152,\n",
       " 'China': 156,\n",
       " 'Colombia': 170,\n",
       " 'Comoros': 174,\n",
       " 'Congo, Dem. Rep.': 180,\n",
       " 'Congo, Rep.': 178,\n",
       " 'Costa Rica': 188,\n",
       " \"Cote d'Ivoire\": 384,\n",
       " 'Croatia': 191,\n",
       " 'Cuba': 192,\n",
       " 'Czech Republic': 203,\n",
       " 'Denmark': 208,\n",
       " 'Djibouti': 262,\n",
       " 'Dominican Republic': 214,\n",
       " 'Ecuador': 218,\n",
       " 'Egypt': 818,\n",
       " 'El Salvador': 222,\n",
       " 'Equatorial Guinea': 226,\n",
       " 'Eritrea': 232,\n",
       " 'Ethiopia': 231,\n",
       " 'Finland': 246,\n",
       " 'France': 250,\n",
       " 'Gabon': 266,\n",
       " 'Gambia': 270,\n",
       " 'Germany': 276,\n",
       " 'Ghana': 288,\n",
       " 'Greece': 300,\n",
       " 'Guatemala': 320,\n",
       " 'Guinea': 324,\n",
       " 'Guinea-Bissau': 624,\n",
       " 'Haiti': 332,\n",
       " 'Honduras': 340,\n",
       " 'Hong Kong, China': 344,\n",
       " 'Hungary': 348,\n",
       " 'Iceland': 352,\n",
       " 'India': 356,\n",
       " 'Indonesia': 360,\n",
       " 'Iran': 364,\n",
       " 'Iraq': 368,\n",
       " 'Ireland': 372,\n",
       " 'Israel': 376,\n",
       " 'Italy': 380,\n",
       " 'Jamaica': 388,\n",
       " 'Japan': 392,\n",
       " 'Jordan': 400,\n",
       " 'Kenya': 404,\n",
       " 'Korea, Dem. Rep.': 410,\n",
       " 'Korea, Rep.': 410,\n",
       " 'Kuwait': 414,\n",
       " 'Lebanon': 422,\n",
       " 'Lesotho': 426,\n",
       " 'Liberia': 430,\n",
       " 'Libya': 434,\n",
       " 'Madagascar': 450,\n",
       " 'Malawi': 454,\n",
       " 'Malaysia': 458,\n",
       " 'Mali': 466,\n",
       " 'Mauritania': 478,\n",
       " 'Mauritius': 480,\n",
       " 'Mexico': 484,\n",
       " 'Mongolia': 496,\n",
       " 'Montenegro': 499,\n",
       " 'Morocco': 504,\n",
       " 'Mozambique': 508,\n",
       " 'Myanmar': 104,\n",
       " 'Namibia': 516,\n",
       " 'Nepal': 524,\n",
       " 'Netherlands': 528,\n",
       " 'New Zealand': 554,\n",
       " 'Nicaragua': 558,\n",
       " 'Niger': 562,\n",
       " 'Nigeria': 566,\n",
       " 'Norway': 578,\n",
       " 'Oman': 512,\n",
       " 'Pakistan': 586,\n",
       " 'Panama': 591,\n",
       " 'Paraguay': 600,\n",
       " 'Peru': 604,\n",
       " 'Philippines': 608,\n",
       " 'Poland': 616,\n",
       " 'Portugal': 620,\n",
       " 'Puerto Rico': 630,\n",
       " 'Reunion': 638,\n",
       " 'Romania': 642,\n",
       " 'Rwanda': 646,\n",
       " 'Sao Tome and Principe': 678,\n",
       " 'Saudi Arabia': 682,\n",
       " 'Senegal': 686,\n",
       " 'Serbia': 688,\n",
       " 'Sierra Leone': 694,\n",
       " 'Singapore': 702,\n",
       " 'Slovak Republic': 703,\n",
       " 'Slovenia': 705,\n",
       " 'Somalia': 706,\n",
       " 'South Africa': 710,\n",
       " 'Spain': 724,\n",
       " 'Sri Lanka': 144,\n",
       " 'Sudan': 736,\n",
       " 'Swaziland': 748,\n",
       " 'Sweden': 752,\n",
       " 'Switzerland': 756,\n",
       " 'Syria': 760,\n",
       " 'Taiwan': 158,\n",
       " 'Tanzania': 834,\n",
       " 'Thailand': 764,\n",
       " 'Togo': 768,\n",
       " 'Trinidad and Tobago': 780,\n",
       " 'Tunisia': 788,\n",
       " 'Turkey': 792,\n",
       " 'Uganda': 800,\n",
       " 'United Kingdom': 826,\n",
       " 'United States': 840,\n",
       " 'Uruguay': 858,\n",
       " 'Venezuela': 862,\n",
       " 'Vietnam': 704,\n",
       " 'West Bank and Gaza': 275,\n",
       " 'Yemen, Rep.': 887,\n",
       " 'Zambia': 894,\n",
       " 'Zimbabwe': 716}"
      ]
     },
     "execution_count": 62,
     "metadata": {},
     "output_type": "execute_result"
    }
   ],
   "source": [
    "gapminder.drop_duplicates('country',inplace=True)\n",
    "dic_locat = {}\n",
    "for country,locat in zip(gapminder.country,gapminder.iso_num):\n",
    "    dic_locat[country] = locat\n",
    "dic_locat"
   ]
  },
  {
   "cell_type": "code",
   "execution_count": null,
   "metadata": {},
   "outputs": [],
   "source": [
    "df_teams_ubi = pd.DataFrame(columns=['Paises'])\n",
    "df_teams_ubi['Paises']=players_fifa_wc2022.team.unique()\n",
    "df_teams_ubi['Ubi'] = [ if country in [''] for country in df_teams_ubi['Teams']]"
   ]
  },
  {
   "cell_type": "code",
   "execution_count": null,
   "metadata": {},
   "outputs": [],
   "source": []
  },
  {
   "cell_type": "code",
   "execution_count": 63,
   "metadata": {},
   "outputs": [
    {
     "data": {
      "text/html": [
       "<div>\n",
       "<style scoped>\n",
       "    .dataframe tbody tr th:only-of-type {\n",
       "        vertical-align: middle;\n",
       "    }\n",
       "\n",
       "    .dataframe tbody tr th {\n",
       "        vertical-align: top;\n",
       "    }\n",
       "\n",
       "    .dataframe thead th {\n",
       "        text-align: right;\n",
       "    }\n",
       "</style>\n",
       "<table border=\"1\" class=\"dataframe\">\n",
       "  <thead>\n",
       "    <tr style=\"text-align: right;\">\n",
       "      <th></th>\n",
       "      <th>team</th>\n",
       "      <th>locat</th>\n",
       "    </tr>\n",
       "  </thead>\n",
       "  <tbody>\n",
       "    <tr>\n",
       "      <th>0</th>\n",
       "      <td>Afghanistan</td>\n",
       "      <td>4</td>\n",
       "    </tr>\n",
       "    <tr>\n",
       "      <th>1</th>\n",
       "      <td>Albania</td>\n",
       "      <td>8</td>\n",
       "    </tr>\n",
       "    <tr>\n",
       "      <th>2</th>\n",
       "      <td>Algeria</td>\n",
       "      <td>12</td>\n",
       "    </tr>\n",
       "    <tr>\n",
       "      <th>3</th>\n",
       "      <td>Angola</td>\n",
       "      <td>24</td>\n",
       "    </tr>\n",
       "    <tr>\n",
       "      <th>4</th>\n",
       "      <td>Argentina</td>\n",
       "      <td>32</td>\n",
       "    </tr>\n",
       "    <tr>\n",
       "      <th>...</th>\n",
       "      <td>...</td>\n",
       "      <td>...</td>\n",
       "    </tr>\n",
       "    <tr>\n",
       "      <th>137</th>\n",
       "      <td>Vietnam</td>\n",
       "      <td>704</td>\n",
       "    </tr>\n",
       "    <tr>\n",
       "      <th>138</th>\n",
       "      <td>West Bank and Gaza</td>\n",
       "      <td>275</td>\n",
       "    </tr>\n",
       "    <tr>\n",
       "      <th>139</th>\n",
       "      <td>Yemen, Rep.</td>\n",
       "      <td>887</td>\n",
       "    </tr>\n",
       "    <tr>\n",
       "      <th>140</th>\n",
       "      <td>Zambia</td>\n",
       "      <td>894</td>\n",
       "    </tr>\n",
       "    <tr>\n",
       "      <th>141</th>\n",
       "      <td>Zimbabwe</td>\n",
       "      <td>716</td>\n",
       "    </tr>\n",
       "  </tbody>\n",
       "</table>\n",
       "<p>142 rows × 2 columns</p>\n",
       "</div>"
      ],
      "text/plain": [
       "                   team  locat\n",
       "0           Afghanistan      4\n",
       "1               Albania      8\n",
       "2               Algeria     12\n",
       "3                Angola     24\n",
       "4             Argentina     32\n",
       "..                  ...    ...\n",
       "137             Vietnam    704\n",
       "138  West Bank and Gaza    275\n",
       "139         Yemen, Rep.    887\n",
       "140              Zambia    894\n",
       "141            Zimbabwe    716\n",
       "\n",
       "[142 rows x 2 columns]"
      ]
     },
     "execution_count": 63,
     "metadata": {},
     "output_type": "execute_result"
    }
   ],
   "source": [
    "import pandas as pd\n",
    "\n",
    "df = pd.DataFrame([[key, dic_locat[key]] for key in dic_locat.keys()], columns=['team', 'locat'])\n",
    "df"
   ]
  },
  {
   "cell_type": "code",
   "execution_count": 64,
   "metadata": {},
   "outputs": [
    {
     "data": {
      "application/vnd.plotly.v1+json": {
       "config": {
        "plotlyServerURL": "https://plotly.com"
       },
       "data": [
        {
         "autocolorscale": false,
         "colorbar": {
          "ticksuffix": "%",
          "title": {
           "text": "Actores"
          }
         },
         "locationmode": "country names",
         "locations": [
          "Afghanistan",
          "Albania",
          "Algeria",
          "Angola",
          "Argentina",
          "Australia",
          "Austria",
          "Bahrain",
          "Bangladesh",
          "Belgium",
          "Benin",
          "Bolivia",
          "Bosnia and Herzegovina",
          "Botswana",
          "Brazil",
          "Bulgaria",
          "Burkina Faso",
          "Burundi",
          "Cambodia",
          "Cameroon",
          "Canada",
          "Central African Republic",
          "Chad",
          "Chile",
          "China",
          "Colombia",
          "Comoros",
          "Congo, Dem. Rep.",
          "Congo, Rep.",
          "Costa Rica",
          "Cote d'Ivoire",
          "Croatia",
          "Cuba",
          "Czech Republic",
          "Denmark",
          "Djibouti",
          "Dominican Republic",
          "Ecuador",
          "Egypt",
          "El Salvador",
          "Equatorial Guinea",
          "Eritrea",
          "Ethiopia",
          "Finland",
          "France",
          "Gabon",
          "Gambia",
          "Germany",
          "Ghana",
          "Greece",
          "Guatemala",
          "Guinea",
          "Guinea-Bissau",
          "Haiti",
          "Honduras",
          "Hong Kong, China",
          "Hungary",
          "Iceland",
          "India",
          "Indonesia",
          "Iran",
          "Iraq",
          "Ireland",
          "Israel",
          "Italy",
          "Jamaica",
          "Japan",
          "Jordan",
          "Kenya",
          "Korea, Dem. Rep.",
          "Korea, Rep.",
          "Kuwait",
          "Lebanon",
          "Lesotho",
          "Liberia",
          "Libya",
          "Madagascar",
          "Malawi",
          "Malaysia",
          "Mali",
          "Mauritania",
          "Mauritius",
          "Mexico",
          "Mongolia",
          "Montenegro",
          "Morocco",
          "Mozambique",
          "Myanmar",
          "Namibia",
          "Nepal",
          "Netherlands",
          "New Zealand",
          "Nicaragua",
          "Niger",
          "Nigeria",
          "Norway",
          "Oman",
          "Pakistan",
          "Panama",
          "Paraguay",
          "Peru",
          "Philippines",
          "Poland",
          "Portugal",
          "Puerto Rico",
          "Reunion",
          "Romania",
          "Rwanda",
          "Sao Tome and Principe",
          "Saudi Arabia",
          "Senegal",
          "Serbia",
          "Sierra Leone",
          "Singapore",
          "Slovak Republic",
          "Slovenia",
          "Somalia",
          "South Africa",
          "Spain",
          "Sri Lanka",
          "Sudan",
          "Swaziland",
          "Sweden",
          "Switzerland",
          "Syria",
          "Taiwan",
          "Tanzania",
          "Thailand",
          "Togo",
          "Trinidad and Tobago",
          "Tunisia",
          "Turkey",
          "Uganda",
          "United Kingdom",
          "United States",
          "Uruguay",
          "Venezuela",
          "Vietnam",
          "West Bank and Gaza",
          "Yemen, Rep.",
          "Zambia",
          "Zimbabwe"
         ],
         "marker": {
          "line": {
           "color": "#efefef",
           "width": 0.5
          }
         },
         "reversescale": true,
         "type": "choropleth"
        }
       ],
       "layout": {
        "geo": {
         "coastlinecolor": "#dadada",
         "lakecolor": "#eaeaea",
         "oceancolor": "#eaeaea",
         "projection": {
          "type": "miller"
         },
         "resolution": 50,
         "scope": "world",
         "showcoastlines": true,
         "showcountries": true,
         "showocean": true
        },
        "showlegend": false,
        "template": {
         "data": {
          "bar": [
           {
            "error_x": {
             "color": "#2a3f5f"
            },
            "error_y": {
             "color": "#2a3f5f"
            },
            "marker": {
             "line": {
              "color": "#E5ECF6",
              "width": 0.5
             },
             "pattern": {
              "fillmode": "overlay",
              "size": 10,
              "solidity": 0.2
             }
            },
            "type": "bar"
           }
          ],
          "barpolar": [
           {
            "marker": {
             "line": {
              "color": "#E5ECF6",
              "width": 0.5
             },
             "pattern": {
              "fillmode": "overlay",
              "size": 10,
              "solidity": 0.2
             }
            },
            "type": "barpolar"
           }
          ],
          "carpet": [
           {
            "aaxis": {
             "endlinecolor": "#2a3f5f",
             "gridcolor": "white",
             "linecolor": "white",
             "minorgridcolor": "white",
             "startlinecolor": "#2a3f5f"
            },
            "baxis": {
             "endlinecolor": "#2a3f5f",
             "gridcolor": "white",
             "linecolor": "white",
             "minorgridcolor": "white",
             "startlinecolor": "#2a3f5f"
            },
            "type": "carpet"
           }
          ],
          "choropleth": [
           {
            "colorbar": {
             "outlinewidth": 0,
             "ticks": ""
            },
            "type": "choropleth"
           }
          ],
          "contour": [
           {
            "colorbar": {
             "outlinewidth": 0,
             "ticks": ""
            },
            "colorscale": [
             [
              0,
              "#0d0887"
             ],
             [
              0.1111111111111111,
              "#46039f"
             ],
             [
              0.2222222222222222,
              "#7201a8"
             ],
             [
              0.3333333333333333,
              "#9c179e"
             ],
             [
              0.4444444444444444,
              "#bd3786"
             ],
             [
              0.5555555555555556,
              "#d8576b"
             ],
             [
              0.6666666666666666,
              "#ed7953"
             ],
             [
              0.7777777777777778,
              "#fb9f3a"
             ],
             [
              0.8888888888888888,
              "#fdca26"
             ],
             [
              1,
              "#f0f921"
             ]
            ],
            "type": "contour"
           }
          ],
          "contourcarpet": [
           {
            "colorbar": {
             "outlinewidth": 0,
             "ticks": ""
            },
            "type": "contourcarpet"
           }
          ],
          "heatmap": [
           {
            "colorbar": {
             "outlinewidth": 0,
             "ticks": ""
            },
            "colorscale": [
             [
              0,
              "#0d0887"
             ],
             [
              0.1111111111111111,
              "#46039f"
             ],
             [
              0.2222222222222222,
              "#7201a8"
             ],
             [
              0.3333333333333333,
              "#9c179e"
             ],
             [
              0.4444444444444444,
              "#bd3786"
             ],
             [
              0.5555555555555556,
              "#d8576b"
             ],
             [
              0.6666666666666666,
              "#ed7953"
             ],
             [
              0.7777777777777778,
              "#fb9f3a"
             ],
             [
              0.8888888888888888,
              "#fdca26"
             ],
             [
              1,
              "#f0f921"
             ]
            ],
            "type": "heatmap"
           }
          ],
          "heatmapgl": [
           {
            "colorbar": {
             "outlinewidth": 0,
             "ticks": ""
            },
            "colorscale": [
             [
              0,
              "#0d0887"
             ],
             [
              0.1111111111111111,
              "#46039f"
             ],
             [
              0.2222222222222222,
              "#7201a8"
             ],
             [
              0.3333333333333333,
              "#9c179e"
             ],
             [
              0.4444444444444444,
              "#bd3786"
             ],
             [
              0.5555555555555556,
              "#d8576b"
             ],
             [
              0.6666666666666666,
              "#ed7953"
             ],
             [
              0.7777777777777778,
              "#fb9f3a"
             ],
             [
              0.8888888888888888,
              "#fdca26"
             ],
             [
              1,
              "#f0f921"
             ]
            ],
            "type": "heatmapgl"
           }
          ],
          "histogram": [
           {
            "marker": {
             "pattern": {
              "fillmode": "overlay",
              "size": 10,
              "solidity": 0.2
             }
            },
            "type": "histogram"
           }
          ],
          "histogram2d": [
           {
            "colorbar": {
             "outlinewidth": 0,
             "ticks": ""
            },
            "colorscale": [
             [
              0,
              "#0d0887"
             ],
             [
              0.1111111111111111,
              "#46039f"
             ],
             [
              0.2222222222222222,
              "#7201a8"
             ],
             [
              0.3333333333333333,
              "#9c179e"
             ],
             [
              0.4444444444444444,
              "#bd3786"
             ],
             [
              0.5555555555555556,
              "#d8576b"
             ],
             [
              0.6666666666666666,
              "#ed7953"
             ],
             [
              0.7777777777777778,
              "#fb9f3a"
             ],
             [
              0.8888888888888888,
              "#fdca26"
             ],
             [
              1,
              "#f0f921"
             ]
            ],
            "type": "histogram2d"
           }
          ],
          "histogram2dcontour": [
           {
            "colorbar": {
             "outlinewidth": 0,
             "ticks": ""
            },
            "colorscale": [
             [
              0,
              "#0d0887"
             ],
             [
              0.1111111111111111,
              "#46039f"
             ],
             [
              0.2222222222222222,
              "#7201a8"
             ],
             [
              0.3333333333333333,
              "#9c179e"
             ],
             [
              0.4444444444444444,
              "#bd3786"
             ],
             [
              0.5555555555555556,
              "#d8576b"
             ],
             [
              0.6666666666666666,
              "#ed7953"
             ],
             [
              0.7777777777777778,
              "#fb9f3a"
             ],
             [
              0.8888888888888888,
              "#fdca26"
             ],
             [
              1,
              "#f0f921"
             ]
            ],
            "type": "histogram2dcontour"
           }
          ],
          "mesh3d": [
           {
            "colorbar": {
             "outlinewidth": 0,
             "ticks": ""
            },
            "type": "mesh3d"
           }
          ],
          "parcoords": [
           {
            "line": {
             "colorbar": {
              "outlinewidth": 0,
              "ticks": ""
             }
            },
            "type": "parcoords"
           }
          ],
          "pie": [
           {
            "automargin": true,
            "type": "pie"
           }
          ],
          "scatter": [
           {
            "fillpattern": {
             "fillmode": "overlay",
             "size": 10,
             "solidity": 0.2
            },
            "type": "scatter"
           }
          ],
          "scatter3d": [
           {
            "line": {
             "colorbar": {
              "outlinewidth": 0,
              "ticks": ""
             }
            },
            "marker": {
             "colorbar": {
              "outlinewidth": 0,
              "ticks": ""
             }
            },
            "type": "scatter3d"
           }
          ],
          "scattercarpet": [
           {
            "marker": {
             "colorbar": {
              "outlinewidth": 0,
              "ticks": ""
             }
            },
            "type": "scattercarpet"
           }
          ],
          "scattergeo": [
           {
            "marker": {
             "colorbar": {
              "outlinewidth": 0,
              "ticks": ""
             }
            },
            "type": "scattergeo"
           }
          ],
          "scattergl": [
           {
            "marker": {
             "colorbar": {
              "outlinewidth": 0,
              "ticks": ""
             }
            },
            "type": "scattergl"
           }
          ],
          "scattermapbox": [
           {
            "marker": {
             "colorbar": {
              "outlinewidth": 0,
              "ticks": ""
             }
            },
            "type": "scattermapbox"
           }
          ],
          "scatterpolar": [
           {
            "marker": {
             "colorbar": {
              "outlinewidth": 0,
              "ticks": ""
             }
            },
            "type": "scatterpolar"
           }
          ],
          "scatterpolargl": [
           {
            "marker": {
             "colorbar": {
              "outlinewidth": 0,
              "ticks": ""
             }
            },
            "type": "scatterpolargl"
           }
          ],
          "scatterternary": [
           {
            "marker": {
             "colorbar": {
              "outlinewidth": 0,
              "ticks": ""
             }
            },
            "type": "scatterternary"
           }
          ],
          "surface": [
           {
            "colorbar": {
             "outlinewidth": 0,
             "ticks": ""
            },
            "colorscale": [
             [
              0,
              "#0d0887"
             ],
             [
              0.1111111111111111,
              "#46039f"
             ],
             [
              0.2222222222222222,
              "#7201a8"
             ],
             [
              0.3333333333333333,
              "#9c179e"
             ],
             [
              0.4444444444444444,
              "#bd3786"
             ],
             [
              0.5555555555555556,
              "#d8576b"
             ],
             [
              0.6666666666666666,
              "#ed7953"
             ],
             [
              0.7777777777777778,
              "#fb9f3a"
             ],
             [
              0.8888888888888888,
              "#fdca26"
             ],
             [
              1,
              "#f0f921"
             ]
            ],
            "type": "surface"
           }
          ],
          "table": [
           {
            "cells": {
             "fill": {
              "color": "#EBF0F8"
             },
             "line": {
              "color": "white"
             }
            },
            "header": {
             "fill": {
              "color": "#C8D4E3"
             },
             "line": {
              "color": "white"
             }
            },
            "type": "table"
           }
          ]
         },
         "layout": {
          "annotationdefaults": {
           "arrowcolor": "#2a3f5f",
           "arrowhead": 0,
           "arrowwidth": 1
          },
          "autotypenumbers": "strict",
          "coloraxis": {
           "colorbar": {
            "outlinewidth": 0,
            "ticks": ""
           }
          },
          "colorscale": {
           "diverging": [
            [
             0,
             "#8e0152"
            ],
            [
             0.1,
             "#c51b7d"
            ],
            [
             0.2,
             "#de77ae"
            ],
            [
             0.3,
             "#f1b6da"
            ],
            [
             0.4,
             "#fde0ef"
            ],
            [
             0.5,
             "#f7f7f7"
            ],
            [
             0.6,
             "#e6f5d0"
            ],
            [
             0.7,
             "#b8e186"
            ],
            [
             0.8,
             "#7fbc41"
            ],
            [
             0.9,
             "#4d9221"
            ],
            [
             1,
             "#276419"
            ]
           ],
           "sequential": [
            [
             0,
             "#0d0887"
            ],
            [
             0.1111111111111111,
             "#46039f"
            ],
            [
             0.2222222222222222,
             "#7201a8"
            ],
            [
             0.3333333333333333,
             "#9c179e"
            ],
            [
             0.4444444444444444,
             "#bd3786"
            ],
            [
             0.5555555555555556,
             "#d8576b"
            ],
            [
             0.6666666666666666,
             "#ed7953"
            ],
            [
             0.7777777777777778,
             "#fb9f3a"
            ],
            [
             0.8888888888888888,
             "#fdca26"
            ],
            [
             1,
             "#f0f921"
            ]
           ],
           "sequentialminus": [
            [
             0,
             "#0d0887"
            ],
            [
             0.1111111111111111,
             "#46039f"
            ],
            [
             0.2222222222222222,
             "#7201a8"
            ],
            [
             0.3333333333333333,
             "#9c179e"
            ],
            [
             0.4444444444444444,
             "#bd3786"
            ],
            [
             0.5555555555555556,
             "#d8576b"
            ],
            [
             0.6666666666666666,
             "#ed7953"
            ],
            [
             0.7777777777777778,
             "#fb9f3a"
            ],
            [
             0.8888888888888888,
             "#fdca26"
            ],
            [
             1,
             "#f0f921"
            ]
           ]
          },
          "colorway": [
           "#636efa",
           "#EF553B",
           "#00cc96",
           "#ab63fa",
           "#FFA15A",
           "#19d3f3",
           "#FF6692",
           "#B6E880",
           "#FF97FF",
           "#FECB52"
          ],
          "font": {
           "color": "#2a3f5f"
          },
          "geo": {
           "bgcolor": "white",
           "lakecolor": "white",
           "landcolor": "#E5ECF6",
           "showlakes": true,
           "showland": true,
           "subunitcolor": "white"
          },
          "hoverlabel": {
           "align": "left"
          },
          "hovermode": "closest",
          "mapbox": {
           "style": "light"
          },
          "paper_bgcolor": "white",
          "plot_bgcolor": "#E5ECF6",
          "polar": {
           "angularaxis": {
            "gridcolor": "white",
            "linecolor": "white",
            "ticks": ""
           },
           "bgcolor": "#E5ECF6",
           "radialaxis": {
            "gridcolor": "white",
            "linecolor": "white",
            "ticks": ""
           }
          },
          "scene": {
           "xaxis": {
            "backgroundcolor": "#E5ECF6",
            "gridcolor": "white",
            "gridwidth": 2,
            "linecolor": "white",
            "showbackground": true,
            "ticks": "",
            "zerolinecolor": "white"
           },
           "yaxis": {
            "backgroundcolor": "#E5ECF6",
            "gridcolor": "white",
            "gridwidth": 2,
            "linecolor": "white",
            "showbackground": true,
            "ticks": "",
            "zerolinecolor": "white"
           },
           "zaxis": {
            "backgroundcolor": "#E5ECF6",
            "gridcolor": "white",
            "gridwidth": 2,
            "linecolor": "white",
            "showbackground": true,
            "ticks": "",
            "zerolinecolor": "white"
           }
          },
          "shapedefaults": {
           "line": {
            "color": "#2a3f5f"
           }
          },
          "ternary": {
           "aaxis": {
            "gridcolor": "white",
            "linecolor": "white",
            "ticks": ""
           },
           "baxis": {
            "gridcolor": "white",
            "linecolor": "white",
            "ticks": ""
           },
           "bgcolor": "#E5ECF6",
           "caxis": {
            "gridcolor": "white",
            "linecolor": "white",
            "ticks": ""
           }
          },
          "title": {
           "x": 0.05
          },
          "xaxis": {
           "automargin": true,
           "gridcolor": "white",
           "linecolor": "white",
           "ticks": "",
           "title": {
            "standoff": 15
           },
           "zerolinecolor": "white",
           "zerolinewidth": 2
          },
          "yaxis": {
           "automargin": true,
           "gridcolor": "white",
           "linecolor": "white",
           "ticks": "",
           "title": {
            "standoff": 15
           },
           "zerolinecolor": "white",
           "zerolinewidth": 2
          }
         }
        },
        "title": {
         "text": "Número de Actores por Países"
        }
       }
      }
     },
     "metadata": {},
     "output_type": "display_data"
    }
   ],
   "source": [
    "import plotly.graph_objects as go\n",
    "import plotly.offline as opy\n",
    "\n",
    "fig = go.Figure(go.Choropleth(\n",
    "    locations = df['team'],\n",
    "    locationmode = \"country names\",\n",
    "    autocolorscale = False,\n",
    "    reversescale = True,\n",
    "    marker_line_color = '#efefef',\n",
    "    marker_line_width = 0.5,\n",
    "    colorbar_ticksuffix = '%',\n",
    "    colorbar_title = 'Actores',\n",
    "    )\n",
    ")\n",
    "fig.update_layout(\n",
    "    title_text = 'Número de Actores por Países',\n",
    "    showlegend = False,\n",
    "    geo = dict(\n",
    "        scope = 'world',\n",
    "        resolution = 50,\n",
    "        projection_type = 'miller',\n",
    "        showcoastlines = True,\n",
    "        showocean = True,\n",
    "        showcountries = True,\n",
    "        oceancolor = '#eaeaea',\n",
    "        lakecolor = '#eaeaea',\n",
    "        coastlinecolor = '#dadada'\n",
    "    )\n",
    ")\n",
    "fig.show()"
   ]
  },
  {
   "cell_type": "code",
   "execution_count": 65,
   "metadata": {},
   "outputs": [
    {
     "name": "stdout",
     "output_type": "stream",
     "text": [
      "Note: you may need to restart the kernel to use updated packages.\n"
     ]
    }
   ],
   "source": [
    "%pip install chart_studio -q\n",
    "import pandas as pd\n",
    "import plotly.express as px\n",
    "import numpy as np\n",
    "import chart_studio\n"
   ]
  },
  {
   "cell_type": "code",
   "execution_count": 66,
   "metadata": {},
   "outputs": [
    {
     "data": {
      "text/html": [
       "<div>\n",
       "<style scoped>\n",
       "    .dataframe tbody tr th:only-of-type {\n",
       "        vertical-align: middle;\n",
       "    }\n",
       "\n",
       "    .dataframe tbody tr th {\n",
       "        vertical-align: top;\n",
       "    }\n",
       "\n",
       "    .dataframe thead th {\n",
       "        text-align: right;\n",
       "    }\n",
       "</style>\n",
       "<table border=\"1\" class=\"dataframe\">\n",
       "  <thead>\n",
       "    <tr style=\"text-align: right;\">\n",
       "      <th></th>\n",
       "      <th>Province/State</th>\n",
       "      <th>Country/Region</th>\n",
       "      <th>Lat</th>\n",
       "      <th>Long</th>\n",
       "      <th>1/22/20</th>\n",
       "      <th>1/23/20</th>\n",
       "      <th>1/24/20</th>\n",
       "      <th>1/25/20</th>\n",
       "      <th>1/26/20</th>\n",
       "      <th>1/27/20</th>\n",
       "      <th>...</th>\n",
       "      <th>2/28/23</th>\n",
       "      <th>3/1/23</th>\n",
       "      <th>3/2/23</th>\n",
       "      <th>3/3/23</th>\n",
       "      <th>3/4/23</th>\n",
       "      <th>3/5/23</th>\n",
       "      <th>3/6/23</th>\n",
       "      <th>3/7/23</th>\n",
       "      <th>3/8/23</th>\n",
       "      <th>3/9/23</th>\n",
       "    </tr>\n",
       "  </thead>\n",
       "  <tbody>\n",
       "    <tr>\n",
       "      <th>0</th>\n",
       "      <td>NaN</td>\n",
       "      <td>Afghanistan</td>\n",
       "      <td>33.93911</td>\n",
       "      <td>67.709953</td>\n",
       "      <td>0</td>\n",
       "      <td>0</td>\n",
       "      <td>0</td>\n",
       "      <td>0</td>\n",
       "      <td>0</td>\n",
       "      <td>0</td>\n",
       "      <td>...</td>\n",
       "      <td>209322</td>\n",
       "      <td>209340</td>\n",
       "      <td>209358</td>\n",
       "      <td>209362</td>\n",
       "      <td>209369</td>\n",
       "      <td>209390</td>\n",
       "      <td>209406</td>\n",
       "      <td>209436</td>\n",
       "      <td>209451</td>\n",
       "      <td>209451</td>\n",
       "    </tr>\n",
       "    <tr>\n",
       "      <th>1</th>\n",
       "      <td>NaN</td>\n",
       "      <td>Albania</td>\n",
       "      <td>41.15330</td>\n",
       "      <td>20.168300</td>\n",
       "      <td>0</td>\n",
       "      <td>0</td>\n",
       "      <td>0</td>\n",
       "      <td>0</td>\n",
       "      <td>0</td>\n",
       "      <td>0</td>\n",
       "      <td>...</td>\n",
       "      <td>334391</td>\n",
       "      <td>334408</td>\n",
       "      <td>334408</td>\n",
       "      <td>334427</td>\n",
       "      <td>334427</td>\n",
       "      <td>334427</td>\n",
       "      <td>334427</td>\n",
       "      <td>334427</td>\n",
       "      <td>334443</td>\n",
       "      <td>334457</td>\n",
       "    </tr>\n",
       "    <tr>\n",
       "      <th>2</th>\n",
       "      <td>NaN</td>\n",
       "      <td>Algeria</td>\n",
       "      <td>28.03390</td>\n",
       "      <td>1.659600</td>\n",
       "      <td>0</td>\n",
       "      <td>0</td>\n",
       "      <td>0</td>\n",
       "      <td>0</td>\n",
       "      <td>0</td>\n",
       "      <td>0</td>\n",
       "      <td>...</td>\n",
       "      <td>271441</td>\n",
       "      <td>271448</td>\n",
       "      <td>271463</td>\n",
       "      <td>271469</td>\n",
       "      <td>271469</td>\n",
       "      <td>271477</td>\n",
       "      <td>271477</td>\n",
       "      <td>271490</td>\n",
       "      <td>271494</td>\n",
       "      <td>271496</td>\n",
       "    </tr>\n",
       "    <tr>\n",
       "      <th>3</th>\n",
       "      <td>NaN</td>\n",
       "      <td>Andorra</td>\n",
       "      <td>42.50630</td>\n",
       "      <td>1.521800</td>\n",
       "      <td>0</td>\n",
       "      <td>0</td>\n",
       "      <td>0</td>\n",
       "      <td>0</td>\n",
       "      <td>0</td>\n",
       "      <td>0</td>\n",
       "      <td>...</td>\n",
       "      <td>47866</td>\n",
       "      <td>47875</td>\n",
       "      <td>47875</td>\n",
       "      <td>47875</td>\n",
       "      <td>47875</td>\n",
       "      <td>47875</td>\n",
       "      <td>47875</td>\n",
       "      <td>47875</td>\n",
       "      <td>47890</td>\n",
       "      <td>47890</td>\n",
       "    </tr>\n",
       "    <tr>\n",
       "      <th>4</th>\n",
       "      <td>NaN</td>\n",
       "      <td>Angola</td>\n",
       "      <td>-11.20270</td>\n",
       "      <td>17.873900</td>\n",
       "      <td>0</td>\n",
       "      <td>0</td>\n",
       "      <td>0</td>\n",
       "      <td>0</td>\n",
       "      <td>0</td>\n",
       "      <td>0</td>\n",
       "      <td>...</td>\n",
       "      <td>105255</td>\n",
       "      <td>105277</td>\n",
       "      <td>105277</td>\n",
       "      <td>105277</td>\n",
       "      <td>105277</td>\n",
       "      <td>105277</td>\n",
       "      <td>105277</td>\n",
       "      <td>105277</td>\n",
       "      <td>105288</td>\n",
       "      <td>105288</td>\n",
       "    </tr>\n",
       "  </tbody>\n",
       "</table>\n",
       "<p>5 rows × 1147 columns</p>\n",
       "</div>"
      ],
      "text/plain": [
       "  Province/State Country/Region       Lat       Long  1/22/20  1/23/20   \n",
       "0            NaN    Afghanistan  33.93911  67.709953        0        0  \\\n",
       "1            NaN        Albania  41.15330  20.168300        0        0   \n",
       "2            NaN        Algeria  28.03390   1.659600        0        0   \n",
       "3            NaN        Andorra  42.50630   1.521800        0        0   \n",
       "4            NaN         Angola -11.20270  17.873900        0        0   \n",
       "\n",
       "   1/24/20  1/25/20  1/26/20  1/27/20  ...  2/28/23  3/1/23  3/2/23  3/3/23   \n",
       "0        0        0        0        0  ...   209322  209340  209358  209362  \\\n",
       "1        0        0        0        0  ...   334391  334408  334408  334427   \n",
       "2        0        0        0        0  ...   271441  271448  271463  271469   \n",
       "3        0        0        0        0  ...    47866   47875   47875   47875   \n",
       "4        0        0        0        0  ...   105255  105277  105277  105277   \n",
       "\n",
       "   3/4/23  3/5/23  3/6/23  3/7/23  3/8/23  3/9/23  \n",
       "0  209369  209390  209406  209436  209451  209451  \n",
       "1  334427  334427  334427  334427  334443  334457  \n",
       "2  271469  271477  271477  271490  271494  271496  \n",
       "3   47875   47875   47875   47875   47890   47890  \n",
       "4  105277  105277  105277  105277  105288  105288  \n",
       "\n",
       "[5 rows x 1147 columns]"
      ]
     },
     "execution_count": 66,
     "metadata": {},
     "output_type": "execute_result"
    }
   ],
   "source": [
    "#chart-studio api\n",
    "username = '' # your username\n",
    "api_key = '' # your api api_key\n",
    "chart_studio.tools.set_credentials_file(username=username, api_key=api_key)\n",
    "import chart_studio.plotly as py\n",
    "confirmed = pd.read_csv('https://github.com/CSSEGISandData/COVID-19/raw/master/csse_covid_19_data/csse_covid_19_time_series/time_series_covid19_confirmed_global.csv')\n",
    "death = pd.read_csv('https://github.com/CSSEGISandData/COVID-19/raw/master/csse_covid_19_data/csse_covid_19_time_series/time_series_covid19_deaths_global.csv')\n",
    "recovered = pd.read_csv('https://github.com/CSSEGISandData/COVID-19/raw/master/csse_covid_19_data/csse_covid_19_time_series/time_series_covid19_recovered_global.csv')\n",
    "confirmed.head()\n"
   ]
  },
  {
   "cell_type": "code",
   "execution_count": 67,
   "metadata": {},
   "outputs": [],
   "source": [
    "confirmed = confirmed.drop(columns=['Lat', 'Long','Province/State'])\n",
    "death = death.drop(columns=['Lat', 'Long','Province/State'])\n",
    "recovered  = recovered.drop(columns=['Lat', 'Long','Province/State'])\n"
   ]
  },
  {
   "cell_type": "code",
   "execution_count": 68,
   "metadata": {},
   "outputs": [],
   "source": [
    "active =confirmed.copy()\n",
    "active.iloc[:,1:] = active.iloc[:,1:] - death.iloc[:,1:] - recovered.iloc[:,1:]\n"
   ]
  },
  {
   "cell_type": "code",
   "execution_count": 69,
   "metadata": {},
   "outputs": [],
   "source": [
    "confirmed_group = confirmed.groupby(by='Country/Region').aggregate(np.sum).T\n",
    "confirmed_group.index.name = 'date'\n",
    "confirmed_group =  confirmed_group.reset_index()\n",
    "\n",
    "recovered_group = recovered.groupby(by='Country/Region').aggregate(np.sum).T\n",
    "recovered_group.index.name = 'date'\n",
    "recovered_group =  recovered_group.reset_index()\n",
    "\n",
    "active_group = active.groupby(by='Country/Region').aggregate(np.sum).T\n",
    "active_group.index.name = 'date'\n",
    "active_group =  active_group.reset_index()\n",
    "\n",
    "death_group = death.groupby(by='Country/Region').aggregate(np.sum).T\n",
    "death_group.index.name = 'date'\n",
    "death_group =  death_group.reset_index()\n",
    "\n",
    "confirmed_melt = confirmed_group.melt(id_vars=\"date\").copy()\n",
    "confirmed_melt.rename(columns = {'value':'Confirmados', 'date':'Fecha'}, inplace = True)\n",
    "\n",
    "death_melt = death_group.melt(id_vars=\"date\")\n",
    "death_melt.rename(columns = {'value':'Muertos', 'date':'Fecha'}, inplace = True)\n"
   ]
  },
  {
   "cell_type": "code",
   "execution_count": 70,
   "metadata": {},
   "outputs": [],
   "source": [
    "# Numero de Casos confirmados por dia en el mundo\n",
    "column_names = [\"Fecha\", \"Confirmados\", \"Recuperados\",\"Muertos\"]\n",
    "world = pd.DataFrame(columns = column_names)\n",
    "world['Fecha'] = confirmed_group['date'].copy()\n",
    "world['Confirmados'] = confirmed_group.iloc[:,1:].sum(1)\n",
    "world['Muertos'] = death_group.iloc[:,1:].sum(1)\n",
    "world['Recuperados'] = recovered_group.iloc[:,1:].sum(1)\n",
    "world['Activos'] = active_group.iloc[:,1:].sum(1)\n"
   ]
  },
  {
   "cell_type": "code",
   "execution_count": 71,
   "metadata": {},
   "outputs": [
    {
     "name": "stderr",
     "output_type": "stream",
     "text": [
      "/var/folders/pf/565wgnj55rl181qjmrmqq69m0000gn/T/ipykernel_98467/3889849003.py:1: UserWarning:\n",
      "\n",
      "Could not infer format, so each element will be parsed individually, falling back to `dateutil`. To ensure parsing is consistent and as-expected, please specify a format.\n",
      "\n",
      "/var/folders/pf/565wgnj55rl181qjmrmqq69m0000gn/T/ipykernel_98467/3889849003.py:6: SettingWithCopyWarning:\n",
      "\n",
      "\n",
      "A value is trying to be set on a copy of a slice from a DataFrame\n",
      "\n",
      "See the caveats in the documentation: https://pandas.pydata.org/pandas-docs/stable/user_guide/indexing.html#returning-a-view-versus-a-copy\n",
      "\n"
     ]
    },
    {
     "data": {
      "application/vnd.plotly.v1+json": {
       "config": {
        "plotlyServerURL": "https://plotly.com"
       },
       "data": [
        {
         "coloraxis": "coloraxis",
         "customdata": [
          [
           209451
          ],
          [
           334457
          ],
          [
           271496
          ],
          [
           47890
          ],
          [
           105288
          ],
          [
           11
          ],
          [
           9106
          ],
          [
           10044957
          ],
          [
           447308
          ],
          [
           11399460
          ],
          [
           5961143
          ],
          [
           828825
          ],
          [
           37491
          ],
          [
           710693
          ],
          [
           2037871
          ],
          [
           106798
          ],
          [
           994037
          ],
          [
           4739365
          ],
          [
           70757
          ],
          [
           27999
          ],
          [
           62627
          ],
          [
           1194277
          ],
          [
           401729
          ],
          [
           329758
          ],
          [
           37076053
          ],
          [
           279661
          ],
          [
           1297523
          ],
          [
           22056
          ],
          [
           633950
          ],
          [
           53631
          ],
          [
           63244
          ],
          [
           138719
          ],
          [
           124392
          ],
          [
           4617095
          ],
          [
           15368
          ],
          [
           7679
          ],
          [
           5192286
          ],
          [
           4903524
          ],
          [
           6359093
          ],
          [
           9008
          ],
          [
           25087
          ],
          [
           95749
          ],
          [
           1209725
          ],
          [
           88263
          ],
          [
           1269326
          ],
          [
           1112643
          ],
          [
           650685
          ],
          [
           4618256
          ],
          [
           3451036
          ],
          [
           712
          ],
          [
           15690
          ],
          [
           15760
          ],
          [
           660790
          ],
          [
           1057121
          ],
          [
           515759
          ],
          [
           201785
          ],
          [
           17229
          ],
          [
           10189
          ],
          [
           615433
          ],
          [
           74267
          ],
          [
           500116
          ],
          [
           68898
          ],
          [
           1463644
          ],
          [
           39866718
          ],
          [
           48981
          ],
          [
           12598
          ],
          [
           1827537
          ],
          [
           38249060
          ],
          [
           171229
          ],
          [
           5548487
          ],
          [
           19680
          ],
          [
           1238247
          ],
          [
           38267
          ],
          [
           8960
          ],
          [
           73075
          ],
          [
           34202
          ],
          [
           29
          ],
          [
           472250
          ],
          [
           2196804
          ],
          [
           209137
          ],
          [
           44690738
          ],
          [
           6738225
          ],
          [
           7572311
          ],
          [
           2465545
          ],
          [
           1704502
          ],
          [
           4803824
          ],
          [
           25603510
          ],
          [
           154416
          ],
          [
           33320438
          ],
          [
           1746997
          ],
          [
           1498668
          ],
          [
           342937
          ],
          [
           5014
          ],
          [
           1
          ],
          [
           30615522
          ],
          [
           273312
          ],
          [
           663860
          ],
          [
           206708
          ],
          [
           218023
          ],
          [
           976255
          ],
          [
           1232828
          ],
          [
           34790
          ],
          [
           8090
          ],
          [
           507187
          ],
          [
           21432
          ],
          [
           1307448
          ],
          [
           317367
          ],
          [
           9
          ],
          [
           67889
          ],
          [
           88707
          ],
          [
           5044718
          ],
          [
           185738
          ],
          [
           33062
          ],
          [
           117610
          ],
          [
           15649
          ],
          [
           63668
          ],
          [
           296042
          ],
          [
           7483444
          ],
          [
           23948
          ],
          [
           611140
          ],
          [
           16121
          ],
          [
           1007900
          ],
          [
           288808
          ],
          [
           1272490
          ],
          [
           233214
          ],
          [
           171156
          ],
          [
           5247
          ],
          [
           1001154
          ],
          [
           8712835
          ],
          [
           2236114
          ],
          [
           15655
          ],
          [
           9508
          ],
          [
           266598
          ],
          [
           346852
          ],
          [
           1479506
          ],
          [
           399449
          ],
          [
           1577411
          ],
          [
           5991
          ],
          [
           1031731
          ],
          [
           46825
          ],
          [
           808401
          ],
          [
           4487553
          ],
          [
           4077452
          ],
          [
           6444960
          ],
          [
           5570473
          ],
          [
           495090
          ],
          [
           3346046
          ],
          [
           22075858
          ],
          [
           133194
          ],
          [
           6597
          ],
          [
           30004
          ],
          [
           9589
          ],
          [
           16607
          ],
          [
           23616
          ],
          [
           6281
          ],
          [
           830127
          ],
          [
           88926
          ],
          [
           2500142
          ],
          [
           50665
          ],
          [
           7760
          ],
          [
           2235294
          ],
          [
           2667551
          ],
          [
           1331707
          ],
          [
           24575
          ],
          [
           27324
          ],
          [
           4067067
          ],
          [
           18368
          ],
          [
           13770429
          ],
          [
           672039
          ],
          [
           63829
          ],
          [
           865
          ],
          [
           82467
          ],
          [
           2699339
          ],
          [
           4413911
          ],
          [
           57467
          ],
          [
           9970937
          ],
          [
           17786
          ],
          [
           42906
          ],
          [
           4728182
          ],
          [
           23419
          ],
          [
           39396
          ],
          [
           16810
          ],
          [
           189918
          ],
          [
           1151126
          ],
          [
           17042722
          ],
          [
           2805
          ],
          [
           103802702
          ],
          [
           170544
          ],
          [
           5711929
          ],
          [
           1053213
          ],
          [
           24658705
          ],
          [
           1034303
          ],
          [
           251247
          ],
          [
           12014
          ],
          [
           552162
          ],
          [
           11526994
          ],
          [
           703228
          ],
          [
           535
          ],
          [
           11945
          ],
          [
           343135
          ],
          [
           264276
          ]
         ],
         "geo": "geo",
         "hovertemplate": "<b>%{hovertext}</b><br><br>Country/Region=%{location}<br>Confirmados=%{customdata[0]}<br>color=%{z}<extra></extra>",
         "hovertext": [
          "Afghanistan",
          "Albania",
          "Algeria",
          "Andorra",
          "Angola",
          "Antarctica",
          "Antigua and Barbuda",
          "Argentina",
          "Armenia",
          "Australia",
          "Austria",
          "Azerbaijan",
          "Bahamas",
          "Bahrain",
          "Bangladesh",
          "Barbados",
          "Belarus",
          "Belgium",
          "Belize",
          "Benin",
          "Bhutan",
          "Bolivia",
          "Bosnia and Herzegovina",
          "Botswana",
          "Brazil",
          "Brunei",
          "Bulgaria",
          "Burkina Faso",
          "Burma",
          "Burundi",
          "Cabo Verde",
          "Cambodia",
          "Cameroon",
          "Canada",
          "Central African Republic",
          "Chad",
          "Chile",
          "China",
          "Colombia",
          "Comoros",
          "Congo (Brazzaville)",
          "Congo (Kinshasa)",
          "Costa Rica",
          "Cote d'Ivoire",
          "Croatia",
          "Cuba",
          "Cyprus",
          "Czechia",
          "Denmark",
          "Diamond Princess",
          "Djibouti",
          "Dominica",
          "Dominican Republic",
          "Ecuador",
          "Egypt",
          "El Salvador",
          "Equatorial Guinea",
          "Eritrea",
          "Estonia",
          "Eswatini",
          "Ethiopia",
          "Fiji",
          "Finland",
          "France",
          "Gabon",
          "Gambia",
          "Georgia",
          "Germany",
          "Ghana",
          "Greece",
          "Grenada",
          "Guatemala",
          "Guinea",
          "Guinea-Bissau",
          "Guyana",
          "Haiti",
          "Holy See",
          "Honduras",
          "Hungary",
          "Iceland",
          "India",
          "Indonesia",
          "Iran",
          "Iraq",
          "Ireland",
          "Israel",
          "Italy",
          "Jamaica",
          "Japan",
          "Jordan",
          "Kazakhstan",
          "Kenya",
          "Kiribati",
          "Korea, North",
          "Korea, South",
          "Kosovo",
          "Kuwait",
          "Kyrgyzstan",
          "Laos",
          "Latvia",
          "Lebanon",
          "Lesotho",
          "Liberia",
          "Libya",
          "Liechtenstein",
          "Lithuania",
          "Luxembourg",
          "MS Zaandam",
          "Madagascar",
          "Malawi",
          "Malaysia",
          "Maldives",
          "Mali",
          "Malta",
          "Marshall Islands",
          "Mauritania",
          "Mauritius",
          "Mexico",
          "Micronesia",
          "Moldova",
          "Monaco",
          "Mongolia",
          "Montenegro",
          "Morocco",
          "Mozambique",
          "Namibia",
          "Nauru",
          "Nepal",
          "Netherlands",
          "New Zealand",
          "Nicaragua",
          "Niger",
          "Nigeria",
          "North Macedonia",
          "Norway",
          "Oman",
          "Pakistan",
          "Palau",
          "Panama",
          "Papua New Guinea",
          "Paraguay",
          "Peru",
          "Philippines",
          "Poland",
          "Portugal",
          "Qatar",
          "Romania",
          "Russia",
          "Rwanda",
          "Saint Kitts and Nevis",
          "Saint Lucia",
          "Saint Vincent and the Grenadines",
          "Samoa",
          "San Marino",
          "Sao Tome and Principe",
          "Saudi Arabia",
          "Senegal",
          "Serbia",
          "Seychelles",
          "Sierra Leone",
          "Singapore",
          "Slovakia",
          "Slovenia",
          "Solomon Islands",
          "Somalia",
          "South Africa",
          "South Sudan",
          "Spain",
          "Sri Lanka",
          "Sudan",
          "Summer Olympics 2020",
          "Suriname",
          "Sweden",
          "Switzerland",
          "Syria",
          "Taiwan*",
          "Tajikistan",
          "Tanzania",
          "Thailand",
          "Timor-Leste",
          "Togo",
          "Tonga",
          "Trinidad and Tobago",
          "Tunisia",
          "Turkey",
          "Tuvalu",
          "US",
          "Uganda",
          "Ukraine",
          "United Arab Emirates",
          "United Kingdom",
          "Uruguay",
          "Uzbekistan",
          "Vanuatu",
          "Venezuela",
          "Vietnam",
          "West Bank and Gaza",
          "Winter Olympics 2022",
          "Yemen",
          "Zambia",
          "Zimbabwe"
         ],
         "locationmode": "country names",
         "locations": [
          "Afghanistan",
          "Albania",
          "Algeria",
          "Andorra",
          "Angola",
          "Antarctica",
          "Antigua and Barbuda",
          "Argentina",
          "Armenia",
          "Australia",
          "Austria",
          "Azerbaijan",
          "Bahamas",
          "Bahrain",
          "Bangladesh",
          "Barbados",
          "Belarus",
          "Belgium",
          "Belize",
          "Benin",
          "Bhutan",
          "Bolivia",
          "Bosnia and Herzegovina",
          "Botswana",
          "Brazil",
          "Brunei",
          "Bulgaria",
          "Burkina Faso",
          "Burma",
          "Burundi",
          "Cabo Verde",
          "Cambodia",
          "Cameroon",
          "Canada",
          "Central African Republic",
          "Chad",
          "Chile",
          "China",
          "Colombia",
          "Comoros",
          "Congo (Brazzaville)",
          "Congo (Kinshasa)",
          "Costa Rica",
          "Cote d'Ivoire",
          "Croatia",
          "Cuba",
          "Cyprus",
          "Czechia",
          "Denmark",
          "Diamond Princess",
          "Djibouti",
          "Dominica",
          "Dominican Republic",
          "Ecuador",
          "Egypt",
          "El Salvador",
          "Equatorial Guinea",
          "Eritrea",
          "Estonia",
          "Eswatini",
          "Ethiopia",
          "Fiji",
          "Finland",
          "France",
          "Gabon",
          "Gambia",
          "Georgia",
          "Germany",
          "Ghana",
          "Greece",
          "Grenada",
          "Guatemala",
          "Guinea",
          "Guinea-Bissau",
          "Guyana",
          "Haiti",
          "Holy See",
          "Honduras",
          "Hungary",
          "Iceland",
          "India",
          "Indonesia",
          "Iran",
          "Iraq",
          "Ireland",
          "Israel",
          "Italy",
          "Jamaica",
          "Japan",
          "Jordan",
          "Kazakhstan",
          "Kenya",
          "Kiribati",
          "Korea, North",
          "Korea, South",
          "Kosovo",
          "Kuwait",
          "Kyrgyzstan",
          "Laos",
          "Latvia",
          "Lebanon",
          "Lesotho",
          "Liberia",
          "Libya",
          "Liechtenstein",
          "Lithuania",
          "Luxembourg",
          "MS Zaandam",
          "Madagascar",
          "Malawi",
          "Malaysia",
          "Maldives",
          "Mali",
          "Malta",
          "Marshall Islands",
          "Mauritania",
          "Mauritius",
          "Mexico",
          "Micronesia",
          "Moldova",
          "Monaco",
          "Mongolia",
          "Montenegro",
          "Morocco",
          "Mozambique",
          "Namibia",
          "Nauru",
          "Nepal",
          "Netherlands",
          "New Zealand",
          "Nicaragua",
          "Niger",
          "Nigeria",
          "North Macedonia",
          "Norway",
          "Oman",
          "Pakistan",
          "Palau",
          "Panama",
          "Papua New Guinea",
          "Paraguay",
          "Peru",
          "Philippines",
          "Poland",
          "Portugal",
          "Qatar",
          "Romania",
          "Russia",
          "Rwanda",
          "Saint Kitts and Nevis",
          "Saint Lucia",
          "Saint Vincent and the Grenadines",
          "Samoa",
          "San Marino",
          "Sao Tome and Principe",
          "Saudi Arabia",
          "Senegal",
          "Serbia",
          "Seychelles",
          "Sierra Leone",
          "Singapore",
          "Slovakia",
          "Slovenia",
          "Solomon Islands",
          "Somalia",
          "South Africa",
          "South Sudan",
          "Spain",
          "Sri Lanka",
          "Sudan",
          "Summer Olympics 2020",
          "Suriname",
          "Sweden",
          "Switzerland",
          "Syria",
          "Taiwan*",
          "Tajikistan",
          "Tanzania",
          "Thailand",
          "Timor-Leste",
          "Togo",
          "Tonga",
          "Trinidad and Tobago",
          "Tunisia",
          "Turkey",
          "Tuvalu",
          "US",
          "Uganda",
          "Ukraine",
          "United Arab Emirates",
          "United Kingdom",
          "Uruguay",
          "Uzbekistan",
          "Vanuatu",
          "Venezuela",
          "Vietnam",
          "West Bank and Gaza",
          "Winter Olympics 2022",
          "Yemen",
          "Zambia",
          "Zimbabwe"
         ],
         "name": "",
         "type": "choropleth",
         "z": [
          5.321082438191844,
          5.524340289927043,
          5.433763435432326,
          4.680244837042608,
          5.0223788761165515,
          1.0413926851582251,
          3.959327645972171,
          7.001948081979968,
          5.6506066654983576,
          7.05688427900535,
          6.775329540109298,
          5.918462842302581,
          4.573927024542379,
          5.8516820378620915,
          6.3091766891103855,
          5.02856311976092,
          5.9974025499876245,
          6.67572015697576,
          4.849769411136137,
          4.447142520548028,
          4.796761608337888,
          6.077105068518056,
          5.603933183699252,
          5.518195340423742,
          7.56909349430852,
          5.446631906250883,
          6.113115064928628,
          4.343526753097717,
          5.802055006177634,
          4.729415894864112,
          4.801019329998165,
          5.142135949393617,
          5.094792450551137,
          6.664368810559658,
          4.186617351853637,
          3.8853046675889678,
          6.715358606134562,
          6.690508305269181,
          6.803395176468356,
          3.954628377507271,
          4.399448729814232,
          4.981134246904371,
          6.082686655807126,
          4.945778684739357,
          6.103573175931272,
          6.046355839985413,
          5.813370795219617,
          6.66447800313851,
          6.5379494897231885,
          2.8524799936368566,
          4.195622943586937,
          4.197556213153536,
          5.82006346200954,
          6.0241247002920355,
          5.71244681515461,
          5.304888879148899,
          4.236260071000829,
          4.008131562240663,
          5.789180779746436,
          4.870795881034755,
          5.699070748969895,
          4.838206615208488,
          6.165435456751967,
          7.600610484140984,
          4.6900276474699645,
          4.100301604013854,
          6.261866178370344,
          7.582620766500635,
          5.233577320349226,
          6.744174572828518,
          4.294025094095323,
          6.092807284455807,
          4.582824416378794,
          3.9523080096621253,
          4.863768824029474,
          4.534051502651675,
          1.462397997898956,
          5.674171966593871,
          6.341791310668511,
          5.320430873919116,
          7.650217526436624,
          6.8285455086675055,
          6.879228442429929,
          6.391912933483801,
          6.231597515150392,
          6.681587087567462,
          7.408299507075055,
          5.188692298277557,
          7.522710701610285,
          6.242292159198978,
          6.175705434224161,
          5.535214344341979,
          3.7001843296221977,
          0,
          7.485941668631686,
          5.436658700186523,
          5.822076501599741,
          5.31535728499024,
          5.338502311247679,
          5.9895632711791835,
          6.090902489522336,
          4.541454428747589,
          3.9079485216122722,
          5.705168113366145,
          4.331062700600152,
          6.1164244250634825,
          5.501561766580811,
          0.9542425094393249,
          4.83179941159558,
          4.947957892001087,
          6.7028368941672,
          5.268900764816837,
          4.519329121549154,
          5.0704442499729465,
          4.1944865905497055,
          4.803921207605225,
          5.471353329553135,
          6.874101513100832,
          4.379269249473647,
          5.786140709854272,
          4.207391977978488,
          6.003417445202194,
          5.460609219049038,
          6.104654378072149,
          5.367754617871908,
          5.233392128254599,
          3.719911064198339,
          6.000500886875943,
          6.9401594896259455,
          6.34949394067632,
          4.194653071952934,
          3.9780891730561425,
          5.4258568870424995,
          5.5401442030490715,
          6.170116730741402,
          5.601461338262114,
          6.197944865032319,
          3.777499319590365,
          6.013566479806652,
          4.670477786047275,
          5.907626842070151,
          6.652009590827961,
          6.610388857202729,
          6.809220226292497,
          6.745892073552244,
          5.6946841543890905,
          6.5245319071609975,
          7.34391759186112,
          5.124484661579165,
          3.819346484080453,
          4.47717915679053,
          3.9817733186277473,
          4.220291185665156,
          4.373206340142947,
          3.798028793404073,
          5.919144539580787,
          4.949028757659224,
          6.397964675898067,
          4.704708046987443,
          3.8898617212581885,
          6.349334652380931,
          6.426112731304323,
          6.124408682581541,
          4.390493526504173,
          4.436544276662768,
          6.609281326938793,
          4.26406187071788,
          7.13894747035355,
          5.8273944769129375,
          4.805018040452304,
          2.9370161074648142,
          4.916280196004338,
          6.4312574294191345,
          6.644823572006749,
          4.75941852587125,
          6.998735972234275,
          4.250078287979645,
          4.6325180284245135,
          6.674694185317029,
          4.369568346596548,
          4.595452128776965,
          4.225567713439471,
          5.278566128139911,
          6.061122863256011,
          7.231538959865567,
          3.4479328655921804,
          8.016208658410486,
          5.231836444864915,
          6.756782800466323,
          6.022516211043052,
          7.391970265036604,
          6.014647784358745,
          5.400100884791832,
          4.079687627611336,
          5.742066515019331,
          7.061716067102157,
          5.847096154448255,
          2.7283537820212285,
          4.077186154085897,
          5.535465018643814,
          5.422057724838739
         ]
        }
       ],
       "layout": {
        "coloraxis": {
         "colorbar": {
          "title": {
           "text": "color"
          }
         },
         "colorscale": [
          [
           0,
           "rgb(0,0,131)"
          ],
          [
           0.2,
           "rgb(0,60,170)"
          ],
          [
           0.4,
           "rgb(5,255,255)"
          ],
          [
           0.6,
           "rgb(255,255,0)"
          ],
          [
           0.8,
           "rgb(250,0,0)"
          ],
          [
           1,
           "rgb(128,0,0)"
          ]
         ],
         "showscale": false
        },
        "geo": {
         "center": {},
         "domain": {
          "x": [
           0,
           1
          ],
          "y": [
           0,
           1
          ]
         },
         "projection": {
          "type": "natural earth"
         }
        },
        "legend": {
         "tracegroupgap": 0
        },
        "template": {
         "data": {
          "bar": [
           {
            "error_x": {
             "color": "#2a3f5f"
            },
            "error_y": {
             "color": "#2a3f5f"
            },
            "marker": {
             "line": {
              "color": "#E5ECF6",
              "width": 0.5
             },
             "pattern": {
              "fillmode": "overlay",
              "size": 10,
              "solidity": 0.2
             }
            },
            "type": "bar"
           }
          ],
          "barpolar": [
           {
            "marker": {
             "line": {
              "color": "#E5ECF6",
              "width": 0.5
             },
             "pattern": {
              "fillmode": "overlay",
              "size": 10,
              "solidity": 0.2
             }
            },
            "type": "barpolar"
           }
          ],
          "carpet": [
           {
            "aaxis": {
             "endlinecolor": "#2a3f5f",
             "gridcolor": "white",
             "linecolor": "white",
             "minorgridcolor": "white",
             "startlinecolor": "#2a3f5f"
            },
            "baxis": {
             "endlinecolor": "#2a3f5f",
             "gridcolor": "white",
             "linecolor": "white",
             "minorgridcolor": "white",
             "startlinecolor": "#2a3f5f"
            },
            "type": "carpet"
           }
          ],
          "choropleth": [
           {
            "colorbar": {
             "outlinewidth": 0,
             "ticks": ""
            },
            "type": "choropleth"
           }
          ],
          "contour": [
           {
            "colorbar": {
             "outlinewidth": 0,
             "ticks": ""
            },
            "colorscale": [
             [
              0,
              "#0d0887"
             ],
             [
              0.1111111111111111,
              "#46039f"
             ],
             [
              0.2222222222222222,
              "#7201a8"
             ],
             [
              0.3333333333333333,
              "#9c179e"
             ],
             [
              0.4444444444444444,
              "#bd3786"
             ],
             [
              0.5555555555555556,
              "#d8576b"
             ],
             [
              0.6666666666666666,
              "#ed7953"
             ],
             [
              0.7777777777777778,
              "#fb9f3a"
             ],
             [
              0.8888888888888888,
              "#fdca26"
             ],
             [
              1,
              "#f0f921"
             ]
            ],
            "type": "contour"
           }
          ],
          "contourcarpet": [
           {
            "colorbar": {
             "outlinewidth": 0,
             "ticks": ""
            },
            "type": "contourcarpet"
           }
          ],
          "heatmap": [
           {
            "colorbar": {
             "outlinewidth": 0,
             "ticks": ""
            },
            "colorscale": [
             [
              0,
              "#0d0887"
             ],
             [
              0.1111111111111111,
              "#46039f"
             ],
             [
              0.2222222222222222,
              "#7201a8"
             ],
             [
              0.3333333333333333,
              "#9c179e"
             ],
             [
              0.4444444444444444,
              "#bd3786"
             ],
             [
              0.5555555555555556,
              "#d8576b"
             ],
             [
              0.6666666666666666,
              "#ed7953"
             ],
             [
              0.7777777777777778,
              "#fb9f3a"
             ],
             [
              0.8888888888888888,
              "#fdca26"
             ],
             [
              1,
              "#f0f921"
             ]
            ],
            "type": "heatmap"
           }
          ],
          "heatmapgl": [
           {
            "colorbar": {
             "outlinewidth": 0,
             "ticks": ""
            },
            "colorscale": [
             [
              0,
              "#0d0887"
             ],
             [
              0.1111111111111111,
              "#46039f"
             ],
             [
              0.2222222222222222,
              "#7201a8"
             ],
             [
              0.3333333333333333,
              "#9c179e"
             ],
             [
              0.4444444444444444,
              "#bd3786"
             ],
             [
              0.5555555555555556,
              "#d8576b"
             ],
             [
              0.6666666666666666,
              "#ed7953"
             ],
             [
              0.7777777777777778,
              "#fb9f3a"
             ],
             [
              0.8888888888888888,
              "#fdca26"
             ],
             [
              1,
              "#f0f921"
             ]
            ],
            "type": "heatmapgl"
           }
          ],
          "histogram": [
           {
            "marker": {
             "pattern": {
              "fillmode": "overlay",
              "size": 10,
              "solidity": 0.2
             }
            },
            "type": "histogram"
           }
          ],
          "histogram2d": [
           {
            "colorbar": {
             "outlinewidth": 0,
             "ticks": ""
            },
            "colorscale": [
             [
              0,
              "#0d0887"
             ],
             [
              0.1111111111111111,
              "#46039f"
             ],
             [
              0.2222222222222222,
              "#7201a8"
             ],
             [
              0.3333333333333333,
              "#9c179e"
             ],
             [
              0.4444444444444444,
              "#bd3786"
             ],
             [
              0.5555555555555556,
              "#d8576b"
             ],
             [
              0.6666666666666666,
              "#ed7953"
             ],
             [
              0.7777777777777778,
              "#fb9f3a"
             ],
             [
              0.8888888888888888,
              "#fdca26"
             ],
             [
              1,
              "#f0f921"
             ]
            ],
            "type": "histogram2d"
           }
          ],
          "histogram2dcontour": [
           {
            "colorbar": {
             "outlinewidth": 0,
             "ticks": ""
            },
            "colorscale": [
             [
              0,
              "#0d0887"
             ],
             [
              0.1111111111111111,
              "#46039f"
             ],
             [
              0.2222222222222222,
              "#7201a8"
             ],
             [
              0.3333333333333333,
              "#9c179e"
             ],
             [
              0.4444444444444444,
              "#bd3786"
             ],
             [
              0.5555555555555556,
              "#d8576b"
             ],
             [
              0.6666666666666666,
              "#ed7953"
             ],
             [
              0.7777777777777778,
              "#fb9f3a"
             ],
             [
              0.8888888888888888,
              "#fdca26"
             ],
             [
              1,
              "#f0f921"
             ]
            ],
            "type": "histogram2dcontour"
           }
          ],
          "mesh3d": [
           {
            "colorbar": {
             "outlinewidth": 0,
             "ticks": ""
            },
            "type": "mesh3d"
           }
          ],
          "parcoords": [
           {
            "line": {
             "colorbar": {
              "outlinewidth": 0,
              "ticks": ""
             }
            },
            "type": "parcoords"
           }
          ],
          "pie": [
           {
            "automargin": true,
            "type": "pie"
           }
          ],
          "scatter": [
           {
            "fillpattern": {
             "fillmode": "overlay",
             "size": 10,
             "solidity": 0.2
            },
            "type": "scatter"
           }
          ],
          "scatter3d": [
           {
            "line": {
             "colorbar": {
              "outlinewidth": 0,
              "ticks": ""
             }
            },
            "marker": {
             "colorbar": {
              "outlinewidth": 0,
              "ticks": ""
             }
            },
            "type": "scatter3d"
           }
          ],
          "scattercarpet": [
           {
            "marker": {
             "colorbar": {
              "outlinewidth": 0,
              "ticks": ""
             }
            },
            "type": "scattercarpet"
           }
          ],
          "scattergeo": [
           {
            "marker": {
             "colorbar": {
              "outlinewidth": 0,
              "ticks": ""
             }
            },
            "type": "scattergeo"
           }
          ],
          "scattergl": [
           {
            "marker": {
             "colorbar": {
              "outlinewidth": 0,
              "ticks": ""
             }
            },
            "type": "scattergl"
           }
          ],
          "scattermapbox": [
           {
            "marker": {
             "colorbar": {
              "outlinewidth": 0,
              "ticks": ""
             }
            },
            "type": "scattermapbox"
           }
          ],
          "scatterpolar": [
           {
            "marker": {
             "colorbar": {
              "outlinewidth": 0,
              "ticks": ""
             }
            },
            "type": "scatterpolar"
           }
          ],
          "scatterpolargl": [
           {
            "marker": {
             "colorbar": {
              "outlinewidth": 0,
              "ticks": ""
             }
            },
            "type": "scatterpolargl"
           }
          ],
          "scatterternary": [
           {
            "marker": {
             "colorbar": {
              "outlinewidth": 0,
              "ticks": ""
             }
            },
            "type": "scatterternary"
           }
          ],
          "surface": [
           {
            "colorbar": {
             "outlinewidth": 0,
             "ticks": ""
            },
            "colorscale": [
             [
              0,
              "#0d0887"
             ],
             [
              0.1111111111111111,
              "#46039f"
             ],
             [
              0.2222222222222222,
              "#7201a8"
             ],
             [
              0.3333333333333333,
              "#9c179e"
             ],
             [
              0.4444444444444444,
              "#bd3786"
             ],
             [
              0.5555555555555556,
              "#d8576b"
             ],
             [
              0.6666666666666666,
              "#ed7953"
             ],
             [
              0.7777777777777778,
              "#fb9f3a"
             ],
             [
              0.8888888888888888,
              "#fdca26"
             ],
             [
              1,
              "#f0f921"
             ]
            ],
            "type": "surface"
           }
          ],
          "table": [
           {
            "cells": {
             "fill": {
              "color": "#EBF0F8"
             },
             "line": {
              "color": "white"
             }
            },
            "header": {
             "fill": {
              "color": "#C8D4E3"
             },
             "line": {
              "color": "white"
             }
            },
            "type": "table"
           }
          ]
         },
         "layout": {
          "annotationdefaults": {
           "arrowcolor": "#2a3f5f",
           "arrowhead": 0,
           "arrowwidth": 1
          },
          "autotypenumbers": "strict",
          "coloraxis": {
           "colorbar": {
            "outlinewidth": 0,
            "ticks": ""
           }
          },
          "colorscale": {
           "diverging": [
            [
             0,
             "#8e0152"
            ],
            [
             0.1,
             "#c51b7d"
            ],
            [
             0.2,
             "#de77ae"
            ],
            [
             0.3,
             "#f1b6da"
            ],
            [
             0.4,
             "#fde0ef"
            ],
            [
             0.5,
             "#f7f7f7"
            ],
            [
             0.6,
             "#e6f5d0"
            ],
            [
             0.7,
             "#b8e186"
            ],
            [
             0.8,
             "#7fbc41"
            ],
            [
             0.9,
             "#4d9221"
            ],
            [
             1,
             "#276419"
            ]
           ],
           "sequential": [
            [
             0,
             "#0d0887"
            ],
            [
             0.1111111111111111,
             "#46039f"
            ],
            [
             0.2222222222222222,
             "#7201a8"
            ],
            [
             0.3333333333333333,
             "#9c179e"
            ],
            [
             0.4444444444444444,
             "#bd3786"
            ],
            [
             0.5555555555555556,
             "#d8576b"
            ],
            [
             0.6666666666666666,
             "#ed7953"
            ],
            [
             0.7777777777777778,
             "#fb9f3a"
            ],
            [
             0.8888888888888888,
             "#fdca26"
            ],
            [
             1,
             "#f0f921"
            ]
           ],
           "sequentialminus": [
            [
             0,
             "#0d0887"
            ],
            [
             0.1111111111111111,
             "#46039f"
            ],
            [
             0.2222222222222222,
             "#7201a8"
            ],
            [
             0.3333333333333333,
             "#9c179e"
            ],
            [
             0.4444444444444444,
             "#bd3786"
            ],
            [
             0.5555555555555556,
             "#d8576b"
            ],
            [
             0.6666666666666666,
             "#ed7953"
            ],
            [
             0.7777777777777778,
             "#fb9f3a"
            ],
            [
             0.8888888888888888,
             "#fdca26"
            ],
            [
             1,
             "#f0f921"
            ]
           ]
          },
          "colorway": [
           "#636efa",
           "#EF553B",
           "#00cc96",
           "#ab63fa",
           "#FFA15A",
           "#19d3f3",
           "#FF6692",
           "#B6E880",
           "#FF97FF",
           "#FECB52"
          ],
          "font": {
           "color": "#2a3f5f"
          },
          "geo": {
           "bgcolor": "white",
           "lakecolor": "white",
           "landcolor": "#E5ECF6",
           "showlakes": true,
           "showland": true,
           "subunitcolor": "white"
          },
          "hoverlabel": {
           "align": "left"
          },
          "hovermode": "closest",
          "mapbox": {
           "style": "light"
          },
          "paper_bgcolor": "white",
          "plot_bgcolor": "#E5ECF6",
          "polar": {
           "angularaxis": {
            "gridcolor": "white",
            "linecolor": "white",
            "ticks": ""
           },
           "bgcolor": "#E5ECF6",
           "radialaxis": {
            "gridcolor": "white",
            "linecolor": "white",
            "ticks": ""
           }
          },
          "scene": {
           "xaxis": {
            "backgroundcolor": "#E5ECF6",
            "gridcolor": "white",
            "gridwidth": 2,
            "linecolor": "white",
            "showbackground": true,
            "ticks": "",
            "zerolinecolor": "white"
           },
           "yaxis": {
            "backgroundcolor": "#E5ECF6",
            "gridcolor": "white",
            "gridwidth": 2,
            "linecolor": "white",
            "showbackground": true,
            "ticks": "",
            "zerolinecolor": "white"
           },
           "zaxis": {
            "backgroundcolor": "#E5ECF6",
            "gridcolor": "white",
            "gridwidth": 2,
            "linecolor": "white",
            "showbackground": true,
            "ticks": "",
            "zerolinecolor": "white"
           }
          },
          "shapedefaults": {
           "line": {
            "color": "#2a3f5f"
           }
          },
          "ternary": {
           "aaxis": {
            "gridcolor": "white",
            "linecolor": "white",
            "ticks": ""
           },
           "baxis": {
            "gridcolor": "white",
            "linecolor": "white",
            "ticks": ""
           },
           "bgcolor": "#E5ECF6",
           "caxis": {
            "gridcolor": "white",
            "linecolor": "white",
            "ticks": ""
           }
          },
          "title": {
           "x": 0.05
          },
          "xaxis": {
           "automargin": true,
           "gridcolor": "white",
           "linecolor": "white",
           "ticks": "",
           "title": {
            "standoff": 15
           },
           "zerolinecolor": "white",
           "zerolinewidth": 2
          },
          "yaxis": {
           "automargin": true,
           "gridcolor": "white",
           "linecolor": "white",
           "ticks": "",
           "title": {
            "standoff": 15
           },
           "zerolinecolor": "white",
           "zerolinewidth": 2
          }
         }
        },
        "title": {
         "text": "Mapa de Confirmados COVID 19 por Pais"
        },
        "width": 900
       }
      }
     },
     "metadata": {},
     "output_type": "display_data"
    }
   ],
   "source": [
    "confirmed_melt['Fecha'] = pd.to_datetime(confirmed_melt['Fecha'])\n",
    "confirmed_melt['Fecha'] = confirmed_melt['Fecha'].dt.strftime('%m/%d/%Y')\n",
    "\n",
    "max_Fecha = confirmed_melt['Fecha'].iloc[-1]\n",
    "conf_max = confirmed_melt[confirmed_melt['Fecha']== max_Fecha]\n",
    "conf_max.dropna(inplace=True) #eliminar filas con valores faltantes\n",
    "\n",
    "fig = px.choropleth(conf_max, locations=\"Country/Region\", locationmode='country names', \n",
    "                     color=np.log10(conf_max[\"Confirmados\"]), hover_name=\"Country/Region\", \n",
    "                     hover_data = [\"Confirmados\"],\n",
    "                     projection=\"natural earth\", width=900,\n",
    "                     color_continuous_scale = px.colors.sequential.Jet,        \n",
    "                     title='Mapa de Confirmados COVID 19 por Pais')\n",
    "fig.update(layout_coloraxis_showscale=False)\n",
    "#py.plot(fig, filename = 'mapa_confirmados_pais', auto_open=False)\n",
    "fig.show()\n"
   ]
  },
  {
   "cell_type": "code",
   "execution_count": 72,
   "metadata": {},
   "outputs": [
    {
     "data": {
      "text/html": [
       "<div>\n",
       "<style scoped>\n",
       "    .dataframe tbody tr th:only-of-type {\n",
       "        vertical-align: middle;\n",
       "    }\n",
       "\n",
       "    .dataframe tbody tr th {\n",
       "        vertical-align: top;\n",
       "    }\n",
       "\n",
       "    .dataframe thead th {\n",
       "        text-align: right;\n",
       "    }\n",
       "</style>\n",
       "<table border=\"1\" class=\"dataframe\">\n",
       "  <thead>\n",
       "    <tr style=\"text-align: right;\">\n",
       "      <th></th>\n",
       "      <th>Fecha</th>\n",
       "      <th>Country/Region</th>\n",
       "      <th>Confirmados</th>\n",
       "    </tr>\n",
       "  </thead>\n",
       "  <tbody>\n",
       "    <tr>\n",
       "      <th>1142</th>\n",
       "      <td>03/09/2023</td>\n",
       "      <td>Afghanistan</td>\n",
       "      <td>209451</td>\n",
       "    </tr>\n",
       "    <tr>\n",
       "      <th>2285</th>\n",
       "      <td>03/09/2023</td>\n",
       "      <td>Albania</td>\n",
       "      <td>334457</td>\n",
       "    </tr>\n",
       "    <tr>\n",
       "      <th>3428</th>\n",
       "      <td>03/09/2023</td>\n",
       "      <td>Algeria</td>\n",
       "      <td>271496</td>\n",
       "    </tr>\n",
       "    <tr>\n",
       "      <th>4571</th>\n",
       "      <td>03/09/2023</td>\n",
       "      <td>Andorra</td>\n",
       "      <td>47890</td>\n",
       "    </tr>\n",
       "    <tr>\n",
       "      <th>5714</th>\n",
       "      <td>03/09/2023</td>\n",
       "      <td>Angola</td>\n",
       "      <td>105288</td>\n",
       "    </tr>\n",
       "    <tr>\n",
       "      <th>...</th>\n",
       "      <td>...</td>\n",
       "      <td>...</td>\n",
       "      <td>...</td>\n",
       "    </tr>\n",
       "    <tr>\n",
       "      <th>225170</th>\n",
       "      <td>03/09/2023</td>\n",
       "      <td>West Bank and Gaza</td>\n",
       "      <td>703228</td>\n",
       "    </tr>\n",
       "    <tr>\n",
       "      <th>226313</th>\n",
       "      <td>03/09/2023</td>\n",
       "      <td>Winter Olympics 2022</td>\n",
       "      <td>535</td>\n",
       "    </tr>\n",
       "    <tr>\n",
       "      <th>227456</th>\n",
       "      <td>03/09/2023</td>\n",
       "      <td>Yemen</td>\n",
       "      <td>11945</td>\n",
       "    </tr>\n",
       "    <tr>\n",
       "      <th>228599</th>\n",
       "      <td>03/09/2023</td>\n",
       "      <td>Zambia</td>\n",
       "      <td>343135</td>\n",
       "    </tr>\n",
       "    <tr>\n",
       "      <th>229742</th>\n",
       "      <td>03/09/2023</td>\n",
       "      <td>Zimbabwe</td>\n",
       "      <td>264276</td>\n",
       "    </tr>\n",
       "  </tbody>\n",
       "</table>\n",
       "<p>201 rows × 3 columns</p>\n",
       "</div>"
      ],
      "text/plain": [
       "             Fecha        Country/Region  Confirmados\n",
       "1142    03/09/2023           Afghanistan       209451\n",
       "2285    03/09/2023               Albania       334457\n",
       "3428    03/09/2023               Algeria       271496\n",
       "4571    03/09/2023               Andorra        47890\n",
       "5714    03/09/2023                Angola       105288\n",
       "...            ...                   ...          ...\n",
       "225170  03/09/2023    West Bank and Gaza       703228\n",
       "226313  03/09/2023  Winter Olympics 2022          535\n",
       "227456  03/09/2023                 Yemen        11945\n",
       "228599  03/09/2023                Zambia       343135\n",
       "229742  03/09/2023              Zimbabwe       264276\n",
       "\n",
       "[201 rows x 3 columns]"
      ]
     },
     "execution_count": 72,
     "metadata": {},
     "output_type": "execute_result"
    }
   ],
   "source": [
    "conf_max"
   ]
  },
  {
   "cell_type": "code",
   "execution_count": 73,
   "metadata": {},
   "outputs": [
    {
     "data": {
      "text/plain": [
       "array(['Afghanistan', 'Albania', 'Algeria', 'Andorra', 'Angola',\n",
       "       'Antarctica', 'Antigua and Barbuda', 'Argentina', 'Armenia',\n",
       "       'Australia', 'Austria', 'Azerbaijan', 'Bahamas', 'Bahrain',\n",
       "       'Bangladesh', 'Barbados', 'Belarus', 'Belgium', 'Belize', 'Benin',\n",
       "       'Bhutan', 'Bolivia', 'Bosnia and Herzegovina', 'Botswana',\n",
       "       'Brazil', 'Brunei', 'Bulgaria', 'Burkina Faso', 'Burma', 'Burundi',\n",
       "       'Cabo Verde', 'Cambodia', 'Cameroon', 'Canada',\n",
       "       'Central African Republic', 'Chad', 'Chile', 'China', 'Colombia',\n",
       "       'Comoros', 'Congo (Brazzaville)', 'Congo (Kinshasa)', 'Costa Rica',\n",
       "       \"Cote d'Ivoire\", 'Croatia', 'Cuba', 'Cyprus', 'Czechia', 'Denmark',\n",
       "       'Diamond Princess', 'Djibouti', 'Dominica', 'Dominican Republic',\n",
       "       'Ecuador', 'Egypt', 'El Salvador', 'Equatorial Guinea', 'Eritrea',\n",
       "       'Estonia', 'Eswatini', 'Ethiopia', 'Fiji', 'Finland', 'France',\n",
       "       'Gabon', 'Gambia', 'Georgia', 'Germany', 'Ghana', 'Greece',\n",
       "       'Grenada', 'Guatemala', 'Guinea', 'Guinea-Bissau', 'Guyana',\n",
       "       'Haiti', 'Holy See', 'Honduras', 'Hungary', 'Iceland', 'India',\n",
       "       'Indonesia', 'Iran', 'Iraq', 'Ireland', 'Israel', 'Italy',\n",
       "       'Jamaica', 'Japan', 'Jordan', 'Kazakhstan', 'Kenya', 'Kiribati',\n",
       "       'Korea, North', 'Korea, South', 'Kosovo', 'Kuwait', 'Kyrgyzstan',\n",
       "       'Laos', 'Latvia', 'Lebanon', 'Lesotho', 'Liberia', 'Libya',\n",
       "       'Liechtenstein', 'Lithuania', 'Luxembourg', 'MS Zaandam',\n",
       "       'Madagascar', 'Malawi', 'Malaysia', 'Maldives', 'Mali', 'Malta',\n",
       "       'Marshall Islands', 'Mauritania', 'Mauritius', 'Mexico',\n",
       "       'Micronesia', 'Moldova', 'Monaco', 'Mongolia', 'Montenegro',\n",
       "       'Morocco', 'Mozambique', 'Namibia', 'Nauru', 'Nepal',\n",
       "       'Netherlands', 'New Zealand', 'Nicaragua', 'Niger', 'Nigeria',\n",
       "       'North Macedonia', 'Norway', 'Oman', 'Pakistan', 'Palau', 'Panama',\n",
       "       'Papua New Guinea', 'Paraguay', 'Peru', 'Philippines', 'Poland',\n",
       "       'Portugal', 'Qatar', 'Romania', 'Russia', 'Rwanda',\n",
       "       'Saint Kitts and Nevis', 'Saint Lucia',\n",
       "       'Saint Vincent and the Grenadines', 'Samoa', 'San Marino',\n",
       "       'Sao Tome and Principe', 'Saudi Arabia', 'Senegal', 'Serbia',\n",
       "       'Seychelles', 'Sierra Leone', 'Singapore', 'Slovakia', 'Slovenia',\n",
       "       'Solomon Islands', 'Somalia', 'South Africa', 'South Sudan',\n",
       "       'Spain', 'Sri Lanka', 'Sudan', 'Summer Olympics 2020', 'Suriname',\n",
       "       'Sweden', 'Switzerland', 'Syria', 'Taiwan*', 'Tajikistan',\n",
       "       'Tanzania', 'Thailand', 'Timor-Leste', 'Togo', 'Tonga',\n",
       "       'Trinidad and Tobago', 'Tunisia', 'Turkey', 'Tuvalu', 'US',\n",
       "       'Uganda', 'Ukraine', 'United Arab Emirates', 'United Kingdom',\n",
       "       'Uruguay', 'Uzbekistan', 'Vanuatu', 'Venezuela', 'Vietnam',\n",
       "       'West Bank and Gaza', 'Winter Olympics 2022', 'Yemen', 'Zambia',\n",
       "       'Zimbabwe'], dtype=object)"
      ]
     },
     "execution_count": 73,
     "metadata": {},
     "output_type": "execute_result"
    }
   ],
   "source": [
    "conf_max['Country/Region'].unique()"
   ]
  },
  {
   "cell_type": "code",
   "execution_count": 74,
   "metadata": {},
   "outputs": [
    {
     "name": "stdout",
     "output_type": "stream",
     "text": [
      "52.2928116 -3.73893\n"
     ]
    }
   ],
   "source": [
    "from geopy.geocoders import Nominatim\n",
    "import time\n",
    "import math\n",
    "geo = Nominatim(user_agent='MyApp')\n",
    "loc = geo.geocode('Wales')\n",
    "print(loc.latitude,loc.longitude)"
   ]
  },
  {
   "cell_type": "code",
   "execution_count": 75,
   "metadata": {},
   "outputs": [],
   "source": [
    "x = pd.DataFrame(columns=['Paises'])\n",
    "x['Paises']=players_fifa_wc2022.team.unique()\n"
   ]
  },
  {
   "cell_type": "code",
   "execution_count": 85,
   "metadata": {},
   "outputs": [
    {
     "data": {
      "text/html": [
       "<div>\n",
       "<style scoped>\n",
       "    .dataframe tbody tr th:only-of-type {\n",
       "        vertical-align: middle;\n",
       "    }\n",
       "\n",
       "    .dataframe tbody tr th {\n",
       "        vertical-align: top;\n",
       "    }\n",
       "\n",
       "    .dataframe thead th {\n",
       "        text-align: right;\n",
       "    }\n",
       "</style>\n",
       "<table border=\"1\" class=\"dataframe\">\n",
       "  <thead>\n",
       "    <tr style=\"text-align: right;\">\n",
       "      <th></th>\n",
       "      <th>Paises</th>\n",
       "      <th>Code</th>\n",
       "    </tr>\n",
       "  </thead>\n",
       "  <tbody>\n",
       "    <tr>\n",
       "      <th>0</th>\n",
       "      <td>Australia</td>\n",
       "      <td>AUS</td>\n",
       "    </tr>\n",
       "    <tr>\n",
       "      <th>1</th>\n",
       "      <td>Wales</td>\n",
       "      <td>IRL</td>\n",
       "    </tr>\n",
       "    <tr>\n",
       "      <th>2</th>\n",
       "      <td>Morocco</td>\n",
       "      <td>MAR</td>\n",
       "    </tr>\n",
       "    <tr>\n",
       "      <th>3</th>\n",
       "      <td>Qatar</td>\n",
       "      <td>QAT</td>\n",
       "    </tr>\n",
       "    <tr>\n",
       "      <th>4</th>\n",
       "      <td>Senegal</td>\n",
       "      <td>SEN</td>\n",
       "    </tr>\n",
       "    <tr>\n",
       "      <th>5</th>\n",
       "      <td>Ghana</td>\n",
       "      <td>GHA</td>\n",
       "    </tr>\n",
       "    <tr>\n",
       "      <th>6</th>\n",
       "      <td>Saudi Arabia</td>\n",
       "      <td>SAU</td>\n",
       "    </tr>\n",
       "    <tr>\n",
       "      <th>7</th>\n",
       "      <td>IR Iran</td>\n",
       "      <td>None</td>\n",
       "    </tr>\n",
       "    <tr>\n",
       "      <th>8</th>\n",
       "      <td>France</td>\n",
       "      <td>FRA</td>\n",
       "    </tr>\n",
       "    <tr>\n",
       "      <th>9</th>\n",
       "      <td>Uruguay</td>\n",
       "      <td>URY</td>\n",
       "    </tr>\n",
       "    <tr>\n",
       "      <th>10</th>\n",
       "      <td>Tunisia</td>\n",
       "      <td>TUN</td>\n",
       "    </tr>\n",
       "    <tr>\n",
       "      <th>11</th>\n",
       "      <td>Ecuador</td>\n",
       "      <td>ECU</td>\n",
       "    </tr>\n",
       "    <tr>\n",
       "      <th>12</th>\n",
       "      <td>Spain</td>\n",
       "      <td>ESP</td>\n",
       "    </tr>\n",
       "    <tr>\n",
       "      <th>13</th>\n",
       "      <td>Serbia</td>\n",
       "      <td>SRB</td>\n",
       "    </tr>\n",
       "    <tr>\n",
       "      <th>14</th>\n",
       "      <td>Brazil</td>\n",
       "      <td>BRA</td>\n",
       "    </tr>\n",
       "    <tr>\n",
       "      <th>15</th>\n",
       "      <td>Denmark</td>\n",
       "      <td>DNK</td>\n",
       "    </tr>\n",
       "    <tr>\n",
       "      <th>16</th>\n",
       "      <td>Argentina</td>\n",
       "      <td>ARG</td>\n",
       "    </tr>\n",
       "    <tr>\n",
       "      <th>17</th>\n",
       "      <td>Mexico</td>\n",
       "      <td>MEX</td>\n",
       "    </tr>\n",
       "    <tr>\n",
       "      <th>18</th>\n",
       "      <td>Canada</td>\n",
       "      <td>CAN</td>\n",
       "    </tr>\n",
       "    <tr>\n",
       "      <th>19</th>\n",
       "      <td>Belgium</td>\n",
       "      <td>BEL</td>\n",
       "    </tr>\n",
       "    <tr>\n",
       "      <th>20</th>\n",
       "      <td>Cameroon</td>\n",
       "      <td>CMR</td>\n",
       "    </tr>\n",
       "    <tr>\n",
       "      <th>21</th>\n",
       "      <td>Croatia</td>\n",
       "      <td>HRV</td>\n",
       "    </tr>\n",
       "    <tr>\n",
       "      <th>22</th>\n",
       "      <td>Netherlands</td>\n",
       "      <td>NLD</td>\n",
       "    </tr>\n",
       "    <tr>\n",
       "      <th>23</th>\n",
       "      <td>Portugal</td>\n",
       "      <td>PRT</td>\n",
       "    </tr>\n",
       "    <tr>\n",
       "      <th>24</th>\n",
       "      <td>Costa Rica</td>\n",
       "      <td>CRI</td>\n",
       "    </tr>\n",
       "    <tr>\n",
       "      <th>25</th>\n",
       "      <td>United States</td>\n",
       "      <td>USA</td>\n",
       "    </tr>\n",
       "    <tr>\n",
       "      <th>26</th>\n",
       "      <td>Germany</td>\n",
       "      <td>DEU</td>\n",
       "    </tr>\n",
       "    <tr>\n",
       "      <th>27</th>\n",
       "      <td>Japan</td>\n",
       "      <td>JPN</td>\n",
       "    </tr>\n",
       "    <tr>\n",
       "      <th>28</th>\n",
       "      <td>Switzerland</td>\n",
       "      <td>CHE</td>\n",
       "    </tr>\n",
       "    <tr>\n",
       "      <th>29</th>\n",
       "      <td>Poland</td>\n",
       "      <td>POL</td>\n",
       "    </tr>\n",
       "    <tr>\n",
       "      <th>30</th>\n",
       "      <td>England</td>\n",
       "      <td>GBR</td>\n",
       "    </tr>\n",
       "    <tr>\n",
       "      <th>31</th>\n",
       "      <td>Korea Republic</td>\n",
       "      <td>KR</td>\n",
       "    </tr>\n",
       "  </tbody>\n",
       "</table>\n",
       "</div>"
      ],
      "text/plain": [
       "            Paises  Code\n",
       "0        Australia   AUS\n",
       "1            Wales   IRL\n",
       "2          Morocco   MAR\n",
       "3            Qatar   QAT\n",
       "4          Senegal   SEN\n",
       "5            Ghana   GHA\n",
       "6     Saudi Arabia   SAU\n",
       "7          IR Iran  None\n",
       "8           France   FRA\n",
       "9          Uruguay   URY\n",
       "10         Tunisia   TUN\n",
       "11         Ecuador   ECU\n",
       "12           Spain   ESP\n",
       "13          Serbia   SRB\n",
       "14          Brazil   BRA\n",
       "15         Denmark   DNK\n",
       "16       Argentina   ARG\n",
       "17          Mexico   MEX\n",
       "18          Canada   CAN\n",
       "19         Belgium   BEL\n",
       "20        Cameroon   CMR\n",
       "21         Croatia   HRV\n",
       "22     Netherlands   NLD\n",
       "23        Portugal   PRT\n",
       "24      Costa Rica   CRI\n",
       "25   United States   USA\n",
       "26         Germany   DEU\n",
       "27           Japan   JPN\n",
       "28     Switzerland   CHE\n",
       "29          Poland   POL\n",
       "30         England   GBR\n",
       "31  Korea Republic    KR"
      ]
     },
     "execution_count": 85,
     "metadata": {},
     "output_type": "execute_result"
    }
   ],
   "source": [
    "import pycountry\n",
    "def get_alpha_3(location):\n",
    "    try:\n",
    "        return pycountry.countries.get(name=location).alpha_3\n",
    "    except:\n",
    "        return None\n",
    "x['Code'] = x['Paises'].apply(lambda x: get_alpha_3(x))\n",
    "x.loc[(x.Paises=='Wales'),'Code']=get_alpha_3('Ireland')\n",
    "x.loc[(x.Paises=='England'),'Code']=get_alpha_3('United Kingdom')\n",
    "x.loc[(x.Paises=='Korea Republic'),'Code']='KR'\n",
    "x"
   ]
  },
  {
   "cell_type": "code",
   "execution_count": 97,
   "metadata": {},
   "outputs": [
    {
     "data": {
      "application/vnd.plotly.v1+json": {
       "config": {
        "plotlyServerURL": "https://plotly.com"
       },
       "data": [
        {
         "colorscale": [
          [
           0,
           "#2E91E5"
          ],
          [
           1,
           "#2E91E5"
          ]
         ],
         "geo": "geo",
         "hovertemplate": "<b>%{hovertext}</b><br><br>Paises=Australia<br>Code=%{location}<extra></extra>",
         "hovertext": [
          "Australia"
         ],
         "locations": [
          "AUS"
         ],
         "name": "Australia",
         "showlegend": true,
         "showscale": false,
         "type": "choropleth",
         "z": [
          1
         ]
        },
        {
         "colorscale": [
          [
           0,
           "#E15F99"
          ],
          [
           1,
           "#E15F99"
          ]
         ],
         "geo": "geo",
         "hovertemplate": "<b>%{hovertext}</b><br><br>Paises=Wales<br>Code=%{location}<extra></extra>",
         "hovertext": [
          "Wales"
         ],
         "locations": [
          "IRL"
         ],
         "name": "Wales",
         "showlegend": true,
         "showscale": false,
         "type": "choropleth",
         "z": [
          1
         ]
        },
        {
         "colorscale": [
          [
           0,
           "#1CA71C"
          ],
          [
           1,
           "#1CA71C"
          ]
         ],
         "geo": "geo",
         "hovertemplate": "<b>%{hovertext}</b><br><br>Paises=Morocco<br>Code=%{location}<extra></extra>",
         "hovertext": [
          "Morocco"
         ],
         "locations": [
          "MAR"
         ],
         "name": "Morocco",
         "showlegend": true,
         "showscale": false,
         "type": "choropleth",
         "z": [
          1
         ]
        },
        {
         "colorscale": [
          [
           0,
           "#FB0D0D"
          ],
          [
           1,
           "#FB0D0D"
          ]
         ],
         "geo": "geo",
         "hovertemplate": "<b>%{hovertext}</b><br><br>Paises=Qatar<br>Code=%{location}<extra></extra>",
         "hovertext": [
          "Qatar"
         ],
         "locations": [
          "QAT"
         ],
         "name": "Qatar",
         "showlegend": true,
         "showscale": false,
         "type": "choropleth",
         "z": [
          1
         ]
        },
        {
         "colorscale": [
          [
           0,
           "#DA16FF"
          ],
          [
           1,
           "#DA16FF"
          ]
         ],
         "geo": "geo",
         "hovertemplate": "<b>%{hovertext}</b><br><br>Paises=Senegal<br>Code=%{location}<extra></extra>",
         "hovertext": [
          "Senegal"
         ],
         "locations": [
          "SEN"
         ],
         "name": "Senegal",
         "showlegend": true,
         "showscale": false,
         "type": "choropleth",
         "z": [
          1
         ]
        },
        {
         "colorscale": [
          [
           0,
           "#222A2A"
          ],
          [
           1,
           "#222A2A"
          ]
         ],
         "geo": "geo",
         "hovertemplate": "<b>%{hovertext}</b><br><br>Paises=Ghana<br>Code=%{location}<extra></extra>",
         "hovertext": [
          "Ghana"
         ],
         "locations": [
          "GHA"
         ],
         "name": "Ghana",
         "showlegend": true,
         "showscale": false,
         "type": "choropleth",
         "z": [
          1
         ]
        },
        {
         "colorscale": [
          [
           0,
           "#B68100"
          ],
          [
           1,
           "#B68100"
          ]
         ],
         "geo": "geo",
         "hovertemplate": "<b>%{hovertext}</b><br><br>Paises=Saudi Arabia<br>Code=%{location}<extra></extra>",
         "hovertext": [
          "Saudi Arabia"
         ],
         "locations": [
          "SAU"
         ],
         "name": "Saudi Arabia",
         "showlegend": true,
         "showscale": false,
         "type": "choropleth",
         "z": [
          1
         ]
        },
        {
         "colorscale": [
          [
           0,
           "#750D86"
          ],
          [
           1,
           "#750D86"
          ]
         ],
         "geo": "geo",
         "hovertemplate": "<b>%{hovertext}</b><br><br>Paises=IR Iran<br>Code=%{location}<extra></extra>",
         "hovertext": [
          "IR Iran"
         ],
         "locations": [
          null
         ],
         "name": "IR Iran",
         "showlegend": true,
         "showscale": false,
         "type": "choropleth",
         "z": [
          1
         ]
        },
        {
         "colorscale": [
          [
           0,
           "#EB663B"
          ],
          [
           1,
           "#EB663B"
          ]
         ],
         "geo": "geo",
         "hovertemplate": "<b>%{hovertext}</b><br><br>Paises=France<br>Code=%{location}<extra></extra>",
         "hovertext": [
          "France"
         ],
         "locations": [
          "FRA"
         ],
         "name": "France",
         "showlegend": true,
         "showscale": false,
         "type": "choropleth",
         "z": [
          1
         ]
        },
        {
         "colorscale": [
          [
           0,
           "#511CFB"
          ],
          [
           1,
           "#511CFB"
          ]
         ],
         "geo": "geo",
         "hovertemplate": "<b>%{hovertext}</b><br><br>Paises=Uruguay<br>Code=%{location}<extra></extra>",
         "hovertext": [
          "Uruguay"
         ],
         "locations": [
          "URY"
         ],
         "name": "Uruguay",
         "showlegend": true,
         "showscale": false,
         "type": "choropleth",
         "z": [
          1
         ]
        },
        {
         "colorscale": [
          [
           0,
           "#00A08B"
          ],
          [
           1,
           "#00A08B"
          ]
         ],
         "geo": "geo",
         "hovertemplate": "<b>%{hovertext}</b><br><br>Paises=Tunisia<br>Code=%{location}<extra></extra>",
         "hovertext": [
          "Tunisia"
         ],
         "locations": [
          "TUN"
         ],
         "name": "Tunisia",
         "showlegend": true,
         "showscale": false,
         "type": "choropleth",
         "z": [
          1
         ]
        },
        {
         "colorscale": [
          [
           0,
           "#FB00D1"
          ],
          [
           1,
           "#FB00D1"
          ]
         ],
         "geo": "geo",
         "hovertemplate": "<b>%{hovertext}</b><br><br>Paises=Ecuador<br>Code=%{location}<extra></extra>",
         "hovertext": [
          "Ecuador"
         ],
         "locations": [
          "ECU"
         ],
         "name": "Ecuador",
         "showlegend": true,
         "showscale": false,
         "type": "choropleth",
         "z": [
          1
         ]
        },
        {
         "colorscale": [
          [
           0,
           "#FC0080"
          ],
          [
           1,
           "#FC0080"
          ]
         ],
         "geo": "geo",
         "hovertemplate": "<b>%{hovertext}</b><br><br>Paises=Spain<br>Code=%{location}<extra></extra>",
         "hovertext": [
          "Spain"
         ],
         "locations": [
          "ESP"
         ],
         "name": "Spain",
         "showlegend": true,
         "showscale": false,
         "type": "choropleth",
         "z": [
          1
         ]
        },
        {
         "colorscale": [
          [
           0,
           "#B2828D"
          ],
          [
           1,
           "#B2828D"
          ]
         ],
         "geo": "geo",
         "hovertemplate": "<b>%{hovertext}</b><br><br>Paises=Serbia<br>Code=%{location}<extra></extra>",
         "hovertext": [
          "Serbia"
         ],
         "locations": [
          "SRB"
         ],
         "name": "Serbia",
         "showlegend": true,
         "showscale": false,
         "type": "choropleth",
         "z": [
          1
         ]
        },
        {
         "colorscale": [
          [
           0,
           "#6C7C32"
          ],
          [
           1,
           "#6C7C32"
          ]
         ],
         "geo": "geo",
         "hovertemplate": "<b>%{hovertext}</b><br><br>Paises=Brazil<br>Code=%{location}<extra></extra>",
         "hovertext": [
          "Brazil"
         ],
         "locations": [
          "BRA"
         ],
         "name": "Brazil",
         "showlegend": true,
         "showscale": false,
         "type": "choropleth",
         "z": [
          1
         ]
        },
        {
         "colorscale": [
          [
           0,
           "#778AAE"
          ],
          [
           1,
           "#778AAE"
          ]
         ],
         "geo": "geo",
         "hovertemplate": "<b>%{hovertext}</b><br><br>Paises=Denmark<br>Code=%{location}<extra></extra>",
         "hovertext": [
          "Denmark"
         ],
         "locations": [
          "DNK"
         ],
         "name": "Denmark",
         "showlegend": true,
         "showscale": false,
         "type": "choropleth",
         "z": [
          1
         ]
        },
        {
         "colorscale": [
          [
           0,
           "#862A16"
          ],
          [
           1,
           "#862A16"
          ]
         ],
         "geo": "geo",
         "hovertemplate": "<b>%{hovertext}</b><br><br>Paises=Argentina<br>Code=%{location}<extra></extra>",
         "hovertext": [
          "Argentina"
         ],
         "locations": [
          "ARG"
         ],
         "name": "Argentina",
         "showlegend": true,
         "showscale": false,
         "type": "choropleth",
         "z": [
          1
         ]
        },
        {
         "colorscale": [
          [
           0,
           "#A777F1"
          ],
          [
           1,
           "#A777F1"
          ]
         ],
         "geo": "geo",
         "hovertemplate": "<b>%{hovertext}</b><br><br>Paises=Mexico<br>Code=%{location}<extra></extra>",
         "hovertext": [
          "Mexico"
         ],
         "locations": [
          "MEX"
         ],
         "name": "Mexico",
         "showlegend": true,
         "showscale": false,
         "type": "choropleth",
         "z": [
          1
         ]
        },
        {
         "colorscale": [
          [
           0,
           "#620042"
          ],
          [
           1,
           "#620042"
          ]
         ],
         "geo": "geo",
         "hovertemplate": "<b>%{hovertext}</b><br><br>Paises=Canada<br>Code=%{location}<extra></extra>",
         "hovertext": [
          "Canada"
         ],
         "locations": [
          "CAN"
         ],
         "name": "Canada",
         "showlegend": true,
         "showscale": false,
         "type": "choropleth",
         "z": [
          1
         ]
        },
        {
         "colorscale": [
          [
           0,
           "#1616A7"
          ],
          [
           1,
           "#1616A7"
          ]
         ],
         "geo": "geo",
         "hovertemplate": "<b>%{hovertext}</b><br><br>Paises=Belgium<br>Code=%{location}<extra></extra>",
         "hovertext": [
          "Belgium"
         ],
         "locations": [
          "BEL"
         ],
         "name": "Belgium",
         "showlegend": true,
         "showscale": false,
         "type": "choropleth",
         "z": [
          1
         ]
        },
        {
         "colorscale": [
          [
           0,
           "#DA60CA"
          ],
          [
           1,
           "#DA60CA"
          ]
         ],
         "geo": "geo",
         "hovertemplate": "<b>%{hovertext}</b><br><br>Paises=Cameroon<br>Code=%{location}<extra></extra>",
         "hovertext": [
          "Cameroon"
         ],
         "locations": [
          "CMR"
         ],
         "name": "Cameroon",
         "showlegend": true,
         "showscale": false,
         "type": "choropleth",
         "z": [
          1
         ]
        },
        {
         "colorscale": [
          [
           0,
           "#6C4516"
          ],
          [
           1,
           "#6C4516"
          ]
         ],
         "geo": "geo",
         "hovertemplate": "<b>%{hovertext}</b><br><br>Paises=Croatia<br>Code=%{location}<extra></extra>",
         "hovertext": [
          "Croatia"
         ],
         "locations": [
          "HRV"
         ],
         "name": "Croatia",
         "showlegend": true,
         "showscale": false,
         "type": "choropleth",
         "z": [
          1
         ]
        },
        {
         "colorscale": [
          [
           0,
           "#0D2A63"
          ],
          [
           1,
           "#0D2A63"
          ]
         ],
         "geo": "geo",
         "hovertemplate": "<b>%{hovertext}</b><br><br>Paises=Netherlands<br>Code=%{location}<extra></extra>",
         "hovertext": [
          "Netherlands"
         ],
         "locations": [
          "NLD"
         ],
         "name": "Netherlands",
         "showlegend": true,
         "showscale": false,
         "type": "choropleth",
         "z": [
          1
         ]
        },
        {
         "colorscale": [
          [
           0,
           "#AF0038"
          ],
          [
           1,
           "#AF0038"
          ]
         ],
         "geo": "geo",
         "hovertemplate": "<b>%{hovertext}</b><br><br>Paises=Portugal<br>Code=%{location}<extra></extra>",
         "hovertext": [
          "Portugal"
         ],
         "locations": [
          "PRT"
         ],
         "name": "Portugal",
         "showlegend": true,
         "showscale": false,
         "type": "choropleth",
         "z": [
          1
         ]
        },
        {
         "colorscale": [
          [
           0,
           "#2E91E5"
          ],
          [
           1,
           "#2E91E5"
          ]
         ],
         "geo": "geo",
         "hovertemplate": "<b>%{hovertext}</b><br><br>Paises=Costa Rica<br>Code=%{location}<extra></extra>",
         "hovertext": [
          "Costa Rica"
         ],
         "locations": [
          "CRI"
         ],
         "name": "Costa Rica",
         "showlegend": true,
         "showscale": false,
         "type": "choropleth",
         "z": [
          1
         ]
        },
        {
         "colorscale": [
          [
           0,
           "#E15F99"
          ],
          [
           1,
           "#E15F99"
          ]
         ],
         "geo": "geo",
         "hovertemplate": "<b>%{hovertext}</b><br><br>Paises=United States<br>Code=%{location}<extra></extra>",
         "hovertext": [
          "United States"
         ],
         "locations": [
          "USA"
         ],
         "name": "United States",
         "showlegend": true,
         "showscale": false,
         "type": "choropleth",
         "z": [
          1
         ]
        },
        {
         "colorscale": [
          [
           0,
           "#1CA71C"
          ],
          [
           1,
           "#1CA71C"
          ]
         ],
         "geo": "geo",
         "hovertemplate": "<b>%{hovertext}</b><br><br>Paises=Germany<br>Code=%{location}<extra></extra>",
         "hovertext": [
          "Germany"
         ],
         "locations": [
          "DEU"
         ],
         "name": "Germany",
         "showlegend": true,
         "showscale": false,
         "type": "choropleth",
         "z": [
          1
         ]
        },
        {
         "colorscale": [
          [
           0,
           "#FB0D0D"
          ],
          [
           1,
           "#FB0D0D"
          ]
         ],
         "geo": "geo",
         "hovertemplate": "<b>%{hovertext}</b><br><br>Paises=Japan<br>Code=%{location}<extra></extra>",
         "hovertext": [
          "Japan"
         ],
         "locations": [
          "JPN"
         ],
         "name": "Japan",
         "showlegend": true,
         "showscale": false,
         "type": "choropleth",
         "z": [
          1
         ]
        },
        {
         "colorscale": [
          [
           0,
           "#DA16FF"
          ],
          [
           1,
           "#DA16FF"
          ]
         ],
         "geo": "geo",
         "hovertemplate": "<b>%{hovertext}</b><br><br>Paises=Switzerland<br>Code=%{location}<extra></extra>",
         "hovertext": [
          "Switzerland"
         ],
         "locations": [
          "CHE"
         ],
         "name": "Switzerland",
         "showlegend": true,
         "showscale": false,
         "type": "choropleth",
         "z": [
          1
         ]
        },
        {
         "colorscale": [
          [
           0,
           "#222A2A"
          ],
          [
           1,
           "#222A2A"
          ]
         ],
         "geo": "geo",
         "hovertemplate": "<b>%{hovertext}</b><br><br>Paises=Poland<br>Code=%{location}<extra></extra>",
         "hovertext": [
          "Poland"
         ],
         "locations": [
          "POL"
         ],
         "name": "Poland",
         "showlegend": true,
         "showscale": false,
         "type": "choropleth",
         "z": [
          1
         ]
        },
        {
         "colorscale": [
          [
           0,
           "#B68100"
          ],
          [
           1,
           "#B68100"
          ]
         ],
         "geo": "geo",
         "hovertemplate": "<b>%{hovertext}</b><br><br>Paises=England<br>Code=%{location}<extra></extra>",
         "hovertext": [
          "England"
         ],
         "locations": [
          "GBR"
         ],
         "name": "England",
         "showlegend": true,
         "showscale": false,
         "type": "choropleth",
         "z": [
          1
         ]
        },
        {
         "colorscale": [
          [
           0,
           "#750D86"
          ],
          [
           1,
           "#750D86"
          ]
         ],
         "geo": "geo",
         "hovertemplate": "<b>%{hovertext}</b><br><br>Paises=Korea Republic<br>Code=%{location}<extra></extra>",
         "hovertext": [
          "Korea Republic"
         ],
         "locations": [
          "KR"
         ],
         "name": "Korea Republic",
         "showlegend": true,
         "showscale": false,
         "type": "choropleth",
         "z": [
          1
         ]
        }
       ],
       "layout": {
        "coloraxis": {
         "showscale": false
        },
        "geo": {
         "center": {},
         "domain": {
          "x": [
           0,
           1
          ],
          "y": [
           0,
           1
          ]
         },
         "projection": {
          "type": "natural earth"
         }
        },
        "legend": {
         "title": {
          "text": "Paises"
         },
         "tracegroupgap": 0
        },
        "template": {
         "data": {
          "bar": [
           {
            "error_x": {
             "color": "#2a3f5f"
            },
            "error_y": {
             "color": "#2a3f5f"
            },
            "marker": {
             "line": {
              "color": "#E5ECF6",
              "width": 0.5
             },
             "pattern": {
              "fillmode": "overlay",
              "size": 10,
              "solidity": 0.2
             }
            },
            "type": "bar"
           }
          ],
          "barpolar": [
           {
            "marker": {
             "line": {
              "color": "#E5ECF6",
              "width": 0.5
             },
             "pattern": {
              "fillmode": "overlay",
              "size": 10,
              "solidity": 0.2
             }
            },
            "type": "barpolar"
           }
          ],
          "carpet": [
           {
            "aaxis": {
             "endlinecolor": "#2a3f5f",
             "gridcolor": "white",
             "linecolor": "white",
             "minorgridcolor": "white",
             "startlinecolor": "#2a3f5f"
            },
            "baxis": {
             "endlinecolor": "#2a3f5f",
             "gridcolor": "white",
             "linecolor": "white",
             "minorgridcolor": "white",
             "startlinecolor": "#2a3f5f"
            },
            "type": "carpet"
           }
          ],
          "choropleth": [
           {
            "colorbar": {
             "outlinewidth": 0,
             "ticks": ""
            },
            "type": "choropleth"
           }
          ],
          "contour": [
           {
            "colorbar": {
             "outlinewidth": 0,
             "ticks": ""
            },
            "colorscale": [
             [
              0,
              "#0d0887"
             ],
             [
              0.1111111111111111,
              "#46039f"
             ],
             [
              0.2222222222222222,
              "#7201a8"
             ],
             [
              0.3333333333333333,
              "#9c179e"
             ],
             [
              0.4444444444444444,
              "#bd3786"
             ],
             [
              0.5555555555555556,
              "#d8576b"
             ],
             [
              0.6666666666666666,
              "#ed7953"
             ],
             [
              0.7777777777777778,
              "#fb9f3a"
             ],
             [
              0.8888888888888888,
              "#fdca26"
             ],
             [
              1,
              "#f0f921"
             ]
            ],
            "type": "contour"
           }
          ],
          "contourcarpet": [
           {
            "colorbar": {
             "outlinewidth": 0,
             "ticks": ""
            },
            "type": "contourcarpet"
           }
          ],
          "heatmap": [
           {
            "colorbar": {
             "outlinewidth": 0,
             "ticks": ""
            },
            "colorscale": [
             [
              0,
              "#0d0887"
             ],
             [
              0.1111111111111111,
              "#46039f"
             ],
             [
              0.2222222222222222,
              "#7201a8"
             ],
             [
              0.3333333333333333,
              "#9c179e"
             ],
             [
              0.4444444444444444,
              "#bd3786"
             ],
             [
              0.5555555555555556,
              "#d8576b"
             ],
             [
              0.6666666666666666,
              "#ed7953"
             ],
             [
              0.7777777777777778,
              "#fb9f3a"
             ],
             [
              0.8888888888888888,
              "#fdca26"
             ],
             [
              1,
              "#f0f921"
             ]
            ],
            "type": "heatmap"
           }
          ],
          "heatmapgl": [
           {
            "colorbar": {
             "outlinewidth": 0,
             "ticks": ""
            },
            "colorscale": [
             [
              0,
              "#0d0887"
             ],
             [
              0.1111111111111111,
              "#46039f"
             ],
             [
              0.2222222222222222,
              "#7201a8"
             ],
             [
              0.3333333333333333,
              "#9c179e"
             ],
             [
              0.4444444444444444,
              "#bd3786"
             ],
             [
              0.5555555555555556,
              "#d8576b"
             ],
             [
              0.6666666666666666,
              "#ed7953"
             ],
             [
              0.7777777777777778,
              "#fb9f3a"
             ],
             [
              0.8888888888888888,
              "#fdca26"
             ],
             [
              1,
              "#f0f921"
             ]
            ],
            "type": "heatmapgl"
           }
          ],
          "histogram": [
           {
            "marker": {
             "pattern": {
              "fillmode": "overlay",
              "size": 10,
              "solidity": 0.2
             }
            },
            "type": "histogram"
           }
          ],
          "histogram2d": [
           {
            "colorbar": {
             "outlinewidth": 0,
             "ticks": ""
            },
            "colorscale": [
             [
              0,
              "#0d0887"
             ],
             [
              0.1111111111111111,
              "#46039f"
             ],
             [
              0.2222222222222222,
              "#7201a8"
             ],
             [
              0.3333333333333333,
              "#9c179e"
             ],
             [
              0.4444444444444444,
              "#bd3786"
             ],
             [
              0.5555555555555556,
              "#d8576b"
             ],
             [
              0.6666666666666666,
              "#ed7953"
             ],
             [
              0.7777777777777778,
              "#fb9f3a"
             ],
             [
              0.8888888888888888,
              "#fdca26"
             ],
             [
              1,
              "#f0f921"
             ]
            ],
            "type": "histogram2d"
           }
          ],
          "histogram2dcontour": [
           {
            "colorbar": {
             "outlinewidth": 0,
             "ticks": ""
            },
            "colorscale": [
             [
              0,
              "#0d0887"
             ],
             [
              0.1111111111111111,
              "#46039f"
             ],
             [
              0.2222222222222222,
              "#7201a8"
             ],
             [
              0.3333333333333333,
              "#9c179e"
             ],
             [
              0.4444444444444444,
              "#bd3786"
             ],
             [
              0.5555555555555556,
              "#d8576b"
             ],
             [
              0.6666666666666666,
              "#ed7953"
             ],
             [
              0.7777777777777778,
              "#fb9f3a"
             ],
             [
              0.8888888888888888,
              "#fdca26"
             ],
             [
              1,
              "#f0f921"
             ]
            ],
            "type": "histogram2dcontour"
           }
          ],
          "mesh3d": [
           {
            "colorbar": {
             "outlinewidth": 0,
             "ticks": ""
            },
            "type": "mesh3d"
           }
          ],
          "parcoords": [
           {
            "line": {
             "colorbar": {
              "outlinewidth": 0,
              "ticks": ""
             }
            },
            "type": "parcoords"
           }
          ],
          "pie": [
           {
            "automargin": true,
            "type": "pie"
           }
          ],
          "scatter": [
           {
            "fillpattern": {
             "fillmode": "overlay",
             "size": 10,
             "solidity": 0.2
            },
            "type": "scatter"
           }
          ],
          "scatter3d": [
           {
            "line": {
             "colorbar": {
              "outlinewidth": 0,
              "ticks": ""
             }
            },
            "marker": {
             "colorbar": {
              "outlinewidth": 0,
              "ticks": ""
             }
            },
            "type": "scatter3d"
           }
          ],
          "scattercarpet": [
           {
            "marker": {
             "colorbar": {
              "outlinewidth": 0,
              "ticks": ""
             }
            },
            "type": "scattercarpet"
           }
          ],
          "scattergeo": [
           {
            "marker": {
             "colorbar": {
              "outlinewidth": 0,
              "ticks": ""
             }
            },
            "type": "scattergeo"
           }
          ],
          "scattergl": [
           {
            "marker": {
             "colorbar": {
              "outlinewidth": 0,
              "ticks": ""
             }
            },
            "type": "scattergl"
           }
          ],
          "scattermapbox": [
           {
            "marker": {
             "colorbar": {
              "outlinewidth": 0,
              "ticks": ""
             }
            },
            "type": "scattermapbox"
           }
          ],
          "scatterpolar": [
           {
            "marker": {
             "colorbar": {
              "outlinewidth": 0,
              "ticks": ""
             }
            },
            "type": "scatterpolar"
           }
          ],
          "scatterpolargl": [
           {
            "marker": {
             "colorbar": {
              "outlinewidth": 0,
              "ticks": ""
             }
            },
            "type": "scatterpolargl"
           }
          ],
          "scatterternary": [
           {
            "marker": {
             "colorbar": {
              "outlinewidth": 0,
              "ticks": ""
             }
            },
            "type": "scatterternary"
           }
          ],
          "surface": [
           {
            "colorbar": {
             "outlinewidth": 0,
             "ticks": ""
            },
            "colorscale": [
             [
              0,
              "#0d0887"
             ],
             [
              0.1111111111111111,
              "#46039f"
             ],
             [
              0.2222222222222222,
              "#7201a8"
             ],
             [
              0.3333333333333333,
              "#9c179e"
             ],
             [
              0.4444444444444444,
              "#bd3786"
             ],
             [
              0.5555555555555556,
              "#d8576b"
             ],
             [
              0.6666666666666666,
              "#ed7953"
             ],
             [
              0.7777777777777778,
              "#fb9f3a"
             ],
             [
              0.8888888888888888,
              "#fdca26"
             ],
             [
              1,
              "#f0f921"
             ]
            ],
            "type": "surface"
           }
          ],
          "table": [
           {
            "cells": {
             "fill": {
              "color": "#EBF0F8"
             },
             "line": {
              "color": "white"
             }
            },
            "header": {
             "fill": {
              "color": "#C8D4E3"
             },
             "line": {
              "color": "white"
             }
            },
            "type": "table"
           }
          ]
         },
         "layout": {
          "annotationdefaults": {
           "arrowcolor": "#2a3f5f",
           "arrowhead": 0,
           "arrowwidth": 1
          },
          "autotypenumbers": "strict",
          "coloraxis": {
           "colorbar": {
            "outlinewidth": 0,
            "ticks": ""
           }
          },
          "colorscale": {
           "diverging": [
            [
             0,
             "#8e0152"
            ],
            [
             0.1,
             "#c51b7d"
            ],
            [
             0.2,
             "#de77ae"
            ],
            [
             0.3,
             "#f1b6da"
            ],
            [
             0.4,
             "#fde0ef"
            ],
            [
             0.5,
             "#f7f7f7"
            ],
            [
             0.6,
             "#e6f5d0"
            ],
            [
             0.7,
             "#b8e186"
            ],
            [
             0.8,
             "#7fbc41"
            ],
            [
             0.9,
             "#4d9221"
            ],
            [
             1,
             "#276419"
            ]
           ],
           "sequential": [
            [
             0,
             "#0d0887"
            ],
            [
             0.1111111111111111,
             "#46039f"
            ],
            [
             0.2222222222222222,
             "#7201a8"
            ],
            [
             0.3333333333333333,
             "#9c179e"
            ],
            [
             0.4444444444444444,
             "#bd3786"
            ],
            [
             0.5555555555555556,
             "#d8576b"
            ],
            [
             0.6666666666666666,
             "#ed7953"
            ],
            [
             0.7777777777777778,
             "#fb9f3a"
            ],
            [
             0.8888888888888888,
             "#fdca26"
            ],
            [
             1,
             "#f0f921"
            ]
           ],
           "sequentialminus": [
            [
             0,
             "#0d0887"
            ],
            [
             0.1111111111111111,
             "#46039f"
            ],
            [
             0.2222222222222222,
             "#7201a8"
            ],
            [
             0.3333333333333333,
             "#9c179e"
            ],
            [
             0.4444444444444444,
             "#bd3786"
            ],
            [
             0.5555555555555556,
             "#d8576b"
            ],
            [
             0.6666666666666666,
             "#ed7953"
            ],
            [
             0.7777777777777778,
             "#fb9f3a"
            ],
            [
             0.8888888888888888,
             "#fdca26"
            ],
            [
             1,
             "#f0f921"
            ]
           ]
          },
          "colorway": [
           "#636efa",
           "#EF553B",
           "#00cc96",
           "#ab63fa",
           "#FFA15A",
           "#19d3f3",
           "#FF6692",
           "#B6E880",
           "#FF97FF",
           "#FECB52"
          ],
          "font": {
           "color": "#2a3f5f"
          },
          "geo": {
           "bgcolor": "white",
           "lakecolor": "white",
           "landcolor": "#E5ECF6",
           "showlakes": true,
           "showland": true,
           "subunitcolor": "white"
          },
          "hoverlabel": {
           "align": "left"
          },
          "hovermode": "closest",
          "mapbox": {
           "style": "light"
          },
          "paper_bgcolor": "white",
          "plot_bgcolor": "#E5ECF6",
          "polar": {
           "angularaxis": {
            "gridcolor": "white",
            "linecolor": "white",
            "ticks": ""
           },
           "bgcolor": "#E5ECF6",
           "radialaxis": {
            "gridcolor": "white",
            "linecolor": "white",
            "ticks": ""
           }
          },
          "scene": {
           "xaxis": {
            "backgroundcolor": "#E5ECF6",
            "gridcolor": "white",
            "gridwidth": 2,
            "linecolor": "white",
            "showbackground": true,
            "ticks": "",
            "zerolinecolor": "white"
           },
           "yaxis": {
            "backgroundcolor": "#E5ECF6",
            "gridcolor": "white",
            "gridwidth": 2,
            "linecolor": "white",
            "showbackground": true,
            "ticks": "",
            "zerolinecolor": "white"
           },
           "zaxis": {
            "backgroundcolor": "#E5ECF6",
            "gridcolor": "white",
            "gridwidth": 2,
            "linecolor": "white",
            "showbackground": true,
            "ticks": "",
            "zerolinecolor": "white"
           }
          },
          "shapedefaults": {
           "line": {
            "color": "#2a3f5f"
           }
          },
          "ternary": {
           "aaxis": {
            "gridcolor": "white",
            "linecolor": "white",
            "ticks": ""
           },
           "baxis": {
            "gridcolor": "white",
            "linecolor": "white",
            "ticks": ""
           },
           "bgcolor": "#E5ECF6",
           "caxis": {
            "gridcolor": "white",
            "linecolor": "white",
            "ticks": ""
           }
          },
          "title": {
           "x": 0.05
          },
          "xaxis": {
           "automargin": true,
           "gridcolor": "white",
           "linecolor": "white",
           "ticks": "",
           "title": {
            "standoff": 15
           },
           "zerolinecolor": "white",
           "zerolinewidth": 2
          },
          "yaxis": {
           "automargin": true,
           "gridcolor": "white",
           "linecolor": "white",
           "ticks": "",
           "title": {
            "standoff": 15
           },
           "zerolinecolor": "white",
           "zerolinewidth": 2
          }
         }
        },
        "title": {
         "text": "FIFA WORLD CUP 2022 TEAMS"
        },
        "width": 900
       }
      }
     },
     "metadata": {},
     "output_type": "display_data"
    }
   ],
   "source": [
    "fig = px.choropleth(x, locations=\"Code\", \n",
    "                    color='Paises', hover_name=\"Paises\", \n",
    "                    projection=\"natural earth\", width=900,\n",
    "                    color_discrete_sequence=px.colors.qualitative.Dark24,     \n",
    "                    title='FIFA WORLD CUP 2022 TEAMS')\n",
    "fig.update(layout_coloraxis_showscale=False)\n",
    "#py.plot(fig, filename = 'mapa_confirmados_pais', auto_open=False)\n",
    "fig.show()"
   ]
  },
  {
   "cell_type": "code",
   "execution_count": 92,
   "metadata": {},
   "outputs": [
    {
     "data": {
      "application/vnd.plotly.v1+json": {
       "config": {
        "plotlyServerURL": "https://plotly.com"
       },
       "data": [
        {
         "colorscale": [
          [
           0,
           "#636efa"
          ],
          [
           1,
           "#636efa"
          ]
         ],
         "geo": "geo",
         "hovertemplate": "Paises=Australia<br>Code=%{location}<extra></extra>",
         "locations": [
          "AUS"
         ],
         "name": "Australia",
         "showlegend": true,
         "showscale": false,
         "type": "choropleth",
         "z": [
          1
         ]
        },
        {
         "colorscale": [
          [
           0,
           "#EF553B"
          ],
          [
           1,
           "#EF553B"
          ]
         ],
         "geo": "geo",
         "hovertemplate": "Paises=Wales<br>Code=%{location}<extra></extra>",
         "locations": [
          "IRL"
         ],
         "name": "Wales",
         "showlegend": true,
         "showscale": false,
         "type": "choropleth",
         "z": [
          1
         ]
        },
        {
         "colorscale": [
          [
           0,
           "#00cc96"
          ],
          [
           1,
           "#00cc96"
          ]
         ],
         "geo": "geo",
         "hovertemplate": "Paises=Morocco<br>Code=%{location}<extra></extra>",
         "locations": [
          "MAR"
         ],
         "name": "Morocco",
         "showlegend": true,
         "showscale": false,
         "type": "choropleth",
         "z": [
          1
         ]
        },
        {
         "colorscale": [
          [
           0,
           "#ab63fa"
          ],
          [
           1,
           "#ab63fa"
          ]
         ],
         "geo": "geo",
         "hovertemplate": "Paises=Qatar<br>Code=%{location}<extra></extra>",
         "locations": [
          "QAT"
         ],
         "name": "Qatar",
         "showlegend": true,
         "showscale": false,
         "type": "choropleth",
         "z": [
          1
         ]
        },
        {
         "colorscale": [
          [
           0,
           "#FFA15A"
          ],
          [
           1,
           "#FFA15A"
          ]
         ],
         "geo": "geo",
         "hovertemplate": "Paises=Senegal<br>Code=%{location}<extra></extra>",
         "locations": [
          "SEN"
         ],
         "name": "Senegal",
         "showlegend": true,
         "showscale": false,
         "type": "choropleth",
         "z": [
          1
         ]
        },
        {
         "colorscale": [
          [
           0,
           "#19d3f3"
          ],
          [
           1,
           "#19d3f3"
          ]
         ],
         "geo": "geo",
         "hovertemplate": "Paises=Ghana<br>Code=%{location}<extra></extra>",
         "locations": [
          "GHA"
         ],
         "name": "Ghana",
         "showlegend": true,
         "showscale": false,
         "type": "choropleth",
         "z": [
          1
         ]
        },
        {
         "colorscale": [
          [
           0,
           "#FF6692"
          ],
          [
           1,
           "#FF6692"
          ]
         ],
         "geo": "geo",
         "hovertemplate": "Paises=Saudi Arabia<br>Code=%{location}<extra></extra>",
         "locations": [
          "SAU"
         ],
         "name": "Saudi Arabia",
         "showlegend": true,
         "showscale": false,
         "type": "choropleth",
         "z": [
          1
         ]
        },
        {
         "colorscale": [
          [
           0,
           "#B6E880"
          ],
          [
           1,
           "#B6E880"
          ]
         ],
         "geo": "geo",
         "hovertemplate": "Paises=IR Iran<br>Code=%{location}<extra></extra>",
         "locations": [
          null
         ],
         "name": "IR Iran",
         "showlegend": true,
         "showscale": false,
         "type": "choropleth",
         "z": [
          1
         ]
        },
        {
         "colorscale": [
          [
           0,
           "#FF97FF"
          ],
          [
           1,
           "#FF97FF"
          ]
         ],
         "geo": "geo",
         "hovertemplate": "Paises=France<br>Code=%{location}<extra></extra>",
         "locations": [
          "FRA"
         ],
         "name": "France",
         "showlegend": true,
         "showscale": false,
         "type": "choropleth",
         "z": [
          1
         ]
        },
        {
         "colorscale": [
          [
           0,
           "#FECB52"
          ],
          [
           1,
           "#FECB52"
          ]
         ],
         "geo": "geo",
         "hovertemplate": "Paises=Uruguay<br>Code=%{location}<extra></extra>",
         "locations": [
          "URY"
         ],
         "name": "Uruguay",
         "showlegend": true,
         "showscale": false,
         "type": "choropleth",
         "z": [
          1
         ]
        },
        {
         "colorscale": [
          [
           0,
           "#636efa"
          ],
          [
           1,
           "#636efa"
          ]
         ],
         "geo": "geo",
         "hovertemplate": "Paises=Tunisia<br>Code=%{location}<extra></extra>",
         "locations": [
          "TUN"
         ],
         "name": "Tunisia",
         "showlegend": true,
         "showscale": false,
         "type": "choropleth",
         "z": [
          1
         ]
        },
        {
         "colorscale": [
          [
           0,
           "#EF553B"
          ],
          [
           1,
           "#EF553B"
          ]
         ],
         "geo": "geo",
         "hovertemplate": "Paises=Ecuador<br>Code=%{location}<extra></extra>",
         "locations": [
          "ECU"
         ],
         "name": "Ecuador",
         "showlegend": true,
         "showscale": false,
         "type": "choropleth",
         "z": [
          1
         ]
        },
        {
         "colorscale": [
          [
           0,
           "#00cc96"
          ],
          [
           1,
           "#00cc96"
          ]
         ],
         "geo": "geo",
         "hovertemplate": "Paises=Spain<br>Code=%{location}<extra></extra>",
         "locations": [
          "ESP"
         ],
         "name": "Spain",
         "showlegend": true,
         "showscale": false,
         "type": "choropleth",
         "z": [
          1
         ]
        },
        {
         "colorscale": [
          [
           0,
           "#ab63fa"
          ],
          [
           1,
           "#ab63fa"
          ]
         ],
         "geo": "geo",
         "hovertemplate": "Paises=Serbia<br>Code=%{location}<extra></extra>",
         "locations": [
          "SRB"
         ],
         "name": "Serbia",
         "showlegend": true,
         "showscale": false,
         "type": "choropleth",
         "z": [
          1
         ]
        },
        {
         "colorscale": [
          [
           0,
           "#FFA15A"
          ],
          [
           1,
           "#FFA15A"
          ]
         ],
         "geo": "geo",
         "hovertemplate": "Paises=Brazil<br>Code=%{location}<extra></extra>",
         "locations": [
          "BRA"
         ],
         "name": "Brazil",
         "showlegend": true,
         "showscale": false,
         "type": "choropleth",
         "z": [
          1
         ]
        },
        {
         "colorscale": [
          [
           0,
           "#19d3f3"
          ],
          [
           1,
           "#19d3f3"
          ]
         ],
         "geo": "geo",
         "hovertemplate": "Paises=Denmark<br>Code=%{location}<extra></extra>",
         "locations": [
          "DNK"
         ],
         "name": "Denmark",
         "showlegend": true,
         "showscale": false,
         "type": "choropleth",
         "z": [
          1
         ]
        },
        {
         "colorscale": [
          [
           0,
           "#FF6692"
          ],
          [
           1,
           "#FF6692"
          ]
         ],
         "geo": "geo",
         "hovertemplate": "Paises=Argentina<br>Code=%{location}<extra></extra>",
         "locations": [
          "ARG"
         ],
         "name": "Argentina",
         "showlegend": true,
         "showscale": false,
         "type": "choropleth",
         "z": [
          1
         ]
        },
        {
         "colorscale": [
          [
           0,
           "#B6E880"
          ],
          [
           1,
           "#B6E880"
          ]
         ],
         "geo": "geo",
         "hovertemplate": "Paises=Mexico<br>Code=%{location}<extra></extra>",
         "locations": [
          "MEX"
         ],
         "name": "Mexico",
         "showlegend": true,
         "showscale": false,
         "type": "choropleth",
         "z": [
          1
         ]
        },
        {
         "colorscale": [
          [
           0,
           "#FF97FF"
          ],
          [
           1,
           "#FF97FF"
          ]
         ],
         "geo": "geo",
         "hovertemplate": "Paises=Canada<br>Code=%{location}<extra></extra>",
         "locations": [
          "CAN"
         ],
         "name": "Canada",
         "showlegend": true,
         "showscale": false,
         "type": "choropleth",
         "z": [
          1
         ]
        },
        {
         "colorscale": [
          [
           0,
           "#FECB52"
          ],
          [
           1,
           "#FECB52"
          ]
         ],
         "geo": "geo",
         "hovertemplate": "Paises=Belgium<br>Code=%{location}<extra></extra>",
         "locations": [
          "BEL"
         ],
         "name": "Belgium",
         "showlegend": true,
         "showscale": false,
         "type": "choropleth",
         "z": [
          1
         ]
        },
        {
         "colorscale": [
          [
           0,
           "#636efa"
          ],
          [
           1,
           "#636efa"
          ]
         ],
         "geo": "geo",
         "hovertemplate": "Paises=Cameroon<br>Code=%{location}<extra></extra>",
         "locations": [
          "CMR"
         ],
         "name": "Cameroon",
         "showlegend": true,
         "showscale": false,
         "type": "choropleth",
         "z": [
          1
         ]
        },
        {
         "colorscale": [
          [
           0,
           "#EF553B"
          ],
          [
           1,
           "#EF553B"
          ]
         ],
         "geo": "geo",
         "hovertemplate": "Paises=Croatia<br>Code=%{location}<extra></extra>",
         "locations": [
          "HRV"
         ],
         "name": "Croatia",
         "showlegend": true,
         "showscale": false,
         "type": "choropleth",
         "z": [
          1
         ]
        },
        {
         "colorscale": [
          [
           0,
           "#00cc96"
          ],
          [
           1,
           "#00cc96"
          ]
         ],
         "geo": "geo",
         "hovertemplate": "Paises=Netherlands<br>Code=%{location}<extra></extra>",
         "locations": [
          "NLD"
         ],
         "name": "Netherlands",
         "showlegend": true,
         "showscale": false,
         "type": "choropleth",
         "z": [
          1
         ]
        },
        {
         "colorscale": [
          [
           0,
           "#ab63fa"
          ],
          [
           1,
           "#ab63fa"
          ]
         ],
         "geo": "geo",
         "hovertemplate": "Paises=Portugal<br>Code=%{location}<extra></extra>",
         "locations": [
          "PRT"
         ],
         "name": "Portugal",
         "showlegend": true,
         "showscale": false,
         "type": "choropleth",
         "z": [
          1
         ]
        },
        {
         "colorscale": [
          [
           0,
           "#FFA15A"
          ],
          [
           1,
           "#FFA15A"
          ]
         ],
         "geo": "geo",
         "hovertemplate": "Paises=Costa Rica<br>Code=%{location}<extra></extra>",
         "locations": [
          "CRI"
         ],
         "name": "Costa Rica",
         "showlegend": true,
         "showscale": false,
         "type": "choropleth",
         "z": [
          1
         ]
        },
        {
         "colorscale": [
          [
           0,
           "#19d3f3"
          ],
          [
           1,
           "#19d3f3"
          ]
         ],
         "geo": "geo",
         "hovertemplate": "Paises=United States<br>Code=%{location}<extra></extra>",
         "locations": [
          "USA"
         ],
         "name": "United States",
         "showlegend": true,
         "showscale": false,
         "type": "choropleth",
         "z": [
          1
         ]
        },
        {
         "colorscale": [
          [
           0,
           "#FF6692"
          ],
          [
           1,
           "#FF6692"
          ]
         ],
         "geo": "geo",
         "hovertemplate": "Paises=Germany<br>Code=%{location}<extra></extra>",
         "locations": [
          "DEU"
         ],
         "name": "Germany",
         "showlegend": true,
         "showscale": false,
         "type": "choropleth",
         "z": [
          1
         ]
        },
        {
         "colorscale": [
          [
           0,
           "#B6E880"
          ],
          [
           1,
           "#B6E880"
          ]
         ],
         "geo": "geo",
         "hovertemplate": "Paises=Japan<br>Code=%{location}<extra></extra>",
         "locations": [
          "JPN"
         ],
         "name": "Japan",
         "showlegend": true,
         "showscale": false,
         "type": "choropleth",
         "z": [
          1
         ]
        },
        {
         "colorscale": [
          [
           0,
           "#FF97FF"
          ],
          [
           1,
           "#FF97FF"
          ]
         ],
         "geo": "geo",
         "hovertemplate": "Paises=Switzerland<br>Code=%{location}<extra></extra>",
         "locations": [
          "CHE"
         ],
         "name": "Switzerland",
         "showlegend": true,
         "showscale": false,
         "type": "choropleth",
         "z": [
          1
         ]
        },
        {
         "colorscale": [
          [
           0,
           "#FECB52"
          ],
          [
           1,
           "#FECB52"
          ]
         ],
         "geo": "geo",
         "hovertemplate": "Paises=Poland<br>Code=%{location}<extra></extra>",
         "locations": [
          "POL"
         ],
         "name": "Poland",
         "showlegend": true,
         "showscale": false,
         "type": "choropleth",
         "z": [
          1
         ]
        },
        {
         "colorscale": [
          [
           0,
           "#636efa"
          ],
          [
           1,
           "#636efa"
          ]
         ],
         "geo": "geo",
         "hovertemplate": "Paises=England<br>Code=%{location}<extra></extra>",
         "locations": [
          "GBR"
         ],
         "name": "England",
         "showlegend": true,
         "showscale": false,
         "type": "choropleth",
         "z": [
          1
         ]
        },
        {
         "colorscale": [
          [
           0,
           "#EF553B"
          ],
          [
           1,
           "#EF553B"
          ]
         ],
         "geo": "geo",
         "hovertemplate": "Paises=Korea Republic<br>Code=%{location}<extra></extra>",
         "locations": [
          "KR"
         ],
         "name": "Korea Republic",
         "showlegend": true,
         "showscale": false,
         "type": "choropleth",
         "z": [
          1
         ]
        }
       ],
       "layout": {
        "geo": {
         "center": {},
         "domain": {
          "x": [
           0,
           1
          ],
          "y": [
           0,
           1
          ]
         },
         "scope": "world"
        },
        "legend": {
         "title": {
          "text": "Paises"
         },
         "tracegroupgap": 0
        },
        "margin": {
         "t": 60
        },
        "template": {
         "data": {
          "bar": [
           {
            "error_x": {
             "color": "#2a3f5f"
            },
            "error_y": {
             "color": "#2a3f5f"
            },
            "marker": {
             "line": {
              "color": "#E5ECF6",
              "width": 0.5
             },
             "pattern": {
              "fillmode": "overlay",
              "size": 10,
              "solidity": 0.2
             }
            },
            "type": "bar"
           }
          ],
          "barpolar": [
           {
            "marker": {
             "line": {
              "color": "#E5ECF6",
              "width": 0.5
             },
             "pattern": {
              "fillmode": "overlay",
              "size": 10,
              "solidity": 0.2
             }
            },
            "type": "barpolar"
           }
          ],
          "carpet": [
           {
            "aaxis": {
             "endlinecolor": "#2a3f5f",
             "gridcolor": "white",
             "linecolor": "white",
             "minorgridcolor": "white",
             "startlinecolor": "#2a3f5f"
            },
            "baxis": {
             "endlinecolor": "#2a3f5f",
             "gridcolor": "white",
             "linecolor": "white",
             "minorgridcolor": "white",
             "startlinecolor": "#2a3f5f"
            },
            "type": "carpet"
           }
          ],
          "choropleth": [
           {
            "colorbar": {
             "outlinewidth": 0,
             "ticks": ""
            },
            "type": "choropleth"
           }
          ],
          "contour": [
           {
            "colorbar": {
             "outlinewidth": 0,
             "ticks": ""
            },
            "colorscale": [
             [
              0,
              "#0d0887"
             ],
             [
              0.1111111111111111,
              "#46039f"
             ],
             [
              0.2222222222222222,
              "#7201a8"
             ],
             [
              0.3333333333333333,
              "#9c179e"
             ],
             [
              0.4444444444444444,
              "#bd3786"
             ],
             [
              0.5555555555555556,
              "#d8576b"
             ],
             [
              0.6666666666666666,
              "#ed7953"
             ],
             [
              0.7777777777777778,
              "#fb9f3a"
             ],
             [
              0.8888888888888888,
              "#fdca26"
             ],
             [
              1,
              "#f0f921"
             ]
            ],
            "type": "contour"
           }
          ],
          "contourcarpet": [
           {
            "colorbar": {
             "outlinewidth": 0,
             "ticks": ""
            },
            "type": "contourcarpet"
           }
          ],
          "heatmap": [
           {
            "colorbar": {
             "outlinewidth": 0,
             "ticks": ""
            },
            "colorscale": [
             [
              0,
              "#0d0887"
             ],
             [
              0.1111111111111111,
              "#46039f"
             ],
             [
              0.2222222222222222,
              "#7201a8"
             ],
             [
              0.3333333333333333,
              "#9c179e"
             ],
             [
              0.4444444444444444,
              "#bd3786"
             ],
             [
              0.5555555555555556,
              "#d8576b"
             ],
             [
              0.6666666666666666,
              "#ed7953"
             ],
             [
              0.7777777777777778,
              "#fb9f3a"
             ],
             [
              0.8888888888888888,
              "#fdca26"
             ],
             [
              1,
              "#f0f921"
             ]
            ],
            "type": "heatmap"
           }
          ],
          "heatmapgl": [
           {
            "colorbar": {
             "outlinewidth": 0,
             "ticks": ""
            },
            "colorscale": [
             [
              0,
              "#0d0887"
             ],
             [
              0.1111111111111111,
              "#46039f"
             ],
             [
              0.2222222222222222,
              "#7201a8"
             ],
             [
              0.3333333333333333,
              "#9c179e"
             ],
             [
              0.4444444444444444,
              "#bd3786"
             ],
             [
              0.5555555555555556,
              "#d8576b"
             ],
             [
              0.6666666666666666,
              "#ed7953"
             ],
             [
              0.7777777777777778,
              "#fb9f3a"
             ],
             [
              0.8888888888888888,
              "#fdca26"
             ],
             [
              1,
              "#f0f921"
             ]
            ],
            "type": "heatmapgl"
           }
          ],
          "histogram": [
           {
            "marker": {
             "pattern": {
              "fillmode": "overlay",
              "size": 10,
              "solidity": 0.2
             }
            },
            "type": "histogram"
           }
          ],
          "histogram2d": [
           {
            "colorbar": {
             "outlinewidth": 0,
             "ticks": ""
            },
            "colorscale": [
             [
              0,
              "#0d0887"
             ],
             [
              0.1111111111111111,
              "#46039f"
             ],
             [
              0.2222222222222222,
              "#7201a8"
             ],
             [
              0.3333333333333333,
              "#9c179e"
             ],
             [
              0.4444444444444444,
              "#bd3786"
             ],
             [
              0.5555555555555556,
              "#d8576b"
             ],
             [
              0.6666666666666666,
              "#ed7953"
             ],
             [
              0.7777777777777778,
              "#fb9f3a"
             ],
             [
              0.8888888888888888,
              "#fdca26"
             ],
             [
              1,
              "#f0f921"
             ]
            ],
            "type": "histogram2d"
           }
          ],
          "histogram2dcontour": [
           {
            "colorbar": {
             "outlinewidth": 0,
             "ticks": ""
            },
            "colorscale": [
             [
              0,
              "#0d0887"
             ],
             [
              0.1111111111111111,
              "#46039f"
             ],
             [
              0.2222222222222222,
              "#7201a8"
             ],
             [
              0.3333333333333333,
              "#9c179e"
             ],
             [
              0.4444444444444444,
              "#bd3786"
             ],
             [
              0.5555555555555556,
              "#d8576b"
             ],
             [
              0.6666666666666666,
              "#ed7953"
             ],
             [
              0.7777777777777778,
              "#fb9f3a"
             ],
             [
              0.8888888888888888,
              "#fdca26"
             ],
             [
              1,
              "#f0f921"
             ]
            ],
            "type": "histogram2dcontour"
           }
          ],
          "mesh3d": [
           {
            "colorbar": {
             "outlinewidth": 0,
             "ticks": ""
            },
            "type": "mesh3d"
           }
          ],
          "parcoords": [
           {
            "line": {
             "colorbar": {
              "outlinewidth": 0,
              "ticks": ""
             }
            },
            "type": "parcoords"
           }
          ],
          "pie": [
           {
            "automargin": true,
            "type": "pie"
           }
          ],
          "scatter": [
           {
            "fillpattern": {
             "fillmode": "overlay",
             "size": 10,
             "solidity": 0.2
            },
            "type": "scatter"
           }
          ],
          "scatter3d": [
           {
            "line": {
             "colorbar": {
              "outlinewidth": 0,
              "ticks": ""
             }
            },
            "marker": {
             "colorbar": {
              "outlinewidth": 0,
              "ticks": ""
             }
            },
            "type": "scatter3d"
           }
          ],
          "scattercarpet": [
           {
            "marker": {
             "colorbar": {
              "outlinewidth": 0,
              "ticks": ""
             }
            },
            "type": "scattercarpet"
           }
          ],
          "scattergeo": [
           {
            "marker": {
             "colorbar": {
              "outlinewidth": 0,
              "ticks": ""
             }
            },
            "type": "scattergeo"
           }
          ],
          "scattergl": [
           {
            "marker": {
             "colorbar": {
              "outlinewidth": 0,
              "ticks": ""
             }
            },
            "type": "scattergl"
           }
          ],
          "scattermapbox": [
           {
            "marker": {
             "colorbar": {
              "outlinewidth": 0,
              "ticks": ""
             }
            },
            "type": "scattermapbox"
           }
          ],
          "scatterpolar": [
           {
            "marker": {
             "colorbar": {
              "outlinewidth": 0,
              "ticks": ""
             }
            },
            "type": "scatterpolar"
           }
          ],
          "scatterpolargl": [
           {
            "marker": {
             "colorbar": {
              "outlinewidth": 0,
              "ticks": ""
             }
            },
            "type": "scatterpolargl"
           }
          ],
          "scatterternary": [
           {
            "marker": {
             "colorbar": {
              "outlinewidth": 0,
              "ticks": ""
             }
            },
            "type": "scatterternary"
           }
          ],
          "surface": [
           {
            "colorbar": {
             "outlinewidth": 0,
             "ticks": ""
            },
            "colorscale": [
             [
              0,
              "#0d0887"
             ],
             [
              0.1111111111111111,
              "#46039f"
             ],
             [
              0.2222222222222222,
              "#7201a8"
             ],
             [
              0.3333333333333333,
              "#9c179e"
             ],
             [
              0.4444444444444444,
              "#bd3786"
             ],
             [
              0.5555555555555556,
              "#d8576b"
             ],
             [
              0.6666666666666666,
              "#ed7953"
             ],
             [
              0.7777777777777778,
              "#fb9f3a"
             ],
             [
              0.8888888888888888,
              "#fdca26"
             ],
             [
              1,
              "#f0f921"
             ]
            ],
            "type": "surface"
           }
          ],
          "table": [
           {
            "cells": {
             "fill": {
              "color": "#EBF0F8"
             },
             "line": {
              "color": "white"
             }
            },
            "header": {
             "fill": {
              "color": "#C8D4E3"
             },
             "line": {
              "color": "white"
             }
            },
            "type": "table"
           }
          ]
         },
         "layout": {
          "annotationdefaults": {
           "arrowcolor": "#2a3f5f",
           "arrowhead": 0,
           "arrowwidth": 1
          },
          "autotypenumbers": "strict",
          "coloraxis": {
           "colorbar": {
            "outlinewidth": 0,
            "ticks": ""
           }
          },
          "colorscale": {
           "diverging": [
            [
             0,
             "#8e0152"
            ],
            [
             0.1,
             "#c51b7d"
            ],
            [
             0.2,
             "#de77ae"
            ],
            [
             0.3,
             "#f1b6da"
            ],
            [
             0.4,
             "#fde0ef"
            ],
            [
             0.5,
             "#f7f7f7"
            ],
            [
             0.6,
             "#e6f5d0"
            ],
            [
             0.7,
             "#b8e186"
            ],
            [
             0.8,
             "#7fbc41"
            ],
            [
             0.9,
             "#4d9221"
            ],
            [
             1,
             "#276419"
            ]
           ],
           "sequential": [
            [
             0,
             "#0d0887"
            ],
            [
             0.1111111111111111,
             "#46039f"
            ],
            [
             0.2222222222222222,
             "#7201a8"
            ],
            [
             0.3333333333333333,
             "#9c179e"
            ],
            [
             0.4444444444444444,
             "#bd3786"
            ],
            [
             0.5555555555555556,
             "#d8576b"
            ],
            [
             0.6666666666666666,
             "#ed7953"
            ],
            [
             0.7777777777777778,
             "#fb9f3a"
            ],
            [
             0.8888888888888888,
             "#fdca26"
            ],
            [
             1,
             "#f0f921"
            ]
           ],
           "sequentialminus": [
            [
             0,
             "#0d0887"
            ],
            [
             0.1111111111111111,
             "#46039f"
            ],
            [
             0.2222222222222222,
             "#7201a8"
            ],
            [
             0.3333333333333333,
             "#9c179e"
            ],
            [
             0.4444444444444444,
             "#bd3786"
            ],
            [
             0.5555555555555556,
             "#d8576b"
            ],
            [
             0.6666666666666666,
             "#ed7953"
            ],
            [
             0.7777777777777778,
             "#fb9f3a"
            ],
            [
             0.8888888888888888,
             "#fdca26"
            ],
            [
             1,
             "#f0f921"
            ]
           ]
          },
          "colorway": [
           "#636efa",
           "#EF553B",
           "#00cc96",
           "#ab63fa",
           "#FFA15A",
           "#19d3f3",
           "#FF6692",
           "#B6E880",
           "#FF97FF",
           "#FECB52"
          ],
          "font": {
           "color": "#2a3f5f"
          },
          "geo": {
           "bgcolor": "white",
           "lakecolor": "white",
           "landcolor": "#E5ECF6",
           "showlakes": true,
           "showland": true,
           "subunitcolor": "white"
          },
          "hoverlabel": {
           "align": "left"
          },
          "hovermode": "closest",
          "mapbox": {
           "style": "light"
          },
          "paper_bgcolor": "white",
          "plot_bgcolor": "#E5ECF6",
          "polar": {
           "angularaxis": {
            "gridcolor": "white",
            "linecolor": "white",
            "ticks": ""
           },
           "bgcolor": "#E5ECF6",
           "radialaxis": {
            "gridcolor": "white",
            "linecolor": "white",
            "ticks": ""
           }
          },
          "scene": {
           "xaxis": {
            "backgroundcolor": "#E5ECF6",
            "gridcolor": "white",
            "gridwidth": 2,
            "linecolor": "white",
            "showbackground": true,
            "ticks": "",
            "zerolinecolor": "white"
           },
           "yaxis": {
            "backgroundcolor": "#E5ECF6",
            "gridcolor": "white",
            "gridwidth": 2,
            "linecolor": "white",
            "showbackground": true,
            "ticks": "",
            "zerolinecolor": "white"
           },
           "zaxis": {
            "backgroundcolor": "#E5ECF6",
            "gridcolor": "white",
            "gridwidth": 2,
            "linecolor": "white",
            "showbackground": true,
            "ticks": "",
            "zerolinecolor": "white"
           }
          },
          "shapedefaults": {
           "line": {
            "color": "#2a3f5f"
           }
          },
          "ternary": {
           "aaxis": {
            "gridcolor": "white",
            "linecolor": "white",
            "ticks": ""
           },
           "baxis": {
            "gridcolor": "white",
            "linecolor": "white",
            "ticks": ""
           },
           "bgcolor": "#E5ECF6",
           "caxis": {
            "gridcolor": "white",
            "linecolor": "white",
            "ticks": ""
           }
          },
          "title": {
           "x": 0.05
          },
          "xaxis": {
           "automargin": true,
           "gridcolor": "white",
           "linecolor": "white",
           "ticks": "",
           "title": {
            "standoff": 15
           },
           "zerolinecolor": "white",
           "zerolinewidth": 2
          },
          "yaxis": {
           "automargin": true,
           "gridcolor": "white",
           "linecolor": "white",
           "ticks": "",
           "title": {
            "standoff": 15
           },
           "zerolinecolor": "white",
           "zerolinewidth": 2
          }
         }
        }
       }
      }
     },
     "metadata": {},
     "output_type": "display_data"
    }
   ],
   "source": [
    "fig = px. choropleth(x,\n",
    "                    locations = \"Code\",\n",
    "                    scope = \"world\",\n",
    "                    color='Paises')\n",
    "\n",
    "fig.show()"
   ]
  }
 ],
 "metadata": {
  "kernelspec": {
   "display_name": "espol_env",
   "language": "python",
   "name": "python3"
  },
  "language_info": {
   "codemirror_mode": {
    "name": "ipython",
    "version": 3
   },
   "file_extension": ".py",
   "mimetype": "text/x-python",
   "name": "python",
   "nbconvert_exporter": "python",
   "pygments_lexer": "ipython3",
   "version": "3.11.3"
  },
  "orig_nbformat": 4
 },
 "nbformat": 4,
 "nbformat_minor": 2
}
